{
  "nbformat": 4,
  "nbformat_minor": 0,
  "metadata": {
    "colab": {
      "provenance": []
    },
    "kernelspec": {
      "display_name": "Python 3",
      "language": "python",
      "name": "python3"
    },
    "language_info": {
      "codemirror_mode": {
        "name": "ipython",
        "version": 3
      },
      "file_extension": ".py",
      "mimetype": "text/x-python",
      "name": "python",
      "nbconvert_exporter": "python",
      "pygments_lexer": "ipython3",
      "version": "3.8.5"
    },
    "toc": {
      "colors": {
        "hover_highlight": "#DAA520",
        "running_highlight": "#FF0000",
        "selected_highlight": "#FFD700"
      },
      "moveMenuLeft": true,
      "nav_menu": {
        "height": "318px",
        "width": "252px"
      },
      "navigate_menu": true,
      "number_sections": true,
      "sideBar": true,
      "threshold": 4,
      "toc_cell": false,
      "toc_section_display": "block",
      "toc_window_display": false,
      "widenNotebook": false
    }
  },
  "cells": [
    {
      "cell_type": "markdown",
      "source": [
        "# This is part of Asg8 of CS3100, Fall 2024.\n",
        "\n",
        "# **== Look at \"THIS IS YOUR QUESTION\" for your actual question, far below ==**"
      ],
      "metadata": {
        "id": "FWKapNmJjymr"
      }
    },
    {
      "cell_type": "code",
      "metadata": {
        "id": "g8PM6TIXtZha",
        "run_control": {
          "frozen": false,
          "read_only": false
        }
      },
      "source": [
        "#~~~~~~~~~~~~~~~~~~~~~~~~~~~~~~~~~~~~~~~~~~~~~~~~~~~~~~~\n",
        "import sys\n",
        "\n",
        "sys.path[0:0] = ['./Jove/pbl/python',\n",
        "                   './Jove/pbl/python/BDD_V2',\n",
        "                   './Jove/pbl/python/BDD_V2/BDD_V2',\n",
        "                   './Jove/pbl/python/BDD_V2/BDD_V2/include',\n",
        "                   './Jove/pbl/python/PyBool',\n",
        "                   './Jove/pbl/python/PyBool/include',\n",
        "                   './Jove/pbl/python/PyBool/include/ply'\n",
        "                ]\n",
        "! if [ ! -d Jove ]; then git clone https://github.com/ganeshutah/Jove Jove; fi"
      ],
      "execution_count": null,
      "outputs": []
    },
    {
      "cell_type": "code",
      "metadata": {
        "id": "3_v_avMUtZhg",
        "run_control": {
          "frozen": false,
          "read_only": false
        }
      },
      "source": [
        "from BDD import *\n",
        "from BDD_ite import *\n",
        "from BDD_ite1 import *\n",
        "from dot_bdd import *\n",
        "\n",
        "from PBL_CNF import *\n",
        "from PBL_NNE import *\n",
        "\n",
        "from PyBool_algorithms import *\n",
        "from PyBool_builder import *\n",
        "from PyBool_dimacs_parse import *\n",
        "from PyBool_public_interface import *\n",
        "from PyBool_std_parse import *\n",
        "\n",
        "from ply import *\n",
        "from cpp import *\n",
        "from ctokens import *\n",
        "from lex import *\n",
        "from yacc import *\n",
        "from buildBDD import *\n",
        "from buildBDDMin import *\n",
        "from common import *\n",
        "#~~~~~~~~~~~~~~~~~~~~~~~~~~~~~~~~~~~~~~~~~~~~~~~~~~~~~~~"
      ],
      "execution_count": null,
      "outputs": []
    },
    {
      "cell_type": "markdown",
      "source": [
        "# **-- First, some BDD documentation--**\n",
        "\n"
      ],
      "metadata": {
        "id": "WJ584yKusLga"
      }
    },
    {
      "cell_type": "markdown",
      "metadata": {
        "id": "lcddzGErlzb3"
      },
      "source": [
        "# Here is the language specification for using BDDs\n",
        "\n",
        "\n",
        "Tyler Sorensen\n",
        "February 18, 2012\n",
        "University of Utah\n",
        "\n",
        "This file contains the Specs for the standard input language of PyBool\n",
        "It was implemented using the ply python package and all code can\n",
        "be found in the file PyBool_std_parse.py.\n",
        "\n",
        "\n",
        "-------------------------------------------------------------\n",
        "---Legal Operators-------------------------------------------\n",
        "-------------------------------------------------------------\n",
        "\n",
        "The legal operators are:\n",
        "\n",
        "And -            noted: &\n",
        "Or -             noted: |\n",
        "logically equal- noted: <=>\n",
        "implies -\t noted: =>\n",
        "not -\t\t noted: ~\n",
        "Exclusive or -\t noted: XOR\n",
        "Parenthesis  -   noted: ( )\n",
        "\n",
        "They corespond to their usual meaning in Boolean Algebra\n",
        "\n",
        "-------------------------------------------------------------\n",
        "---Key Words-------------------------------------------------\n",
        "-------------------------------------------------------------\n",
        "\n",
        "The following are keywords that cannot be used as variable\n",
        "names along with a brief description\n",
        "\n",
        "Var_Order\n",
        "Used in declaring the variable ordering\n",
        "\n",
        "Main_Exp\n",
        "Used in identifying the expression to consider\n",
        "\n",
        "XOR\n",
        "the exclusive or operator\n",
        "\n",
        "-------------------------------------------------------------\n",
        "---Key Words and Variables-----------------------------------\n",
        "-------------------------------------------------------------\n",
        "\n",
        "Variables, much like any other language are a string of characters.\n",
        "\n",
        "The restrictions on variable names are the following:\n",
        "\n",
        "-Cannot start with a symbol or a 0 or 1 (must start with a letter)\n",
        "\n",
        "-Cannot be a keyword\n",
        "\n",
        "There are two types of variables, literal variables and formula\n",
        "variables.\n",
        "\n",
        "Literal variables hold a 0 or a 1\n",
        "\n",
        "Formula variables hold an expression and are declared simply by assigning\n",
        "them.\n",
        "\n",
        "-------------------------------------------------------------\n",
        "--Variable Declaration---------------------------------------\n",
        "-------------------------------------------------------------\n",
        "\n",
        "-Literal Variables and Var_Order\n",
        "\n",
        "Some applications of Boolean formula require an explicit variable\n",
        "ordering to be declared. This is what the Var_Order keyword is for.\n",
        "To explicity declare a variable order, simply write\n",
        "Var_Order : List_of_Variables\n",
        "\n",
        "example:\n",
        "Var_Order : x1 x2 x3\n",
        "\n",
        "You are not limited to one Var_Order statement, as you might want\n",
        "to add variables later on, just don't repeat variable declarations.\n",
        "\n",
        "-Formula Variables\n",
        "\n",
        "To declare a formula variable, simply use the assignment operator '='\n",
        "For example, if you wanted the variable X to hold the following formula:\n",
        "x1 & x2 & ~x3 you would simply write the line:\n",
        "\n",
        "X = x1 & x2 & ~x3\n",
        "\n",
        "Now X can be used in other formulas in place of x1 & x2 & ~x3\n",
        "\n",
        "-------------------------------------------------------------\n",
        "--Main_Exp---------------------------------------------------\n",
        "-------------------------------------------------------------\n",
        "\n",
        "Once you have all your expression written, you need to tell the\n",
        "BDD which expression you actually want solved. It can be useful\n",
        "to have many \"sub\" expression but only solve certain combinations\n",
        "of them at a time. This is done with the Main_Exp keyword.\n",
        "\n",
        "Say you have two formulas stored in X1 and X2 and you want to\n",
        "solve the conjunction of the formulas, you would write:\n",
        "\n",
        "Main_Exp : X1 & X2\n",
        "\n",
        "Notice how Main_Exp is followed by a ':'\n",
        "\n",
        "In general Main_Exp is\n",
        "\n",
        "Main_Exp : expression\n",
        "\n",
        "where expression is any valid expression consisting of literals,\n",
        "literal variables or formula variables.\n",
        "\n",
        "-------------------------------------------------------------\n",
        "--Misc--------------------------------------------------------\n",
        "-------------------------------------------------------------\n",
        "\n",
        "A few final points:\n",
        "\n",
        "Comments are started with a # symbol will render the rest\n",
        "of the line as a comment.\n",
        "\n",
        "Semi Colons are ignored, so if it is your style to end lines with\n",
        "a semi colon, please do so.\n",
        "\n",
        "-------------------------------------------------------------\n",
        "\n",
        "## **--Next, one example for you to look at--**\n"
      ]
    },
    {
      "cell_type": "markdown",
      "metadata": {
        "id": "b2P34lEklzcA"
      },
      "source": [
        "## The example for you to look at is Lewis Carroll's Example of \"Wise Young Pigs\"\n",
        "\n",
        "  First try by setting Extra to 1 (i.e. Extra = 1) and run\n",
        "  This is a \"Forgotten English Fact\" that will almost give you\n",
        "  a 0 node (counterexample) ... but if you read the path, you will\n",
        "  see that we must have this Extra condition that old <-> ~young.\n",
        "  Once that is added, we get a full counterexample. This is a neat\n",
        "  way to teach proofs in a fun way!"
      ]
    },
    {
      "cell_type": "code",
      "metadata": {
        "id": "tHUYBVi4lzcB"
      },
      "source": [
        "# Also called Wise Balloonist\n",
        "\n",
        "Carroll='''\n",
        "#Input for a Lewis Carroll problem\n",
        "#Written in the mark up language for the python BDD manager\n",
        "\n",
        "#Declare all the variables. Notice how you can use\n",
        "#more than one line.\n",
        "Var_Order : eatPennyBuns old young danceTightRopes\n",
        "Var_Order : pigs respect giddy publicLunch ridiculous\n",
        "Var_Order : umbrella fat wise balloon\n",
        "\n",
        "#These are the Premises\n",
        "P1 = (~danceTightRopes & ~eatPennyBuns) => old\n",
        "P2 = (pigs & giddy) => respect\n",
        "P3 = (ridiculous & eatPennyBuns) => ~publicLunch\n",
        "P4 = (young & balloon) => giddy\n",
        "P5 = (wise & balloon) => umbrella\n",
        "P6 = (fat & ridiculous & ~danceTightRopes) => publicLunch\n",
        "P7 = (wise & giddy) => ~danceTightRopes\n",
        "P8 = (pigs & umbrella) => ridiculous\n",
        "P9 = (~danceTightRopes & respect) => fat\n",
        "\n",
        "# Extra Frame Axiom needed\n",
        "# A frame axiom in AI is something that humans know but logic might not\n",
        "# E.g. \"All birds can fly... except if their feet are stuck in concrete\"\n",
        "# The frame condition is the \"stuck in concrete\"\n",
        "# Like that you have to aim to prove by contradiction only in the presence\n",
        "# of the extra Frame_Axiom\n",
        "\n",
        "# YOU WILL NOT get a contradiction initially\n",
        "# THEN you must look at the BDD and figure out what went wrong\n",
        "# (what real-world fact you overlooked)\n",
        "# Incorporate that by changing \"1\" below to that condition\n",
        "# Then you ought to get your big red 0 square, showing that\n",
        "# the contradiction is achieved!\n",
        "\n",
        "Frame_Axiom = 1 # change the \"1\" to (old <=> !young) to induce contradiction\n",
        "\n",
        "\n",
        "#This is the conclusion\n",
        "C = (wise & young & pigs) => ~balloon\n",
        "\n",
        "#This is all the premises conjoined\n",
        "P_All = P1 & P2 & P3 & P4 & P5 & P6 & P7 & P8 & P9\n",
        "\n",
        "#The main expression to be considered.\n",
        "Main_Exp : P_All & Frame_Axiom & ~C\n",
        "'''"
      ],
      "execution_count": null,
      "outputs": []
    },
    {
      "cell_type": "code",
      "metadata": {
        "id": "WwrcZjChlzcC"
      },
      "source": [
        "buildBDDmain(Carroll.splitlines())\n",
        "\n",
        "import graphviz\n",
        "from IPython.display import Image\n",
        "import pydot\n",
        "\n",
        "graphs = pydot.graph_from_dot_file(final_dot_file+\".dot\")\n",
        "graph = graphs[0]\n",
        "graph.write_png(final_dot_file+'.png')\n",
        "from IPython.display import Image\n",
        "Image(final_dot_file+'.png', width=600)"
      ],
      "execution_count": null,
      "outputs": []
    },
    {
      "cell_type": "markdown",
      "source": [
        "# Repairing the above problem by introducing the right extra constraint in \"Frame_Axiom\" above (see hint provided above) indeed produces a contradiction. This ends our demo of how the BDD package is used in our assignments."
      ],
      "metadata": {
        "id": "kgLqY95CHxO6"
      }
    },
    {
      "cell_type": "code",
      "source": [
        "#...Enter a modified code + buildBDDDomain call (maybe in the same code cell) ...\n",
        "#...to obtain a proof by contradiction for wise young pigs...\n",
        "#...A big red 0 must result ..."
      ],
      "metadata": {
        "id": "u3rgSLwuIIxC"
      },
      "execution_count": null,
      "outputs": []
    },
    {
      "cell_type": "markdown",
      "metadata": {
        "id": "U3MHEfYMGJxX"
      },
      "source": [
        "# **== THIS IS YOUR QUESTION (answer in the spaces provided below; the answer format is also clearly described) ==**\n",
        "\n",
        "##(50\\% of the points) -- enter answers in the space explicitly provided below\n",
        "\n",
        "## NPC Qn-1: 10 of the 50%: Encode the formula given in Figure 16.9 and show that the formula is unsatisfiable. I have typed in one clause for you; please provide the remaining clauses. This formula for BDD_qn1 encodes the $\\phi$ formula\n",
        "\n",
        "## NPC Qn-2: 10 of the 50%: Leave out the last clause from BDD_qn1, thus obtaining the formula which we call $\\phi_1$ that is expressed by BDD_qn2. Find the satisfying instance for $\\phi_1$ (variable settings that make this formula true). Then argue that a 3-clique -- a triangle -- exists in the graph derived for this formula. Write out the triangle by listing its nodes.\n",
        "\n",
        "## NPC Qn-3: 20 of the 50%: List all the K-cliques that are now allowed by the $\\phi_1$ formula."
      ]
    },
    {
      "cell_type": "code",
      "source": [
        "NPC_qn1 = '''\n",
        "Var_Order : x1 x2\n",
        "c1 = (x1 | x1 | x2) # This is from Figure 16.9 and is the first clause listed there for phi\n",
        "c2 =  ..fill.. from Figure 16.9. The clauses are numbered left-to-right as they appear in Figure 16.9\n",
        "c3 = ..fill..  ..ditto..\n",
        "c4 = ..fill..  ..ditto..\n",
        "\n",
        "Main_Exp  : c1 & c2 & c3 & c4\n",
        "'''\n"
      ],
      "metadata": {
        "id": "gBi2pPIJSVUd"
      },
      "execution_count": null,
      "outputs": []
    },
    {
      "cell_type": "code",
      "source": [
        "buildBDDmain(NPC_qn1.splitlines())\n",
        "\n",
        "import graphviz\n",
        "from IPython.display import Image\n",
        "import pydot\n",
        "\n",
        "graphs = pydot.graph_from_dot_file(final_dot_file+\".dot\")\n",
        "graph = graphs[0]\n",
        "graph.write_png(final_dot_file+'.png')\n",
        "from IPython.display import Image\n",
        "Image(final_dot_file+'.png', width=600)"
      ],
      "metadata": {
        "id": "7TBQ-czhTmBn"
      },
      "execution_count": null,
      "outputs": []
    },
    {
      "cell_type": "markdown",
      "source": [
        "# RESPONSE to NPC_qn1: Write your observations for Q7a below\n",
        "\n",
        "\n",
        "\n",
        "## Your answer must consist of one sentence asserting  that you indeed observed a contradiction, as required by the $\\phi$ mapping-reduction of Figure 16.9 of our textbook\n",
        "\n",
        "## **------------------**\n",
        "\n",
        "...answer as described above is provided over as many lines you need, here...\n",
        "\n",
        "## **------------------**"
      ],
      "metadata": {
        "id": "uzD2VUywHYOh"
      }
    },
    {
      "cell_type": "code",
      "metadata": {
        "id": "JN3kHJ8e3irc"
      },
      "source": [
        "NPC_qn2 = '''\n",
        "Var_Order : x1 x2\n",
        "c1 = (x1 | x1 | x2)\n",
        "c2 = ..fill as above..\n",
        "c3 = ..fill as above..\n",
        "# c4 = ..comment out c4 ..\n",
        "\n",
        "Main_Exp  : c1 & c2 & c3 # & c4 #-- comment out c4 as done here\n",
        "'''"
      ],
      "execution_count": null,
      "outputs": []
    },
    {
      "cell_type": "code",
      "metadata": {
        "id": "p2_Xk1_O3irc"
      },
      "source": [
        "buildBDDmain(NPC_qn2.splitlines())\n",
        "\n",
        "import graphviz\n",
        "from IPython.display import Image\n",
        "import pydot\n",
        "\n",
        "graphs = pydot.graph_from_dot_file(final_dot_file+\".dot\")\n",
        "graph = graphs[0]\n",
        "graph.write_png(final_dot_file+'.png')\n",
        "from IPython.display import Image\n",
        "Image(final_dot_file+'.png', width=300)"
      ],
      "execution_count": null,
      "outputs": []
    },
    {
      "cell_type": "markdown",
      "source": [
        "# RESPONSE to NPC_qn2  \n",
        "\n",
        "\n",
        "\n",
        "## Your answer must consist of one sentence asserting  that you indeed observed a satisfying instance -- meaning that after you dropped the last conjunct, the $\\phi_1$ formula (where $\\phi_1$ is nothing but the $\\phi$ of Figure 16.9 with the last conjunct dropped) can be made true, or \"is satisfiable.\"\n",
        "\n",
        "## The fact that it is satisfiable is revealed by the fact that the BDD is not a big red circle. It is an interesting-looking graph of two nodes. Now you can read the value assignments (settings) for the Boolean values of x1 and x2 that makes the $\\phi_1$ formula true. Your answer must assert in two sentences the following. The first sentence states that you indeed observed the two-node BDD. The second sentence asserts what values x1 and x2 have in order to make $\\phi_1$ true. Say \"I observed x1 = ... and x2 = ...\".\n",
        "\n",
        "## **------------------**\n",
        "\n",
        "...answer as described above is provided over as many lines you need, here...\n",
        "\n",
        "## **------------------**\n"
      ],
      "metadata": {
        "id": "JRMhnjh-HUX2"
      }
    },
    {
      "cell_type": "markdown",
      "source": [
        "# RESPONSE TO NPC_qn3\n",
        "\n",
        "\n",
        "# Given that $\\phi_1$ is satisfiable, the resulting graph must have a K-clique. \"A K-clique\" in this case amounts to \"at least a K-clique\". In fact it may have *many* K-cliques. Also, you have to know what the value of $K is, and record in your answer.\n",
        "\n",
        "\n",
        "\n",
        "# Provide your answer as follows:\n",
        "\n",
        "## **------------------**\n",
        "\n",
        "...answer as described above is provided over as many lines you need, here...\n",
        "\n",
        "* The cliques you observe are clearly triangles, because we now have only three \"islands\" of nodes (read the notion of \"islands\" on page 258 of our book)\n",
        "\n",
        "* Since the clique consists of triangles, $K=3$. Thus we are talking about $3-cliques$ here, and listing them.\n",
        "\n",
        "* The first island is defined by {!x1, !x1, x2}\n",
        "\n",
        "* The second island is defined by {x1, x1, !x2}\n",
        "\n",
        "* The third island is defined by {x1, x1, x2}\n",
        "\n",
        "* Now answer\n",
        "\n",
        "  - There are THIS MANY triangles allowed by the clauses formed across these three islands (edit \"THIS MANY\" with the actual number)\n",
        "\n",
        "  - The triangles (or 3-cliques) themseves are\n",
        "\n",
        "    > THE FIRST TRIANGLE (replace \"THE FIRST TRIANGLE\" by $(x2 | x1 | x1)$, going around the first triangle. Notice that I've answered the \"first triangle\" for you.\n",
        "\n",
        "    > Now go around the remaining triangles and list them one by one\n",
        "\n",
        "    > You will end up having 6 triangles -- of course some of these triangles will be the same, but they are distinct occurrences)\n",
        "\n",
        "    > THE SECNOD TRIANGLE IS ...\n",
        "\n",
        "    > THE THIRD TRIANGLE IS ...\n",
        "\n",
        "    > THE FOURTH TRIANGLE IS ...\n",
        "\n",
        "    > THE FIFTH TRIANGLE IS ...\n",
        "\n",
        "    > THE SIXTH TRIANGLE IS ...\n",
        "\n",
        "## **------------------**"
      ],
      "metadata": {
        "id": "xXWH1G4gHcyJ"
      }
    },
    {
      "cell_type": "markdown",
      "metadata": {
        "id": "PhiYN_cX3ird"
      },
      "source": [
        "# End"
      ]
    }
  ]
}