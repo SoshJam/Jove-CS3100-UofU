{
  "cells": [
    {
      "cell_type": "markdown",
      "metadata": {
        "id": "view-in-github",
        "colab_type": "text"
      },
      "source": [
        "<a href=\"https://colab.research.google.com/github/SoshJam/Jove-CS3100-UofU/blob/master/For_CS3100_Fall2024/02_Basic_DFA/ASSIGNMENT-2/u1431380_asg02.ipynb\" target=\"_parent\"><img src=\"https://colab.research.google.com/assets/colab-badge.svg\" alt=\"Open In Colab\"/></a>"
      ]
    },
    {
      "cell_type": "code",
      "execution_count": 51,
      "metadata": {
        "id": "2mGV-Aw3qw8I"
      },
      "outputs": [],
      "source": [
        "#~~~~~~~~~~~~~~~~~~~~~~~~~~~~~~~~~~~~~~~~~~~~~~~~~~~~~~~\n",
        "# If you want to clear outputs for a \"fresh look\", go to Edit and hit \"clear outputs\"\n",
        "#~~~~~~~~~~~~~~~~~~~~~~~~~~~~~~~~~~~~~~~~~~~~~~~~~~~~~~~\n",
        "import sys\n",
        "\n",
        "# -- Detect if in Own Install or in Colab\n",
        "try:\n",
        "    import google.colab\n",
        "    OWN_INSTALL = False\n",
        "except:\n",
        "    OWN_INSTALL = True\n",
        "\n",
        "if OWN_INSTALL:\n",
        "\n",
        "  #---- Leave these definitions ON if running on laptop\n",
        "  #---- Else turn OFF by putting them between ''' ... '''\n",
        "\n",
        "  sys.path[0:0] = ['../../../../..',  '../../../../../3rdparty',\n",
        "                   '../../../..',  '../../../../3rdparty',\n",
        "                   '../../..',     '../../../3rdparty',\n",
        "                   '../..',        '../../3rdparty',\n",
        "                   '..',           '../3rdparty' ]\n",
        "\n",
        "else: # In colab\n",
        "  ! if [ ! -d Jove ]; then git clone https://github.com/ganeshutah/Jove Jove; fi\n",
        "  sys.path.append('./Jove')\n",
        "  sys.path.append('./Jove/jove')\n",
        "\n",
        "# -- common imports --\n",
        "\n",
        "from jove.LangDef   import *  #-- mainly for nthnumeric\n",
        "from jove.Def_md2mc import *  #-- for md2mc\n",
        "from jove.Def_DFA   import *  #-- for all DFA functions\n",
        "from jove.DotBashers import * #-- for dotObj_dfa\n",
        "\n",
        "from jove.Def_NFA import *\n",
        "from jove.Def_RE2NFA import *\n",
        "#~~~~~~~~~~~~~~~~~~~~~~~~~~~~~~~~~~~~~~~~~~~~~~~~~~~~~~~"
      ]
    },
    {
      "cell_type": "markdown",
      "source": [
        "# SUBMISSION REQUIREMENTS\n",
        "* Finish your work to your satisfaction\n",
        "* Restart and run all the cell, *making sure that no cells are kept hidden*\n",
        "* Download the ipynb and submit\n",
        "* If we have issues converting your ipynb to a PDF, we will be contacting you.\n",
        "  (Piazza posting @56_f1 is related)"
      ],
      "metadata": {
        "id": "O3qx_7knijyb"
      }
    },
    {
      "cell_type": "markdown",
      "metadata": {
        "id": "lRsW2w2jt9na"
      },
      "source": [
        "## OVERVIEW OF ALL QUESTIONS (points subject to slight changes):\n",
        "\n",
        "* Question 1 a,b,c,d,e (35%, GH) divided  across 1a, 1b, 1c, 1d and 1e as below. For 1a, the parts i, ii, and iii can be quickly \"eye-ball checked\" and graded.\n",
        "\n",
        " - a: (15%)\n",
        "   - i.   - Define Universe (5%)\n",
        "   - ii.  - Define L_eq and cursory check (5%)\n",
        "   - iii. - Define L_neq and cursory check (5%)\n",
        " - b:  (5%)   - L_eq and L_neq make up the universe\n",
        " - c:  (5%)   - Identify the Missing_Sublanguage by thinking about it. Then write a Python definition to define it\n",
        " - d:  (5%)  - Define the Missing_Sublanguage mathematically using language operations\n",
        " - e:  (5%)   - Check that the union of L_eq, L_neq and Missing_Sublanguage gives you back the Universe\n",
        "\n",
        "* Question 1 (10%, ST)\n",
        "  - f: Define a DFA for the missing language\n",
        "\n",
        "* Question 2 (25%, ST)\n",
        "  - a - DFA_Ends010 defined (10 pts)\n",
        "  - b - DFA_Not_Ends010 defined (10 pts)\n",
        "  - c - OR the above two and get back the Universe (5 pts)\n",
        "\n",
        "* Question 2 (30%, AK)\n",
        "  - d - Mod5 DFA (10 pts)\n",
        "  - e - Intersect with Ends010 (5 pts)\n",
        "  - f - Find out the number of states before minimization (5 pts)\n",
        "  - g - Minimize (5 pts)\n",
        "  - h - How many states in minimized DFA (2 pts)\n",
        "  - i - Which states got eliminated? (3 pts)\n",
        "\n",
        "\n",
        "* (5%, GH) for neat and easy-to-grade answers"
      ]
    },
    {
      "cell_type": "markdown",
      "source": [
        "-----------------"
      ],
      "metadata": {
        "id": "RXiGrUDBhzfX"
      }
    },
    {
      "cell_type": "markdown",
      "source": [],
      "metadata": {
        "id": "tVE6-AOreFa-"
      }
    },
    {
      "cell_type": "markdown",
      "metadata": {
        "id": "lcubR90fcPyi"
      },
      "source": [
        "## Question 1.\n",
        "\n",
        "Consider the language\n",
        "    \n",
        "$$ L_{eq} = \\{ w\\in \\Sigma^{*}_{6}\\;:\\;  w\\; is\\; a\\; string\\; of\\; the\\; form\\; 0^i 1^j\\; where\\; i=j\\}$$  \n",
        "\n",
        "_Note:_ We could have written it as $\\{ w\\in \\Sigma^{*}_{6}\\;:\\;  w\\; is\\; a\\; string\\; of\\; the\\; form\\; 0^i 1^i\\}$. We define it the way we do so that it resemble the $L_{neq}$ definition below.  _End of Note._\n",
        "\n",
        "Now consider a similar-looking language $L_{neq}$\n",
        "    \n",
        "$$ L_{neq} = \\{ w\\in \\Sigma^{*}_{6}\\;:\\; w\\; is\\; a\\; string\\; of\\; the\\; form\\; 0^i 1^j\\; where\\; i\\neq j\\}$$\n",
        "\n",
        "Your task is to explore whether $L_{eq}$ and $L_{neq}$ are complements, i.e. whether $L_{eq} = \\overline{L_{neq}}$. We will be working the universe $\\Sigma^{*}_{6}$, and $\\Sigma=\\{0,1\\}$."
      ]
    },
    {
      "cell_type": "markdown",
      "source": [
        "## 1(a): Defining the Universe explicitly, and then the languages."
      ],
      "metadata": {
        "id": "l1Ds-ZOE6K7R"
      }
    },
    {
      "cell_type": "markdown",
      "source": [],
      "metadata": {
        "id": "OAEi5S8Tw4Vm"
      }
    },
    {
      "cell_type": "markdown",
      "source": [
        "😃"
      ],
      "metadata": {
        "id": "9OvLTUzym1dB"
      }
    },
    {
      "cell_type": "markdown",
      "source": [
        "### 1(a)(i) The Universe part"
      ],
      "metadata": {
        "id": "bzLKKfOvzi6l"
      }
    },
    {
      "cell_type": "code",
      "source": [
        "# Define Sigma\n",
        "# Sigma = ...your answer...\n",
        "# ---\n",
        "#\n",
        "\n",
        "Sigma = { '0', '1' }\n",
        "\n",
        "# Define the universe from which the \"w\" comes\n",
        "# Universe ...your answer...\n",
        "#\n",
        "Universe = lstar(Sigma, 6)\n",
        "\n",
        "# Evaluate and print, just to be sure\n",
        "print('Universe =', Universe)"
      ],
      "metadata": {
        "id": "QPcElGsim3Ft",
        "outputId": "9c240e9b-2103-4aac-e65e-58b9868b3dcc",
        "colab": {
          "base_uri": "https://localhost:8080/"
        }
      },
      "execution_count": 52,
      "outputs": [
        {
          "output_type": "stream",
          "name": "stdout",
          "text": [
            "Universe = {'', '010011', '101000', '000001', '011101', '011010', '111', '10001', '111101', '11000', '100110', '101001', '010001', '110111', '1100', '1010', '01111', '1011', '000010', '0111', '0011', '011001', '001', '001101', '0000', '000111', '100', '10', '110000', '001100', '110', '000100', '111010', '111110', '11100', '001001', '010', '111111', '11011', '11101', '100111', '101111', '10111', '110110', '10010', '111001', '0100', '010010', '00100', '11', '111011', '011111', '1111', '100001', '01010', '001000', '10100', '1000', '0001', '001111', '000110', '01101', '011', '010101', '110001', '00011', '001010', '010100', '01001', '101', '100101', '010110', '0101', '11110', '1001', '000101', '110010', '011011', '10000', '01100', '0', '101110', '00101', '101011', '11111', '1101', '111100', '011000', '01', '0010', '10101', '00010', '101101', '001011', '101100', '011100', '01011', '011110', '010000', '00111', '00110', '1110', '100100', '010111', '000', '01000', '101010', '001110', '100000', '00', '0110', '11001', '110011', '10110', '100011', '11010', '00000', '110100', '1', '000000', '000011', '10011', '00001', '01110', '100010', '110101', '111000'}\n"
          ]
        }
      ]
    },
    {
      "cell_type": "markdown",
      "source": [
        "😃"
      ],
      "metadata": {
        "id": "JYwL3SuQj65N"
      }
    },
    {
      "cell_type": "markdown",
      "source": [
        "### 1(a)(ii) The Leq part and double-checking its contents"
      ],
      "metadata": {
        "id": "rarpZYcAzo4K"
      }
    },
    {
      "cell_type": "code",
      "source": [
        "# Define L_eq in Python\n",
        "\n",
        "L_eq = set( '0' * i + '1' * j for i in range(0,7) for j in range (0,7) if i == j and i + j <= 6 )\n",
        "\n",
        "# Just to double-check that L_eq is correct, evaluate Universe - L_eq and eyeball its contents\n",
        "\n",
        "print('Universe - L_eq =', Universe - L_eq)"
      ],
      "metadata": {
        "id": "ZU6LdFKk6VpO",
        "outputId": "d67df6d5-4bf7-40cc-cb3f-81c5677c484e",
        "colab": {
          "base_uri": "https://localhost:8080/"
        }
      },
      "execution_count": 53,
      "outputs": [
        {
          "output_type": "stream",
          "name": "stdout",
          "text": [
            "Universe - L_eq = {'010011', '101000', '000001', '011101', '011010', '111', '10001', '111101', '11000', '100110', '101001', '010001', '110111', '1100', '1010', '01111', '1011', '000010', '0111', '011001', '001', '001101', '0000', '100', '10', '110000', '001100', '110', '000100', '111010', '111110', '11100', '001001', '010', '111111', '11011', '11101', '100111', '101111', '10111', '110110', '10010', '111001', '0100', '010010', '00100', '11', '111011', '011111', '1111', '100001', '01010', '001000', '10100', '1000', '0001', '001111', '000110', '01101', '011', '010101', '110001', '00011', '001010', '010100', '01001', '101', '100101', '010110', '0101', '11110', '1001', '000101', '110010', '011011', '10000', '01100', '0', '101110', '00101', '101011', '11111', '1101', '111100', '011000', '0010', '10101', '00010', '101101', '001011', '101100', '011100', '01011', '011110', '010000', '00111', '00110', '1110', '100100', '010111', '000', '01000', '101010', '001110', '100000', '00', '0110', '11001', '110011', '10110', '100011', '11010', '00000', '110100', '1', '000000', '000011', '10011', '00001', '01110', '100010', '110101', '111000'}\n"
          ]
        }
      ]
    },
    {
      "cell_type": "markdown",
      "source": [
        "😃"
      ],
      "metadata": {
        "id": "kBlkFmbMkEZB"
      }
    },
    {
      "cell_type": "markdown",
      "source": [
        "### 1(a)(iii) The L_Neq part and double-checking its contents"
      ],
      "metadata": {
        "id": "4cueoX_pXgYr"
      }
    },
    {
      "cell_type": "code",
      "source": [
        "# Define L_neq in Python\n",
        "\n",
        "L_neq = set( '0' * i + '1' * j for i in range(0,7) for j in range (0,7) if i != j and i + j <= 6 )\n",
        "\n",
        "\n",
        "# Just to double-check that L_neq is correct, evaluate Universe - L_neq and eyeball its contents\n",
        "\n",
        "print('Universe - L_neq =', Universe - L_neq)\n"
      ],
      "metadata": {
        "id": "urKKDJQZ7fKg",
        "outputId": "68e60ae2-f545-4e1e-c660-4ca5f2849a67",
        "colab": {
          "base_uri": "https://localhost:8080/"
        }
      },
      "execution_count": 54,
      "outputs": [
        {
          "output_type": "stream",
          "name": "stdout",
          "text": [
            "Universe - L_neq = {'', '010011', '101000', '011101', '011010', '10001', '111101', '11000', '100110', '101001', '010001', '110111', '1100', '1010', '1011', '000010', '0011', '011001', '001101', '000111', '100', '10', '110000', '001100', '110', '000100', '111010', '111110', '11100', '001001', '010', '11011', '11101', '100111', '101111', '10111', '110110', '10010', '111001', '0100', '010010', '00100', '111011', '100001', '01010', '001000', '10100', '1000', '000110', '01101', '010101', '110001', '001010', '010100', '01001', '101', '100101', '010110', '0101', '11110', '1001', '000101', '110010', '011011', '10000', '01100', '101110', '00101', '101011', '1101', '111100', '011000', '01', '0010', '10101', '00010', '101101', '001011', '101100', '011100', '01011', '011110', '010000', '00110', '1110', '100100', '010111', '01000', '101010', '001110', '100000', '0110', '11001', '110011', '10110', '100011', '11010', '110100', '10011', '01110', '100010', '110101', '111000'}\n"
          ]
        }
      ]
    },
    {
      "cell_type": "markdown",
      "source": [
        "###Part 1(b): Use any automated approach (i.e. by not walking through each and every string manually) to confirm whether L_eq and L_neq together make up the Universe.\n",
        "\n"
      ],
      "metadata": {
        "id": "RcYxZIHejx1L"
      }
    },
    {
      "cell_type": "markdown",
      "metadata": {
        "id": "EuT_gMTSIXFZ"
      },
      "source": [
        " Fill the code-cell below to compute the union of $L_{eq}$ and $L_{neq}$ using Jove's lunion function. Compare the result to the universe. Let the comparison result be called __Matches__."
      ]
    },
    {
      "cell_type": "markdown",
      "source": [
        "😃"
      ],
      "metadata": {
        "id": "TTu47f0M43aJ"
      }
    },
    {
      "cell_type": "code",
      "source": [
        "# Code for 1(b)\n",
        "\n",
        "Union = lunion( L_eq, L_neq )\n",
        "\n",
        "Matches =  Union == Universe\n",
        "\n",
        "if (Matches):\n",
        "    print('Yes,  L_eq and L_neq together make up the universe')\n",
        "else:\n",
        "    print('No,  L_eq and L_neq together DO NOT make up the universe')\n"
      ],
      "metadata": {
        "id": "4obRghAhIMdT",
        "outputId": "35f3999e-8905-4ee4-f340-e9da91cf15a0",
        "colab": {
          "base_uri": "https://localhost:8080/"
        }
      },
      "execution_count": 55,
      "outputs": [
        {
          "output_type": "stream",
          "name": "stdout",
          "text": [
            "No,  L_eq and L_neq together DO NOT make up the universe\n"
          ]
        }
      ]
    },
    {
      "cell_type": "markdown",
      "source": [
        "## 1(c)\n",
        "\n",
        "If you think they make-up the universe, stop and write a detailed proof that they do make-up the Universe.\n",
        "\n",
        "Else, find the missing strings by defining a \"Missing_Sublanguage\" explicitly. That is, by thinking about the problem, write a piece of code that goes as follows.\n",
        "\n",
        "Some_definition1 = \"...\"\n",
        "\n",
        "Some_definition2 = \"...\"\n",
        "\n",
        "Missing_Sublanguage = \"...one or more lines of Python code that help define the Missing_Sublanguage by using Some_definition1, Some_definition2, etc\"\n",
        "\n",
        "A few more  *OPTIONAL* hints: Just focus on a key property of *ALL* missing strings. What do they look like? Can you express them through a few \"lcat\" based concatenations as \"Any missing string has THIS followed by THIS followed by THIS ...\" . Then make up the THIS followed by via something like this:\n",
        "\n",
        "\n",
        "lcat(ONE_PIECE, lcat(ANOTHER_PIECE, lcat( STILL_ANOTHER_Piece,...)))\n",
        "where you can introduce the ONE_PIECE via your \"Some_definition\"s.\n",
        "\n",
        "You can even get a larger-than-necessary set of missing pieces first, and then trim them down. This is another hint.\n",
        "\n",
        "\n",
        "All_Missing_Strings_With_Some_Possibly_Longer = lcat(ONE_PIECE, lcat(ANOTHER_PIECE, lcat( STILL_ANOTHER_Piece,...)))\n",
        "\n",
        "Missing_Sublanguage = {s : All_Missing_Strings_With_Some_Possibly_Longer if CONDITION}\n",
        "\n",
        "where CONDITION helps trim down the 's'."
      ],
      "metadata": {
        "id": "6UQVVR1O5ixt"
      }
    },
    {
      "cell_type": "markdown",
      "source": [
        "😃"
      ],
      "metadata": {
        "id": "34dcGeOY6mOm"
      }
    },
    {
      "cell_type": "markdown",
      "source": [],
      "metadata": {
        "id": "ljGAjKbH0c2k"
      }
    },
    {
      "cell_type": "code",
      "source": [
        "# Code for 1(c)\n",
        "\n",
        "# Well the problem with L_eq and L_neq is that they only considered strings of the form { 0^i 1^j }, so anything with a 1 followed by a 0 anywhere in the string should be in the missing language.\n",
        "# To cover all our bases, we can just use (0+1)* 10 (0+1)*.\n",
        "# The code is restricted to the universe Sigma*6 so we have to get more creative with the set construction.\n",
        "\n",
        "# If there is a 10 in the string, the other 4 characters can be anything and go anywhere in it. It would be helpful to define the smaller degrees of Sigma*\n",
        "\n",
        "SS4 = lstar(Sigma, 4)\n",
        "SS3 = lstar(Sigma, 3)\n",
        "SS2 = lstar(Sigma, 2)\n",
        "SS1 = lstar(Sigma, 1)\n",
        "SS0 = set([''])\n",
        "\n",
        "# For example, S4 = Sigma*4 - Sigma*3 = all strings {0,1}* of length exactly 4\n",
        "S4 = SS4 - SS3\n",
        "S3 = SS3 - SS2\n",
        "S2 = SS2 - SS1\n",
        "S1 = SS1 - SS0\n",
        "S0 = SS0\n",
        "\n",
        "# Ls[i] has all strings over {0,1} with length exactly i\n",
        "Ls = [ S0, S1, S2, S3, S4 ]\n",
        "\n",
        "# Now we just concatenate these all around our target string, making sure the total length is 6\n",
        "sub_sublanguages = [ lcat( Ls[i], lcat( set(['10']), Ls[j] ) ) for i in range(0,5) for j in range(0,5) if i+2+j <= 6 ]\n",
        "\n",
        "# Now we just combine them all into one language\n",
        "Missing_Sublanguage = set()\n",
        "\n",
        "for ssl in sub_sublanguages:\n",
        "  Missing_Sublanguage = Missing_Sublanguage.union(ssl)\n",
        "\n",
        "print('Missing_Sublanguage = ', Missing_Sublanguage)"
      ],
      "metadata": {
        "id": "jTmt-XPtPmv-",
        "outputId": "9002d31a-7ffc-4696-f71e-33728139736b",
        "colab": {
          "base_uri": "https://localhost:8080/"
        }
      },
      "execution_count": 56,
      "outputs": [
        {
          "output_type": "stream",
          "name": "stdout",
          "text": [
            "Missing_Sublanguage =  {'010011', '101000', '011101', '011010', '10001', '111101', '11000', '100110', '101001', '1100', '1010', '010001', '110111', '1011', '000010', '011001', '001101', '100', '10', '110000', '110', '001100', '000100', '111010', '111110', '11100', '001001', '010', '11011', '11101', '100111', '101111', '10111', '10010', '110110', '111001', '0100', '010010', '00100', '111011', '01010', '100001', '10100', '1000', '001000', '01101', '000110', '010101', '110001', '001010', '01001', '010100', '101', '100101', '010110', '0101', '11110', '1001', '000101', '110010', '011011', '10000', '01100', '101110', '00101', '101011', '1101', '011000', '111100', '0010', '10101', '00010', '101101', '001011', '101100', '01011', '011100', '011110', '010000', '1110', '00110', '100100', '010111', '01000', '101010', '001110', '100000', '0110', '11001', '10110', '110011', '100011', '11010', '110100', '10011', '01110', '100010', '110101', '111000'}\n"
          ]
        }
      ]
    },
    {
      "cell_type": "markdown",
      "source": [
        "### 1(d): Please express the Missing_Sublanguage in the mathematical notation of language construction, i.e. use things like $\\{0,1\\}^{*}\\{1\\}$ and such notations to concatenate a star language with the language containing '1', etc."
      ],
      "metadata": {
        "id": "3nuu7LfNPJmZ"
      }
    },
    {
      "cell_type": "markdown",
      "source": [
        "😃"
      ],
      "metadata": {
        "id": "FFVPUia9PmTP"
      }
    },
    {
      "cell_type": "markdown",
      "source": [
        "This does not have a constraint for being of length 6, but according to a Piazza note that was actually better.\n",
        "$$\\{0,1\\}^*\\{10\\}\\{0,1\\}^*$$"
      ],
      "metadata": {
        "id": "DU5WVrQx-rcd"
      }
    },
    {
      "cell_type": "markdown",
      "source": [
        "# Begin Ans -- which is markdown typeset in math.\n",
        "\n",
        "The Overall_Missing_Patterns can be mathematically defined as follows:\n",
        "\n",
        " I did not use Overall_Missing_Patterns as it said it was optional and I wasn't totally sure what it referred to.\n",
        "\n",
        " # End Ans"
      ],
      "metadata": {
        "id": "x8nWDeCKMsFL"
      }
    },
    {
      "cell_type": "markdown",
      "source": [
        "### 1(e): Check if the Missing_Sublanguage is correct"
      ],
      "metadata": {
        "id": "ZXT2SbeD9XpF"
      }
    },
    {
      "cell_type": "markdown",
      "source": [
        "Now, it must be the case that lunion(L_eq, lunion(L_neq, Missing_Sublanguage)) equals your Universe. Check it via an if/else block. Write a few lines of code and ensure this is the case.\n",
        "\n",
        "line1 = ...\n",
        "\n",
        "line2 = ...\n",
        "\n",
        "Big_Union = the aforesaid union of three languages\n",
        "\n",
        "if(Big_Union == Universe):\n",
        "\n",
        "  print('I captured the Missing_Sublanguage correctly')\n",
        "\n",
        "else:\n",
        "\n",
        "  print('I must fix my Missing_Sublanguage and come back to this step')"
      ],
      "metadata": {
        "id": "Obmp9sZ28TGf"
      }
    },
    {
      "cell_type": "markdown",
      "source": [
        "😃"
      ],
      "metadata": {
        "id": "kBus0kwL9Ndg"
      }
    },
    {
      "cell_type": "code",
      "source": [
        "# Code for 1(d)\n",
        "# Begin Ans\n",
        "\n",
        "# Union defined earlier as L_eq U L_neq\n",
        "Big_Union = lunion(Union, Missing_Sublanguage)\n",
        "\n",
        "if(Universe == Big_Union):\n",
        "    print('I captured the Missing_Sublanguage correctly')\n",
        "else:\n",
        "    print('I must fix my Missing_Sublanguage and come back to this step')"
      ],
      "metadata": {
        "id": "czy8tdjnQZHh",
        "outputId": "7fd28290-99a6-4a58-c9ea-fbb9fbcd27aa",
        "colab": {
          "base_uri": "https://localhost:8080/"
        }
      },
      "execution_count": 57,
      "outputs": [
        {
          "output_type": "stream",
          "name": "stdout",
          "text": [
            "I captured the Missing_Sublanguage correctly\n"
          ]
        }
      ]
    },
    {
      "cell_type": "markdown",
      "source": [
        "### 1(f): Build a DFA for the Missing_Sublanguage by entering it in a block of code processed by md2mc, as follows\n",
        "\n"
      ],
      "metadata": {
        "id": "9Bu8BItO_t8c"
      }
    },
    {
      "cell_type": "markdown",
      "source": [
        "😃"
      ],
      "metadata": {
        "id": "xWBwoLencK0T"
      }
    },
    {
      "cell_type": "code",
      "source": [
        "# DFA for Missing_Sublanguage\n",
        "#\n",
        "# We just need to find a 10\n",
        "DFA_for_Missing_Sublanguage = md2mc('''DFA\n",
        "I : 0 -> I !! loop until we get a 1\n",
        "I : 1 -> S !! this could be the start of a 10\n",
        "\n",
        "S : 0 -> F !! we found a 10 and we're good!\n",
        "S : 1 -> S !! not a 10, but it could be the start of a new 10, so just keep looping\n",
        "\n",
        "F : 0 -> F !! we already found a 10 so this is accepting\n",
        "F : 1 -> F\n",
        "''')\n",
        "dotObj_dfa(DFA_for_Missing_Sublanguage, FuseEdges=\"True\")\n",
        "\n"
      ],
      "metadata": {
        "id": "3SfEjleuRKt0",
        "outputId": "a5b86f6e-9fe6-4825-a386-9135ea711a22",
        "colab": {
          "base_uri": "https://localhost:8080/",
          "height": 154
        }
      },
      "execution_count": 60,
      "outputs": [
        {
          "output_type": "execute_result",
          "data": {
            "image/svg+xml": "<?xml version=\"1.0\" encoding=\"UTF-8\" standalone=\"no\"?>\n<!DOCTYPE svg PUBLIC \"-//W3C//DTD SVG 1.1//EN\"\n \"http://www.w3.org/Graphics/SVG/1.1/DTD/svg11.dtd\">\n<!-- Generated by graphviz version 2.43.0 (0)\n -->\n<!-- Title: %3 Pages: 1 -->\n<svg width=\"309pt\" height=\"100pt\"\n viewBox=\"0.00 0.00 309.00 100.00\" xmlns=\"http://www.w3.org/2000/svg\" xmlns:xlink=\"http://www.w3.org/1999/xlink\">\n<g id=\"graph0\" class=\"graph\" transform=\"scale(1 1) rotate(0) translate(4 96)\">\n<title>%3</title>\n<polygon fill=\"white\" stroke=\"transparent\" points=\"-4,4 -4,-96 305,-96 305,4 -4,4\"/>\n<!-- EMPTY -->\n<g id=\"node1\" class=\"node\">\n<title>EMPTY</title>\n</g>\n<!-- I -->\n<g id=\"node3\" class=\"node\">\n<title>I</title>\n<ellipse fill=\"none\" stroke=\"black\" cx=\"109\" cy=\"-22\" rx=\"18\" ry=\"18\"/>\n<text text-anchor=\"middle\" x=\"109\" y=\"-18.3\" font-family=\"Times,serif\" font-size=\"14.00\">I</text>\n</g>\n<!-- EMPTY&#45;&gt;I -->\n<g id=\"edge1\" class=\"edge\">\n<title>EMPTY&#45;&gt;I</title>\n<path fill=\"none\" stroke=\"black\" d=\"M54.19,-22C62.65,-22 72.05,-22 80.6,-22\"/>\n<polygon fill=\"black\" stroke=\"black\" points=\"80.83,-25.5 90.83,-22 80.83,-18.5 80.83,-25.5\"/>\n</g>\n<!-- S -->\n<g id=\"node2\" class=\"node\">\n<title>S</title>\n<ellipse fill=\"none\" stroke=\"black\" cx=\"192\" cy=\"-22\" rx=\"18\" ry=\"18\"/>\n<text text-anchor=\"middle\" x=\"192\" y=\"-18.3\" font-family=\"Times,serif\" font-size=\"14.00\">S</text>\n</g>\n<!-- S&#45;&gt;S -->\n<g id=\"edge5\" class=\"edge\">\n<title>S&#45;&gt;S</title>\n<path fill=\"none\" stroke=\"black\" d=\"M184.97,-38.66C183.41,-48.62 185.75,-58 192,-58 196,-58 198.4,-54.15 199.2,-48.77\"/>\n<polygon fill=\"black\" stroke=\"black\" points=\"202.7,-48.6 199.03,-38.66 195.7,-48.72 202.7,-48.6\"/>\n<text text-anchor=\"middle\" x=\"192\" y=\"-61.8\" font-family=\"Times,serif\" font-size=\"14.00\">1 </text>\n</g>\n<!-- F -->\n<g id=\"node4\" class=\"node\">\n<title>F</title>\n<ellipse fill=\"none\" stroke=\"black\" cx=\"279\" cy=\"-22\" rx=\"18\" ry=\"18\"/>\n<ellipse fill=\"none\" stroke=\"black\" cx=\"279\" cy=\"-22\" rx=\"22\" ry=\"22\"/>\n<text text-anchor=\"middle\" x=\"279\" y=\"-18.3\" font-family=\"Times,serif\" font-size=\"14.00\">F</text>\n</g>\n<!-- S&#45;&gt;F -->\n<g id=\"edge4\" class=\"edge\">\n<title>S&#45;&gt;F</title>\n<path fill=\"none\" stroke=\"black\" d=\"M210.2,-22C220.63,-22 234.26,-22 246.56,-22\"/>\n<polygon fill=\"black\" stroke=\"black\" points=\"246.91,-25.5 256.91,-22 246.91,-18.5 246.91,-25.5\"/>\n<text text-anchor=\"middle\" x=\"233.5\" y=\"-25.8\" font-family=\"Times,serif\" font-size=\"14.00\">0 </text>\n</g>\n<!-- I&#45;&gt;S -->\n<g id=\"edge3\" class=\"edge\">\n<title>I&#45;&gt;S</title>\n<path fill=\"none\" stroke=\"black\" d=\"M127.18,-22C137.81,-22 151.69,-22 163.8,-22\"/>\n<polygon fill=\"black\" stroke=\"black\" points=\"163.85,-25.5 173.85,-22 163.85,-18.5 163.85,-25.5\"/>\n<text text-anchor=\"middle\" x=\"150.5\" y=\"-25.8\" font-family=\"Times,serif\" font-size=\"14.00\">1 </text>\n</g>\n<!-- I&#45;&gt;I -->\n<g id=\"edge2\" class=\"edge\">\n<title>I&#45;&gt;I</title>\n<path fill=\"none\" stroke=\"black\" d=\"M102.62,-39.04C101.32,-48.86 103.45,-58 109,-58 112.47,-58 114.6,-54.43 115.4,-49.35\"/>\n<polygon fill=\"black\" stroke=\"black\" points=\"118.9,-49.03 115.38,-39.04 111.9,-49.04 118.9,-49.03\"/>\n<text text-anchor=\"middle\" x=\"109\" y=\"-61.8\" font-family=\"Times,serif\" font-size=\"14.00\">0 </text>\n</g>\n<!-- F&#45;&gt;F -->\n<g id=\"edge6\" class=\"edge\">\n<title>F&#45;&gt;F</title>\n<path fill=\"none\" stroke=\"black\" d=\"M270.99,-42.58C269.89,-52.84 272.55,-62 279,-62 283.13,-62 285.71,-58.24 286.74,-52.84\"/>\n<polygon fill=\"black\" stroke=\"black\" points=\"290.24,-52.67 287.01,-42.58 283.25,-52.49 290.24,-52.67\"/>\n<text text-anchor=\"middle\" x=\"279\" y=\"-80.8\" font-family=\"Times,serif\" font-size=\"14.00\">1 </text>\n<text text-anchor=\"middle\" x=\"279\" y=\"-65.8\" font-family=\"Times,serif\" font-size=\"14.00\"> 0 </text>\n</g>\n</g>\n</svg>\n",
            "text/plain": [
              "<graphviz.graphs.Digraph at 0x7853ac3e2410>"
            ]
          },
          "metadata": {},
          "execution_count": 60
        }
      ]
    },
    {
      "cell_type": "markdown",
      "source": [
        "----------------"
      ],
      "metadata": {
        "id": "9dL3pH-jSx6Z"
      }
    },
    {
      "cell_type": "markdown",
      "metadata": {
        "id": "EIz5YWXVh3bh"
      },
      "source": [
        "## Question 2: I'll mention all the parts first, and then give you the spaces to answer your individual parts."
      ]
    },
    {
      "cell_type": "markdown",
      "metadata": {
        "id": "DFpG_TxDiDnn"
      },
      "source": [
        "2(a): Using Jove's markdown, define a DFA for the language of strings over alphabet $\\{0,1\\}$ that ends in a $010$. Call this DFA \"DFA_Ends010.\"\n",
        "\n",
        "2(b): Now define DFA_Not_Ends010 as a DFA that does not end in 010. Intersect the above DFA and show that the language of the intersection is empty. Apply min_dfa(DFA_Ends010, DFA_Not_Ends010) and observe that the DFA has an empty language.\n",
        "\n",
        "2(c): Again using Jove's markdown, define a DFA for the language of strings over alphabet $\\{0,1\\}$  whose numeric value is evenly divisible by 5 (i.e. mod 5 is 0, or N%5 == 0 for the numeric value being N). Call this DFA \"DFA_Mod5\".\n",
        "\n",
        "*Note*: **Please consider following the conventions in the book which has such DFA starting at an IF state (epsilon input is tantamount to 0).**. We won't dock points if you don't. But the TAs may like a more standardized answer.\n",
        "\n",
        "2(d): Intersect these DFA using the command intersect_dfa(DFA_Ends010, DFA_mod5), calling the intersection DFA_Ends010_and_Mod5."
      ]
    },
    {
      "cell_type": "markdown",
      "metadata": {
        "id": "ORaIciQVr1dM"
      },
      "source": [
        "###Part 2(a):\n",
        "Definition of DFA_Ends010"
      ]
    },
    {
      "cell_type": "markdown",
      "source": [
        "😃"
      ],
      "metadata": {
        "id": "Vj9KWNN0cQ9X"
      }
    },
    {
      "cell_type": "code",
      "execution_count": null,
      "metadata": {
        "id": "hGmeVbJ-jv4N"
      },
      "outputs": [],
      "source": [
        "# Define this DFA, making sure you document it sufficiently (but not excessively)\n",
        "DFA_Ends010 = md2mc('''DFA\n",
        "...\n",
        "''')\n",
        "\n"
      ]
    },
    {
      "cell_type": "code",
      "execution_count": null,
      "metadata": {
        "id": "NfaJEGwKjx3Q"
      },
      "outputs": [],
      "source": [
        "# Let's see the \"Ends010\" machine\n",
        "dotObj_dfa(DFA_Ends010, FuseEdges=True)"
      ]
    },
    {
      "cell_type": "markdown",
      "source": [
        "### 2(b) : A good way to check your work is to define the DFA_Not_Ends010 and intersect to obtain a DFA with an empty language. You can also apply a min_dfa(...) to see the minimized form of the DFA for a quicker check."
      ],
      "metadata": {
        "id": "v4LONyu7SpYj"
      }
    },
    {
      "cell_type": "markdown",
      "source": [
        "😃"
      ],
      "metadata": {
        "id": "T_2uhxixcT8U"
      }
    },
    {
      "cell_type": "code",
      "source": [
        "DFA_Not_Ends010 =\n",
        "\n",
        "\n",
        "\n",
        "dotObj_dfa(DFA_Not_Ends010, FuseEdges=True)\n"
      ],
      "metadata": {
        "id": "_sdTqcvdTyBI"
      },
      "execution_count": null,
      "outputs": []
    },
    {
      "cell_type": "markdown",
      "source": [
        "😃"
      ],
      "metadata": {
        "id": "6oIraJt6cZ0P"
      }
    },
    {
      "cell_type": "code",
      "source": [
        "Ends010_and_not_Ends010 = ...define this...\n",
        "dotObj_dfa(Ends010_and_not_Ends010)"
      ],
      "metadata": {
        "id": "ybKBkbzfVNcA"
      },
      "execution_count": null,
      "outputs": []
    },
    {
      "cell_type": "code",
      "source": [
        "dotObj_dfa(min_dfa(Ends010_and_not_Ends010))"
      ],
      "metadata": {
        "id": "B_4ssZ5kLW7g"
      },
      "execution_count": null,
      "outputs": []
    },
    {
      "cell_type": "markdown",
      "source": [],
      "metadata": {
        "id": "JUQ-iEQTceOm"
      }
    },
    {
      "cell_type": "markdown",
      "source": [
        "### 2(c). Now try OR of both the languages and get a machine that accepts all strings. Then we know that the machine we designed DFA_Ends010 is much more believable."
      ],
      "metadata": {
        "id": "RFdFE_99MlY8"
      }
    },
    {
      "cell_type": "markdown",
      "source": [
        "😃"
      ],
      "metadata": {
        "id": "cfqWf9HkcdPj"
      }
    },
    {
      "cell_type": "code",
      "source": [
        "Ends010_or_not_Ends010 = ...define this...\n",
        "dotObj_dfa(min_dfa(Ends010_or_not_Ends010))"
      ],
      "metadata": {
        "id": "UrAhtDN8Mtml"
      },
      "execution_count": null,
      "outputs": []
    },
    {
      "cell_type": "markdown",
      "source": [
        "### At this point we know that our design of DFA_Ends010 is trustworthy."
      ],
      "metadata": {
        "id": "QGcDXm-NN-_A"
      }
    },
    {
      "cell_type": "markdown",
      "source": [
        "### 2(d). At this point, you are going to obtain more DFA design experience. Define DFA_Mod5, a DFA that accepts any binary sequence whose numeric value is evenly divisible by 5.\n",
        "\n",
        "Design of the DFA\n",
        "\n",
        "* Each state remembers the number seen so far, mod 5\n"
      ],
      "metadata": {
        "id": "i4E286c4OPyl"
      }
    },
    {
      "cell_type": "markdown",
      "source": [
        "😃"
      ],
      "metadata": {
        "id": "QzrlfAFWckM8"
      }
    },
    {
      "cell_type": "code",
      "source": [
        "DFA_Mod5 = ...define this...\n",
        "dotObj_dfa(DFA_Mod5, FuseEdges=True)"
      ],
      "metadata": {
        "id": "ZA_HYsQQkgBF"
      },
      "execution_count": null,
      "outputs": []
    },
    {
      "cell_type": "markdown",
      "source": [
        "😃"
      ],
      "metadata": {
        "id": "aSPoUvfXcnFV"
      }
    },
    {
      "cell_type": "markdown",
      "metadata": {
        "id": "BT2DDD6lr8ym"
      },
      "source": [
        "### Part 2(e)\n",
        "\n",
        "Compute the intersection of the DFA_Mod5 language with that of DFA_Ends010. This is a language that would have been hard to directly design as a DFA (that being the lesson you obtain)"
      ]
    },
    {
      "cell_type": "code",
      "source": [
        "DFA_Mod5_And_Ends010 = ...define this...\n",
        "dotObj_dfa(DFA_Mod5_And_Ends010, FuseEdges=True)"
      ],
      "metadata": {
        "id": "LCS1kCa3ncJz"
      },
      "execution_count": null,
      "outputs": []
    },
    {
      "cell_type": "markdown",
      "source": [
        "### 2(f). Wow, this is a large DFA; how many states does it have? Find this out"
      ],
      "metadata": {
        "id": "RdCICzynPdBZ"
      }
    },
    {
      "cell_type": "code",
      "source": [
        "print('DFA_Mod5_And_Ends010 has', ...expression..., 'states')"
      ],
      "metadata": {
        "id": "-EYUMJxnPkeR"
      },
      "execution_count": null,
      "outputs": []
    },
    {
      "cell_type": "markdown",
      "source": [],
      "metadata": {
        "id": "hxgAUXMfix9m"
      }
    },
    {
      "cell_type": "markdown",
      "source": [
        "😃"
      ],
      "metadata": {
        "id": "ifeGyjupcpSF"
      }
    },
    {
      "cell_type": "markdown",
      "source": [
        "### 2(g). Minimize this DFA"
      ],
      "metadata": {
        "id": "Vn4lPapKPrIZ"
      }
    },
    {
      "cell_type": "code",
      "source": [
        "help(min_dfa)"
      ],
      "metadata": {
        "id": "uOSrC29Un4R_"
      },
      "execution_count": null,
      "outputs": []
    },
    {
      "cell_type": "markdown",
      "source": [
        "😃"
      ],
      "metadata": {
        "id": "AqBEsHSFctTk"
      }
    },
    {
      "cell_type": "code",
      "source": [
        "Min_DFA_Mod5_And_Ends010 =  ...define this...\n",
        "dotObj_dfa(Min_DFA_Mod5_And_Ends010, FuseEdges=True)"
      ],
      "metadata": {
        "id": "b039sOkfn1dS"
      },
      "execution_count": null,
      "outputs": []
    },
    {
      "cell_type": "markdown",
      "source": [],
      "metadata": {
        "id": "9RLqsGvIV09N"
      }
    },
    {
      "cell_type": "markdown",
      "source": [
        "### 2(h). How many states does the minimized machine have?"
      ],
      "metadata": {
        "id": "m3PsiVcfS4e6"
      }
    },
    {
      "cell_type": "markdown",
      "source": [
        "😃"
      ],
      "metadata": {
        "id": "2BAko-Adc2SN"
      }
    },
    {
      "cell_type": "code",
      "source": [
        "print('The minimized machine has', ...expression.., 'states')"
      ],
      "metadata": {
        "id": "w1UgnsdES9KZ"
      },
      "execution_count": null,
      "outputs": []
    },
    {
      "cell_type": "markdown",
      "source": [
        "### 2(i). Which states got eliminated?"
      ],
      "metadata": {
        "id": "h69RZxOATGYv"
      }
    },
    {
      "cell_type": "markdown",
      "source": [
        "😃"
      ],
      "metadata": {
        "id": "6_3zzfqqc5XE"
      }
    },
    {
      "cell_type": "code",
      "execution_count": null,
      "metadata": {
        "id": "-wPCk85IkBkS"
      },
      "outputs": [],
      "source": [
        "#\n",
        "...define this..."
      ]
    },
    {
      "cell_type": "markdown",
      "metadata": {
        "id": "f2-TQO36qw8M"
      },
      "source": [
        "# END"
      ]
    },
    {
      "cell_type": "code",
      "source": [],
      "metadata": {
        "id": "tlM1F61Qc6ne"
      },
      "execution_count": null,
      "outputs": []
    }
  ],
  "metadata": {
    "colab": {
      "provenance": [],
      "include_colab_link": true
    },
    "kernelspec": {
      "display_name": "Python 3",
      "language": "python",
      "name": "python3"
    },
    "language_info": {
      "codemirror_mode": {
        "name": "ipython",
        "version": 3
      },
      "file_extension": ".py",
      "mimetype": "text/x-python",
      "name": "python",
      "nbconvert_exporter": "python",
      "pygments_lexer": "ipython3",
      "version": "3.8.5"
    }
  },
  "nbformat": 4,
  "nbformat_minor": 0
}