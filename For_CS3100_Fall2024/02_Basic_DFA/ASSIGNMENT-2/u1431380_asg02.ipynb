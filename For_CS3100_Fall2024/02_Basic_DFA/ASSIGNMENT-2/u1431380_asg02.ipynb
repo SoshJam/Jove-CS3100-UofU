{
  "cells": [
    {
      "cell_type": "markdown",
      "metadata": {
        "id": "view-in-github",
        "colab_type": "text"
      },
      "source": [
        "<a href=\"https://colab.research.google.com/github/ganeshutah/Jove/blob/master/For_CS3100_Fall2024/02_Basic_DFA/ASSIGNMENT-2/uABCDEFG_asg02.ipynb\" target=\"_parent\"><img src=\"https://colab.research.google.com/assets/colab-badge.svg\" alt=\"Open In Colab\"/></a>"
      ]
    },
    {
      "cell_type": "code",
      "execution_count": null,
      "metadata": {
        "id": "2mGV-Aw3qw8I"
      },
      "outputs": [],
      "source": [
        "#~~~~~~~~~~~~~~~~~~~~~~~~~~~~~~~~~~~~~~~~~~~~~~~~~~~~~~~\n",
        "# If you want to clear outputs for a \"fresh look\", go to Edit and hit \"clear outputs\"\n",
        "#~~~~~~~~~~~~~~~~~~~~~~~~~~~~~~~~~~~~~~~~~~~~~~~~~~~~~~~\n",
        "import sys\n",
        "\n",
        "# -- Detect if in Own Install or in Colab\n",
        "try:\n",
        "    import google.colab\n",
        "    OWN_INSTALL = False\n",
        "except:\n",
        "    OWN_INSTALL = True\n",
        "\n",
        "if OWN_INSTALL:\n",
        "\n",
        "  #---- Leave these definitions ON if running on laptop\n",
        "  #---- Else turn OFF by putting them between ''' ... '''\n",
        "\n",
        "  sys.path[0:0] = ['../../../../..',  '../../../../../3rdparty',\n",
        "                   '../../../..',  '../../../../3rdparty',\n",
        "                   '../../..',     '../../../3rdparty',\n",
        "                   '../..',        '../../3rdparty',\n",
        "                   '..',           '../3rdparty' ]\n",
        "\n",
        "else: # In colab\n",
        "  ! if [ ! -d Jove ]; then git clone https://github.com/ganeshutah/Jove Jove; fi\n",
        "  sys.path.append('./Jove')\n",
        "  sys.path.append('./Jove/jove')\n",
        "\n",
        "# -- common imports --\n",
        "\n",
        "from jove.LangDef   import *  #-- mainly for nthnumeric\n",
        "from jove.Def_md2mc import *  #-- for md2mc\n",
        "from jove.Def_DFA   import *  #-- for all DFA functions\n",
        "from jove.DotBashers import * #-- for dotObj_dfa\n",
        "\n",
        "from jove.Def_NFA import *\n",
        "from jove.Def_RE2NFA import *\n",
        "#~~~~~~~~~~~~~~~~~~~~~~~~~~~~~~~~~~~~~~~~~~~~~~~~~~~~~~~"
      ]
    },
    {
      "cell_type": "markdown",
      "source": [
        "# SUBMISSION REQUIREMENTS\n",
        "* Finish your work to your satisfaction\n",
        "* Restart and run all the cell, *making sure that no cells are kept hidden*\n",
        "* Download the ipynb and submit\n",
        "* If we have issues converting your ipynb to a PDF, we will be contacting you.\n",
        "  (Piazza posting @56_f1 is related)"
      ],
      "metadata": {
        "id": "O3qx_7knijyb"
      }
    },
    {
      "cell_type": "markdown",
      "metadata": {
        "id": "lRsW2w2jt9na"
      },
      "source": [
        "## OVERVIEW OF ALL QUESTIONS (points subject to slight changes):\n",
        "\n",
        "* Question 1 a,b,c,d,e (35%, GH) divided  across 1a, 1b, 1c, 1d and 1e as below. For 1a, the parts i, ii, and iii can be quickly \"eye-ball checked\" and graded.\n",
        "\n",
        " - a: (15%)\n",
        "   - i.   - Define Universe (5%)\n",
        "   - ii.  - Define L_eq and cursory check (5%)\n",
        "   - iii. - Define L_neq and cursory check (5%)\n",
        " - b:  (5%)   - L_eq and L_neq make up the universe\n",
        " - c:  (5%)   - Identify the Missing_Sublanguage by thinking about it. Then write a Python definition to define it\n",
        " - d:  (5%)  - Define the Missing_Sublanguage mathematically using language operations\n",
        " - e:  (5%)   - Check that the union of L_eq, L_neq and Missing_Sublanguage gives you back the Universe\n",
        "\n",
        "* Question 1 (10%, ST)\n",
        "  - f: Define a DFA for the missing language\n",
        "\n",
        "* Question 2 (25%, ST)\n",
        "  - a - DFA_Ends010 defined (10 pts)\n",
        "  - b - DFA_Not_Ends010 defined (10 pts)\n",
        "  - c - OR the above two and get back the Universe (5 pts)\n",
        "\n",
        "* Question 2 (30%, AK)\n",
        "  - d - Mod5 DFA (10 pts)\n",
        "  - e - Intersect with Ends010 (5 pts)\n",
        "  - f - Find out the number of states before minimization (5 pts)\n",
        "  - g - Minimize (5 pts)\n",
        "  - h - How many states in minimized DFA (2 pts)\n",
        "  - i - Which states got eliminated? (3 pts)\n",
        "\n",
        "\n",
        "* (5%, GH) for neat and easy-to-grade answers"
      ]
    },
    {
      "cell_type": "markdown",
      "source": [
        "-----------------"
      ],
      "metadata": {
        "id": "RXiGrUDBhzfX"
      }
    },
    {
      "cell_type": "markdown",
      "source": [],
      "metadata": {
        "id": "tVE6-AOreFa-"
      }
    },
    {
      "cell_type": "markdown",
      "metadata": {
        "id": "lcubR90fcPyi"
      },
      "source": [
        "## Question 1.\n",
        "\n",
        "Consider the language\n",
        "    \n",
        "$$ L_{eq} = \\{ w\\in \\Sigma^{*}_{6}\\;:\\;  w\\; is\\; a\\; string\\; of\\; the\\; form\\; 0^i 1^j\\; where\\; i=j\\}$$  \n",
        "\n",
        "_Note:_ We could have written it as $\\{ w\\in \\Sigma^{*}_{6}\\;:\\;  w\\; is\\; a\\; string\\; of\\; the\\; form\\; 0^i 1^i\\}$. We define it the way we do so that it resemble the $L_{neq}$ definition below.  _End of Note._\n",
        "\n",
        "Now consider a similar-looking language $L_{neq}$\n",
        "    \n",
        "$$ L_{neq} = \\{ w\\in \\Sigma^{*}_{6}\\;:\\; w\\; is\\; a\\; string\\; of\\; the\\; form\\; 0^i 1^j\\; where\\; i\\neq j\\}$$\n",
        "\n",
        "Your task is to explore whether $L_{eq}$ and $L_{neq}$ are complements, i.e. whether $L_{eq} = \\overline{L_{neq}}$. We will be working the universe $\\Sigma^{*}_{6}$, and $\\Sigma=\\{0,1\\}$."
      ]
    },
    {
      "cell_type": "markdown",
      "source": [
        "## 1(a): Defining the Universe explicitly, and then the languages."
      ],
      "metadata": {
        "id": "l1Ds-ZOE6K7R"
      }
    },
    {
      "cell_type": "markdown",
      "source": [],
      "metadata": {
        "id": "OAEi5S8Tw4Vm"
      }
    },
    {
      "cell_type": "markdown",
      "source": [
        "😃"
      ],
      "metadata": {
        "id": "9OvLTUzym1dB"
      }
    },
    {
      "cell_type": "markdown",
      "source": [
        "### 1(a)(i) The Universe part"
      ],
      "metadata": {
        "id": "bzLKKfOvzi6l"
      }
    },
    {
      "cell_type": "code",
      "source": [
        "# Define Sigma\n",
        "# Sigma = ...your answer...\n",
        "# ---\n",
        "#\n",
        "\n",
        "# Define the universe from which the \"w\" comes\n",
        "# Universe ...your answer...\n",
        "#\n",
        "\n",
        "# Evaluate and print, just to be sure\n",
        "print('Universe =', Universe)"
      ],
      "metadata": {
        "id": "QPcElGsim3Ft"
      },
      "execution_count": null,
      "outputs": []
    },
    {
      "cell_type": "markdown",
      "source": [
        "😃"
      ],
      "metadata": {
        "id": "JYwL3SuQj65N"
      }
    },
    {
      "cell_type": "markdown",
      "source": [
        "### 1(a)(ii) The Leq part and double-checking its contents"
      ],
      "metadata": {
        "id": "rarpZYcAzo4K"
      }
    },
    {
      "cell_type": "code",
      "source": [
        "# Define L_eq in Python\n",
        "\n",
        "L_eq = \"define L_eq here using Python's set-comprehension - aka set-builder.\"\n",
        "\n",
        "\n",
        "# Just to double-check that L_eq is correct, evaluate Universe - L_eq and eyeball its contents\n",
        "\n",
        "print('Universe - L_eq =', Universe - L_eq)\n"
      ],
      "metadata": {
        "id": "ZU6LdFKk6VpO"
      },
      "execution_count": null,
      "outputs": []
    },
    {
      "cell_type": "markdown",
      "source": [
        "😃"
      ],
      "metadata": {
        "id": "kBlkFmbMkEZB"
      }
    },
    {
      "cell_type": "markdown",
      "source": [
        "### 1(a)(iii) The L_Neq part and double-checking its contents"
      ],
      "metadata": {
        "id": "4cueoX_pXgYr"
      }
    },
    {
      "cell_type": "code",
      "source": [
        "# Define L_neq in Python\n",
        "\n",
        "L_neq = \"define L_neq here using Python's set-comprehension - aka set-builder.\"\n",
        "\n",
        "\n",
        "# Just to double-check that L_neq is correct, evaluate Universe - L_neq and eyeball its contents\n",
        "\n",
        "print('Universe - L_neq =', Universe - L_neq)\n"
      ],
      "metadata": {
        "id": "urKKDJQZ7fKg"
      },
      "execution_count": null,
      "outputs": []
    },
    {
      "cell_type": "markdown",
      "source": [
        "###Part 1(b): Use any automated approach (i.e. by not walking through each and every string manually) to confirm whether L_eq and L_neq together make up the Universe.\n",
        "\n"
      ],
      "metadata": {
        "id": "RcYxZIHejx1L"
      }
    },
    {
      "cell_type": "markdown",
      "metadata": {
        "id": "EuT_gMTSIXFZ"
      },
      "source": [
        " Fill the code-cell below to compute the union of $L_{eq}$ and $L_{neq}$ using Jove's lunion function. Compare the result to the universe. Let the comparison result be called __Matches__."
      ]
    },
    {
      "cell_type": "markdown",
      "source": [
        "😃"
      ],
      "metadata": {
        "id": "TTu47f0M43aJ"
      }
    },
    {
      "cell_type": "code",
      "source": [
        "# Code for 1(b)\n",
        "\n",
        "Union =   ...define the union of Leq and Lneq...\n",
        "\n",
        "Matches =  ...fill the test as requested...\n",
        "\n",
        "if (Matches):\n",
        "    print('Yes,  L_eq and L_neq together make up the universe')\n",
        "else:\n",
        "    print('No,  L_eq and L_neq together DO NOT make up the universe')\n"
      ],
      "metadata": {
        "id": "4obRghAhIMdT"
      },
      "execution_count": null,
      "outputs": []
    },
    {
      "cell_type": "markdown",
      "source": [
        "## 1(c)\n",
        "\n",
        "If you think they make-up the universe, stop and write a detailed proof that they do make-up the Universe.\n",
        "\n",
        "Else, find the missing strings by defining a \"Missing_Sublanguage\" explicitly. That is, by thinking about the problem, write a piece of code that goes as follows.\n",
        "\n",
        "Some_definition1 = \"...\"\n",
        "\n",
        "Some_definition2 = \"...\"\n",
        "\n",
        "Missing_Sublanguage = \"...one or more lines of Python code that help define the Missing_Sublanguage by using Some_definition1, Some_definition2, etc\"\n",
        "\n",
        "A few more  *OPTIONAL* hints: Just focus on a key property of *ALL* missing strings. What do they look like? Can you express them through a few \"lcat\" based concatenations as \"Any missing string has THIS followed by THIS followed by THIS ...\" . Then make up the THIS followed by via something like this:\n",
        "\n",
        "\n",
        "lcat(ONE_PIECE, lcat(ANOTHER_PIECE, lcat( STILL_ANOTHER_Piece,...)))\n",
        "where you can introduce the ONE_PIECE via your \"Some_definition\"s.\n",
        "\n",
        "You can even get a larger-than-necessary set of missing pieces first, and then trim them down. This is another hint.\n",
        "\n",
        "\n",
        "All_Missing_Strings_With_Some_Possibly_Longer = lcat(ONE_PIECE, lcat(ANOTHER_PIECE, lcat( STILL_ANOTHER_Piece,...)))\n",
        "\n",
        "Missing_Sublanguage = {s : All_Missing_Strings_With_Some_Possibly_Longer if CONDITION}\n",
        "\n",
        "where CONDITION helps trim down the 's'."
      ],
      "metadata": {
        "id": "6UQVVR1O5ixt"
      }
    },
    {
      "cell_type": "markdown",
      "source": [
        "😃"
      ],
      "metadata": {
        "id": "34dcGeOY6mOm"
      }
    },
    {
      "cell_type": "markdown",
      "source": [],
      "metadata": {
        "id": "ljGAjKbH0c2k"
      }
    },
    {
      "cell_type": "code",
      "source": [
        "# Code for 1(c)\n",
        "\n",
        "# Begin Ans\n",
        "Overall_Missing_Patterns = ...define this OPTIONALLY to help you...\n",
        "Missing_Sublanguage =  ...define this, using Overall_Missing_Patterns if you used that...\n",
        "print('Missing_Sublanguage = ', Missing_Sublanguage)"
      ],
      "metadata": {
        "id": "jTmt-XPtPmv-"
      },
      "execution_count": null,
      "outputs": []
    },
    {
      "cell_type": "markdown",
      "source": [
        "### 1(d): Please express the Missing_Sublanguage in the mathematical notation of language construction, i.e. use things like $\\{0,1\\}^{*}\\{1\\}$ and such notations to concatenate a star language with the language containing '1', etc."
      ],
      "metadata": {
        "id": "3nuu7LfNPJmZ"
      }
    },
    {
      "cell_type": "markdown",
      "source": [
        "😃"
      ],
      "metadata": {
        "id": "FFVPUia9PmTP"
      }
    },
    {
      "cell_type": "markdown",
      "source": [
        "# Begin Ans -- which is markdown typeset in math.\n",
        "\n",
        "The Overall_Missing_Patterns can be mathematically defined as follows:\n",
        "\n",
        "  ...define it here...\n",
        "\n",
        " # End Ans"
      ],
      "metadata": {
        "id": "x8nWDeCKMsFL"
      }
    },
    {
      "cell_type": "markdown",
      "source": [
        "### 1(e): Check if the Missing_Sublanguage is correct"
      ],
      "metadata": {
        "id": "ZXT2SbeD9XpF"
      }
    },
    {
      "cell_type": "markdown",
      "source": [
        "Now, it must be the case that lunion(L_eq, lunion(L_neq, Missing_Sublanguage)) equals your Universe. Check it via an if/else block. Write a few lines of code and ensure this is the case.\n",
        "\n",
        "line1 = ...\n",
        "\n",
        "line2 = ...\n",
        "\n",
        "Big_Union = the aforesaid union of three languages\n",
        "\n",
        "if(Big_Union == Universe):\n",
        "\n",
        "  print('I captured the Missing_Sublanguage correctly')\n",
        "\n",
        "else:\n",
        "\n",
        "  print('I must fix my Missing_Sublanguage and come back to this step')"
      ],
      "metadata": {
        "id": "Obmp9sZ28TGf"
      }
    },
    {
      "cell_type": "markdown",
      "source": [
        "😃"
      ],
      "metadata": {
        "id": "kBus0kwL9Ndg"
      }
    },
    {
      "cell_type": "code",
      "source": [
        "# Code for 1(d)\n",
        "# Begin Ans\n",
        "\n",
        "Big_Union = ...\n",
        "\n",
        "if(Universe == Big_Union):\n",
        "    print('I captured the Missing_Sublanguage correctly')\n",
        "else:\n",
        "    print('I must fix my Missing_Sublanguage and come back to this step')"
      ],
      "metadata": {
        "id": "czy8tdjnQZHh"
      },
      "execution_count": null,
      "outputs": []
    },
    {
      "cell_type": "markdown",
      "source": [
        "### 1(f): Build a DFA for the Missing_Sublanguage by entering it in a block of code processed by md2mc, as follows\n",
        "\n"
      ],
      "metadata": {
        "id": "9Bu8BItO_t8c"
      }
    },
    {
      "cell_type": "markdown",
      "source": [
        "😃"
      ],
      "metadata": {
        "id": "xWBwoLencK0T"
      }
    },
    {
      "cell_type": "code",
      "source": [
        "# DFA for Missing_Sublanguage\n",
        "#\n",
        "\n",
        "DFA_for_Missing_Sublanguage = md2mc('''DFA\n",
        " ...Fill this part...\n",
        "''')\n",
        "dotObj_dfa(DFA_for_Missing_Sublanguage, FuseEdges=\"True\")\n",
        "\n"
      ],
      "metadata": {
        "id": "3SfEjleuRKt0"
      },
      "execution_count": null,
      "outputs": []
    },
    {
      "cell_type": "markdown",
      "source": [
        "----------------"
      ],
      "metadata": {
        "id": "9dL3pH-jSx6Z"
      }
    },
    {
      "cell_type": "markdown",
      "metadata": {
        "id": "EIz5YWXVh3bh"
      },
      "source": [
        "## Question 2: I'll mention all the parts first, and then give you the spaces to answer your individual parts."
      ]
    },
    {
      "cell_type": "markdown",
      "metadata": {
        "id": "DFpG_TxDiDnn"
      },
      "source": [
        "2(a): Using Jove's markdown, define a DFA for the language of strings over alphabet $\\{0,1\\}$ that ends in a $010$. Call this DFA \"DFA_Ends010.\"\n",
        "\n",
        "2(b): Now define DFA_Not_Ends010 as a DFA that does not end in 010. Intersect the above DFA and show that the language of the intersection is empty. Apply min_dfa(DFA_Ends010, DFA_Not_Ends010) and observe that the DFA has an empty language.\n",
        "\n",
        "2(c): Again using Jove's markdown, define a DFA for the language of strings over alphabet $\\{0,1\\}$  whose numeric value is evenly divisible by 5 (i.e. mod 5 is 0, or N%5 == 0 for the numeric value being N). Call this DFA \"DFA_Mod5\".\n",
        "\n",
        "*Note*: **Please consider following the conventions in the book which has such DFA starting at an IF state (epsilon input is tantamount to 0).**. We won't dock points if you don't. But the TAs may like a more standardized answer.\n",
        "\n",
        "2(d): Intersect these DFA using the command intersect_dfa(DFA_Ends010, DFA_mod5), calling the intersection DFA_Ends010_and_Mod5."
      ]
    },
    {
      "cell_type": "markdown",
      "metadata": {
        "id": "ORaIciQVr1dM"
      },
      "source": [
        "###Part 2(a):\n",
        "Definition of DFA_Ends010"
      ]
    },
    {
      "cell_type": "markdown",
      "source": [
        "😃"
      ],
      "metadata": {
        "id": "Vj9KWNN0cQ9X"
      }
    },
    {
      "cell_type": "code",
      "execution_count": null,
      "metadata": {
        "id": "hGmeVbJ-jv4N"
      },
      "outputs": [],
      "source": [
        "# Define this DFA, making sure you document it sufficiently (but not excessively)\n",
        "DFA_Ends010 = md2mc('''DFA\n",
        "...\n",
        "''')\n",
        "\n"
      ]
    },
    {
      "cell_type": "code",
      "execution_count": null,
      "metadata": {
        "id": "NfaJEGwKjx3Q"
      },
      "outputs": [],
      "source": [
        "# Let's see the \"Ends010\" machine\n",
        "dotObj_dfa(DFA_Ends010, FuseEdges=True)"
      ]
    },
    {
      "cell_type": "markdown",
      "source": [
        "### 2(b) : A good way to check your work is to define the DFA_Not_Ends010 and intersect to obtain a DFA with an empty language. You can also apply a min_dfa(...) to see the minimized form of the DFA for a quicker check."
      ],
      "metadata": {
        "id": "v4LONyu7SpYj"
      }
    },
    {
      "cell_type": "markdown",
      "source": [
        "😃"
      ],
      "metadata": {
        "id": "T_2uhxixcT8U"
      }
    },
    {
      "cell_type": "code",
      "source": [
        "DFA_Not_Ends010 =\n",
        "\n",
        "\n",
        "\n",
        "dotObj_dfa(DFA_Not_Ends010, FuseEdges=True)\n"
      ],
      "metadata": {
        "id": "_sdTqcvdTyBI"
      },
      "execution_count": null,
      "outputs": []
    },
    {
      "cell_type": "markdown",
      "source": [
        "😃"
      ],
      "metadata": {
        "id": "6oIraJt6cZ0P"
      }
    },
    {
      "cell_type": "code",
      "source": [
        "Ends010_and_not_Ends010 = ...define this...\n",
        "dotObj_dfa(Ends010_and_not_Ends010)"
      ],
      "metadata": {
        "id": "ybKBkbzfVNcA"
      },
      "execution_count": null,
      "outputs": []
    },
    {
      "cell_type": "code",
      "source": [
        "dotObj_dfa(min_dfa(Ends010_and_not_Ends010))"
      ],
      "metadata": {
        "id": "B_4ssZ5kLW7g"
      },
      "execution_count": null,
      "outputs": []
    },
    {
      "cell_type": "markdown",
      "source": [],
      "metadata": {
        "id": "JUQ-iEQTceOm"
      }
    },
    {
      "cell_type": "markdown",
      "source": [
        "### 2(c). Now try OR of both the languages and get a machine that accepts all strings. Then we know that the machine we designed DFA_Ends010 is much more believable."
      ],
      "metadata": {
        "id": "RFdFE_99MlY8"
      }
    },
    {
      "cell_type": "markdown",
      "source": [
        "😃"
      ],
      "metadata": {
        "id": "cfqWf9HkcdPj"
      }
    },
    {
      "cell_type": "code",
      "source": [
        "Ends010_or_not_Ends010 = ...define this...\n",
        "dotObj_dfa(min_dfa(Ends010_or_not_Ends010))"
      ],
      "metadata": {
        "id": "UrAhtDN8Mtml"
      },
      "execution_count": null,
      "outputs": []
    },
    {
      "cell_type": "markdown",
      "source": [
        "### At this point we know that our design of DFA_Ends010 is trustworthy."
      ],
      "metadata": {
        "id": "QGcDXm-NN-_A"
      }
    },
    {
      "cell_type": "markdown",
      "source": [
        "### 2(d). At this point, you are going to obtain more DFA design experience. Define DFA_Mod5, a DFA that accepts any binary sequence whose numeric value is evenly divisible by 5.\n",
        "\n",
        "Design of the DFA\n",
        "\n",
        "* Each state remembers the number seen so far, mod 5\n"
      ],
      "metadata": {
        "id": "i4E286c4OPyl"
      }
    },
    {
      "cell_type": "markdown",
      "source": [
        "😃"
      ],
      "metadata": {
        "id": "QzrlfAFWckM8"
      }
    },
    {
      "cell_type": "code",
      "source": [
        "DFA_Mod5 = ...define this...\n",
        "dotObj_dfa(DFA_Mod5, FuseEdges=True)"
      ],
      "metadata": {
        "id": "ZA_HYsQQkgBF"
      },
      "execution_count": null,
      "outputs": []
    },
    {
      "cell_type": "markdown",
      "source": [
        "😃"
      ],
      "metadata": {
        "id": "aSPoUvfXcnFV"
      }
    },
    {
      "cell_type": "markdown",
      "metadata": {
        "id": "BT2DDD6lr8ym"
      },
      "source": [
        "### Part 2(e)\n",
        "\n",
        "Compute the intersection of the DFA_Mod5 language with that of DFA_Ends010. This is a language that would have been hard to directly design as a DFA (that being the lesson you obtain)"
      ]
    },
    {
      "cell_type": "code",
      "source": [
        "DFA_Mod5_And_Ends010 = ...define this...\n",
        "dotObj_dfa(DFA_Mod5_And_Ends010, FuseEdges=True)"
      ],
      "metadata": {
        "id": "LCS1kCa3ncJz"
      },
      "execution_count": null,
      "outputs": []
    },
    {
      "cell_type": "markdown",
      "source": [
        "### 2(f). Wow, this is a large DFA; how many states does it have? Find this out"
      ],
      "metadata": {
        "id": "RdCICzynPdBZ"
      }
    },
    {
      "cell_type": "code",
      "source": [
        "print('DFA_Mod5_And_Ends010 has', ...expression..., 'states')"
      ],
      "metadata": {
        "id": "-EYUMJxnPkeR"
      },
      "execution_count": null,
      "outputs": []
    },
    {
      "cell_type": "markdown",
      "source": [],
      "metadata": {
        "id": "hxgAUXMfix9m"
      }
    },
    {
      "cell_type": "markdown",
      "source": [
        "😃"
      ],
      "metadata": {
        "id": "ifeGyjupcpSF"
      }
    },
    {
      "cell_type": "markdown",
      "source": [
        "### 2(g). Minimize this DFA"
      ],
      "metadata": {
        "id": "Vn4lPapKPrIZ"
      }
    },
    {
      "cell_type": "code",
      "source": [
        "help(min_dfa)"
      ],
      "metadata": {
        "id": "uOSrC29Un4R_"
      },
      "execution_count": null,
      "outputs": []
    },
    {
      "cell_type": "markdown",
      "source": [
        "😃"
      ],
      "metadata": {
        "id": "AqBEsHSFctTk"
      }
    },
    {
      "cell_type": "code",
      "source": [
        "Min_DFA_Mod5_And_Ends010 =  ...define this...\n",
        "dotObj_dfa(Min_DFA_Mod5_And_Ends010, FuseEdges=True)"
      ],
      "metadata": {
        "id": "b039sOkfn1dS"
      },
      "execution_count": null,
      "outputs": []
    },
    {
      "cell_type": "markdown",
      "source": [],
      "metadata": {
        "id": "9RLqsGvIV09N"
      }
    },
    {
      "cell_type": "markdown",
      "source": [
        "### 2(h). How many states does the minimized machine have?"
      ],
      "metadata": {
        "id": "m3PsiVcfS4e6"
      }
    },
    {
      "cell_type": "markdown",
      "source": [
        "😃"
      ],
      "metadata": {
        "id": "2BAko-Adc2SN"
      }
    },
    {
      "cell_type": "code",
      "source": [
        "print('The minimized machine has', ...expression.., 'states')"
      ],
      "metadata": {
        "id": "w1UgnsdES9KZ"
      },
      "execution_count": null,
      "outputs": []
    },
    {
      "cell_type": "markdown",
      "source": [
        "### 2(i). Which states got eliminated?"
      ],
      "metadata": {
        "id": "h69RZxOATGYv"
      }
    },
    {
      "cell_type": "markdown",
      "source": [
        "😃"
      ],
      "metadata": {
        "id": "6_3zzfqqc5XE"
      }
    },
    {
      "cell_type": "code",
      "execution_count": null,
      "metadata": {
        "id": "-wPCk85IkBkS"
      },
      "outputs": [],
      "source": [
        "#\n",
        "...define this..."
      ]
    },
    {
      "cell_type": "markdown",
      "metadata": {
        "id": "f2-TQO36qw8M"
      },
      "source": [
        "# END"
      ]
    },
    {
      "cell_type": "code",
      "source": [],
      "metadata": {
        "id": "tlM1F61Qc6ne"
      },
      "execution_count": null,
      "outputs": []
    }
  ],
  "metadata": {
    "colab": {
      "provenance": [],
      "include_colab_link": true
    },
    "kernelspec": {
      "display_name": "Python 3",
      "language": "python",
      "name": "python3"
    },
    "language_info": {
      "codemirror_mode": {
        "name": "ipython",
        "version": 3
      },
      "file_extension": ".py",
      "mimetype": "text/x-python",
      "name": "python",
      "nbconvert_exporter": "python",
      "pygments_lexer": "ipython3",
      "version": "3.8.5"
    }
  },
  "nbformat": 4,
  "nbformat_minor": 0
}
