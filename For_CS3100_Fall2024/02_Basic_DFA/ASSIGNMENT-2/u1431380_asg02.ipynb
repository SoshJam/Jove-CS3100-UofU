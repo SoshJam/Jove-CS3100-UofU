{
  "cells": [
    {
      "cell_type": "markdown",
      "metadata": {
        "id": "view-in-github",
        "colab_type": "text"
      },
      "source": [
        "<a href=\"https://colab.research.google.com/github/SoshJam/Jove-CS3100-UofU/blob/master/For_CS3100_Fall2024/02_Basic_DFA/ASSIGNMENT-2/u1431380_asg02.ipynb\" target=\"_parent\"><img src=\"https://colab.research.google.com/assets/colab-badge.svg\" alt=\"Open In Colab\"/></a>"
      ]
    },
    {
      "cell_type": "code",
      "execution_count": 2,
      "metadata": {
        "id": "2mGV-Aw3qw8I",
        "outputId": "c169c6f5-8e9d-431a-ce9a-57b2e5d6eb7d",
        "colab": {
          "base_uri": "https://localhost:8080/"
        }
      },
      "outputs": [
        {
          "output_type": "stream",
          "name": "stdout",
          "text": [
            "Cloning into 'Jove'...\n",
            "remote: Enumerating objects: 6606, done.\u001b[K\n",
            "remote: Counting objects: 100% (1972/1972), done.\u001b[K\n",
            "remote: Compressing objects: 100% (746/746), done.\u001b[K\n",
            "remote: Total 6606 (delta 1200), reused 1901 (delta 1146), pack-reused 4634 (from 1)\u001b[K\n",
            "Receiving objects: 100% (6606/6606), 10.53 MiB | 15.45 MiB/s, done.\n",
            "Resolving deltas: 100% (4205/4205), done.\n",
            "You may use any of these help commands:\n",
            "help(lphi)\n",
            "help(lunit)\n",
            "help(lcat)\n",
            "help(lexp)\n",
            "help(lunion)\n",
            "help(lstar)\n",
            "help(srev)\n",
            "help(lrev)\n",
            "help(shomo)\n",
            "help(lhomo)\n",
            "help(powset)\n",
            "help(lint)\n",
            "help(lsymdiff)\n",
            "help(lminus)\n",
            "help(lissubset)\n",
            "help(lissuperset)\n",
            "help(lcomplem)\n",
            "help(product)\n",
            "help(nthnumeric)\n",
            "\n",
            "You may use any of these help commands:\n",
            "help(md2mc)\n",
            ".. and if you want to dig more, then ..\n",
            "help(default_line_attr)\n",
            "help(length_ok_input_items)\n",
            "help(union_line_attr_list_fld)\n",
            "help(extend_rsltdict)\n",
            "help(form_delta)\n",
            "help(get_machine_components)\n",
            "\n",
            "You may use any of these help commands:\n",
            "help(ResetStNum)\n",
            "help(NxtStateStr)\n",
            "\n",
            "You may use any of these help commands:\n",
            "help(mkp_dfa)\n",
            "help(mk_dfa)\n",
            "help(totalize_dfa)\n",
            "help(addtosigma_delta)\n",
            "help(step_dfa)\n",
            "help(run_dfa)\n",
            "help(accepts_dfa)\n",
            "help(comp_dfa)\n",
            "help(flTup)\n",
            "help(union_dfa)\n",
            "help(intersect_dfa)\n",
            "help(pruneUnreach)\n",
            "help(iso_dfa)\n",
            "help(langeq_dfa)\n",
            "help(same_status)\n",
            "help(h_langeq_dfa)\n",
            "help(fixptDist)\n",
            "help(min_dfa)\n",
            "help(pairFR)\n",
            "help(state_combos)\n",
            "help(sepFinNonFin)\n",
            "help(bash_eql_classes)\n",
            "help(listminus)\n",
            "help(bash_1)\n",
            "help(mk_rep_eqc)\n",
            "help(F_of)\n",
            "help(rep_of_s)\n",
            "help(q0_of)\n",
            "help(Delta_of)\n",
            "help(mk_state_eqc_name)\n",
            "\n",
            "You may use any of these help commands:\n",
            "help(mk_nfa)\n",
            "help(totalize_nfa)\n",
            "help(step_nfa)\n",
            "help(run_nfa)\n",
            "help(ec_step_nfa)\n",
            "help(Eclosure)\n",
            "help(Echelp)\n",
            "help(accepts_nfa)\n",
            "help(nfa2dfa)\n",
            "help(n2d)\n",
            "help(inSets)\n",
            "help(rev_dfa)\n",
            "help(min_dfa_brz)\n",
            "\n",
            "You may use any of these help commands:\n",
            "help(re2nfa)\n",
            "\n"
          ]
        }
      ],
      "source": [
        "#~~~~~~~~~~~~~~~~~~~~~~~~~~~~~~~~~~~~~~~~~~~~~~~~~~~~~~~\n",
        "# If you want to clear outputs for a \"fresh look\", go to Edit and hit \"clear outputs\"\n",
        "#~~~~~~~~~~~~~~~~~~~~~~~~~~~~~~~~~~~~~~~~~~~~~~~~~~~~~~~\n",
        "import sys\n",
        "\n",
        "# -- Detect if in Own Install or in Colab\n",
        "try:\n",
        "    import google.colab\n",
        "    OWN_INSTALL = False\n",
        "except:\n",
        "    OWN_INSTALL = True\n",
        "\n",
        "if OWN_INSTALL:\n",
        "\n",
        "  #---- Leave these definitions ON if running on laptop\n",
        "  #---- Else turn OFF by putting them between ''' ... '''\n",
        "\n",
        "  sys.path[0:0] = ['../../../../..',  '../../../../../3rdparty',\n",
        "                   '../../../..',  '../../../../3rdparty',\n",
        "                   '../../..',     '../../../3rdparty',\n",
        "                   '../..',        '../../3rdparty',\n",
        "                   '..',           '../3rdparty' ]\n",
        "\n",
        "else: # In colab\n",
        "  ! if [ ! -d Jove ]; then git clone https://github.com/ganeshutah/Jove Jove; fi\n",
        "  sys.path.append('./Jove')\n",
        "  sys.path.append('./Jove/jove')\n",
        "\n",
        "# -- common imports --\n",
        "\n",
        "from jove.LangDef   import *  #-- mainly for nthnumeric\n",
        "from jove.Def_md2mc import *  #-- for md2mc\n",
        "from jove.Def_DFA   import *  #-- for all DFA functions\n",
        "from jove.DotBashers import * #-- for dotObj_dfa\n",
        "\n",
        "from jove.Def_NFA import *\n",
        "from jove.Def_RE2NFA import *\n",
        "#~~~~~~~~~~~~~~~~~~~~~~~~~~~~~~~~~~~~~~~~~~~~~~~~~~~~~~~"
      ]
    },
    {
      "cell_type": "markdown",
      "source": [
        "# SUBMISSION REQUIREMENTS\n",
        "* Finish your work to your satisfaction\n",
        "* Restart and run all the cell, *making sure that no cells are kept hidden*\n",
        "* Download the ipynb and submit\n",
        "* If we have issues converting your ipynb to a PDF, we will be contacting you.\n",
        "  (Piazza posting @56_f1 is related)"
      ],
      "metadata": {
        "id": "O3qx_7knijyb"
      }
    },
    {
      "cell_type": "markdown",
      "metadata": {
        "id": "lRsW2w2jt9na"
      },
      "source": [
        "## OVERVIEW OF ALL QUESTIONS (points subject to slight changes):\n",
        "\n",
        "* Question 1 a,b,c,d,e (35%, GH) divided  across 1a, 1b, 1c, 1d and 1e as below. For 1a, the parts i, ii, and iii can be quickly \"eye-ball checked\" and graded.\n",
        "\n",
        " - a: (15%)\n",
        "   - i.   - Define Universe (5%)\n",
        "   - ii.  - Define L_eq and cursory check (5%)\n",
        "   - iii. - Define L_neq and cursory check (5%)\n",
        " - b:  (5%)   - L_eq and L_neq make up the universe\n",
        " - c:  (5%)   - Identify the Missing_Sublanguage by thinking about it. Then write a Python definition to define it\n",
        " - d:  (5%)  - Define the Missing_Sublanguage mathematically using language operations\n",
        " - e:  (5%)   - Check that the union of L_eq, L_neq and Missing_Sublanguage gives you back the Universe\n",
        "\n",
        "* Question 1 (10%, ST)\n",
        "  - f: Define a DFA for the missing language\n",
        "\n",
        "* Question 2 (25%, ST)\n",
        "  - a - DFA_Ends010 defined (10 pts)\n",
        "  - b - DFA_Not_Ends010 defined (10 pts)\n",
        "  - c - OR the above two and get back the Universe (5 pts)\n",
        "\n",
        "* Question 2 (30%, AK)\n",
        "  - d - Mod5 DFA (10 pts)\n",
        "  - e - Intersect with Ends010 (5 pts)\n",
        "  - f - Find out the number of states before minimization (5 pts)\n",
        "  - g - Minimize (5 pts)\n",
        "  - h - How many states in minimized DFA (2 pts)\n",
        "  - i - Which states got eliminated? (3 pts)\n",
        "\n",
        "\n",
        "* (5%, GH) for neat and easy-to-grade answers"
      ]
    },
    {
      "cell_type": "markdown",
      "source": [
        "-----------------"
      ],
      "metadata": {
        "id": "RXiGrUDBhzfX"
      }
    },
    {
      "cell_type": "markdown",
      "source": [],
      "metadata": {
        "id": "tVE6-AOreFa-"
      }
    },
    {
      "cell_type": "markdown",
      "metadata": {
        "id": "lcubR90fcPyi"
      },
      "source": [
        "## Question 1.\n",
        "\n",
        "Consider the language\n",
        "    \n",
        "$$ L_{eq} = \\{ w\\in \\Sigma^{*}_{6}\\;:\\;  w\\; is\\; a\\; string\\; of\\; the\\; form\\; 0^i 1^j\\; where\\; i=j\\}$$  \n",
        "\n",
        "_Note:_ We could have written it as $\\{ w\\in \\Sigma^{*}_{6}\\;:\\;  w\\; is\\; a\\; string\\; of\\; the\\; form\\; 0^i 1^i\\}$. We define it the way we do so that it resemble the $L_{neq}$ definition below.  _End of Note._\n",
        "\n",
        "Now consider a similar-looking language $L_{neq}$\n",
        "    \n",
        "$$ L_{neq} = \\{ w\\in \\Sigma^{*}_{6}\\;:\\; w\\; is\\; a\\; string\\; of\\; the\\; form\\; 0^i 1^j\\; where\\; i\\neq j\\}$$\n",
        "\n",
        "Your task is to explore whether $L_{eq}$ and $L_{neq}$ are complements, i.e. whether $L_{eq} = \\overline{L_{neq}}$. We will be working the universe $\\Sigma^{*}_{6}$, and $\\Sigma=\\{0,1\\}$."
      ]
    },
    {
      "cell_type": "markdown",
      "source": [
        "## 1(a): Defining the Universe explicitly, and then the languages."
      ],
      "metadata": {
        "id": "l1Ds-ZOE6K7R"
      }
    },
    {
      "cell_type": "markdown",
      "source": [],
      "metadata": {
        "id": "OAEi5S8Tw4Vm"
      }
    },
    {
      "cell_type": "markdown",
      "source": [
        "😃"
      ],
      "metadata": {
        "id": "9OvLTUzym1dB"
      }
    },
    {
      "cell_type": "markdown",
      "source": [
        "### 1(a)(i) The Universe part"
      ],
      "metadata": {
        "id": "bzLKKfOvzi6l"
      }
    },
    {
      "cell_type": "code",
      "source": [
        "# Define Sigma\n",
        "# Sigma = ...your answer...\n",
        "# ---\n",
        "#\n",
        "\n",
        "Sigma = { '0', '1' }\n",
        "\n",
        "# Define the universe from which the \"w\" comes\n",
        "# Universe ...your answer...\n",
        "#\n",
        "Universe = lstar(Sigma, 6)\n",
        "\n",
        "# Evaluate and print, just to be sure\n",
        "print('Universe =', Universe)"
      ],
      "metadata": {
        "id": "QPcElGsim3Ft",
        "outputId": "32c8b560-2a47-4477-d2ec-f29aae04ea37",
        "colab": {
          "base_uri": "https://localhost:8080/"
        }
      },
      "execution_count": 3,
      "outputs": [
        {
          "output_type": "stream",
          "name": "stdout",
          "text": [
            "Universe = {'011101', '000101', '', '10011', '10110', '001111', '11111', '01001', '011', '101', '110100', '11010', '0001', '111111', '00010', '101000', '010110', '111', '111110', '000001', '101011', '001001', '1011', '10101', '01', '000000', '001110', '110001', '010000', '010111', '00011', '00111', '100011', '10', '100111', '101010', '000111', '001000', '1100', '0100', '111010', '101110', '000110', '011011', '100001', '011100', '010001', '100100', '1110', '001', '101100', '011000', '00100', '0110', '11110', '00001', '01101', '110000', '00110', '1101', '0011', '10000', '11000', '0000', '000100', '100', '111000', '010', '11100', '010010', '01010', '0010', '1000', '10001', '001100', '00000', '0101', '110', '010101', '110101', '011111', '000010', '111011', '00101', '100010', '110110', '100101', '11101', '101001', '000', '10100', '001010', '01110', '1010', '000011', '001011', '0111', '111001', '00', '011001', '100000', '111101', '01111', '100110', '110010', '10010', '110011', '01000', '1001', '001101', '11001', '101101', '010011', '011010', '11', '1111', '111100', '01100', '01011', '010100', '1', '0', '101111', '110111', '011110', '10111', '11011'}\n"
          ]
        }
      ]
    },
    {
      "cell_type": "markdown",
      "source": [
        "😃"
      ],
      "metadata": {
        "id": "JYwL3SuQj65N"
      }
    },
    {
      "cell_type": "markdown",
      "source": [
        "### 1(a)(ii) The Leq part and double-checking its contents"
      ],
      "metadata": {
        "id": "rarpZYcAzo4K"
      }
    },
    {
      "cell_type": "code",
      "source": [
        "# Define L_eq in Python\n",
        "\n",
        "L_eq = set( '0' * i + '1' * j for i in range(0,7) for j in range (0,7) if i == j and i + j <= 6 )\n",
        "\n",
        "# Just to double-check that L_eq is correct, evaluate Universe - L_eq and eyeball its contents\n",
        "\n",
        "print('Universe - L_eq =', Universe - L_eq)"
      ],
      "metadata": {
        "id": "ZU6LdFKk6VpO",
        "outputId": "79b1e96d-a02a-48c6-8225-e3fc8d8c211e",
        "colab": {
          "base_uri": "https://localhost:8080/"
        }
      },
      "execution_count": 4,
      "outputs": [
        {
          "output_type": "stream",
          "name": "stdout",
          "text": [
            "Universe - L_eq = {'011101', '000101', '10011', '10110', '001111', '11111', '01001', '011', '101', '110100', '11010', '0001', '111111', '00010', '101000', '010110', '111', '111110', '000001', '101011', '001001', '1011', '10101', '000000', '001110', '110001', '010000', '010111', '00011', '00111', '100011', '10', '100111', '101010', '001000', '1100', '0100', '111010', '101110', '000110', '011011', '100001', '011100', '010001', '100100', '1110', '001', '101100', '011000', '00100', '0110', '11110', '00001', '01101', '110000', '00110', '1101', '10000', '11000', '0000', '000100', '100', '111000', '010', '11100', '010010', '01010', '0010', '1000', '10001', '001100', '00000', '0101', '110', '010101', '110101', '011111', '000010', '111011', '00101', '100010', '110110', '100101', '11101', '101001', '000', '10100', '001010', '01110', '1010', '000011', '001011', '0111', '111001', '00', '011001', '100000', '111101', '01111', '100110', '110010', '10010', '110011', '01000', '1001', '001101', '11001', '101101', '010011', '011010', '11', '1111', '111100', '01100', '01011', '010100', '1', '0', '101111', '110111', '011110', '10111', '11011'}\n"
          ]
        }
      ]
    },
    {
      "cell_type": "markdown",
      "source": [
        "😃"
      ],
      "metadata": {
        "id": "kBlkFmbMkEZB"
      }
    },
    {
      "cell_type": "markdown",
      "source": [
        "### 1(a)(iii) The L_Neq part and double-checking its contents"
      ],
      "metadata": {
        "id": "4cueoX_pXgYr"
      }
    },
    {
      "cell_type": "code",
      "source": [
        "# Define L_neq in Python\n",
        "\n",
        "L_neq = set( '0' * i + '1' * j for i in range(0,7) for j in range (0,7) if i != j and i + j <= 6 )\n",
        "\n",
        "\n",
        "# Just to double-check that L_neq is correct, evaluate Universe - L_neq and eyeball its contents\n",
        "\n",
        "print('Universe - L_neq =', Universe - L_neq)\n"
      ],
      "metadata": {
        "id": "urKKDJQZ7fKg",
        "outputId": "ab9d5929-d9bf-42c2-8168-075d859f3ad4",
        "colab": {
          "base_uri": "https://localhost:8080/"
        }
      },
      "execution_count": 5,
      "outputs": [
        {
          "output_type": "stream",
          "name": "stdout",
          "text": [
            "Universe - L_neq = {'011101', '000101', '', '10011', '10110', '01001', '101', '110100', '11010', '00010', '101000', '010110', '111110', '101011', '001001', '1011', '10101', '01', '001110', '110001', '010000', '010111', '100011', '10', '100111', '101010', '000111', '001000', '1100', '0100', '111010', '101110', '000110', '011011', '100001', '011100', '010001', '100100', '1110', '101100', '011000', '00100', '0110', '11110', '01101', '110000', '00110', '1101', '0011', '10000', '11000', '000100', '100', '111000', '010', '11100', '010010', '01010', '0010', '1000', '10001', '001100', '0101', '110', '010101', '110101', '000010', '111011', '00101', '100010', '110110', '100101', '11101', '101001', '10100', '001010', '01110', '1010', '001011', '111001', '011001', '100000', '111101', '100110', '110010', '10010', '110011', '01000', '1001', '001101', '11001', '101101', '010011', '011010', '111100', '01100', '01011', '010100', '101111', '110111', '011110', '10111', '11011'}\n"
          ]
        }
      ]
    },
    {
      "cell_type": "markdown",
      "source": [
        "###Part 1(b): Use any automated approach (i.e. by not walking through each and every string manually) to confirm whether L_eq and L_neq together make up the Universe.\n",
        "\n"
      ],
      "metadata": {
        "id": "RcYxZIHejx1L"
      }
    },
    {
      "cell_type": "markdown",
      "metadata": {
        "id": "EuT_gMTSIXFZ"
      },
      "source": [
        " Fill the code-cell below to compute the union of $L_{eq}$ and $L_{neq}$ using Jove's lunion function. Compare the result to the universe. Let the comparison result be called __Matches__."
      ]
    },
    {
      "cell_type": "markdown",
      "source": [
        "😃"
      ],
      "metadata": {
        "id": "TTu47f0M43aJ"
      }
    },
    {
      "cell_type": "code",
      "source": [
        "# Code for 1(b)\n",
        "\n",
        "Union = lunion( L_eq, L_neq )\n",
        "\n",
        "Matches =  Union == Universe\n",
        "\n",
        "if (Matches):\n",
        "    print('Yes,  L_eq and L_neq together make up the universe')\n",
        "else:\n",
        "    print('No,  L_eq and L_neq together DO NOT make up the universe')\n"
      ],
      "metadata": {
        "id": "4obRghAhIMdT",
        "outputId": "2711b244-aea6-4669-f3fd-70360f64f618",
        "colab": {
          "base_uri": "https://localhost:8080/"
        }
      },
      "execution_count": 6,
      "outputs": [
        {
          "output_type": "stream",
          "name": "stdout",
          "text": [
            "No,  L_eq and L_neq together DO NOT make up the universe\n"
          ]
        }
      ]
    },
    {
      "cell_type": "markdown",
      "source": [
        "## 1(c)\n",
        "\n",
        "If you think they make-up the universe, stop and write a detailed proof that they do make-up the Universe.\n",
        "\n",
        "Else, find the missing strings by defining a \"Missing_Sublanguage\" explicitly. That is, by thinking about the problem, write a piece of code that goes as follows.\n",
        "\n",
        "Some_definition1 = \"...\"\n",
        "\n",
        "Some_definition2 = \"...\"\n",
        "\n",
        "Missing_Sublanguage = \"...one or more lines of Python code that help define the Missing_Sublanguage by using Some_definition1, Some_definition2, etc\"\n",
        "\n",
        "A few more  *OPTIONAL* hints: Just focus on a key property of *ALL* missing strings. What do they look like? Can you express them through a few \"lcat\" based concatenations as \"Any missing string has THIS followed by THIS followed by THIS ...\" . Then make up the THIS followed by via something like this:\n",
        "\n",
        "\n",
        "lcat(ONE_PIECE, lcat(ANOTHER_PIECE, lcat( STILL_ANOTHER_Piece,...)))\n",
        "where you can introduce the ONE_PIECE via your \"Some_definition\"s.\n",
        "\n",
        "You can even get a larger-than-necessary set of missing pieces first, and then trim them down. This is another hint.\n",
        "\n",
        "\n",
        "All_Missing_Strings_With_Some_Possibly_Longer = lcat(ONE_PIECE, lcat(ANOTHER_PIECE, lcat( STILL_ANOTHER_Piece,...)))\n",
        "\n",
        "Missing_Sublanguage = {s : All_Missing_Strings_With_Some_Possibly_Longer if CONDITION}\n",
        "\n",
        "where CONDITION helps trim down the 's'."
      ],
      "metadata": {
        "id": "6UQVVR1O5ixt"
      }
    },
    {
      "cell_type": "markdown",
      "source": [
        "😃"
      ],
      "metadata": {
        "id": "34dcGeOY6mOm"
      }
    },
    {
      "cell_type": "markdown",
      "source": [],
      "metadata": {
        "id": "ljGAjKbH0c2k"
      }
    },
    {
      "cell_type": "code",
      "source": [
        "# Code for 1(c)\n",
        "\n",
        "# Well the problem with L_eq and L_neq is that they only considered strings of the form { 0^i 1^j }, so anything with a 1 followed by a 0 anywhere in the string should be in the missing language.\n",
        "# To cover all our bases, we can just use (0+1)* 10 (0+1)*.\n",
        "# The code is restricted to the universe Sigma*6 so we have to get more creative with the set construction.\n",
        "\n",
        "# If there is a 10 in the string, the other 4 characters can be anything and go anywhere in it. It would be helpful to define the smaller degrees of Sigma*\n",
        "\n",
        "SS4 = lstar(Sigma, 4)\n",
        "SS3 = lstar(Sigma, 3)\n",
        "SS2 = lstar(Sigma, 2)\n",
        "SS1 = lstar(Sigma, 1)\n",
        "SS0 = set([''])\n",
        "\n",
        "# For example, S4 = Sigma*4 - Sigma*3 = all strings {0,1}* of length exactly 4\n",
        "S4 = SS4 - SS3\n",
        "S3 = SS3 - SS2\n",
        "S2 = SS2 - SS1\n",
        "S1 = SS1 - SS0\n",
        "S0 = SS0\n",
        "\n",
        "# Ls[i] has all strings over {0,1} with length exactly i\n",
        "Ls = [ S0, S1, S2, S3, S4 ]\n",
        "\n",
        "# Now we just concatenate these all around our target string, making sure the total length is 6\n",
        "sub_sublanguages = [ lcat( Ls[i], lcat( set(['10']), Ls[j] ) ) for i in range(0,5) for j in range(0,5) if i+2+j <= 6 ]\n",
        "\n",
        "# Now we just combine them all into one language\n",
        "Missing_Sublanguage = set()\n",
        "\n",
        "for ssl in sub_sublanguages:\n",
        "  Missing_Sublanguage = Missing_Sublanguage.union(ssl)\n",
        "\n",
        "print('Missing_Sublanguage = ', Missing_Sublanguage)"
      ],
      "metadata": {
        "id": "jTmt-XPtPmv-",
        "outputId": "659052f2-9306-4ca1-d57d-73b6106867e3",
        "colab": {
          "base_uri": "https://localhost:8080/"
        }
      },
      "execution_count": 7,
      "outputs": [
        {
          "output_type": "stream",
          "name": "stdout",
          "text": [
            "Missing_Sublanguage =  {'011101', '000101', '10011', '10110', '01001', '101', '110100', '11010', '00010', '101000', '010110', '111110', '101011', '001001', '1011', '10101', '010111', '110001', '010000', '001110', '100011', '10', '100111', '101010', '001000', '1100', '0100', '111010', '101110', '000110', '011011', '100001', '011100', '010001', '100100', '1110', '101100', '011000', '00100', '0110', '11110', '01101', '110000', '00110', '1101', '10000', '11000', '000100', '100', '010', '111000', '11100', '010010', '01010', '0010', '1000', '10001', '001100', '0101', '110', '010101', '110101', '000010', '111011', '00101', '100101', '100010', '110110', '11101', '101001', '10100', '001010', '01110', '1010', '001011', '111001', '011001', '100000', '111101', '10010', '100110', '01000', '110010', '110011', '1001', '001101', '11001', '101101', '010011', '011010', '111100', '01011', '01100', '010100', '101111', '110111', '011110', '10111', '11011'}\n"
          ]
        }
      ]
    },
    {
      "cell_type": "markdown",
      "source": [
        "### 1(d): Please express the Missing_Sublanguage in the mathematical notation of language construction, i.e. use things like $\\{0,1\\}^{*}\\{1\\}$ and such notations to concatenate a star language with the language containing '1', etc."
      ],
      "metadata": {
        "id": "3nuu7LfNPJmZ"
      }
    },
    {
      "cell_type": "markdown",
      "source": [
        "😃"
      ],
      "metadata": {
        "id": "FFVPUia9PmTP"
      }
    },
    {
      "cell_type": "markdown",
      "source": [
        "This does not have a constraint for being of length 6, but according to a Piazza note that was actually better.\n",
        "$$\\{0,1\\}^*\\{10\\}\\{0,1\\}^*$$"
      ],
      "metadata": {
        "id": "DU5WVrQx-rcd"
      }
    },
    {
      "cell_type": "markdown",
      "source": [
        "# Begin Ans -- which is markdown typeset in math.\n",
        "\n",
        "The Overall_Missing_Patterns can be mathematically defined as follows:\n",
        "\n",
        " I did not use Overall_Missing_Patterns as it said it was optional and I wasn't totally sure what it referred to.\n",
        "\n",
        " # End Ans"
      ],
      "metadata": {
        "id": "x8nWDeCKMsFL"
      }
    },
    {
      "cell_type": "markdown",
      "source": [
        "### 1(e): Check if the Missing_Sublanguage is correct"
      ],
      "metadata": {
        "id": "ZXT2SbeD9XpF"
      }
    },
    {
      "cell_type": "markdown",
      "source": [
        "Now, it must be the case that lunion(L_eq, lunion(L_neq, Missing_Sublanguage)) equals your Universe. Check it via an if/else block. Write a few lines of code and ensure this is the case.\n",
        "\n",
        "line1 = ...\n",
        "\n",
        "line2 = ...\n",
        "\n",
        "Big_Union = the aforesaid union of three languages\n",
        "\n",
        "if(Big_Union == Universe):\n",
        "\n",
        "  print('I captured the Missing_Sublanguage correctly')\n",
        "\n",
        "else:\n",
        "\n",
        "  print('I must fix my Missing_Sublanguage and come back to this step')"
      ],
      "metadata": {
        "id": "Obmp9sZ28TGf"
      }
    },
    {
      "cell_type": "markdown",
      "source": [
        "😃"
      ],
      "metadata": {
        "id": "kBus0kwL9Ndg"
      }
    },
    {
      "cell_type": "code",
      "source": [
        "# Code for 1(d)\n",
        "# Begin Ans\n",
        "\n",
        "# Union defined earlier as L_eq U L_neq\n",
        "Big_Union = lunion(Union, Missing_Sublanguage)\n",
        "\n",
        "if(Universe == Big_Union):\n",
        "    print('I captured the Missing_Sublanguage correctly')\n",
        "else:\n",
        "    print('I must fix my Missing_Sublanguage and come back to this step')"
      ],
      "metadata": {
        "id": "czy8tdjnQZHh",
        "outputId": "2d0260b8-349b-45c4-9415-bc937a74f280",
        "colab": {
          "base_uri": "https://localhost:8080/"
        }
      },
      "execution_count": 8,
      "outputs": [
        {
          "output_type": "stream",
          "name": "stdout",
          "text": [
            "I captured the Missing_Sublanguage correctly\n"
          ]
        }
      ]
    },
    {
      "cell_type": "markdown",
      "source": [
        "### 1(f): Build a DFA for the Missing_Sublanguage by entering it in a block of code processed by md2mc, as follows\n",
        "\n"
      ],
      "metadata": {
        "id": "9Bu8BItO_t8c"
      }
    },
    {
      "cell_type": "markdown",
      "source": [
        "😃"
      ],
      "metadata": {
        "id": "xWBwoLencK0T"
      }
    },
    {
      "cell_type": "code",
      "source": [
        "# DFA for Missing_Sublanguage\n",
        "#\n",
        "# We just need to find a 10\n",
        "DFA_for_Missing_Sublanguage = md2mc('''DFA\n",
        "I : 0 -> I !! loop until we get a 1\n",
        "I : 1 -> S !! this could be the start of a 10\n",
        "\n",
        "S : 0 -> F !! we found a 10 and we're good!\n",
        "S : 1 -> S !! not a 10, but it could be the start of a new 10, so just keep looping\n",
        "\n",
        "F : 0 -> F !! we already found a 10 so this is accepting\n",
        "F : 1 -> F\n",
        "''')\n",
        "dotObj_dfa(DFA_for_Missing_Sublanguage, FuseEdges=\"True\")\n",
        "\n"
      ],
      "metadata": {
        "id": "3SfEjleuRKt0",
        "outputId": "4dd83054-2625-4eea-ebed-50a138051d88",
        "colab": {
          "base_uri": "https://localhost:8080/",
          "height": 172
        }
      },
      "execution_count": 9,
      "outputs": [
        {
          "output_type": "stream",
          "name": "stderr",
          "text": [
            "Generating LALR tables\n"
          ]
        },
        {
          "output_type": "execute_result",
          "data": {
            "image/svg+xml": "<?xml version=\"1.0\" encoding=\"UTF-8\" standalone=\"no\"?>\n<!DOCTYPE svg PUBLIC \"-//W3C//DTD SVG 1.1//EN\"\n \"http://www.w3.org/Graphics/SVG/1.1/DTD/svg11.dtd\">\n<!-- Generated by graphviz version 2.43.0 (0)\n -->\n<!-- Title: %3 Pages: 1 -->\n<svg width=\"309pt\" height=\"100pt\"\n viewBox=\"0.00 0.00 309.00 100.00\" xmlns=\"http://www.w3.org/2000/svg\" xmlns:xlink=\"http://www.w3.org/1999/xlink\">\n<g id=\"graph0\" class=\"graph\" transform=\"scale(1 1) rotate(0) translate(4 96)\">\n<title>%3</title>\n<polygon fill=\"white\" stroke=\"transparent\" points=\"-4,4 -4,-96 305,-96 305,4 -4,4\"/>\n<!-- EMPTY -->\n<g id=\"node1\" class=\"node\">\n<title>EMPTY</title>\n</g>\n<!-- I -->\n<g id=\"node3\" class=\"node\">\n<title>I</title>\n<ellipse fill=\"none\" stroke=\"black\" cx=\"109\" cy=\"-22\" rx=\"18\" ry=\"18\"/>\n<text text-anchor=\"middle\" x=\"109\" y=\"-18.3\" font-family=\"Times,serif\" font-size=\"14.00\">I</text>\n</g>\n<!-- EMPTY&#45;&gt;I -->\n<g id=\"edge1\" class=\"edge\">\n<title>EMPTY&#45;&gt;I</title>\n<path fill=\"none\" stroke=\"black\" d=\"M54.19,-22C62.65,-22 72.05,-22 80.6,-22\"/>\n<polygon fill=\"black\" stroke=\"black\" points=\"80.83,-25.5 90.83,-22 80.83,-18.5 80.83,-25.5\"/>\n</g>\n<!-- S -->\n<g id=\"node2\" class=\"node\">\n<title>S</title>\n<ellipse fill=\"none\" stroke=\"black\" cx=\"192\" cy=\"-22\" rx=\"18\" ry=\"18\"/>\n<text text-anchor=\"middle\" x=\"192\" y=\"-18.3\" font-family=\"Times,serif\" font-size=\"14.00\">S</text>\n</g>\n<!-- S&#45;&gt;S -->\n<g id=\"edge5\" class=\"edge\">\n<title>S&#45;&gt;S</title>\n<path fill=\"none\" stroke=\"black\" d=\"M184.97,-38.66C183.41,-48.62 185.75,-58 192,-58 196,-58 198.4,-54.15 199.2,-48.77\"/>\n<polygon fill=\"black\" stroke=\"black\" points=\"202.7,-48.6 199.03,-38.66 195.7,-48.72 202.7,-48.6\"/>\n<text text-anchor=\"middle\" x=\"192\" y=\"-61.8\" font-family=\"Times,serif\" font-size=\"14.00\">1 </text>\n</g>\n<!-- F -->\n<g id=\"node4\" class=\"node\">\n<title>F</title>\n<ellipse fill=\"none\" stroke=\"black\" cx=\"279\" cy=\"-22\" rx=\"18\" ry=\"18\"/>\n<ellipse fill=\"none\" stroke=\"black\" cx=\"279\" cy=\"-22\" rx=\"22\" ry=\"22\"/>\n<text text-anchor=\"middle\" x=\"279\" y=\"-18.3\" font-family=\"Times,serif\" font-size=\"14.00\">F</text>\n</g>\n<!-- S&#45;&gt;F -->\n<g id=\"edge4\" class=\"edge\">\n<title>S&#45;&gt;F</title>\n<path fill=\"none\" stroke=\"black\" d=\"M210.2,-22C220.63,-22 234.26,-22 246.56,-22\"/>\n<polygon fill=\"black\" stroke=\"black\" points=\"246.91,-25.5 256.91,-22 246.91,-18.5 246.91,-25.5\"/>\n<text text-anchor=\"middle\" x=\"233.5\" y=\"-25.8\" font-family=\"Times,serif\" font-size=\"14.00\">0 </text>\n</g>\n<!-- I&#45;&gt;S -->\n<g id=\"edge3\" class=\"edge\">\n<title>I&#45;&gt;S</title>\n<path fill=\"none\" stroke=\"black\" d=\"M127.18,-22C137.81,-22 151.69,-22 163.8,-22\"/>\n<polygon fill=\"black\" stroke=\"black\" points=\"163.85,-25.5 173.85,-22 163.85,-18.5 163.85,-25.5\"/>\n<text text-anchor=\"middle\" x=\"150.5\" y=\"-25.8\" font-family=\"Times,serif\" font-size=\"14.00\">1 </text>\n</g>\n<!-- I&#45;&gt;I -->\n<g id=\"edge2\" class=\"edge\">\n<title>I&#45;&gt;I</title>\n<path fill=\"none\" stroke=\"black\" d=\"M102.62,-39.04C101.32,-48.86 103.45,-58 109,-58 112.47,-58 114.6,-54.43 115.4,-49.35\"/>\n<polygon fill=\"black\" stroke=\"black\" points=\"118.9,-49.03 115.38,-39.04 111.9,-49.04 118.9,-49.03\"/>\n<text text-anchor=\"middle\" x=\"109\" y=\"-61.8\" font-family=\"Times,serif\" font-size=\"14.00\">0 </text>\n</g>\n<!-- F&#45;&gt;F -->\n<g id=\"edge6\" class=\"edge\">\n<title>F&#45;&gt;F</title>\n<path fill=\"none\" stroke=\"black\" d=\"M270.99,-42.58C269.89,-52.84 272.55,-62 279,-62 283.13,-62 285.71,-58.24 286.74,-52.84\"/>\n<polygon fill=\"black\" stroke=\"black\" points=\"290.24,-52.67 287.01,-42.58 283.25,-52.49 290.24,-52.67\"/>\n<text text-anchor=\"middle\" x=\"279\" y=\"-80.8\" font-family=\"Times,serif\" font-size=\"14.00\">1 </text>\n<text text-anchor=\"middle\" x=\"279\" y=\"-65.8\" font-family=\"Times,serif\" font-size=\"14.00\"> 0 </text>\n</g>\n</g>\n</svg>\n",
            "text/plain": [
              "<graphviz.graphs.Digraph at 0x7d185a4cd660>"
            ]
          },
          "metadata": {},
          "execution_count": 9
        }
      ]
    },
    {
      "cell_type": "markdown",
      "source": [
        "----------------"
      ],
      "metadata": {
        "id": "9dL3pH-jSx6Z"
      }
    },
    {
      "cell_type": "markdown",
      "metadata": {
        "id": "EIz5YWXVh3bh"
      },
      "source": [
        "## Question 2: I'll mention all the parts first, and then give you the spaces to answer your individual parts."
      ]
    },
    {
      "cell_type": "markdown",
      "metadata": {
        "id": "DFpG_TxDiDnn"
      },
      "source": [
        "2(a): Using Jove's markdown, define a DFA for the language of strings over alphabet $\\{0,1\\}$ that ends in a $010$. Call this DFA \"DFA_Ends010.\"\n",
        "\n",
        "2(b): Now define DFA_Not_Ends010 as a DFA that does not end in 010. Intersect the above DFA and show that the language of the intersection is empty. Apply min_dfa(DFA_Ends010, DFA_Not_Ends010) and observe that the DFA has an empty language.\n",
        "\n",
        "2(c): Again using Jove's markdown, define a DFA for the language of strings over alphabet $\\{0,1\\}$  whose numeric value is evenly divisible by 5 (i.e. mod 5 is 0, or N%5 == 0 for the numeric value being N). Call this DFA \"DFA_Mod5\".\n",
        "\n",
        "*Note*: **Please consider following the conventions in the book which has such DFA starting at an IF state (epsilon input is tantamount to 0).**. We won't dock points if you don't. But the TAs may like a more standardized answer.\n",
        "\n",
        "2(d): Intersect these DFA using the command intersect_dfa(DFA_Ends010, DFA_mod5), calling the intersection DFA_Ends010_and_Mod5."
      ]
    },
    {
      "cell_type": "markdown",
      "metadata": {
        "id": "ORaIciQVr1dM"
      },
      "source": [
        "###Part 2(a):\n",
        "Definition of DFA_Ends010"
      ]
    },
    {
      "cell_type": "markdown",
      "source": [
        "😃"
      ],
      "metadata": {
        "id": "Vj9KWNN0cQ9X"
      }
    },
    {
      "cell_type": "code",
      "execution_count": 12,
      "metadata": {
        "id": "hGmeVbJ-jv4N"
      },
      "outputs": [],
      "source": [
        "# Define this DFA, making sure you document it sufficiently (but not excessively)\n",
        "DFA_Ends010 = md2mc('''DFA\n",
        "!!! State where we wait for a 0 to start the 010\n",
        "I     : 0 -> S_0   !! This could be the start of a 010\n",
        "I     : 1 -> I     !! Otherwise wait\n",
        "\n",
        "S_0   : 0 -> S_0   !! Breaks the chain, but could start a new one\n",
        "S_0   : 1 -> S_01  !! Continue\n",
        "\n",
        "S_01  : 0 -> F_010 !! Continue\n",
        "S_01  : 1 -> I     !! Breaks the chain and we have to start from scratch\n",
        "\n",
        "!! This state is accepting because we end in a 010\n",
        "F_010 : 0 -> S_0   !! 2 0s in a row, could start a new chain\n",
        "F_010 : 1 -> S_01  !! 0101 ends in a 01, so dont start over\n",
        "''')\n",
        "\n"
      ]
    },
    {
      "cell_type": "code",
      "execution_count": 13,
      "metadata": {
        "id": "NfaJEGwKjx3Q",
        "outputId": "42aa3a01-b41a-49b4-bee2-c12e3562c938",
        "colab": {
          "base_uri": "https://localhost:8080/",
          "height": 195
        }
      },
      "outputs": [
        {
          "output_type": "execute_result",
          "data": {
            "image/svg+xml": "<?xml version=\"1.0\" encoding=\"UTF-8\" standalone=\"no\"?>\n<!DOCTYPE svg PUBLIC \"-//W3C//DTD SVG 1.1//EN\"\n \"http://www.w3.org/Graphics/SVG/1.1/DTD/svg11.dtd\">\n<!-- Generated by graphviz version 2.43.0 (0)\n -->\n<!-- Title: %3 Pages: 1 -->\n<svg width=\"457pt\" height=\"131pt\"\n viewBox=\"0.00 0.00 456.88 130.70\" xmlns=\"http://www.w3.org/2000/svg\" xmlns:xlink=\"http://www.w3.org/1999/xlink\">\n<g id=\"graph0\" class=\"graph\" transform=\"scale(1 1) rotate(0) translate(4 126.7)\">\n<title>%3</title>\n<polygon fill=\"white\" stroke=\"transparent\" points=\"-4,4 -4,-126.7 452.88,-126.7 452.88,4 -4,4\"/>\n<!-- EMPTY -->\n<g id=\"node1\" class=\"node\">\n<title>EMPTY</title>\n</g>\n<!-- I -->\n<g id=\"node4\" class=\"node\">\n<title>I</title>\n<ellipse fill=\"none\" stroke=\"black\" cx=\"109\" cy=\"-71.7\" rx=\"18\" ry=\"18\"/>\n<text text-anchor=\"middle\" x=\"109\" y=\"-68\" font-family=\"Times,serif\" font-size=\"14.00\">I</text>\n</g>\n<!-- EMPTY&#45;&gt;I -->\n<g id=\"edge1\" class=\"edge\">\n<title>EMPTY&#45;&gt;I</title>\n<path fill=\"none\" stroke=\"black\" d=\"M54.19,-71.7C62.65,-71.7 72.05,-71.7 80.6,-71.7\"/>\n<polygon fill=\"black\" stroke=\"black\" points=\"80.83,-75.2 90.83,-71.7 80.83,-68.2 80.83,-75.2\"/>\n</g>\n<!-- S_0 -->\n<g id=\"node2\" class=\"node\">\n<title>S_0</title>\n<ellipse fill=\"none\" stroke=\"black\" cx=\"198.7\" cy=\"-24.7\" rx=\"24.9\" ry=\"24.9\"/>\n<text text-anchor=\"middle\" x=\"198.7\" y=\"-21\" font-family=\"Times,serif\" font-size=\"14.00\">S_0</text>\n</g>\n<!-- S_0&#45;&gt;S_0 -->\n<g id=\"edge4\" class=\"edge\">\n<title>S_0&#45;&gt;S_0</title>\n<path fill=\"none\" stroke=\"black\" d=\"M189.84,-47.98C188.99,-58.39 191.95,-67.4 198.7,-67.4 203.02,-67.4 205.79,-63.7 207,-58.3\"/>\n<polygon fill=\"black\" stroke=\"black\" points=\"210.51,-58.15 207.56,-47.98 203.52,-57.77 210.51,-58.15\"/>\n<text text-anchor=\"middle\" x=\"198.7\" y=\"-71.2\" font-family=\"Times,serif\" font-size=\"14.00\">0 </text>\n</g>\n<!-- S_01 -->\n<g id=\"node3\" class=\"node\">\n<title>S_01</title>\n<ellipse fill=\"none\" stroke=\"black\" cx=\"298.99\" cy=\"-90.7\" rx=\"28.7\" ry=\"28.7\"/>\n<text text-anchor=\"middle\" x=\"298.99\" y=\"-87\" font-family=\"Times,serif\" font-size=\"14.00\">S_01</text>\n</g>\n<!-- S_0&#45;&gt;S_01 -->\n<g id=\"edge5\" class=\"edge\">\n<title>S_0&#45;&gt;S_01</title>\n<path fill=\"none\" stroke=\"black\" d=\"M219.59,-38.05C232.91,-47 250.73,-58.96 266.02,-69.23\"/>\n<polygon fill=\"black\" stroke=\"black\" points=\"264.42,-72.37 274.68,-75.04 268.32,-66.56 264.42,-72.37\"/>\n<text text-anchor=\"middle\" x=\"246.9\" y=\"-63.5\" font-family=\"Times,serif\" font-size=\"14.00\">1 </text>\n</g>\n<!-- S_01&#45;&gt;I -->\n<g id=\"edge7\" class=\"edge\">\n<title>S_01&#45;&gt;I</title>\n<path fill=\"none\" stroke=\"black\" d=\"M270.23,-93.43C244.99,-95.32 206.77,-96.7 174,-91.7 161.01,-89.71 147.02,-85.59 135.45,-81.6\"/>\n<polygon fill=\"black\" stroke=\"black\" points=\"136.58,-78.29 125.99,-78.18 134.21,-84.87 136.58,-78.29\"/>\n<text text-anchor=\"middle\" x=\"198.7\" y=\"-98.5\" font-family=\"Times,serif\" font-size=\"14.00\">1 </text>\n</g>\n<!-- F_010 -->\n<g id=\"node5\" class=\"node\">\n<title>F_010</title>\n<ellipse fill=\"none\" stroke=\"black\" cx=\"411.74\" cy=\"-57.7\" rx=\"33.28\" ry=\"33.28\"/>\n<ellipse fill=\"none\" stroke=\"black\" cx=\"411.74\" cy=\"-57.7\" rx=\"37.29\" ry=\"37.29\"/>\n<text text-anchor=\"middle\" x=\"411.74\" y=\"-54\" font-family=\"Times,serif\" font-size=\"14.00\">F_010</text>\n</g>\n<!-- S_01&#45;&gt;F_010 -->\n<g id=\"edge6\" class=\"edge\">\n<title>S_01&#45;&gt;F_010</title>\n<path fill=\"none\" stroke=\"black\" d=\"M326.52,-82.79C338.47,-79.23 352.9,-74.93 366.41,-70.91\"/>\n<polygon fill=\"black\" stroke=\"black\" points=\"367.46,-74.25 376.04,-68.04 365.46,-67.54 367.46,-74.25\"/>\n<text text-anchor=\"middle\" x=\"351.09\" y=\"-80.5\" font-family=\"Times,serif\" font-size=\"14.00\">0 </text>\n</g>\n<!-- I&#45;&gt;S_0 -->\n<g id=\"edge2\" class=\"edge\">\n<title>I&#45;&gt;S_0</title>\n<path fill=\"none\" stroke=\"black\" d=\"M125.28,-63.51C136.95,-57.25 153.41,-48.43 167.69,-40.78\"/>\n<polygon fill=\"black\" stroke=\"black\" points=\"169.52,-43.77 176.69,-35.96 166.22,-37.6 169.52,-43.77\"/>\n<text text-anchor=\"middle\" x=\"150.5\" y=\"-56.5\" font-family=\"Times,serif\" font-size=\"14.00\">0 </text>\n</g>\n<!-- I&#45;&gt;I -->\n<g id=\"edge3\" class=\"edge\">\n<title>I&#45;&gt;I</title>\n<path fill=\"none\" stroke=\"black\" d=\"M102.62,-88.74C101.32,-98.56 103.45,-107.7 109,-107.7 112.47,-107.7 114.6,-104.13 115.4,-99.05\"/>\n<polygon fill=\"black\" stroke=\"black\" points=\"118.9,-98.73 115.38,-88.74 111.9,-98.74 118.9,-98.73\"/>\n<text text-anchor=\"middle\" x=\"109\" y=\"-111.5\" font-family=\"Times,serif\" font-size=\"14.00\">1 </text>\n</g>\n<!-- F_010&#45;&gt;S_0 -->\n<g id=\"edge8\" class=\"edge\">\n<title>F_010&#45;&gt;S_0</title>\n<path fill=\"none\" stroke=\"black\" d=\"M375.76,-48.18C360.99,-44.44 343.54,-40.41 327.59,-37.7 295.88,-32.3 259.33,-28.86 233.45,-26.88\"/>\n<polygon fill=\"black\" stroke=\"black\" points=\"233.63,-23.39 223.4,-26.15 233.12,-30.37 233.63,-23.39\"/>\n<text text-anchor=\"middle\" x=\"298.99\" y=\"-41.5\" font-family=\"Times,serif\" font-size=\"14.00\">0 </text>\n</g>\n<!-- F_010&#45;&gt;S_01 -->\n<g id=\"edge9\" class=\"edge\">\n<title>F_010&#45;&gt;S_01</title>\n<path fill=\"none\" stroke=\"black\" d=\"M374.9,-52.08C365.18,-51.77 354.81,-52.57 345.59,-55.7 339.51,-57.76 333.61,-61 328.18,-64.69\"/>\n<polygon fill=\"black\" stroke=\"black\" points=\"325.99,-61.96 320.08,-70.75 330.18,-67.56 325.99,-61.96\"/>\n<text text-anchor=\"middle\" x=\"351.09\" y=\"-59.5\" font-family=\"Times,serif\" font-size=\"14.00\">1 </text>\n</g>\n</g>\n</svg>\n",
            "text/plain": [
              "<graphviz.graphs.Digraph at 0x7d1858b68bb0>"
            ]
          },
          "metadata": {},
          "execution_count": 13
        }
      ],
      "source": [
        "# Let's see the \"Ends010\" machine\n",
        "dotObj_dfa(DFA_Ends010, FuseEdges=True)"
      ]
    },
    {
      "cell_type": "markdown",
      "source": [
        "### 2(b) : A good way to check your work is to define the DFA_Not_Ends010 and intersect to obtain a DFA with an empty language. You can also apply a min_dfa(...) to see the minimized form of the DFA for a quicker check."
      ],
      "metadata": {
        "id": "v4LONyu7SpYj"
      }
    },
    {
      "cell_type": "markdown",
      "source": [
        "😃"
      ],
      "metadata": {
        "id": "T_2uhxixcT8U"
      }
    },
    {
      "cell_type": "code",
      "source": [
        "DFA_Not_Ends010 = md2mc('''DFA\n",
        "!!! In this version, we accept everything UNLESS it ends with a 010\n",
        "!!! State where we wait for a 0 to start the 010\n",
        "IF     : 0 -> F_0   !! This could be the start of a 010\n",
        "IF     : 1 -> IF     !! Otherwise wait\n",
        "\n",
        "F_0   : 0 -> F_0   !! Breaks the chain, but could start a new one\n",
        "F_0   : 1 -> F_01  !! Continue\n",
        "\n",
        "F_01  : 0 -> S_010 !! Continue\n",
        "F_01  : 1 -> IF     !! Breaks the chain and we have to start from scratch\n",
        "\n",
        "!! This state is not accepting because we end in a 010\n",
        "S_010 : 0 -> F_0   !! 2 0s in a row, could start a new chain\n",
        "S_010 : 1 -> F_01  !! 0101 ends in a 01, so dont start over\n",
        "''')\n",
        "\n",
        "\n",
        "\n",
        "dotObj_dfa(DFA_Not_Ends010, FuseEdges=True)\n"
      ],
      "metadata": {
        "id": "_sdTqcvdTyBI",
        "outputId": "c25fce47-e45c-41d7-c6fc-9b38f90e77ec",
        "colab": {
          "base_uri": "https://localhost:8080/",
          "height": 210
        }
      },
      "execution_count": 14,
      "outputs": [
        {
          "output_type": "execute_result",
          "data": {
            "image/svg+xml": "<?xml version=\"1.0\" encoding=\"UTF-8\" standalone=\"no\"?>\n<!DOCTYPE svg PUBLIC \"-//W3C//DTD SVG 1.1//EN\"\n \"http://www.w3.org/Graphics/SVG/1.1/DTD/svg11.dtd\">\n<!-- Generated by graphviz version 2.43.0 (0)\n -->\n<!-- Title: %3 Pages: 1 -->\n<svg width=\"475pt\" height=\"142pt\"\n viewBox=\"0.00 0.00 474.58 141.55\" xmlns=\"http://www.w3.org/2000/svg\" xmlns:xlink=\"http://www.w3.org/1999/xlink\">\n<g id=\"graph0\" class=\"graph\" transform=\"scale(1 1) rotate(0) translate(4 137.55)\">\n<title>%3</title>\n<polygon fill=\"white\" stroke=\"transparent\" points=\"-4,4 -4,-137.55 470.58,-137.55 470.58,4 -4,4\"/>\n<!-- EMPTY -->\n<g id=\"node1\" class=\"node\">\n<title>EMPTY</title>\n</g>\n<!-- IF -->\n<g id=\"node5\" class=\"node\">\n<title>IF</title>\n<ellipse fill=\"none\" stroke=\"black\" cx=\"113.85\" cy=\"-77.7\" rx=\"18.72\" ry=\"18.72\"/>\n<ellipse fill=\"none\" stroke=\"black\" cx=\"113.85\" cy=\"-77.7\" rx=\"22.7\" ry=\"22.7\"/>\n<text text-anchor=\"middle\" x=\"113.85\" y=\"-74\" font-family=\"Times,serif\" font-size=\"14.00\">IF</text>\n</g>\n<!-- EMPTY&#45;&gt;IF -->\n<g id=\"edge1\" class=\"edge\">\n<title>EMPTY&#45;&gt;IF</title>\n<path fill=\"none\" stroke=\"black\" d=\"M54.38,-77.7C62.68,-77.7 71.94,-77.7 80.6,-77.7\"/>\n<polygon fill=\"black\" stroke=\"black\" points=\"80.76,-81.2 90.76,-77.7 80.76,-74.2 80.76,-81.2\"/>\n</g>\n<!-- S_010 -->\n<g id=\"node2\" class=\"node\">\n<title>S_010</title>\n<ellipse fill=\"none\" stroke=\"black\" cx=\"433.43\" cy=\"-61.7\" rx=\"33.29\" ry=\"33.29\"/>\n<text text-anchor=\"middle\" x=\"433.43\" y=\"-58\" font-family=\"Times,serif\" font-size=\"14.00\">S_010</text>\n</g>\n<!-- F_01 -->\n<g id=\"node3\" class=\"node\">\n<title>F_01</title>\n<ellipse fill=\"none\" stroke=\"black\" cx=\"320.69\" cy=\"-98.7\" rx=\"28.68\" ry=\"28.68\"/>\n<ellipse fill=\"none\" stroke=\"black\" cx=\"320.69\" cy=\"-98.7\" rx=\"32.7\" ry=\"32.7\"/>\n<text text-anchor=\"middle\" x=\"320.69\" y=\"-95\" font-family=\"Times,serif\" font-size=\"14.00\">F_01</text>\n</g>\n<!-- S_010&#45;&gt;F_01 -->\n<g id=\"edge9\" class=\"edge\">\n<title>S_010&#45;&gt;F_01</title>\n<path fill=\"none\" stroke=\"black\" d=\"M400.67,-56.35C391.02,-55.86 380.52,-56.5 371.29,-59.7 364.68,-61.98 358.28,-65.56 352.41,-69.63\"/>\n<polygon fill=\"black\" stroke=\"black\" points=\"350.04,-67.03 344.2,-75.86 354.28,-72.6 350.04,-67.03\"/>\n<text text-anchor=\"middle\" x=\"376.79\" y=\"-63.5\" font-family=\"Times,serif\" font-size=\"14.00\">1 </text>\n</g>\n<!-- F_0 -->\n<g id=\"node4\" class=\"node\">\n<title>F_0</title>\n<ellipse fill=\"none\" stroke=\"black\" cx=\"212.39\" cy=\"-28.7\" rx=\"24.87\" ry=\"24.87\"/>\n<ellipse fill=\"none\" stroke=\"black\" cx=\"212.39\" cy=\"-28.7\" rx=\"28.9\" ry=\"28.9\"/>\n<text text-anchor=\"middle\" x=\"212.39\" y=\"-25\" font-family=\"Times,serif\" font-size=\"14.00\">F_0</text>\n</g>\n<!-- S_010&#45;&gt;F_0 -->\n<g id=\"edge8\" class=\"edge\">\n<title>S_010&#45;&gt;F_0</title>\n<path fill=\"none\" stroke=\"black\" d=\"M401.47,-52.69C386.95,-48.77 369.35,-44.46 353.29,-41.7 319.07,-35.82 279.67,-32.46 251.41,-30.64\"/>\n<polygon fill=\"black\" stroke=\"black\" points=\"251.36,-27.13 241.17,-30.01 250.93,-34.11 251.36,-27.13\"/>\n<text text-anchor=\"middle\" x=\"320.69\" y=\"-45.5\" font-family=\"Times,serif\" font-size=\"14.00\">0 </text>\n</g>\n<!-- F_01&#45;&gt;S_010 -->\n<g id=\"edge6\" class=\"edge\">\n<title>F_01&#45;&gt;S_010</title>\n<path fill=\"none\" stroke=\"black\" d=\"M351.95,-88.59C364.3,-84.46 378.77,-79.63 392,-75.21\"/>\n<polygon fill=\"black\" stroke=\"black\" points=\"393.45,-78.41 401.82,-71.92 391.23,-71.77 393.45,-78.41\"/>\n<text text-anchor=\"middle\" x=\"376.79\" y=\"-84.5\" font-family=\"Times,serif\" font-size=\"14.00\">0 </text>\n</g>\n<!-- F_01&#45;&gt;IF -->\n<g id=\"edge7\" class=\"edge\">\n<title>F_01&#45;&gt;IF</title>\n<path fill=\"none\" stroke=\"black\" d=\"M288.15,-101.8C260.45,-103.84 219.16,-105.23 183.7,-99.7 170.62,-97.66 156.63,-93.57 144.7,-89.46\"/>\n<polygon fill=\"black\" stroke=\"black\" points=\"145.83,-86.14 135.23,-86.05 143.46,-92.73 145.83,-86.14\"/>\n<text text-anchor=\"middle\" x=\"212.39\" y=\"-106.5\" font-family=\"Times,serif\" font-size=\"14.00\">1 </text>\n</g>\n<!-- F_0&#45;&gt;F_01 -->\n<g id=\"edge5\" class=\"edge\">\n<title>F_0&#45;&gt;F_01</title>\n<path fill=\"none\" stroke=\"black\" d=\"M236.72,-44.06C250.75,-53.3 268.87,-65.23 284.6,-75.59\"/>\n<polygon fill=\"black\" stroke=\"black\" points=\"282.77,-78.58 293.05,-81.15 286.62,-72.73 282.77,-78.58\"/>\n<text text-anchor=\"middle\" x=\"264.59\" y=\"-69.5\" font-family=\"Times,serif\" font-size=\"14.00\">1 </text>\n</g>\n<!-- F_0&#45;&gt;F_0 -->\n<g id=\"edge4\" class=\"edge\">\n<title>F_0&#45;&gt;F_0</title>\n<path fill=\"none\" stroke=\"black\" d=\"M202.68,-56.04C202.25,-66.61 205.49,-75.4 212.39,-75.4 216.93,-75.4 219.88,-71.61 221.25,-66.02\"/>\n<polygon fill=\"black\" stroke=\"black\" points=\"224.74,-66.3 222.11,-56.04 217.77,-65.7 224.74,-66.3\"/>\n<text text-anchor=\"middle\" x=\"212.39\" y=\"-79.2\" font-family=\"Times,serif\" font-size=\"14.00\">0 </text>\n</g>\n<!-- IF&#45;&gt;F_0 -->\n<g id=\"edge2\" class=\"edge\">\n<title>IF&#45;&gt;F_0</title>\n<path fill=\"none\" stroke=\"black\" d=\"M134.85,-67.54C147.09,-61.34 163.06,-53.23 177.25,-46.03\"/>\n<polygon fill=\"black\" stroke=\"black\" points=\"178.92,-49.1 186.25,-41.46 175.75,-42.86 178.92,-49.1\"/>\n<text text-anchor=\"middle\" x=\"160.2\" y=\"-60.5\" font-family=\"Times,serif\" font-size=\"14.00\">0 </text>\n</g>\n<!-- IF&#45;&gt;IF -->\n<g id=\"edge3\" class=\"edge\">\n<title>IF&#45;&gt;IF</title>\n<path fill=\"none\" stroke=\"black\" d=\"M106.5,-99.55C105.69,-109.69 108.15,-118.55 113.85,-118.55 117.5,-118.55 119.82,-114.91 120.8,-109.63\"/>\n<polygon fill=\"black\" stroke=\"black\" points=\"124.31,-109.68 121.2,-99.55 117.31,-109.41 124.31,-109.68\"/>\n<text text-anchor=\"middle\" x=\"113.85\" y=\"-122.35\" font-family=\"Times,serif\" font-size=\"14.00\">1 </text>\n</g>\n</g>\n</svg>\n",
            "text/plain": [
              "<graphviz.graphs.Digraph at 0x7d1870bbb640>"
            ]
          },
          "metadata": {},
          "execution_count": 14
        }
      ]
    },
    {
      "cell_type": "markdown",
      "source": [
        "😃"
      ],
      "metadata": {
        "id": "6oIraJt6cZ0P"
      }
    },
    {
      "cell_type": "code",
      "source": [
        "Ends010_and_not_Ends010 = intersect_dfa(DFA_Ends010, DFA_Not_Ends010)\n",
        "dotObj_dfa(Ends010_and_not_Ends010)"
      ],
      "metadata": {
        "id": "ybKBkbzfVNcA",
        "outputId": "968215c3-1815-4dff-959f-fff15c5bff47",
        "colab": {
          "base_uri": "https://localhost:8080/",
          "height": 323
        }
      },
      "execution_count": 16,
      "outputs": [
        {
          "output_type": "execute_result",
          "data": {
            "image/svg+xml": "<?xml version=\"1.0\" encoding=\"UTF-8\" standalone=\"no\"?>\n<!DOCTYPE svg PUBLIC \"-//W3C//DTD SVG 1.1//EN\"\n \"http://www.w3.org/Graphics/SVG/1.1/DTD/svg11.dtd\">\n<!-- Generated by graphviz version 2.43.0 (0)\n -->\n<!-- Title: %3 Pages: 1 -->\n<svg width=\"646pt\" height=\"227pt\"\n viewBox=\"0.00 0.00 645.56 227.29\" xmlns=\"http://www.w3.org/2000/svg\" xmlns:xlink=\"http://www.w3.org/1999/xlink\">\n<g id=\"graph0\" class=\"graph\" transform=\"scale(1 1) rotate(0) translate(4 223.29)\">\n<title>%3</title>\n<polygon fill=\"white\" stroke=\"transparent\" points=\"-4,4 -4,-223.29 641.56,-223.29 641.56,4 -4,4\"/>\n<!-- EMPTY -->\n<g id=\"node1\" class=\"node\">\n<title>EMPTY</title>\n</g>\n<!-- \\(I_IF\\) -->\n<g id=\"node2\" class=\"node\">\n<title>\\(I_IF\\)</title>\n<ellipse fill=\"none\" stroke=\"black\" cx=\"122.85\" cy=\"-73.19\" rx=\"31.7\" ry=\"31.7\"/>\n<text text-anchor=\"middle\" x=\"122.85\" y=\"-69.49\" font-family=\"Times,serif\" font-size=\"14.00\">(I_IF)</text>\n</g>\n<!-- EMPTY&#45;&gt;\\(I_IF\\) -->\n<g id=\"edge1\" class=\"edge\">\n<title>EMPTY&#45;&gt;\\(I_IF\\)</title>\n<path fill=\"none\" stroke=\"black\" d=\"M54.14,-73.19C62.42,-73.19 71.77,-73.19 80.83,-73.19\"/>\n<polygon fill=\"black\" stroke=\"black\" points=\"80.86,-76.7 90.86,-73.19 80.86,-69.7 80.86,-76.7\"/>\n</g>\n<!-- \\(I_IF\\)&#45;&gt;\\(I_IF\\) -->\n<g id=\"edge8\" class=\"edge\">\n<title>\\(I_IF\\)&#45;&gt;\\(I_IF\\)</title>\n<path fill=\"none\" stroke=\"black\" d=\"M113.47,-103.86C113.38,-114.47 116.5,-123.04 122.85,-123.04 127.01,-123.04 129.79,-119.35 131.18,-113.82\"/>\n<polygon fill=\"black\" stroke=\"black\" points=\"134.66,-114.17 132.22,-103.86 127.7,-113.44 134.66,-114.17\"/>\n<text text-anchor=\"middle\" x=\"122.85\" y=\"-126.84\" font-family=\"Times,serif\" font-size=\"14.00\">1 </text>\n</g>\n<!-- \\(S_0_F_0\\) -->\n<g id=\"node3\" class=\"node\">\n<title>\\(S_0_F_0\\)</title>\n<ellipse fill=\"none\" stroke=\"black\" cx=\"249.79\" cy=\"-138.19\" rx=\"48.19\" ry=\"48.19\"/>\n<text text-anchor=\"middle\" x=\"249.79\" y=\"-134.49\" font-family=\"Times,serif\" font-size=\"14.00\">(S_0_F_0)</text>\n</g>\n<!-- \\(I_IF\\)&#45;&gt;\\(S_0_F_0\\) -->\n<g id=\"edge3\" class=\"edge\">\n<title>\\(I_IF\\)&#45;&gt;\\(S_0_F_0\\)</title>\n<path fill=\"none\" stroke=\"black\" d=\"M151.58,-87.62C165.16,-94.69 181.95,-103.42 197.74,-111.64\"/>\n<polygon fill=\"black\" stroke=\"black\" points=\"196.4,-114.89 206.89,-116.4 199.63,-108.68 196.4,-114.89\"/>\n<text text-anchor=\"middle\" x=\"178.19\" y=\"-106.99\" font-family=\"Times,serif\" font-size=\"14.00\">0 </text>\n</g>\n<!-- \\(S_0_F_0\\)&#45;&gt;\\(S_0_F_0\\) -->\n<g id=\"edge5\" class=\"edge\">\n<title>\\(S_0_F_0\\)&#45;&gt;\\(S_0_F_0\\)</title>\n<path fill=\"none\" stroke=\"black\" d=\"M236.87,-184.52C237.83,-195.86 242.13,-204.29 249.79,-204.29 254.93,-204.29 258.57,-200.48 260.69,-194.55\"/>\n<polygon fill=\"black\" stroke=\"black\" points=\"264.16,-195.02 262.71,-184.52 257.3,-193.63 264.16,-195.02\"/>\n<text text-anchor=\"middle\" x=\"249.79\" y=\"-208.09\" font-family=\"Times,serif\" font-size=\"14.00\">0 </text>\n</g>\n<!-- \\(S_01_F_01\\) -->\n<g id=\"node4\" class=\"node\">\n<title>\\(S_01_F_01\\)</title>\n<ellipse fill=\"none\" stroke=\"black\" cx=\"402.08\" cy=\"-57.19\" rx=\"57.39\" ry=\"57.39\"/>\n<text text-anchor=\"middle\" x=\"402.08\" y=\"-53.49\" font-family=\"Times,serif\" font-size=\"14.00\">(S_01_F_01)</text>\n</g>\n<!-- \\(S_0_F_0\\)&#45;&gt;\\(S_01_F_01\\) -->\n<g id=\"edge4\" class=\"edge\">\n<title>\\(S_0_F_0\\)&#45;&gt;\\(S_01_F_01\\)</title>\n<path fill=\"none\" stroke=\"black\" d=\"M292.65,-115.63C308.04,-107.34 325.77,-97.79 342.37,-88.84\"/>\n<polygon fill=\"black\" stroke=\"black\" points=\"344.31,-91.77 351.45,-83.94 340.99,-85.61 344.31,-91.77\"/>\n<text text-anchor=\"middle\" x=\"321.39\" y=\"-105.99\" font-family=\"Times,serif\" font-size=\"14.00\">1 </text>\n</g>\n<!-- \\(S_01_F_01\\)&#45;&gt;\\(I_IF\\) -->\n<g id=\"edge2\" class=\"edge\">\n<title>\\(S_01_F_01\\)&#45;&gt;\\(I_IF\\)</title>\n<path fill=\"none\" stroke=\"black\" d=\"M344.75,-59.07C304.8,-60.56 249.92,-62.94 201.69,-66.19 189.76,-67 176.81,-68.08 164.96,-69.15\"/>\n<polygon fill=\"black\" stroke=\"black\" points=\"164.52,-65.68 154.88,-70.08 165.16,-72.65 164.52,-65.68\"/>\n<text text-anchor=\"middle\" x=\"249.79\" y=\"-69.99\" font-family=\"Times,serif\" font-size=\"14.00\">1 </text>\n</g>\n<!-- \\(F_010_S_010\\) -->\n<g id=\"node5\" class=\"node\">\n<title>\\(F_010_S_010\\)</title>\n<ellipse fill=\"none\" stroke=\"black\" cx=\"571.92\" cy=\"-95.19\" rx=\"65.79\" ry=\"65.79\"/>\n<text text-anchor=\"middle\" x=\"571.92\" y=\"-91.49\" font-family=\"Times,serif\" font-size=\"14.00\">(F_010_S_010)</text>\n</g>\n<!-- \\(S_01_F_01\\)&#45;&gt;\\(F_010_S_010\\) -->\n<g id=\"edge9\" class=\"edge\">\n<title>\\(S_01_F_01\\)&#45;&gt;\\(F_010_S_010\\)</title>\n<path fill=\"none\" stroke=\"black\" d=\"M458.04,-69.64C470.68,-72.5 484.33,-75.59 497.62,-78.6\"/>\n<polygon fill=\"black\" stroke=\"black\" points=\"497.16,-82.08 507.68,-80.88 498.7,-75.26 497.16,-82.08\"/>\n<text text-anchor=\"middle\" x=\"482.78\" y=\"-79.99\" font-family=\"Times,serif\" font-size=\"14.00\">0 </text>\n</g>\n<!-- \\(F_010_S_010\\)&#45;&gt;\\(S_0_F_0\\) -->\n<g id=\"edge7\" class=\"edge\">\n<title>\\(F_010_S_010\\)&#45;&gt;\\(S_0_F_0\\)</title>\n<path fill=\"none\" stroke=\"black\" d=\"M508.43,-112.9C492.51,-116.85 475.36,-120.62 459.28,-123.19 408.63,-131.3 350.35,-135.03 308.31,-136.74\"/>\n<polygon fill=\"black\" stroke=\"black\" points=\"308.12,-133.25 298.26,-137.13 308.38,-140.24 308.12,-133.25\"/>\n<text text-anchor=\"middle\" x=\"402.08\" y=\"-137.99\" font-family=\"Times,serif\" font-size=\"14.00\">0 </text>\n</g>\n<!-- \\(F_010_S_010\\)&#45;&gt;\\(S_01_F_01\\) -->\n<g id=\"edge6\" class=\"edge\">\n<title>\\(F_010_S_010\\)&#45;&gt;\\(S_01_F_01\\)</title>\n<path fill=\"none\" stroke=\"black\" d=\"M512.79,-65.67C504.72,-62.62 496.41,-59.98 488.28,-58.19 482.21,-56.86 475.84,-55.94 469.43,-55.33\"/>\n<polygon fill=\"black\" stroke=\"black\" points=\"469.58,-51.83 459.36,-54.61 469.09,-58.81 469.58,-51.83\"/>\n<text text-anchor=\"middle\" x=\"482.78\" y=\"-61.99\" font-family=\"Times,serif\" font-size=\"14.00\">1 </text>\n</g>\n</g>\n</svg>\n",
            "text/plain": [
              "<graphviz.graphs.Digraph at 0x7d1858b68700>"
            ]
          },
          "metadata": {},
          "execution_count": 16
        }
      ]
    },
    {
      "cell_type": "code",
      "source": [
        "dotObj_dfa(min_dfa(Ends010_and_not_Ends010))"
      ],
      "metadata": {
        "id": "B_4ssZ5kLW7g",
        "outputId": "e7e61c7a-630f-483f-e9fe-6cd379e2e6e9",
        "colab": {
          "base_uri": "https://localhost:8080/",
          "height": 204
        }
      },
      "execution_count": 17,
      "outputs": [
        {
          "output_type": "execute_result",
          "data": {
            "image/svg+xml": "<?xml version=\"1.0\" encoding=\"UTF-8\" standalone=\"no\"?>\n<!DOCTYPE svg PUBLIC \"-//W3C//DTD SVG 1.1//EN\"\n \"http://www.w3.org/Graphics/SVG/1.1/DTD/svg11.dtd\">\n<!-- Generated by graphviz version 2.43.0 (0)\n -->\n<!-- Title: %3 Pages: 1 -->\n<svg width=\"163pt\" height=\"138pt\"\n viewBox=\"0.00 0.00 162.69 137.69\" xmlns=\"http://www.w3.org/2000/svg\" xmlns:xlink=\"http://www.w3.org/1999/xlink\">\n<g id=\"graph0\" class=\"graph\" transform=\"scale(1 1) rotate(0) translate(4 133.69)\">\n<title>%3</title>\n<polygon fill=\"white\" stroke=\"transparent\" points=\"-4,4 -4,-133.69 158.69,-133.69 158.69,4 -4,4\"/>\n<!-- EMPTY -->\n<g id=\"node1\" class=\"node\">\n<title>EMPTY</title>\n</g>\n<!-- \\(I_IF\\) -->\n<g id=\"node2\" class=\"node\">\n<title>\\(I_IF\\)</title>\n<ellipse fill=\"none\" stroke=\"black\" cx=\"122.85\" cy=\"-31.85\" rx=\"31.7\" ry=\"31.7\"/>\n<text text-anchor=\"middle\" x=\"122.85\" y=\"-28.15\" font-family=\"Times,serif\" font-size=\"14.00\">(I_IF)</text>\n</g>\n<!-- EMPTY&#45;&gt;\\(I_IF\\) -->\n<g id=\"edge1\" class=\"edge\">\n<title>EMPTY&#45;&gt;\\(I_IF\\)</title>\n<path fill=\"none\" stroke=\"black\" d=\"M54.14,-31.85C62.42,-31.85 71.77,-31.85 80.83,-31.85\"/>\n<polygon fill=\"black\" stroke=\"black\" points=\"80.86,-35.35 90.86,-31.85 80.86,-28.35 80.86,-35.35\"/>\n</g>\n<!-- \\(I_IF\\)&#45;&gt;\\(I_IF\\) -->\n<g id=\"edge2\" class=\"edge\">\n<title>\\(I_IF\\)&#45;&gt;\\(I_IF\\)</title>\n<path fill=\"none\" stroke=\"black\" d=\"M118.16,-63.49C118.21,-73.64 119.77,-81.69 122.85,-81.69 124.77,-81.69 126.1,-78.55 126.84,-73.71\"/>\n<polygon fill=\"black\" stroke=\"black\" points=\"130.35,-73.7 127.53,-63.49 123.37,-73.23 130.35,-73.7\"/>\n<text text-anchor=\"middle\" x=\"122.85\" y=\"-85.49\" font-family=\"Times,serif\" font-size=\"14.00\">1 </text>\n</g>\n<!-- \\(I_IF\\)&#45;&gt;\\(I_IF\\) -->\n<g id=\"edge3\" class=\"edge\">\n<title>\\(I_IF\\)&#45;&gt;\\(I_IF\\)</title>\n<path fill=\"none\" stroke=\"black\" d=\"M114.13,-62.55C112.03,-81.58 114.94,-99.69 122.85,-99.69 129.34,-99.69 132.46,-87.51 132.21,-72.62\"/>\n<polygon fill=\"black\" stroke=\"black\" points=\"135.7,-72.3 131.56,-62.55 128.71,-72.75 135.7,-72.3\"/>\n<text text-anchor=\"middle\" x=\"122.85\" y=\"-103.49\" font-family=\"Times,serif\" font-size=\"14.00\">0 </text>\n</g>\n</g>\n</svg>\n",
            "text/plain": [
              "<graphviz.graphs.Digraph at 0x7d1858b6a080>"
            ]
          },
          "metadata": {},
          "execution_count": 17
        }
      ]
    },
    {
      "cell_type": "markdown",
      "source": [],
      "metadata": {
        "id": "JUQ-iEQTceOm"
      }
    },
    {
      "cell_type": "markdown",
      "source": [
        "### 2(c). Now try OR of both the languages and get a machine that accepts all strings. Then we know that the machine we designed DFA_Ends010 is much more believable."
      ],
      "metadata": {
        "id": "RFdFE_99MlY8"
      }
    },
    {
      "cell_type": "markdown",
      "source": [
        "😃"
      ],
      "metadata": {
        "id": "cfqWf9HkcdPj"
      }
    },
    {
      "cell_type": "code",
      "source": [
        "Ends010_or_not_Ends010 = union_dfa(DFA_Ends010, DFA_Not_Ends010)\n",
        "dotObj_dfa(min_dfa(Ends010_or_not_Ends010))"
      ],
      "metadata": {
        "id": "UrAhtDN8Mtml",
        "outputId": "c44d39e2-c4ed-4b19-e509-9cf28a7f1ea2",
        "colab": {
          "base_uri": "https://localhost:8080/",
          "height": 215
        }
      },
      "execution_count": 18,
      "outputs": [
        {
          "output_type": "execute_result",
          "data": {
            "image/svg+xml": "<?xml version=\"1.0\" encoding=\"UTF-8\" standalone=\"no\"?>\n<!DOCTYPE svg PUBLIC \"-//W3C//DTD SVG 1.1//EN\"\n \"http://www.w3.org/Graphics/SVG/1.1/DTD/svg11.dtd\">\n<!-- Generated by graphviz version 2.43.0 (0)\n -->\n<!-- Title: %3 Pages: 1 -->\n<svg width=\"171pt\" height=\"146pt\"\n viewBox=\"0.00 0.00 170.69 145.69\" xmlns=\"http://www.w3.org/2000/svg\" xmlns:xlink=\"http://www.w3.org/1999/xlink\">\n<g id=\"graph0\" class=\"graph\" transform=\"scale(1 1) rotate(0) translate(4 141.69)\">\n<title>%3</title>\n<polygon fill=\"white\" stroke=\"transparent\" points=\"-4,4 -4,-141.69 166.69,-141.69 166.69,4 -4,4\"/>\n<!-- EMPTY -->\n<g id=\"node1\" class=\"node\">\n<title>EMPTY</title>\n</g>\n<!-- \\(I_IF\\) -->\n<g id=\"node2\" class=\"node\">\n<title>\\(I_IF\\)</title>\n<ellipse fill=\"none\" stroke=\"black\" cx=\"126.85\" cy=\"-35.85\" rx=\"31.71\" ry=\"31.71\"/>\n<ellipse fill=\"none\" stroke=\"black\" cx=\"126.85\" cy=\"-35.85\" rx=\"35.69\" ry=\"35.69\"/>\n<text text-anchor=\"middle\" x=\"126.85\" y=\"-32.15\" font-family=\"Times,serif\" font-size=\"14.00\">(I_IF)</text>\n</g>\n<!-- EMPTY&#45;&gt;\\(I_IF\\) -->\n<g id=\"edge1\" class=\"edge\">\n<title>EMPTY&#45;&gt;\\(I_IF\\)</title>\n<path fill=\"none\" stroke=\"black\" d=\"M54.22,-35.85C62.36,-35.85 71.59,-35.85 80.64,-35.85\"/>\n<polygon fill=\"black\" stroke=\"black\" points=\"80.72,-39.35 90.72,-35.85 80.72,-32.35 80.72,-39.35\"/>\n</g>\n<!-- \\(I_IF\\)&#45;&gt;\\(I_IF\\) -->\n<g id=\"edge2\" class=\"edge\">\n<title>\\(I_IF\\)&#45;&gt;\\(I_IF\\)</title>\n<path fill=\"none\" stroke=\"black\" d=\"M121.8,-71.58C122,-81.81 123.68,-89.69 126.85,-89.69 128.82,-89.69 130.22,-86.61 131.04,-81.8\"/>\n<polygon fill=\"black\" stroke=\"black\" points=\"134.55,-81.83 131.89,-71.58 127.58,-81.25 134.55,-81.83\"/>\n<text text-anchor=\"middle\" x=\"126.85\" y=\"-93.49\" font-family=\"Times,serif\" font-size=\"14.00\">1 </text>\n</g>\n<!-- \\(I_IF\\)&#45;&gt;\\(I_IF\\) -->\n<g id=\"edge3\" class=\"edge\">\n<title>\\(I_IF\\)&#45;&gt;\\(I_IF\\)</title>\n<path fill=\"none\" stroke=\"black\" d=\"M117.21,-70.59C115.41,-89.91 118.62,-107.69 126.85,-107.69 133.6,-107.69 136.97,-95.73 136.97,-80.76\"/>\n<polygon fill=\"black\" stroke=\"black\" points=\"140.46,-80.42 136.49,-70.59 133.47,-80.75 140.46,-80.42\"/>\n<text text-anchor=\"middle\" x=\"126.85\" y=\"-111.49\" font-family=\"Times,serif\" font-size=\"14.00\">0 </text>\n</g>\n</g>\n</svg>\n",
            "text/plain": [
              "<graphviz.graphs.Digraph at 0x7d1858b685e0>"
            ]
          },
          "metadata": {},
          "execution_count": 18
        }
      ]
    },
    {
      "cell_type": "markdown",
      "source": [
        "### At this point we know that our design of DFA_Ends010 is trustworthy."
      ],
      "metadata": {
        "id": "QGcDXm-NN-_A"
      }
    },
    {
      "cell_type": "code",
      "source": [
        "# Why is this the case? All I did for NotEnds010 was complement Ends010. If the first is incorrect, it's likely the second would be too because my understanding would have been flawed."
      ],
      "metadata": {
        "id": "LY2BG5SPwlDg"
      },
      "execution_count": null,
      "outputs": []
    },
    {
      "cell_type": "markdown",
      "source": [
        "### 2(d). At this point, you are going to obtain more DFA design experience. Define DFA_Mod5, a DFA that accepts any binary sequence whose numeric value is evenly divisible by 5.\n",
        "\n",
        "Design of the DFA\n",
        "\n",
        "* Each state remembers the number seen so far, mod 5\n"
      ],
      "metadata": {
        "id": "i4E286c4OPyl"
      }
    },
    {
      "cell_type": "markdown",
      "source": [
        "😃"
      ],
      "metadata": {
        "id": "QzrlfAFWckM8"
      }
    },
    {
      "cell_type": "code",
      "source": [
        "DFA_Mod5 = md2mc('''DFA\n",
        "!!! Initial state should be accepting, as epsilon is 0.\n",
        "!!! But it must be distinct from the future mod 0 state.\n",
        "IF : 0 -> F0\n",
        "IF : 1 -> S1\n",
        "\n",
        "!! SN = the state where the value so far is congruent to N (mod 5)\n",
        "F0 : 0 -> F0 !! i.e. 1010 = 10, 10100 = 20 (0 mod 5)\n",
        "F0 : 1 -> S1 !! i.e. 1010 = 10, 10101 = 21 (1 mod 5)\n",
        "!! further states determined in similar ways\n",
        "\n",
        "S1 : 0 -> S2\n",
        "S1 : 1 -> S3\n",
        "\n",
        "S2 : 0 -> S4\n",
        "S2 : 1 -> F0 !! becomes 5 mod 5 = 0 mod 5\n",
        "\n",
        "S3 : 0 -> S1\n",
        "S3 : 1 -> S2\n",
        "\n",
        "S4 : 0 -> S3\n",
        "S4 : 1 -> S4\n",
        "''')\n",
        "dotObj_dfa(DFA_Mod5, FuseEdges=True)"
      ],
      "metadata": {
        "id": "ZA_HYsQQkgBF",
        "outputId": "f0132284-9cbd-420f-a625-e66d6c3019c0",
        "colab": {
          "base_uri": "https://localhost:8080/",
          "height": 447
        }
      },
      "execution_count": 19,
      "outputs": [
        {
          "output_type": "execute_result",
          "data": {
            "image/svg+xml": "<?xml version=\"1.0\" encoding=\"UTF-8\" standalone=\"no\"?>\n<!DOCTYPE svg PUBLIC \"-//W3C//DTD SVG 1.1//EN\"\n \"http://www.w3.org/Graphics/SVG/1.1/DTD/svg11.dtd\">\n<!-- Generated by graphviz version 2.43.0 (0)\n -->\n<!-- Title: %3 Pages: 1 -->\n<svg width=\"502pt\" height=\"320pt\"\n viewBox=\"0.00 0.00 501.88 320.15\" xmlns=\"http://www.w3.org/2000/svg\" xmlns:xlink=\"http://www.w3.org/1999/xlink\">\n<g id=\"graph0\" class=\"graph\" transform=\"scale(1 1) rotate(0) translate(4 316.15)\">\n<title>%3</title>\n<polygon fill=\"white\" stroke=\"transparent\" points=\"-4,4 -4,-316.15 497.88,-316.15 497.88,4 -4,4\"/>\n<!-- EMPTY -->\n<g id=\"node1\" class=\"node\">\n<title>EMPTY</title>\n</g>\n<!-- IF -->\n<g id=\"node7\" class=\"node\">\n<title>IF</title>\n<ellipse fill=\"none\" stroke=\"black\" cx=\"113.85\" cy=\"-40.15\" rx=\"18.72\" ry=\"18.72\"/>\n<ellipse fill=\"none\" stroke=\"black\" cx=\"113.85\" cy=\"-40.15\" rx=\"22.7\" ry=\"22.7\"/>\n<text text-anchor=\"middle\" x=\"113.85\" y=\"-36.45\" font-family=\"Times,serif\" font-size=\"14.00\">IF</text>\n</g>\n<!-- EMPTY&#45;&gt;IF -->\n<g id=\"edge1\" class=\"edge\">\n<title>EMPTY&#45;&gt;IF</title>\n<path fill=\"none\" stroke=\"black\" d=\"M54.38,-40.15C62.68,-40.15 71.94,-40.15 80.6,-40.15\"/>\n<polygon fill=\"black\" stroke=\"black\" points=\"80.76,-43.65 90.76,-40.15 80.76,-36.65 80.76,-43.65\"/>\n</g>\n<!-- S1 -->\n<g id=\"node2\" class=\"node\">\n<title>S1</title>\n<ellipse fill=\"none\" stroke=\"black\" cx=\"203.84\" cy=\"-141.15\" rx=\"20.3\" ry=\"20.3\"/>\n<text text-anchor=\"middle\" x=\"203.84\" y=\"-137.45\" font-family=\"Times,serif\" font-size=\"14.00\">S1</text>\n</g>\n<!-- S2 -->\n<g id=\"node3\" class=\"node\">\n<title>S2</title>\n<ellipse fill=\"none\" stroke=\"black\" cx=\"291.14\" cy=\"-141.15\" rx=\"20.3\" ry=\"20.3\"/>\n<text text-anchor=\"middle\" x=\"291.14\" y=\"-137.45\" font-family=\"Times,serif\" font-size=\"14.00\">S2</text>\n</g>\n<!-- S1&#45;&gt;S2 -->\n<g id=\"edge6\" class=\"edge\">\n<title>S1&#45;&gt;S2</title>\n<path fill=\"none\" stroke=\"black\" d=\"M224.2,-141.15C235,-141.15 248.67,-141.15 260.76,-141.15\"/>\n<polygon fill=\"black\" stroke=\"black\" points=\"260.86,-144.65 270.86,-141.15 260.86,-137.65 260.86,-144.65\"/>\n<text text-anchor=\"middle\" x=\"247.49\" y=\"-144.95\" font-family=\"Times,serif\" font-size=\"14.00\">0 </text>\n</g>\n<!-- S3 -->\n<g id=\"node4\" class=\"node\">\n<title>S3</title>\n<ellipse fill=\"none\" stroke=\"black\" cx=\"473.73\" cy=\"-229.15\" rx=\"20.3\" ry=\"20.3\"/>\n<text text-anchor=\"middle\" x=\"473.73\" y=\"-225.45\" font-family=\"Times,serif\" font-size=\"14.00\">S3</text>\n</g>\n<!-- S1&#45;&gt;S3 -->\n<g id=\"edge7\" class=\"edge\">\n<title>S1&#45;&gt;S3</title>\n<path fill=\"none\" stroke=\"black\" d=\"M204.22,-161.44C204.59,-189.85 210,-240.76 241.99,-265.15 310.42,-317.31 356.18,-298.28 435.59,-265.15 442.38,-262.31 448.63,-257.6 453.99,-252.51\"/>\n<polygon fill=\"black\" stroke=\"black\" points=\"456.82,-254.61 461.17,-244.94 451.75,-249.79 456.82,-254.61\"/>\n<text text-anchor=\"middle\" x=\"334.79\" y=\"-300.95\" font-family=\"Times,serif\" font-size=\"14.00\">1 </text>\n</g>\n<!-- S4 -->\n<g id=\"node5\" class=\"node\">\n<title>S4</title>\n<ellipse fill=\"none\" stroke=\"black\" cx=\"382.44\" cy=\"-119.15\" rx=\"20.3\" ry=\"20.3\"/>\n<text text-anchor=\"middle\" x=\"382.44\" y=\"-115.45\" font-family=\"Times,serif\" font-size=\"14.00\">S4</text>\n</g>\n<!-- S2&#45;&gt;S4 -->\n<g id=\"edge8\" class=\"edge\">\n<title>S2&#45;&gt;S4</title>\n<path fill=\"none\" stroke=\"black\" d=\"M311.08,-136.48C323.15,-133.51 339.04,-129.59 352.66,-126.24\"/>\n<polygon fill=\"black\" stroke=\"black\" points=\"353.66,-129.6 362.53,-123.81 351.98,-122.8 353.66,-129.6\"/>\n<text text-anchor=\"middle\" x=\"334.79\" y=\"-134.95\" font-family=\"Times,serif\" font-size=\"14.00\">0 </text>\n</g>\n<!-- F0 -->\n<g id=\"node6\" class=\"node\">\n<title>F0</title>\n<ellipse fill=\"none\" stroke=\"black\" cx=\"382.44\" cy=\"-24.15\" rx=\"20.27\" ry=\"20.27\"/>\n<ellipse fill=\"none\" stroke=\"black\" cx=\"382.44\" cy=\"-24.15\" rx=\"24.3\" ry=\"24.3\"/>\n<text text-anchor=\"middle\" x=\"382.44\" y=\"-20.45\" font-family=\"Times,serif\" font-size=\"14.00\">F0</text>\n</g>\n<!-- S2&#45;&gt;F0 -->\n<g id=\"edge9\" class=\"edge\">\n<title>S2&#45;&gt;F0</title>\n<path fill=\"none\" stroke=\"black\" d=\"M304.63,-126.03C314.48,-114 328.48,-96.66 340.29,-81.15 347.48,-71.71 355.14,-61.21 361.88,-51.83\"/>\n<polygon fill=\"black\" stroke=\"black\" points=\"364.81,-53.76 367.78,-43.59 359.11,-49.69 364.81,-53.76\"/>\n<text text-anchor=\"middle\" x=\"334.79\" y=\"-98.95\" font-family=\"Times,serif\" font-size=\"14.00\">1 </text>\n</g>\n<!-- S3&#45;&gt;S1 -->\n<g id=\"edge10\" class=\"edge\">\n<title>S3&#45;&gt;S1</title>\n<path fill=\"none\" stroke=\"black\" d=\"M453.29,-230.42C430.18,-231.37 390.68,-231.23 358.29,-222.15 309.4,-208.44 258.37,-177.67 229.21,-158.24\"/>\n<polygon fill=\"black\" stroke=\"black\" points=\"231.13,-155.32 220.89,-152.61 227.21,-161.12 231.13,-155.32\"/>\n<text text-anchor=\"middle\" x=\"334.79\" y=\"-218.95\" font-family=\"Times,serif\" font-size=\"14.00\">0 </text>\n</g>\n<!-- S3&#45;&gt;S2 -->\n<g id=\"edge11\" class=\"edge\">\n<title>S3&#45;&gt;S2</title>\n<path fill=\"none\" stroke=\"black\" d=\"M454.52,-222.46C431.63,-213.84 391.32,-197.95 358.29,-181.15 344.28,-174.02 329.24,-165.04 317.05,-157.4\"/>\n<polygon fill=\"black\" stroke=\"black\" points=\"318.66,-154.27 308.34,-151.86 314.9,-160.18 318.66,-154.27\"/>\n<text text-anchor=\"middle\" x=\"382.44\" y=\"-206.95\" font-family=\"Times,serif\" font-size=\"14.00\">1 </text>\n</g>\n<!-- S4&#45;&gt;S3 -->\n<g id=\"edge12\" class=\"edge\">\n<title>S4&#45;&gt;S3</title>\n<path fill=\"none\" stroke=\"black\" d=\"M396.62,-133.68C407.36,-145.66 422.79,-163.23 435.59,-179.15 442.22,-187.4 449.22,-196.66 455.33,-204.95\"/>\n<polygon fill=\"black\" stroke=\"black\" points=\"452.6,-207.14 461.33,-213.15 458.25,-203.01 452.6,-207.14\"/>\n<text text-anchor=\"middle\" x=\"430.09\" y=\"-182.95\" font-family=\"Times,serif\" font-size=\"14.00\">0 </text>\n</g>\n<!-- S4&#45;&gt;S4 -->\n<g id=\"edge13\" class=\"edge\">\n<title>S4&#45;&gt;S4</title>\n<path fill=\"none\" stroke=\"black\" d=\"M374.23,-137.6C372.69,-147.85 375.43,-157.3 382.44,-157.3 386.93,-157.3 389.66,-153.42 390.65,-147.94\"/>\n<polygon fill=\"black\" stroke=\"black\" points=\"394.15,-147.6 390.65,-137.6 387.15,-147.6 394.15,-147.6\"/>\n<text text-anchor=\"middle\" x=\"382.44\" y=\"-161.1\" font-family=\"Times,serif\" font-size=\"14.00\">1 </text>\n</g>\n<!-- F0&#45;&gt;S1 -->\n<g id=\"edge5\" class=\"edge\">\n<title>F0&#45;&gt;S1</title>\n<path fill=\"none\" stroke=\"black\" d=\"M361.87,-37.05C339.79,-51.63 302.79,-76.06 270.99,-97.15 257.3,-106.23 242.03,-116.38 229.62,-124.64\"/>\n<polygon fill=\"black\" stroke=\"black\" points=\"227.53,-121.83 221.15,-130.29 231.41,-127.66 227.53,-121.83\"/>\n<text text-anchor=\"middle\" x=\"291.14\" y=\"-100.95\" font-family=\"Times,serif\" font-size=\"14.00\">1 </text>\n</g>\n<!-- F0&#45;&gt;F0 -->\n<g id=\"edge4\" class=\"edge\">\n<title>F0&#45;&gt;F0</title>\n<path fill=\"none\" stroke=\"black\" d=\"M373.95,-47.13C373.14,-57.41 375.97,-66.3 382.44,-66.3 386.58,-66.3 389.23,-62.65 390.39,-57.32\"/>\n<polygon fill=\"black\" stroke=\"black\" points=\"393.9,-57.3 390.93,-47.13 386.91,-56.93 393.9,-57.3\"/>\n<text text-anchor=\"middle\" x=\"382.44\" y=\"-70.1\" font-family=\"Times,serif\" font-size=\"14.00\">0 </text>\n</g>\n<!-- IF&#45;&gt;S1 -->\n<g id=\"edge3\" class=\"edge\">\n<title>IF&#45;&gt;S1</title>\n<path fill=\"none\" stroke=\"black\" d=\"M129.78,-57.28C144.47,-74.15 166.99,-100 183.15,-118.54\"/>\n<polygon fill=\"black\" stroke=\"black\" points=\"180.65,-121 189.85,-126.24 185.92,-116.4 180.65,-121\"/>\n<text text-anchor=\"middle\" x=\"160.2\" y=\"-100.95\" font-family=\"Times,serif\" font-size=\"14.00\">1 </text>\n</g>\n<!-- IF&#45;&gt;F0 -->\n<g id=\"edge2\" class=\"edge\">\n<title>IF&#45;&gt;F0</title>\n<path fill=\"none\" stroke=\"black\" d=\"M136.66,-38.84C183.28,-36.04 292.83,-29.47 348.19,-26.14\"/>\n<polygon fill=\"black\" stroke=\"black\" points=\"348.41,-29.64 358.18,-25.54 347.99,-22.65 348.41,-29.64\"/>\n<text text-anchor=\"middle\" x=\"247.49\" y=\"-36.95\" font-family=\"Times,serif\" font-size=\"14.00\">0 </text>\n</g>\n</g>\n</svg>\n",
            "text/plain": [
              "<graphviz.graphs.Digraph at 0x7d185a41a560>"
            ]
          },
          "metadata": {},
          "execution_count": 19
        }
      ]
    },
    {
      "cell_type": "markdown",
      "source": [
        "😃"
      ],
      "metadata": {
        "id": "aSPoUvfXcnFV"
      }
    },
    {
      "cell_type": "markdown",
      "metadata": {
        "id": "BT2DDD6lr8ym"
      },
      "source": [
        "### Part 2(e)\n",
        "\n",
        "Compute the intersection of the DFA_Mod5 language with that of DFA_Ends010. This is a language that would have been hard to directly design as a DFA (that being the lesson you obtain)"
      ]
    },
    {
      "cell_type": "code",
      "source": [
        "DFA_Mod5_And_Ends010 = intersect_dfa(DFA_Mod5, DFA_Ends010)\n",
        "dotObj_dfa(DFA_Mod5_And_Ends010, FuseEdges=True)"
      ],
      "metadata": {
        "id": "LCS1kCa3ncJz",
        "outputId": "48ceec64-5f67-4929-d34a-d69ce590f0ea",
        "colab": {
          "base_uri": "https://localhost:8080/",
          "height": 943
        }
      },
      "execution_count": 26,
      "outputs": [
        {
          "output_type": "execute_result",
          "data": {
            "image/svg+xml": "<?xml version=\"1.0\" encoding=\"UTF-8\" standalone=\"no\"?>\n<!DOCTYPE svg PUBLIC \"-//W3C//DTD SVG 1.1//EN\"\n \"http://www.w3.org/Graphics/SVG/1.1/DTD/svg11.dtd\">\n<!-- Generated by graphviz version 2.43.0 (0)\n -->\n<!-- Title: %3 Pages: 1 -->\n<svg width=\"2251pt\" height=\"677pt\"\n viewBox=\"0.00 0.00 2250.97 677.29\" xmlns=\"http://www.w3.org/2000/svg\" xmlns:xlink=\"http://www.w3.org/1999/xlink\">\n<g id=\"graph0\" class=\"graph\" transform=\"scale(1 1) rotate(0) translate(4 673.29)\">\n<title>%3</title>\n<polygon fill=\"white\" stroke=\"transparent\" points=\"-4,4 -4,-673.29 2246.97,-673.29 2246.97,4 -4,4\"/>\n<!-- EMPTY -->\n<g id=\"node1\" class=\"node\">\n<title>EMPTY</title>\n</g>\n<!-- \\(IF_I\\) -->\n<g id=\"node10\" class=\"node\">\n<title>\\(IF_I\\)</title>\n<ellipse fill=\"none\" stroke=\"black\" cx=\"122.85\" cy=\"-307.65\" rx=\"31.7\" ry=\"31.7\"/>\n<text text-anchor=\"middle\" x=\"122.85\" y=\"-303.95\" font-family=\"Times,serif\" font-size=\"14.00\">(IF_I)</text>\n</g>\n<!-- EMPTY&#45;&gt;\\(IF_I\\) -->\n<g id=\"edge1\" class=\"edge\">\n<title>EMPTY&#45;&gt;\\(IF_I\\)</title>\n<path fill=\"none\" stroke=\"black\" d=\"M54.14,-307.65C62.42,-307.65 71.77,-307.65 80.83,-307.65\"/>\n<polygon fill=\"black\" stroke=\"black\" points=\"80.86,-311.15 90.86,-307.65 80.86,-304.15 80.86,-311.15\"/>\n</g>\n<!-- \\(S4_S_01\\) -->\n<g id=\"node2\" class=\"node\">\n<title>\\(S4_S_01\\)</title>\n<ellipse fill=\"none\" stroke=\"black\" cx=\"1603.16\" cy=\"-365.65\" rx=\"48.19\" ry=\"48.19\"/>\n<text text-anchor=\"middle\" x=\"1603.16\" y=\"-361.95\" font-family=\"Times,serif\" font-size=\"14.00\">(S4_S_01)</text>\n</g>\n<!-- \\(S4_I\\) -->\n<g id=\"node6\" class=\"node\">\n<title>\\(S4_I\\)</title>\n<ellipse fill=\"none\" stroke=\"black\" cx=\"1759.45\" cy=\"-365.65\" rx=\"33.29\" ry=\"33.29\"/>\n<text text-anchor=\"middle\" x=\"1759.45\" y=\"-361.95\" font-family=\"Times,serif\" font-size=\"14.00\">(S4_I)</text>\n</g>\n<!-- \\(S4_S_01\\)&#45;&gt;\\(S4_I\\) -->\n<g id=\"edge9\" class=\"edge\">\n<title>\\(S4_S_01\\)&#45;&gt;\\(S4_I\\)</title>\n<path fill=\"none\" stroke=\"black\" d=\"M1651.29,-365.65C1671.97,-365.65 1696.06,-365.65 1716.15,-365.65\"/>\n<polygon fill=\"black\" stroke=\"black\" points=\"1716.26,-369.15 1726.26,-365.65 1716.26,-362.15 1716.26,-369.15\"/>\n<text text-anchor=\"middle\" x=\"1683.31\" y=\"-369.45\" font-family=\"Times,serif\" font-size=\"14.00\">1 </text>\n</g>\n<!-- \\(S3_F_010\\) -->\n<g id=\"node7\" class=\"node\">\n<title>\\(S3_F_010\\)</title>\n<ellipse fill=\"none\" stroke=\"black\" cx=\"1759.45\" cy=\"-616.65\" rx=\"52.79\" ry=\"52.79\"/>\n<text text-anchor=\"middle\" x=\"1759.45\" y=\"-612.95\" font-family=\"Times,serif\" font-size=\"14.00\">(S3_F_010)</text>\n</g>\n<!-- \\(S4_S_01\\)&#45;&gt;\\(S3_F_010\\) -->\n<g id=\"edge7\" class=\"edge\">\n<title>\\(S4_S_01\\)&#45;&gt;\\(S3_F_010\\)</title>\n<path fill=\"none\" stroke=\"black\" d=\"M1629.12,-406.25C1655.38,-448.96 1696.81,-516.37 1725.69,-563.34\"/>\n<polygon fill=\"black\" stroke=\"black\" points=\"1722.7,-565.17 1730.92,-571.86 1728.67,-561.51 1722.7,-565.17\"/>\n<text text-anchor=\"middle\" x=\"1683.31\" y=\"-503.45\" font-family=\"Times,serif\" font-size=\"14.00\">0 </text>\n</g>\n<!-- \\(S4_F_010\\) -->\n<g id=\"node3\" class=\"node\">\n<title>\\(S4_F_010\\)</title>\n<ellipse fill=\"none\" stroke=\"black\" cx=\"2190.33\" cy=\"-416.65\" rx=\"52.79\" ry=\"52.79\"/>\n<text text-anchor=\"middle\" x=\"2190.33\" y=\"-412.95\" font-family=\"Times,serif\" font-size=\"14.00\">(S4_F_010)</text>\n</g>\n<!-- \\(S4_F_010\\)&#45;&gt;\\(S4_S_01\\) -->\n<g id=\"edge28\" class=\"edge\">\n<title>\\(S4_F_010\\)&#45;&gt;\\(S4_S_01\\)</title>\n<path fill=\"none\" stroke=\"black\" d=\"M2158.88,-373.98C2132.42,-342.33 2090.97,-304.65 2043.59,-304.65 1758.45,-304.65 1758.45,-304.65 1758.45,-304.65 1721.25,-304.65 1682.32,-320.17 1652.87,-335.55\"/>\n<polygon fill=\"black\" stroke=\"black\" points=\"1651.19,-332.48 1644.05,-340.31 1654.51,-338.64 1651.19,-332.48\"/>\n<text text-anchor=\"middle\" x=\"1903.29\" y=\"-308.45\" font-family=\"Times,serif\" font-size=\"14.00\">1 </text>\n</g>\n<!-- \\(S3_S_0\\) -->\n<g id=\"node5\" class=\"node\">\n<title>\\(S3_S_0\\)</title>\n<ellipse fill=\"none\" stroke=\"black\" cx=\"1903.29\" cy=\"-425.65\" rx=\"44.39\" ry=\"44.39\"/>\n<text text-anchor=\"middle\" x=\"1903.29\" y=\"-421.95\" font-family=\"Times,serif\" font-size=\"14.00\">(S3_S_0)</text>\n</g>\n<!-- \\(S4_F_010\\)&#45;&gt;\\(S3_S_0\\) -->\n<g id=\"edge38\" class=\"edge\">\n<title>\\(S4_F_010\\)&#45;&gt;\\(S3_S_0\\)</title>\n<path fill=\"none\" stroke=\"black\" d=\"M2137.4,-418.29C2086.5,-419.89 2009.28,-422.33 1957.83,-423.95\"/>\n<polygon fill=\"black\" stroke=\"black\" points=\"1957.47,-420.46 1947.58,-424.28 1957.69,-427.46 1957.47,-420.46\"/>\n<text text-anchor=\"middle\" x=\"2042.59\" y=\"-427.45\" font-family=\"Times,serif\" font-size=\"14.00\">0 </text>\n</g>\n<!-- \\(S3_S_01\\) -->\n<g id=\"node4\" class=\"node\">\n<title>\\(S3_S_01\\)</title>\n<ellipse fill=\"none\" stroke=\"black\" cx=\"777.06\" cy=\"-289.65\" rx=\"48.19\" ry=\"48.19\"/>\n<text text-anchor=\"middle\" x=\"777.06\" y=\"-285.95\" font-family=\"Times,serif\" font-size=\"14.00\">(S3_S_01)</text>\n</g>\n<!-- \\(S2_I\\) -->\n<g id=\"node17\" class=\"node\">\n<title>\\(S2_I\\)</title>\n<ellipse fill=\"none\" stroke=\"black\" cx=\"924.8\" cy=\"-398.65\" rx=\"33.29\" ry=\"33.29\"/>\n<text text-anchor=\"middle\" x=\"924.8\" y=\"-394.95\" font-family=\"Times,serif\" font-size=\"14.00\">(S2_I)</text>\n</g>\n<!-- \\(S3_S_01\\)&#45;&gt;\\(S2_I\\) -->\n<g id=\"edge31\" class=\"edge\">\n<title>\\(S3_S_01\\)&#45;&gt;\\(S2_I\\)</title>\n<path fill=\"none\" stroke=\"black\" d=\"M819.81,-312.49C831.4,-319.6 843.67,-327.89 854.16,-336.65 863.34,-344.31 863.49,-348.4 872.16,-356.65 877.68,-361.9 883.79,-367.24 889.82,-372.27\"/>\n<polygon fill=\"black\" stroke=\"black\" points=\"887.96,-375.27 897.92,-378.89 892.39,-369.85 887.96,-375.27\"/>\n<text text-anchor=\"middle\" x=\"848.66\" y=\"-340.45\" font-family=\"Times,serif\" font-size=\"14.00\">1 </text>\n</g>\n<!-- \\(S1_F_010\\) -->\n<g id=\"node20\" class=\"node\">\n<title>\\(S1_F_010\\)</title>\n<ellipse fill=\"none\" stroke=\"black\" cx=\"924.8\" cy=\"-294.65\" rx=\"52.79\" ry=\"52.79\"/>\n<text text-anchor=\"middle\" x=\"924.8\" y=\"-290.95\" font-family=\"Times,serif\" font-size=\"14.00\">(S1_F_010)</text>\n</g>\n<!-- \\(S3_S_01\\)&#45;&gt;\\(S1_F_010\\) -->\n<g id=\"edge10\" class=\"edge\">\n<title>\\(S3_S_01\\)&#45;&gt;\\(S1_F_010\\)</title>\n<path fill=\"none\" stroke=\"black\" d=\"M817.6,-263.28C829.15,-258.42 841.96,-255.68 854.16,-258.65 859.45,-259.93 864.78,-261.7 870.02,-263.75\"/>\n<polygon fill=\"black\" stroke=\"black\" points=\"868.75,-267.02 879.32,-267.74 871.51,-260.58 868.75,-267.02\"/>\n<text text-anchor=\"middle\" x=\"848.66\" y=\"-262.45\" font-family=\"Times,serif\" font-size=\"14.00\">0 </text>\n</g>\n<!-- \\(S2_S_01\\) -->\n<g id=\"node11\" class=\"node\">\n<title>\\(S2_S_01\\)</title>\n<ellipse fill=\"none\" stroke=\"black\" cx=\"2042.59\" cy=\"-497.65\" rx=\"48.19\" ry=\"48.19\"/>\n<text text-anchor=\"middle\" x=\"2042.59\" y=\"-493.95\" font-family=\"Times,serif\" font-size=\"14.00\">(S2_S_01)</text>\n</g>\n<!-- \\(S3_S_0\\)&#45;&gt;\\(S2_S_01\\) -->\n<g id=\"edge22\" class=\"edge\">\n<title>\\(S3_S_0\\)&#45;&gt;\\(S2_S_01\\)</title>\n<path fill=\"none\" stroke=\"black\" d=\"M1942.9,-445.89C1957.62,-453.61 1974.63,-462.53 1990.35,-470.77\"/>\n<polygon fill=\"black\" stroke=\"black\" points=\"1988.94,-473.99 1999.42,-475.53 1992.19,-467.79 1988.94,-473.99\"/>\n<text text-anchor=\"middle\" x=\"1970.99\" y=\"-465.45\" font-family=\"Times,serif\" font-size=\"14.00\">1 </text>\n</g>\n<!-- \\(S1_S_0\\) -->\n<g id=\"node15\" class=\"node\">\n<title>\\(S1_S_0\\)</title>\n<ellipse fill=\"none\" stroke=\"black\" cx=\"637.77\" cy=\"-499.65\" rx=\"44.39\" ry=\"44.39\"/>\n<text text-anchor=\"middle\" x=\"637.77\" y=\"-495.95\" font-family=\"Times,serif\" font-size=\"14.00\">(S1_S_0)</text>\n</g>\n<!-- \\(S3_S_0\\)&#45;&gt;\\(S1_S_0\\) -->\n<g id=\"edge36\" class=\"edge\">\n<title>\\(S3_S_0\\)&#45;&gt;\\(S1_S_0\\)</title>\n<path fill=\"none\" stroke=\"black\" d=\"M1877.5,-461.66C1852.18,-493.74 1809.69,-535.65 1760.45,-535.65 776.06,-535.65 776.06,-535.65 776.06,-535.65 746.34,-535.65 714.16,-527.66 688.42,-519.21\"/>\n<polygon fill=\"black\" stroke=\"black\" points=\"689.49,-515.87 678.9,-515.96 687.23,-522.5 689.49,-515.87\"/>\n<text text-anchor=\"middle\" x=\"1227.53\" y=\"-539.45\" font-family=\"Times,serif\" font-size=\"14.00\">0 </text>\n</g>\n<!-- \\(S4_I\\)&#45;&gt;\\(S3_S_0\\) -->\n<g id=\"edge32\" class=\"edge\">\n<title>\\(S4_I\\)&#45;&gt;\\(S3_S_0\\)</title>\n<path fill=\"none\" stroke=\"black\" d=\"M1790.19,-378.22C1808.36,-385.91 1832.06,-395.94 1852.98,-404.79\"/>\n<polygon fill=\"black\" stroke=\"black\" points=\"1851.8,-408.09 1862.37,-408.76 1854.53,-401.64 1851.8,-408.09\"/>\n<text text-anchor=\"middle\" x=\"1835.6\" y=\"-403.45\" font-family=\"Times,serif\" font-size=\"14.00\">0 </text>\n</g>\n<!-- \\(S4_I\\)&#45;&gt;\\(S4_I\\) -->\n<g id=\"edge17\" class=\"edge\">\n<title>\\(S4_I\\)&#45;&gt;\\(S4_I\\)</title>\n<path fill=\"none\" stroke=\"black\" d=\"M1745.25,-395.85C1744.7,-407.31 1749.43,-416.79 1759.45,-416.79 1766.18,-416.79 1770.53,-412.51 1772.49,-406.23\"/>\n<polygon fill=\"black\" stroke=\"black\" points=\"1776.02,-406.17 1773.66,-395.85 1769.06,-405.39 1776.02,-406.17\"/>\n<text text-anchor=\"middle\" x=\"1759.45\" y=\"-420.59\" font-family=\"Times,serif\" font-size=\"14.00\">1 </text>\n</g>\n<!-- \\(S3_F_010\\)&#45;&gt;\\(S2_S_01\\) -->\n<g id=\"edge20\" class=\"edge\">\n<title>\\(S3_F_010\\)&#45;&gt;\\(S2_S_01\\)</title>\n<path fill=\"none\" stroke=\"black\" d=\"M1808.14,-596.46C1858.14,-575.3 1936.51,-542.12 1988.45,-520.14\"/>\n<polygon fill=\"black\" stroke=\"black\" points=\"1989.99,-523.29 1997.83,-516.17 1987.26,-516.84 1989.99,-523.29\"/>\n<text text-anchor=\"middle\" x=\"1903.29\" y=\"-579.45\" font-family=\"Times,serif\" font-size=\"14.00\">1 </text>\n</g>\n<!-- \\(S3_F_010\\)&#45;&gt;\\(S1_S_0\\) -->\n<g id=\"edge13\" class=\"edge\">\n<title>\\(S3_F_010\\)&#45;&gt;\\(S1_S_0\\)</title>\n<path fill=\"none\" stroke=\"black\" d=\"M1706.68,-614.13C1676.74,-612.89 1638.33,-611.65 1604.16,-611.65 776.06,-611.65 776.06,-611.65 776.06,-611.65 731.59,-611.65 693.56,-575.92 668.88,-544.83\"/>\n<polygon fill=\"black\" stroke=\"black\" points=\"671.45,-542.43 662.59,-536.63 665.9,-546.69 671.45,-542.43\"/>\n<text text-anchor=\"middle\" x=\"1170.89\" y=\"-615.45\" font-family=\"Times,serif\" font-size=\"14.00\">0 </text>\n</g>\n<!-- \\(S3_I\\) -->\n<g id=\"node8\" class=\"node\">\n<title>\\(S3_I\\)</title>\n<ellipse fill=\"none\" stroke=\"black\" cx=\"513.43\" cy=\"-238.65\" rx=\"33.29\" ry=\"33.29\"/>\n<text text-anchor=\"middle\" x=\"513.43\" y=\"-234.95\" font-family=\"Times,serif\" font-size=\"14.00\">(S3_I)</text>\n</g>\n<!-- \\(S3_I\\)&#45;&gt;\\(S1_S_0\\) -->\n<g id=\"edge18\" class=\"edge\">\n<title>\\(S3_I\\)&#45;&gt;\\(S1_S_0\\)</title>\n<path fill=\"none\" stroke=\"black\" d=\"M523.88,-270.42C536.72,-311.4 561.77,-384.24 593.57,-441.65 596.46,-446.85 599.75,-452.12 603.21,-457.25\"/>\n<polygon fill=\"black\" stroke=\"black\" points=\"600.54,-459.52 609.14,-465.71 606.27,-455.51 600.54,-459.52\"/>\n<text text-anchor=\"middle\" x=\"570.07\" y=\"-408.45\" font-family=\"Times,serif\" font-size=\"14.00\">0 </text>\n</g>\n<!-- \\(S3_I\\)&#45;&gt;\\(S2_I\\) -->\n<g id=\"edge23\" class=\"edge\">\n<title>\\(S3_I\\)&#45;&gt;\\(S2_I\\)</title>\n<path fill=\"none\" stroke=\"black\" d=\"M542.38,-255.07C582.54,-278.11 659.4,-320.17 728.96,-346.65 780.44,-366.23 842.22,-381.38 882.21,-390.15\"/>\n<polygon fill=\"black\" stroke=\"black\" points=\"881.62,-393.61 892.13,-392.3 883.1,-386.76 881.62,-393.61\"/>\n<text text-anchor=\"middle\" x=\"705.46\" y=\"-343.45\" font-family=\"Times,serif\" font-size=\"14.00\">1 </text>\n</g>\n<!-- \\(S2_S_0\\) -->\n<g id=\"node9\" class=\"node\">\n<title>\\(S2_S_0\\)</title>\n<ellipse fill=\"none\" stroke=\"black\" cx=\"1303.68\" cy=\"-303.65\" rx=\"44.39\" ry=\"44.39\"/>\n<text text-anchor=\"middle\" x=\"1303.68\" y=\"-299.95\" font-family=\"Times,serif\" font-size=\"14.00\">(S2_S_0)</text>\n</g>\n<!-- \\(F0_S_01\\) -->\n<g id=\"node12\" class=\"node\">\n<title>\\(F0_S_01\\)</title>\n<ellipse fill=\"none\" stroke=\"black\" cx=\"1451.42\" cy=\"-203.65\" rx=\"48.19\" ry=\"48.19\"/>\n<text text-anchor=\"middle\" x=\"1451.42\" y=\"-199.95\" font-family=\"Times,serif\" font-size=\"14.00\">(F0_S_01)</text>\n</g>\n<!-- \\(S2_S_0\\)&#45;&gt;\\(F0_S_01\\) -->\n<g id=\"edge11\" class=\"edge\">\n<title>\\(S2_S_0\\)&#45;&gt;\\(F0_S_01\\)</title>\n<path fill=\"none\" stroke=\"black\" d=\"M1347.25,-295.21C1360.15,-291.43 1373.91,-286.1 1385.33,-278.65 1396.72,-271.21 1407.27,-261.24 1416.42,-250.99\"/>\n<polygon fill=\"black\" stroke=\"black\" points=\"1419.29,-253.02 1423.13,-243.14 1413.97,-248.47 1419.29,-253.02\"/>\n<text text-anchor=\"middle\" x=\"1379.83\" y=\"-288.45\" font-family=\"Times,serif\" font-size=\"14.00\">1 </text>\n</g>\n<!-- \\(S4_S_0\\) -->\n<g id=\"node21\" class=\"node\">\n<title>\\(S4_S_0\\)</title>\n<ellipse fill=\"none\" stroke=\"black\" cx=\"1451.42\" cy=\"-365.65\" rx=\"44.39\" ry=\"44.39\"/>\n<text text-anchor=\"middle\" x=\"1451.42\" y=\"-361.95\" font-family=\"Times,serif\" font-size=\"14.00\">(S4_S_0)</text>\n</g>\n<!-- \\(S2_S_0\\)&#45;&gt;\\(S4_S_0\\) -->\n<g id=\"edge39\" class=\"edge\">\n<title>\\(S2_S_0\\)&#45;&gt;\\(S4_S_0\\)</title>\n<path fill=\"none\" stroke=\"black\" d=\"M1344.5,-320.59C1361.94,-328.01 1382.59,-336.79 1401,-344.62\"/>\n<polygon fill=\"black\" stroke=\"black\" points=\"1399.82,-347.92 1410.39,-348.62 1402.56,-341.48 1399.82,-347.92\"/>\n<text text-anchor=\"middle\" x=\"1379.83\" y=\"-340.45\" font-family=\"Times,serif\" font-size=\"14.00\">0 </text>\n</g>\n<!-- \\(F0_S_0\\) -->\n<g id=\"node13\" class=\"node\">\n<title>\\(F0_S_0\\)</title>\n<ellipse fill=\"none\" stroke=\"black\" cx=\"245.89\" cy=\"-225.65\" rx=\"44.39\" ry=\"44.39\"/>\n<text text-anchor=\"middle\" x=\"245.89\" y=\"-221.95\" font-family=\"Times,serif\" font-size=\"14.00\">(F0_S_0)</text>\n</g>\n<!-- \\(IF_I\\)&#45;&gt;\\(F0_S_0\\) -->\n<g id=\"edge30\" class=\"edge\">\n<title>\\(IF_I\\)&#45;&gt;\\(F0_S_0\\)</title>\n<path fill=\"none\" stroke=\"black\" d=\"M149.81,-290.05C164.48,-280.12 183.23,-267.42 200.19,-255.93\"/>\n<polygon fill=\"black\" stroke=\"black\" points=\"202.55,-258.56 208.87,-250.05 198.62,-252.76 202.55,-258.56\"/>\n<text text-anchor=\"middle\" x=\"178.19\" y=\"-278.45\" font-family=\"Times,serif\" font-size=\"14.00\">0 </text>\n</g>\n<!-- \\(S1_I\\) -->\n<g id=\"node19\" class=\"node\">\n<title>\\(S1_I\\)</title>\n<ellipse fill=\"none\" stroke=\"black\" cx=\"1170.89\" cy=\"-299.65\" rx=\"33.29\" ry=\"33.29\"/>\n<text text-anchor=\"middle\" x=\"1170.89\" y=\"-295.95\" font-family=\"Times,serif\" font-size=\"14.00\">(S1_I)</text>\n</g>\n<!-- \\(IF_I\\)&#45;&gt;\\(S1_I\\) -->\n<g id=\"edge12\" class=\"edge\">\n<title>\\(IF_I\\)&#45;&gt;\\(S1_I\\)</title>\n<path fill=\"none\" stroke=\"black\" d=\"M149.41,-325.83C173.02,-340.83 209.67,-359.65 244.89,-359.65 244.89,-359.65 244.89,-359.65 571.07,-359.65 634.01,-359.65 666.15,-381.84 710.96,-337.65 744.67,-304.4 692.77,-263.17 728.96,-232.65 813.39,-161.46 868.56,-214.23 977.45,-232.65 992.81,-235.24 1078.14,-265.99 1129.88,-284.91\"/>\n<polygon fill=\"black\" stroke=\"black\" points=\"1128.84,-288.26 1139.44,-288.42 1131.25,-281.69 1128.84,-288.26\"/>\n<text text-anchor=\"middle\" x=\"637.77\" y=\"-369.45\" font-family=\"Times,serif\" font-size=\"14.00\">1 </text>\n</g>\n<!-- \\(S2_S_01\\)&#45;&gt;\\(S4_F_010\\) -->\n<g id=\"edge40\" class=\"edge\">\n<title>\\(S2_S_01\\)&#45;&gt;\\(S4_F_010\\)</title>\n<path fill=\"none\" stroke=\"black\" d=\"M2084.96,-474.65C2100.51,-466.01 2118.43,-456.05 2134.98,-446.85\"/>\n<polygon fill=\"black\" stroke=\"black\" points=\"2136.98,-449.75 2144.02,-441.83 2133.57,-443.63 2136.98,-449.75\"/>\n<text text-anchor=\"middle\" x=\"2114.18\" y=\"-463.45\" font-family=\"Times,serif\" font-size=\"14.00\">0 </text>\n</g>\n<!-- \\(F0_I\\) -->\n<g id=\"node18\" class=\"node\">\n<title>\\(F0_I\\)</title>\n<ellipse fill=\"none\" stroke=\"black\" cx=\"1057.59\" cy=\"-436.65\" rx=\"33.29\" ry=\"33.29\"/>\n<text text-anchor=\"middle\" x=\"1057.59\" y=\"-432.95\" font-family=\"Times,serif\" font-size=\"14.00\">(F0_I)</text>\n</g>\n<!-- \\(S2_S_01\\)&#45;&gt;\\(F0_I\\) -->\n<g id=\"edge4\" class=\"edge\">\n<title>\\(S2_S_01\\)&#45;&gt;\\(F0_I\\)</title>\n<path fill=\"none\" stroke=\"black\" d=\"M1994.25,-497.65C1967.79,-497.65 1934.21,-497.65 1904.29,-497.65 1169.89,-497.65 1169.89,-497.65 1169.89,-497.65 1140.52,-497.65 1111.56,-481.11 1090.54,-465.25\"/>\n<polygon fill=\"black\" stroke=\"black\" points=\"1092.64,-462.44 1082.61,-459.01 1088.31,-467.95 1092.64,-462.44\"/>\n<text text-anchor=\"middle\" x=\"1523.02\" y=\"-501.45\" font-family=\"Times,serif\" font-size=\"14.00\">1 </text>\n</g>\n<!-- \\(F0_S_01\\)&#45;&gt;\\(S1_I\\) -->\n<g id=\"edge37\" class=\"edge\">\n<title>\\(F0_S_01\\)&#45;&gt;\\(S1_I\\)</title>\n<path fill=\"none\" stroke=\"black\" d=\"M1402.94,-204.43C1361.27,-206.68 1299.86,-213.87 1251.03,-235.65 1233.09,-243.65 1215.81,-256.77 1201.99,-269.06\"/>\n<polygon fill=\"black\" stroke=\"black\" points=\"1199.27,-266.8 1194.28,-276.15 1204.01,-271.96 1199.27,-266.8\"/>\n<text text-anchor=\"middle\" x=\"1303.68\" y=\"-239.45\" font-family=\"Times,serif\" font-size=\"14.00\">1 </text>\n</g>\n<!-- \\(F0_F_010\\) -->\n<g id=\"node22\" class=\"node\">\n<title>\\(F0_F_010\\)</title>\n<ellipse fill=\"none\" stroke=\"black\" cx=\"1603.16\" cy=\"-56.65\" rx=\"52.78\" ry=\"52.78\"/>\n<ellipse fill=\"none\" stroke=\"black\" cx=\"1603.16\" cy=\"-56.65\" rx=\"56.79\" ry=\"56.79\"/>\n<text text-anchor=\"middle\" x=\"1603.16\" y=\"-52.95\" font-family=\"Times,serif\" font-size=\"14.00\">(F0_F_010)</text>\n</g>\n<!-- \\(F0_S_01\\)&#45;&gt;\\(F0_F_010\\) -->\n<g id=\"edge24\" class=\"edge\">\n<title>\\(F0_S_01\\)&#45;&gt;\\(F0_F_010\\)</title>\n<path fill=\"none\" stroke=\"black\" d=\"M1486.4,-170.29C1506.63,-150.43 1532.62,-124.92 1554.84,-103.1\"/>\n<polygon fill=\"black\" stroke=\"black\" points=\"1557.53,-105.37 1562.21,-95.86 1552.63,-100.37 1557.53,-105.37\"/>\n<text text-anchor=\"middle\" x=\"1523.02\" y=\"-143.45\" font-family=\"Times,serif\" font-size=\"14.00\">0 </text>\n</g>\n<!-- \\(F0_S_0\\)&#45;&gt;\\(F0_S_0\\) -->\n<g id=\"edge2\" class=\"edge\">\n<title>\\(F0_S_0\\)&#45;&gt;\\(F0_S_0\\)</title>\n<path fill=\"none\" stroke=\"black\" d=\"M233.64,-268.38C234.4,-279.47 238.48,-287.84 245.89,-287.84 250.87,-287.84 254.35,-284.06 256.32,-278.22\"/>\n<polygon fill=\"black\" stroke=\"black\" points=\"259.76,-278.85 258.14,-268.38 252.88,-277.58 259.76,-278.85\"/>\n<text text-anchor=\"middle\" x=\"245.89\" y=\"-291.64\" font-family=\"Times,serif\" font-size=\"14.00\">0 </text>\n</g>\n<!-- \\(S1_S_01\\) -->\n<g id=\"node14\" class=\"node\">\n<title>\\(S1_S_01\\)</title>\n<ellipse fill=\"none\" stroke=\"black\" cx=\"385.18\" cy=\"-151.65\" rx=\"48.19\" ry=\"48.19\"/>\n<text text-anchor=\"middle\" x=\"385.18\" y=\"-147.95\" font-family=\"Times,serif\" font-size=\"14.00\">(S1_S_01)</text>\n</g>\n<!-- \\(F0_S_0\\)&#45;&gt;\\(S1_S_01\\) -->\n<g id=\"edge6\" class=\"edge\">\n<title>\\(F0_S_0\\)&#45;&gt;\\(S1_S_01\\)</title>\n<path fill=\"none\" stroke=\"black\" d=\"M285.13,-205.03C299.99,-197.02 317.23,-187.73 333.12,-179.17\"/>\n<polygon fill=\"black\" stroke=\"black\" points=\"335.15,-182.05 342.29,-174.22 331.83,-175.89 335.15,-182.05\"/>\n<text text-anchor=\"middle\" x=\"313.59\" y=\"-195.45\" font-family=\"Times,serif\" font-size=\"14.00\">1 </text>\n</g>\n<!-- \\(S1_S_01\\)&#45;&gt;\\(S3_I\\) -->\n<g id=\"edge21\" class=\"edge\">\n<title>\\(S1_S_01\\)&#45;&gt;\\(S3_I\\)</title>\n<path fill=\"none\" stroke=\"black\" d=\"M425.43,-178.7C441.92,-190.06 460.96,-203.18 477.02,-214.24\"/>\n<polygon fill=\"black\" stroke=\"black\" points=\"475.37,-217.36 485.59,-220.15 479.34,-211.6 475.37,-217.36\"/>\n<text text-anchor=\"middle\" x=\"456.78\" y=\"-207.45\" font-family=\"Times,serif\" font-size=\"14.00\">1 </text>\n</g>\n<!-- \\(S2_F_010\\) -->\n<g id=\"node16\" class=\"node\">\n<title>\\(S2_F_010\\)</title>\n<ellipse fill=\"none\" stroke=\"black\" cx=\"1303.68\" cy=\"-137.65\" rx=\"52.79\" ry=\"52.79\"/>\n<text text-anchor=\"middle\" x=\"1303.68\" y=\"-133.95\" font-family=\"Times,serif\" font-size=\"14.00\">(S2_F_010)</text>\n</g>\n<!-- \\(S1_S_01\\)&#45;&gt;\\(S2_F_010\\) -->\n<g id=\"edge43\" class=\"edge\">\n<title>\\(S1_S_01\\)&#45;&gt;\\(S2_F_010\\)</title>\n<path fill=\"none\" stroke=\"black\" d=\"M432.81,-143.99C456.57,-140.72 485.96,-137.65 512.43,-137.65 512.43,-137.65 512.43,-137.65 1171.89,-137.65 1194.33,-137.65 1218.94,-137.65 1240.7,-137.65\"/>\n<polygon fill=\"black\" stroke=\"black\" points=\"1240.81,-141.15 1250.81,-137.65 1240.81,-134.15 1240.81,-141.15\"/>\n<text text-anchor=\"middle\" x=\"848.66\" y=\"-141.45\" font-family=\"Times,serif\" font-size=\"14.00\">0 </text>\n</g>\n<!-- \\(S1_S_0\\)&#45;&gt;\\(S3_S_01\\) -->\n<g id=\"edge19\" class=\"edge\">\n<title>\\(S1_S_0\\)&#45;&gt;\\(S3_S_01\\)</title>\n<path fill=\"none\" stroke=\"black\" d=\"M665.3,-465.03C670.93,-457.42 676.74,-449.33 681.96,-441.65 704.68,-408.24 728.62,-369.52 746.67,-339.51\"/>\n<polygon fill=\"black\" stroke=\"black\" points=\"749.69,-341.27 751.83,-330.9 743.69,-337.67 749.69,-341.27\"/>\n<text text-anchor=\"middle\" x=\"705.46\" y=\"-417.45\" font-family=\"Times,serif\" font-size=\"14.00\">1 </text>\n</g>\n<!-- \\(S1_S_0\\)&#45;&gt;\\(S2_S_0\\) -->\n<g id=\"edge15\" class=\"edge\">\n<title>\\(S1_S_0\\)&#45;&gt;\\(S2_S_0\\)</title>\n<path fill=\"none\" stroke=\"black\" d=\"M682.05,-498.69C709.08,-498.18 744.59,-497.65 776.06,-497.65 776.06,-497.65 776.06,-497.65 1001.95,-497.65 1113.51,-497.65 1216.52,-402.21 1268.09,-345.21\"/>\n<polygon fill=\"black\" stroke=\"black\" points=\"1270.98,-347.23 1275.02,-337.44 1265.75,-342.57 1270.98,-347.23\"/>\n<text text-anchor=\"middle\" x=\"1000.95\" y=\"-501.45\" font-family=\"Times,serif\" font-size=\"14.00\">0 </text>\n</g>\n<!-- \\(S2_F_010\\)&#45;&gt;\\(F0_S_01\\) -->\n<g id=\"edge3\" class=\"edge\">\n<title>\\(S2_F_010\\)&#45;&gt;\\(F0_S_01\\)</title>\n<path fill=\"none\" stroke=\"black\" d=\"M1352,-159.07C1366.73,-165.74 1383.05,-173.14 1398.1,-179.95\"/>\n<polygon fill=\"black\" stroke=\"black\" points=\"1396.73,-183.17 1407.28,-184.11 1399.62,-176.8 1396.73,-183.17\"/>\n<text text-anchor=\"middle\" x=\"1379.83\" y=\"-176.45\" font-family=\"Times,serif\" font-size=\"14.00\">1 </text>\n</g>\n<!-- \\(S2_F_010\\)&#45;&gt;\\(S4_S_0\\) -->\n<g id=\"edge27\" class=\"edge\">\n<title>\\(S2_F_010\\)&#45;&gt;\\(S4_S_0\\)</title>\n<path fill=\"none\" stroke=\"black\" d=\"M1337.48,-178.49C1343.93,-186.99 1350.5,-196 1356.33,-204.65 1381.29,-241.71 1406.69,-285.6 1424.79,-318.19\"/>\n<polygon fill=\"black\" stroke=\"black\" points=\"1421.8,-320.01 1429.7,-327.07 1427.93,-316.63 1421.8,-320.01\"/>\n<text text-anchor=\"middle\" x=\"1379.83\" y=\"-252.45\" font-family=\"Times,serif\" font-size=\"14.00\">0 </text>\n</g>\n<!-- \\(S2_I\\)&#45;&gt;\\(F0_I\\) -->\n<g id=\"edge16\" class=\"edge\">\n<title>\\(S2_I\\)&#45;&gt;\\(F0_I\\)</title>\n<path fill=\"none\" stroke=\"black\" d=\"M956.8,-407.65C974.42,-412.77 996.71,-419.25 1015.75,-424.78\"/>\n<polygon fill=\"black\" stroke=\"black\" points=\"1014.79,-428.14 1025.37,-427.57 1016.74,-421.42 1014.79,-428.14\"/>\n<text text-anchor=\"middle\" x=\"1000.95\" y=\"-425.45\" font-family=\"Times,serif\" font-size=\"14.00\">1 </text>\n</g>\n<!-- \\(S2_I\\)&#45;&gt;\\(S4_S_0\\) -->\n<g id=\"edge41\" class=\"edge\">\n<title>\\(S2_I\\)&#45;&gt;\\(S4_S_0\\)</title>\n<path fill=\"none\" stroke=\"black\" d=\"M956.98,-390.02C983.31,-383.49 1022.13,-375.65 1056.59,-375.65 1056.59,-375.65 1056.59,-375.65 1304.68,-375.65 1335.38,-375.65 1369.63,-373.41 1397.21,-371.05\"/>\n<polygon fill=\"black\" stroke=\"black\" points=\"1397.78,-374.52 1407.43,-370.15 1397.16,-367.54 1397.78,-374.52\"/>\n<text text-anchor=\"middle\" x=\"1170.89\" y=\"-379.45\" font-family=\"Times,serif\" font-size=\"14.00\">0 </text>\n</g>\n<!-- \\(F0_I\\)&#45;&gt;\\(F0_S_0\\) -->\n<g id=\"edge34\" class=\"edge\">\n<title>\\(F0_I\\)&#45;&gt;\\(F0_S_0\\)</title>\n<path fill=\"none\" stroke=\"black\" d=\"M1024.51,-439.59C1018.51,-440.03 1012.29,-440.41 1006.45,-440.65 946.81,-443.02 931.76,-443.74 872.16,-440.65 803.53,-437.08 629.95,-429.81 564.57,-408.65 508.13,-390.37 365.43,-301.67 292.03,-254.8\"/>\n<polygon fill=\"black\" stroke=\"black\" points=\"293.74,-251.74 283.43,-249.3 289.97,-257.64 293.74,-251.74\"/>\n<text text-anchor=\"middle\" x=\"637.77\" y=\"-432.45\" font-family=\"Times,serif\" font-size=\"14.00\">0 </text>\n</g>\n<!-- \\(F0_I\\)&#45;&gt;\\(S1_I\\) -->\n<g id=\"edge8\" class=\"edge\">\n<title>\\(F0_I\\)&#45;&gt;\\(S1_I\\)</title>\n<path fill=\"none\" stroke=\"black\" d=\"M1079.27,-411.2C1097.23,-389.09 1123.36,-356.92 1142.95,-332.8\"/>\n<polygon fill=\"black\" stroke=\"black\" points=\"1145.74,-334.93 1149.33,-324.96 1140.3,-330.51 1145.74,-334.93\"/>\n<text text-anchor=\"middle\" x=\"1114.24\" y=\"-376.45\" font-family=\"Times,serif\" font-size=\"14.00\">1 </text>\n</g>\n<!-- \\(S1_I\\)&#45;&gt;\\(S3_I\\) -->\n<g id=\"edge42\" class=\"edge\">\n<title>\\(S1_I\\)&#45;&gt;\\(S3_I\\)</title>\n<path fill=\"none\" stroke=\"black\" d=\"M1142.98,-281.37C1104.33,-255.44 1034.64,-209.95 1006.45,-199.65 940.24,-175.44 920.15,-175.65 849.66,-175.65 636.77,-175.65 636.77,-175.65 636.77,-175.65 603.79,-175.65 570.8,-193.96 547.4,-210.85\"/>\n<polygon fill=\"black\" stroke=\"black\" points=\"545.14,-208.17 539.24,-216.96 549.34,-213.77 545.14,-208.17\"/>\n<text text-anchor=\"middle\" x=\"848.66\" y=\"-179.45\" font-family=\"Times,serif\" font-size=\"14.00\">1 </text>\n</g>\n<!-- \\(S1_I\\)&#45;&gt;\\(S2_S_0\\) -->\n<g id=\"edge14\" class=\"edge\">\n<title>\\(S1_I\\)&#45;&gt;\\(S2_S_0\\)</title>\n<path fill=\"none\" stroke=\"black\" d=\"M1204.22,-300.63C1217.74,-301.05 1233.82,-301.54 1249.03,-302\"/>\n<polygon fill=\"black\" stroke=\"black\" points=\"1249.27,-305.51 1259.37,-302.32 1249.48,-298.52 1249.27,-305.51\"/>\n<text text-anchor=\"middle\" x=\"1227.53\" y=\"-305.45\" font-family=\"Times,serif\" font-size=\"14.00\">0 </text>\n</g>\n<!-- \\(S1_F_010\\)&#45;&gt;\\(S3_S_01\\) -->\n<g id=\"edge35\" class=\"edge\">\n<title>\\(S1_F_010\\)&#45;&gt;\\(S3_S_01\\)</title>\n<path fill=\"none\" stroke=\"black\" d=\"M871.94,-292.87C860.2,-292.46 847.67,-292.03 835.71,-291.62\"/>\n<polygon fill=\"black\" stroke=\"black\" points=\"835.49,-288.11 825.38,-291.27 835.25,-295.11 835.49,-288.11\"/>\n<text text-anchor=\"middle\" x=\"848.66\" y=\"-296.45\" font-family=\"Times,serif\" font-size=\"14.00\">1 </text>\n</g>\n<!-- \\(S1_F_010\\)&#45;&gt;\\(S2_S_0\\) -->\n<g id=\"edge33\" class=\"edge\">\n<title>\\(S1_F_010\\)&#45;&gt;\\(S2_S_0\\)</title>\n<path fill=\"none\" stroke=\"black\" d=\"M974.75,-277.88C1030.67,-261.08 1124.7,-240.06 1204.03,-257.65 1221.77,-261.58 1240.1,-269.04 1256.07,-276.83\"/>\n<polygon fill=\"black\" stroke=\"black\" points=\"1254.67,-280.05 1265.18,-281.43 1257.83,-273.8 1254.67,-280.05\"/>\n<text text-anchor=\"middle\" x=\"1114.24\" y=\"-256.45\" font-family=\"Times,serif\" font-size=\"14.00\">0 </text>\n</g>\n<!-- \\(S4_S_0\\)&#45;&gt;\\(S4_S_01\\) -->\n<g id=\"edge29\" class=\"edge\">\n<title>\\(S4_S_0\\)&#45;&gt;\\(S4_S_01\\)</title>\n<path fill=\"none\" stroke=\"black\" d=\"M1495.73,-365.65C1510.97,-365.65 1528.33,-365.65 1544.56,-365.65\"/>\n<polygon fill=\"black\" stroke=\"black\" points=\"1545.02,-369.15 1555.02,-365.65 1545.02,-362.15 1545.02,-369.15\"/>\n<text text-anchor=\"middle\" x=\"1523.02\" y=\"-369.45\" font-family=\"Times,serif\" font-size=\"14.00\">1 </text>\n</g>\n<!-- \\(S4_S_0\\)&#45;&gt;\\(S3_S_0\\) -->\n<g id=\"edge26\" class=\"edge\">\n<title>\\(S4_S_0\\)&#45;&gt;\\(S3_S_0\\)</title>\n<path fill=\"none\" stroke=\"black\" d=\"M1487.25,-391.73C1504.26,-403.13 1525.54,-415.5 1546.52,-422.65 1658.51,-460.78 1694.19,-450.38 1812.1,-440.65 1824.33,-439.63 1837.41,-437.87 1849.7,-435.89\"/>\n<polygon fill=\"black\" stroke=\"black\" points=\"1850.52,-439.3 1859.8,-434.19 1849.36,-432.4 1850.52,-439.3\"/>\n<text text-anchor=\"middle\" x=\"1683.31\" y=\"-454.45\" font-family=\"Times,serif\" font-size=\"14.00\">0 </text>\n</g>\n<!-- \\(F0_F_010\\)&#45;&gt;\\(F0_S_0\\) -->\n<g id=\"edge25\" class=\"edge\">\n<title>\\(F0_F_010\\)&#45;&gt;\\(F0_S_0\\)</title>\n<path fill=\"none\" stroke=\"black\" d=\"M1550.88,-34.26C1522.43,-23.82 1486.09,-13.65 1452.42,-13.65 384.18,-13.65 384.18,-13.65 384.18,-13.65 308.64,-13.65 272.59,-109.66 257.1,-172.46\"/>\n<polygon fill=\"black\" stroke=\"black\" points=\"253.68,-171.7 254.78,-182.23 260.49,-173.31 253.68,-171.7\"/>\n<text text-anchor=\"middle\" x=\"924.8\" y=\"-17.45\" font-family=\"Times,serif\" font-size=\"14.00\">0 </text>\n</g>\n<!-- \\(F0_F_010\\)&#45;&gt;\\(S1_S_01\\) -->\n<g id=\"edge5\" class=\"edge\">\n<title>\\(F0_F_010\\)&#45;&gt;\\(S1_S_01\\)</title>\n<path fill=\"none\" stroke=\"black\" d=\"M1546.34,-56.65C1518.18,-56.65 1483.49,-56.65 1452.42,-56.65 512.43,-56.65 512.43,-56.65 512.43,-56.65 476.51,-56.65 444.3,-81.5 421.41,-105.79\"/>\n<polygon fill=\"black\" stroke=\"black\" points=\"418.74,-103.52 414.61,-113.28 423.92,-108.23 418.74,-103.52\"/>\n<text text-anchor=\"middle\" x=\"1000.95\" y=\"-60.45\" font-family=\"Times,serif\" font-size=\"14.00\">1 </text>\n</g>\n</g>\n</svg>\n",
            "text/plain": [
              "<graphviz.graphs.Digraph at 0x7d1858b56fb0>"
            ]
          },
          "metadata": {},
          "execution_count": 26
        }
      ]
    },
    {
      "cell_type": "markdown",
      "source": [
        "### 2(f). Wow, this is a large DFA; how many states does it have? Find this out"
      ],
      "metadata": {
        "id": "RdCICzynPdBZ"
      }
    },
    {
      "cell_type": "code",
      "source": [
        "print('DFA_Mod5_And_Ends010 has', len(DFA_Mod5_And_Ends010['Q']), 'states')"
      ],
      "metadata": {
        "id": "-EYUMJxnPkeR",
        "outputId": "6f843a04-12fa-4fed-c3ad-95caf4a01996",
        "colab": {
          "base_uri": "https://localhost:8080/"
        }
      },
      "execution_count": 27,
      "outputs": [
        {
          "output_type": "stream",
          "name": "stdout",
          "text": [
            "DFA_Mod5_And_Ends010 has 21 states\n"
          ]
        }
      ]
    },
    {
      "cell_type": "markdown",
      "source": [],
      "metadata": {
        "id": "hxgAUXMfix9m"
      }
    },
    {
      "cell_type": "markdown",
      "source": [
        "😃"
      ],
      "metadata": {
        "id": "ifeGyjupcpSF"
      }
    },
    {
      "cell_type": "markdown",
      "source": [
        "$21$ states"
      ],
      "metadata": {
        "id": "ua8IKUAgzweh"
      }
    },
    {
      "cell_type": "markdown",
      "source": [
        "### 2(g). Minimize this DFA"
      ],
      "metadata": {
        "id": "Vn4lPapKPrIZ"
      }
    },
    {
      "cell_type": "code",
      "source": [
        "help(min_dfa)"
      ],
      "metadata": {
        "id": "uOSrC29Un4R_",
        "outputId": "d7c5e35b-249a-43d2-bf22-74d1005b7d86",
        "colab": {
          "base_uri": "https://localhost:8080/"
        }
      },
      "execution_count": 28,
      "outputs": [
        {
          "output_type": "stream",
          "name": "stdout",
          "text": [
            "Help on function min_dfa in module jove.Def_DFA:\n",
            "\n",
            "min_dfa(D, state_name_mode='succinct', chatty=False)\n",
            "    The top-level callable DFA minimizer.\n",
            "    \n",
            "    In : D (consistent DFA to be minimized)\n",
            "    Out: Minimized version of D.\n",
            "    \n",
            "    Given a DFA D, go through the state minimization algorithm.\n",
            "    \n",
            "    Setting chatty=True helps reveal the detailed steps. Please try it!        \n",
            "    \n",
            "    If the state_name_mode is verbose, we will make state names\n",
            "    by stringing together the state names in the equivalence\n",
            "    classes. If 'succinct', then only the name of the equivalence-class\n",
            "    representative is retained.\n",
            "\n"
          ]
        }
      ]
    },
    {
      "cell_type": "markdown",
      "source": [
        "😃"
      ],
      "metadata": {
        "id": "AqBEsHSFctTk"
      }
    },
    {
      "cell_type": "code",
      "source": [
        "Min_DFA_Mod5_And_Ends010 =  min_dfa(DFA_Mod5_And_Ends010)\n",
        "dotObj_dfa(Min_DFA_Mod5_And_Ends010, FuseEdges=True)"
      ],
      "metadata": {
        "id": "b039sOkfn1dS",
        "outputId": "c696255e-a69d-4755-9102-77e6a92c0fe0",
        "colab": {
          "base_uri": "https://localhost:8080/",
          "height": 652
        }
      },
      "execution_count": 29,
      "outputs": [
        {
          "output_type": "execute_result",
          "data": {
            "image/svg+xml": "<?xml version=\"1.0\" encoding=\"UTF-8\" standalone=\"no\"?>\n<!DOCTYPE svg PUBLIC \"-//W3C//DTD SVG 1.1//EN\"\n \"http://www.w3.org/Graphics/SVG/1.1/DTD/svg11.dtd\">\n<!-- Generated by graphviz version 2.43.0 (0)\n -->\n<!-- Title: %3 Pages: 1 -->\n<svg width=\"893pt\" height=\"474pt\"\n viewBox=\"0.00 0.00 893.15 474.00\" xmlns=\"http://www.w3.org/2000/svg\" xmlns:xlink=\"http://www.w3.org/1999/xlink\">\n<g id=\"graph0\" class=\"graph\" transform=\"scale(1 1) rotate(0) translate(4 470)\">\n<title>%3</title>\n<polygon fill=\"white\" stroke=\"transparent\" points=\"-4,4 -4,-470 889.15,-470 889.15,4 -4,4\"/>\n<!-- EMPTY -->\n<g id=\"node1\" class=\"node\">\n<title>EMPTY</title>\n</g>\n<!-- \\(IF_I\\) -->\n<g id=\"node2\" class=\"node\">\n<title>\\(IF_I\\)</title>\n<ellipse fill=\"none\" stroke=\"black\" cx=\"122.85\" cy=\"-46\" rx=\"31.7\" ry=\"31.7\"/>\n<text text-anchor=\"middle\" x=\"122.85\" y=\"-42.3\" font-family=\"Times,serif\" font-size=\"14.00\">(IF_I)</text>\n</g>\n<!-- EMPTY&#45;&gt;\\(IF_I\\) -->\n<g id=\"edge1\" class=\"edge\">\n<title>EMPTY&#45;&gt;\\(IF_I\\)</title>\n<path fill=\"none\" stroke=\"black\" d=\"M54.14,-46C62.42,-46 71.77,-46 80.83,-46\"/>\n<polygon fill=\"black\" stroke=\"black\" points=\"80.86,-49.5 90.86,-46 80.86,-42.5 80.86,-49.5\"/>\n</g>\n<!-- \\(IF_I\\)&#45;&gt;\\(IF_I\\) -->\n<g id=\"edge2\" class=\"edge\">\n<title>\\(IF_I\\)&#45;&gt;\\(IF_I\\)</title>\n<path fill=\"none\" stroke=\"black\" d=\"M113.47,-76.67C113.38,-87.28 116.5,-95.85 122.85,-95.85 127.01,-95.85 129.79,-92.16 131.18,-86.62\"/>\n<polygon fill=\"black\" stroke=\"black\" points=\"134.66,-86.98 132.22,-76.67 127.7,-86.25 134.66,-86.98\"/>\n<text text-anchor=\"middle\" x=\"122.85\" y=\"-99.65\" font-family=\"Times,serif\" font-size=\"14.00\">0 </text>\n</g>\n<!-- \\(S1_F_010\\) -->\n<g id=\"node7\" class=\"node\">\n<title>\\(S1_F_010\\)</title>\n<ellipse fill=\"none\" stroke=\"black\" cx=\"254.34\" cy=\"-193\" rx=\"52.79\" ry=\"52.79\"/>\n<text text-anchor=\"middle\" x=\"254.34\" y=\"-189.3\" font-family=\"Times,serif\" font-size=\"14.00\">(S1_F_010)</text>\n</g>\n<!-- \\(IF_I\\)&#45;&gt;\\(S1_F_010\\) -->\n<g id=\"edge6\" class=\"edge\">\n<title>\\(IF_I\\)&#45;&gt;\\(S1_F_010\\)</title>\n<path fill=\"none\" stroke=\"black\" d=\"M144.65,-69.62C162.79,-90.21 189.65,-120.7 212.13,-146.21\"/>\n<polygon fill=\"black\" stroke=\"black\" points=\"209.71,-148.77 218.95,-153.96 214.96,-144.14 209.71,-148.77\"/>\n<text text-anchor=\"middle\" x=\"178.19\" y=\"-114.8\" font-family=\"Times,serif\" font-size=\"14.00\">1 </text>\n</g>\n<!-- \\(S4_F_010\\) -->\n<g id=\"node3\" class=\"node\">\n<title>\\(S4_F_010\\)</title>\n<ellipse fill=\"none\" stroke=\"black\" cx=\"558.92\" cy=\"-281\" rx=\"52.79\" ry=\"52.79\"/>\n<text text-anchor=\"middle\" x=\"558.92\" y=\"-277.3\" font-family=\"Times,serif\" font-size=\"14.00\">(S4_F_010)</text>\n</g>\n<!-- \\(S4_F_010\\)&#45;&gt;\\(S4_F_010\\) -->\n<g id=\"edge8\" class=\"edge\">\n<title>\\(S4_F_010\\)&#45;&gt;\\(S4_F_010\\)</title>\n<path fill=\"none\" stroke=\"black\" d=\"M545.02,-331.8C546.27,-343.26 550.91,-351.65 558.92,-351.65 564.31,-351.65 568.17,-347.86 570.5,-341.9\"/>\n<polygon fill=\"black\" stroke=\"black\" points=\"573.99,-342.33 572.82,-331.8 567.17,-340.76 573.99,-342.33\"/>\n<text text-anchor=\"middle\" x=\"558.92\" y=\"-355.45\" font-family=\"Times,serif\" font-size=\"14.00\">1 </text>\n</g>\n<!-- \\(S3_I\\) -->\n<g id=\"node8\" class=\"node\">\n<title>\\(S3_I\\)</title>\n<ellipse fill=\"none\" stroke=\"black\" cx=\"715.21\" cy=\"-375\" rx=\"33.29\" ry=\"33.29\"/>\n<text text-anchor=\"middle\" x=\"715.21\" y=\"-371.3\" font-family=\"Times,serif\" font-size=\"14.00\">(S3_I)</text>\n</g>\n<!-- \\(S4_F_010\\)&#45;&gt;\\(S3_I\\) -->\n<g id=\"edge7\" class=\"edge\">\n<title>\\(S4_F_010\\)&#45;&gt;\\(S3_I\\)</title>\n<path fill=\"none\" stroke=\"black\" d=\"M604.55,-308.19C627.7,-322.29 655.64,-339.32 677.52,-352.65\"/>\n<polygon fill=\"black\" stroke=\"black\" points=\"675.83,-355.72 686.19,-357.93 679.47,-349.74 675.83,-355.72\"/>\n<text text-anchor=\"middle\" x=\"635.07\" y=\"-331.8\" font-family=\"Times,serif\" font-size=\"14.00\">0 </text>\n</g>\n<!-- \\(F0_S_01\\) -->\n<g id=\"node4\" class=\"node\">\n<title>\\(F0_S_01\\)</title>\n<ellipse fill=\"none\" stroke=\"black\" cx=\"558.92\" cy=\"-162\" rx=\"48.19\" ry=\"48.19\"/>\n<text text-anchor=\"middle\" x=\"558.92\" y=\"-158.3\" font-family=\"Times,serif\" font-size=\"14.00\">(F0_S_01)</text>\n</g>\n<!-- \\(F0_S_01\\)&#45;&gt;\\(S1_F_010\\) -->\n<g id=\"edge16\" class=\"edge\">\n<title>\\(F0_S_01\\)&#45;&gt;\\(S1_F_010\\)</title>\n<path fill=\"none\" stroke=\"black\" d=\"M510.74,-161.74C469.27,-162.08 407.39,-163.92 353.99,-171 341.43,-172.66 328.11,-175.14 315.45,-177.84\"/>\n<polygon fill=\"black\" stroke=\"black\" points=\"314.48,-174.47 305.47,-180.04 315.99,-181.3 314.48,-174.47\"/>\n<text text-anchor=\"middle\" x=\"406.63\" y=\"-174.8\" font-family=\"Times,serif\" font-size=\"14.00\">1 </text>\n</g>\n<!-- \\(F0_F_010\\) -->\n<g id=\"node9\" class=\"node\">\n<title>\\(F0_F_010\\)</title>\n<ellipse fill=\"none\" stroke=\"black\" cx=\"715.21\" cy=\"-86\" rx=\"52.78\" ry=\"52.78\"/>\n<ellipse fill=\"none\" stroke=\"black\" cx=\"715.21\" cy=\"-86\" rx=\"56.79\" ry=\"56.79\"/>\n<text text-anchor=\"middle\" x=\"715.21\" y=\"-82.3\" font-family=\"Times,serif\" font-size=\"14.00\">(F0_F_010)</text>\n</g>\n<!-- \\(F0_S_01\\)&#45;&gt;\\(F0_F_010\\) -->\n<g id=\"edge13\" class=\"edge\">\n<title>\\(F0_S_01\\)&#45;&gt;\\(F0_F_010\\)</title>\n<path fill=\"none\" stroke=\"black\" d=\"M602.49,-141.03C618.74,-133.02 637.58,-123.75 655.1,-115.12\"/>\n<polygon fill=\"black\" stroke=\"black\" points=\"656.7,-118.23 664.13,-110.67 653.61,-111.95 656.7,-118.23\"/>\n<text text-anchor=\"middle\" x=\"635.07\" y=\"-130.8\" font-family=\"Times,serif\" font-size=\"14.00\">0 </text>\n</g>\n<!-- \\(S2_F_010\\) -->\n<g id=\"node5\" class=\"node\">\n<title>\\(S2_F_010\\)</title>\n<ellipse fill=\"none\" stroke=\"black\" cx=\"406.63\" cy=\"-248\" rx=\"52.79\" ry=\"52.79\"/>\n<text text-anchor=\"middle\" x=\"406.63\" y=\"-244.3\" font-family=\"Times,serif\" font-size=\"14.00\">(S2_F_010)</text>\n</g>\n<!-- \\(S2_F_010\\)&#45;&gt;\\(S4_F_010\\) -->\n<g id=\"edge15\" class=\"edge\">\n<title>\\(S2_F_010\\)&#45;&gt;\\(S4_F_010\\)</title>\n<path fill=\"none\" stroke=\"black\" d=\"M458.51,-259.17C470.94,-261.9 484.37,-264.85 497.21,-267.67\"/>\n<polygon fill=\"black\" stroke=\"black\" points=\"496.83,-271.17 507.35,-269.9 498.33,-264.33 496.83,-271.17\"/>\n<text text-anchor=\"middle\" x=\"482.78\" y=\"-269.8\" font-family=\"Times,serif\" font-size=\"14.00\">0 </text>\n</g>\n<!-- \\(S2_F_010\\)&#45;&gt;\\(F0_S_01\\) -->\n<g id=\"edge3\" class=\"edge\">\n<title>\\(S2_F_010\\)&#45;&gt;\\(F0_S_01\\)</title>\n<path fill=\"none\" stroke=\"black\" d=\"M452.72,-222.2C470.03,-212.3 489.87,-200.94 507.63,-190.78\"/>\n<polygon fill=\"black\" stroke=\"black\" points=\"509.76,-193.59 516.71,-185.58 506.29,-187.51 509.76,-193.59\"/>\n<text text-anchor=\"middle\" x=\"482.78\" y=\"-211.8\" font-family=\"Times,serif\" font-size=\"14.00\">1 </text>\n</g>\n<!-- \\(S2_I\\) -->\n<g id=\"node6\" class=\"node\">\n<title>\\(S2_I\\)</title>\n<ellipse fill=\"none\" stroke=\"black\" cx=\"852\" cy=\"-281\" rx=\"33.29\" ry=\"33.29\"/>\n<text text-anchor=\"middle\" x=\"852\" y=\"-277.3\" font-family=\"Times,serif\" font-size=\"14.00\">(S2_I)</text>\n</g>\n<!-- \\(S2_I\\)&#45;&gt;\\(IF_I\\) -->\n<g id=\"edge4\" class=\"edge\">\n<title>\\(S2_I\\)&#45;&gt;\\(IF_I\\)</title>\n<path fill=\"none\" stroke=\"black\" d=\"M850.07,-247.66C846.04,-173.23 824.97,0 716.21,0 253.34,0 253.34,0 253.34,0 220.34,0 185.19,-13.43 159.86,-25.78\"/>\n<polygon fill=\"black\" stroke=\"black\" points=\"158,-22.79 150.65,-30.43 161.15,-29.04 158,-22.79\"/>\n<text text-anchor=\"middle\" x=\"482.78\" y=\"-3.8\" font-family=\"Times,serif\" font-size=\"14.00\">1 </text>\n</g>\n<!-- \\(S2_I\\)&#45;&gt;\\(S4_F_010\\) -->\n<g id=\"edge17\" class=\"edge\">\n<title>\\(S2_I\\)&#45;&gt;\\(S4_F_010\\)</title>\n<path fill=\"none\" stroke=\"black\" d=\"M818.71,-281C771.32,-281 682.05,-281 621.78,-281\"/>\n<polygon fill=\"black\" stroke=\"black\" points=\"621.63,-277.5 611.63,-281 621.63,-284.5 621.63,-277.5\"/>\n<text text-anchor=\"middle\" x=\"715.21\" y=\"-284.8\" font-family=\"Times,serif\" font-size=\"14.00\">0 </text>\n</g>\n<!-- \\(S1_F_010\\)&#45;&gt;\\(S2_F_010\\) -->\n<g id=\"edge10\" class=\"edge\">\n<title>\\(S1_F_010\\)&#45;&gt;\\(S2_F_010\\)</title>\n<path fill=\"none\" stroke=\"black\" d=\"M304.13,-210.86C317.85,-215.88 332.91,-221.39 347.14,-226.59\"/>\n<polygon fill=\"black\" stroke=\"black\" points=\"346.23,-229.99 356.82,-230.14 348.64,-223.42 346.23,-229.99\"/>\n<text text-anchor=\"middle\" x=\"330.49\" y=\"-226.8\" font-family=\"Times,serif\" font-size=\"14.00\">0 </text>\n</g>\n<!-- \\(S1_F_010\\)&#45;&gt;\\(S3_I\\) -->\n<g id=\"edge11\" class=\"edge\">\n<title>\\(S1_F_010\\)&#45;&gt;\\(S3_I\\)</title>\n<path fill=\"none\" stroke=\"black\" d=\"M284.41,-236.56C302.23,-260.68 326.81,-289.78 353.99,-310 413.17,-354.03 434.04,-361.02 506.28,-376 562.77,-387.72 629.77,-384.41 672.14,-380.28\"/>\n<polygon fill=\"black\" stroke=\"black\" points=\"672.51,-383.76 682.1,-379.25 671.79,-376.8 672.51,-383.76\"/>\n<text text-anchor=\"middle\" x=\"482.78\" y=\"-375.8\" font-family=\"Times,serif\" font-size=\"14.00\">1 </text>\n</g>\n<!-- \\(S3_I\\)&#45;&gt;\\(S2_I\\) -->\n<g id=\"edge12\" class=\"edge\">\n<title>\\(S3_I\\)&#45;&gt;\\(S2_I\\)</title>\n<path fill=\"none\" stroke=\"black\" d=\"M742.84,-356.43C763.8,-341.82 793.17,-321.33 816.02,-305.4\"/>\n<polygon fill=\"black\" stroke=\"black\" points=\"818.23,-308.12 824.43,-299.53 814.22,-302.38 818.23,-308.12\"/>\n<text text-anchor=\"middle\" x=\"795.36\" y=\"-325.8\" font-family=\"Times,serif\" font-size=\"14.00\">1 </text>\n</g>\n<!-- \\(S3_I\\)&#45;&gt;\\(S1_F_010\\) -->\n<g id=\"edge9\" class=\"edge\">\n<title>\\(S3_I\\)&#45;&gt;\\(S1_F_010\\)</title>\n<path fill=\"none\" stroke=\"black\" d=\"M686.17,-391.32C672.83,-398.2 656.36,-405.42 640.57,-409 503.78,-440 437.82,-492.31 324.99,-409 277.69,-374.08 261.87,-306.48 256.9,-256.16\"/>\n<polygon fill=\"black\" stroke=\"black\" points=\"260.37,-255.68 256.02,-246.02 253.39,-256.29 260.37,-255.68\"/>\n<text text-anchor=\"middle\" x=\"482.78\" y=\"-454.8\" font-family=\"Times,serif\" font-size=\"14.00\">0 </text>\n</g>\n<!-- \\(F0_F_010\\)&#45;&gt;\\(IF_I\\) -->\n<g id=\"edge14\" class=\"edge\">\n<title>\\(F0_F_010\\)&#45;&gt;\\(IF_I\\)</title>\n<path fill=\"none\" stroke=\"black\" d=\"M662.23,-65.53C632.71,-55.69 594.79,-46 559.92,-46 253.34,-46 253.34,-46 253.34,-46 223.7,-46 190.25,-46 164.77,-46\"/>\n<polygon fill=\"black\" stroke=\"black\" points=\"164.72,-42.5 154.72,-46 164.72,-49.5 164.72,-42.5\"/>\n<text text-anchor=\"middle\" x=\"406.63\" y=\"-49.8\" font-family=\"Times,serif\" font-size=\"14.00\">0 </text>\n</g>\n<!-- \\(F0_F_010\\)&#45;&gt;\\(S1_F_010\\) -->\n<g id=\"edge5\" class=\"edge\">\n<title>\\(F0_F_010\\)&#45;&gt;\\(S1_F_010\\)</title>\n<path fill=\"none\" stroke=\"black\" d=\"M658.49,-87.38C616.29,-89.31 557.11,-93.94 506.28,-105 437.83,-119.89 362.38,-148.04 312.26,-168.5\"/>\n<polygon fill=\"black\" stroke=\"black\" points=\"310.81,-165.31 302.89,-172.36 313.47,-171.79 310.81,-165.31\"/>\n<text text-anchor=\"middle\" x=\"482.78\" y=\"-115.8\" font-family=\"Times,serif\" font-size=\"14.00\">1 </text>\n</g>\n</g>\n</svg>\n",
            "text/plain": [
              "<graphviz.graphs.Digraph at 0x7d1858b57040>"
            ]
          },
          "metadata": {},
          "execution_count": 29
        }
      ]
    },
    {
      "cell_type": "markdown",
      "source": [],
      "metadata": {
        "id": "9RLqsGvIV09N"
      }
    },
    {
      "cell_type": "markdown",
      "source": [
        "### 2(h). How many states does the minimized machine have?"
      ],
      "metadata": {
        "id": "m3PsiVcfS4e6"
      }
    },
    {
      "cell_type": "markdown",
      "source": [
        "😃"
      ],
      "metadata": {
        "id": "2BAko-Adc2SN"
      }
    },
    {
      "cell_type": "code",
      "source": [
        "print('The minimized machine has', len(Min_DFA_Mod5_And_Ends010['Q']), 'states')"
      ],
      "metadata": {
        "id": "w1UgnsdES9KZ",
        "outputId": "bcfdd1eb-897e-44d6-d133-baf2faf7b28b",
        "colab": {
          "base_uri": "https://localhost:8080/"
        }
      },
      "execution_count": 30,
      "outputs": [
        {
          "output_type": "stream",
          "name": "stdout",
          "text": [
            "The minimized machine has 8 states\n"
          ]
        }
      ]
    },
    {
      "cell_type": "markdown",
      "source": [
        "### 2(i). Which states got eliminated?"
      ],
      "metadata": {
        "id": "h69RZxOATGYv"
      }
    },
    {
      "cell_type": "markdown",
      "source": [
        "😃"
      ],
      "metadata": {
        "id": "6_3zzfqqc5XE"
      }
    },
    {
      "cell_type": "code",
      "execution_count": 31,
      "metadata": {
        "id": "-wPCk85IkBkS",
        "outputId": "0eec8023-c0d0-4c11-bf71-b1c01f523046",
        "colab": {
          "base_uri": "https://localhost:8080/"
        }
      },
      "outputs": [
        {
          "output_type": "execute_result",
          "data": {
            "text/plain": [
              "[('S4', 'S_01'),\n",
              " ('S3', 'S_01'),\n",
              " ('S3', 'S_0'),\n",
              " ('S4', 'I'),\n",
              " ('S3', 'F_010'),\n",
              " ('S2', 'S_0'),\n",
              " ('S2', 'S_01'),\n",
              " ('F0', 'S_0'),\n",
              " ('S1', 'S_01'),\n",
              " ('S1', 'S_0'),\n",
              " ('F0', 'I'),\n",
              " ('S1', 'I'),\n",
              " ('S4', 'S_0')]"
            ]
          },
          "metadata": {},
          "execution_count": 31
        }
      ],
      "source": [
        "[ q for q in DFA_Mod5_And_Ends010['Q'] if q not in Min_DFA_Mod5_And_Ends010['Q'] ]"
      ]
    },
    {
      "cell_type": "markdown",
      "metadata": {
        "id": "f2-TQO36qw8M"
      },
      "source": [
        "# END"
      ]
    },
    {
      "cell_type": "code",
      "source": [
        "# Thank you for the opportunity to redo this assignment."
      ],
      "metadata": {
        "id": "tlM1F61Qc6ne"
      },
      "execution_count": null,
      "outputs": []
    }
  ],
  "metadata": {
    "colab": {
      "provenance": [],
      "include_colab_link": true
    },
    "kernelspec": {
      "display_name": "Python 3",
      "language": "python",
      "name": "python3"
    },
    "language_info": {
      "codemirror_mode": {
        "name": "ipython",
        "version": 3
      },
      "file_extension": ".py",
      "mimetype": "text/x-python",
      "name": "python",
      "nbconvert_exporter": "python",
      "pygments_lexer": "ipython3",
      "version": "3.8.5"
    }
  },
  "nbformat": 4,
  "nbformat_minor": 0
}