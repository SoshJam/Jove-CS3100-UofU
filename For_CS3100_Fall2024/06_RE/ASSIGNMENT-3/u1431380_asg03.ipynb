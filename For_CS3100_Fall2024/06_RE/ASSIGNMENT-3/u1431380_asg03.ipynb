{
  "cells": [
    {
      "cell_type": "markdown",
      "metadata": {
        "id": "view-in-github",
        "colab_type": "text"
      },
      "source": [
        "<a href=\"https://colab.research.google.com/github/ganeshutah/Jove/blob/master/For_CS3100_Fall2024/06_RE/ASSIGNMENT-3/uABCDEFG_asg03.ipynb\" target=\"_parent\"><img src=\"https://colab.research.google.com/assets/colab-badge.svg\" alt=\"Open In Colab\"/></a>"
      ]
    },
    {
      "cell_type": "code",
      "execution_count": null,
      "metadata": {
        "id": "2mGV-Aw3qw8I"
      },
      "outputs": [],
      "source": [
        "#~~~~~~~~~~~~~~~~~~~~~~~~~~~~~~~~~~~~~~~~~~~~~~~~~~~~~~~\n",
        "# If you want to clear outputs for a \"fresh look\", go to Edit and hit \"clear outputs\"\n",
        "#~~~~~~~~~~~~~~~~~~~~~~~~~~~~~~~~~~~~~~~~~~~~~~~~~~~~~~~\n",
        "import sys\n",
        "\n",
        "# -- Detect if in Own Install or in Colab\n",
        "try:\n",
        "    import google.colab\n",
        "    OWN_INSTALL = False\n",
        "except:\n",
        "    OWN_INSTALL = True\n",
        "\n",
        "if OWN_INSTALL:\n",
        "\n",
        "  #---- Leave these definitions ON if running on laptop\n",
        "  #---- Else turn OFF by putting them between ''' ... '''\n",
        "\n",
        "  sys.path[0:0] = ['../../../../..',  '../../../../../3rdparty',\n",
        "                   '../../../..',  '../../../../3rdparty',\n",
        "                   '../../..',     '../../../3rdparty',\n",
        "                   '../..',        '../../3rdparty',\n",
        "                   '..',           '../3rdparty' ]\n",
        "\n",
        "else: # In colab\n",
        "  ! if [ ! -d Jove ]; then git clone https://github.com/ganeshutah/Jove Jove; fi\n",
        "  sys.path.append('./Jove')\n",
        "  sys.path.append('./Jove/jove')\n",
        "\n",
        "# -- common imports --\n",
        "\n",
        "from jove.LangDef   import *  #-- mainly for nthnumeric\n",
        "from jove.Def_md2mc import *  #-- for md2mc\n",
        "from jove.Def_DFA   import *  #-- for all DFA functions\n",
        "from jove.DotBashers import * #-- for dotObj_dfa\n",
        "\n",
        "from jove.Def_NFA import *\n",
        "from jove.Def_RE2NFA import *\n",
        "from jove.Def_NFA2RE import * #-- to check Even010 via RE and NFA\n",
        "#~~~~~~~~~~~~~~~~~~~~~~~~~~~~~~~~~~~~~~~~~~~~~~~~~~~~~~~"
      ]
    },
    {
      "cell_type": "markdown",
      "source": [
        "---------------------\n",
        "---------------------"
      ],
      "metadata": {
        "id": "cwsTgwWmmq5g"
      }
    },
    {
      "cell_type": "markdown",
      "source": [
        "#### This assignment has a simple-to-state goal:\n",
        "* Design a minimal DFA for the language\n",
        " $ Pattern_{010} =   ( \\;\\; \\overline {\\{0,1\\}^* \\; \\{010\\}\\; \\{0,1\\}^* }\\;\\; (010) \\;\\; \\overline {\\{0,1\\}^* \\{010\\}\\{0,1\\}^*} \\;\\; (010)\\;\\; )^*  $"
      ],
      "metadata": {
        "id": "Z6_xpgRImKSf"
      }
    },
    {
      "cell_type": "markdown",
      "source": [
        "---------------------\n",
        "---------------------"
      ],
      "metadata": {
        "id": "y8s1_ls4mm73"
      }
    },
    {
      "cell_type": "markdown",
      "source": [
        "#### $Pattern_{010}$ is the language of repeating blocks of 010, where each such block is preceded by any string from a language where 010 does not occur.\n",
        "\n",
        "* Observe that there is no regular expression (RE) that directly captures $Pattern_{010}$.\n",
        "* Your goal is to obtain that RE (which, for us, allows only union, concatenation and star) using the functions you'll be learning across the chapters\n",
        "* Specifically, you'll be using these functions (and only these). You may **not design** any NFA or DFA from scratch using md2mc:\n",
        "\n",
        "  - re2nfa\n",
        "  - nfa2dfa\n",
        "  - dfa2nfa\n",
        "  - min_dfa or min_dfa_brz\n",
        "  - mk_gnfa\n",
        "  - del_gnfa_states which is to convert NFA to RE\n",
        "  - comp_dfa\n",
        "\n",
        "* Approach:\n",
        "  - Obtain RE for the constituents of $Pattern_{010}$. Use only the above operations.\n",
        "  - Name each constituent clearly - such as RE_first_block, RE_first_block_complement, etc.\n",
        "     - RE_first_block = ...\n",
        "     - RE_another_purpose = ...\n",
        "  - Once all the REs are in place, use Python's String concatenation to form an RE for the whole $Pattern_{010}$.\n",
        "    - Example: Pattern_010_RE = \"(\" + RE_First_Block + ... + \")\"\n",
        "\n",
        "* Then work on Pattern_010_RE to get the final answer DFA, the minimal DFA for it, _calling it_ **Pattern_010_Min_DFA**\n",
        "\n",
        "* Document each step using a preceding text-box with a few lines of code\n",
        "\n",
        "* I am leaving some space for you to simulate  **Pattern_010_Min_DFA**   on some \"must accept\" strings and \"must reject\" strings.\n",
        "\n",
        "* You are to come up with a few additional test-strings also (at least two per class).\n",
        "\n",
        "* **Much like in programming, debug each part thoroughly** but in a way specific to Jove. Here is a specific suggestion:\n",
        "  - Suppose you think of only the first part of the repetition\n",
        "  - i.e. Half_Pat =  $( \\;\\; \\overline { \\{0,1\\}^* \\; \\{010\\}\\; \\{0,1\\}^* } \\;\\;\\; (010) \\;\\; )^*  $,\n",
        "  - then does the intersection of the DFA for Half_Pat and Pattern_010_RE make sense?  Does it help you check your work? Please do this and note down your observations.\n",
        "  \n",
        "#### There will be about 8-12 step depending on your approach. Some steps will take more work (such as del_gnfa_states). Those will have higher point-values. The exact number of steps will not be a criterion for grading, but rather how you document your steps.\n",
        "\n",
        "#### **In your coding, you'll be using del_gnfa_states**. In that function, an array called DO[..] is used. Please list the contents of the array one-by-one. E.g. evaluate DO[0], then DO[1], etc, all the way to DO[size-1-of-DO] where size-1-of-DO is the DO size minus one.  The size-1-of-DO will be either the number of states of the starting NFA or maybe +/- 1 (please find out).\n",
        "\n",
        "#### I'm asking you to evaluate DO[0], DO[1] etc in separate cells mainly to document the steps of the NFA to RE conversion that we will be studying in class. I.e. the final RE you need for your work does not need these intermediate arrays.\n",
        "\n",
        "####  If there are repeating parts of a language (e.g. the complemented part) you should compute its RE only once and use it again.\n",
        "\n",
        "#### **The final minimal DFA Pattern_010_Min_DFA will have exactly 28 states.** If you get this result, you should feel very good -- this is because minimal DFA are unique. Still you must document all intermediate steps to earn your points.\n",
        "\n",
        "-------\n",
        "\n",
        "##*What to submit*\n",
        "\n",
        "### Please read Piazza note @121 that clarifies what to submit.\n",
        "\n",
        "### Specifically:\n",
        "\n",
        "#### * Download the ipynb\n",
        "#### * Run all the tests and then File->Print to obtain a PDF\n",
        "#### * Submit both the .ipynb and .pdf files\n"
      ],
      "metadata": {
        "id": "96Z0du2xm1Vz"
      }
    },
    {
      "cell_type": "markdown",
      "source": [
        "---------------------\n",
        "---------------------"
      ],
      "metadata": {
        "id": "UjN7ni5AmxQT"
      }
    },
    {
      "cell_type": "code",
      "source": [
        "#  Goal: RE_First_Block\n",
        "\n",
        "RE_under_comp ="
      ],
      "metadata": {
        "id": "lI7KWqFryzPG"
      },
      "execution_count": null,
      "outputs": []
    },
    {
      "cell_type": "code",
      "source": [
        "DFA_First_Block ="
      ],
      "metadata": {
        "id": "AQtXn8uL1Ghe"
      },
      "execution_count": null,
      "outputs": []
    },
    {
      "cell_type": "code",
      "source": [
        "# ... Fill the remaining cells ..."
      ],
      "metadata": {
        "id": "8Nq5vue_w3zi"
      },
      "execution_count": null,
      "outputs": []
    },
    {
      "cell_type": "markdown",
      "source": [
        "### There will be many steps. Document each clearly, numbering them sequentually in Markdown\n",
        "\n",
        "\n",
        "#### *HINT* : The only machine for which we defined complementation is a DFA. That is a key step in places where the language expression in question is under a complementation."
      ],
      "metadata": {
        "id": "4c-v5iDP3Jk1"
      }
    },
    {
      "cell_type": "markdown",
      "source": [
        "### FOR EACH TEST, create this cell below and fill with the test (accepting or rejecting). Document the test.\n",
        "\n",
        "#### Run the test and show where the machine stop - accepting (green) or rejecting (red).\n"
      ],
      "metadata": {
        "id": "Lehnfdsv21I-"
      }
    },
    {
      "cell_type": "markdown",
      "source": [
        "------------------\n",
        "------------------"
      ],
      "metadata": {
        "id": "tl0akmwUys15"
      }
    },
    {
      "cell_type": "markdown",
      "source": [
        "\n",
        "\n",
        "#### Your tests must include these MustPass strings (I'm putting blanks for readability - remove the embedded blanks before running the tests)\n",
        "\n",
        "* 010   010       \n",
        "       \n",
        "* 01     010   101   010  \n",
        "\n",
        "* 1      010   101   010  \n",
        "\n",
        "* 110    010   001   010\n",
        "\n",
        "* 010 1010\n",
        "\n",
        "*  0101 010 1010 010\n",
        "\n",
        "\n",
        "#### Extra testing is OK, mark them as such and put them after the \"must pass\" list.\n",
        "\n",
        "### *Each test must be put into window that AnimateDFA opens when you run it*\n",
        "\n",
        "#### Create one copy of the AnimateDFA cells (including the from jove.AnimateDFA import * and display(HTML...) in each cell. Then in that cell, when run, input the test. Run the  test. Submit a \"finished\" ipynb that captures all the run results.\n",
        "\n",
        "\n",
        "\n",
        "\n"
      ],
      "metadata": {
        "id": "ksEKb0Q1mTVZ"
      }
    },
    {
      "cell_type": "code",
      "source": [
        "from jove.AnimateDFA import *\n",
        "AnimateDFA(Pattern_010_Min_DFA, FuseEdges=True)\n",
        "display(HTML('<link rel=\"stylesheet\" href=\"//stackpath.bootstrapcdn.com/font-awesome/4.7.0/css/font-awesome.min.css\"/>'))"
      ],
      "metadata": {
        "id": "UXkVAJq7ANzM"
      },
      "execution_count": null,
      "outputs": []
    },
    {
      "cell_type": "markdown",
      "source": [
        "\n",
        "## Your tests must also include these MustFail  (add one more to make three). Blanks added for readability only! A few more than three is OK. Mark it as \"extra ones from your side\".\n",
        "\n",
        "\n",
        "### 010    010   010  010 010\n",
        "\n",
        "### 010010 010   010010  010 1\n",
        "\n",
        "## 1\n",
        "\n"
      ],
      "metadata": {
        "id": "4MtclXyGnsnm"
      }
    },
    {
      "cell_type": "markdown",
      "metadata": {
        "id": "f2-TQO36qw8M"
      },
      "source": [
        "# END"
      ]
    }
  ],
  "metadata": {
    "colab": {
      "provenance": [],
      "include_colab_link": true
    },
    "kernelspec": {
      "display_name": "Python 3",
      "language": "python",
      "name": "python3"
    },
    "language_info": {
      "codemirror_mode": {
        "name": "ipython",
        "version": 3
      },
      "file_extension": ".py",
      "mimetype": "text/x-python",
      "name": "python",
      "nbconvert_exporter": "python",
      "pygments_lexer": "ipython3",
      "version": "3.8.5"
    }
  },
  "nbformat": 4,
  "nbformat_minor": 0
}
