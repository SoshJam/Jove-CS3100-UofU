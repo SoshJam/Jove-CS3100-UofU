{
  "cells": [
    {
      "cell_type": "code",
      "execution_count": 1,
      "metadata": {
        "run_control": {
          "frozen": false,
          "read_only": false
        },
        "id": "aMA-3_rEeLfo",
        "outputId": "0a487a74-1b83-4db6-ce25-032d9661f1ed",
        "colab": {
          "base_uri": "https://localhost:8080/"
        }
      },
      "outputs": [
        {
          "output_type": "stream",
          "name": "stdout",
          "text": [
            "Cloning into 'Jove'...\n",
            "remote: Enumerating objects: 6733, done.\u001b[K\n",
            "remote: Counting objects: 100% (2099/2099), done.\u001b[K\n",
            "remote: Compressing objects: 100% (845/845), done.\u001b[K\n",
            "remote: Total 6733 (delta 1279), reused 1956 (delta 1173), pack-reused 4634 (from 1)\u001b[K\n",
            "Receiving objects: 100% (6733/6733), 10.65 MiB | 7.88 MiB/s, done.\n",
            "Resolving deltas: 100% (4284/4284), done.\n",
            "You may use any of these help commands:\n",
            "help(ResetStNum)\n",
            "help(NxtStateStr)\n",
            "\n",
            "You may use any of these help commands:\n",
            "help(mkp_dfa)\n",
            "help(mk_dfa)\n",
            "help(totalize_dfa)\n",
            "help(addtosigma_delta)\n",
            "help(step_dfa)\n",
            "help(run_dfa)\n",
            "help(accepts_dfa)\n",
            "help(comp_dfa)\n",
            "help(flTup)\n",
            "help(union_dfa)\n",
            "help(intersect_dfa)\n",
            "help(pruneUnreach)\n",
            "help(iso_dfa)\n",
            "help(langeq_dfa)\n",
            "help(same_status)\n",
            "help(h_langeq_dfa)\n",
            "help(fixptDist)\n",
            "help(min_dfa)\n",
            "help(pairFR)\n",
            "help(state_combos)\n",
            "help(sepFinNonFin)\n",
            "help(bash_eql_classes)\n",
            "help(listminus)\n",
            "help(bash_1)\n",
            "help(mk_rep_eqc)\n",
            "help(F_of)\n",
            "help(rep_of_s)\n",
            "help(q0_of)\n",
            "help(Delta_of)\n",
            "help(mk_state_eqc_name)\n",
            "\n",
            "You may use any of these help commands:\n",
            "help(mk_nfa)\n",
            "help(totalize_nfa)\n",
            "help(step_nfa)\n",
            "help(run_nfa)\n",
            "help(ec_step_nfa)\n",
            "help(Eclosure)\n",
            "help(Echelp)\n",
            "help(accepts_nfa)\n",
            "help(nfa2dfa)\n",
            "help(n2d)\n",
            "help(inSets)\n",
            "help(rev_dfa)\n",
            "help(min_dfa_brz)\n",
            "\n",
            "You may use any of these help commands:\n",
            "help(re2nfa)\n",
            "\n",
            "You may use any of these help commands:\n",
            "help(RE2Str)\n",
            "help(mk_gnfa)\n",
            "help(mk_gnfa_from_D)\n",
            "help(dfa2nfa)\n",
            "help(del_gnfa_states)\n",
            "help(gnfa_w_REStr)\n",
            "help(del_one_gnfa_state)\n",
            "help(Edges_Exist_Via)\n",
            "help(choose_state_to_del)\n",
            "help(form_alt_RE)\n",
            "help(form_concat_RE)\n",
            "help(form_kleene_RE)\n",
            "\n",
            "You may use any of these help commands:\n",
            "help(md2mc)\n",
            ".. and if you want to dig more, then ..\n",
            "help(default_line_attr)\n",
            "help(length_ok_input_items)\n",
            "help(union_line_attr_list_fld)\n",
            "help(extend_rsltdict)\n",
            "help(form_delta)\n",
            "help(get_machine_components)\n",
            "\n",
            " \"help(JoveEditor)\" gives you info on the generic animation panel that animates all machines. \n"
          ]
        }
      ],
      "source": [
        "#~~~~~~~~~~~~~~~~~~~~~~~~~~~~~~~~~~~~~~~~~~~~~~~~~~~~~~~\n",
        "import sys\n",
        "\n",
        "# -- Detect if in Own Install or in Colab\n",
        "try:\n",
        "    import google.colab\n",
        "    OWN_INSTALL = False\n",
        "except:\n",
        "    OWN_INSTALL = True\n",
        "\n",
        "if OWN_INSTALL:\n",
        "\n",
        "  #---- Leave these definitions ON if running on laptop\n",
        "  #---- Else turn OFF by putting them between ''' ... '''\n",
        "\n",
        "  sys.path[0:0] = ['../../../../..',  '../../../../../3rdparty',\n",
        "                   '../../../..',  '../../../../3rdparty',\n",
        "                   '../../..',     '../../../3rdparty',\n",
        "                   '../..',        '../../3rdparty',\n",
        "                   '..',           '../3rdparty' ]\n",
        "\n",
        "else: # In colab\n",
        "  ! if [ ! -d Jove ]; then git clone https://github.com/ganeshutah/Jove Jove; fi\n",
        "  sys.path.append('./Jove')\n",
        "  sys.path.append('./Jove/jove')\n",
        "\n",
        "# -- common imports --\n",
        "from jove.DotBashers import *\n",
        "from jove.Def_DFA import *\n",
        "from jove.Def_NFA import *\n",
        "from jove.Def_RE2NFA import *\n",
        "from jove.Def_NFA2RE import *\n",
        "from jove.Def_md2mc import *\n",
        "from jove.JoveEditor import *\n",
        "#~~~~~~~~~~~~~~~~~~~~~~~~~~~~~~~~~~~~~~~~~~~~~~~~~~~~~~~"
      ]
    },
    {
      "cell_type": "markdown",
      "source": [
        "# In all these questions, good succinct documentation is expected.  \n",
        "## This means the following:\n",
        "###  * For PDA, document the states that match from the stack and other crucial states\n",
        "###  * For CFG, document, after each production rule, the language that the rule is supposed to generate\n",
        "### * The number of states of the directly designed PDA should not be excessive - we are not looking for a certain minimal count\n",
        "### * The number of CFG rules should also be not excessive, but we are not looking for a certain minimal count\n"
      ],
      "metadata": {
        "id": "2hIxiUMSrmyL"
      }
    },
    {
      "cell_type": "markdown",
      "source": [
        "# --------------------"
      ],
      "metadata": {
        "id": "4f7irdo1sX-Z"
      }
    },
    {
      "cell_type": "markdown",
      "metadata": {
        "id": "CdzXkI6KeLft"
      },
      "source": [
        "# Question 1 : 35\\% :  Points for designing the PDA and running the tests.\n",
        "\n",
        "## Given the language\n",
        "### Labcd = { a^i b^j c^k d^l : i=k OR j=l, \\; and i,j,k,l > 0 }\n",
        "\n",
        "## Obtain a PDA directly (i.e., don't design a CFG and then turn it into a PDA). Enter the PDA below in the space after \"Labcd = md2mc...\".\n",
        "\n",
        "###  *THE TESTS OF THIS PDA WILL BE UNDER QUESTION 3. These tests will be entered and run on the lines that say explore_pda(string, Labcd).*"
      ]
    },
    {
      "cell_type": "code",
      "execution_count": 7,
      "metadata": {
        "id": "I5OpPirZeLfu"
      },
      "outputs": [],
      "source": [
        "Labcd = md2mc('''\n",
        "\n",
        "PDA\n",
        "!! We will have two branches, one for i=k (S1) and one for j=l (S2)\n",
        "\n",
        "!! First branch straight to reading a's\n",
        "I : '' , '' ; '' -> S1_A\n",
        "I : '' , '' ; '' -> S2_A\n",
        "\n",
        "!! First branch: i = k, i.e. #a = #c\n",
        "S1_A : a , '' ; a -> S1_A   !! add more A's to the stack\n",
        "S1_A : '' , a ; a -> S1_B    !! if we've read at least one a we can go to b\n",
        "!! cannot skip b so we don't need any more transitions\n",
        "\n",
        "S1_B : b , '' ; '' -> S1_B  !! read as many b's as we want\n",
        "S1_B : b , '' ; '' -> S1_C  !! prepare to read c's but make sure we've read at least one b\n",
        "\n",
        "S1_C : c , a ; '' -> S1_C   !! Remove a's from the stack as we read c's\n",
        "S1_C : '' , # ; #  -> S1_D  !! When the stack runs out start reading d's.\n",
        "\n",
        "S1_D : d , '' ; '' -> S1_D  !! read as many d's as we want\n",
        "S1_D : d , '' ; '' -> F     !! finish if we've read at least one D\n",
        "\n",
        "!! Second branch: j = l, i.e. #b = #d. Very similar.\n",
        "S2_A : a , '' ; '' -> S2_A\n",
        "S2_A : a , '' ; '' -> S2_B\n",
        "\n",
        "S2_B : b , '' ; b  -> S2_B\n",
        "S2_B : '' , b ; b  -> S2_C\n",
        "\n",
        "S2_C : c , '' ; '' -> S2_C\n",
        "S2_C : c , '' ; '' -> S2_D\n",
        "\n",
        "S2_D : d , b ; ''  -> S2_D\n",
        "S2_D : '', # ; #  -> F\n",
        "\n",
        "''')\n"
      ]
    },
    {
      "cell_type": "code",
      "source": [
        "dotObj_pda(Labcd, FuseEdges=True)"
      ],
      "metadata": {
        "id": "AhGdl1R7Pe6h",
        "outputId": "8a10f72e-bdd9-4402-e452-054358c32e67",
        "colab": {
          "base_uri": "https://localhost:8080/",
          "height": 306
        }
      },
      "execution_count": 8,
      "outputs": [
        {
          "output_type": "execute_result",
          "data": {
            "image/svg+xml": "<?xml version=\"1.0\" encoding=\"UTF-8\" standalone=\"no\"?>\n<!DOCTYPE svg PUBLIC \"-//W3C//DTD SVG 1.1//EN\"\n \"http://www.w3.org/Graphics/SVG/1.1/DTD/svg11.dtd\">\n<!-- Generated by graphviz version 2.43.0 (0)\n -->\n<!-- Title: %3 Pages: 1 -->\n<svg width=\"783pt\" height=\"214pt\"\n viewBox=\"0.00 0.00 783.38 214.09\" xmlns=\"http://www.w3.org/2000/svg\" xmlns:xlink=\"http://www.w3.org/1999/xlink\">\n<g id=\"graph0\" class=\"graph\" transform=\"scale(1 1) rotate(0) translate(4 210.09)\">\n<title>%3</title>\n<polygon fill=\"white\" stroke=\"transparent\" points=\"-4,4 -4,-210.09 779.38,-210.09 779.38,4 -4,4\"/>\n<!-- EMPTY -->\n<g id=\"node1\" class=\"node\">\n<title>EMPTY</title>\n</g>\n<!-- I -->\n<g id=\"node6\" class=\"node\">\n<title>I</title>\n<ellipse fill=\"none\" stroke=\"black\" cx=\"109\" cy=\"-86.55\" rx=\"18\" ry=\"18\"/>\n<text text-anchor=\"middle\" x=\"109\" y=\"-82.85\" font-family=\"Times,serif\" font-size=\"14.00\">I</text>\n</g>\n<!-- EMPTY&#45;&gt;I -->\n<g id=\"edge1\" class=\"edge\">\n<title>EMPTY&#45;&gt;I</title>\n<path fill=\"none\" stroke=\"black\" d=\"M54.19,-86.55C62.65,-86.55 72.05,-86.55 80.6,-86.55\"/>\n<polygon fill=\"black\" stroke=\"black\" points=\"80.83,-90.05 90.83,-86.55 80.83,-83.05 80.83,-90.05\"/>\n</g>\n<!-- S2_D -->\n<g id=\"node2\" class=\"node\">\n<title>S2_D</title>\n<ellipse fill=\"none\" stroke=\"black\" cx=\"627.83\" cy=\"-142.55\" rx=\"30.59\" ry=\"30.59\"/>\n<text text-anchor=\"middle\" x=\"627.83\" y=\"-138.85\" font-family=\"Times,serif\" font-size=\"14.00\">S2_D</text>\n</g>\n<!-- S2_D&#45;&gt;S2_D -->\n<g id=\"edge18\" class=\"edge\">\n<title>S2_D&#45;&gt;S2_D</title>\n<path fill=\"none\" stroke=\"black\" d=\"M615.5,-170.97C614.96,-181.96 619.07,-191.09 627.83,-191.09 633.72,-191.09 637.51,-186.97 639.19,-180.93\"/>\n<polygon fill=\"black\" stroke=\"black\" points=\"642.68,-181.26 640.16,-170.97 635.71,-180.59 642.68,-181.26\"/>\n<text text-anchor=\"middle\" x=\"627.83\" y=\"-194.89\" font-family=\"Times,serif\" font-size=\"14.00\">d, b ; &#39;&#39;</text>\n</g>\n<!-- F -->\n<g id=\"node11\" class=\"node\">\n<title>F</title>\n<ellipse fill=\"none\" stroke=\"black\" cx=\"753.38\" cy=\"-86.55\" rx=\"18\" ry=\"18\"/>\n<ellipse fill=\"none\" stroke=\"black\" cx=\"753.38\" cy=\"-86.55\" rx=\"22\" ry=\"22\"/>\n<text text-anchor=\"middle\" x=\"753.38\" y=\"-82.85\" font-family=\"Times,serif\" font-size=\"14.00\">F</text>\n</g>\n<!-- S2_D&#45;&gt;F -->\n<g id=\"edge19\" class=\"edge\">\n<title>S2_D&#45;&gt;F</title>\n<path fill=\"none\" stroke=\"black\" d=\"M655.94,-130.26C676.06,-121.14 703.42,-108.74 723.86,-99.47\"/>\n<polygon fill=\"black\" stroke=\"black\" points=\"725.33,-102.65 732.99,-95.33 722.44,-96.27 725.33,-102.65\"/>\n<text text-anchor=\"middle\" x=\"694.88\" y=\"-123.35\" font-family=\"Times,serif\" font-size=\"14.00\">&#39;&#39;, # ; #</text>\n</g>\n<!-- S1_B -->\n<g id=\"node3\" class=\"node\">\n<title>S1_B</title>\n<ellipse fill=\"none\" stroke=\"black\" cx=\"359.64\" cy=\"-30.55\" rx=\"30.59\" ry=\"30.59\"/>\n<text text-anchor=\"middle\" x=\"359.64\" y=\"-26.85\" font-family=\"Times,serif\" font-size=\"14.00\">S1_B</text>\n</g>\n<!-- S1_B&#45;&gt;S1_B -->\n<g id=\"edge7\" class=\"edge\">\n<title>S1_B&#45;&gt;S1_B</title>\n<path fill=\"none\" stroke=\"black\" d=\"M347.32,-58.97C346.77,-69.96 350.88,-79.09 359.64,-79.09 365.53,-79.09 369.32,-74.97 371,-68.93\"/>\n<polygon fill=\"black\" stroke=\"black\" points=\"374.49,-69.26 371.97,-58.97 367.52,-68.59 374.49,-69.26\"/>\n<text text-anchor=\"middle\" x=\"359.64\" y=\"-82.89\" font-family=\"Times,serif\" font-size=\"14.00\">b, &#39;&#39; ; &#39;&#39;</text>\n</g>\n<!-- S1_C -->\n<g id=\"node4\" class=\"node\">\n<title>S1_C</title>\n<ellipse fill=\"none\" stroke=\"black\" cx=\"493.74\" cy=\"-30.55\" rx=\"30.59\" ry=\"30.59\"/>\n<text text-anchor=\"middle\" x=\"493.74\" y=\"-26.85\" font-family=\"Times,serif\" font-size=\"14.00\">S1_C</text>\n</g>\n<!-- S1_B&#45;&gt;S1_C -->\n<g id=\"edge6\" class=\"edge\">\n<title>S1_B&#45;&gt;S1_C</title>\n<path fill=\"none\" stroke=\"black\" d=\"M390.29,-30.55C408.68,-30.55 432.56,-30.55 452.63,-30.55\"/>\n<polygon fill=\"black\" stroke=\"black\" points=\"452.73,-34.05 462.73,-30.55 452.73,-27.05 452.73,-34.05\"/>\n<text text-anchor=\"middle\" x=\"426.69\" y=\"-34.35\" font-family=\"Times,serif\" font-size=\"14.00\">b, &#39;&#39; ; &#39;&#39;</text>\n</g>\n<!-- S1_C&#45;&gt;S1_C -->\n<g id=\"edge8\" class=\"edge\">\n<title>S1_C&#45;&gt;S1_C</title>\n<path fill=\"none\" stroke=\"black\" d=\"M481.41,-58.97C480.86,-69.96 484.97,-79.09 493.74,-79.09 499.63,-79.09 503.41,-74.97 505.1,-68.93\"/>\n<polygon fill=\"black\" stroke=\"black\" points=\"508.58,-69.26 506.06,-58.97 501.62,-68.59 508.58,-69.26\"/>\n<text text-anchor=\"middle\" x=\"493.74\" y=\"-82.89\" font-family=\"Times,serif\" font-size=\"14.00\">c, a ; &#39;&#39;</text>\n</g>\n<!-- S1_D -->\n<g id=\"node5\" class=\"node\">\n<title>S1_D</title>\n<ellipse fill=\"none\" stroke=\"black\" cx=\"627.83\" cy=\"-30.55\" rx=\"30.59\" ry=\"30.59\"/>\n<text text-anchor=\"middle\" x=\"627.83\" y=\"-26.85\" font-family=\"Times,serif\" font-size=\"14.00\">S1_D</text>\n</g>\n<!-- S1_C&#45;&gt;S1_D -->\n<g id=\"edge9\" class=\"edge\">\n<title>S1_C&#45;&gt;S1_D</title>\n<path fill=\"none\" stroke=\"black\" d=\"M524.38,-30.55C542.78,-30.55 566.65,-30.55 586.73,-30.55\"/>\n<polygon fill=\"black\" stroke=\"black\" points=\"586.83,-34.05 596.83,-30.55 586.83,-27.05 586.83,-34.05\"/>\n<text text-anchor=\"middle\" x=\"560.78\" y=\"-34.35\" font-family=\"Times,serif\" font-size=\"14.00\">&#39;&#39;, # ; #</text>\n</g>\n<!-- S1_D&#45;&gt;S1_D -->\n<g id=\"edge10\" class=\"edge\">\n<title>S1_D&#45;&gt;S1_D</title>\n<path fill=\"none\" stroke=\"black\" d=\"M615.5,-58.97C614.96,-69.96 619.07,-79.09 627.83,-79.09 633.72,-79.09 637.51,-74.97 639.19,-68.93\"/>\n<polygon fill=\"black\" stroke=\"black\" points=\"642.68,-69.26 640.16,-58.97 635.71,-68.59 642.68,-69.26\"/>\n<text text-anchor=\"middle\" x=\"627.83\" y=\"-82.89\" font-family=\"Times,serif\" font-size=\"14.00\">d, &#39;&#39; ; &#39;&#39;</text>\n</g>\n<!-- S1_D&#45;&gt;F -->\n<g id=\"edge11\" class=\"edge\">\n<title>S1_D&#45;&gt;F</title>\n<path fill=\"none\" stroke=\"black\" d=\"M655.94,-42.84C676.06,-51.95 703.42,-64.36 723.86,-73.62\"/>\n<polygon fill=\"black\" stroke=\"black\" points=\"722.44,-76.82 732.99,-77.76 725.33,-70.44 722.44,-76.82\"/>\n<text text-anchor=\"middle\" x=\"694.88\" y=\"-71.35\" font-family=\"Times,serif\" font-size=\"14.00\">d, &#39;&#39; ; &#39;&#39;</text>\n</g>\n<!-- S2_A -->\n<g id=\"node9\" class=\"node\">\n<title>S2_A</title>\n<ellipse fill=\"none\" stroke=\"black\" cx=\"226.55\" cy=\"-142.55\" rx=\"30.59\" ry=\"30.59\"/>\n<text text-anchor=\"middle\" x=\"226.55\" y=\"-138.85\" font-family=\"Times,serif\" font-size=\"14.00\">S2_A</text>\n</g>\n<!-- I&#45;&gt;S2_A -->\n<g id=\"edge3\" class=\"edge\">\n<title>I&#45;&gt;S2_A</title>\n<path fill=\"none\" stroke=\"black\" d=\"M125.58,-94.1C141.9,-102.01 168.08,-114.69 189.55,-125.1\"/>\n<polygon fill=\"black\" stroke=\"black\" points=\"188.2,-128.34 198.73,-129.55 191.26,-122.04 188.2,-128.34\"/>\n<text text-anchor=\"middle\" x=\"161.5\" y=\"-121.35\" font-family=\"Times,serif\" font-size=\"14.00\">&#39;&#39;, &#39;&#39; ; &#39;&#39;</text>\n</g>\n<!-- S1_A -->\n<g id=\"node10\" class=\"node\">\n<title>S1_A</title>\n<ellipse fill=\"none\" stroke=\"black\" cx=\"226.55\" cy=\"-30.55\" rx=\"30.59\" ry=\"30.59\"/>\n<text text-anchor=\"middle\" x=\"226.55\" y=\"-26.85\" font-family=\"Times,serif\" font-size=\"14.00\">S1_A</text>\n</g>\n<!-- I&#45;&gt;S1_A -->\n<g id=\"edge2\" class=\"edge\">\n<title>I&#45;&gt;S1_A</title>\n<path fill=\"none\" stroke=\"black\" d=\"M125.58,-78.99C141.9,-71.09 168.08,-58.4 189.55,-47.99\"/>\n<polygon fill=\"black\" stroke=\"black\" points=\"191.26,-51.06 198.73,-43.54 188.2,-44.76 191.26,-51.06\"/>\n<text text-anchor=\"middle\" x=\"161.5\" y=\"-71.35\" font-family=\"Times,serif\" font-size=\"14.00\">&#39;&#39;, &#39;&#39; ; &#39;&#39;</text>\n</g>\n<!-- S2_C -->\n<g id=\"node7\" class=\"node\">\n<title>S2_C</title>\n<ellipse fill=\"none\" stroke=\"black\" cx=\"493.74\" cy=\"-142.55\" rx=\"30.59\" ry=\"30.59\"/>\n<text text-anchor=\"middle\" x=\"493.74\" y=\"-138.85\" font-family=\"Times,serif\" font-size=\"14.00\">S2_C</text>\n</g>\n<!-- S2_C&#45;&gt;S2_D -->\n<g id=\"edge17\" class=\"edge\">\n<title>S2_C&#45;&gt;S2_D</title>\n<path fill=\"none\" stroke=\"black\" d=\"M524.38,-142.55C542.78,-142.55 566.65,-142.55 586.73,-142.55\"/>\n<polygon fill=\"black\" stroke=\"black\" points=\"586.83,-146.05 596.83,-142.55 586.83,-139.05 586.83,-146.05\"/>\n<text text-anchor=\"middle\" x=\"560.78\" y=\"-146.35\" font-family=\"Times,serif\" font-size=\"14.00\">c, &#39;&#39; ; &#39;&#39;</text>\n</g>\n<!-- S2_C&#45;&gt;S2_C -->\n<g id=\"edge16\" class=\"edge\">\n<title>S2_C&#45;&gt;S2_C</title>\n<path fill=\"none\" stroke=\"black\" d=\"M481.41,-170.97C480.86,-181.96 484.97,-191.09 493.74,-191.09 499.63,-191.09 503.41,-186.97 505.1,-180.93\"/>\n<polygon fill=\"black\" stroke=\"black\" points=\"508.58,-181.26 506.06,-170.97 501.62,-180.59 508.58,-181.26\"/>\n<text text-anchor=\"middle\" x=\"493.74\" y=\"-194.89\" font-family=\"Times,serif\" font-size=\"14.00\">c, &#39;&#39; ; &#39;&#39;</text>\n</g>\n<!-- S2_B -->\n<g id=\"node8\" class=\"node\">\n<title>S2_B</title>\n<ellipse fill=\"none\" stroke=\"black\" cx=\"359.64\" cy=\"-142.55\" rx=\"30.59\" ry=\"30.59\"/>\n<text text-anchor=\"middle\" x=\"359.64\" y=\"-138.85\" font-family=\"Times,serif\" font-size=\"14.00\">S2_B</text>\n</g>\n<!-- S2_B&#45;&gt;S2_C -->\n<g id=\"edge15\" class=\"edge\">\n<title>S2_B&#45;&gt;S2_C</title>\n<path fill=\"none\" stroke=\"black\" d=\"M390.29,-142.55C408.68,-142.55 432.56,-142.55 452.63,-142.55\"/>\n<polygon fill=\"black\" stroke=\"black\" points=\"452.73,-146.05 462.73,-142.55 452.73,-139.05 452.73,-146.05\"/>\n<text text-anchor=\"middle\" x=\"426.69\" y=\"-146.35\" font-family=\"Times,serif\" font-size=\"14.00\">&#39;&#39;, b ; b</text>\n</g>\n<!-- S2_B&#45;&gt;S2_B -->\n<g id=\"edge14\" class=\"edge\">\n<title>S2_B&#45;&gt;S2_B</title>\n<path fill=\"none\" stroke=\"black\" d=\"M347.32,-170.97C346.77,-181.96 350.88,-191.09 359.64,-191.09 365.53,-191.09 369.32,-186.97 371,-180.93\"/>\n<polygon fill=\"black\" stroke=\"black\" points=\"374.49,-181.26 371.97,-170.97 367.52,-180.59 374.49,-181.26\"/>\n<text text-anchor=\"middle\" x=\"359.64\" y=\"-194.89\" font-family=\"Times,serif\" font-size=\"14.00\">b, &#39;&#39; ; b</text>\n</g>\n<!-- S2_A&#45;&gt;S2_B -->\n<g id=\"edge12\" class=\"edge\">\n<title>S2_A&#45;&gt;S2_B</title>\n<path fill=\"none\" stroke=\"black\" d=\"M257.29,-142.55C275.48,-142.55 298.97,-142.55 318.76,-142.55\"/>\n<polygon fill=\"black\" stroke=\"black\" points=\"319.01,-146.05 329.01,-142.55 319.01,-139.05 319.01,-146.05\"/>\n<text text-anchor=\"middle\" x=\"293.09\" y=\"-146.35\" font-family=\"Times,serif\" font-size=\"14.00\">a, &#39;&#39; ; &#39;&#39;</text>\n</g>\n<!-- S2_A&#45;&gt;S2_A -->\n<g id=\"edge13\" class=\"edge\">\n<title>S2_A&#45;&gt;S2_A</title>\n<path fill=\"none\" stroke=\"black\" d=\"M214.59,-170.97C214.06,-181.96 218.05,-191.09 226.55,-191.09 232.26,-191.09 235.93,-186.97 237.56,-180.93\"/>\n<polygon fill=\"black\" stroke=\"black\" points=\"241.05,-181.25 238.5,-170.97 234.08,-180.6 241.05,-181.25\"/>\n<text text-anchor=\"middle\" x=\"226.55\" y=\"-194.89\" font-family=\"Times,serif\" font-size=\"14.00\">a, &#39;&#39; ; &#39;&#39;</text>\n</g>\n<!-- S1_A&#45;&gt;S1_B -->\n<g id=\"edge5\" class=\"edge\">\n<title>S1_A&#45;&gt;S1_B</title>\n<path fill=\"none\" stroke=\"black\" d=\"M257.29,-30.55C275.48,-30.55 298.97,-30.55 318.76,-30.55\"/>\n<polygon fill=\"black\" stroke=\"black\" points=\"319.01,-34.05 329.01,-30.55 319.01,-27.05 319.01,-34.05\"/>\n<text text-anchor=\"middle\" x=\"293.09\" y=\"-34.35\" font-family=\"Times,serif\" font-size=\"14.00\">&#39;&#39;, a ; a</text>\n</g>\n<!-- S1_A&#45;&gt;S1_A -->\n<g id=\"edge4\" class=\"edge\">\n<title>S1_A&#45;&gt;S1_A</title>\n<path fill=\"none\" stroke=\"black\" d=\"M214.59,-58.97C214.06,-69.96 218.05,-79.09 226.55,-79.09 232.26,-79.09 235.93,-74.97 237.56,-68.93\"/>\n<polygon fill=\"black\" stroke=\"black\" points=\"241.05,-69.25 238.5,-58.97 234.08,-68.6 241.05,-69.25\"/>\n<text text-anchor=\"middle\" x=\"226.55\" y=\"-82.89\" font-family=\"Times,serif\" font-size=\"14.00\">a, &#39;&#39; ; a</text>\n</g>\n</g>\n</svg>\n",
            "text/plain": [
              "<graphviz.graphs.Digraph at 0x7f2dad52bb20>"
            ]
          },
          "metadata": {},
          "execution_count": 8
        }
      ]
    },
    {
      "cell_type": "markdown",
      "source": [
        "# Question 2 : 35\\%   \n",
        "\n",
        "# Now capture the above language in a CFG.  i.e. this is a CFG that encodes the above language directly. You are not converting the PDA above into a CFG.\n",
        "\n",
        "#*ENTER THE CFG IN THE SPACE BELOW WHICH SAYS \"ENTER THE CFG HERE\"*.\n",
        "\n",
        "\n",
        "# Question 3: 30\\% :  \n",
        "\n",
        "# *NOW CONVERT THE CFG INTO A PDA AND RUN IT ON THE TESTS \"explore_pda(string, abcdPDA)\"*\n",
        "\n",
        "\n"
      ],
      "metadata": {
        "id": "aV4vMVokiszK"
      }
    },
    {
      "cell_type": "code",
      "source": [
        "# Now let's define a PDA\n",
        "\n",
        "'''\n",
        "ENTER THE CFG HERE.\n",
        "---BEGIN CFG---\n",
        "!! A = a*, B=b*, etc\n",
        "!! X = a^i b* c^i, Y = b^i c* d^i.\n",
        "S -> X D | A Y\n",
        "\n",
        "X -> a X c | B\n",
        "Y -> b Y d | C\n",
        "\n",
        "A -> a A | ''\n",
        "B -> b B | ''\n",
        "C -> c C | ''\n",
        "D -> d D | ''\n",
        "---END CFG---\n",
        "'''\n",
        "\n",
        "abcdPDA = md2mc('''PDA\n",
        "!! Start in state S\n",
        "I : '' , # ; S# -> W\n",
        "\n",
        "!! Work state\n",
        "\n",
        "!! Accept when stack is empty\n",
        "W : '' , # ; # -> F\n",
        "\n",
        "!! Read terminals\n",
        "W : a , a ; '' -> W\n",
        "W : b , b ; '' -> W\n",
        "W : c , c ; '' -> W\n",
        "W : d , d ; '' -> W\n",
        "\n",
        "!! Handle non-terminals\n",
        "W : '' , S ; XD -> W\n",
        "W : '' , S ; AY -> W\n",
        "\n",
        "W : '' , X ; aXc -> W\n",
        "W : '' , X ; B -> W\n",
        "\n",
        "W : '' , Y ; bYd -> W\n",
        "W : '' , Y ; C -> W\n",
        "\n",
        "W : '' , A ; aA -> W\n",
        "W : '' , A ; '' -> W\n",
        "W : '' , B ; bB -> W\n",
        "W : '' , B ; '' -> W\n",
        "W : '' , C ; cC -> W\n",
        "W : '' , C ; '' -> W\n",
        "W : '' , D ; dD -> W\n",
        "W : '' , D ; '' -> W\n",
        "''')\n"
      ],
      "metadata": {
        "id": "tibOx7a1nR_n"
      },
      "execution_count": 16,
      "outputs": []
    },
    {
      "cell_type": "code",
      "source": [
        "dotObj_pda(abcdPDA, FuseEdges=True)"
      ],
      "metadata": {
        "id": "965Q94M7PX0I",
        "outputId": "8ceb0b48-82d7-4c5f-fe0d-d4352f564aad",
        "colab": {
          "base_uri": "https://localhost:8080/",
          "height": 470
        }
      },
      "execution_count": 17,
      "outputs": [
        {
          "output_type": "execute_result",
          "data": {
            "image/svg+xml": "<?xml version=\"1.0\" encoding=\"UTF-8\" standalone=\"no\"?>\n<!DOCTYPE svg PUBLIC \"-//W3C//DTD SVG 1.1//EN\"\n \"http://www.w3.org/Graphics/SVG/1.1/DTD/svg11.dtd\">\n<!-- Generated by graphviz version 2.43.0 (0)\n -->\n<!-- Title: %3 Pages: 1 -->\n<svg width=\"603pt\" height=\"337pt\"\n viewBox=\"0.00 0.00 603.00 337.50\" xmlns=\"http://www.w3.org/2000/svg\" xmlns:xlink=\"http://www.w3.org/1999/xlink\">\n<g id=\"graph0\" class=\"graph\" transform=\"scale(1 1) rotate(0) translate(4 333.5)\">\n<title>%3</title>\n<polygon fill=\"white\" stroke=\"transparent\" points=\"-4,4 -4,-333.5 599,-333.5 599,4 -4,4\"/>\n<!-- EMPTY -->\n<g id=\"node1\" class=\"node\">\n<title>EMPTY</title>\n</g>\n<!-- I -->\n<g id=\"node3\" class=\"node\">\n<title>I</title>\n<ellipse fill=\"none\" stroke=\"black\" cx=\"109\" cy=\"-22\" rx=\"18\" ry=\"18\"/>\n<text text-anchor=\"middle\" x=\"109\" y=\"-18.3\" font-family=\"Times,serif\" font-size=\"14.00\">I</text>\n</g>\n<!-- EMPTY&#45;&gt;I -->\n<g id=\"edge1\" class=\"edge\">\n<title>EMPTY&#45;&gt;I</title>\n<path fill=\"none\" stroke=\"black\" d=\"M54.19,-22C62.65,-22 72.05,-22 80.6,-22\"/>\n<polygon fill=\"black\" stroke=\"black\" points=\"80.83,-25.5 90.83,-22 80.83,-18.5 80.83,-25.5\"/>\n</g>\n<!-- W -->\n<g id=\"node2\" class=\"node\">\n<title>W</title>\n<ellipse fill=\"none\" stroke=\"black\" cx=\"343\" cy=\"-22\" rx=\"19.5\" ry=\"19.5\"/>\n<text text-anchor=\"middle\" x=\"343\" y=\"-18.3\" font-family=\"Times,serif\" font-size=\"14.00\">W</text>\n</g>\n<!-- W&#45;&gt;W -->\n<g id=\"edge4\" class=\"edge\">\n<title>W&#45;&gt;W</title>\n<path fill=\"none\" stroke=\"black\" d=\"M324.85,-29.36C301.76,-42.35 307.8,-59.5 343,-59.5 372.97,-59.5 381.81,-47.07 369.51,-35.35\"/>\n<polygon fill=\"black\" stroke=\"black\" points=\"371.31,-32.34 361.15,-29.36 367.24,-38.03 371.31,-32.34\"/>\n<text text-anchor=\"middle\" x=\"343\" y=\"-318.3\" font-family=\"Times,serif\" font-size=\"14.00\">c, c ; &#39;&#39; </text>\n<text text-anchor=\"middle\" x=\"343\" y=\"-303.3\" font-family=\"Times,serif\" font-size=\"14.00\"> &#39;&#39;, X ; aXc </text>\n<text text-anchor=\"middle\" x=\"343\" y=\"-288.3\" font-family=\"Times,serif\" font-size=\"14.00\"> &#39;&#39;, A ; &#39;&#39; </text>\n<text text-anchor=\"middle\" x=\"343\" y=\"-273.3\" font-family=\"Times,serif\" font-size=\"14.00\"> &#39;&#39;, B ; bB </text>\n<text text-anchor=\"middle\" x=\"343\" y=\"-258.3\" font-family=\"Times,serif\" font-size=\"14.00\"> &#39;&#39;, C ; cC </text>\n<text text-anchor=\"middle\" x=\"343\" y=\"-243.3\" font-family=\"Times,serif\" font-size=\"14.00\"> &#39;&#39;, S ; AY </text>\n<text text-anchor=\"middle\" x=\"343\" y=\"-228.3\" font-family=\"Times,serif\" font-size=\"14.00\"> &#39;&#39;, B ; &#39;&#39; </text>\n<text text-anchor=\"middle\" x=\"343\" y=\"-213.3\" font-family=\"Times,serif\" font-size=\"14.00\"> &#39;&#39;, A ; aA </text>\n<text text-anchor=\"middle\" x=\"343\" y=\"-198.3\" font-family=\"Times,serif\" font-size=\"14.00\"> &#39;&#39;, X ; B </text>\n<text text-anchor=\"middle\" x=\"343\" y=\"-183.3\" font-family=\"Times,serif\" font-size=\"14.00\"> &#39;&#39;, Y ; bYd </text>\n<text text-anchor=\"middle\" x=\"343\" y=\"-168.3\" font-family=\"Times,serif\" font-size=\"14.00\"> &#39;&#39;, D ; &#39;&#39; </text>\n<text text-anchor=\"middle\" x=\"343\" y=\"-153.3\" font-family=\"Times,serif\" font-size=\"14.00\"> a, a ; &#39;&#39; </text>\n<text text-anchor=\"middle\" x=\"343\" y=\"-138.3\" font-family=\"Times,serif\" font-size=\"14.00\"> d, d ; &#39;&#39; </text>\n<text text-anchor=\"middle\" x=\"343\" y=\"-123.3\" font-family=\"Times,serif\" font-size=\"14.00\"> &#39;&#39;, S ; XD </text>\n<text text-anchor=\"middle\" x=\"343\" y=\"-108.3\" font-family=\"Times,serif\" font-size=\"14.00\"> &#39;&#39;, Y ; C </text>\n<text text-anchor=\"middle\" x=\"343\" y=\"-93.3\" font-family=\"Times,serif\" font-size=\"14.00\"> &#39;&#39;, C ; &#39;&#39; </text>\n<text text-anchor=\"middle\" x=\"343\" y=\"-78.3\" font-family=\"Times,serif\" font-size=\"14.00\"> b, b ; &#39;&#39; </text>\n<text text-anchor=\"middle\" x=\"343\" y=\"-63.3\" font-family=\"Times,serif\" font-size=\"14.00\"> &#39;&#39;, D ; dD</text>\n</g>\n<!-- F -->\n<g id=\"node4\" class=\"node\">\n<title>F</title>\n<ellipse fill=\"none\" stroke=\"black\" cx=\"573\" cy=\"-22\" rx=\"18\" ry=\"18\"/>\n<ellipse fill=\"none\" stroke=\"black\" cx=\"573\" cy=\"-22\" rx=\"22\" ry=\"22\"/>\n<text text-anchor=\"middle\" x=\"573\" y=\"-18.3\" font-family=\"Times,serif\" font-size=\"14.00\">F</text>\n</g>\n<!-- W&#45;&gt;F -->\n<g id=\"edge3\" class=\"edge\">\n<title>W&#45;&gt;F</title>\n<path fill=\"none\" stroke=\"black\" d=\"M362.66,-22C401.71,-22 492.44,-22 540.62,-22\"/>\n<polygon fill=\"black\" stroke=\"black\" points=\"540.78,-25.5 550.78,-22 540.78,-18.5 540.78,-25.5\"/>\n<text text-anchor=\"middle\" x=\"514.5\" y=\"-25.8\" font-family=\"Times,serif\" font-size=\"14.00\">&#39;&#39;, # ; #</text>\n</g>\n<!-- I&#45;&gt;W -->\n<g id=\"edge2\" class=\"edge\">\n<title>I&#45;&gt;W</title>\n<path fill=\"none\" stroke=\"black\" d=\"M127.06,-22C166.46,-22 264.15,-22 313.09,-22\"/>\n<polygon fill=\"black\" stroke=\"black\" points=\"313.31,-25.5 323.31,-22 313.31,-18.5 313.31,-25.5\"/>\n<text text-anchor=\"middle\" x=\"167.5\" y=\"-25.8\" font-family=\"Times,serif\" font-size=\"14.00\">&#39;&#39;, # ; S#</text>\n</g>\n</g>\n</svg>\n",
            "text/plain": [
              "<graphviz.graphs.Digraph at 0x7f2dad7cf610>"
            ]
          },
          "metadata": {},
          "execution_count": 17
        }
      ]
    },
    {
      "cell_type": "markdown",
      "source": [
        "# Test-1 for Labcd (QUESTION 1) and abcdPDA (QUESTION 3) - both must pass the test run of \"abcd\".\n",
        "\n",
        "# *I provide these tests together so that you can easily cross-check them!*"
      ],
      "metadata": {
        "id": "Bk_m3OA2gJon"
      }
    },
    {
      "cell_type": "code",
      "source": [
        "explore_pda(\"abcd\", Labcd , STKMAX=10)"
      ],
      "metadata": {
        "id": "aEApuHOugODL",
        "outputId": "31bdec64-9701-4b19-98d2-c747f531b566",
        "colab": {
          "base_uri": "https://localhost:8080/"
        }
      },
      "execution_count": 18,
      "outputs": [
        {
          "output_type": "stream",
          "name": "stdout",
          "text": [
            "String abcd accepted by your PDA in 2 ways :-) \n",
            "Here are the ways: \n",
            "Final state  ('F', '', '#')\n",
            "Reached as follows:\n",
            "->  ('I', 'abcd', '#')\n",
            "->  ('S1_A', 'abcd', '#')\n",
            "->  ('S1_A', 'bcd', 'a#')\n",
            "->  ('S1_B', 'bcd', 'a#')\n",
            "->  ('S1_C', 'cd', 'a#')\n",
            "->  ('S1_C', 'd', '#')\n",
            "->  ('S1_D', 'd', '#')\n",
            "->  ('F', '', '#') .\n",
            "Final state  ('F', '', '#')\n",
            "Reached as follows:\n",
            "->  ('I', 'abcd', '#')\n",
            "->  ('S2_A', 'abcd', '#')\n",
            "->  ('S2_B', 'bcd', '#')\n",
            "->  ('S2_B', 'cd', 'b#')\n",
            "->  ('S2_C', 'cd', 'b#')\n",
            "->  ('S2_D', 'd', 'b#')\n",
            "->  ('S2_D', '', '#')\n",
            "->  ('F', '', '#') .\n"
          ]
        }
      ]
    },
    {
      "cell_type": "code",
      "source": [
        "explore_pda(\"abcd\",  abcdPDA, STKMAX=10)"
      ],
      "metadata": {
        "id": "vfZS9Nxo4IYo",
        "outputId": "4ad56357-49fe-4abd-9337-de86b51336d8",
        "colab": {
          "base_uri": "https://localhost:8080/"
        }
      },
      "execution_count": 19,
      "outputs": [
        {
          "output_type": "stream",
          "name": "stdout",
          "text": [
            "String abcd accepted by your PDA in 2 ways :-) \n",
            "Here are the ways: \n",
            "Final state  ('F', '', '#')\n",
            "Reached as follows:\n",
            "->  ('I', 'abcd', '#')\n",
            "->  ('W', 'abcd', 'S#')\n",
            "->  ('W', 'abcd', 'XD#')\n",
            "->  ('W', 'abcd', 'aXcD#')\n",
            "->  ('W', 'bcd', 'XcD#')\n",
            "->  ('W', 'bcd', 'BcD#')\n",
            "->  ('W', 'bcd', 'bBcD#')\n",
            "->  ('W', 'cd', 'BcD#')\n",
            "->  ('W', 'cd', 'cD#')\n",
            "->  ('W', 'd', 'D#')\n",
            "->  ('W', 'd', 'dD#')\n",
            "->  ('W', '', 'D#')\n",
            "->  ('W', '', '#')\n",
            "->  ('F', '', '#') .\n",
            "Final state  ('F', '', '#')\n",
            "Reached as follows:\n",
            "->  ('I', 'abcd', '#')\n",
            "->  ('W', 'abcd', 'S#')\n",
            "->  ('W', 'abcd', 'AY#')\n",
            "->  ('W', 'abcd', 'aAY#')\n",
            "->  ('W', 'bcd', 'AY#')\n",
            "->  ('W', 'bcd', 'Y#')\n",
            "->  ('W', 'bcd', 'bYd#')\n",
            "->  ('W', 'cd', 'Yd#')\n",
            "->  ('W', 'cd', 'Cd#')\n",
            "->  ('W', 'cd', 'cCd#')\n",
            "->  ('W', 'd', 'Cd#')\n",
            "->  ('W', 'd', 'd#')\n",
            "->  ('W', '', '#')\n",
            "->  ('F', '', '#') .\n"
          ]
        }
      ]
    },
    {
      "cell_type": "markdown",
      "source": [
        "# TEST-2 for Labcd and abcdPDA (pass both)"
      ],
      "metadata": {
        "id": "PquEdYFagfQB"
      }
    },
    {
      "cell_type": "code",
      "source": [
        "explore_pda(\"aabbbbcccccdddd\",  Labcd, STKMAX=9)"
      ],
      "metadata": {
        "id": "qszMnMe9ga2M",
        "outputId": "1164e5ce-c10f-47d8-e76b-d92cd10bbe7a",
        "colab": {
          "base_uri": "https://localhost:8080/"
        }
      },
      "execution_count": 20,
      "outputs": [
        {
          "output_type": "stream",
          "name": "stdout",
          "text": [
            "String aabbbbcccccdddd accepted by your PDA in 1 ways :-) \n",
            "Here are the ways: \n",
            "Final state  ('F', '', '#')\n",
            "Reached as follows:\n",
            "->  ('I', 'aabbbbcccccdddd', '#')\n",
            "->  ('S2_A', 'aabbbbcccccdddd', '#')\n",
            "->  ('S2_A', 'abbbbcccccdddd', '#')\n",
            "->  ('S2_B', 'bbbbcccccdddd', '#')\n",
            "->  ('S2_B', 'bbbcccccdddd', 'b#')\n",
            "->  ('S2_B', 'bbcccccdddd', 'bb#')\n",
            "->  ('S2_B', 'bcccccdddd', 'bbb#')\n",
            "->  ('S2_B', 'cccccdddd', 'bbbb#')\n",
            "->  ('S2_C', 'cccccdddd', 'bbbb#')\n",
            "->  ('S2_C', 'ccccdddd', 'bbbb#')\n",
            "->  ('S2_C', 'cccdddd', 'bbbb#')\n",
            "->  ('S2_C', 'ccdddd', 'bbbb#')\n",
            "->  ('S2_C', 'cdddd', 'bbbb#')\n",
            "->  ('S2_D', 'dddd', 'bbbb#')\n",
            "->  ('S2_D', 'ddd', 'bbb#')\n",
            "->  ('S2_D', 'dd', 'bb#')\n",
            "->  ('S2_D', 'd', 'b#')\n",
            "->  ('S2_D', '', '#')\n",
            "->  ('F', '', '#') .\n"
          ]
        }
      ]
    },
    {
      "cell_type": "code",
      "source": [
        "explore_pda(\"aabbbbcccccdddd\",  abcdPDA, STKMAX=9)"
      ],
      "metadata": {
        "id": "sZ_5Y9perEYS",
        "outputId": "8821f996-e6c4-47a4-fc6d-e281e025c5a5",
        "colab": {
          "base_uri": "https://localhost:8080/"
        }
      },
      "execution_count": 21,
      "outputs": [
        {
          "output_type": "stream",
          "name": "stdout",
          "text": [
            "String aabbbbcccccdddd accepted by your PDA in 1 ways :-) \n",
            "Here are the ways: \n",
            "Final state  ('F', '', '#')\n",
            "Reached as follows:\n",
            "->  ('I', 'aabbbbcccccdddd', '#')\n",
            "->  ('W', 'aabbbbcccccdddd', 'S#')\n",
            "->  ('W', 'aabbbbcccccdddd', 'AY#')\n",
            "->  ('W', 'aabbbbcccccdddd', 'aAY#')\n",
            "->  ('W', 'abbbbcccccdddd', 'AY#')\n",
            "->  ('W', 'abbbbcccccdddd', 'aAY#')\n",
            "->  ('W', 'bbbbcccccdddd', 'AY#')\n",
            "->  ('W', 'bbbbcccccdddd', 'Y#')\n",
            "->  ('W', 'bbbbcccccdddd', 'bYd#')\n",
            "->  ('W', 'bbbcccccdddd', 'Yd#')\n",
            "->  ('W', 'bbbcccccdddd', 'bYdd#')\n",
            "->  ('W', 'bbcccccdddd', 'Ydd#')\n",
            "->  ('W', 'bbcccccdddd', 'bYddd#')\n",
            "->  ('W', 'bcccccdddd', 'Yddd#')\n",
            "->  ('W', 'bcccccdddd', 'bYdddd#')\n",
            "->  ('W', 'cccccdddd', 'Ydddd#')\n",
            "->  ('W', 'cccccdddd', 'Cdddd#')\n",
            "->  ('W', 'cccccdddd', 'cCdddd#')\n",
            "->  ('W', 'ccccdddd', 'Cdddd#')\n",
            "->  ('W', 'ccccdddd', 'cCdddd#')\n",
            "->  ('W', 'cccdddd', 'Cdddd#')\n",
            "->  ('W', 'cccdddd', 'cCdddd#')\n",
            "->  ('W', 'ccdddd', 'Cdddd#')\n",
            "->  ('W', 'ccdddd', 'cCdddd#')\n",
            "->  ('W', 'cdddd', 'Cdddd#')\n",
            "->  ('W', 'cdddd', 'cCdddd#')\n",
            "->  ('W', 'dddd', 'Cdddd#')\n",
            "->  ('W', 'dddd', 'dddd#')\n",
            "->  ('W', 'ddd', 'ddd#')\n",
            "->  ('W', 'dd', 'dd#')\n",
            "->  ('W', 'd', 'd#')\n",
            "->  ('W', '', '#')\n",
            "->  ('F', '', '#') .\n"
          ]
        }
      ]
    },
    {
      "cell_type": "markdown",
      "source": [
        "# Test-3 for Labcd and abcdPDA (fail both)"
      ],
      "metadata": {
        "id": "CiA68yuDgt7j"
      }
    },
    {
      "cell_type": "code",
      "source": [
        "explore_pda(\"aabbbcccccdddd\",  Labcd, STKMAX=9)"
      ],
      "metadata": {
        "id": "O6UnWL29gxBr",
        "outputId": "9492a0f0-5156-4164-8ff5-3e283470f90b",
        "colab": {
          "base_uri": "https://localhost:8080/"
        }
      },
      "execution_count": 22,
      "outputs": [
        {
          "output_type": "stream",
          "name": "stdout",
          "text": [
            "String aabbbcccccdddd rejected by your PDA :-(\n",
            "Visited states are:\n",
            "{('S2_C', 'cccccdddd', 'bbb#'), ('S2_C', 'ccdddd', 'bbb#'), ('S2_C', 'cccdddd', 'bbb#'), ('S2_B', 'abbbcccccdddd', '#'), ('S1_A', 'aabbbcccccdddd', '#'), ('S2_C', 'bcccccdddd', 'bb#'), ('S2_B', 'bbbcccccdddd', '#'), ('S1_D', 'cccdddd', '#'), ('S2_D', 'dd', 'b#'), ('S2_C', 'bbcccccdddd', 'b#'), ('S1_C', 'bcccccdddd', 'aa#'), ('S2_A', 'abbbcccccdddd', '#'), ('S1_B', 'bcccccdddd', 'aa#'), ('S2_D', 'cdddd', 'bbb#'), ('S1_B', 'bbbcccccdddd', 'aa#'), ('S2_C', 'cdddd', 'bbb#'), ('F', 'd', '#'), ('S1_A', 'bbbcccccdddd', 'aa#'), ('S1_C', 'ccccdddd', 'a#'), ('S2_A', 'bbbcccccdddd', '#'), ('S1_C', 'cccccdddd', 'aa#'), ('S2_D', 'd', '#'), ('S1_C', 'bbcccccdddd', 'aa#'), ('S1_B', 'abbbcccccdddd', 'a#'), ('S2_B', 'cccccdddd', 'bbb#'), ('S1_A', 'abbbcccccdddd', 'a#'), ('S2_A', 'aabbbcccccdddd', '#'), ('S2_C', 'ccccdddd', 'bbb#'), ('S1_B', 'cccccdddd', 'aa#'), ('S2_D', 'ddd', 'bb#'), ('S2_D', 'ccdddd', 'bbb#'), ('S2_D', 'cccdddd', 'bbb#'), ('S1_B', 'bbcccccdddd', 'aa#'), ('S2_C', 'dddd', 'bbb#'), ('I', 'aabbbcccccdddd', '#'), ('S2_B', 'bbcccccdddd', 'b#'), ('S1_C', 'cccdddd', '#'), ('S2_B', 'bcccccdddd', 'bb#'), ('S2_D', 'ccccdddd', 'bbb#'), ('S2_D', 'dddd', 'bbb#')}\n"
          ]
        }
      ]
    },
    {
      "cell_type": "code",
      "source": [
        "explore_pda(\"aabbbcccccdddd\",  abcdPDA, STKMAX=9)"
      ],
      "metadata": {
        "id": "OoF8REmVs28K",
        "outputId": "7c7454d0-d161-486e-daba-eb8ecaa25fa0",
        "colab": {
          "base_uri": "https://localhost:8080/"
        }
      },
      "execution_count": 23,
      "outputs": [
        {
          "output_type": "stream",
          "name": "stdout",
          "text": [
            "String aabbbcccccdddd rejected by your PDA :-(\n",
            "Visited states are:\n",
            "{('W', 'bcccccdddd', 'ccD#'), ('W', 'cccccdddd', 'bBccD#'), ('W', 'aabbbcccccdddd', 'Y#'), ('W', 'cccccdddd', 'Yddd#'), ('W', 'bbbcccccdddd', 'aAY#'), ('W', 'abbbcccccdddd', 'cD#'), ('W', 'bbbcccccdddd', 'bYd#'), ('W', 'aabbbcccccdddd', 'S#'), ('W', 'ccccdddd', 'cCddd#'), ('W', 'ccccdddd', 'ddd#'), ('W', 'abbbcccccdddd', 'C#'), ('W', 'aabbbcccccdddd', 'aAY#'), ('W', 'dd', 'd#'), ('W', 'ccdddd', 'cCddd#'), ('W', 'cccccdddd', 'ccD#'), ('W', 'aabbbcccccdddd', 'bYd#'), ('W', 'abbbcccccdddd', '#'), ('W', 'bcccccdddd', 'BccD#'), ('W', 'dddd', 'cCddd#'), ('W', 'dddd', 'ddd#'), ('W', 'ccccdddd', 'Cddd#'), ('W', 'bbcccccdddd', 'cCd#'), ('W', 'abbbcccccdddd', 'bBcD#'), ('W', 'abbbcccccdddd', 'AY#'), ('W', 'ccdddd', 'Cddd#'), ('W', 'cccdddd', 'Cddd#'), ('F', 'cccdddd', '#'), ('W', 'aabbbcccccdddd', 'D#'), ('W', 'bbbcccccdddd', 'bBccD#'), ('W', 'dddd', 'Cddd#'), ('W', 'bbbcccccdddd', 'XccD#'), ('W', 'abbbcccccdddd', 'Y#'), ('W', 'cccdddd', 'D#'), ('W', 'cccccdddd', 'BccD#'), ('W', 'aabbbcccccdddd', 'cC#'), ('W', 'bbcccccdddd', 'bBccD#'), ('W', 'bcccccdddd', 'Cdd#'), ('W', 'cdddd', 'cCddd#'), ('W', 'abbbcccccdddd', 'aAY#'), ('W', 'cdddd', 'ddd#'), ('W', 'bbbcccccdddd', 'ccD#'), ('W', 'abbbcccccdddd', 'bYd#'), ('W', 'bbcccccdddd', 'Yd#'), ('W', 'bcccccdddd', 'Ydd#'), ('W', 'aabbbcccccdddd', 'dD#'), ('F', 'bbbcccccdddd', '#'), ('F', 'abbbcccccdddd', '#'), ('W', 'bbcccccdddd', 'd#'), ('W', 'cdddd', 'Cddd#'), ('W', 'cccdddd', 'dD#'), ('W', 'bbcccccdddd', 'ccD#'), ('W', 'ddd', 'dd#'), ('F', 'aabbbcccccdddd', '#'), ('W', 'cccccdddd', 'cCddd#'), ('W', 'cccdddd', 'cCddd#'), ('W', 'ccdddd', 'ddd#'), ('W', 'bbbcccccdddd', 'C#'), ('W', 'cccdddd', 'ddd#'), ('W', 'cccccdddd', 'ddd#'), ('W', 'bbbcccccdddd', 'BccD#'), ('W', 'ccccdddd', 'cD#'), ('W', 'aabbbcccccdddd', 'bBD#'), ('W', 'abbbcccccdddd', 'aXccD#'), ('W', 'abbbcccccdddd', 'XcD#'), ('W', 'abbbcccccdddd', 'BcD#'), ('F', 'd', '#'), ('W', 'bbbcccccdddd', '#'), ('W', 'aabbbcccccdddd', 'BD#'), ('W', 'abbbcccccdddd', 'cC#'), ('W', 'aabbbcccccdddd', 'C#'), ('W', 'aabbbcccccdddd', 'XD#'), ('W', 'bcccccdddd', 'cCdd#'), ('W', 'cccccdddd', 'Cddd#'), ('W', 'bbcccccdddd', 'BccD#'), ('W', 'cccccdddd', 'bYdddd#'), ('W', 'bcccccdddd', 'bBccD#'), ('W', 'bbbcccccdddd', 'AY#'), ('W', 'aabbbcccccdddd', '#'), ('W', 'bbcccccdddd', 'Cd#'), ('W', 'bcccccdddd', 'dd#'), ('W', 'bcccccdddd', 'bYddd#'), ('W', 'bbbcccccdddd', 'cC#'), ('W', 'd', '#'), ('W', 'bbbcccccdddd', 'aXcccD#'), ('W', 'bbcccccdddd', 'bYdd#'), ('W', 'cccdddd', '#'), ('W', 'aabbbcccccdddd', 'aXcD#'), ('I', 'aabbbcccccdddd', '#'), ('W', 'bbbcccccdddd', 'Y#'), ('W', 'aabbbcccccdddd', 'AY#')}\n"
          ]
        }
      ]
    },
    {
      "cell_type": "markdown",
      "source": [
        "# Test-4 for Labcd and abcdPDA (fail both)"
      ],
      "metadata": {
        "id": "ea8aYTQcg1Mo"
      }
    },
    {
      "cell_type": "code",
      "source": [
        "explore_pda(\"aaaababbbccccdddd\",  Labcd, STKMAX=9)"
      ],
      "metadata": {
        "id": "RCFkF7eig7hk",
        "outputId": "fab63928-d9a7-4e13-ec6f-b9392184de0f",
        "colab": {
          "base_uri": "https://localhost:8080/"
        }
      },
      "execution_count": 25,
      "outputs": [
        {
          "output_type": "stream",
          "name": "stdout",
          "text": [
            "String aaaababbbccccdddd rejected by your PDA :-(\n",
            "Visited states are:\n",
            "{('S1_B', 'ababbbccccdddd', 'aaa#'), ('S1_A', 'ababbbccccdddd', 'aaa#'), ('S1_C', 'abbbccccdddd', 'aaaa#'), ('S2_A', 'babbbccccdddd', '#'), ('S2_B', 'babbbccccdddd', '#'), ('S2_A', 'aaababbbccccdddd', '#'), ('S2_B', 'aaababbbccccdddd', '#'), ('S2_A', 'ababbbccccdddd', '#'), ('S1_B', 'aaababbbccccdddd', 'a#'), ('S1_B', 'aababbbccccdddd', 'aa#'), ('S1_A', 'aababbbccccdddd', 'aa#'), ('S1_B', 'babbbccccdddd', 'aaaa#'), ('S2_A', 'aababbbccccdddd', '#'), ('S2_C', 'abbbccccdddd', 'b#'), ('S1_A', 'aaababbbccccdddd', 'a#'), ('S1_B', 'abbbccccdddd', 'aaaa#'), ('S2_B', 'ababbbccccdddd', '#'), ('S1_A', 'babbbccccdddd', 'aaaa#'), ('S1_A', 'aaaababbbccccdddd', '#'), ('S2_B', 'abbbccccdddd', 'b#'), ('I', 'aaaababbbccccdddd', '#'), ('S2_B', 'aababbbccccdddd', '#'), ('S2_A', 'aaaababbbccccdddd', '#')}\n"
          ]
        }
      ]
    },
    {
      "cell_type": "code",
      "source": [
        "explore_pda(\"aaaababbbccccdddd\",  abcdPDA, STKMAX=9)"
      ],
      "metadata": {
        "id": "JmVmUUaLs4kt",
        "outputId": "e3f8cd7c-15ef-425c-ccce-465c16c137ad",
        "colab": {
          "base_uri": "https://localhost:8080/"
        }
      },
      "execution_count": 24,
      "outputs": [
        {
          "output_type": "stream",
          "name": "stdout",
          "text": [
            "String aaaababbbccccdddd rejected by your PDA :-(\n",
            "Visited states are:\n",
            "{('W', 'babbbccccdddd', 'Y#'), ('W', 'babbbccccdddd', 'bBccccD#'), ('W', 'abbbccccdddd', 'bYdd#'), ('W', 'aababbbccccdddd', 'aXcccD#'), ('W', 'aaaababbbccccdddd', 'cC#'), ('W', 'aababbbccccdddd', 'Y#'), ('W', 'babbbccccdddd', 'aAY#'), ('F', 'babbbccccdddd', '#'), ('W', 'abbbccccdddd', 'Yd#'), ('W', 'ababbbccccdddd', 'cccD#'), ('W', 'aaababbbccccdddd', 'aAY#'), ('W', 'aaababbbccccdddd', 'bYd#'), ('W', 'aaaababbbccccdddd', 'dD#'), ('W', 'ababbbccccdddd', 'bYd#'), ('W', 'aababbbccccdddd', 'aAY#'), ('W', 'babbbccccdddd', 'aXcccccD#'), ('W', 'abbbccccdddd', 'bBccccD#'), ('W', 'babbbccccdddd', 'C#'), ('F', 'aababbbccccdddd', '#'), ('W', 'aababbbccccdddd', 'bYd#'), ('W', 'babbbccccdddd', 'ccccD#'), ('W', 'ababbbccccdddd', 'bBcccD#'), ('W', 'aaaababbbccccdddd', 'bBD#'), ('W', 'babbbccccdddd', 'AY#'), ('W', 'aaababbbccccdddd', '#'), ('W', 'abbbccccdddd', 'cCd#'), ('W', 'aaababbbccccdddd', 'aXccD#'), ('W', 'aaababbbccccdddd', 'XcD#'), ('W', 'ababbbccccdddd', '#'), ('W', 'aaababbbccccdddd', 'BcD#'), ('W', 'babbbccccdddd', 'cC#'), ('W', 'aaaababbbccccdddd', 'C#'), ('I', 'aaaababbbccccdddd', '#'), ('W', 'aaababbbccccdddd', 'bBcD#'), ('W', 'abbbccccdddd', 'Cd#'), ('W', 'aaaababbbccccdddd', '#'), ('W', 'abbbccccdddd', 'ccccD#'), ('W', 'aababbbccccdddd', 'bBccD#'), ('W', 'aababbbccccdddd', 'cC#'), ('W', 'ababbbccccdddd', 'XcccD#'), ('W', 'aaaababbbccccdddd', 'aXcD#'), ('W', 'aaababbbccccdddd', 'Y#'), ('W', 'aaaababbbccccdddd', 'AY#'), ('W', 'ababbbccccdddd', 'Y#'), ('W', 'babbbccccdddd', 'bYd#'), ('W', 'abbbccccdddd', 'BccccD#'), ('W', 'babbbccccdddd', 'XccccD#'), ('W', 'aaaababbbccccdddd', 'Y#'), ('F', 'aaababbbccccdddd', '#'), ('W', 'aababbbccccdddd', 'ccD#'), ('F', 'ababbbccccdddd', '#'), ('W', 'ababbbccccdddd', 'aAY#'), ('W', 'ababbbccccdddd', 'aXccccD#'), ('W', 'ababbbccccdddd', 'BcccD#'), ('W', 'aaababbbccccdddd', 'cD#'), ('W', 'abbbccccdddd', 'd#'), ('W', 'aaaababbbccccdddd', 'S#'), ('W', 'aaaababbbccccdddd', 'aAY#'), ('W', 'aaababbbccccdddd', 'C#'), ('W', 'babbbccccdddd', '#'), ('W', 'aaaababbbccccdddd', 'bYd#'), ('W', 'ababbbccccdddd', 'C#'), ('W', 'aaaababbbccccdddd', 'BD#'), ('F', 'aaaababbbccccdddd', '#'), ('W', 'aababbbccccdddd', 'C#'), ('W', 'aababbbccccdddd', 'BccD#'), ('W', 'aaaababbbccccdddd', 'XD#'), ('W', 'aababbbccccdddd', '#'), ('W', 'aaababbbccccdddd', 'AY#'), ('W', 'ababbbccccdddd', 'AY#'), ('W', 'aaaababbbccccdddd', 'D#'), ('W', 'babbbccccdddd', 'BccccD#'), ('W', 'aaababbbccccdddd', 'cC#'), ('W', 'aababbbccccdddd', 'XccD#'), ('W', 'ababbbccccdddd', 'cC#'), ('W', 'aababbbccccdddd', 'AY#')}\n"
          ]
        }
      ]
    },
    {
      "cell_type": "markdown",
      "source": [
        "# Test-5 for Labcd and abcdPDA (pass both)"
      ],
      "metadata": {
        "id": "80ihob2ShAap"
      }
    },
    {
      "cell_type": "code",
      "source": [
        "explore_pda(\"aaaabccccd\",  Labcd, STKMAX=9)"
      ],
      "metadata": {
        "id": "VfvqWOU9hEH2",
        "outputId": "3fb1027d-d7c7-49bc-c759-01de97824ead",
        "colab": {
          "base_uri": "https://localhost:8080/"
        }
      },
      "execution_count": 26,
      "outputs": [
        {
          "output_type": "stream",
          "name": "stdout",
          "text": [
            "String aaaabccccd accepted by your PDA in 2 ways :-) \n",
            "Here are the ways: \n",
            "Final state  ('F', '', '#')\n",
            "Reached as follows:\n",
            "->  ('I', 'aaaabccccd', '#')\n",
            "->  ('S1_A', 'aaaabccccd', '#')\n",
            "->  ('S1_A', 'aaabccccd', 'a#')\n",
            "->  ('S1_A', 'aabccccd', 'aa#')\n",
            "->  ('S1_A', 'abccccd', 'aaa#')\n",
            "->  ('S1_A', 'bccccd', 'aaaa#')\n",
            "->  ('S1_B', 'bccccd', 'aaaa#')\n",
            "->  ('S1_C', 'ccccd', 'aaaa#')\n",
            "->  ('S1_C', 'cccd', 'aaa#')\n",
            "->  ('S1_C', 'ccd', 'aa#')\n",
            "->  ('S1_C', 'cd', 'a#')\n",
            "->  ('S1_C', 'd', '#')\n",
            "->  ('S1_D', 'd', '#')\n",
            "->  ('F', '', '#') .\n",
            "Final state  ('F', '', '#')\n",
            "Reached as follows:\n",
            "->  ('I', 'aaaabccccd', '#')\n",
            "->  ('S2_A', 'aaaabccccd', '#')\n",
            "->  ('S2_A', 'aaabccccd', '#')\n",
            "->  ('S2_A', 'aabccccd', '#')\n",
            "->  ('S2_A', 'abccccd', '#')\n",
            "->  ('S2_B', 'bccccd', '#')\n",
            "->  ('S2_B', 'ccccd', 'b#')\n",
            "->  ('S2_C', 'ccccd', 'b#')\n",
            "->  ('S2_C', 'cccd', 'b#')\n",
            "->  ('S2_C', 'ccd', 'b#')\n",
            "->  ('S2_C', 'cd', 'b#')\n",
            "->  ('S2_D', 'd', 'b#')\n",
            "->  ('S2_D', '', '#')\n",
            "->  ('F', '', '#') .\n"
          ]
        }
      ]
    },
    {
      "cell_type": "code",
      "source": [
        "explore_pda(\"aaaabccccd\",  abcdPDA, STKMAX=9)"
      ],
      "metadata": {
        "id": "5tTh2FOPtCdc",
        "outputId": "1a59500e-a039-4e7f-db37-68a3817fa71e",
        "colab": {
          "base_uri": "https://localhost:8080/"
        }
      },
      "execution_count": 27,
      "outputs": [
        {
          "output_type": "stream",
          "name": "stdout",
          "text": [
            "String aaaabccccd accepted by your PDA in 1 ways :-) \n",
            "Here are the ways: \n",
            "Final state  ('F', '', '#')\n",
            "Reached as follows:\n",
            "->  ('I', 'aaaabccccd', '#')\n",
            "->  ('W', 'aaaabccccd', 'S#')\n",
            "->  ('W', 'aaaabccccd', 'XD#')\n",
            "->  ('W', 'aaaabccccd', 'aXcD#')\n",
            "->  ('W', 'aaabccccd', 'XcD#')\n",
            "->  ('W', 'aaabccccd', 'aXccD#')\n",
            "->  ('W', 'aabccccd', 'XccD#')\n",
            "->  ('W', 'aabccccd', 'aXcccD#')\n",
            "->  ('W', 'abccccd', 'XcccD#')\n",
            "->  ('W', 'abccccd', 'aXccccD#')\n",
            "->  ('W', 'bccccd', 'XccccD#')\n",
            "->  ('W', 'bccccd', 'BccccD#')\n",
            "->  ('W', 'bccccd', 'bBccccD#')\n",
            "->  ('W', 'ccccd', 'BccccD#')\n",
            "->  ('W', 'ccccd', 'ccccD#')\n",
            "->  ('W', 'cccd', 'cccD#')\n",
            "->  ('W', 'ccd', 'ccD#')\n",
            "->  ('W', 'cd', 'cD#')\n",
            "->  ('W', 'd', 'D#')\n",
            "->  ('W', 'd', 'dD#')\n",
            "->  ('W', '', 'D#')\n",
            "->  ('W', '', '#')\n",
            "->  ('F', '', '#') .\n"
          ]
        }
      ]
    },
    {
      "cell_type": "markdown",
      "source": [
        "# Test-6 for Labcd and abcdPDA (pass both)"
      ],
      "metadata": {
        "id": "bVvmRvz4hJFk"
      }
    },
    {
      "cell_type": "code",
      "source": [
        "explore_pda(\"aaaabbccccdd\",  Labcd, STKMAX=9)"
      ],
      "metadata": {
        "id": "nEFNADcHhOGr",
        "outputId": "6dc220c7-64ab-4d3f-88ec-370c01e66935",
        "colab": {
          "base_uri": "https://localhost:8080/"
        }
      },
      "execution_count": 28,
      "outputs": [
        {
          "output_type": "stream",
          "name": "stdout",
          "text": [
            "String aaaabbccccdd accepted by your PDA in 2 ways :-) \n",
            "Here are the ways: \n",
            "Final state  ('F', '', '#')\n",
            "Reached as follows:\n",
            "->  ('I', 'aaaabbccccdd', '#')\n",
            "->  ('S1_A', 'aaaabbccccdd', '#')\n",
            "->  ('S1_A', 'aaabbccccdd', 'a#')\n",
            "->  ('S1_A', 'aabbccccdd', 'aa#')\n",
            "->  ('S1_A', 'abbccccdd', 'aaa#')\n",
            "->  ('S1_A', 'bbccccdd', 'aaaa#')\n",
            "->  ('S1_B', 'bbccccdd', 'aaaa#')\n",
            "->  ('S1_B', 'bccccdd', 'aaaa#')\n",
            "->  ('S1_C', 'ccccdd', 'aaaa#')\n",
            "->  ('S1_C', 'cccdd', 'aaa#')\n",
            "->  ('S1_C', 'ccdd', 'aa#')\n",
            "->  ('S1_C', 'cdd', 'a#')\n",
            "->  ('S1_C', 'dd', '#')\n",
            "->  ('S1_D', 'dd', '#')\n",
            "->  ('S1_D', 'd', '#')\n",
            "->  ('F', '', '#') .\n",
            "Final state  ('F', '', '#')\n",
            "Reached as follows:\n",
            "->  ('I', 'aaaabbccccdd', '#')\n",
            "->  ('S2_A', 'aaaabbccccdd', '#')\n",
            "->  ('S2_A', 'aaabbccccdd', '#')\n",
            "->  ('S2_A', 'aabbccccdd', '#')\n",
            "->  ('S2_A', 'abbccccdd', '#')\n",
            "->  ('S2_B', 'bbccccdd', '#')\n",
            "->  ('S2_B', 'bccccdd', 'b#')\n",
            "->  ('S2_B', 'ccccdd', 'bb#')\n",
            "->  ('S2_C', 'ccccdd', 'bb#')\n",
            "->  ('S2_C', 'cccdd', 'bb#')\n",
            "->  ('S2_C', 'ccdd', 'bb#')\n",
            "->  ('S2_C', 'cdd', 'bb#')\n",
            "->  ('S2_D', 'dd', 'bb#')\n",
            "->  ('S2_D', 'd', 'b#')\n",
            "->  ('S2_D', '', '#')\n",
            "->  ('F', '', '#') .\n"
          ]
        }
      ]
    },
    {
      "cell_type": "code",
      "source": [
        "explore_pda(\"aaaabbccccdd\",  abcdPDA, STKMAX=9)"
      ],
      "metadata": {
        "id": "HBI0IijkuKSm",
        "outputId": "28995d3f-4de0-4ca5-fe08-756778c5b0e1",
        "colab": {
          "base_uri": "https://localhost:8080/"
        }
      },
      "execution_count": 29,
      "outputs": [
        {
          "output_type": "stream",
          "name": "stdout",
          "text": [
            "String aaaabbccccdd accepted by your PDA in 1 ways :-) \n",
            "Here are the ways: \n",
            "Final state  ('F', '', '#')\n",
            "Reached as follows:\n",
            "->  ('I', 'aaaabbccccdd', '#')\n",
            "->  ('W', 'aaaabbccccdd', 'S#')\n",
            "->  ('W', 'aaaabbccccdd', 'XD#')\n",
            "->  ('W', 'aaaabbccccdd', 'aXcD#')\n",
            "->  ('W', 'aaabbccccdd', 'XcD#')\n",
            "->  ('W', 'aaabbccccdd', 'aXccD#')\n",
            "->  ('W', 'aabbccccdd', 'XccD#')\n",
            "->  ('W', 'aabbccccdd', 'aXcccD#')\n",
            "->  ('W', 'abbccccdd', 'XcccD#')\n",
            "->  ('W', 'abbccccdd', 'aXccccD#')\n",
            "->  ('W', 'bbccccdd', 'XccccD#')\n",
            "->  ('W', 'bbccccdd', 'BccccD#')\n",
            "->  ('W', 'bbccccdd', 'bBccccD#')\n",
            "->  ('W', 'bccccdd', 'BccccD#')\n",
            "->  ('W', 'bccccdd', 'bBccccD#')\n",
            "->  ('W', 'ccccdd', 'BccccD#')\n",
            "->  ('W', 'ccccdd', 'ccccD#')\n",
            "->  ('W', 'cccdd', 'cccD#')\n",
            "->  ('W', 'ccdd', 'ccD#')\n",
            "->  ('W', 'cdd', 'cD#')\n",
            "->  ('W', 'dd', 'D#')\n",
            "->  ('W', 'dd', 'dD#')\n",
            "->  ('W', 'd', 'D#')\n",
            "->  ('W', 'd', 'dD#')\n",
            "->  ('W', '', 'D#')\n",
            "->  ('W', '', '#')\n",
            "->  ('F', '', '#') .\n"
          ]
        }
      ]
    },
    {
      "cell_type": "markdown",
      "source": [
        "# Test-7 for Labcd and abcdPDA (fail both)"
      ],
      "metadata": {
        "id": "n2gX7PkhhR4T"
      }
    },
    {
      "cell_type": "code",
      "source": [
        "explore_pda(\"aaaabbbcccdcddd\",  Labcd, STKMAX=9)"
      ],
      "metadata": {
        "id": "oes6lF-mhVd_",
        "outputId": "4f32f01b-c624-487e-8a3e-e449e52ec569",
        "colab": {
          "base_uri": "https://localhost:8080/"
        }
      },
      "execution_count": 30,
      "outputs": [
        {
          "output_type": "stream",
          "name": "stdout",
          "text": [
            "String aaaabbbcccdcddd rejected by your PDA :-(\n",
            "Visited states are:\n",
            "{('S2_A', 'aabbbcccdcddd', '#'), ('S1_C', 'cdcddd', 'aa#'), ('S1_B', 'abbbcccdcddd', 'aaa#'), ('S1_A', 'abbbcccdcddd', 'aaa#'), ('S1_A', 'bbbcccdcddd', 'aaaa#'), ('S1_B', 'bbcccdcddd', 'aaaa#'), ('S2_B', 'abbbcccdcddd', '#'), ('S1_C', 'dcddd', 'a#'), ('S2_A', 'aaaabbbcccdcddd', '#'), ('S1_C', 'cccdcddd', 'aaaa#'), ('S2_B', 'bbcccdcddd', 'b#'), ('S2_A', 'aaabbbcccdcddd', '#'), ('S2_C', 'dcddd', 'bbb#'), ('I', 'aaaabbbcccdcddd', '#'), ('S1_A', 'aaabbbcccdcddd', 'a#'), ('S2_D', 'cdcddd', 'bbb#'), ('S2_D', 'dcddd', 'bbb#'), ('S1_B', 'aaabbbcccdcddd', 'a#'), ('S1_C', 'ccdcddd', 'aaa#'), ('S2_C', 'cdcddd', 'bbb#'), ('S2_B', 'cccdcddd', 'bbb#'), ('S2_B', 'bcccdcddd', 'bb#'), ('S1_A', 'aaaabbbcccdcddd', '#'), ('S2_B', 'bbbcccdcddd', '#'), ('S2_B', 'aabbbcccdcddd', '#'), ('S2_D', 'ccdcddd', 'bbb#'), ('S2_A', 'abbbcccdcddd', '#'), ('S2_C', 'bbcccdcddd', 'b#'), ('S2_C', 'ccdcddd', 'bbb#'), ('S1_C', 'bcccdcddd', 'aaaa#'), ('S1_B', 'cccdcddd', 'aaaa#'), ('S2_C', 'bcccdcddd', 'bb#'), ('S1_B', 'bbbcccdcddd', 'aaaa#'), ('S1_B', 'bcccdcddd', 'aaaa#'), ('S1_B', 'aabbbcccdcddd', 'aa#'), ('S2_C', 'cccdcddd', 'bbb#'), ('S2_A', 'bbbcccdcddd', '#'), ('S2_D', 'cddd', 'bb#'), ('S2_B', 'aaabbbcccdcddd', '#'), ('S1_C', 'bbcccdcddd', 'aaaa#'), ('S1_A', 'aabbbcccdcddd', 'aa#')}\n"
          ]
        }
      ]
    },
    {
      "cell_type": "code",
      "source": [
        "explore_pda(\"aaaabbbcccdcddd\",  abcdPDA, STKMAX=9)"
      ],
      "metadata": {
        "id": "Ricez5PRuOG6",
        "outputId": "ba7b7dab-f517-4de2-8396-d486fc13edce",
        "colab": {
          "base_uri": "https://localhost:8080/"
        }
      },
      "execution_count": 31,
      "outputs": [
        {
          "output_type": "stream",
          "name": "stdout",
          "text": [
            "String aaaabbbcccdcddd rejected by your PDA :-(\n",
            "Visited states are:\n",
            "{('W', 'aaaabbbcccdcddd', 'bBD#'), ('W', 'dcddd', 'cCddd#'), ('W', 'dcddd', 'ddd#'), ('W', 'bbcccdcddd', 'cCd#'), ('W', 'aaaabbbcccdcddd', 'BD#'), ('W', 'cdcddd', 'Cddd#'), ('W', 'abbbcccdcddd', 'cccD#'), ('W', 'cccdcddd', 'BccccD#'), ('W', 'aabbbcccdcddd', 'AY#'), ('W', 'dcddd', 'cD#'), ('W', 'aaaabbbcccdcddd', 'C#'), ('W', 'bcccdcddd', 'ccccD#'), ('W', 'aaaabbbcccdcddd', 'XD#'), ('W', 'aabbbcccdcddd', 'bBccD#'), ('W', 'abbbcccdcddd', 'bYd#'), ('W', 'bbcccdcddd', 'Cd#'), ('W', 'aabbbcccdcddd', 'cC#'), ('W', 'dcddd', 'Cddd#'), ('W', 'cccdcddd', 'bBccccD#'), ('W', 'aaabbbcccdcddd', 'C#'), ('W', 'aaaabbbcccdcddd', '#'), ('W', 'bbcccdcddd', 'ccccD#'), ('W', 'bcccdcddd', 'cCdd#'), ('W', 'bbbcccdcddd', 'bBccccD#'), ('F', 'abbbcccdcddd', '#'), ('W', 'cccdcddd', 'cCddd#'), ('W', 'cccdcddd', 'ddd#'), ('W', 'aaabbbcccdcddd', '#'), ('W', 'aaaabbbcccdcddd', 'aXcD#'), ('I', 'aaaabbbcccdcddd', '#'), ('W', 'aaabbbcccdcddd', 'BcD#'), ('W', 'aaaabbbcccdcddd', 'AY#'), ('W', 'bcccdcddd', 'bYddd#'), ('W', 'abbbcccdcddd', 'bBcccD#'), ('W', 'bbbcccdcddd', 'XccccD#'), ('F', 'aabbbcccdcddd', '#'), ('W', 'aaabbbcccdcddd', 'bBcD#'), ('W', 'aaabbbcccdcddd', 'AY#'), ('W', 'aabbbcccdcddd', 'ccD#'), ('W', 'aaaabbbcccdcddd', 'cC#'), ('W', 'bbcccdcddd', 'BccccD#'), ('W', 'cccdcddd', 'Cddd#'), ('W', 'cddd', 'dd#'), ('W', 'abbbcccdcddd', '#'), ('W', 'aaaabbbcccdcddd', 'Y#'), ('W', 'aabbbcccdcddd', 'bYd#'), ('W', 'aaabbbcccdcddd', 'Y#'), ('W', 'bbbcccdcddd', 'aXcccccD#'), ('W', 'bbbcccdcddd', 'C#'), ('W', 'bbcccdcddd', 'd#'), ('W', 'aaaabbbcccdcddd', 'S#'), ('W', 'cdcddd', 'ccD#'), ('W', 'bbbcccdcddd', '#'), ('W', 'bcccdcddd', 'Ydd#'), ('W', 'aaaabbbcccdcddd', 'aAY#'), ('W', 'bbbcccdcddd', 'ccccD#'), ('W', 'abbbcccdcddd', 'XcccD#'), ('W', 'aabbbcccdcddd', 'BccD#'), ('W', 'aaaabbbcccdcddd', 'bYd#'), ('W', 'abbbcccdcddd', 'Y#'), ('W', 'aaabbbcccdcddd', 'aAY#'), ('F', 'aaabbbcccdcddd', '#'), ('W', 'bbbcccdcddd', 'AY#'), ('W', 'ccdcddd', 'cCddd#'), ('W', 'ccdcddd', 'ddd#'), ('W', 'aabbbcccdcddd', '#'), ('W', 'cccdcddd', 'Yddd#'), ('W', 'aaabbbcccdcddd', 'cD#'), ('W', 'bbbcccdcddd', 'cC#'), ('W', 'bbbcccdcddd', 'BccccD#'), ('W', 'aabbbcccdcddd', 'XccD#'), ('W', 'bbbcccdcddd', 'Y#'), ('W', 'abbbcccdcddd', 'aAY#'), ('W', 'abbbcccdcddd', 'aXccccD#'), ('W', 'aaaabbbcccdcddd', 'D#'), ('W', 'abbbcccdcddd', 'BcccD#'), ('W', 'ccdcddd', 'Cddd#'), ('W', 'aabbbcccdcddd', 'aXcccD#'), ('W', 'bbcccdcddd', 'bYdd#'), ('W', 'aabbbcccdcddd', 'Y#'), ('W', 'bbbcccdcddd', 'aAY#'), ('W', 'aaabbbcccdcddd', 'aXccD#'), ('W', 'aaabbbcccdcddd', 'XcD#'), ('W', 'abbbcccdcddd', 'C#'), ('W', 'bcccdcddd', 'BccccD#'), ('W', 'bbbcccdcddd', 'bYd#'), ('W', 'bcccdcddd', 'dd#'), ('W', 'bbcccdcddd', 'Yd#'), ('W', 'aaabbbcccdcddd', 'cC#'), ('F', 'bbbcccdcddd', '#'), ('W', 'aabbbcccdcddd', 'aAY#'), ('W', 'bcccdcddd', 'Cdd#'), ('W', 'bcccdcddd', 'bBccccD#'), ('W', 'cccdcddd', 'bYdddd#'), ('W', 'aaaabbbcccdcddd', 'dD#'), ('W', 'abbbcccdcddd', 'AY#'), ('W', 'bbcccdcddd', 'bBccccD#'), ('W', 'abbbcccdcddd', 'cC#'), ('W', 'cccdcddd', 'ccccD#'), ('W', 'cdcddd', 'cCddd#'), ('W', 'aabbbcccdcddd', 'C#'), ('W', 'cdcddd', 'ddd#'), ('F', 'aaaabbbcccdcddd', '#'), ('W', 'ccdcddd', 'cccD#'), ('W', 'aaabbbcccdcddd', 'bYd#')}\n"
          ]
        }
      ]
    },
    {
      "cell_type": "markdown",
      "metadata": {
        "id": "h_FYIhVoeLfy"
      },
      "source": [
        "# End"
      ]
    }
  ],
  "metadata": {
    "kernelspec": {
      "display_name": "Python 3",
      "language": "python",
      "name": "python3"
    },
    "language_info": {
      "codemirror_mode": {
        "name": "ipython",
        "version": 3
      },
      "file_extension": ".py",
      "mimetype": "text/x-python",
      "name": "python",
      "nbconvert_exporter": "python",
      "pygments_lexer": "ipython3",
      "version": "3.8.5"
    },
    "toc": {
      "colors": {
        "hover_highlight": "#DAA520",
        "running_highlight": "#FF0000",
        "selected_highlight": "#FFD700"
      },
      "moveMenuLeft": true,
      "nav_menu": {
        "height": "318px",
        "width": "252px"
      },
      "navigate_menu": true,
      "number_sections": true,
      "sideBar": true,
      "threshold": 4,
      "toc_cell": false,
      "toc_section_display": "block",
      "toc_window_display": false,
      "widenNotebook": false
    },
    "colab": {
      "provenance": []
    }
  },
  "nbformat": 4,
  "nbformat_minor": 0
}