{
  "cells": [
    {
      "cell_type": "code",
      "execution_count": null,
      "metadata": {
        "run_control": {
          "frozen": false,
          "read_only": false
        },
        "id": "aMA-3_rEeLfo"
      },
      "outputs": [],
      "source": [
        "#~~~~~~~~~~~~~~~~~~~~~~~~~~~~~~~~~~~~~~~~~~~~~~~~~~~~~~~\n",
        "import sys\n",
        "\n",
        "# -- Detect if in Own Install or in Colab\n",
        "try:\n",
        "    import google.colab\n",
        "    OWN_INSTALL = False\n",
        "except:\n",
        "    OWN_INSTALL = True\n",
        "\n",
        "if OWN_INSTALL:\n",
        "\n",
        "  #---- Leave these definitions ON if running on laptop\n",
        "  #---- Else turn OFF by putting them between ''' ... '''\n",
        "\n",
        "  sys.path[0:0] = ['../../../../..',  '../../../../../3rdparty',\n",
        "                   '../../../..',  '../../../../3rdparty',\n",
        "                   '../../..',     '../../../3rdparty',\n",
        "                   '../..',        '../../3rdparty',\n",
        "                   '..',           '../3rdparty' ]\n",
        "\n",
        "else: # In colab\n",
        "  ! if [ ! -d Jove ]; then git clone https://github.com/ganeshutah/Jove Jove; fi\n",
        "  sys.path.append('./Jove')\n",
        "  sys.path.append('./Jove/jove')\n",
        "\n",
        "# -- common imports --\n",
        "from jove.DotBashers import *\n",
        "from jove.Def_DFA import *\n",
        "from jove.Def_NFA import *\n",
        "from jove.Def_RE2NFA import *\n",
        "from jove.Def_NFA2RE import *\n",
        "from jove.Def_md2mc import *\n",
        "from jove.JoveEditor import *\n",
        "#~~~~~~~~~~~~~~~~~~~~~~~~~~~~~~~~~~~~~~~~~~~~~~~~~~~~~~~"
      ]
    },
    {
      "cell_type": "markdown",
      "source": [
        "# In all these questions, good succinct documentation is expected.  \n",
        "## This means the following:\n",
        "###  * For PDA, document the states that match from the stack and other crucial states\n",
        "###  * For CFG, document, after each production rule, the language that the rule is supposed to generate\n",
        "### * The number of states of the directly designed PDA should not be excessive - we are not looking for a certain minimal count\n",
        "### * The number of CFG rules should also be not excessive, but we are not looking for a certain minimal count\n"
      ],
      "metadata": {
        "id": "2hIxiUMSrmyL"
      }
    },
    {
      "cell_type": "markdown",
      "source": [
        "# --------------------"
      ],
      "metadata": {
        "id": "4f7irdo1sX-Z"
      }
    },
    {
      "cell_type": "markdown",
      "metadata": {
        "id": "CdzXkI6KeLft"
      },
      "source": [
        "# Question 1 : 35\\% :  Points for designing the PDA and running the tests.\n",
        "\n",
        "## Given the language\n",
        "### Labcd = { a^i b^j c^k d^l : i=k OR j=l, \\; and i,j,k,l > 0 }\n",
        "\n",
        "## Obtain a PDA directly (i.e., don't design a CFG and then turn it into a PDA). Enter the PDA below in the space after \"Labcd = md2mc...\".\n",
        "\n",
        "###  *THE TESTS OF THIS PDA WILL BE UNDER QUESTION 3. These tests will be entered and run on the lines that say explore_pda(string, Labcd).*"
      ]
    },
    {
      "cell_type": "code",
      "execution_count": null,
      "metadata": {
        "id": "I5OpPirZeLfu"
      },
      "outputs": [],
      "source": [
        " Labcd = md2mc('''\n",
        "\n",
        "PDA\n",
        "\n",
        "\n",
        "''')\n"
      ]
    },
    {
      "cell_type": "code",
      "source": [
        "dotObj_pda(abcdPDA, FuseEdges=True)"
      ],
      "metadata": {
        "id": "AhGdl1R7Pe6h"
      },
      "execution_count": null,
      "outputs": []
    },
    {
      "cell_type": "markdown",
      "source": [
        "# Question 2 : 35\\%   \n",
        "\n",
        "# Now capture the above language in a CFG.  i.e. this is a CFG that encodes the above language directly. You are not converting the PDA above into a CFG.\n",
        "\n",
        "#*ENTER THE CFG IN THE SPACE BELOW WHICH SAYS \"ENTER THE CFG HERE\"*.\n",
        "\n",
        "\n",
        "# Question 3: 30\\% :  \n",
        "\n",
        "# *NOW CONVERT THE CFG INTO A PDA AND RUN IT ON THE TESTS \"explore_pda(string, abcdPDA)\"*\n",
        "\n",
        "\n"
      ],
      "metadata": {
        "id": "aV4vMVokiszK"
      }
    },
    {
      "cell_type": "code",
      "source": [
        "# Now let's define a PDA\n",
        "\n",
        "'''\n",
        "ENTER THE CFG HERE.\n",
        "---BEGIN CFG---\n",
        "\n",
        "...\n",
        "...\n",
        "\n",
        "---END CFG---\n",
        "'''\n",
        "\n",
        "abcdPDA = md2mc('''PDA\n",
        "\n",
        "... FILL ...\n",
        "\n",
        "\n",
        "''')\n"
      ],
      "metadata": {
        "id": "tibOx7a1nR_n"
      },
      "execution_count": null,
      "outputs": []
    },
    {
      "cell_type": "code",
      "source": [
        "dotObj_pda(abcdPDA, FuseEdges=True)"
      ],
      "metadata": {
        "id": "965Q94M7PX0I"
      },
      "execution_count": null,
      "outputs": []
    },
    {
      "cell_type": "markdown",
      "source": [
        "# Test-1 for Labcd (QUESTION 1) and abcdPDA (QUESTION 3) - both must pass the test run of \"abcd\".\n",
        "\n",
        "# *I provide these tests together so that you can easily cross-check them!*"
      ],
      "metadata": {
        "id": "Bk_m3OA2gJon"
      }
    },
    {
      "cell_type": "code",
      "source": [
        "explore_pda(\"abcd\", Labcd , STKMAX=10)"
      ],
      "metadata": {
        "id": "aEApuHOugODL"
      },
      "execution_count": null,
      "outputs": []
    },
    {
      "cell_type": "code",
      "source": [
        "explore_pda(\"abcd\",  abcdPDA, STKMAX=10)"
      ],
      "metadata": {
        "id": "vfZS9Nxo4IYo"
      },
      "execution_count": null,
      "outputs": []
    },
    {
      "cell_type": "markdown",
      "source": [
        "# TEST-2 for Labcd and abcdPDA (pass both)"
      ],
      "metadata": {
        "id": "PquEdYFagfQB"
      }
    },
    {
      "cell_type": "code",
      "source": [
        "explore_pda(\"aabbbbcccccdddd\",  Labcd, STKMAX=9)"
      ],
      "metadata": {
        "id": "qszMnMe9ga2M"
      },
      "execution_count": null,
      "outputs": []
    },
    {
      "cell_type": "code",
      "source": [
        "explore_pda(\"aabbbbcccccdddd\",  abcdPDA, STKMAX=9)"
      ],
      "metadata": {
        "id": "sZ_5Y9perEYS"
      },
      "execution_count": null,
      "outputs": []
    },
    {
      "cell_type": "markdown",
      "source": [
        "# Test-3 for Labcd and abcdPDA (fail both)"
      ],
      "metadata": {
        "id": "CiA68yuDgt7j"
      }
    },
    {
      "cell_type": "code",
      "source": [
        "explore_pda(\"aabbbcccccdddd\",  Labcd, STKMAX=9)"
      ],
      "metadata": {
        "id": "O6UnWL29gxBr"
      },
      "execution_count": null,
      "outputs": []
    },
    {
      "cell_type": "code",
      "source": [
        "explore_pda(\"aabbbcccccdddd\",  abcdPDA, STKMAX=9)"
      ],
      "metadata": {
        "id": "OoF8REmVs28K"
      },
      "execution_count": null,
      "outputs": []
    },
    {
      "cell_type": "markdown",
      "source": [
        "# Test-4 for Labcd and abcdPDA (fail both)"
      ],
      "metadata": {
        "id": "ea8aYTQcg1Mo"
      }
    },
    {
      "cell_type": "code",
      "source": [
        "explore_pda(\"aaaababbbccccdddd\",  Labcd, STKMAX=9)"
      ],
      "metadata": {
        "id": "RCFkF7eig7hk"
      },
      "execution_count": null,
      "outputs": []
    },
    {
      "cell_type": "code",
      "source": [
        "explore_pda(\"aaaababbbccccdddd\",  abcdPDA, STKMAX=9)"
      ],
      "metadata": {
        "id": "JmVmUUaLs4kt"
      },
      "execution_count": null,
      "outputs": []
    },
    {
      "cell_type": "markdown",
      "source": [
        "# Test-5 for Labcd and abcdPDA (pass both)"
      ],
      "metadata": {
        "id": "80ihob2ShAap"
      }
    },
    {
      "cell_type": "code",
      "source": [
        "explore_pda(\"aaaabccccd\",  Labcd, STKMAX=9)"
      ],
      "metadata": {
        "id": "VfvqWOU9hEH2"
      },
      "execution_count": null,
      "outputs": []
    },
    {
      "cell_type": "code",
      "source": [
        "explore_pda(\"aaaabccccd\",  abcdPDA, STKMAX=9)"
      ],
      "metadata": {
        "id": "5tTh2FOPtCdc"
      },
      "execution_count": null,
      "outputs": []
    },
    {
      "cell_type": "markdown",
      "source": [
        "# Test-6 for Labcd and abcdPDA (pass both)"
      ],
      "metadata": {
        "id": "bVvmRvz4hJFk"
      }
    },
    {
      "cell_type": "code",
      "source": [
        "explore_pda(\"aaaabbccccdd\",  Labcd, STKMAX=9)"
      ],
      "metadata": {
        "id": "nEFNADcHhOGr"
      },
      "execution_count": null,
      "outputs": []
    },
    {
      "cell_type": "code",
      "source": [
        "explore_pda(\"aaaabbccccdd\",  abcdPDA, STKMAX=9)"
      ],
      "metadata": {
        "id": "HBI0IijkuKSm"
      },
      "execution_count": null,
      "outputs": []
    },
    {
      "cell_type": "markdown",
      "source": [
        "# Test-7 for Labcd and abcdPDA (fail both)"
      ],
      "metadata": {
        "id": "n2gX7PkhhR4T"
      }
    },
    {
      "cell_type": "code",
      "source": [
        "explore_pda(\"aaaabbbcccdcddd\",  Labcd, STKMAX=9)"
      ],
      "metadata": {
        "id": "oes6lF-mhVd_"
      },
      "execution_count": null,
      "outputs": []
    },
    {
      "cell_type": "code",
      "source": [
        "explore_pda(\"aaaabbbcccdcddd\",  abcdPDA, STKMAX=9)"
      ],
      "metadata": {
        "id": "Ricez5PRuOG6"
      },
      "execution_count": null,
      "outputs": []
    },
    {
      "cell_type": "markdown",
      "metadata": {
        "id": "h_FYIhVoeLfy"
      },
      "source": [
        "# End"
      ]
    }
  ],
  "metadata": {
    "kernelspec": {
      "display_name": "Python 3",
      "language": "python",
      "name": "python3"
    },
    "language_info": {
      "codemirror_mode": {
        "name": "ipython",
        "version": 3
      },
      "file_extension": ".py",
      "mimetype": "text/x-python",
      "name": "python",
      "nbconvert_exporter": "python",
      "pygments_lexer": "ipython3",
      "version": "3.8.5"
    },
    "toc": {
      "colors": {
        "hover_highlight": "#DAA520",
        "running_highlight": "#FF0000",
        "selected_highlight": "#FFD700"
      },
      "moveMenuLeft": true,
      "nav_menu": {
        "height": "318px",
        "width": "252px"
      },
      "navigate_menu": true,
      "number_sections": true,
      "sideBar": true,
      "threshold": 4,
      "toc_cell": false,
      "toc_section_display": "block",
      "toc_window_display": false,
      "widenNotebook": false
    },
    "colab": {
      "provenance": []
    }
  },
  "nbformat": 4,
  "nbformat_minor": 0
}
