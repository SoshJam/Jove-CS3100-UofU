{
  "cells": [
    {
      "cell_type": "code",
      "execution_count": 1,
      "metadata": {
        "id": "JnmsuJTNzKzZ",
        "outputId": "0b549ff4-ebdb-4c30-a49d-c047af87c09a",
        "colab": {
          "base_uri": "https://localhost:8080/"
        }
      },
      "outputs": [
        {
          "output_type": "stream",
          "name": "stdout",
          "text": [
            "Cloning into 'Jove'...\n",
            "remote: Enumerating objects: 6770, done.\u001b[K\n",
            "remote: Counting objects: 100% (2136/2136), done.\u001b[K\n",
            "remote: Compressing objects: 100% (809/809), done.\u001b[K\n",
            "remote: Total 6770 (delta 1305), reused 2059 (delta 1244), pack-reused 4634 (from 1)\u001b[K\n",
            "Receiving objects: 100% (6770/6770), 11.45 MiB | 11.36 MiB/s, done.\n",
            "Resolving deltas: 100% (4310/4310), done.\n",
            "You may use any of these help commands:\n",
            "help(step_tm)\n",
            "help(run_tm)\n",
            "help(explore_tm)\n",
            "\n",
            "You may use any of these help commands:\n",
            "help(md2mc)\n",
            ".. and if you want to dig more, then ..\n",
            "help(default_line_attr)\n",
            "help(length_ok_input_items)\n",
            "help(union_line_attr_list_fld)\n",
            "help(extend_rsltdict)\n",
            "help(form_delta)\n",
            "help(get_machine_components)\n",
            "\n",
            "You may use any of these help commands:\n",
            "help(ResetStNum)\n",
            "help(NxtStateStr)\n",
            "\n"
          ]
        }
      ],
      "source": [
        "#~~~~~~~~~~~~~~~~~~~~~~~~~~~~~~~~~~~~~~~~~~~~~~~~~~~~~~~\n",
        "import sys\n",
        "\n",
        "# -- Detect if in Own Install or in Colab\n",
        "try:\n",
        "    import google.colab\n",
        "    OWN_INSTALL = False\n",
        "except:\n",
        "    OWN_INSTALL = True\n",
        "\n",
        "if OWN_INSTALL:\n",
        "    print(\"Own install\")\n",
        "    sys.path[0:0] = ['../../../../..',  '../../../../../3rdparty',\n",
        "                     '../../../..',  '../../../../3rdparty',\n",
        "                     '../../..',     '../../../3rdparty',\n",
        "                     '../..',        '../../3rdparty',\n",
        "                     '..',           '../3rdparty' ]\n",
        "\n",
        "else: # In colab\n",
        "    ! if [ ! -d Jove ]; then git clone https://github.com/ganeshutah/Jove Jove; fi\n",
        "    sys.path.append('./Jove')\n",
        "    sys.path.append('./Jove/jove')\n",
        "\n",
        "# -- common imports --\n",
        "from jove.PcpJupyterNew import *\n",
        "from jove.Def_TM     import *\n",
        "from jove.Def_md2mc  import *\n",
        "from jove.DotBashers import *\n",
        "#~~~~~~~~~~~~~~~~~~~~~~~~~~~~~~~~~~~~~~~~~~~~~~~~~~~~~~~"
      ]
    },
    {
      "cell_type": "markdown",
      "metadata": {
        "id": "o9hh5_F4n8n5"
      },
      "source": [
        "\n",
        "# NOTE THAT A HELPFUL VIDEO IS PRESENTED ON CANVAS for the basics of Asg6\n",
        "\n",
        "# It is also the first video in the module REMAINING VIDEOS (NOV, DEC) 2022\n",
        "\n",
        "#===\n",
        "# *INSTRUCTIONS ON WHAT TO UPLOAD*\n",
        "\n",
        "1) Fully executed ipynb notebooks\n",
        "\n",
        "2) One PDF screenshot (or enough screenshots) to cover the screen output after you execute the tests\n",
        "\n",
        "3) The animation of ONE of your DTM tests and animation of ONE of your NDTM tests (choose any run)\n",
        "\n",
        "4) Try generating a PDF print of the whole screen, and if it succeeds, upload that also\n",
        "\n",
        "5) Please name your PDFs as asg07-file1.pdf asg07-file2.pdf etc so that we can process these PDFs in some sensible way\n",
        "\n",
        "#===\n",
        "\n",
        "# Question 1 (50 points):\n",
        "\n",
        "## The TM design is *25 points* for a well-documented TM\n",
        "\n",
        "## Passing the given tests fetches 3 points each - total *15 points*\n",
        "\n",
        "## Each test you add (5 requested) that passes fetches 2 point each - total *10 points*\n",
        "\n",
        "## Strive to make three of your tests involve input strings of length 10 or more (to avoid having entirely short tests)"
      ]
    },
    {
      "cell_type": "markdown",
      "metadata": {
        "id": "R9bd3UrFoFT3"
      },
      "source": [
        "- Design a deterministic Turing machine (DTM) over the input alphabet Σ = {a, b, #} for the language of all strings of the form w#x where w, x ∈ {a, b}∗ and w is a substring of x. See the definition of substring here: https://en.wikipedia.org/wiki/Substring\n",
        "\n",
        "- You must design a deterministic Turing machine which absolutely has no non-determinism anywhere in its state transitions. A deterministic algorithm here requires searching for all w beginnings within x. A correct design will have a deterministic polynomial runtime.\n",
        "\n",
        "- More specifically, you will start the search at the beginning of x, fail, move one position forward on x, start the search again, etc., till you cannot find a position within x to start the search on\n",
        "\n",
        "- You don't need to do any error-checks of user input. Assume that the user never gave anything outside of the above $\\Sigma$ in their input.\n",
        "\n",
        "- Add 5 more tests of your own."
      ]
    },
    {
      "cell_type": "code",
      "execution_count": 21,
      "metadata": {
        "id": "4GYe37nZuNDN"
      },
      "outputs": [],
      "source": [
        "Asg6DTM = md2mc('''TM\n",
        "!! PLAN:\n",
        "!! Mark an X for a 0 or a Y for a 1\n",
        "!! Read to past the # and any subsequent F's X's or Y's\n",
        "!! If the next 0 or 1 doesn't match what we just set, this substring is INVALID.\n",
        "!!    Move back, setting Xs to 0s and Ys to 1, until we get to midpoint #\n",
        "!!    Move forward and past any F's, and set the first 0 or 1 to an F to mark that that is NOT the start of the substring.\n",
        "!!    Move back to the start of the string, resetting Xs and Ys, and restart.\n",
        "!! If the 0 or 1 DOES match, set it to X or Y, the substring is valid so far.\n",
        "!!    Loop back to the last X or Y before the midpoint.\n",
        "!!    Then loop forward once, and repeat with the next char of the substring.\n",
        "!! If we read a # in our reading loop it means the complete substring is valid, so move to an accept state.\n",
        "\n",
        "!! Reading loop\n",
        "\n",
        "IqR0 : #;#,S -> Fq0                  !! Accept if we've reached our midpoint. Also accepts empty substring (.#w) as that is contained in all strings w\n",
        "\n",
        "IqR0 : a;X,R -> qX0                  !! Run through the Validate X branch\n",
        "IqR0 : b;Y,R -> qY0                  !! Run through the Validate Y branch\n",
        "\n",
        "!! Validate X branch - reading through to make sure there is an a next\n",
        "\n",
        "qX0 : a;a,R | b;b,R -> qX0           !! Read through a's and b's to get to the midpoint\n",
        "qX0 : #;#,R -> qX1\n",
        "\n",
        "qX1 : F;F,R | X;X,R | Y;Y,R -> qX1   !! Read through F's, X's, and Y's to get to the character we actually check\n",
        "\n",
        "qX1 : a;X,L -> qV0                   !! The character was valid so we can mark it and start looping back on the Valid branch\n",
        "qX1 : b;b,L -> qI0                   !! The character was NOT valid so we must loop back on the Invalid branch and reset.\n",
        "\n",
        "!! Validate Y branch - reading through to make sure there is a b next\n",
        "!! Very similar to X\n",
        "\n",
        "qY0 : a;a,R | b;b,R -> qY0           !! Read through a's and b's to get to the midpoint\n",
        "qY0 : #;#,R -> qY1\n",
        "\n",
        "qY1 : F;F,R | X;X,R | Y;Y,R -> qY1   !! Read through F's, X's, and Y's to get to the character we actually check\n",
        "\n",
        "qY1 : a;a,L -> qI0                   !! The character was NOT valid so we must loop back on the Invalid branch and reset.\n",
        "qY1 : b;Y,L -> qV0                   !! The character was valid so we can mark it and start looping back on the Valid branch\n",
        "\n",
        "!! Valid branch - character matched, so we loop back until the next character to check and re-enter the read loop.\n",
        "\n",
        "qV0 : X;X,L | Y;Y,L | F;F,L -> qV0   !! Read back to midpoint\n",
        "qV0 : #;#,L -> qV1\n",
        "\n",
        "qV1 : a;a,L | b;b,L -> qV1           !! Read back all a's and b's (unprocessed)\n",
        "qV1 : X;X,R | Y;Y,R | .;.,R -> IqR0  !! Begin the read loop from the next unprocessed character\n",
        "\n",
        "!! Invalid branch - character did NOT match, loop back resetting everything but adding an F to the start of this substring\n",
        "\n",
        "qI0 : X;a,L | Y;b,L | F;F,L -> qI0   !! Read back to midpoint, resetting X's and Y's\n",
        "qI0 : #;#,R -> qI1\n",
        "\n",
        "qI1 : F;F,R -> qI1                   !! Read past any characters that were previously marked as failures\n",
        "qI1 : a;F,L | b;F,L -> qI2           !! Mark the first character we see as a failure and return left\n",
        "\n",
        "qI2 : F;F,L -> qI2                   !! Read back to midpoint\n",
        "qI2 : #;#,L -> qI3\n",
        "\n",
        "qI3 : X;a,L | Y;b,L -> qI3           !! Read back to the start of the string, resetting X's and Y's\n",
        "qI3 : a;a,L | b;b,L -> qI3           !! Also read back A's and B's which are unprocessed.\n",
        "qI3 : .;.,R -> IqR0                  !! At the start of the string, re-enter the read loop.\n",
        "\n",
        "''')"
      ]
    },
    {
      "cell_type": "markdown",
      "metadata": {
        "id": "u0PYgVqsuo7N"
      },
      "source": [
        "### Test Cases: The \"fuel\" argument of 50 may be increased as needed (start with 50 and that is good if all tests finish)"
      ]
    },
    {
      "cell_type": "code",
      "execution_count": 6,
      "metadata": {
        "id": "DxpoCGS_uNqc",
        "outputId": "45184476-1aaf-43b8-bbb6-2b8787f2ef77",
        "colab": {
          "base_uri": "https://localhost:8080/"
        }
      },
      "outputs": [
        {
          "output_type": "stream",
          "name": "stdout",
          "text": [
            "Help on function explore_tm in module jove.Def_TM:\n",
            "\n",
            "explore_tm(T, tape, nsteps)\n",
            "    A handy routine to print the result of run_tm plus making \n",
            "    future extensions to explore run-results.\n",
            "\n"
          ]
        }
      ],
      "source": [
        "help(explore_tm)"
      ]
    },
    {
      "cell_type": "code",
      "execution_count": 18,
      "metadata": {
        "id": "THq3o7AhuRem",
        "outputId": "bb6795c9-d509-4eb5-91d0-783f59269523",
        "colab": {
          "base_uri": "https://localhost:8080/"
        }
      },
      "outputs": [
        {
          "output_type": "stream",
          "name": "stdout",
          "text": [
            "Detailing the halted configs now.\n",
            "Accepted at  ('Fq0', 3, 'XYX#XYX', 22)\n",
            " via .. \n",
            " ->('IqR0', 0, 'aba#aba', 50)\n",
            " ->('qX0', 1, 'Xba#aba', 49)\n",
            " ->('qX0', 2, 'Xba#aba', 48)\n",
            " ->('qX0', 3, 'Xba#aba', 47)\n",
            " ->('qX1', 4, 'Xba#aba', 46)\n",
            " ->('qV0', 3, 'Xba#Xba', 45)\n",
            " ->('qV1', 2, 'Xba#Xba', 44)\n",
            " ->('qV1', 1, 'Xba#Xba', 43)\n",
            " ->('qV1', 0, 'Xba#Xba', 42)\n",
            " ->('IqR0', 1, 'Xba#Xba', 41)\n",
            " ->('qY0', 2, 'XYa#Xba', 40)\n",
            " ->('qY0', 3, 'XYa#Xba', 39)\n",
            " ->('qY1', 4, 'XYa#Xba', 38)\n",
            " ->('qY1', 5, 'XYa#Xba', 37)\n",
            " ->('qV0', 4, 'XYa#XYa', 36)\n",
            " ->('qV0', 3, 'XYa#XYa', 35)\n",
            " ->('qV1', 2, 'XYa#XYa', 34)\n",
            " ->('qV1', 1, 'XYa#XYa', 33)\n",
            " ->('IqR0', 2, 'XYa#XYa', 32)\n",
            " ->('qX0', 3, 'XYX#XYa', 31)\n",
            " ->('qX1', 4, 'XYX#XYa', 30)\n",
            " ->('qX1', 5, 'XYX#XYa', 29)\n",
            " ->('qX1', 6, 'XYX#XYa', 28)\n",
            " ->('qV0', 5, 'XYX#XYX', 27)\n",
            " ->('qV0', 4, 'XYX#XYX', 26)\n",
            " ->('qV0', 3, 'XYX#XYX', 25)\n",
            " ->('qV1', 2, 'XYX#XYX', 24)\n",
            " ->('IqR0', 3, 'XYX#XYX', 23)\n",
            " ->('Fq0', 3, 'XYX#XYX', 22)\n"
          ]
        }
      ],
      "source": [
        "explore_tm(Asg6DTM, \"aba#aba\",50)"
      ]
    },
    {
      "cell_type": "code",
      "execution_count": 19,
      "metadata": {
        "id": "lIGV869SuSoP",
        "outputId": "c9afea08-2ba3-43e4-f4c2-67e4f1914545",
        "colab": {
          "base_uri": "https://localhost:8080/"
        }
      },
      "outputs": [
        {
          "output_type": "stream",
          "name": "stdout",
          "text": [
            "Allocating  8  tape cells to the RIGHT!\n",
            "Detailing the halted configs now.\n",
            "Rejected at  ('qX1', 6, 'XYX#XY', 28)\n",
            " via .. \n",
            " ->('IqR0', 0, 'aba#ab', 50)\n",
            " ->('qX0', 1, 'Xba#ab', 49)\n",
            " ->('qX0', 2, 'Xba#ab', 48)\n",
            " ->('qX0', 3, 'Xba#ab', 47)\n",
            " ->('qX1', 4, 'Xba#ab', 46)\n",
            " ->('qV0', 3, 'Xba#Xb', 45)\n",
            " ->('qV1', 2, 'Xba#Xb', 44)\n",
            " ->('qV1', 1, 'Xba#Xb', 43)\n",
            " ->('qV1', 0, 'Xba#Xb', 42)\n",
            " ->('IqR0', 1, 'Xba#Xb', 41)\n",
            " ->('qY0', 2, 'XYa#Xb', 40)\n",
            " ->('qY0', 3, 'XYa#Xb', 39)\n",
            " ->('qY1', 4, 'XYa#Xb', 38)\n",
            " ->('qY1', 5, 'XYa#Xb', 37)\n",
            " ->('qV0', 4, 'XYa#XY', 36)\n",
            " ->('qV0', 3, 'XYa#XY', 35)\n",
            " ->('qV1', 2, 'XYa#XY', 34)\n",
            " ->('qV1', 1, 'XYa#XY', 33)\n",
            " ->('IqR0', 2, 'XYa#XY', 32)\n",
            " ->('qX0', 3, 'XYX#XY', 31)\n",
            " ->('qX1', 4, 'XYX#XY', 30)\n",
            " ->('qX1', 5, 'XYX#XY', 29)\n",
            " ->('qX1', 6, 'XYX#XY', 28)\n"
          ]
        }
      ],
      "source": [
        "# assuming this is supposed to be rejected\n",
        "explore_tm(Asg6DTM, \"aba#ab\",50)"
      ]
    },
    {
      "cell_type": "code",
      "execution_count": 22,
      "metadata": {
        "id": "pK5gYjq1uT2k",
        "outputId": "1d46e3e6-e13f-4ac5-fa40-91a013746bc2",
        "colab": {
          "base_uri": "https://localhost:8080/"
        }
      },
      "outputs": [
        {
          "output_type": "stream",
          "name": "stdout",
          "text": [
            "Allocating  8  tape cells to the LEFT!\n",
            "Detailing the halted configs now.\n",
            "Accepted at  ('Fq0', 11, '........XYX#FXYX', 4)\n",
            " via .. \n",
            " ->('IqR0', 0, 'aba#baba', 50)\n",
            " ->('qX0', 1, 'Xba#baba', 49)\n",
            " ->('qX0', 2, 'Xba#baba', 48)\n",
            " ->('qX0', 3, 'Xba#baba', 47)\n",
            " ->('qX1', 4, 'Xba#baba', 46)\n",
            " ->('qI0', 3, 'Xba#baba', 45)\n",
            " ->('qI1', 4, 'Xba#baba', 44)\n",
            " ->('qI2', 3, 'Xba#Faba', 43)\n",
            " ->('qI3', 2, 'Xba#Faba', 42)\n",
            " ->('qI3', 1, 'Xba#Faba', 41)\n",
            " ->('qI3', 0, 'Xba#Faba', 40)\n",
            " ->('qI3', 7, '........aba#Faba', 39)\n",
            " ->('IqR0', 8, '........aba#Faba', 38)\n",
            " ->('qX0', 9, '........Xba#Faba', 37)\n",
            " ->('qX0', 10, '........Xba#Faba', 36)\n",
            " ->('qX0', 11, '........Xba#Faba', 35)\n",
            " ->('qX1', 12, '........Xba#Faba', 34)\n",
            " ->('qX1', 13, '........Xba#Faba', 33)\n",
            " ->('qV0', 12, '........Xba#FXba', 32)\n",
            " ->('qV0', 11, '........Xba#FXba', 31)\n",
            " ->('qV1', 10, '........Xba#FXba', 30)\n",
            " ->('qV1', 9, '........Xba#FXba', 29)\n",
            " ->('qV1', 8, '........Xba#FXba', 28)\n",
            " ->('IqR0', 9, '........Xba#FXba', 27)\n",
            " ->('qY0', 10, '........XYa#FXba', 26)\n",
            " ->('qY0', 11, '........XYa#FXba', 25)\n",
            " ->('qY1', 12, '........XYa#FXba', 24)\n",
            " ->('qY1', 13, '........XYa#FXba', 23)\n",
            " ->('qY1', 14, '........XYa#FXba', 22)\n",
            " ->('qV0', 13, '........XYa#FXYa', 21)\n",
            " ->('qV0', 12, '........XYa#FXYa', 20)\n",
            " ->('qV0', 11, '........XYa#FXYa', 19)\n",
            " ->('qV1', 10, '........XYa#FXYa', 18)\n",
            " ->('qV1', 9, '........XYa#FXYa', 17)\n",
            " ->('IqR0', 10, '........XYa#FXYa', 16)\n",
            " ->('qX0', 11, '........XYX#FXYa', 15)\n",
            " ->('qX1', 12, '........XYX#FXYa', 14)\n",
            " ->('qX1', 13, '........XYX#FXYa', 13)\n",
            " ->('qX1', 14, '........XYX#FXYa', 12)\n",
            " ->('qX1', 15, '........XYX#FXYa', 11)\n",
            " ->('qV0', 14, '........XYX#FXYX', 10)\n",
            " ->('qV0', 13, '........XYX#FXYX', 9)\n",
            " ->('qV0', 12, '........XYX#FXYX', 8)\n",
            " ->('qV0', 11, '........XYX#FXYX', 7)\n",
            " ->('qV1', 10, '........XYX#FXYX', 6)\n",
            " ->('IqR0', 11, '........XYX#FXYX', 5)\n",
            " ->('Fq0', 11, '........XYX#FXYX', 4)\n"
          ]
        }
      ],
      "source": [
        "explore_tm(Asg6DTM, \"aba#baba\",50)"
      ]
    },
    {
      "cell_type": "code",
      "execution_count": 25,
      "metadata": {
        "id": "1suuqWHLuVAD",
        "outputId": "ae3d2089-306d-450f-b01d-15a977837b62",
        "colab": {
          "base_uri": "https://localhost:8080/"
        }
      },
      "outputs": [
        {
          "output_type": "stream",
          "name": "stdout",
          "text": [
            "Allocating  8  tape cells to the LEFT!\n",
            "Allocating  8  tape cells to the RIGHT!\n",
            "Detailing the halted configs now.\n",
            "Rejected at  ('qY1', 17, '........XYa#FFFFX', 29)\n",
            " via .. \n",
            " ->('IqR0', 0, 'aba#babba', 150)\n",
            " ->('qX0', 1, 'Xba#babba', 149)\n",
            " ->('qX0', 2, 'Xba#babba', 148)\n",
            " ->('qX0', 3, 'Xba#babba', 147)\n",
            " ->('qX1', 4, 'Xba#babba', 146)\n",
            " ->('qI0', 3, 'Xba#babba', 145)\n",
            " ->('qI1', 4, 'Xba#babba', 144)\n",
            " ->('qI2', 3, 'Xba#Fabba', 143)\n",
            " ->('qI3', 2, 'Xba#Fabba', 142)\n",
            " ->('qI3', 1, 'Xba#Fabba', 141)\n",
            " ->('qI3', 0, 'Xba#Fabba', 140)\n",
            " ->('qI3', 7, '........aba#Fabba', 139)\n",
            " ->('IqR0', 8, '........aba#Fabba', 138)\n",
            " ->('qX0', 9, '........Xba#Fabba', 137)\n",
            " ->('qX0', 10, '........Xba#Fabba', 136)\n",
            " ->('qX0', 11, '........Xba#Fabba', 135)\n",
            " ->('qX1', 12, '........Xba#Fabba', 134)\n",
            " ->('qX1', 13, '........Xba#Fabba', 133)\n",
            " ->('qV0', 12, '........Xba#FXbba', 132)\n",
            " ->('qV0', 11, '........Xba#FXbba', 131)\n",
            " ->('qV1', 10, '........Xba#FXbba', 130)\n",
            " ->('qV1', 9, '........Xba#FXbba', 129)\n",
            " ->('qV1', 8, '........Xba#FXbba', 128)\n",
            " ->('IqR0', 9, '........Xba#FXbba', 127)\n",
            " ->('qY0', 10, '........XYa#FXbba', 126)\n",
            " ->('qY0', 11, '........XYa#FXbba', 125)\n",
            " ->('qY1', 12, '........XYa#FXbba', 124)\n",
            " ->('qY1', 13, '........XYa#FXbba', 123)\n",
            " ->('qY1', 14, '........XYa#FXbba', 122)\n",
            " ->('qV0', 13, '........XYa#FXYba', 121)\n",
            " ->('qV0', 12, '........XYa#FXYba', 120)\n",
            " ->('qV0', 11, '........XYa#FXYba', 119)\n",
            " ->('qV1', 10, '........XYa#FXYba', 118)\n",
            " ->('qV1', 9, '........XYa#FXYba', 117)\n",
            " ->('IqR0', 10, '........XYa#FXYba', 116)\n",
            " ->('qX0', 11, '........XYX#FXYba', 115)\n",
            " ->('qX1', 12, '........XYX#FXYba', 114)\n",
            " ->('qX1', 13, '........XYX#FXYba', 113)\n",
            " ->('qX1', 14, '........XYX#FXYba', 112)\n",
            " ->('qX1', 15, '........XYX#FXYba', 111)\n",
            " ->('qI0', 14, '........XYX#FXYba', 110)\n",
            " ->('qI0', 13, '........XYX#FXbba', 109)\n",
            " ->('qI0', 12, '........XYX#Fabba', 108)\n",
            " ->('qI0', 11, '........XYX#Fabba', 107)\n",
            " ->('qI1', 12, '........XYX#Fabba', 106)\n",
            " ->('qI1', 13, '........XYX#Fabba', 105)\n",
            " ->('qI2', 12, '........XYX#FFbba', 104)\n",
            " ->('qI2', 11, '........XYX#FFbba', 103)\n",
            " ->('qI3', 10, '........XYX#FFbba', 102)\n",
            " ->('qI3', 9, '........XYa#FFbba', 101)\n",
            " ->('qI3', 8, '........Xba#FFbba', 100)\n",
            " ->('qI3', 7, '........aba#FFbba', 99)\n",
            " ->('IqR0', 8, '........aba#FFbba', 98)\n",
            " ->('qX0', 9, '........Xba#FFbba', 97)\n",
            " ->('qX0', 10, '........Xba#FFbba', 96)\n",
            " ->('qX0', 11, '........Xba#FFbba', 95)\n",
            " ->('qX1', 12, '........Xba#FFbba', 94)\n",
            " ->('qX1', 13, '........Xba#FFbba', 93)\n",
            " ->('qX1', 14, '........Xba#FFbba', 92)\n",
            " ->('qI0', 13, '........Xba#FFbba', 91)\n",
            " ->('qI0', 12, '........Xba#FFbba', 90)\n",
            " ->('qI0', 11, '........Xba#FFbba', 89)\n",
            " ->('qI1', 12, '........Xba#FFbba', 88)\n",
            " ->('qI1', 13, '........Xba#FFbba', 87)\n",
            " ->('qI1', 14, '........Xba#FFbba', 86)\n",
            " ->('qI2', 13, '........Xba#FFFba', 85)\n",
            " ->('qI2', 12, '........Xba#FFFba', 84)\n",
            " ->('qI2', 11, '........Xba#FFFba', 83)\n",
            " ->('qI3', 10, '........Xba#FFFba', 82)\n",
            " ->('qI3', 9, '........Xba#FFFba', 81)\n",
            " ->('qI3', 8, '........Xba#FFFba', 80)\n",
            " ->('qI3', 7, '........aba#FFFba', 79)\n",
            " ->('IqR0', 8, '........aba#FFFba', 78)\n",
            " ->('qX0', 9, '........Xba#FFFba', 77)\n",
            " ->('qX0', 10, '........Xba#FFFba', 76)\n",
            " ->('qX0', 11, '........Xba#FFFba', 75)\n",
            " ->('qX1', 12, '........Xba#FFFba', 74)\n",
            " ->('qX1', 13, '........Xba#FFFba', 73)\n",
            " ->('qX1', 14, '........Xba#FFFba', 72)\n",
            " ->('qX1', 15, '........Xba#FFFba', 71)\n",
            " ->('qI0', 14, '........Xba#FFFba', 70)\n",
            " ->('qI0', 13, '........Xba#FFFba', 69)\n",
            " ->('qI0', 12, '........Xba#FFFba', 68)\n",
            " ->('qI0', 11, '........Xba#FFFba', 67)\n",
            " ->('qI1', 12, '........Xba#FFFba', 66)\n",
            " ->('qI1', 13, '........Xba#FFFba', 65)\n",
            " ->('qI1', 14, '........Xba#FFFba', 64)\n",
            " ->('qI1', 15, '........Xba#FFFba', 63)\n",
            " ->('qI2', 14, '........Xba#FFFFa', 62)\n",
            " ->('qI2', 13, '........Xba#FFFFa', 61)\n",
            " ->('qI2', 12, '........Xba#FFFFa', 60)\n",
            " ->('qI2', 11, '........Xba#FFFFa', 59)\n",
            " ->('qI3', 10, '........Xba#FFFFa', 58)\n",
            " ->('qI3', 9, '........Xba#FFFFa', 57)\n",
            " ->('qI3', 8, '........Xba#FFFFa', 56)\n",
            " ->('qI3', 7, '........aba#FFFFa', 55)\n",
            " ->('IqR0', 8, '........aba#FFFFa', 54)\n",
            " ->('qX0', 9, '........Xba#FFFFa', 53)\n",
            " ->('qX0', 10, '........Xba#FFFFa', 52)\n",
            " ->('qX0', 11, '........Xba#FFFFa', 51)\n",
            " ->('qX1', 12, '........Xba#FFFFa', 50)\n",
            " ->('qX1', 13, '........Xba#FFFFa', 49)\n",
            " ->('qX1', 14, '........Xba#FFFFa', 48)\n",
            " ->('qX1', 15, '........Xba#FFFFa', 47)\n",
            " ->('qX1', 16, '........Xba#FFFFa', 46)\n",
            " ->('qV0', 15, '........Xba#FFFFX', 45)\n",
            " ->('qV0', 14, '........Xba#FFFFX', 44)\n",
            " ->('qV0', 13, '........Xba#FFFFX', 43)\n",
            " ->('qV0', 12, '........Xba#FFFFX', 42)\n",
            " ->('qV0', 11, '........Xba#FFFFX', 41)\n",
            " ->('qV1', 10, '........Xba#FFFFX', 40)\n",
            " ->('qV1', 9, '........Xba#FFFFX', 39)\n",
            " ->('qV1', 8, '........Xba#FFFFX', 38)\n",
            " ->('IqR0', 9, '........Xba#FFFFX', 37)\n",
            " ->('qY0', 10, '........XYa#FFFFX', 36)\n",
            " ->('qY0', 11, '........XYa#FFFFX', 35)\n",
            " ->('qY1', 12, '........XYa#FFFFX', 34)\n",
            " ->('qY1', 13, '........XYa#FFFFX', 33)\n",
            " ->('qY1', 14, '........XYa#FFFFX', 32)\n",
            " ->('qY1', 15, '........XYa#FFFFX', 31)\n",
            " ->('qY1', 16, '........XYa#FFFFX', 30)\n",
            " ->('qY1', 17, '........XYa#FFFFX', 29)\n"
          ]
        }
      ],
      "source": [
        "# assuming this is also meant to be rejected\n",
        "explore_tm(Asg6DTM, \"aba#babba\",150)"
      ]
    },
    {
      "cell_type": "code",
      "execution_count": 26,
      "metadata": {
        "id": "u1xNzrCzuXat",
        "outputId": "f70243fb-c40d-4741-cfdf-8d3b5d1018be",
        "colab": {
          "base_uri": "https://localhost:8080/"
        }
      },
      "outputs": [
        {
          "output_type": "stream",
          "name": "stdout",
          "text": [
            "Detailing the halted configs now.\n",
            "Accepted at  ('Fq0', 3, 'YYX#YYXbba', 22)\n",
            " via .. \n",
            " ->('IqR0', 0, 'bba#bbabba', 50)\n",
            " ->('qY0', 1, 'Yba#bbabba', 49)\n",
            " ->('qY0', 2, 'Yba#bbabba', 48)\n",
            " ->('qY0', 3, 'Yba#bbabba', 47)\n",
            " ->('qY1', 4, 'Yba#bbabba', 46)\n",
            " ->('qV0', 3, 'Yba#Ybabba', 45)\n",
            " ->('qV1', 2, 'Yba#Ybabba', 44)\n",
            " ->('qV1', 1, 'Yba#Ybabba', 43)\n",
            " ->('qV1', 0, 'Yba#Ybabba', 42)\n",
            " ->('IqR0', 1, 'Yba#Ybabba', 41)\n",
            " ->('qY0', 2, 'YYa#Ybabba', 40)\n",
            " ->('qY0', 3, 'YYa#Ybabba', 39)\n",
            " ->('qY1', 4, 'YYa#Ybabba', 38)\n",
            " ->('qY1', 5, 'YYa#Ybabba', 37)\n",
            " ->('qV0', 4, 'YYa#YYabba', 36)\n",
            " ->('qV0', 3, 'YYa#YYabba', 35)\n",
            " ->('qV1', 2, 'YYa#YYabba', 34)\n",
            " ->('qV1', 1, 'YYa#YYabba', 33)\n",
            " ->('IqR0', 2, 'YYa#YYabba', 32)\n",
            " ->('qX0', 3, 'YYX#YYabba', 31)\n",
            " ->('qX1', 4, 'YYX#YYabba', 30)\n",
            " ->('qX1', 5, 'YYX#YYabba', 29)\n",
            " ->('qX1', 6, 'YYX#YYabba', 28)\n",
            " ->('qV0', 5, 'YYX#YYXbba', 27)\n",
            " ->('qV0', 4, 'YYX#YYXbba', 26)\n",
            " ->('qV0', 3, 'YYX#YYXbba', 25)\n",
            " ->('qV1', 2, 'YYX#YYXbba', 24)\n",
            " ->('IqR0', 3, 'YYX#YYXbba', 23)\n",
            " ->('Fq0', 3, 'YYX#YYXbba', 22)\n"
          ]
        }
      ],
      "source": [
        "explore_tm(Asg6DTM, \"bba#bbabba\",50)"
      ]
    },
    {
      "cell_type": "markdown",
      "metadata": {
        "id": "5QlSFum4ubtm"
      },
      "source": [
        "### 5 Tests You Add:"
      ]
    },
    {
      "cell_type": "code",
      "execution_count": 28,
      "metadata": {
        "id": "uO2HYF8LuhEc",
        "outputId": "b9f433ea-00f9-49d2-be52-81c63bf4e5cd",
        "colab": {
          "base_uri": "https://localhost:8080/"
        }
      },
      "outputs": [
        {
          "output_type": "stream",
          "name": "stdout",
          "text": [
            "Allocating  8  tape cells to the LEFT!\n",
            "Detailing the halted configs now.\n",
            "Accepted at  ('Fq0', 11, '........XYY#FFXYY', 12)\n",
            " via .. \n",
            " ->('IqR0', 0, 'abb#ababb', 100)\n",
            " ->('qX0', 1, 'Xbb#ababb', 99)\n",
            " ->('qX0', 2, 'Xbb#ababb', 98)\n",
            " ->('qX0', 3, 'Xbb#ababb', 97)\n",
            " ->('qX1', 4, 'Xbb#ababb', 96)\n",
            " ->('qV0', 3, 'Xbb#Xbabb', 95)\n",
            " ->('qV1', 2, 'Xbb#Xbabb', 94)\n",
            " ->('qV1', 1, 'Xbb#Xbabb', 93)\n",
            " ->('qV1', 0, 'Xbb#Xbabb', 92)\n",
            " ->('IqR0', 1, 'Xbb#Xbabb', 91)\n",
            " ->('qY0', 2, 'XYb#Xbabb', 90)\n",
            " ->('qY0', 3, 'XYb#Xbabb', 89)\n",
            " ->('qY1', 4, 'XYb#Xbabb', 88)\n",
            " ->('qY1', 5, 'XYb#Xbabb', 87)\n",
            " ->('qV0', 4, 'XYb#XYabb', 86)\n",
            " ->('qV0', 3, 'XYb#XYabb', 85)\n",
            " ->('qV1', 2, 'XYb#XYabb', 84)\n",
            " ->('qV1', 1, 'XYb#XYabb', 83)\n",
            " ->('IqR0', 2, 'XYb#XYabb', 82)\n",
            " ->('qY0', 3, 'XYY#XYabb', 81)\n",
            " ->('qY1', 4, 'XYY#XYabb', 80)\n",
            " ->('qY1', 5, 'XYY#XYabb', 79)\n",
            " ->('qY1', 6, 'XYY#XYabb', 78)\n",
            " ->('qI0', 5, 'XYY#XYabb', 77)\n",
            " ->('qI0', 4, 'XYY#Xbabb', 76)\n",
            " ->('qI0', 3, 'XYY#ababb', 75)\n",
            " ->('qI1', 4, 'XYY#ababb', 74)\n",
            " ->('qI2', 3, 'XYY#Fbabb', 73)\n",
            " ->('qI3', 2, 'XYY#Fbabb', 72)\n",
            " ->('qI3', 1, 'XYb#Fbabb', 71)\n",
            " ->('qI3', 0, 'Xbb#Fbabb', 70)\n",
            " ->('qI3', 7, '........abb#Fbabb', 69)\n",
            " ->('IqR0', 8, '........abb#Fbabb', 68)\n",
            " ->('qX0', 9, '........Xbb#Fbabb', 67)\n",
            " ->('qX0', 10, '........Xbb#Fbabb', 66)\n",
            " ->('qX0', 11, '........Xbb#Fbabb', 65)\n",
            " ->('qX1', 12, '........Xbb#Fbabb', 64)\n",
            " ->('qX1', 13, '........Xbb#Fbabb', 63)\n",
            " ->('qI0', 12, '........Xbb#Fbabb', 62)\n",
            " ->('qI0', 11, '........Xbb#Fbabb', 61)\n",
            " ->('qI1', 12, '........Xbb#Fbabb', 60)\n",
            " ->('qI1', 13, '........Xbb#Fbabb', 59)\n",
            " ->('qI2', 12, '........Xbb#FFabb', 58)\n",
            " ->('qI2', 11, '........Xbb#FFabb', 57)\n",
            " ->('qI3', 10, '........Xbb#FFabb', 56)\n",
            " ->('qI3', 9, '........Xbb#FFabb', 55)\n",
            " ->('qI3', 8, '........Xbb#FFabb', 54)\n",
            " ->('qI3', 7, '........abb#FFabb', 53)\n",
            " ->('IqR0', 8, '........abb#FFabb', 52)\n",
            " ->('qX0', 9, '........Xbb#FFabb', 51)\n",
            " ->('qX0', 10, '........Xbb#FFabb', 50)\n",
            " ->('qX0', 11, '........Xbb#FFabb', 49)\n",
            " ->('qX1', 12, '........Xbb#FFabb', 48)\n",
            " ->('qX1', 13, '........Xbb#FFabb', 47)\n",
            " ->('qX1', 14, '........Xbb#FFabb', 46)\n",
            " ->('qV0', 13, '........Xbb#FFXbb', 45)\n",
            " ->('qV0', 12, '........Xbb#FFXbb', 44)\n",
            " ->('qV0', 11, '........Xbb#FFXbb', 43)\n",
            " ->('qV1', 10, '........Xbb#FFXbb', 42)\n",
            " ->('qV1', 9, '........Xbb#FFXbb', 41)\n",
            " ->('qV1', 8, '........Xbb#FFXbb', 40)\n",
            " ->('IqR0', 9, '........Xbb#FFXbb', 39)\n",
            " ->('qY0', 10, '........XYb#FFXbb', 38)\n",
            " ->('qY0', 11, '........XYb#FFXbb', 37)\n",
            " ->('qY1', 12, '........XYb#FFXbb', 36)\n",
            " ->('qY1', 13, '........XYb#FFXbb', 35)\n",
            " ->('qY1', 14, '........XYb#FFXbb', 34)\n",
            " ->('qY1', 15, '........XYb#FFXbb', 33)\n",
            " ->('qV0', 14, '........XYb#FFXYb', 32)\n",
            " ->('qV0', 13, '........XYb#FFXYb', 31)\n",
            " ->('qV0', 12, '........XYb#FFXYb', 30)\n",
            " ->('qV0', 11, '........XYb#FFXYb', 29)\n",
            " ->('qV1', 10, '........XYb#FFXYb', 28)\n",
            " ->('qV1', 9, '........XYb#FFXYb', 27)\n",
            " ->('IqR0', 10, '........XYb#FFXYb', 26)\n",
            " ->('qY0', 11, '........XYY#FFXYb', 25)\n",
            " ->('qY1', 12, '........XYY#FFXYb', 24)\n",
            " ->('qY1', 13, '........XYY#FFXYb', 23)\n",
            " ->('qY1', 14, '........XYY#FFXYb', 22)\n",
            " ->('qY1', 15, '........XYY#FFXYb', 21)\n",
            " ->('qY1', 16, '........XYY#FFXYb', 20)\n",
            " ->('qV0', 15, '........XYY#FFXYY', 19)\n",
            " ->('qV0', 14, '........XYY#FFXYY', 18)\n",
            " ->('qV0', 13, '........XYY#FFXYY', 17)\n",
            " ->('qV0', 12, '........XYY#FFXYY', 16)\n",
            " ->('qV0', 11, '........XYY#FFXYY', 15)\n",
            " ->('qV1', 10, '........XYY#FFXYY', 14)\n",
            " ->('IqR0', 11, '........XYY#FFXYY', 13)\n",
            " ->('Fq0', 11, '........XYY#FFXYY', 12)\n"
          ]
        }
      ],
      "source": [
        "# Test 1\n",
        "explore_tm(Asg6DTM, \"abb#ababb\",100)"
      ]
    },
    {
      "cell_type": "code",
      "execution_count": 29,
      "metadata": {
        "id": "ZNeqyBqkuieV",
        "outputId": "ea336629-78f3-474e-dacb-9f51b63eeb90",
        "colab": {
          "base_uri": "https://localhost:8080/"
        }
      },
      "outputs": [
        {
          "output_type": "stream",
          "name": "stdout",
          "text": [
            "Allocating  8  tape cells to the LEFT!\n",
            "Detailing the halted configs now.\n",
            "Accepted at  ('Fq0', 10, '........XY#FFFFFXY', 25)\n",
            " via .. \n",
            " ->('IqR0', 0, 'ab#bbbbbab', 150)\n",
            " ->('qX0', 1, 'Xb#bbbbbab', 149)\n",
            " ->('qX0', 2, 'Xb#bbbbbab', 148)\n",
            " ->('qX1', 3, 'Xb#bbbbbab', 147)\n",
            " ->('qI0', 2, 'Xb#bbbbbab', 146)\n",
            " ->('qI1', 3, 'Xb#bbbbbab', 145)\n",
            " ->('qI2', 2, 'Xb#Fbbbbab', 144)\n",
            " ->('qI3', 1, 'Xb#Fbbbbab', 143)\n",
            " ->('qI3', 0, 'Xb#Fbbbbab', 142)\n",
            " ->('qI3', 7, '........ab#Fbbbbab', 141)\n",
            " ->('IqR0', 8, '........ab#Fbbbbab', 140)\n",
            " ->('qX0', 9, '........Xb#Fbbbbab', 139)\n",
            " ->('qX0', 10, '........Xb#Fbbbbab', 138)\n",
            " ->('qX1', 11, '........Xb#Fbbbbab', 137)\n",
            " ->('qX1', 12, '........Xb#Fbbbbab', 136)\n",
            " ->('qI0', 11, '........Xb#Fbbbbab', 135)\n",
            " ->('qI0', 10, '........Xb#Fbbbbab', 134)\n",
            " ->('qI1', 11, '........Xb#Fbbbbab', 133)\n",
            " ->('qI1', 12, '........Xb#Fbbbbab', 132)\n",
            " ->('qI2', 11, '........Xb#FFbbbab', 131)\n",
            " ->('qI2', 10, '........Xb#FFbbbab', 130)\n",
            " ->('qI3', 9, '........Xb#FFbbbab', 129)\n",
            " ->('qI3', 8, '........Xb#FFbbbab', 128)\n",
            " ->('qI3', 7, '........ab#FFbbbab', 127)\n",
            " ->('IqR0', 8, '........ab#FFbbbab', 126)\n",
            " ->('qX0', 9, '........Xb#FFbbbab', 125)\n",
            " ->('qX0', 10, '........Xb#FFbbbab', 124)\n",
            " ->('qX1', 11, '........Xb#FFbbbab', 123)\n",
            " ->('qX1', 12, '........Xb#FFbbbab', 122)\n",
            " ->('qX1', 13, '........Xb#FFbbbab', 121)\n",
            " ->('qI0', 12, '........Xb#FFbbbab', 120)\n",
            " ->('qI0', 11, '........Xb#FFbbbab', 119)\n",
            " ->('qI0', 10, '........Xb#FFbbbab', 118)\n",
            " ->('qI1', 11, '........Xb#FFbbbab', 117)\n",
            " ->('qI1', 12, '........Xb#FFbbbab', 116)\n",
            " ->('qI1', 13, '........Xb#FFbbbab', 115)\n",
            " ->('qI2', 12, '........Xb#FFFbbab', 114)\n",
            " ->('qI2', 11, '........Xb#FFFbbab', 113)\n",
            " ->('qI2', 10, '........Xb#FFFbbab', 112)\n",
            " ->('qI3', 9, '........Xb#FFFbbab', 111)\n",
            " ->('qI3', 8, '........Xb#FFFbbab', 110)\n",
            " ->('qI3', 7, '........ab#FFFbbab', 109)\n",
            " ->('IqR0', 8, '........ab#FFFbbab', 108)\n",
            " ->('qX0', 9, '........Xb#FFFbbab', 107)\n",
            " ->('qX0', 10, '........Xb#FFFbbab', 106)\n",
            " ->('qX1', 11, '........Xb#FFFbbab', 105)\n",
            " ->('qX1', 12, '........Xb#FFFbbab', 104)\n",
            " ->('qX1', 13, '........Xb#FFFbbab', 103)\n",
            " ->('qX1', 14, '........Xb#FFFbbab', 102)\n",
            " ->('qI0', 13, '........Xb#FFFbbab', 101)\n",
            " ->('qI0', 12, '........Xb#FFFbbab', 100)\n",
            " ->('qI0', 11, '........Xb#FFFbbab', 99)\n",
            " ->('qI0', 10, '........Xb#FFFbbab', 98)\n",
            " ->('qI1', 11, '........Xb#FFFbbab', 97)\n",
            " ->('qI1', 12, '........Xb#FFFbbab', 96)\n",
            " ->('qI1', 13, '........Xb#FFFbbab', 95)\n",
            " ->('qI1', 14, '........Xb#FFFbbab', 94)\n",
            " ->('qI2', 13, '........Xb#FFFFbab', 93)\n",
            " ->('qI2', 12, '........Xb#FFFFbab', 92)\n",
            " ->('qI2', 11, '........Xb#FFFFbab', 91)\n",
            " ->('qI2', 10, '........Xb#FFFFbab', 90)\n",
            " ->('qI3', 9, '........Xb#FFFFbab', 89)\n",
            " ->('qI3', 8, '........Xb#FFFFbab', 88)\n",
            " ->('qI3', 7, '........ab#FFFFbab', 87)\n",
            " ->('IqR0', 8, '........ab#FFFFbab', 86)\n",
            " ->('qX0', 9, '........Xb#FFFFbab', 85)\n",
            " ->('qX0', 10, '........Xb#FFFFbab', 84)\n",
            " ->('qX1', 11, '........Xb#FFFFbab', 83)\n",
            " ->('qX1', 12, '........Xb#FFFFbab', 82)\n",
            " ->('qX1', 13, '........Xb#FFFFbab', 81)\n",
            " ->('qX1', 14, '........Xb#FFFFbab', 80)\n",
            " ->('qX1', 15, '........Xb#FFFFbab', 79)\n",
            " ->('qI0', 14, '........Xb#FFFFbab', 78)\n",
            " ->('qI0', 13, '........Xb#FFFFbab', 77)\n",
            " ->('qI0', 12, '........Xb#FFFFbab', 76)\n",
            " ->('qI0', 11, '........Xb#FFFFbab', 75)\n",
            " ->('qI0', 10, '........Xb#FFFFbab', 74)\n",
            " ->('qI1', 11, '........Xb#FFFFbab', 73)\n",
            " ->('qI1', 12, '........Xb#FFFFbab', 72)\n",
            " ->('qI1', 13, '........Xb#FFFFbab', 71)\n",
            " ->('qI1', 14, '........Xb#FFFFbab', 70)\n",
            " ->('qI1', 15, '........Xb#FFFFbab', 69)\n",
            " ->('qI2', 14, '........Xb#FFFFFab', 68)\n",
            " ->('qI2', 13, '........Xb#FFFFFab', 67)\n",
            " ->('qI2', 12, '........Xb#FFFFFab', 66)\n",
            " ->('qI2', 11, '........Xb#FFFFFab', 65)\n",
            " ->('qI2', 10, '........Xb#FFFFFab', 64)\n",
            " ->('qI3', 9, '........Xb#FFFFFab', 63)\n",
            " ->('qI3', 8, '........Xb#FFFFFab', 62)\n",
            " ->('qI3', 7, '........ab#FFFFFab', 61)\n",
            " ->('IqR0', 8, '........ab#FFFFFab', 60)\n",
            " ->('qX0', 9, '........Xb#FFFFFab', 59)\n",
            " ->('qX0', 10, '........Xb#FFFFFab', 58)\n",
            " ->('qX1', 11, '........Xb#FFFFFab', 57)\n",
            " ->('qX1', 12, '........Xb#FFFFFab', 56)\n",
            " ->('qX1', 13, '........Xb#FFFFFab', 55)\n",
            " ->('qX1', 14, '........Xb#FFFFFab', 54)\n",
            " ->('qX1', 15, '........Xb#FFFFFab', 53)\n",
            " ->('qX1', 16, '........Xb#FFFFFab', 52)\n",
            " ->('qV0', 15, '........Xb#FFFFFXb', 51)\n",
            " ->('qV0', 14, '........Xb#FFFFFXb', 50)\n",
            " ->('qV0', 13, '........Xb#FFFFFXb', 49)\n",
            " ->('qV0', 12, '........Xb#FFFFFXb', 48)\n",
            " ->('qV0', 11, '........Xb#FFFFFXb', 47)\n",
            " ->('qV0', 10, '........Xb#FFFFFXb', 46)\n",
            " ->('qV1', 9, '........Xb#FFFFFXb', 45)\n",
            " ->('qV1', 8, '........Xb#FFFFFXb', 44)\n",
            " ->('IqR0', 9, '........Xb#FFFFFXb', 43)\n",
            " ->('qY0', 10, '........XY#FFFFFXb', 42)\n",
            " ->('qY1', 11, '........XY#FFFFFXb', 41)\n",
            " ->('qY1', 12, '........XY#FFFFFXb', 40)\n",
            " ->('qY1', 13, '........XY#FFFFFXb', 39)\n",
            " ->('qY1', 14, '........XY#FFFFFXb', 38)\n",
            " ->('qY1', 15, '........XY#FFFFFXb', 37)\n",
            " ->('qY1', 16, '........XY#FFFFFXb', 36)\n",
            " ->('qY1', 17, '........XY#FFFFFXb', 35)\n",
            " ->('qV0', 16, '........XY#FFFFFXY', 34)\n",
            " ->('qV0', 15, '........XY#FFFFFXY', 33)\n",
            " ->('qV0', 14, '........XY#FFFFFXY', 32)\n",
            " ->('qV0', 13, '........XY#FFFFFXY', 31)\n",
            " ->('qV0', 12, '........XY#FFFFFXY', 30)\n",
            " ->('qV0', 11, '........XY#FFFFFXY', 29)\n",
            " ->('qV0', 10, '........XY#FFFFFXY', 28)\n",
            " ->('qV1', 9, '........XY#FFFFFXY', 27)\n",
            " ->('IqR0', 10, '........XY#FFFFFXY', 26)\n",
            " ->('Fq0', 10, '........XY#FFFFFXY', 25)\n"
          ]
        }
      ],
      "source": [
        "# Test 2\n",
        "explore_tm(Asg6DTM, \"ab#bbbbbab\",150)"
      ]
    },
    {
      "cell_type": "code",
      "execution_count": 30,
      "metadata": {
        "id": "YtbPqIcIukKl",
        "outputId": "65c32a9d-3c51-462f-9ee3-5e5a348d8b03",
        "colab": {
          "base_uri": "https://localhost:8080/"
        }
      },
      "outputs": [
        {
          "output_type": "stream",
          "name": "stdout",
          "text": [
            "Allocating  8  tape cells to the LEFT!\n",
            "Detailing the halted configs now.\n",
            "Accepted at  ('Fq0', 10, '........YX#FFFFYXb', 11)\n",
            " via .. \n",
            " ->('IqR0', 0, 'ba#bbbbbab', 150)\n",
            " ->('qY0', 1, 'Ya#bbbbbab', 149)\n",
            " ->('qY0', 2, 'Ya#bbbbbab', 148)\n",
            " ->('qY1', 3, 'Ya#bbbbbab', 147)\n",
            " ->('qV0', 2, 'Ya#Ybbbbab', 146)\n",
            " ->('qV1', 1, 'Ya#Ybbbbab', 145)\n",
            " ->('qV1', 0, 'Ya#Ybbbbab', 144)\n",
            " ->('IqR0', 1, 'Ya#Ybbbbab', 143)\n",
            " ->('qX0', 2, 'YX#Ybbbbab', 142)\n",
            " ->('qX1', 3, 'YX#Ybbbbab', 141)\n",
            " ->('qX1', 4, 'YX#Ybbbbab', 140)\n",
            " ->('qI0', 3, 'YX#Ybbbbab', 139)\n",
            " ->('qI0', 2, 'YX#bbbbbab', 138)\n",
            " ->('qI1', 3, 'YX#bbbbbab', 137)\n",
            " ->('qI2', 2, 'YX#Fbbbbab', 136)\n",
            " ->('qI3', 1, 'YX#Fbbbbab', 135)\n",
            " ->('qI3', 0, 'Ya#Fbbbbab', 134)\n",
            " ->('qI3', 7, '........ba#Fbbbbab', 133)\n",
            " ->('IqR0', 8, '........ba#Fbbbbab', 132)\n",
            " ->('qY0', 9, '........Ya#Fbbbbab', 131)\n",
            " ->('qY0', 10, '........Ya#Fbbbbab', 130)\n",
            " ->('qY1', 11, '........Ya#Fbbbbab', 129)\n",
            " ->('qY1', 12, '........Ya#Fbbbbab', 128)\n",
            " ->('qV0', 11, '........Ya#FYbbbab', 127)\n",
            " ->('qV0', 10, '........Ya#FYbbbab', 126)\n",
            " ->('qV1', 9, '........Ya#FYbbbab', 125)\n",
            " ->('qV1', 8, '........Ya#FYbbbab', 124)\n",
            " ->('IqR0', 9, '........Ya#FYbbbab', 123)\n",
            " ->('qX0', 10, '........YX#FYbbbab', 122)\n",
            " ->('qX1', 11, '........YX#FYbbbab', 121)\n",
            " ->('qX1', 12, '........YX#FYbbbab', 120)\n",
            " ->('qX1', 13, '........YX#FYbbbab', 119)\n",
            " ->('qI0', 12, '........YX#FYbbbab', 118)\n",
            " ->('qI0', 11, '........YX#Fbbbbab', 117)\n",
            " ->('qI0', 10, '........YX#Fbbbbab', 116)\n",
            " ->('qI1', 11, '........YX#Fbbbbab', 115)\n",
            " ->('qI1', 12, '........YX#Fbbbbab', 114)\n",
            " ->('qI2', 11, '........YX#FFbbbab', 113)\n",
            " ->('qI2', 10, '........YX#FFbbbab', 112)\n",
            " ->('qI3', 9, '........YX#FFbbbab', 111)\n",
            " ->('qI3', 8, '........Ya#FFbbbab', 110)\n",
            " ->('qI3', 7, '........ba#FFbbbab', 109)\n",
            " ->('IqR0', 8, '........ba#FFbbbab', 108)\n",
            " ->('qY0', 9, '........Ya#FFbbbab', 107)\n",
            " ->('qY0', 10, '........Ya#FFbbbab', 106)\n",
            " ->('qY1', 11, '........Ya#FFbbbab', 105)\n",
            " ->('qY1', 12, '........Ya#FFbbbab', 104)\n",
            " ->('qY1', 13, '........Ya#FFbbbab', 103)\n",
            " ->('qV0', 12, '........Ya#FFYbbab', 102)\n",
            " ->('qV0', 11, '........Ya#FFYbbab', 101)\n",
            " ->('qV0', 10, '........Ya#FFYbbab', 100)\n",
            " ->('qV1', 9, '........Ya#FFYbbab', 99)\n",
            " ->('qV1', 8, '........Ya#FFYbbab', 98)\n",
            " ->('IqR0', 9, '........Ya#FFYbbab', 97)\n",
            " ->('qX0', 10, '........YX#FFYbbab', 96)\n",
            " ->('qX1', 11, '........YX#FFYbbab', 95)\n",
            " ->('qX1', 12, '........YX#FFYbbab', 94)\n",
            " ->('qX1', 13, '........YX#FFYbbab', 93)\n",
            " ->('qX1', 14, '........YX#FFYbbab', 92)\n",
            " ->('qI0', 13, '........YX#FFYbbab', 91)\n",
            " ->('qI0', 12, '........YX#FFbbbab', 90)\n",
            " ->('qI0', 11, '........YX#FFbbbab', 89)\n",
            " ->('qI0', 10, '........YX#FFbbbab', 88)\n",
            " ->('qI1', 11, '........YX#FFbbbab', 87)\n",
            " ->('qI1', 12, '........YX#FFbbbab', 86)\n",
            " ->('qI1', 13, '........YX#FFbbbab', 85)\n",
            " ->('qI2', 12, '........YX#FFFbbab', 84)\n",
            " ->('qI2', 11, '........YX#FFFbbab', 83)\n",
            " ->('qI2', 10, '........YX#FFFbbab', 82)\n",
            " ->('qI3', 9, '........YX#FFFbbab', 81)\n",
            " ->('qI3', 8, '........Ya#FFFbbab', 80)\n",
            " ->('qI3', 7, '........ba#FFFbbab', 79)\n",
            " ->('IqR0', 8, '........ba#FFFbbab', 78)\n",
            " ->('qY0', 9, '........Ya#FFFbbab', 77)\n",
            " ->('qY0', 10, '........Ya#FFFbbab', 76)\n",
            " ->('qY1', 11, '........Ya#FFFbbab', 75)\n",
            " ->('qY1', 12, '........Ya#FFFbbab', 74)\n",
            " ->('qY1', 13, '........Ya#FFFbbab', 73)\n",
            " ->('qY1', 14, '........Ya#FFFbbab', 72)\n",
            " ->('qV0', 13, '........Ya#FFFYbab', 71)\n",
            " ->('qV0', 12, '........Ya#FFFYbab', 70)\n",
            " ->('qV0', 11, '........Ya#FFFYbab', 69)\n",
            " ->('qV0', 10, '........Ya#FFFYbab', 68)\n",
            " ->('qV1', 9, '........Ya#FFFYbab', 67)\n",
            " ->('qV1', 8, '........Ya#FFFYbab', 66)\n",
            " ->('IqR0', 9, '........Ya#FFFYbab', 65)\n",
            " ->('qX0', 10, '........YX#FFFYbab', 64)\n",
            " ->('qX1', 11, '........YX#FFFYbab', 63)\n",
            " ->('qX1', 12, '........YX#FFFYbab', 62)\n",
            " ->('qX1', 13, '........YX#FFFYbab', 61)\n",
            " ->('qX1', 14, '........YX#FFFYbab', 60)\n",
            " ->('qX1', 15, '........YX#FFFYbab', 59)\n",
            " ->('qI0', 14, '........YX#FFFYbab', 58)\n",
            " ->('qI0', 13, '........YX#FFFbbab', 57)\n",
            " ->('qI0', 12, '........YX#FFFbbab', 56)\n",
            " ->('qI0', 11, '........YX#FFFbbab', 55)\n",
            " ->('qI0', 10, '........YX#FFFbbab', 54)\n",
            " ->('qI1', 11, '........YX#FFFbbab', 53)\n",
            " ->('qI1', 12, '........YX#FFFbbab', 52)\n",
            " ->('qI1', 13, '........YX#FFFbbab', 51)\n",
            " ->('qI1', 14, '........YX#FFFbbab', 50)\n",
            " ->('qI2', 13, '........YX#FFFFbab', 49)\n",
            " ->('qI2', 12, '........YX#FFFFbab', 48)\n",
            " ->('qI2', 11, '........YX#FFFFbab', 47)\n",
            " ->('qI2', 10, '........YX#FFFFbab', 46)\n",
            " ->('qI3', 9, '........YX#FFFFbab', 45)\n",
            " ->('qI3', 8, '........Ya#FFFFbab', 44)\n",
            " ->('qI3', 7, '........ba#FFFFbab', 43)\n",
            " ->('IqR0', 8, '........ba#FFFFbab', 42)\n",
            " ->('qY0', 9, '........Ya#FFFFbab', 41)\n",
            " ->('qY0', 10, '........Ya#FFFFbab', 40)\n",
            " ->('qY1', 11, '........Ya#FFFFbab', 39)\n",
            " ->('qY1', 12, '........Ya#FFFFbab', 38)\n",
            " ->('qY1', 13, '........Ya#FFFFbab', 37)\n",
            " ->('qY1', 14, '........Ya#FFFFbab', 36)\n",
            " ->('qY1', 15, '........Ya#FFFFbab', 35)\n",
            " ->('qV0', 14, '........Ya#FFFFYab', 34)\n",
            " ->('qV0', 13, '........Ya#FFFFYab', 33)\n",
            " ->('qV0', 12, '........Ya#FFFFYab', 32)\n",
            " ->('qV0', 11, '........Ya#FFFFYab', 31)\n",
            " ->('qV0', 10, '........Ya#FFFFYab', 30)\n",
            " ->('qV1', 9, '........Ya#FFFFYab', 29)\n",
            " ->('qV1', 8, '........Ya#FFFFYab', 28)\n",
            " ->('IqR0', 9, '........Ya#FFFFYab', 27)\n",
            " ->('qX0', 10, '........YX#FFFFYab', 26)\n",
            " ->('qX1', 11, '........YX#FFFFYab', 25)\n",
            " ->('qX1', 12, '........YX#FFFFYab', 24)\n",
            " ->('qX1', 13, '........YX#FFFFYab', 23)\n",
            " ->('qX1', 14, '........YX#FFFFYab', 22)\n",
            " ->('qX1', 15, '........YX#FFFFYab', 21)\n",
            " ->('qX1', 16, '........YX#FFFFYab', 20)\n",
            " ->('qV0', 15, '........YX#FFFFYXb', 19)\n",
            " ->('qV0', 14, '........YX#FFFFYXb', 18)\n",
            " ->('qV0', 13, '........YX#FFFFYXb', 17)\n",
            " ->('qV0', 12, '........YX#FFFFYXb', 16)\n",
            " ->('qV0', 11, '........YX#FFFFYXb', 15)\n",
            " ->('qV0', 10, '........YX#FFFFYXb', 14)\n",
            " ->('qV1', 9, '........YX#FFFFYXb', 13)\n",
            " ->('IqR0', 10, '........YX#FFFFYXb', 12)\n",
            " ->('Fq0', 10, '........YX#FFFFYXb', 11)\n"
          ]
        }
      ],
      "source": [
        "# Test 3\n",
        "explore_tm(Asg6DTM, \"ba#bbbbbab\",150)"
      ]
    },
    {
      "cell_type": "code",
      "execution_count": 31,
      "metadata": {
        "id": "qN3IVwQWulIl",
        "outputId": "33c6bc23-90ca-484c-f01c-880eeb77c63d",
        "colab": {
          "base_uri": "https://localhost:8080/"
        }
      },
      "outputs": [
        {
          "output_type": "stream",
          "name": "stdout",
          "text": [
            "Allocating  8  tape cells to the LEFT!\n",
            "Detailing the halted configs now.\n",
            "Accepted at  ('Fq0', 11, '........YYY#FFFYYYa', 24)\n",
            " via .. \n",
            " ->('IqR0', 0, 'bbb#bbabbba', 150)\n",
            " ->('qY0', 1, 'Ybb#bbabbba', 149)\n",
            " ->('qY0', 2, 'Ybb#bbabbba', 148)\n",
            " ->('qY0', 3, 'Ybb#bbabbba', 147)\n",
            " ->('qY1', 4, 'Ybb#bbabbba', 146)\n",
            " ->('qV0', 3, 'Ybb#Ybabbba', 145)\n",
            " ->('qV1', 2, 'Ybb#Ybabbba', 144)\n",
            " ->('qV1', 1, 'Ybb#Ybabbba', 143)\n",
            " ->('qV1', 0, 'Ybb#Ybabbba', 142)\n",
            " ->('IqR0', 1, 'Ybb#Ybabbba', 141)\n",
            " ->('qY0', 2, 'YYb#Ybabbba', 140)\n",
            " ->('qY0', 3, 'YYb#Ybabbba', 139)\n",
            " ->('qY1', 4, 'YYb#Ybabbba', 138)\n",
            " ->('qY1', 5, 'YYb#Ybabbba', 137)\n",
            " ->('qV0', 4, 'YYb#YYabbba', 136)\n",
            " ->('qV0', 3, 'YYb#YYabbba', 135)\n",
            " ->('qV1', 2, 'YYb#YYabbba', 134)\n",
            " ->('qV1', 1, 'YYb#YYabbba', 133)\n",
            " ->('IqR0', 2, 'YYb#YYabbba', 132)\n",
            " ->('qY0', 3, 'YYY#YYabbba', 131)\n",
            " ->('qY1', 4, 'YYY#YYabbba', 130)\n",
            " ->('qY1', 5, 'YYY#YYabbba', 129)\n",
            " ->('qY1', 6, 'YYY#YYabbba', 128)\n",
            " ->('qI0', 5, 'YYY#YYabbba', 127)\n",
            " ->('qI0', 4, 'YYY#Ybabbba', 126)\n",
            " ->('qI0', 3, 'YYY#bbabbba', 125)\n",
            " ->('qI1', 4, 'YYY#bbabbba', 124)\n",
            " ->('qI2', 3, 'YYY#Fbabbba', 123)\n",
            " ->('qI3', 2, 'YYY#Fbabbba', 122)\n",
            " ->('qI3', 1, 'YYb#Fbabbba', 121)\n",
            " ->('qI3', 0, 'Ybb#Fbabbba', 120)\n",
            " ->('qI3', 7, '........bbb#Fbabbba', 119)\n",
            " ->('IqR0', 8, '........bbb#Fbabbba', 118)\n",
            " ->('qY0', 9, '........Ybb#Fbabbba', 117)\n",
            " ->('qY0', 10, '........Ybb#Fbabbba', 116)\n",
            " ->('qY0', 11, '........Ybb#Fbabbba', 115)\n",
            " ->('qY1', 12, '........Ybb#Fbabbba', 114)\n",
            " ->('qY1', 13, '........Ybb#Fbabbba', 113)\n",
            " ->('qV0', 12, '........Ybb#FYabbba', 112)\n",
            " ->('qV0', 11, '........Ybb#FYabbba', 111)\n",
            " ->('qV1', 10, '........Ybb#FYabbba', 110)\n",
            " ->('qV1', 9, '........Ybb#FYabbba', 109)\n",
            " ->('qV1', 8, '........Ybb#FYabbba', 108)\n",
            " ->('IqR0', 9, '........Ybb#FYabbba', 107)\n",
            " ->('qY0', 10, '........YYb#FYabbba', 106)\n",
            " ->('qY0', 11, '........YYb#FYabbba', 105)\n",
            " ->('qY1', 12, '........YYb#FYabbba', 104)\n",
            " ->('qY1', 13, '........YYb#FYabbba', 103)\n",
            " ->('qY1', 14, '........YYb#FYabbba', 102)\n",
            " ->('qI0', 13, '........YYb#FYabbba', 101)\n",
            " ->('qI0', 12, '........YYb#Fbabbba', 100)\n",
            " ->('qI0', 11, '........YYb#Fbabbba', 99)\n",
            " ->('qI1', 12, '........YYb#Fbabbba', 98)\n",
            " ->('qI1', 13, '........YYb#Fbabbba', 97)\n",
            " ->('qI2', 12, '........YYb#FFabbba', 96)\n",
            " ->('qI2', 11, '........YYb#FFabbba', 95)\n",
            " ->('qI3', 10, '........YYb#FFabbba', 94)\n",
            " ->('qI3', 9, '........YYb#FFabbba', 93)\n",
            " ->('qI3', 8, '........Ybb#FFabbba', 92)\n",
            " ->('qI3', 7, '........bbb#FFabbba', 91)\n",
            " ->('IqR0', 8, '........bbb#FFabbba', 90)\n",
            " ->('qY0', 9, '........Ybb#FFabbba', 89)\n",
            " ->('qY0', 10, '........Ybb#FFabbba', 88)\n",
            " ->('qY0', 11, '........Ybb#FFabbba', 87)\n",
            " ->('qY1', 12, '........Ybb#FFabbba', 86)\n",
            " ->('qY1', 13, '........Ybb#FFabbba', 85)\n",
            " ->('qY1', 14, '........Ybb#FFabbba', 84)\n",
            " ->('qI0', 13, '........Ybb#FFabbba', 83)\n",
            " ->('qI0', 12, '........Ybb#FFabbba', 82)\n",
            " ->('qI0', 11, '........Ybb#FFabbba', 81)\n",
            " ->('qI1', 12, '........Ybb#FFabbba', 80)\n",
            " ->('qI1', 13, '........Ybb#FFabbba', 79)\n",
            " ->('qI1', 14, '........Ybb#FFabbba', 78)\n",
            " ->('qI2', 13, '........Ybb#FFFbbba', 77)\n",
            " ->('qI2', 12, '........Ybb#FFFbbba', 76)\n",
            " ->('qI2', 11, '........Ybb#FFFbbba', 75)\n",
            " ->('qI3', 10, '........Ybb#FFFbbba', 74)\n",
            " ->('qI3', 9, '........Ybb#FFFbbba', 73)\n",
            " ->('qI3', 8, '........Ybb#FFFbbba', 72)\n",
            " ->('qI3', 7, '........bbb#FFFbbba', 71)\n",
            " ->('IqR0', 8, '........bbb#FFFbbba', 70)\n",
            " ->('qY0', 9, '........Ybb#FFFbbba', 69)\n",
            " ->('qY0', 10, '........Ybb#FFFbbba', 68)\n",
            " ->('qY0', 11, '........Ybb#FFFbbba', 67)\n",
            " ->('qY1', 12, '........Ybb#FFFbbba', 66)\n",
            " ->('qY1', 13, '........Ybb#FFFbbba', 65)\n",
            " ->('qY1', 14, '........Ybb#FFFbbba', 64)\n",
            " ->('qY1', 15, '........Ybb#FFFbbba', 63)\n",
            " ->('qV0', 14, '........Ybb#FFFYbba', 62)\n",
            " ->('qV0', 13, '........Ybb#FFFYbba', 61)\n",
            " ->('qV0', 12, '........Ybb#FFFYbba', 60)\n",
            " ->('qV0', 11, '........Ybb#FFFYbba', 59)\n",
            " ->('qV1', 10, '........Ybb#FFFYbba', 58)\n",
            " ->('qV1', 9, '........Ybb#FFFYbba', 57)\n",
            " ->('qV1', 8, '........Ybb#FFFYbba', 56)\n",
            " ->('IqR0', 9, '........Ybb#FFFYbba', 55)\n",
            " ->('qY0', 10, '........YYb#FFFYbba', 54)\n",
            " ->('qY0', 11, '........YYb#FFFYbba', 53)\n",
            " ->('qY1', 12, '........YYb#FFFYbba', 52)\n",
            " ->('qY1', 13, '........YYb#FFFYbba', 51)\n",
            " ->('qY1', 14, '........YYb#FFFYbba', 50)\n",
            " ->('qY1', 15, '........YYb#FFFYbba', 49)\n",
            " ->('qY1', 16, '........YYb#FFFYbba', 48)\n",
            " ->('qV0', 15, '........YYb#FFFYYba', 47)\n",
            " ->('qV0', 14, '........YYb#FFFYYba', 46)\n",
            " ->('qV0', 13, '........YYb#FFFYYba', 45)\n",
            " ->('qV0', 12, '........YYb#FFFYYba', 44)\n",
            " ->('qV0', 11, '........YYb#FFFYYba', 43)\n",
            " ->('qV1', 10, '........YYb#FFFYYba', 42)\n",
            " ->('qV1', 9, '........YYb#FFFYYba', 41)\n",
            " ->('IqR0', 10, '........YYb#FFFYYba', 40)\n",
            " ->('qY0', 11, '........YYY#FFFYYba', 39)\n",
            " ->('qY1', 12, '........YYY#FFFYYba', 38)\n",
            " ->('qY1', 13, '........YYY#FFFYYba', 37)\n",
            " ->('qY1', 14, '........YYY#FFFYYba', 36)\n",
            " ->('qY1', 15, '........YYY#FFFYYba', 35)\n",
            " ->('qY1', 16, '........YYY#FFFYYba', 34)\n",
            " ->('qY1', 17, '........YYY#FFFYYba', 33)\n",
            " ->('qV0', 16, '........YYY#FFFYYYa', 32)\n",
            " ->('qV0', 15, '........YYY#FFFYYYa', 31)\n",
            " ->('qV0', 14, '........YYY#FFFYYYa', 30)\n",
            " ->('qV0', 13, '........YYY#FFFYYYa', 29)\n",
            " ->('qV0', 12, '........YYY#FFFYYYa', 28)\n",
            " ->('qV0', 11, '........YYY#FFFYYYa', 27)\n",
            " ->('qV1', 10, '........YYY#FFFYYYa', 26)\n",
            " ->('IqR0', 11, '........YYY#FFFYYYa', 25)\n",
            " ->('Fq0', 11, '........YYY#FFFYYYa', 24)\n"
          ]
        }
      ],
      "source": [
        "# Test 4\n",
        "explore_tm(Asg6DTM, \"bbb#bbabbba\",150)"
      ]
    },
    {
      "cell_type": "code",
      "execution_count": 33,
      "metadata": {
        "id": "j9kLvJBvumNO",
        "outputId": "47c63081-7383-49d7-e0e5-1b048cfa1c5d",
        "colab": {
          "base_uri": "https://localhost:8080/"
        }
      },
      "outputs": [
        {
          "output_type": "stream",
          "name": "stdout",
          "text": [
            "Allocating  8  tape cells to the LEFT!\n",
            "Detailing the halted configs now.\n",
            "Accepted at  ('Fq0', 10, '........XX#FFXXbbaa', 3)\n",
            " via .. \n",
            " ->('IqR0', 0, 'aa#bbaabbaa', 50)\n",
            " ->('qX0', 1, 'Xa#bbaabbaa', 49)\n",
            " ->('qX0', 2, 'Xa#bbaabbaa', 48)\n",
            " ->('qX1', 3, 'Xa#bbaabbaa', 47)\n",
            " ->('qI0', 2, 'Xa#bbaabbaa', 46)\n",
            " ->('qI1', 3, 'Xa#bbaabbaa', 45)\n",
            " ->('qI2', 2, 'Xa#Fbaabbaa', 44)\n",
            " ->('qI3', 1, 'Xa#Fbaabbaa', 43)\n",
            " ->('qI3', 0, 'Xa#Fbaabbaa', 42)\n",
            " ->('qI3', 7, '........aa#Fbaabbaa', 41)\n",
            " ->('IqR0', 8, '........aa#Fbaabbaa', 40)\n",
            " ->('qX0', 9, '........Xa#Fbaabbaa', 39)\n",
            " ->('qX0', 10, '........Xa#Fbaabbaa', 38)\n",
            " ->('qX1', 11, '........Xa#Fbaabbaa', 37)\n",
            " ->('qX1', 12, '........Xa#Fbaabbaa', 36)\n",
            " ->('qI0', 11, '........Xa#Fbaabbaa', 35)\n",
            " ->('qI0', 10, '........Xa#Fbaabbaa', 34)\n",
            " ->('qI1', 11, '........Xa#Fbaabbaa', 33)\n",
            " ->('qI1', 12, '........Xa#Fbaabbaa', 32)\n",
            " ->('qI2', 11, '........Xa#FFaabbaa', 31)\n",
            " ->('qI2', 10, '........Xa#FFaabbaa', 30)\n",
            " ->('qI3', 9, '........Xa#FFaabbaa', 29)\n",
            " ->('qI3', 8, '........Xa#FFaabbaa', 28)\n",
            " ->('qI3', 7, '........aa#FFaabbaa', 27)\n",
            " ->('IqR0', 8, '........aa#FFaabbaa', 26)\n",
            " ->('qX0', 9, '........Xa#FFaabbaa', 25)\n",
            " ->('qX0', 10, '........Xa#FFaabbaa', 24)\n",
            " ->('qX1', 11, '........Xa#FFaabbaa', 23)\n",
            " ->('qX1', 12, '........Xa#FFaabbaa', 22)\n",
            " ->('qX1', 13, '........Xa#FFaabbaa', 21)\n",
            " ->('qV0', 12, '........Xa#FFXabbaa', 20)\n",
            " ->('qV0', 11, '........Xa#FFXabbaa', 19)\n",
            " ->('qV0', 10, '........Xa#FFXabbaa', 18)\n",
            " ->('qV1', 9, '........Xa#FFXabbaa', 17)\n",
            " ->('qV1', 8, '........Xa#FFXabbaa', 16)\n",
            " ->('IqR0', 9, '........Xa#FFXabbaa', 15)\n",
            " ->('qX0', 10, '........XX#FFXabbaa', 14)\n",
            " ->('qX1', 11, '........XX#FFXabbaa', 13)\n",
            " ->('qX1', 12, '........XX#FFXabbaa', 12)\n",
            " ->('qX1', 13, '........XX#FFXabbaa', 11)\n",
            " ->('qX1', 14, '........XX#FFXabbaa', 10)\n",
            " ->('qV0', 13, '........XX#FFXXbbaa', 9)\n",
            " ->('qV0', 12, '........XX#FFXXbbaa', 8)\n",
            " ->('qV0', 11, '........XX#FFXXbbaa', 7)\n",
            " ->('qV0', 10, '........XX#FFXXbbaa', 6)\n",
            " ->('qV1', 9, '........XX#FFXXbbaa', 5)\n",
            " ->('IqR0', 10, '........XX#FFXXbbaa', 4)\n",
            " ->('Fq0', 10, '........XX#FFXXbbaa', 3)\n"
          ]
        }
      ],
      "source": [
        "# Test 5\n",
        "explore_tm(Asg6DTM, \"aa#bbaabbaa\",50)"
      ]
    },
    {
      "cell_type": "markdown",
      "metadata": {
        "id": "-RL2-xKKus2t"
      },
      "source": [
        "## Question 2 (50 points):\n"
      ]
    },
    {
      "cell_type": "markdown",
      "metadata": {
        "id": "-9-btsyEu-QE"
      },
      "source": [
        "-  Design a non-deterministic Turing machine (NDTM) over the input alphabet Σ = {a, b, #} for the language of all strings of the form w#x where w, x ∈ {a, b}∗ and w is a substring of x. See the definition of substring here: https://en.wikipedia.org/wiki/Substring\n",
        "\n",
        "- You must design a non-deterministic Turing machine—i.e., not design a DTM and call it an NDTM. You must employ a distinct phase of taking a guess (indicating it via your comments) and check the guess. A correct design will have a nondeterministic polynomial runtime, which means once the guess is made, only a polynomial zig-zag search must be involved to confirm the guess.\n",
        "\n",
        "- More specifically, you will start the search at a random spot in x, and just do one comparison of w with \"x beginning at that spot\" and find that w is embedded within x beginning at that point. If it fails, you just block in a reject state. (Other non-deterministic options will search out other x-beginnings).\n",
        "\n",
        "- You don't need to do any error-checks of user input. Assume that the user never gave anything outside of the above $\\Sigma$ in their input.\n",
        "\n",
        "- Add 5 tests on your own.\n",
        "\n",
        "* The TM design fetches *25 points* for a well-documented TM\n",
        "\n",
        "* The given tests passing fetches 3 points each - *total 15 points*\n",
        "\n",
        "* Each test you add fetches 2 points each - *total 10 points*\n",
        "\n",
        "* Strive to make three of your tests involve input strings of length 10 or more (to avoid having entirely short tests)"
      ]
    },
    {
      "cell_type": "code",
      "execution_count": null,
      "metadata": {
        "id": "YVJPnI8Su4WV"
      },
      "outputs": [],
      "source": [
        "# w#x NDTM\n",
        "Asg6NDTM = md2mc('''TM\n",
        "''')\n"
      ]
    },
    {
      "cell_type": "markdown",
      "metadata": {
        "id": "T3UKEXrpvZhd"
      },
      "source": [
        "### Test Cases: The \"fuel\" argument of 50 may be increased as needed (start with 50 and that is good if all tests finish)"
      ]
    },
    {
      "cell_type": "code",
      "execution_count": null,
      "metadata": {
        "id": "Eyt2gsjGvbjc"
      },
      "outputs": [],
      "source": [
        "explore_tm(Asg6NDTM, \"aba#aba\",50)"
      ]
    },
    {
      "cell_type": "code",
      "execution_count": null,
      "metadata": {
        "id": "ZPT-VhPMvXD4"
      },
      "outputs": [],
      "source": [
        "explore_tm(Asg6NDTM, \"aba#ab\",50)"
      ]
    },
    {
      "cell_type": "code",
      "execution_count": null,
      "metadata": {
        "id": "D7JxmSr4vdhk"
      },
      "outputs": [],
      "source": [
        "explore_tm(Asg6NDTM, \"aba#baba\",50)"
      ]
    },
    {
      "cell_type": "code",
      "execution_count": null,
      "metadata": {
        "id": "MLeHFI96vfd_"
      },
      "outputs": [],
      "source": [
        "explore_tm(Asg6NDTM, \"aba#babba\",50)"
      ]
    },
    {
      "cell_type": "code",
      "execution_count": null,
      "metadata": {
        "id": "KEHx2p6PvhDO"
      },
      "outputs": [],
      "source": [
        "explore_tm(Asg6NDTM, \"bba#bbabba\",50)"
      ]
    },
    {
      "cell_type": "markdown",
      "metadata": {
        "id": "IRAFeBn7vjHP"
      },
      "source": [
        "### 5 Test Cases You Add"
      ]
    },
    {
      "cell_type": "code",
      "execution_count": null,
      "metadata": {
        "id": "FbpeX8ADvmVQ"
      },
      "outputs": [],
      "source": [
        "# Test 1\n",
        "explore_tm(Asg6DTM, \"abb#ababb\",50)"
      ]
    },
    {
      "cell_type": "code",
      "execution_count": null,
      "metadata": {
        "id": "dGXDBQHNvmgu"
      },
      "outputs": [],
      "source": [
        "# Test 2\n",
        "explore_tm(Asg6DTM, \"ab#bbbbbab\",50)"
      ]
    },
    {
      "cell_type": "code",
      "execution_count": null,
      "metadata": {
        "id": "F_59X_C2vmn0"
      },
      "outputs": [],
      "source": [
        "# Test 3\n",
        "explore_tm(Asg6DTM, \"ba#bbbbbab\",50)"
      ]
    },
    {
      "cell_type": "code",
      "execution_count": null,
      "metadata": {
        "id": "sAGW1XytvmvL"
      },
      "outputs": [],
      "source": [
        "# Test 4\n",
        "explore_tm(Asg6DTM, \"bbb#bbabbba\",50)"
      ]
    },
    {
      "cell_type": "code",
      "execution_count": null,
      "metadata": {
        "id": "WY_x56U8vm4z"
      },
      "outputs": [],
      "source": [
        "# Test 5\n",
        "explore_tm(Asg6DTM, \"aa#bbaabbaa\",50)"
      ]
    },
    {
      "cell_type": "markdown",
      "metadata": {
        "id": "lOH0x8cy7AuI"
      },
      "source": [
        "# END\n"
      ]
    }
  ],
  "metadata": {
    "colab": {
      "provenance": []
    },
    "kernelspec": {
      "display_name": "Python 3",
      "language": "python",
      "name": "python3"
    },
    "language_info": {
      "codemirror_mode": {
        "name": "ipython",
        "version": 3
      },
      "file_extension": ".py",
      "mimetype": "text/x-python",
      "name": "python",
      "nbconvert_exporter": "python",
      "pygments_lexer": "ipython3",
      "version": "3.8.5"
    },
    "toc": {
      "colors": {
        "hover_highlight": "#DAA520",
        "running_highlight": "#FF0000",
        "selected_highlight": "#FFD700"
      },
      "moveMenuLeft": true,
      "nav_menu": {
        "height": "121px",
        "width": "252px"
      },
      "navigate_menu": true,
      "number_sections": true,
      "sideBar": true,
      "threshold": 4,
      "toc_cell": false,
      "toc_section_display": "block",
      "toc_window_display": false,
      "widenNotebook": false
    }
  },
  "nbformat": 4,
  "nbformat_minor": 0
}