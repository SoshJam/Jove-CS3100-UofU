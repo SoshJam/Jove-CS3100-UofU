{
  "cells": [
    {
      "cell_type": "markdown",
      "metadata": {
        "run_control": {
          "frozen": false,
          "read_only": false
        },
        "id": "g85OHR7s6lhL"
      },
      "source": [
        "# Asg starter\n",
        "\n",
        "## This is a more realistic calculator with registers where you can store values. Please be studying the code of this calculator well, as I may ask things about it in Midterm-2.\n",
        "\n",
        "## Add the successor operator, represented by ```!```. Note that ```!``` is not factorial for us here.\n",
        "## Examples:\n",
        "\n",
        "* !3 = 4\n",
        "* !!3 = 5\n",
        "* 3 + 3 * !!!3 = 21\n",
        "* 3 * !!3 + !!3 * !!!3 = 45\n",
        "\n",
        "### In general, !expression obtains the successor of the expression\n",
        "\n",
        "### You should generate a token \"SUCC\" corresponding to \"!\"\n",
        "\n",
        "### Then modify p_expression_succ\n",
        "\n",
        "### For your convenience, I've provided comments on where to add the changes\n",
        "\n",
        "### (since you all don't know Python)\n",
        "\n",
        "# Look for <== below !!\n",
        "\n",
        "\n",
        "* Build your own calculator\n",
        "  - The code is adapted slightly from https://www.dabeaz.com/ply/example.html\n",
        "\n",
        "  - further seal knowledge of lexers (RE based) and parsers (CFG based) in your minds"
      ]
    },
    {
      "cell_type": "markdown",
      "source": [
        "# What to submit\n",
        "* Run the notebook without any code additions, and you'll see a dialog box pop-up\n",
        "* You can do things like 4+5 which will work\n",
        "*  The dialog-box is ended by typing END as you can see in the test loop\n",
        "* If you do !4, it will throw an error (Illegal character) as the lexer has no idea what ! means\n",
        "* If you run the tests after the dialog box, most of those tests will fail\n",
        "* Take a screenshot of THESE TESTS FAILING, i.e. the test after the \"test_strings =...\" definition\n",
        "* Call this screenshot-1.png (say) and convert to screenshot-1.pdf\n",
        "\n",
        "* ---\n",
        "\n",
        "* Now do the code changes marked to add SUCC . Follow my comments\n",
        "* Now if you run the code, it will calculate 4+5 as before, but also !4 will be computed as \"5\"\n",
        "* You can end the dialog box by typing END\n",
        "* Then all the succeding code will also run\n",
        "* Run all the succeeding code\n",
        "* Now all the tests after test_strings = ... will succeed\n",
        "* Take a screenshot of these tests succeeding - say screenshot-2.png converted to screenshot-2.pdf\n",
        "\n",
        "* ---\n",
        "\n",
        "##   Submit the finished notebook after the second run + the above two screenshots\n"
      ],
      "metadata": {
        "id": "VNpX5fgsy65e"
      }
    },
    {
      "cell_type": "code",
      "execution_count": 1,
      "metadata": {
        "run_control": {
          "frozen": false,
          "read_only": false
        },
        "id": "r0dnGEc76lhN",
        "outputId": "13218cb9-7190-489e-d520-80ec1e9c125f",
        "colab": {
          "base_uri": "https://localhost:8080/"
        }
      },
      "outputs": [
        {
          "output_type": "stream",
          "name": "stdout",
          "text": [
            "Cloning into 'Jove'...\n",
            "remote: Enumerating objects: 6709, done.\u001b[K\n",
            "remote: Counting objects: 100% (2075/2075), done.\u001b[K\n",
            "remote: Compressing objects: 100% (826/826), done.\u001b[K\n",
            "remote: Total 6709 (delta 1265), reused 1941 (delta 1169), pack-reused 4634 (from 1)\u001b[K\n",
            "Receiving objects: 100% (6709/6709), 10.59 MiB | 11.20 MiB/s, done.\n",
            "Resolving deltas: 100% (4270/4270), done.\n"
          ]
        }
      ],
      "source": [
        "import sys\n",
        "\n",
        "# -- Detect if in Own Install or in Colab\n",
        "try:\n",
        "    import google.colab\n",
        "    OWN_INSTALL = False\n",
        "except:\n",
        "    OWN_INSTALL = True\n",
        "\n",
        "if OWN_INSTALL:\n",
        "  #---- Leave these definitions ON if running on laptop\n",
        "  #---- Else turn OFF by putting them between ''' ... '''\n",
        "    sys.path[0:0] = ['../../../../..',  '../../../../../3rdparty',\n",
        "                   '../../../..',  '../../../../3rdparty',\n",
        "                   '../../..',     '../../../3rdparty',\n",
        "                   '../..',        '../../3rdparty',\n",
        "                   '..',           '../3rdparty' ]\n",
        "else: # In colab\n",
        "    ! if [ ! -d Jove ]; then git clone https://github.com/ganeshutah/Jove Jove; fi\n",
        "    sys.path.append('./Jove')\n",
        "    sys.path.append('./Jove/jove')\n",
        "\n",
        "# -- common imports --\n",
        "from jove.lex import lex\n",
        "from jove.yacc import yacc"
      ]
    },
    {
      "cell_type": "code",
      "execution_count": 6,
      "metadata": {
        "run_control": {
          "frozen": false,
          "read_only": false
        },
        "id": "_Qq9AVaG6lhO",
        "outputId": "daf803af-7574-4265-fe72-85feaf8847b0",
        "colab": {
          "base_uri": "https://localhost:8080/"
        }
      },
      "outputs": [
        {
          "output_type": "stream",
          "name": "stderr",
          "text": [
            "Generating LALR tables\n"
          ]
        },
        {
          "name": "stdout",
          "output_type": "stream",
          "text": [
            "calc > !5\n",
            "6\n",
            "calc > !!5\n",
            "7\n",
            "calc > !!!11\n",
            "14\n",
            "calc > END\n"
          ]
        }
      ],
      "source": [
        "tokens = (\n",
        "    'NAME','NUMBER',\n",
        "    'PLUS','MINUS','TIMES','DIVIDE','EQUALS',\n",
        "    'LPAREN','RPAREN','SUCC'                    # <== ADD the token 'SUCC'\n",
        "    )\n",
        "\n",
        "# Tokens\n",
        "\n",
        "t_PLUS    = r'\\+'\n",
        "t_MINUS   = r'-'\n",
        "t_TIMES   = r'\\*'\n",
        "t_DIVIDE  = r'/'\n",
        "t_EQUALS  = r'='\n",
        "t_LPAREN  = r'\\('\n",
        "t_RPAREN  = r'\\)'\n",
        "t_NAME    = r'[a-zA-Z_][a-zA-Z0-9_]*'\n",
        "t_SUCC    = r'!'                               # <== FIX this defn to generate token 'SUCC'\n",
        "\n",
        "def t_NUMBER(t):\n",
        "    r'\\d+'\n",
        "    try:\n",
        "        t.value = int(t.value)\n",
        "    except ValueError:\n",
        "        print(\"Integer value too large %d\", t.value)\n",
        "        t.value = 0\n",
        "    return t\n",
        "\n",
        "# Ignored characters\n",
        "t_ignore = \" \\t\"\n",
        "\n",
        "def t_newline(t):\n",
        "    r'\\n+'\n",
        "    t.lexer.lineno += t.value.count(\"\\n\")\n",
        "\n",
        "def t_error(t):\n",
        "    print(\"Illegal character '%s'\" % t.value[0])\n",
        "    t.lexer.skip(1)\n",
        "\n",
        "\n",
        "# Parsing rules\n",
        "\n",
        "precedence = (\n",
        "    ('left','PLUS','MINUS'),\n",
        "    ('left','TIMES','DIVIDE'),\n",
        "    ('right','UMINUS' ),\n",
        "    ('right','SUCC') #---                         <== add SUCC here with \"right\" for associativity\n",
        "    )\n",
        "\n",
        "# dictionary of names\n",
        "names = { }\n",
        "\n",
        "def p_statement_assign(t):\n",
        "    'statement : NAME EQUALS expression'\n",
        "    names[t[1]] = t[3]\n",
        "\n",
        "def p_statement_expr(t):\n",
        "    'statement : expression'\n",
        "    print(t[1])\n",
        "\n",
        "def p_expression_binop(t):\n",
        "    '''expression : expression PLUS expression\n",
        "                  | expression MINUS expression\n",
        "                  | expression TIMES expression\n",
        "                  | expression DIVIDE expression'''\n",
        "    if t[2] == '+'  : t[0] = t[1] + t[3]\n",
        "    elif t[2] == '-': t[0] = t[1] - t[3]\n",
        "    elif t[2] == '*': t[0] = t[1] * t[3]\n",
        "    elif t[2] == '/': t[0] = t[1] / t[3]\n",
        "\n",
        "def p_expression_uminus(t):\n",
        "    'expression : MINUS expression %prec UMINUS'\n",
        "    t[0] = -t[2]\n",
        "\n",
        "    #  def p_expression_succ(t): <=== DEFINE this function properly\n",
        "    #                     <===== WRITE a suitable grammar rule to handle SUCC\n",
        "    #                     <===== WRITE a suitable semantic action for SUCC\n",
        "\n",
        "def p_expression_succ(t):\n",
        "    'expression : SUCC expression'\n",
        "    t[0] = t[2] + 1\n",
        "\n",
        "def p_expression_group(t):\n",
        "    'expression : LPAREN expression RPAREN'\n",
        "    t[0] = t[2]\n",
        "\n",
        "def p_expression_number(t):\n",
        "    'expression : NUMBER'\n",
        "    t[0] = t[1]\n",
        "\n",
        "def p_expression_name(t):\n",
        "    'expression : NAME'\n",
        "    try:\n",
        "        t[0] = names[t[1]]\n",
        "    except LookupError:\n",
        "        print(\"Undefined name '%s'\" % t[1])\n",
        "        t[0] = 0\n",
        "\n",
        "def p_error(t):\n",
        "    print(\"Syntax error at '%s'\" % t.value)\n",
        "\n",
        "calclexer = lex()\n",
        "calcparser = yacc()\n",
        "\n",
        "while True:\n",
        "    try:\n",
        "        s = input('calc > ')   # Use raw_input on Python 2\n",
        "    except EOFError:\n",
        "        break\n",
        "    if (s=='END'):\n",
        "        break\n",
        "    calcparser.parse(s, lexer=calclexer)"
      ]
    },
    {
      "cell_type": "markdown",
      "metadata": {
        "id": "dSOOV9Uj6lhO"
      },
      "source": [
        "## If you implemented SUCC correctly, the test expression for SUCC (below) will work without errors.\n"
      ]
    },
    {
      "cell_type": "code",
      "execution_count": 7,
      "metadata": {
        "id": "m6OfQBz46lhP",
        "outputId": "fe88775d-223d-4dca-d2dd-b8d3506182d3",
        "colab": {
          "base_uri": "https://localhost:8080/"
        }
      },
      "outputs": [
        {
          "output_type": "stream",
          "name": "stdout",
          "text": [
            "45\n"
          ]
        }
      ],
      "source": [
        "calcparser.parse(\"3 * !!3 + !!3 * !!!3\", lexer=calclexer)"
      ]
    },
    {
      "cell_type": "markdown",
      "metadata": {
        "run_control": {
          "frozen": false,
          "read_only": false
        },
        "id": "LOWmMl5d6lhP"
      },
      "source": [
        "## Your output must resemble the above."
      ]
    },
    {
      "cell_type": "code",
      "execution_count": 8,
      "metadata": {
        "id": "w7qcdjE_6lhP"
      },
      "outputs": [],
      "source": [
        "test_strings = ['2+3', '2+!-3', '3 + 3 * -!!3 + !!3 * !!!-3', 'x=3', 'y=4', 'z=x+y', 'z', 'z=x+!y', 'z']"
      ]
    },
    {
      "cell_type": "code",
      "execution_count": 9,
      "metadata": {
        "id": "jWZiJxXv6lhQ",
        "outputId": "80b94dae-0167-412f-e157-f203fda6fb56",
        "colab": {
          "base_uri": "https://localhost:8080/"
        }
      },
      "outputs": [
        {
          "output_type": "stream",
          "name": "stdout",
          "text": [
            "5\n",
            "0\n",
            "-12\n",
            "7\n",
            "8\n"
          ]
        }
      ],
      "source": [
        "for s in test_strings:\n",
        "    calcparser.parse(s, lexer=calclexer)"
      ]
    },
    {
      "cell_type": "markdown",
      "metadata": {
        "id": "8ozHN9J56lhQ"
      },
      "source": [
        "# END"
      ]
    }
  ],
  "metadata": {
    "kernelspec": {
      "display_name": "Python 3",
      "language": "python",
      "name": "python3"
    },
    "language_info": {
      "codemirror_mode": {
        "name": "ipython",
        "version": 3
      },
      "file_extension": ".py",
      "mimetype": "text/x-python",
      "name": "python",
      "nbconvert_exporter": "python",
      "pygments_lexer": "ipython3",
      "version": "3.7.3"
    },
    "toc": {
      "colors": {
        "hover_highlight": "#DAA520",
        "running_highlight": "#FF0000",
        "selected_highlight": "#FFD700"
      },
      "moveMenuLeft": true,
      "nav_menu": {
        "height": "318px",
        "width": "252px"
      },
      "navigate_menu": true,
      "number_sections": true,
      "sideBar": true,
      "threshold": 4,
      "toc_cell": false,
      "toc_section_display": "block",
      "toc_window_display": false,
      "widenNotebook": false
    },
    "colab": {
      "provenance": []
    }
  },
  "nbformat": 4,
  "nbformat_minor": 0
}