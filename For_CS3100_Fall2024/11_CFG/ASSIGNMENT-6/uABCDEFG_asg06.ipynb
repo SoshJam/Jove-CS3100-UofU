{
  "cells": [
    {
      "cell_type": "markdown",
      "metadata": {
        "id": "view-in-github",
        "colab_type": "text"
      },
      "source": [
        "<a href=\"https://colab.research.google.com/github/ganeshutah/Jove/blob/master/For_CS3100_Fall2024/11_CFG/ASSIGNMENT-6/uABCDEFG_asg06.ipynb\" target=\"_parent\"><img src=\"https://colab.research.google.com/assets/colab-badge.svg\" alt=\"Open In Colab\"/></a>"
      ]
    },
    {
      "cell_type": "markdown",
      "metadata": {
        "id": "PwYWD2DJyH1_",
        "run_control": {
          "frozen": false,
          "read_only": false
        }
      },
      "source": [
        "# Asg-6 Imports\n"
      ]
    },
    {
      "cell_type": "code",
      "execution_count": null,
      "metadata": {
        "id": "1Xgq_sM8yH2A",
        "run_control": {
          "frozen": false,
          "read_only": false
        },
        "scrolled": true
      },
      "outputs": [],
      "source": [
        "#~~~~~~~~~~~~~~~~~~~~~~~~~~~~~~~~~~~~~~~~~~~~~~~~~~~~~~~\n",
        "import sys\n",
        "\n",
        "# -- Detect if in Own Install or in Colab\n",
        "try:\n",
        "    import google.colab\n",
        "    OWN_INSTALL = False\n",
        "except:\n",
        "    OWN_INSTALL = True\n",
        "\n",
        "if OWN_INSTALL:\n",
        "\n",
        "  #---- Leave these definitions ON if running on laptop\n",
        "  #---- Else turn OFF by putting them between ''' ... '''\n",
        "\n",
        "  sys.path[0:0] = ['../../../../..',  '../../../../../3rdparty',\n",
        "                   '../../../..',  '../../../../3rdparty',\n",
        "                   '../../..',     '../../../3rdparty',\n",
        "                   '../..',        '../../3rdparty',\n",
        "                   '..',           '../3rdparty' ]\n",
        "\n",
        "else: # In colab\n",
        "  ! if [ ! -d Jove ]; then git clone https://github.com/ganeshutah/Jove Jove; fi\n",
        "  sys.path.append('./Jove')\n",
        "  sys.path.append('./Jove/jove')\n",
        "\n",
        "# -- common imports --\n",
        "from jove.DotBashers import *\n",
        "from jove.Def_md2mc  import *\n",
        "from jove.AnimatePDA import *\n",
        "from jove.Def_PDA    import *\n",
        "#~~~~~~~~~~~~~~~~~~~~~~~~~~~~~~~~~~~~~~~~~~~~~~~~~~~~~~~"
      ]
    },
    {
      "cell_type": "markdown",
      "source": [
        "# Question 1: 20 percent of the points\n",
        "\n",
        "Add the \"succ\" operator as explained in  \n",
        "https://github.com/ganeshutah/Jove/blob/master/For_CS3100_Fall2024/14_Calculator/Calculator_For_Asg6_Fall2024.ipynb\n",
        "and submit the finished file named as uABCDEFG_asg06_Calculator.ipynb after running all the cells"
      ],
      "metadata": {
        "id": "Di8XJ5oFABZD"
      }
    },
    {
      "cell_type": "markdown",
      "source": [
        "# Question 2: 30 percent of the points\n",
        "\n",
        "## Do the problems in  RE2_NFA_PT.ipynb in 11_CFG. Name that finished file uABCDEFG_asg06_RE2_NFA_PT.ipynb and submit"
      ],
      "metadata": {
        "id": "MGD39Ntp2W1g"
      }
    },
    {
      "cell_type": "code",
      "source": [],
      "metadata": {
        "id": "lTaxDjN-2WYX"
      },
      "execution_count": null,
      "outputs": []
    },
    {
      "cell_type": "markdown",
      "metadata": {
        "id": "lvqcw1nwqlTL"
      },
      "source": [
        "# Question 3: 50 percent of the points\n",
        "\n",
        "### Design a PDA for the CFG for #1 > #0 ... but this PDA must be obtained via a CFG first, and then CFG to PDA conversion -- and NOT by directly designing as a PDA\n",
        "\n",
        "### Neatly document your CFG design below. Say how each production rule was obtained\n",
        "\n",
        "# Submit this file which should be named uABCDEFG_asg06_pdaRising.ipynb\n",
        "\n",
        "## Note that due to a quirk of Colab, the file name may appear to be u0000000_asg04.ipynb . When you save it, make sure that the name is uABCDEFG_asg06_pdaRising.ipynb"
      ]
    },
    {
      "cell_type": "markdown",
      "metadata": {
        "id": "KydC8uUYs3SL"
      },
      "source": [
        "### Given test cases:"
      ]
    },
    {
      "cell_type": "code",
      "execution_count": null,
      "metadata": {
        "id": "BNUyi9p5yH2B"
      },
      "outputs": [],
      "source": [
        "pdaRising = md2mc('''PDA\n",
        "\n",
        "!!-- THE CFG YOU OBTAINED\n",
        "!!-- ...\n",
        "!!-- END OF CFG\n",
        "\n",
        "!!-- The PDA rules are below.\n",
        "\n",
        "'''\n",
        ")"
      ]
    },
    {
      "cell_type": "code",
      "source": [
        "explore_pda(\"1101111\", pdaRising, STKMAX=7)  # increase STKMAX as needed"
      ],
      "metadata": {
        "id": "GZpeFx0d93hX"
      },
      "execution_count": null,
      "outputs": []
    },
    {
      "cell_type": "code",
      "source": [
        "explore_pda(\"1101110\", pdaRising, STKMAX=7)  # increase STKMAX as needed"
      ],
      "metadata": {
        "id": "teZs5HCS93XN"
      },
      "execution_count": null,
      "outputs": []
    },
    {
      "cell_type": "code",
      "source": [
        "explore_pda(\"0011011100\", pdaRising, STKMAX=7) # increase STKMAX as needed"
      ],
      "metadata": {
        "id": "KUR-fLLN93Op"
      },
      "execution_count": null,
      "outputs": []
    },
    {
      "cell_type": "code",
      "source": [
        "explore_pda(\"00110111001\", pdaRising, STKMAX=7) # increase STKMAX as needed"
      ],
      "metadata": {
        "id": "gaK8CErB93GC"
      },
      "execution_count": null,
      "outputs": []
    },
    {
      "cell_type": "code",
      "source": [
        "explore_pda(\"00111\", pdaRising, STKMAX=7) # increase STKMAX as needed"
      ],
      "metadata": {
        "id": "xnp5lsJL9288"
      },
      "execution_count": null,
      "outputs": []
    },
    {
      "cell_type": "code",
      "source": [
        "explore_pda(\"0011100111\", pdaRising, STKMAX=7) # increase STKMAX as needed"
      ],
      "metadata": {
        "id": "GdgfhF6T92ks"
      },
      "execution_count": null,
      "outputs": []
    },
    {
      "cell_type": "markdown",
      "metadata": {
        "id": "iXp_GBi-yH2J"
      },
      "source": [
        "# END\n"
      ]
    }
  ],
  "metadata": {
    "colab": {
      "name": "u000000_asg04.ipynb",
      "provenance": [],
      "include_colab_link": true
    },
    "kernelspec": {
      "display_name": "Python 3",
      "language": "python",
      "name": "python3"
    },
    "language_info": {
      "codemirror_mode": {
        "name": "ipython",
        "version": 3
      },
      "file_extension": ".py",
      "mimetype": "text/x-python",
      "name": "python",
      "nbconvert_exporter": "python",
      "pygments_lexer": "ipython3",
      "version": "3.8.5"
    },
    "toc": {
      "colors": {
        "hover_highlight": "#DAA520",
        "running_highlight": "#FF0000",
        "selected_highlight": "#FFD700"
      },
      "moveMenuLeft": true,
      "nav_menu": {
        "height": "121px",
        "width": "252px"
      },
      "navigate_menu": true,
      "number_sections": true,
      "sideBar": true,
      "threshold": 4,
      "toc_cell": false,
      "toc_section_display": "block",
      "toc_window_display": false,
      "widenNotebook": false
    }
  },
  "nbformat": 4,
  "nbformat_minor": 0
}