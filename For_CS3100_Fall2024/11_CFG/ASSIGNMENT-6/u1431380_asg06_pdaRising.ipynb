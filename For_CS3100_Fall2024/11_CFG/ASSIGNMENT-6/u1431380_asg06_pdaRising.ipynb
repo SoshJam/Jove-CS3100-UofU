{
  "cells": [
    {
      "cell_type": "markdown",
      "metadata": {
        "id": "view-in-github",
        "colab_type": "text"
      },
      "source": [
        "<a href=\"https://colab.research.google.com/github/SoshJam/Jove-CS3100-UofU/blob/master/For_CS3100_Fall2024/11_CFG/ASSIGNMENT-6/u1431380_asg06_pdaRising.ipynb\" target=\"_parent\"><img src=\"https://colab.research.google.com/assets/colab-badge.svg\" alt=\"Open In Colab\"/></a>"
      ]
    },
    {
      "cell_type": "markdown",
      "metadata": {
        "id": "PwYWD2DJyH1_",
        "run_control": {
          "frozen": false,
          "read_only": false
        }
      },
      "source": [
        "# Asg-6 Imports\n"
      ]
    },
    {
      "cell_type": "code",
      "execution_count": 2,
      "metadata": {
        "id": "1Xgq_sM8yH2A",
        "run_control": {
          "frozen": false,
          "read_only": false
        },
        "scrolled": true,
        "outputId": "c69a555a-780e-49ba-f0ca-8aae49ad16f3",
        "colab": {
          "base_uri": "https://localhost:8080/"
        }
      },
      "outputs": [
        {
          "output_type": "stream",
          "name": "stdout",
          "text": [
            "Cloning into 'Jove'...\n",
            "remote: Enumerating objects: 6709, done.\u001b[K\n",
            "remote: Counting objects: 100% (2075/2075), done.\u001b[K\n",
            "remote: Compressing objects: 100% (826/826), done.\u001b[K\n",
            "remote: Total 6709 (delta 1265), reused 1941 (delta 1169), pack-reused 4634 (from 1)\u001b[K\n",
            "Receiving objects: 100% (6709/6709), 10.59 MiB | 15.49 MiB/s, done.\n",
            "Resolving deltas: 100% (4270/4270), done.\n",
            "You may use any of these help commands:\n",
            "help(ResetStNum)\n",
            "help(NxtStateStr)\n",
            "\n",
            "You may use any of these help commands:\n",
            "help(md2mc)\n",
            ".. and if you want to dig more, then ..\n",
            "help(default_line_attr)\n",
            "help(length_ok_input_items)\n",
            "help(union_line_attr_list_fld)\n",
            "help(extend_rsltdict)\n",
            "help(form_delta)\n",
            "help(get_machine_components)\n",
            "\n",
            " \"help(AnimatePDA)\" gives you info on how to use animations with PDA \n"
          ]
        }
      ],
      "source": [
        "#~~~~~~~~~~~~~~~~~~~~~~~~~~~~~~~~~~~~~~~~~~~~~~~~~~~~~~~\n",
        "import sys\n",
        "\n",
        "# -- Detect if in Own Install or in Colab\n",
        "try:\n",
        "    import google.colab\n",
        "    OWN_INSTALL = False\n",
        "except:\n",
        "    OWN_INSTALL = True\n",
        "\n",
        "if OWN_INSTALL:\n",
        "\n",
        "  #---- Leave these definitions ON if running on laptop\n",
        "  #---- Else turn OFF by putting them between ''' ... '''\n",
        "\n",
        "  sys.path[0:0] = ['../../../../..',  '../../../../../3rdparty',\n",
        "                   '../../../..',  '../../../../3rdparty',\n",
        "                   '../../..',     '../../../3rdparty',\n",
        "                   '../..',        '../../3rdparty',\n",
        "                   '..',           '../3rdparty' ]\n",
        "\n",
        "else: # In colab\n",
        "  ! if [ ! -d Jove ]; then git clone https://github.com/ganeshutah/Jove Jove; fi\n",
        "  sys.path.append('./Jove')\n",
        "  sys.path.append('./Jove/jove')\n",
        "\n",
        "# -- common imports --\n",
        "from jove.DotBashers import *\n",
        "from jove.Def_md2mc  import *\n",
        "from jove.AnimatePDA import *\n",
        "from jove.Def_PDA    import *\n",
        "#~~~~~~~~~~~~~~~~~~~~~~~~~~~~~~~~~~~~~~~~~~~~~~~~~~~~~~~"
      ]
    },
    {
      "cell_type": "markdown",
      "source": [
        "# Question 1: 20 percent of the points\n",
        "\n",
        "Add the \"succ\" operator as explained in  \n",
        "https://github.com/ganeshutah/Jove/blob/master/For_CS3100_Fall2024/14_Calculator/Calculator_For_Asg6_Fall2024.ipynb\n",
        "and submit the finished file named as uABCDEFG_asg06_Calculator.ipynb after running all the cells"
      ],
      "metadata": {
        "id": "Di8XJ5oFABZD"
      }
    },
    {
      "cell_type": "markdown",
      "source": [
        "# Question 2: 30 percent of the points\n",
        "\n",
        "## Do the problems in  RE2_NFA_PT.ipynb in 11_CFG. Name that finished file uABCDEFG_asg06_RE2_NFA_PT.ipynb and submit"
      ],
      "metadata": {
        "id": "MGD39Ntp2W1g"
      }
    },
    {
      "cell_type": "code",
      "source": [],
      "metadata": {
        "id": "lTaxDjN-2WYX"
      },
      "execution_count": null,
      "outputs": []
    },
    {
      "cell_type": "markdown",
      "metadata": {
        "id": "lvqcw1nwqlTL"
      },
      "source": [
        "# Question 3: 50 percent of the points\n",
        "\n",
        "### Design a PDA for the CFG for #1 > #0 ... but this PDA must be obtained via a CFG first, and then CFG to PDA conversion -- and NOT by directly designing as a PDA\n",
        "\n",
        "### Neatly document your CFG design below. Say how each production rule was obtained\n",
        "\n",
        "# Submit this file which should be named uABCDEFG_asg06_pdaRising.ipynb\n",
        "\n",
        "## Note that due to a quirk of Colab, the file name may appear to be u0000000_asg04.ipynb . When you save it, make sure that the name is uABCDEFG_asg06_pdaRising.ipynb"
      ]
    },
    {
      "cell_type": "markdown",
      "metadata": {
        "id": "KydC8uUYs3SL"
      },
      "source": [
        "### Given test cases:"
      ]
    },
    {
      "cell_type": "code",
      "execution_count": null,
      "metadata": {
        "id": "BNUyi9p5yH2B"
      },
      "outputs": [],
      "source": [
        "pdaRising = md2mc('''PDA\n",
        "\n",
        "!! CFG basic idea: For every 0 we add, we have to add AT LEAST one 1 to go with it\n",
        "!! Could it just be this?\n",
        "!! E -> 1         !! terminate with a 1\n",
        "!!    | E 0 E 1 E !! add a 0 and at least one 1\n",
        "!!    | E 1 E 0 E !! another way to do that\n",
        "!!    | E 1 E     !! adding a one with the possibility for more\n",
        "!!    | ''        !! terminate with an empty string\n",
        "!! but then with this\n",
        "\n",
        "!!-- THE CFG YOU OBTAINED\n",
        "!!-- F -> E 1 E                   !! guarantee final product has more 1s than 0s, and add Expressions\n",
        "!!-- E -> T | S                   !! an Expression can be an allowed terminal, or a statement that adds one 0 and one or more 1s.\n",
        "!!-- S -> 0 E 1 | 1 E 0           !! we ensure #1 > #0 by starting the string with a 1, so adding 1 of each is just fine. Make sure to expand with another E in the middle.\n",
        "!!-- T -> '' | 1 | F              !! terminate, or add a 1 (because we can add as many 1s as we want), or even just restart with another full string (because it will still have more 1s than 0s)\n",
        "!!-- END OF CFG\n",
        "\n",
        "!!-- The PDA rules are below.\n",
        "\n",
        "!! Basic states (Assume stack starts with # as bottom character)\n",
        "I : '' , '' ; F  -> W   !! Push Start state onto the stack and go to Work state, starting with production F\n",
        "W : '' , #  ; '' -> F   !! From Work state, if we empty the stack, go to accept state\n",
        "\n",
        "!! Read terminals\n",
        "W : 0 , 0 ; '' -> W   !! Just return to the Work state when we do\n",
        "W : 1 , 1 ; '' -> W\n",
        "\n",
        "!! Rules for production F -> E 1 E\n",
        "W : '' , F ; E1E -> W   !! Consume the F from the stack and add the rule, then return to Work state\n",
        "\n",
        "!! Repeat for other production rules\n",
        "\n",
        "!! Rules for E -> T | S | EE\n",
        "W : '' , E  ; T  -> W\n",
        "W : '' , E  ; S  -> W\n",
        "W : '' , E  ; EE -> W\n",
        "\n",
        "!! Rules for S -> 0 1 | 1 0\n",
        "W : '' , S ; 0E1 -> W\n",
        "W : '' , S ; 1E0 -> W\n",
        "\n",
        "!! Rules for T -> '' | 1 | F\n",
        "W : '' , T ; '' -> W\n",
        "W : '' , T ; 1  -> W\n",
        "W : '' , T ; F  -> W\n",
        "'''\n",
        ")"
      ]
    },
    {
      "cell_type": "code",
      "source": [
        "dotObj_pda(pdaRising, FuseEdges=True)"
      ],
      "metadata": {
        "id": "qxflsLYKbwkM",
        "outputId": "0165d63c-ef02-4ec5-d749-04b788992973",
        "colab": {
          "base_uri": "https://localhost:8080/",
          "height": 330
        }
      },
      "execution_count": 11,
      "outputs": [
        {
          "output_type": "execute_result",
          "data": {
            "image/svg+xml": "<?xml version=\"1.0\" encoding=\"UTF-8\" standalone=\"no\"?>\n<!DOCTYPE svg PUBLIC \"-//W3C//DTD SVG 1.1//EN\"\n \"http://www.w3.org/Graphics/SVG/1.1/DTD/svg11.dtd\">\n<!-- Generated by graphviz version 2.43.0 (0)\n -->\n<!-- Title: %3 Pages: 1 -->\n<svg width=\"487pt\" height=\"232pt\"\n viewBox=\"0.00 0.00 487.00 232.50\" xmlns=\"http://www.w3.org/2000/svg\" xmlns:xlink=\"http://www.w3.org/1999/xlink\">\n<g id=\"graph0\" class=\"graph\" transform=\"scale(1 1) rotate(0) translate(4 228.5)\">\n<title>%3</title>\n<polygon fill=\"white\" stroke=\"transparent\" points=\"-4,4 -4,-228.5 483,-228.5 483,4 -4,4\"/>\n<!-- EMPTY -->\n<g id=\"node1\" class=\"node\">\n<title>EMPTY</title>\n</g>\n<!-- I -->\n<g id=\"node3\" class=\"node\">\n<title>I</title>\n<ellipse fill=\"none\" stroke=\"black\" cx=\"109\" cy=\"-22\" rx=\"18\" ry=\"18\"/>\n<text text-anchor=\"middle\" x=\"109\" y=\"-18.3\" font-family=\"Times,serif\" font-size=\"14.00\">I</text>\n</g>\n<!-- EMPTY&#45;&gt;I -->\n<g id=\"edge1\" class=\"edge\">\n<title>EMPTY&#45;&gt;I</title>\n<path fill=\"none\" stroke=\"black\" d=\"M54.19,-22C62.65,-22 72.05,-22 80.6,-22\"/>\n<polygon fill=\"black\" stroke=\"black\" points=\"80.83,-25.5 90.83,-22 80.83,-18.5 80.83,-25.5\"/>\n</g>\n<!-- W -->\n<g id=\"node2\" class=\"node\">\n<title>W</title>\n<ellipse fill=\"none\" stroke=\"black\" cx=\"281.5\" cy=\"-22\" rx=\"19.5\" ry=\"19.5\"/>\n<text text-anchor=\"middle\" x=\"281.5\" y=\"-18.3\" font-family=\"Times,serif\" font-size=\"14.00\">W</text>\n</g>\n<!-- W&#45;&gt;W -->\n<g id=\"edge4\" class=\"edge\">\n<title>W&#45;&gt;W</title>\n<path fill=\"none\" stroke=\"black\" d=\"M264.91,-33.13C253.84,-45.44 259.38,-59.5 281.5,-59.5 298.44,-59.5 305.65,-51.26 303.14,-41.87\"/>\n<polygon fill=\"black\" stroke=\"black\" points=\"306.12,-40.04 298.09,-33.13 300.06,-43.54 306.12,-40.04\"/>\n<text text-anchor=\"middle\" x=\"281.5\" y=\"-213.3\" font-family=\"Times,serif\" font-size=\"14.00\">&#39;&#39;, S ; 01 </text>\n<text text-anchor=\"middle\" x=\"281.5\" y=\"-198.3\" font-family=\"Times,serif\" font-size=\"14.00\"> &#39;&#39;, T ; 1 </text>\n<text text-anchor=\"middle\" x=\"281.5\" y=\"-183.3\" font-family=\"Times,serif\" font-size=\"14.00\"> &#39;&#39;, F ; E1E </text>\n<text text-anchor=\"middle\" x=\"281.5\" y=\"-168.3\" font-family=\"Times,serif\" font-size=\"14.00\"> &#39;&#39;, E ; T </text>\n<text text-anchor=\"middle\" x=\"281.5\" y=\"-153.3\" font-family=\"Times,serif\" font-size=\"14.00\"> &#39;&#39;, T ; &#39;&#39; </text>\n<text text-anchor=\"middle\" x=\"281.5\" y=\"-138.3\" font-family=\"Times,serif\" font-size=\"14.00\"> 0, 0 ; &#39;&#39; </text>\n<text text-anchor=\"middle\" x=\"281.5\" y=\"-123.3\" font-family=\"Times,serif\" font-size=\"14.00\"> &#39;&#39;, T ; F </text>\n<text text-anchor=\"middle\" x=\"281.5\" y=\"-108.3\" font-family=\"Times,serif\" font-size=\"14.00\"> &#39;&#39;, E ; S </text>\n<text text-anchor=\"middle\" x=\"281.5\" y=\"-93.3\" font-family=\"Times,serif\" font-size=\"14.00\"> &#39;&#39;, E ; EE </text>\n<text text-anchor=\"middle\" x=\"281.5\" y=\"-78.3\" font-family=\"Times,serif\" font-size=\"14.00\"> &#39;&#39;, S ; 10 </text>\n<text text-anchor=\"middle\" x=\"281.5\" y=\"-63.3\" font-family=\"Times,serif\" font-size=\"14.00\"> 1, 1 ; &#39;&#39;</text>\n</g>\n<!-- F -->\n<g id=\"node4\" class=\"node\">\n<title>F</title>\n<ellipse fill=\"none\" stroke=\"black\" cx=\"457\" cy=\"-22\" rx=\"18\" ry=\"18\"/>\n<ellipse fill=\"none\" stroke=\"black\" cx=\"457\" cy=\"-22\" rx=\"22\" ry=\"22\"/>\n<text text-anchor=\"middle\" x=\"457\" y=\"-18.3\" font-family=\"Times,serif\" font-size=\"14.00\">F</text>\n</g>\n<!-- W&#45;&gt;F -->\n<g id=\"edge3\" class=\"edge\">\n<title>W&#45;&gt;F</title>\n<path fill=\"none\" stroke=\"black\" d=\"M301.07,-22C330.54,-22 388.37,-22 424.44,-22\"/>\n<polygon fill=\"black\" stroke=\"black\" points=\"424.88,-25.5 434.88,-22 424.88,-18.5 424.88,-25.5\"/>\n<text text-anchor=\"middle\" x=\"399.5\" y=\"-25.8\" font-family=\"Times,serif\" font-size=\"14.00\">&#39;&#39;, # ; &#39;&#39;</text>\n</g>\n<!-- I&#45;&gt;W -->\n<g id=\"edge2\" class=\"edge\">\n<title>I&#45;&gt;W</title>\n<path fill=\"none\" stroke=\"black\" d=\"M127.29,-22C156.52,-22 216,-22 251.64,-22\"/>\n<polygon fill=\"black\" stroke=\"black\" points=\"251.88,-25.5 261.88,-22 251.88,-18.5 251.88,-25.5\"/>\n<text text-anchor=\"middle\" x=\"163\" y=\"-25.8\" font-family=\"Times,serif\" font-size=\"14.00\">&#39;&#39;, &#39;&#39; ; F</text>\n</g>\n</g>\n</svg>\n",
            "text/plain": [
              "<graphviz.graphs.Digraph at 0x7c4fcb6c08b0>"
            ]
          },
          "metadata": {},
          "execution_count": 11
        }
      ]
    },
    {
      "cell_type": "code",
      "source": [
        "\n",
        "explore_pda(\"1101111\", pdaRising, STKMAX=7)  # increase STKMAX as needed"
      ],
      "metadata": {
        "id": "GZpeFx0d93hX"
      },
      "execution_count": null,
      "outputs": []
    },
    {
      "cell_type": "code",
      "source": [
        "explore_pda(\"1101110\", pdaRising, STKMAX=7)  # increase STKMAX as needed"
      ],
      "metadata": {
        "id": "teZs5HCS93XN"
      },
      "execution_count": null,
      "outputs": []
    },
    {
      "cell_type": "code",
      "source": [
        "# correctly rejected\n",
        "explore_pda(\"0011011100\", pdaRising, STKMAX=7) # increase STKMAX as needed"
      ],
      "metadata": {
        "id": "KUR-fLLN93Op",
        "outputId": "873782d3-cca6-4d7d-fada-26880e58c5b6",
        "colab": {
          "base_uri": "https://localhost:8080/"
        }
      },
      "execution_count": 15,
      "outputs": [
        {
          "output_type": "stream",
          "name": "stdout",
          "text": [
            "String 0011011100 rejected by your PDA :-(\n",
            "Visited states are:\n",
            "{('W', '0011011100', '11EE1E#'), ('W', '0011011100', '10E1E1E#'), ('W', '0011011100', 'TE1E1E#'), ('W', '0011011100', 'TEE1E1E#'), ('W', '0011011100', 'TEEEE1E#'), ('W', '011011100', '1EEE1E#'), ('W', '0011011100', '10E1E#'), ('W', '0011011100', '01EEE1E#'), ('W', '0011011100', 'E1E1E1E#'), ('W', '0011011100', 'S1E#'), ('W', '011011100', '11E#'), ('W', '0011011100', '011E#'), ('W', '0011011100', '011EE1E#'), ('W', '0011011100', 'EEEE1E#'), ('W', '0011011100', 'FEE1E#'), ('W', '0011011100', '11EEE1E#'), ('W', '0011011100', 'F#'), ('W', '0011011100', '1E1E1E#'), ('W', '0011011100', 'SEE1E#'), ('W', '0011011100', '01EE1E#'), ('W', '0011011100', 'T1E#'), ('W', '0011011100', 'E1E#'), ('W', '0011011100', 'E1EEE1E#'), ('W', '0011011100', '1EE1E#'), ('W', '0011011100', '10EE1E#'), ('W', '0011011100', '1E1E#'), ('W', '0011011100', 'EEE1E#'), ('W', '0011011100', '11E1E1E#'), ('W', '0011011100', 'FE1EE1E#'), ('W', '011011100', '11EE1E#'), ('W', '0011011100', 'EE1EE1E#'), ('W', '0011011100', 'S1EE1E#'), ('W', '0011011100', '101E#'), ('W', '0011011100', 'EE1E1E#'), ('W', '0011011100', '101EE1E#'), ('W', '0011011100', 'E1E1E#'), ('W', '0011011100', 'S1E1E#'), ('W', '0011011100', 'S1E1E1E#'), ('W', '0011011100', 'FEE1E1E#'), ('W', '0011011100', 'F1EEE1E#'), ('W', '0011011100', 'EEEEE1E#'), ('W', '011011100', '1E1E1E#'), ('W', '0011011100', 'TEE1E#'), ('W', '0011011100', 'SE1E1E#'), ('W', '0011011100', 'SEEEE1E#'), ('W', '011011100', '1EE1E#'), ('W', '0011011100', '10EEE1E#'), ('W', '011011100', '1E1E#'), ('W', '0011011100', '01E1E1E#'), ('W', '0011011100', 'SE1EE1E#'), ('W', '0011011100', '1EEEE1E#'), ('W', '0011011100', '101E1E#'), ('W', '0011011100', 'FE1E#'), ('W', '0011011100', 'F1E1E#'), ('W', '0011011100', 'S1EEE1E#'), ('W', '0011011100', 'E1EE1E#'), ('W', '0011011100', 'F1EE1E#'), ('W', '0011011100', 'EEE1E1E#'), ('W', '0011011100', 'TE1EE1E#'), ('W', '0011011100', '11E1E#'), ('W', '0011011100', 'F1E#'), ('W', '0011011100', 'FE1E1E#'), ('W', '0011011100', 'T1E1E1E#'), ('W', '0011011100', 'TEEE1E#'), ('W', '0011011100', 'T1E1E#'), ('I', '0011011100', '#'), ('W', '0011011100', '1E1EE1E#'), ('W', '0011011100', 'SEEE1E#'), ('W', '0011011100', '1EEE1E#'), ('W', '0011011100', '11E#'), ('W', '0011011100', 'T1EE1E#'), ('W', '0011011100', 'EE1E#'), ('W', '0011011100', 'T1EEE1E#'), ('W', '0011011100', '1EE1E1E#'), ('W', '0011011100', 'FEEEE1E#'), ('W', '0011011100', 'F1E1E1E#'), ('W', '011011100', '11E1E#'), ('W', '0011011100', 'SE1E#'), ('W', '0011011100', 'FEEE1E#'), ('W', '0011011100', '1E#'), ('W', '0011011100', '011E1E#'), ('W', '0011011100', 'SEE1E1E#'), ('W', '0011011100', '01E1E#'), ('W', '0011011100', 'TE1E#')}\n"
          ]
        }
      ]
    },
    {
      "cell_type": "code",
      "source": [
        "explore_pda(\"00110111001\", pdaRising, STKMAX=7) # increase STKMAX as needed"
      ],
      "metadata": {
        "id": "gaK8CErB93GC",
        "outputId": "df4387bb-cb58-46ee-8ede-5be79ebd622c",
        "colab": {
          "base_uri": "https://localhost:8080/"
        }
      },
      "execution_count": 22,
      "outputs": [
        {
          "output_type": "stream",
          "name": "stdout",
          "text": [
            "String 00110111001 accepted by your PDA in 5 ways :-) \n",
            "Here are the ways: \n",
            "Final state  ('F', '', '')\n",
            "Reached as follows:\n",
            "->  ('I', '00110111001', '#')\n",
            "->  ('W', '00110111001', 'F#')\n",
            "->  ('W', '00110111001', 'E1E#')\n",
            "->  ('W', '00110111001', 'EE1E#')\n",
            "->  ('W', '00110111001', 'EEE1E#')\n",
            "->  ('W', '00110111001', 'SEE1E#')\n",
            "->  ('W', '00110111001', '0E1EE1E#')\n",
            "->  ('W', '0110111001', 'E1EE1E#')\n",
            "->  ('W', '0110111001', 'S1EE1E#')\n",
            "->  ('W', '0110111001', '0E11EE1E#')\n",
            "->  ('W', '110111001', 'E11EE1E#')\n",
            "->  ('W', '110111001', 'T11EE1E#')\n",
            "->  ('W', '110111001', '11EE1E#')\n",
            "->  ('W', '10111001', '1EE1E#')\n",
            "->  ('W', '0111001', 'EE1E#')\n",
            "->  ('W', '0111001', 'SE1E#')\n",
            "->  ('W', '0111001', '0E1E1E#')\n",
            "->  ('W', '111001', 'E1E1E#')\n",
            "->  ('W', '111001', 'T1E1E#')\n",
            "->  ('W', '111001', '1E1E#')\n",
            "->  ('W', '11001', 'E1E#')\n",
            "->  ('W', '11001', 'S1E#')\n",
            "->  ('W', '11001', '1E01E#')\n",
            "->  ('W', '1001', 'E01E#')\n",
            "->  ('W', '1001', 'S01E#')\n",
            "->  ('W', '1001', '1E001E#')\n",
            "->  ('W', '001', 'E001E#')\n",
            "->  ('W', '001', 'T001E#')\n",
            "->  ('W', '001', '001E#')\n",
            "->  ('W', '01', '01E#')\n",
            "->  ('W', '1', '1E#')\n",
            "->  ('W', '', 'E#')\n",
            "->  ('W', '', 'T#')\n",
            "->  ('W', '', '#')\n",
            "->  ('F', '', '') .\n",
            "Final state  ('F', '', '')\n",
            "Reached as follows:\n",
            "->  ('I', '00110111001', '#')\n",
            "->  ('W', '00110111001', 'F#')\n",
            "->  ('W', '00110111001', 'E1E#')\n",
            "->  ('W', '00110111001', 'EE1E#')\n",
            "->  ('W', '00110111001', 'SE1E#')\n",
            "->  ('W', '00110111001', '0E1E1E#')\n",
            "->  ('W', '0110111001', 'E1E1E#')\n",
            "->  ('W', '0110111001', 'EE1E1E#')\n",
            "->  ('W', '0110111001', 'SE1E1E#')\n",
            "->  ('W', '0110111001', '0E1E1E1E#')\n",
            "->  ('W', '110111001', 'E1E1E1E#')\n",
            "->  ('W', '110111001', 'T1E1E1E#')\n",
            "->  ('W', '110111001', '1E1E1E#')\n",
            "->  ('W', '10111001', 'E1E1E#')\n",
            "->  ('W', '10111001', 'S1E1E#')\n",
            "->  ('W', '10111001', '1E01E1E#')\n",
            "->  ('W', '0111001', 'E01E1E#')\n",
            "->  ('W', '0111001', 'T01E1E#')\n",
            "->  ('W', '0111001', '01E1E#')\n",
            "->  ('W', '111001', '1E1E#')\n",
            "->  ('W', '11001', 'E1E#')\n",
            "->  ('W', '11001', 'S1E#')\n",
            "->  ('W', '11001', '1E01E#')\n",
            "->  ('W', '1001', 'E01E#')\n",
            "->  ('W', '1001', 'S01E#')\n",
            "->  ('W', '1001', '1E001E#')\n",
            "->  ('W', '001', 'E001E#')\n",
            "->  ('W', '001', 'T001E#')\n",
            "->  ('W', '001', '001E#')\n",
            "->  ('W', '01', '01E#')\n",
            "->  ('W', '1', '1E#')\n",
            "->  ('W', '', 'E#')\n",
            "->  ('W', '', 'T#')\n",
            "->  ('W', '', '#')\n",
            "->  ('F', '', '') .\n",
            "Final state  ('F', '', '')\n",
            "Reached as follows:\n",
            "->  ('I', '00110111001', '#')\n",
            "->  ('W', '00110111001', 'F#')\n",
            "->  ('W', '00110111001', 'E1E#')\n",
            "->  ('W', '00110111001', 'EE1E#')\n",
            "->  ('W', '00110111001', 'SE1E#')\n",
            "->  ('W', '00110111001', '0E1E1E#')\n",
            "->  ('W', '0110111001', 'E1E1E#')\n",
            "->  ('W', '0110111001', 'S1E1E#')\n",
            "->  ('W', '0110111001', '0E11E1E#')\n",
            "->  ('W', '110111001', 'E11E1E#')\n",
            "->  ('W', '110111001', 'T11E1E#')\n",
            "->  ('W', '110111001', '11E1E#')\n",
            "->  ('W', '10111001', '1E1E#')\n",
            "->  ('W', '0111001', 'E1E#')\n",
            "->  ('W', '0111001', 'EE1E#')\n",
            "->  ('W', '0111001', 'SE1E#')\n",
            "->  ('W', '0111001', '0E1E1E#')\n",
            "->  ('W', '111001', 'E1E1E#')\n",
            "->  ('W', '111001', 'T1E1E#')\n",
            "->  ('W', '111001', '1E1E#')\n",
            "->  ('W', '11001', 'E1E#')\n",
            "->  ('W', '11001', 'S1E#')\n",
            "->  ('W', '11001', '1E01E#')\n",
            "->  ('W', '1001', 'E01E#')\n",
            "->  ('W', '1001', 'S01E#')\n",
            "->  ('W', '1001', '1E001E#')\n",
            "->  ('W', '001', 'E001E#')\n",
            "->  ('W', '001', 'T001E#')\n",
            "->  ('W', '001', '001E#')\n",
            "->  ('W', '01', '01E#')\n",
            "->  ('W', '1', '1E#')\n",
            "->  ('W', '', 'E#')\n",
            "->  ('W', '', 'T#')\n",
            "->  ('W', '', '#')\n",
            "->  ('F', '', '') .\n",
            "Final state  ('F', '', '')\n",
            "Reached as follows:\n",
            "->  ('I', '00110111001', '#')\n",
            "->  ('W', '00110111001', 'F#')\n",
            "->  ('W', '00110111001', 'E1E#')\n",
            "->  ('W', '00110111001', 'EE1E#')\n",
            "->  ('W', '00110111001', 'SE1E#')\n",
            "->  ('W', '00110111001', '0E1E1E#')\n",
            "->  ('W', '0110111001', 'E1E1E#')\n",
            "->  ('W', '0110111001', 'S1E1E#')\n",
            "->  ('W', '0110111001', '0E11E1E#')\n",
            "->  ('W', '110111001', 'E11E1E#')\n",
            "->  ('W', '110111001', 'T11E1E#')\n",
            "->  ('W', '110111001', '11E1E#')\n",
            "->  ('W', '10111001', '1E1E#')\n",
            "->  ('W', '0111001', 'E1E#')\n",
            "->  ('W', '0111001', 'S1E#')\n",
            "->  ('W', '0111001', '0E11E#')\n",
            "->  ('W', '111001', 'E11E#')\n",
            "->  ('W', '111001', 'T11E#')\n",
            "->  ('W', '111001', '11E#')\n",
            "->  ('W', '11001', '1E#')\n",
            "->  ('W', '1001', 'E#')\n",
            "->  ('W', '1001', 'EE#')\n",
            "->  ('W', '1001', 'SE#')\n",
            "->  ('W', '1001', '1E0E#')\n",
            "->  ('W', '001', 'E0E#')\n",
            "->  ('W', '001', 'T0E#')\n",
            "->  ('W', '001', '0E#')\n",
            "->  ('W', '01', 'E#')\n",
            "->  ('W', '01', 'S#')\n",
            "->  ('W', '01', '0E1#')\n",
            "->  ('W', '1', 'E1#')\n",
            "->  ('W', '1', 'T1#')\n",
            "->  ('W', '1', '1#')\n",
            "->  ('W', '', '#')\n",
            "->  ('F', '', '') .\n",
            "Final state  ('F', '', '')\n",
            "Reached as follows:\n",
            "->  ('I', '00110111001', '#')\n",
            "->  ('W', '00110111001', 'F#')\n",
            "->  ('W', '00110111001', 'E1E#')\n",
            "->  ('W', '00110111001', 'S1E#')\n",
            "->  ('W', '00110111001', '0E11E#')\n",
            "->  ('W', '0110111001', 'E11E#')\n",
            "->  ('W', '0110111001', 'EE11E#')\n",
            "->  ('W', '0110111001', 'SE11E#')\n",
            "->  ('W', '0110111001', '0E1E11E#')\n",
            "->  ('W', '110111001', 'E1E11E#')\n",
            "->  ('W', '110111001', 'T1E11E#')\n",
            "->  ('W', '110111001', '1E11E#')\n",
            "->  ('W', '10111001', 'E11E#')\n",
            "->  ('W', '10111001', 'S11E#')\n",
            "->  ('W', '10111001', '1E011E#')\n",
            "->  ('W', '0111001', 'E011E#')\n",
            "->  ('W', '0111001', 'T011E#')\n",
            "->  ('W', '0111001', '011E#')\n",
            "->  ('W', '111001', '11E#')\n",
            "->  ('W', '11001', '1E#')\n",
            "->  ('W', '1001', 'E#')\n",
            "->  ('W', '1001', 'EE#')\n",
            "->  ('W', '1001', 'SE#')\n",
            "->  ('W', '1001', '1E0E#')\n",
            "->  ('W', '001', 'E0E#')\n",
            "->  ('W', '001', 'T0E#')\n",
            "->  ('W', '001', '0E#')\n",
            "->  ('W', '01', 'E#')\n",
            "->  ('W', '01', 'S#')\n",
            "->  ('W', '01', '0E1#')\n",
            "->  ('W', '1', 'E1#')\n",
            "->  ('W', '1', 'T1#')\n",
            "->  ('W', '1', '1#')\n",
            "->  ('W', '', '#')\n",
            "->  ('F', '', '') .\n"
          ]
        }
      ]
    },
    {
      "cell_type": "code",
      "source": [
        "explore_pda(\"00111\", pdaRising, STKMAX=7) # increase STKMAX as needed"
      ],
      "metadata": {
        "id": "xnp5lsJL9288",
        "outputId": "cc19bdf7-d397-4f25-b0f4-87feae017b54",
        "colab": {
          "base_uri": "https://localhost:8080/"
        }
      },
      "execution_count": 19,
      "outputs": [
        {
          "output_type": "stream",
          "name": "stdout",
          "text": [
            "String 00111 rejected by your PDA :-(\n",
            "Visited states are:\n",
            "{('W', '00111', '1EEE1E#'), ('W', '00111', '11E#'), ('W', '00111', 'T1EE1E#'), ('W', '00111', 'EE1E#'), ('W', '00111', 'T1EEE1E#'), ('W', '00111', '1EE1E1E#'), ('W', '0111', '1E1E1E#'), ('W', '00111', 'S1EE1E#'), ('W', '00111', 'FEEEE1E#'), ('W', '0111', '1EE1E#'), ('W', '0111', '1E1E#'), ('W', '00111', 'FEE1E1E#'), ('W', '00111', 'FEEE1E#'), ('W', '00111', '1E#'), ('W', '00111', '011E1E#'), ('W', '00111', 'SEE1E1E#'), ('W', '00111', 'EEEEE1E#'), ('W', '00111', '01E1E#'), ('W', '00111', 'TE1E#'), ('W', '00111', '11EE1E#'), ('W', '00111', '10E1E1E#'), ('W', '00111', 'TE1E1E#'), ('W', '00111', 'TEE1E1E#'), ('W', '00111', 'TEEEE1E#'), ('W', '00111', '10E1E#'), ('W', '00111', '01EEE1E#'), ('W', '00111', 'E1E1E1E#'), ('W', '00111', 'S1E#'), ('W', '00111', 'SE1EE1E#'), ('W', '00111', '011E#'), ('W', '00111', '101E1E#'), ('W', '00111', 'FE1E#'), ('W', '00111', 'F1E1E#'), ('W', '00111', 'S1EEE1E#'), ('W', '00111', '011EE1E#'), ('W', '00111', 'EEEE1E#'), ('W', '00111', '11EEE1E#'), ('W', '00111', 'F#'), ('W', '00111', '1E1E1E#'), ('W', '00111', 'FE1E1E#'), ('W', '00111', 'SEE1E#'), ('W', '00111', 'T1E#'), ('W', '00111', '01EE1E#'), ('W', '00111', 'TEEE1E#'), ('W', '00111', 'E1E#'), ('W', '00111', 'E1EEE1E#'), ('W', '00111', '1EE1E#'), ('W', '00111', '10EE1E#'), ('W', '00111', '1E1E#'), ('W', '00111', 'EEE1E#'), ('W', '00111', '11E1E1E#'), ('W', '00111', 'FE1EE1E#'), ('W', '00111', 'EE1EE1E#'), ('W', '0111', '11E1E#'), ('W', '00111', '101E#'), ('W', '00111', 'EE1E1E#'), ('W', '00111', '101EE1E#'), ('W', '00111', 'E1E1E#'), ('W', '00111', 'S1E1E#'), ('W', '00111', 'S1E1E1E#'), ('W', '0111', '1EEE1E#'), ('W', '00111', 'F1EEE1E#'), ('W', '00111', 'F1E1E1E#'), ('W', '0111', '11E#'), ('W', '00111', 'SE1E#'), ('W', '00111', 'TEE1E#'), ('W', '00111', 'SE1E1E#'), ('W', '00111', 'SEEEE1E#'), ('W', '00111', '10EEE1E#'), ('W', '00111', '01E1E1E#'), ('W', '00111', '1EEEE1E#'), ('W', '00111', 'E1EE1E#'), ('W', '00111', 'F1EE1E#'), ('W', '00111', 'EEE1E1E#'), ('W', '00111', 'TE1EE1E#'), ('W', '0111', '11EE1E#'), ('W', '00111', '11E1E#'), ('W', '00111', 'F1E#'), ('W', '00111', 'FEE1E#'), ('W', '00111', 'T1E1E1E#'), ('W', '00111', 'T1E1E#'), ('I', '00111', '#'), ('W', '00111', '1E1EE1E#'), ('W', '00111', 'SEEE1E#')}\n"
          ]
        }
      ]
    },
    {
      "cell_type": "code",
      "source": [
        "explore_pda(\"0011100111\", pdaRising, STKMAX=7) # increase STKMAX as needed"
      ],
      "metadata": {
        "id": "GdgfhF6T92ks",
        "outputId": "0f05a1ed-10bf-4ecf-cab2-1dee52bb6ff2",
        "colab": {
          "base_uri": "https://localhost:8080/"
        }
      },
      "execution_count": 20,
      "outputs": [
        {
          "output_type": "stream",
          "name": "stdout",
          "text": [
            "String 0011100111 rejected by your PDA :-(\n",
            "Visited states are:\n",
            "{('W', '0011100111', 'SE1E#'), ('W', '0011100111', 'FEEE1E#'), ('W', '0011100111', '1E#'), ('W', '0011100111', 'SEE1E1E#'), ('W', '0011100111', 'SEEEE1E#'), ('W', '0011100111', '10EEE1E#'), ('W', '0011100111', '01E1E#'), ('W', '0011100111', '11EE1E#'), ('W', '0011100111', '10E1E1E#'), ('W', '0011100111', 'TE1E1E#'), ('W', '0011100111', '01E1E1E#'), ('W', '0011100111', 'TEE1E1E#'), ('W', '0011100111', '01EEE1E#'), ('W', '0011100111', 'E1E1E1E#'), ('W', '0011100111', '011E#'), ('W', '0011100111', 'F1EE1E#'), ('W', '011100111', '1E1E1E#'), ('W', '0011100111', 'EEE1E1E#'), ('W', '0011100111', 'TE1EE1E#'), ('W', '0011100111', 'F1E#'), ('W', '011100111', '1EE1E#'), ('W', '0011100111', 'EEEE1E#'), ('W', '011100111', '1E1E#'), ('W', '0011100111', 'FEE1E#'), ('W', '0011100111', 'T1E1E1E#'), ('W', '0011100111', '11EEE1E#'), ('W', '0011100111', 'T1E1E#'), ('W', '0011100111', '1E1E1E#'), ('W', '0011100111', 'SEE1E#'), ('W', '0011100111', 'E1E#'), ('W', '0011100111', 'E1EEE1E#'), ('W', '0011100111', '1EE1E#'), ('W', '0011100111', '10EE1E#'), ('W', '0011100111', 'EEE1E#'), ('W', '0011100111', 'FE1EE1E#'), ('W', '0011100111', 'EE1E#'), ('W', '0011100111', 'T1EE1E#'), ('I', '0011100111', '#'), ('W', '0011100111', '1EE1E1E#'), ('W', '0011100111', 'S1EE1E#'), ('W', '0011100111', '101E#'), ('W', '0011100111', 'EE1E1E#'), ('W', '0011100111', '101EE1E#'), ('W', '0011100111', 'E1E1E#'), ('W', '0011100111', 'S1E1E#'), ('W', '0011100111', 'S1E1E1E#'), ('W', '0011100111', 'FEE1E1E#'), ('W', '0011100111', 'F1EEE1E#'), ('W', '0011100111', '011E1E#'), ('W', '0011100111', 'EEEEE1E#'), ('W', '0011100111', 'TE1E#'), ('W', '0011100111', 'TEE1E#'), ('W', '0011100111', 'SE1E1E#'), ('W', '0011100111', 'TEEEE1E#'), ('W', '0011100111', '10E1E#'), ('W', '0011100111', 'S1E#'), ('W', '0011100111', 'SE1EE1E#'), ('W', '011100111', '11E1E#'), ('W', '0011100111', '1EEEE1E#'), ('W', '0011100111', '101E1E#'), ('W', '0011100111', 'FE1E#'), ('W', '0011100111', 'F1E1E#'), ('W', '0011100111', 'S1EEE1E#'), ('W', '0011100111', 'E1EE1E#'), ('W', '0011100111', '011EE1E#'), ('W', '0011100111', 'F#'), ('W', '0011100111', '11E1E#'), ('W', '011100111', '1EEE1E#'), ('W', '0011100111', 'FE1E1E#'), ('W', '0011100111', '01EE1E#'), ('W', '0011100111', 'T1E#'), ('W', '011100111', '11E#'), ('W', '0011100111', 'TEEE1E#'), ('W', '0011100111', '1E1EE1E#'), ('W', '0011100111', '1E1E#'), ('W', '0011100111', 'SEEE1E#'), ('W', '0011100111', '11E1E1E#'), ('W', '0011100111', 'EE1EE1E#'), ('W', '0011100111', '1EEE1E#'), ('W', '0011100111', '11E#'), ('W', '0011100111', 'T1EEE1E#'), ('W', '0011100111', 'FEEEE1E#'), ('W', '0011100111', 'F1E1E1E#'), ('W', '011100111', '11EE1E#')}\n"
          ]
        }
      ]
    },
    {
      "cell_type": "markdown",
      "metadata": {
        "id": "iXp_GBi-yH2J"
      },
      "source": [
        "# END\n"
      ]
    }
  ],
  "metadata": {
    "colab": {
      "name": "u000000_asg04.ipynb",
      "provenance": [],
      "include_colab_link": true
    },
    "kernelspec": {
      "display_name": "Python 3",
      "language": "python",
      "name": "python3"
    },
    "language_info": {
      "codemirror_mode": {
        "name": "ipython",
        "version": 3
      },
      "file_extension": ".py",
      "mimetype": "text/x-python",
      "name": "python",
      "nbconvert_exporter": "python",
      "pygments_lexer": "ipython3",
      "version": "3.8.5"
    },
    "toc": {
      "colors": {
        "hover_highlight": "#DAA520",
        "running_highlight": "#FF0000",
        "selected_highlight": "#FFD700"
      },
      "moveMenuLeft": true,
      "nav_menu": {
        "height": "121px",
        "width": "252px"
      },
      "navigate_menu": true,
      "number_sections": true,
      "sideBar": true,
      "threshold": 4,
      "toc_cell": false,
      "toc_section_display": "block",
      "toc_window_display": false,
      "widenNotebook": false
    }
  },
  "nbformat": 4,
  "nbformat_minor": 0
}