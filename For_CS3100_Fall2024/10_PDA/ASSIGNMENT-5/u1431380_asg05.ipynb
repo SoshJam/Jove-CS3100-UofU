{
  "cells": [
    {
      "cell_type": "markdown",
      "metadata": {
        "id": "view-in-github",
        "colab_type": "text"
      },
      "source": [
        "<a href=\"https://colab.research.google.com/github/SoshJam/Jove-CS3100-UofU/blob/master/For_CS3100_Fall2024/10_PDA/ASSIGNMENT-5/u1431380_asg05.ipynb\" target=\"_parent\"><img src=\"https://colab.research.google.com/assets/colab-badge.svg\" alt=\"Open In Colab\"/></a>"
      ]
    },
    {
      "cell_type": "markdown",
      "metadata": {
        "id": "PwYWD2DJyH1_",
        "run_control": {
          "frozen": false,
          "read_only": false
        }
      },
      "source": [
        "# Asg-5 Imports\n"
      ]
    },
    {
      "cell_type": "code",
      "execution_count": 1,
      "metadata": {
        "id": "1Xgq_sM8yH2A",
        "run_control": {
          "frozen": false,
          "read_only": false
        },
        "scrolled": true,
        "colab": {
          "base_uri": "https://localhost:8080/",
          "height": 0
        },
        "outputId": "a1de70f1-e730-43ce-d932-1230ddf0d3a7"
      },
      "outputs": [
        {
          "output_type": "stream",
          "name": "stdout",
          "text": [
            "You may use any of these help commands:\n",
            "help(ResetStNum)\n",
            "help(NxtStateStr)\n",
            "\n",
            "You may use any of these help commands:\n",
            "help(md2mc)\n",
            ".. and if you want to dig more, then ..\n",
            "help(default_line_attr)\n",
            "help(length_ok_input_items)\n",
            "help(union_line_attr_list_fld)\n",
            "help(extend_rsltdict)\n",
            "help(form_delta)\n",
            "help(get_machine_components)\n",
            "\n",
            " \"help(AnimatePDA)\" gives you info on how to use animations with PDA \n"
          ]
        }
      ],
      "source": [
        "#~~~~~~~~~~~~~~~~~~~~~~~~~~~~~~~~~~~~~~~~~~~~~~~~~~~~~~~\n",
        "import sys\n",
        "\n",
        "# -- Detect if in Own Install or in Colab\n",
        "try:\n",
        "    import google.colab\n",
        "    OWN_INSTALL = False\n",
        "except:\n",
        "    OWN_INSTALL = True\n",
        "\n",
        "if OWN_INSTALL:\n",
        "\n",
        "  #---- Leave these definitions ON if running on laptop\n",
        "  #---- Else turn OFF by putting them between ''' ... '''\n",
        "\n",
        "  sys.path[0:0] = ['../../../../..',  '../../../../../3rdparty',\n",
        "                   '../../../..',  '../../../../3rdparty',\n",
        "                   '../../..',     '../../../3rdparty',\n",
        "                   '../..',        '../../3rdparty',\n",
        "                   '..',           '../3rdparty' ]\n",
        "\n",
        "else: # In colab\n",
        "  ! if [ ! -d Jove ]; then git clone https://github.com/ganeshutah/Jove Jove; fi\n",
        "  sys.path.append('./Jove')\n",
        "  sys.path.append('./Jove/jove')\n",
        "\n",
        "# -- common imports --\n",
        "from jove.DotBashers import *\n",
        "from jove.Def_md2mc  import *\n",
        "from jove.AnimatePDA import *\n",
        "from jove.Def_PDA    import *\n",
        "#~~~~~~~~~~~~~~~~~~~~~~~~~~~~~~~~~~~~~~~~~~~~~~~~~~~~~~~"
      ]
    },
    {
      "cell_type": "markdown",
      "source": [
        "# **To TAs:** Please note my extension for this assignment and grade accordingly, also that I wasn't able to include the animations in the PDF and had to screenshot and submit them separately."
      ],
      "metadata": {
        "id": "TNIAQABe6Up2"
      }
    },
    {
      "cell_type": "markdown",
      "metadata": {
        "id": "lvqcw1nwqlTL"
      },
      "source": [
        "## Question 1:"
      ]
    },
    {
      "cell_type": "markdown",
      "metadata": {
        "id": "eBDJu0_8qnSI"
      },
      "source": [
        "Design a PDA called \"a2b\" for the language $\\{a^i b^j : i,j\\ge 0, {\\rm and}\\; j = 2i \\}$.\n",
        "- Some strings in such language are: $abb$, $aabbbb$, $aaabbbbbb$, etc.\n",
        "- Put a \"header block\" of comments (before you list the PDA transitions) that describes the overall stacking strategy. For example, put these comments that are accepted by Jove before your md2mc('''PDA...code begins'''):\n",
        "  - !! The PDA uses the stack in THIS WAY while a's arrive\n",
        "  - !! Then when b's arrive, the PDA does THIS\n",
        "  - !! After b's, if $a$'s arrive, the PDA does THIS\n",
        "- After that, fully document your design (line by line)\n",
        "- Then, test your PDA on these strings\n",
        "  1. $\\varepsilon$ (accept)\n",
        "\n",
        "  2. $abb$ (accept)\n",
        "\n",
        "  3. $aabbbb$ (accept)\n",
        "\n",
        "  4. $aaabbbbbb$ (accept)\n",
        "\n",
        "  5. $ab$ (reject)\n",
        "\n",
        "  6. $b$ (reject)\n",
        "\n",
        "  7. $aba$ (reject)\n",
        "\n",
        "  8. $abba$ (reject)\n",
        "- Finally, add two more accepting and two more rejecting tests of your own.\n",
        "\n",
        "- One case for animation is included below. Animate that please."
      ]
    },
    {
      "cell_type": "markdown",
      "metadata": {
        "id": "KydC8uUYs3SL"
      },
      "source": [
        "### Given test cases:"
      ]
    },
    {
      "cell_type": "code",
      "execution_count": 2,
      "metadata": {
        "id": "BNUyi9p5yH2B"
      },
      "outputs": [],
      "source": [
        "a2b = md2mc('''\n",
        "PDA\n",
        "\n",
        "!! Overall Algorithm:\n",
        "!! ...a few more points\n",
        "!! Whenever a's arrive, the PDA adds aa to the stack\n",
        "!! When b's arrive, it removes a's one by one until it gets to the # which was added automatically\n",
        "!! Further characters, or getting a B before any As, make it invalid.\n",
        "\n",
        "!! Now a line-by-line description\n",
        "I_S0 : a  , '' ; aa -> I_S0\n",
        "I_S0 : '' , '' ; '' -> S1\n",
        "\n",
        "S1   : b  , a  ; '' -> S1\n",
        "S1   : '' , #  ; '' -> F_S2\n",
        "''')"
      ]
    },
    {
      "cell_type": "code",
      "source": [
        "dotObj_pda(a2b)"
      ],
      "metadata": {
        "colab": {
          "base_uri": "https://localhost:8080/",
          "height": 156
        },
        "id": "2H4VmRYV5tTA",
        "outputId": "408d6ee9-59f6-472a-f3de-34e2ffcdf184"
      },
      "execution_count": 44,
      "outputs": [
        {
          "output_type": "execute_result",
          "data": {
            "image/svg+xml": "<?xml version=\"1.0\" encoding=\"UTF-8\" standalone=\"no\"?>\n<!DOCTYPE svg PUBLIC \"-//W3C//DTD SVG 1.1//EN\"\n \"http://www.w3.org/Graphics/SVG/1.1/DTD/svg11.dtd\">\n<!-- Generated by graphviz version 2.43.0 (0)\n -->\n<!-- Title: %3 Pages: 1 -->\n<svg width=\"400pt\" height=\"102pt\"\n viewBox=\"0.00 0.00 400.39 101.54\" xmlns=\"http://www.w3.org/2000/svg\" xmlns:xlink=\"http://www.w3.org/1999/xlink\">\n<g id=\"graph0\" class=\"graph\" transform=\"scale(1 1) rotate(0) translate(4 97.54)\">\n<title>%3</title>\n<polygon fill=\"white\" stroke=\"transparent\" points=\"-4,4 -4,-97.54 396.39,-97.54 396.39,4 -4,4\"/>\n<!-- EMPTY -->\n<g id=\"node1\" class=\"node\">\n<title>EMPTY</title>\n</g>\n<!-- I_S0 -->\n<g id=\"node2\" class=\"node\">\n<title>I_S0</title>\n<ellipse fill=\"none\" stroke=\"black\" cx=\"118.3\" cy=\"-33.25\" rx=\"27.1\" ry=\"27.1\"/>\n<text text-anchor=\"middle\" x=\"118.3\" y=\"-29.55\" font-family=\"Times,serif\" font-size=\"14.00\">I_S0</text>\n</g>\n<!-- EMPTY&#45;&gt;I_S0 -->\n<g id=\"edge1\" class=\"edge\">\n<title>EMPTY&#45;&gt;I_S0</title>\n<path fill=\"none\" stroke=\"black\" d=\"M54.31,-33.25C62.59,-33.25 71.89,-33.25 80.76,-33.25\"/>\n<polygon fill=\"black\" stroke=\"black\" points=\"80.87,-36.75 90.87,-33.25 80.87,-29.75 80.87,-36.75\"/>\n</g>\n<!-- I_S0&#45;&gt;I_S0 -->\n<g id=\"edge2\" class=\"edge\">\n<title>I_S0&#45;&gt;I_S0</title>\n<path fill=\"none\" stroke=\"black\" d=\"M110.1,-59.31C109.63,-69.77 112.37,-78.54 118.3,-78.54 122.1,-78.54 124.58,-74.94 125.76,-69.61\"/>\n<polygon fill=\"black\" stroke=\"black\" points=\"129.27,-69.54 126.5,-59.31 122.29,-69.04 129.27,-69.54\"/>\n<text text-anchor=\"middle\" x=\"118.3\" y=\"-82.34\" font-family=\"Times,serif\" font-size=\"14.00\">a, &#39;&#39; ; aa</text>\n</g>\n<!-- S1 -->\n<g id=\"node3\" class=\"node\">\n<title>S1</title>\n<ellipse fill=\"none\" stroke=\"black\" cx=\"234.74\" cy=\"-33.25\" rx=\"20.3\" ry=\"20.3\"/>\n<text text-anchor=\"middle\" x=\"234.74\" y=\"-29.55\" font-family=\"Times,serif\" font-size=\"14.00\">S1</text>\n</g>\n<!-- I_S0&#45;&gt;S1 -->\n<g id=\"edge3\" class=\"edge\">\n<title>I_S0&#45;&gt;S1</title>\n<path fill=\"none\" stroke=\"black\" d=\"M145.84,-33.25C163.31,-33.25 186.2,-33.25 204.24,-33.25\"/>\n<polygon fill=\"black\" stroke=\"black\" points=\"204.49,-36.75 214.49,-33.25 204.49,-29.75 204.49,-36.75\"/>\n<text text-anchor=\"middle\" x=\"180.1\" y=\"-37.05\" font-family=\"Times,serif\" font-size=\"14.00\">&#39;&#39;, &#39;&#39; ; &#39;&#39;</text>\n</g>\n<!-- S1&#45;&gt;S1 -->\n<g id=\"edge4\" class=\"edge\">\n<title>S1&#45;&gt;S1</title>\n<path fill=\"none\" stroke=\"black\" d=\"M225.17,-51.3C223.22,-61.71 226.41,-71.4 234.74,-71.4 240.21,-71.4 243.46,-67.22 244.5,-61.41\"/>\n<polygon fill=\"black\" stroke=\"black\" points=\"248,-61.23 244.31,-51.3 241,-61.37 248,-61.23\"/>\n<text text-anchor=\"middle\" x=\"234.74\" y=\"-75.2\" font-family=\"Times,serif\" font-size=\"14.00\">b, a ; &#39;&#39;</text>\n</g>\n<!-- F_S2 -->\n<g id=\"node4\" class=\"node\">\n<title>F_S2</title>\n<ellipse fill=\"none\" stroke=\"black\" cx=\"359.14\" cy=\"-33.25\" rx=\"29.47\" ry=\"29.47\"/>\n<ellipse fill=\"none\" stroke=\"black\" cx=\"359.14\" cy=\"-33.25\" rx=\"33.5\" ry=\"33.5\"/>\n<text text-anchor=\"middle\" x=\"359.14\" y=\"-29.55\" font-family=\"Times,serif\" font-size=\"14.00\">F_S2</text>\n</g>\n<!-- S1&#45;&gt;F_S2 -->\n<g id=\"edge5\" class=\"edge\">\n<title>S1&#45;&gt;F_S2</title>\n<path fill=\"none\" stroke=\"black\" d=\"M255.14,-33.25C271.28,-33.25 294.87,-33.25 315.39,-33.25\"/>\n<polygon fill=\"black\" stroke=\"black\" points=\"315.48,-36.75 325.48,-33.25 315.48,-29.75 315.48,-36.75\"/>\n<text text-anchor=\"middle\" x=\"290.39\" y=\"-37.05\" font-family=\"Times,serif\" font-size=\"14.00\">&#39;&#39;, # ; &#39;&#39;</text>\n</g>\n</g>\n</svg>\n",
            "text/plain": [
              "<graphviz.graphs.Digraph at 0x798ce0167820>"
            ]
          },
          "metadata": {},
          "execution_count": 44
        }
      ]
    },
    {
      "cell_type": "code",
      "execution_count": 46,
      "metadata": {
        "id": "GmL0xdfIyH2B",
        "colab": {
          "base_uri": "https://localhost:8080/",
          "height": 35
        },
        "outputId": "d624518d-b28a-4427-a111-754677b12842"
      },
      "outputs": [
        {
          "output_type": "execute_result",
          "data": {
            "text/plain": [
              "'a2b.pdf'"
            ],
            "application/vnd.google.colaboratory.intrinsic+json": {
              "type": "string"
            }
          },
          "metadata": {},
          "execution_count": 46
        }
      ],
      "source": [
        "dotObj_pda(a2b).render('a2b')"
      ]
    },
    {
      "cell_type": "code",
      "execution_count": 4,
      "metadata": {
        "id": "-I9wnqF0yH2B",
        "colab": {
          "base_uri": "https://localhost:8080/",
          "height": 0
        },
        "outputId": "8f6fa466-dc64-4e31-8fc5-171ff337c98f"
      },
      "outputs": [
        {
          "output_type": "stream",
          "name": "stdout",
          "text": [
            "String  accepted by your PDA in 1 ways :-) \n",
            "Here are the ways: \n",
            "Final state  ('F_S2', '', '')\n",
            "Reached as follows:\n",
            "->  ('I_S0', '', '#')\n",
            "->  ('S1', '', '#')\n",
            "->  ('F_S2', '', '') .\n"
          ]
        }
      ],
      "source": [
        "explore_pda('', a2b)"
      ]
    },
    {
      "cell_type": "code",
      "execution_count": 5,
      "metadata": {
        "id": "LkT2W1m2yH2B",
        "colab": {
          "base_uri": "https://localhost:8080/",
          "height": 0
        },
        "outputId": "9c70db38-70a2-4144-f278-f5ef23eaa375"
      },
      "outputs": [
        {
          "output_type": "stream",
          "name": "stdout",
          "text": [
            "String abb accepted by your PDA in 1 ways :-) \n",
            "Here are the ways: \n",
            "Final state  ('F_S2', '', '')\n",
            "Reached as follows:\n",
            "->  ('I_S0', 'abb', '#')\n",
            "->  ('I_S0', 'bb', 'aa#')\n",
            "->  ('S1', 'bb', 'aa#')\n",
            "->  ('S1', 'b', 'a#')\n",
            "->  ('S1', '', '#')\n",
            "->  ('F_S2', '', '') .\n"
          ]
        }
      ],
      "source": [
        "explore_pda('abb', a2b)"
      ]
    },
    {
      "cell_type": "code",
      "execution_count": 6,
      "metadata": {
        "id": "gfbSu77gyH2B",
        "colab": {
          "base_uri": "https://localhost:8080/",
          "height": 0
        },
        "outputId": "b90315c8-87c5-4e9a-cb6d-8a2ae3535833"
      },
      "outputs": [
        {
          "output_type": "stream",
          "name": "stdout",
          "text": [
            "String aabbbb accepted by your PDA in 1 ways :-) \n",
            "Here are the ways: \n",
            "Final state  ('F_S2', '', '')\n",
            "Reached as follows:\n",
            "->  ('I_S0', 'aabbbb', '#')\n",
            "->  ('I_S0', 'abbbb', 'aa#')\n",
            "->  ('I_S0', 'bbbb', 'aaaa#')\n",
            "->  ('S1', 'bbbb', 'aaaa#')\n",
            "->  ('S1', 'bbb', 'aaa#')\n",
            "->  ('S1', 'bb', 'aa#')\n",
            "->  ('S1', 'b', 'a#')\n",
            "->  ('S1', '', '#')\n",
            "->  ('F_S2', '', '') .\n"
          ]
        }
      ],
      "source": [
        "explore_pda('aabbbb', a2b)"
      ]
    },
    {
      "cell_type": "code",
      "execution_count": 7,
      "metadata": {
        "id": "Wvh5l8LgyH2C",
        "colab": {
          "base_uri": "https://localhost:8080/",
          "height": 0
        },
        "outputId": "1ba65ce1-4fa4-4ee8-a324-ebf84cb40b7d"
      },
      "outputs": [
        {
          "output_type": "stream",
          "name": "stdout",
          "text": [
            "String aaabbbbbb accepted by your PDA in 1 ways :-) \n",
            "Here are the ways: \n",
            "Final state  ('F_S2', '', '')\n",
            "Reached as follows:\n",
            "->  ('I_S0', 'aaabbbbbb', '#')\n",
            "->  ('I_S0', 'aabbbbbb', 'aa#')\n",
            "->  ('I_S0', 'abbbbbb', 'aaaa#')\n",
            "->  ('I_S0', 'bbbbbb', 'aaaaaa#')\n",
            "->  ('S1', 'bbbbbb', 'aaaaaa#')\n",
            "->  ('S1', 'bbbbb', 'aaaaa#')\n",
            "->  ('S1', 'bbbb', 'aaaa#')\n",
            "->  ('S1', 'bbb', 'aaa#')\n",
            "->  ('S1', 'bb', 'aa#')\n",
            "->  ('S1', 'b', 'a#')\n",
            "->  ('S1', '', '#')\n",
            "->  ('F_S2', '', '') .\n"
          ]
        }
      ],
      "source": [
        "explore_pda('aaabbbbbb', a2b)"
      ]
    },
    {
      "cell_type": "code",
      "source": [
        "# Animate just the above case\n",
        "\n",
        "AnimatePDA(a2b, FuseEdges=True)\n",
        "display(HTML('<link rel=\"stylesheet\" href=\"//stackpath.bootstrapcdn.com/font-awesome/4.7.0/css/font-awesome.min.css\"/>'))"
      ],
      "metadata": {
        "id": "oFLeWWqo35JG",
        "colab": {
          "base_uri": "https://localhost:8080/",
          "height": 429,
          "referenced_widgets": [
            "fdf62703000d4c649c5498bb392a6daf",
            "d4ff502de507471491b346473d141166",
            "91dae70c12074997b845217f7543b6af",
            "3ca6274cbacd4007af4b83239a7b0fe9",
            "f78f39326a0e453786ce682984157dac",
            "fa91273902b449ad95a0e9e24a322980",
            "a4c17e23f52941de83c6d90caee2a532",
            "c8d650ecc1304da3af58bc3ece5f755c",
            "6317b2025d124fb7b509aa1034462581",
            "ea1bf6da43f045548428026e59dd5f36",
            "f1028c66650c4a559af0893772be06c5",
            "d1e412e5a9204970b756b798a164d716",
            "58e5b403b3c94d89b0a650850bc82179",
            "1085b668b1f64c888499c82f8f37765a",
            "bafee192b8854b41abcb470c1cd6a03d",
            "6c75c96fe6de4ac4864d60e7068dda78",
            "0ebd4ae35b3e4eb7864a2f1e26be4a03",
            "47fc638be1224ea5bdbcc111a1149906",
            "f4fbfe4dcc2a4a8f8e27ecc22ec68e68",
            "08a3f7174b2141889f6e064705defe03",
            "2b724605dd7148938188c4d3cff18dc9",
            "fdb39ce9fda14c1aaf62915ef96505e1",
            "4a8237a0a9b04210986eabe3201187ad",
            "8c0e9e98d8f343b980c35b1b517339b3",
            "bf49f10851eb4e879a6d3358676c3be8",
            "6d7364b253794688a5af45a6353b4a76",
            "739c24a0ef0743d5b61cffb8193c46b1",
            "c32c5fd2974742c9a7b8ad27d5c9ec25",
            "384f33cf69ff4a7dadbd315b2a328166",
            "5b41300a4c914f58b872396d9b23b5db",
            "cdeb57f277414878a7178255b2e72689",
            "da9a3263c2c84cceb28d8b6caa5f3929",
            "7883dd0e01a5431b81e520a0663a4abf",
            "f6e4f43e2daa4f9d916d813fb75fbfb0",
            "cc245c2dfb854fcf946c70d75614fa6f",
            "e4bf3bb2ea9643619e9285f477260805",
            "22f1856095984b488d80be00c1c95994",
            "270736534965467096961ccfecf61029",
            "03eafbaf9a714c52a8dd71f2abdd02d9",
            "a8a9fa34503d410289b41a30a945a6c7",
            "318561d3c0ff48d4a715fcf654643325",
            "edf48c3f594040d09792d1779a2dc7d4",
            "f37cf3a486de441da55a0b53f8305ce5",
            "ddcba155d6d4457dbe258897ee6cebf6",
            "5a9eecb01d7f4268b6a2133402d8107a",
            "1e8a615af5f948e286ad824eda899ba0",
            "b6fcddf38c9e4ed6928a96e82432e396"
          ]
        },
        "outputId": "ae6aa4af-8b00-4934-e73a-6b4fcf6df411"
      },
      "execution_count": 8,
      "outputs": [
        {
          "output_type": "display_data",
          "data": {
            "text/plain": [
              "VBox(children=(HBox(children=(Text(value='', description='Input:', layout=Layout(width='500px'), placeholder='…"
            ],
            "application/vnd.jupyter.widget-view+json": {
              "version_major": 2,
              "version_minor": 0,
              "model_id": "fdf62703000d4c649c5498bb392a6daf"
            }
          },
          "metadata": {}
        },
        {
          "output_type": "display_data",
          "data": {
            "text/plain": [
              "<IPython.core.display.HTML object>"
            ],
            "text/html": [
              "<link rel=\"stylesheet\" href=\"//stackpath.bootstrapcdn.com/font-awesome/4.7.0/css/font-awesome.min.css\"/>"
            ]
          },
          "metadata": {}
        }
      ]
    },
    {
      "cell_type": "code",
      "execution_count": 9,
      "metadata": {
        "id": "d6cB517ZyH2C",
        "colab": {
          "base_uri": "https://localhost:8080/",
          "height": 0
        },
        "outputId": "6babec3c-c973-4288-f0ef-5560716cdfc3"
      },
      "outputs": [
        {
          "output_type": "stream",
          "name": "stdout",
          "text": [
            "String ab rejected by your PDA :-(\n",
            "Visited states are:\n",
            "{('F_S2', 'ab', ''), ('S1', '', 'a#'), ('S1', 'b', 'aa#'), ('I_S0', 'b', 'aa#'), ('I_S0', 'ab', '#'), ('S1', 'ab', '#')}\n"
          ]
        }
      ],
      "source": [
        "explore_pda('ab', a2b)"
      ]
    },
    {
      "cell_type": "code",
      "execution_count": 10,
      "metadata": {
        "id": "CwwJSo7vyH2C",
        "colab": {
          "base_uri": "https://localhost:8080/",
          "height": 0
        },
        "outputId": "6a186c5d-6d74-43fb-82a3-cce5e13b1975"
      },
      "outputs": [
        {
          "output_type": "stream",
          "name": "stdout",
          "text": [
            "String b rejected by your PDA :-(\n",
            "Visited states are:\n",
            "{('F_S2', 'b', ''), ('I_S0', 'b', '#'), ('S1', 'b', '#')}\n"
          ]
        }
      ],
      "source": [
        "explore_pda('b', a2b)"
      ]
    },
    {
      "cell_type": "code",
      "execution_count": 11,
      "metadata": {
        "id": "3KMkj2zcyH2C",
        "colab": {
          "base_uri": "https://localhost:8080/",
          "height": 0
        },
        "outputId": "81b0f530-aa15-45b5-d517-355450915389"
      },
      "outputs": [
        {
          "output_type": "stream",
          "name": "stdout",
          "text": [
            "String aba rejected by your PDA :-(\n",
            "Visited states are:\n",
            "{('S1', 'aba', '#'), ('F_S2', 'aba', ''), ('S1', 'ba', 'aa#'), ('I_S0', 'aba', '#'), ('I_S0', 'ba', 'aa#'), ('S1', 'a', 'a#')}\n"
          ]
        }
      ],
      "source": [
        "explore_pda('aba', a2b)"
      ]
    },
    {
      "cell_type": "code",
      "execution_count": 12,
      "metadata": {
        "id": "6P5QjKeMyH2C",
        "colab": {
          "base_uri": "https://localhost:8080/",
          "height": 0
        },
        "outputId": "659c1bb2-7268-486f-f477-aa4615e637e8"
      },
      "outputs": [
        {
          "output_type": "stream",
          "name": "stdout",
          "text": [
            "String abba rejected by your PDA :-(\n",
            "Visited states are:\n",
            "{('F_S2', 'abba', ''), ('F_S2', 'a', ''), ('I_S0', 'bba', 'aa#'), ('S1', 'abba', '#'), ('I_S0', 'abba', '#'), ('S1', 'bba', 'aa#'), ('S1', 'a', '#'), ('S1', 'ba', 'a#')}\n"
          ]
        }
      ],
      "source": [
        "explore_pda('abba', a2b)"
      ]
    },
    {
      "cell_type": "markdown",
      "metadata": {
        "id": "3PJK79yayH2D"
      },
      "source": [
        "### Add your own test cases here:"
      ]
    },
    {
      "cell_type": "code",
      "source": [
        "# Passing test cases are just boring haha\n",
        "explore_pda('aaaabbbbbbbb', a2b)"
      ],
      "metadata": {
        "colab": {
          "base_uri": "https://localhost:8080/",
          "height": 0
        },
        "id": "MMYBdZOPxqSq",
        "outputId": "604a410f-b7cf-46b3-d63f-785cef1a9bd7"
      },
      "execution_count": 13,
      "outputs": [
        {
          "output_type": "stream",
          "name": "stdout",
          "text": [
            "String aaaabbbbbbbb accepted by your PDA in 1 ways :-) \n",
            "Here are the ways: \n",
            "Final state  ('F_S2', '', '')\n",
            "Reached as follows:\n",
            "->  ('I_S0', 'aaaabbbbbbbb', '#')\n",
            "->  ('I_S0', 'aaabbbbbbbb', 'aa#')\n",
            "->  ('I_S0', 'aabbbbbbbb', 'aaaa#')\n",
            "->  ('I_S0', 'abbbbbbbb', 'aaaaaa#')\n",
            "->  ('I_S0', 'bbbbbbbb', 'aaaaaaaa#')\n",
            "->  ('S1', 'bbbbbbbb', 'aaaaaaaa#')\n",
            "->  ('S1', 'bbbbbbb', 'aaaaaaa#')\n",
            "->  ('S1', 'bbbbbb', 'aaaaaa#')\n",
            "->  ('S1', 'bbbbb', 'aaaaa#')\n",
            "->  ('S1', 'bbbb', 'aaaa#')\n",
            "->  ('S1', 'bbb', 'aaa#')\n",
            "->  ('S1', 'bb', 'aa#')\n",
            "->  ('S1', 'b', 'a#')\n",
            "->  ('S1', '', '#')\n",
            "->  ('F_S2', '', '') .\n"
          ]
        }
      ]
    },
    {
      "cell_type": "code",
      "source": [
        "explore_pda('aaaaabbbbbbbbbb', a2b)"
      ],
      "metadata": {
        "colab": {
          "base_uri": "https://localhost:8080/",
          "height": 0
        },
        "id": "a0SofmpGxpxk",
        "outputId": "7b2ebc29-c372-4c4d-d13f-81519da28928"
      },
      "execution_count": 14,
      "outputs": [
        {
          "output_type": "stream",
          "name": "stdout",
          "text": [
            "String aaaaabbbbbbbbbb accepted by your PDA in 1 ways :-) \n",
            "Here are the ways: \n",
            "Final state  ('F_S2', '', '')\n",
            "Reached as follows:\n",
            "->  ('I_S0', 'aaaaabbbbbbbbbb', '#')\n",
            "->  ('I_S0', 'aaaabbbbbbbbbb', 'aa#')\n",
            "->  ('I_S0', 'aaabbbbbbbbbb', 'aaaa#')\n",
            "->  ('I_S0', 'aabbbbbbbbbb', 'aaaaaa#')\n",
            "->  ('I_S0', 'abbbbbbbbbb', 'aaaaaaaa#')\n",
            "->  ('I_S0', 'bbbbbbbbbb', 'aaaaaaaaaa#')\n",
            "->  ('S1', 'bbbbbbbbbb', 'aaaaaaaaaa#')\n",
            "->  ('S1', 'bbbbbbbbb', 'aaaaaaaaa#')\n",
            "->  ('S1', 'bbbbbbbb', 'aaaaaaaa#')\n",
            "->  ('S1', 'bbbbbbb', 'aaaaaaa#')\n",
            "->  ('S1', 'bbbbbb', 'aaaaaa#')\n",
            "->  ('S1', 'bbbbb', 'aaaaa#')\n",
            "->  ('S1', 'bbbb', 'aaaa#')\n",
            "->  ('S1', 'bbb', 'aaa#')\n",
            "->  ('S1', 'bb', 'aa#')\n",
            "->  ('S1', 'b', 'a#')\n",
            "->  ('S1', '', '#')\n",
            "->  ('F_S2', '', '') .\n"
          ]
        }
      ]
    },
    {
      "cell_type": "code",
      "source": [
        "# Failing test cases\n",
        "explore_pda('bba', a2b)"
      ],
      "metadata": {
        "colab": {
          "base_uri": "https://localhost:8080/",
          "height": 0
        },
        "id": "nKXYmn7zxp76",
        "outputId": "188d90da-06d5-4696-b2bf-c83033fd69bd"
      },
      "execution_count": 15,
      "outputs": [
        {
          "output_type": "stream",
          "name": "stdout",
          "text": [
            "String bba rejected by your PDA :-(\n",
            "Visited states are:\n",
            "{('I_S0', 'bba', '#'), ('S1', 'bba', '#'), ('F_S2', 'bba', '')}\n"
          ]
        }
      ]
    },
    {
      "cell_type": "code",
      "source": [
        "explore_pda('abbaabbbb', a2b)"
      ],
      "metadata": {
        "colab": {
          "base_uri": "https://localhost:8080/",
          "height": 0
        },
        "id": "aSpkITTLxqMT",
        "outputId": "9ad8bb3c-ce35-42de-aeaf-2c2bdd2ca7bf"
      },
      "execution_count": 16,
      "outputs": [
        {
          "output_type": "stream",
          "name": "stdout",
          "text": [
            "String abbaabbbb rejected by your PDA :-(\n",
            "Visited states are:\n",
            "{('S1', 'bbaabbbb', 'aa#'), ('S1', 'aabbbb', '#'), ('I_S0', 'bbaabbbb', 'aa#'), ('F_S2', 'abbaabbbb', ''), ('S1', 'baabbbb', 'a#'), ('I_S0', 'abbaabbbb', '#'), ('F_S2', 'aabbbb', ''), ('S1', 'abbaabbbb', '#')}\n"
          ]
        }
      ]
    },
    {
      "cell_type": "markdown",
      "metadata": {
        "id": "5ttGubLrr3OU"
      },
      "source": [
        "## Question 2:"
      ]
    },
    {
      "cell_type": "markdown",
      "metadata": {
        "id": "HgHEIsUrr92k"
      },
      "source": [
        "Design a PDA for language Lif in question 1.\n",
        "\n",
        "This language comes from Section 4.8.1 of the book, but to reduce the complexity of the language, I've changed the i=3 to i=2.\n",
        "\n",
        "Thus THIS Lif language is\n",
        "\n",
        "  { a^i b^j c^k : if (i=2) then j=k }\n",
        "\n",
        "This is reflected in the tests -- I accept when i=2 as you can see.\n",
        "\n",
        "- Hint: when a = 2, the PDA matches b's and c's (using the stack for this match). Else, it only checks their order of arrival (and simply ignores the stack).\n",
        "- Test your PDA on these strings:\n",
        "  - aabbbccc   (accept)\n",
        "  - aabbbbcccc (accept)\n",
        "  - aa         (accept)\n",
        "  - abbbcccc (accept)\n",
        "  - aaabbc   (accept)\n",
        "  - Epsilon    (accept, as there are zero a's)\n",
        "  - abbcc    (accept, as there is no constraint to not match b's and c's if two a's)\n",
        "  - cb        (reject)\n",
        "  - aabbcca (reject)\n",
        "  - abba     (reject)\n",
        "  - ccac       (reject)\n",
        "  - abba       (reject)\n",
        "  - baac       (reject)\n",
        "  - ac         (accept)\n",
        "- Then add three more accepting test cases and three more rejecting test cases. Document the tests saying why they must pass/fail\n",
        "\n",
        "* Two cases for animation have been added. Animate that please."
      ]
    },
    {
      "cell_type": "code",
      "execution_count": 17,
      "metadata": {
        "id": "qOGCbbuJyH2D"
      },
      "outputs": [],
      "source": [
        "Lif = md2mc('''\n",
        "PDA\n",
        "\n",
        "!! Overall Algorithm\n",
        "!! This PDA will have 2 branches, one for if i==2, and one for if i!=2.\n",
        "!! First we will add 2 a's to the stack.\n",
        "!! If we encounter an a, we remove from the stack, and when we run out we know we have exactly 2 a's.\n",
        "!! If we encounter a b or c before that, or if we encounter further a's, go to the i!=2 branch where we just make sure a's come before b's and b's come before c's.\n",
        "!! If we encounter a b with exactly 2 a's, go to the i==2 branch where we use the typical method to ensure j==k.\n",
        "\n",
        "!! Add aa to the stack\n",
        "I : '' , '' ; aa -> F_S0\n",
        "\n",
        "!! Loop state while we wait for i>=2\n",
        "!! This is accepting because if there are 0 or 1 a's it's valid\n",
        "F_S0 : a , a ; '' -> F_S0  !! If there are still a's, i < 2, so remove them\n",
        "F_S0 : a , # ; '' -> F_B2a !! If i > 2 loop for a's\n",
        "F_S0 : b , a ; '' -> F_B2b !! If i < 2 loop for b's\n",
        "F_S0 : c , a ; '' -> F_B2c !! If i < 2 loop for c's (j = 0)\n",
        "F_S0 : '', # ; #  -> S_B1b !! If i = 2, start the b loop\n",
        "\n",
        "!! Branch 1, adding b's and removing them for each C\n",
        "S_B1b : b  , '' ; b  -> S_B1b !! Add a b to the stack for each b we encounter\n",
        "S_B1b : '' , '' ; '' -> S_B1c !! Also branch to the C state\n",
        "\n",
        "S_B1c : c  , b  ; '' -> S_B1c !! Remove a B for each C\n",
        "S_B1c : '' , #  ; '' -> F_B1  !! Finish when we get to the bottom of the stack, further b's or c's get sent to BH\n",
        "\n",
        "!! Branch 2, just ensuring b's and c's stay in order.\n",
        "F_B2a : a  , '' ; '' -> F_B2a !! Loop a's until we get a b or c\n",
        "F_B2a : '' , '' ; '' -> F_B2b\n",
        "\n",
        "F_B2b : b  , '' ; '' -> F_B2b\n",
        "F_B2b : '' , '' ; '' -> F_B2c\n",
        "\n",
        "F_B2c : c  , '' ; '' -> F_B2c\n",
        "''')"
      ]
    },
    {
      "cell_type": "code",
      "execution_count": 18,
      "metadata": {
        "id": "Qyzpk_0byH2E",
        "colab": {
          "base_uri": "https://localhost:8080/",
          "height": 459
        },
        "outputId": "ce322d0c-4684-4544-a4f4-d73f47e69477"
      },
      "outputs": [
        {
          "output_type": "execute_result",
          "data": {
            "image/svg+xml": "<?xml version=\"1.0\" encoding=\"UTF-8\" standalone=\"no\"?>\n<!DOCTYPE svg PUBLIC \"-//W3C//DTD SVG 1.1//EN\"\n \"http://www.w3.org/Graphics/SVG/1.1/DTD/svg11.dtd\">\n<!-- Generated by graphviz version 2.43.0 (0)\n -->\n<!-- Title: %3 Pages: 1 -->\n<svg width=\"724pt\" height=\"329pt\"\n viewBox=\"0.00 0.00 724.18 328.89\" xmlns=\"http://www.w3.org/2000/svg\" xmlns:xlink=\"http://www.w3.org/1999/xlink\">\n<g id=\"graph0\" class=\"graph\" transform=\"scale(1 1) rotate(0) translate(4 324.89)\">\n<title>%3</title>\n<polygon fill=\"white\" stroke=\"transparent\" points=\"-4,4 -4,-324.89 720.18,-324.89 720.18,4 -4,4\"/>\n<!-- EMPTY -->\n<g id=\"node1\" class=\"node\">\n<title>EMPTY</title>\n</g>\n<!-- I -->\n<g id=\"node4\" class=\"node\">\n<title>I</title>\n<ellipse fill=\"none\" stroke=\"black\" cx=\"109\" cy=\"-159.45\" rx=\"18\" ry=\"18\"/>\n<text text-anchor=\"middle\" x=\"109\" y=\"-155.75\" font-family=\"Times,serif\" font-size=\"14.00\">I</text>\n</g>\n<!-- EMPTY&#45;&gt;I -->\n<g id=\"edge1\" class=\"edge\">\n<title>EMPTY&#45;&gt;I</title>\n<path fill=\"none\" stroke=\"black\" d=\"M54.19,-159.45C62.65,-159.45 72.05,-159.45 80.6,-159.45\"/>\n<polygon fill=\"black\" stroke=\"black\" points=\"80.83,-162.95 90.83,-159.45 80.83,-155.95 80.83,-162.95\"/>\n</g>\n<!-- S_B1b -->\n<g id=\"node2\" class=\"node\">\n<title>S_B1b</title>\n<ellipse fill=\"none\" stroke=\"black\" cx=\"380.94\" cy=\"-253.45\" rx=\"34.39\" ry=\"34.39\"/>\n<text text-anchor=\"middle\" x=\"380.94\" y=\"-249.75\" font-family=\"Times,serif\" font-size=\"14.00\">S_B1b</text>\n</g>\n<!-- S_B1b&#45;&gt;S_B1b -->\n<g id=\"edge8\" class=\"edge\">\n<title>S_B1b&#45;&gt;S_B1b</title>\n<path fill=\"none\" stroke=\"black\" d=\"M367.08,-285.2C366.78,-296.6 371.4,-305.89 380.94,-305.89 387.35,-305.89 391.54,-301.7 393.51,-295.49\"/>\n<polygon fill=\"black\" stroke=\"black\" points=\"397.03,-295.55 394.8,-285.2 390.08,-294.68 397.03,-295.55\"/>\n<text text-anchor=\"middle\" x=\"380.94\" y=\"-309.69\" font-family=\"Times,serif\" font-size=\"14.00\">b, &#39;&#39; ; b</text>\n</g>\n<!-- S_B1c -->\n<g id=\"node3\" class=\"node\">\n<title>S_B1c</title>\n<ellipse fill=\"none\" stroke=\"black\" cx=\"529.84\" cy=\"-253.45\" rx=\"34.39\" ry=\"34.39\"/>\n<text text-anchor=\"middle\" x=\"529.84\" y=\"-249.75\" font-family=\"Times,serif\" font-size=\"14.00\">S_B1c</text>\n</g>\n<!-- S_B1b&#45;&gt;S_B1c -->\n<g id=\"edge9\" class=\"edge\">\n<title>S_B1b&#45;&gt;S_B1c</title>\n<path fill=\"none\" stroke=\"black\" d=\"M415.64,-253.45C436.26,-253.45 462.86,-253.45 485.1,-253.45\"/>\n<polygon fill=\"black\" stroke=\"black\" points=\"485.29,-256.95 495.29,-253.45 485.29,-249.95 485.29,-256.95\"/>\n<text text-anchor=\"middle\" x=\"455.39\" y=\"-257.25\" font-family=\"Times,serif\" font-size=\"14.00\">&#39;&#39;, &#39;&#39; ; &#39;&#39;</text>\n</g>\n<!-- S_B1c&#45;&gt;S_B1c -->\n<g id=\"edge10\" class=\"edge\">\n<title>S_B1c&#45;&gt;S_B1c</title>\n<path fill=\"none\" stroke=\"black\" d=\"M516.35,-285.2C516.06,-296.6 520.55,-305.89 529.84,-305.89 536.07,-305.89 540.15,-301.7 542.06,-295.49\"/>\n<polygon fill=\"black\" stroke=\"black\" points=\"545.58,-295.55 543.32,-285.2 538.63,-294.7 545.58,-295.55\"/>\n<text text-anchor=\"middle\" x=\"529.84\" y=\"-309.69\" font-family=\"Times,serif\" font-size=\"14.00\">c, b ; &#39;&#39;</text>\n</g>\n<!-- F_B1 -->\n<g id=\"node9\" class=\"node\">\n<title>F_B1</title>\n<ellipse fill=\"none\" stroke=\"black\" cx=\"677.73\" cy=\"-253.45\" rx=\"30.59\" ry=\"30.59\"/>\n<ellipse fill=\"none\" stroke=\"black\" cx=\"677.73\" cy=\"-253.45\" rx=\"34.59\" ry=\"34.59\"/>\n<text text-anchor=\"middle\" x=\"677.73\" y=\"-249.75\" font-family=\"Times,serif\" font-size=\"14.00\">F_B1</text>\n</g>\n<!-- S_B1c&#45;&gt;F_B1 -->\n<g id=\"edge11\" class=\"edge\">\n<title>S_B1c&#45;&gt;F_B1</title>\n<path fill=\"none\" stroke=\"black\" d=\"M564.31,-253.45C584.71,-253.45 611.02,-253.45 633.05,-253.45\"/>\n<polygon fill=\"black\" stroke=\"black\" points=\"633.16,-256.95 643.16,-253.45 633.16,-249.95 633.16,-256.95\"/>\n<text text-anchor=\"middle\" x=\"603.78\" y=\"-257.25\" font-family=\"Times,serif\" font-size=\"14.00\">&#39;&#39;, # ; &#39;&#39;</text>\n</g>\n<!-- F_S0 -->\n<g id=\"node8\" class=\"node\">\n<title>F_S0</title>\n<ellipse fill=\"none\" stroke=\"black\" cx=\"236.25\" cy=\"-159.45\" rx=\"29.47\" ry=\"29.47\"/>\n<ellipse fill=\"none\" stroke=\"black\" cx=\"236.25\" cy=\"-159.45\" rx=\"33.5\" ry=\"33.5\"/>\n<text text-anchor=\"middle\" x=\"236.25\" y=\"-155.75\" font-family=\"Times,serif\" font-size=\"14.00\">F_S0</text>\n</g>\n<!-- I&#45;&gt;F_S0 -->\n<g id=\"edge2\" class=\"edge\">\n<title>I&#45;&gt;F_S0</title>\n<path fill=\"none\" stroke=\"black\" d=\"M127.15,-159.45C144,-159.45 170.38,-159.45 192.86,-159.45\"/>\n<polygon fill=\"black\" stroke=\"black\" points=\"192.86,-162.95 202.86,-159.45 192.86,-155.95 192.86,-162.95\"/>\n<text text-anchor=\"middle\" x=\"165\" y=\"-163.25\" font-family=\"Times,serif\" font-size=\"14.00\">&#39;&#39;, &#39;&#39; ; aa</text>\n</g>\n<!-- F_B2b -->\n<g id=\"node5\" class=\"node\">\n<title>F_B2b</title>\n<ellipse fill=\"none\" stroke=\"black\" cx=\"529.84\" cy=\"-79.45\" rx=\"34.4\" ry=\"34.4\"/>\n<ellipse fill=\"none\" stroke=\"black\" cx=\"529.84\" cy=\"-79.45\" rx=\"38.39\" ry=\"38.39\"/>\n<text text-anchor=\"middle\" x=\"529.84\" y=\"-75.75\" font-family=\"Times,serif\" font-size=\"14.00\">F_B2b</text>\n</g>\n<!-- F_B2b&#45;&gt;F_B2b -->\n<g id=\"edge14\" class=\"edge\">\n<title>F_B2b&#45;&gt;F_B2b</title>\n<path fill=\"none\" stroke=\"black\" d=\"M516.34,-115.55C516.55,-126.92 521.05,-135.89 529.84,-135.89 535.74,-135.89 539.71,-131.84 541.74,-125.74\"/>\n<polygon fill=\"black\" stroke=\"black\" points=\"545.25,-125.97 543.33,-115.55 538.33,-124.89 545.25,-125.97\"/>\n<text text-anchor=\"middle\" x=\"529.84\" y=\"-139.69\" font-family=\"Times,serif\" font-size=\"14.00\">b, &#39;&#39; ; &#39;&#39;</text>\n</g>\n<!-- F_B2c -->\n<g id=\"node7\" class=\"node\">\n<title>F_B2c</title>\n<ellipse fill=\"none\" stroke=\"black\" cx=\"677.73\" cy=\"-38.45\" rx=\"34.4\" ry=\"34.4\"/>\n<ellipse fill=\"none\" stroke=\"black\" cx=\"677.73\" cy=\"-38.45\" rx=\"38.39\" ry=\"38.39\"/>\n<text text-anchor=\"middle\" x=\"677.73\" y=\"-34.75\" font-family=\"Times,serif\" font-size=\"14.00\">F_B2c</text>\n</g>\n<!-- F_B2b&#45;&gt;F_B2c -->\n<g id=\"edge15\" class=\"edge\">\n<title>F_B2b&#45;&gt;F_B2c</title>\n<path fill=\"none\" stroke=\"black\" d=\"M567.27,-69.21C586.5,-63.81 610.27,-57.12 630.75,-51.37\"/>\n<polygon fill=\"black\" stroke=\"black\" points=\"631.82,-54.7 640.5,-48.63 629.93,-47.96 631.82,-54.7\"/>\n<text text-anchor=\"middle\" x=\"603.78\" y=\"-68.25\" font-family=\"Times,serif\" font-size=\"14.00\">&#39;&#39;, &#39;&#39; ; &#39;&#39;</text>\n</g>\n<!-- F_B2a -->\n<g id=\"node6\" class=\"node\">\n<title>F_B2a</title>\n<ellipse fill=\"none\" stroke=\"black\" cx=\"380.94\" cy=\"-79.45\" rx=\"34.4\" ry=\"34.4\"/>\n<ellipse fill=\"none\" stroke=\"black\" cx=\"380.94\" cy=\"-79.45\" rx=\"38.39\" ry=\"38.39\"/>\n<text text-anchor=\"middle\" x=\"380.94\" y=\"-75.75\" font-family=\"Times,serif\" font-size=\"14.00\">F_B2a</text>\n</g>\n<!-- F_B2a&#45;&gt;F_B2b -->\n<g id=\"edge13\" class=\"edge\">\n<title>F_B2a&#45;&gt;F_B2b</title>\n<path fill=\"none\" stroke=\"black\" d=\"M419.39,-79.45C438.14,-79.45 461.04,-79.45 481.04,-79.45\"/>\n<polygon fill=\"black\" stroke=\"black\" points=\"481.2,-82.95 491.2,-79.45 481.2,-75.95 481.2,-82.95\"/>\n<text text-anchor=\"middle\" x=\"455.39\" y=\"-83.25\" font-family=\"Times,serif\" font-size=\"14.00\">&#39;&#39;, &#39;&#39; ; &#39;&#39;</text>\n</g>\n<!-- F_B2a&#45;&gt;F_B2a -->\n<g id=\"edge12\" class=\"edge\">\n<title>F_B2a&#45;&gt;F_B2a</title>\n<path fill=\"none\" stroke=\"black\" d=\"M367.07,-115.55C367.29,-126.92 371.91,-135.89 380.94,-135.89 387.01,-135.89 391.09,-131.84 393.18,-125.74\"/>\n<polygon fill=\"black\" stroke=\"black\" points=\"396.68,-125.98 394.81,-115.55 389.77,-124.87 396.68,-125.98\"/>\n<text text-anchor=\"middle\" x=\"380.94\" y=\"-139.69\" font-family=\"Times,serif\" font-size=\"14.00\">a, &#39;&#39; ; &#39;&#39;</text>\n</g>\n<!-- F_B2c&#45;&gt;F_B2c -->\n<g id=\"edge16\" class=\"edge\">\n<title>F_B2c&#45;&gt;F_B2c</title>\n<path fill=\"none\" stroke=\"black\" d=\"M664.24,-74.55C664.44,-85.92 668.94,-94.89 677.73,-94.89 683.63,-94.89 687.6,-90.84 689.63,-84.74\"/>\n<polygon fill=\"black\" stroke=\"black\" points=\"693.14,-84.97 691.22,-74.55 686.22,-83.89 693.14,-84.97\"/>\n<text text-anchor=\"middle\" x=\"677.73\" y=\"-98.69\" font-family=\"Times,serif\" font-size=\"14.00\">c, &#39;&#39; ; &#39;&#39;</text>\n</g>\n<!-- F_S0&#45;&gt;S_B1b -->\n<g id=\"edge7\" class=\"edge\">\n<title>F_S0&#45;&gt;S_B1b</title>\n<path fill=\"none\" stroke=\"black\" d=\"M261.93,-180.93C269.88,-187.48 278.87,-194.51 287.49,-200.45 304.47,-212.12 324.17,-223.67 341.02,-232.99\"/>\n<polygon fill=\"black\" stroke=\"black\" points=\"339.59,-236.2 350.05,-237.93 342.95,-230.06 339.59,-236.2\"/>\n<text text-anchor=\"middle\" x=\"305.99\" y=\"-225.25\" font-family=\"Times,serif\" font-size=\"14.00\">&#39;&#39;, # ; #</text>\n</g>\n<!-- F_S0&#45;&gt;F_B2b -->\n<g id=\"edge5\" class=\"edge\">\n<title>F_S0&#45;&gt;F_B2b</title>\n<path fill=\"none\" stroke=\"black\" d=\"M269.12,-165.29C306.23,-170.78 368.89,-175.94 419.39,-159.45 447.44,-150.29 474.26,-130.92 494.33,-113.53\"/>\n<polygon fill=\"black\" stroke=\"black\" points=\"496.82,-116 501.96,-106.74 492.16,-110.78 496.82,-116\"/>\n<text text-anchor=\"middle\" x=\"380.94\" y=\"-174.25\" font-family=\"Times,serif\" font-size=\"14.00\">b, a ; &#39;&#39;</text>\n</g>\n<!-- F_S0&#45;&gt;F_B2a -->\n<g id=\"edge4\" class=\"edge\">\n<title>F_S0&#45;&gt;F_B2a</title>\n<path fill=\"none\" stroke=\"black\" d=\"M265.78,-143.45C286.46,-131.86 314.75,-115.99 338,-102.96\"/>\n<polygon fill=\"black\" stroke=\"black\" points=\"339.95,-105.88 346.96,-97.94 336.52,-99.78 339.95,-105.88\"/>\n<text text-anchor=\"middle\" x=\"305.99\" y=\"-132.25\" font-family=\"Times,serif\" font-size=\"14.00\">a, # ; &#39;&#39;</text>\n</g>\n<!-- F_S0&#45;&gt;F_B2c -->\n<g id=\"edge6\" class=\"edge\">\n<title>F_S0&#45;&gt;F_B2c</title>\n<path fill=\"none\" stroke=\"black\" d=\"M251.79,-129.77C268.75,-98.93 299.99,-52.42 342.49,-32.45 437.04,11.99 563.88,-9.03 630.85,-25.43\"/>\n<polygon fill=\"black\" stroke=\"black\" points=\"630.13,-28.85 640.68,-27.91 631.84,-22.07 630.13,-28.85\"/>\n<text text-anchor=\"middle\" x=\"455.39\" y=\"-12.25\" font-family=\"Times,serif\" font-size=\"14.00\">c, a ; &#39;&#39;</text>\n</g>\n<!-- F_S0&#45;&gt;F_S0 -->\n<g id=\"edge3\" class=\"edge\">\n<title>F_S0&#45;&gt;F_S0</title>\n<path fill=\"none\" stroke=\"black\" d=\"M223.52,-190.22C223.17,-201.47 227.42,-210.69 236.25,-210.69 242.18,-210.69 246.04,-206.53 247.84,-200.39\"/>\n<polygon fill=\"black\" stroke=\"black\" points=\"251.34,-200.54 248.98,-190.22 244.38,-199.76 251.34,-200.54\"/>\n<text text-anchor=\"middle\" x=\"236.25\" y=\"-214.49\" font-family=\"Times,serif\" font-size=\"14.00\">a, a ; &#39;&#39;</text>\n</g>\n</g>\n</svg>\n",
            "text/plain": [
              "<graphviz.graphs.Digraph at 0x798ce02ea530>"
            ]
          },
          "metadata": {},
          "execution_count": 18
        }
      ],
      "source": [
        "dotObj_pda(Lif)"
      ]
    },
    {
      "cell_type": "code",
      "source": [
        "dotObj_pda(Lif).render('Lif')"
      ],
      "metadata": {
        "colab": {
          "base_uri": "https://localhost:8080/",
          "height": 35
        },
        "id": "XalClMil52Nx",
        "outputId": "4b02150d-4615-48af-ca30-5cbf276edf56"
      },
      "execution_count": 47,
      "outputs": [
        {
          "output_type": "execute_result",
          "data": {
            "text/plain": [
              "'Lif.pdf'"
            ],
            "application/vnd.google.colaboratory.intrinsic+json": {
              "type": "string"
            }
          },
          "metadata": {},
          "execution_count": 47
        }
      ]
    },
    {
      "cell_type": "markdown",
      "metadata": {
        "id": "yAxOHtwUyH2E"
      },
      "source": [
        "### Given test cases:"
      ]
    },
    {
      "cell_type": "markdown",
      "metadata": {
        "id": "cbD49D_YyH2E"
      },
      "source": [
        "* aa bbb ccc   (accept)"
      ]
    },
    {
      "cell_type": "code",
      "execution_count": 19,
      "metadata": {
        "id": "TkyBjxrcyH2F",
        "colab": {
          "base_uri": "https://localhost:8080/",
          "height": 0
        },
        "outputId": "9a282ed1-7cef-4a77-f4b9-f6cc2a520ce0"
      },
      "outputs": [
        {
          "output_type": "stream",
          "name": "stdout",
          "text": [
            "String aabbbccc accepted by your PDA in 1 ways :-) \n",
            "Here are the ways: \n",
            "Final state  ('F_B1', '', '')\n",
            "Reached as follows:\n",
            "->  ('I', 'aabbbccc', '#')\n",
            "->  ('F_S0', 'aabbbccc', 'aa#')\n",
            "->  ('F_S0', 'abbbccc', 'a#')\n",
            "->  ('F_S0', 'bbbccc', '#')\n",
            "->  ('S_B1b', 'bbbccc', '#')\n",
            "->  ('S_B1b', 'bbccc', 'b#')\n",
            "->  ('S_B1b', 'bccc', 'bb#')\n",
            "->  ('S_B1b', 'ccc', 'bbb#')\n",
            "->  ('S_B1c', 'ccc', 'bbb#')\n",
            "->  ('S_B1c', 'cc', 'bb#')\n",
            "->  ('S_B1c', 'c', 'b#')\n",
            "->  ('S_B1c', '', '#')\n",
            "->  ('F_B1', '', '') .\n"
          ]
        }
      ],
      "source": [
        "explore_pda('aabbbccc', Lif)"
      ]
    },
    {
      "cell_type": "markdown",
      "metadata": {
        "id": "qwKAfT20yH2F"
      },
      "source": [
        "* aa bbbb cccc (accept)\n"
      ]
    },
    {
      "cell_type": "code",
      "source": [
        "# Animate the above case\n",
        "\n",
        "AnimatePDA(Lif, FuseEdges=True)\n",
        "display(HTML('<link rel=\"stylesheet\" href=\"//stackpath.bootstrapcdn.com/font-awesome/4.7.0/css/font-awesome.min.css\"/>'))"
      ],
      "metadata": {
        "id": "PfQa21ZZ4Usy",
        "colab": {
          "base_uri": "https://localhost:8080/",
          "height": 566,
          "referenced_widgets": [
            "a36ac52fbc2c466d93badefaca5705ee",
            "8d92526426f54c588ab823cda2beef7e",
            "ae0857e42aa4422594233ad6119f5e45",
            "67ba541735f141ad8b0cf7d073ea7bf8",
            "33e64ba50ab841cf9a2e9fc00b1b187f",
            "d2f31ecff33b4af088712492d44f7694",
            "e6c0ef78e56742239f2ae73afb4801a3",
            "4e499cb43bfe4009b880928276b9d4ed",
            "92a1a512462c400095106e59b3f1911f",
            "8390726ae1d044c5b4974a4ec88e52f1",
            "e82eba4c9ee1412794407d63eaa4352c",
            "060a0fe57d6c4dd4a5302bbf94759453",
            "d8be8224217d4168b8f6f532846e03c3",
            "faf33f5751974a9198846ba0e0ea37df",
            "178e5a747aa4482f96d4da7cdebcc13e",
            "e161a4ddfd6b446081bfa6f925fa4702",
            "f8ee86d26da846d3a1f0209744feed7c",
            "1f49e738181145b397d2c4c9f1e80be5",
            "bbe1f92abaac4257a170f5b264c84f60",
            "85df5bde5ca547dbbf0d58c874b331bb",
            "26d1e2bc40564d5e8ac66a46013ed5db",
            "9c25e4c15bae45d78377637a85de597a",
            "c6b0867c004f47d697ecf550a7583bde",
            "3c458d23f0ce438e95a46972f65224b4",
            "715b56c6d2e54dc9a48e382ea9753425",
            "152af2f085414e94a9aaaff1c65f12ed",
            "729f7ac07c0741668a1e25bbd7916c0e",
            "f92da3997b2c42e99057c79300557f29",
            "0eea79fb632d4c7a89f599b4693ebac8",
            "fb692b54c52e4b5f8f048736756444db",
            "8a41e7ad89d046f1a17de726d9e4e08d",
            "8def79519b5f43adb9905f83617b6ab9",
            "3a8c1b52960648c7980daa5a6d6dbe73",
            "c0d6a457079b4eee8555dffdf3df108d",
            "a4eff4bea9e5474fa2c9a77f08d686f1",
            "840930eedbaf467a84870fc6c77ec48e",
            "f7816c3fe1374e19b8c60322526e8b0a",
            "a4c550d5d99e4c15ab5b7bcd15f43f25",
            "0145760d753c41b0b21009268f1bf726",
            "759954d9e7894cb3b4621b777cf0dacf",
            "0fadbdd3056a4b31a3107bf97a1cb14a",
            "99ff2bf792bb4ebe97a579fa1286c195",
            "ba5a5257ddd048f49db050082895906c",
            "8e2c11bcb46c49dabd178880a3854991",
            "212858897d7340d388c49b5f77ca4711",
            "8c96270b836144ab880357879959126f",
            "9bbe2dfe3eb24cbd88cb6626b667fb12"
          ]
        },
        "outputId": "e3c74c51-f801-481c-c0ce-5f43dd1d1dc8"
      },
      "execution_count": 20,
      "outputs": [
        {
          "output_type": "display_data",
          "data": {
            "text/plain": [
              "VBox(children=(HBox(children=(Text(value='', description='Input:', layout=Layout(width='500px'), placeholder='…"
            ],
            "application/vnd.jupyter.widget-view+json": {
              "version_major": 2,
              "version_minor": 0,
              "model_id": "a36ac52fbc2c466d93badefaca5705ee"
            }
          },
          "metadata": {}
        },
        {
          "output_type": "display_data",
          "data": {
            "text/plain": [
              "<IPython.core.display.HTML object>"
            ],
            "text/html": [
              "<link rel=\"stylesheet\" href=\"//stackpath.bootstrapcdn.com/font-awesome/4.7.0/css/font-awesome.min.css\"/>"
            ]
          },
          "metadata": {}
        }
      ]
    },
    {
      "cell_type": "code",
      "execution_count": 21,
      "metadata": {
        "id": "gr5jQ8WMyH2F",
        "colab": {
          "base_uri": "https://localhost:8080/",
          "height": 0
        },
        "outputId": "b3a4ceac-87da-4ac1-c5d3-fe93f97cbc8b"
      },
      "outputs": [
        {
          "output_type": "stream",
          "name": "stdout",
          "text": [
            "String aabbbbcccc accepted by your PDA in 1 ways :-) \n",
            "Here are the ways: \n",
            "Final state  ('F_B1', '', '')\n",
            "Reached as follows:\n",
            "->  ('I', 'aabbbbcccc', '#')\n",
            "->  ('F_S0', 'aabbbbcccc', 'aa#')\n",
            "->  ('F_S0', 'abbbbcccc', 'a#')\n",
            "->  ('F_S0', 'bbbbcccc', '#')\n",
            "->  ('S_B1b', 'bbbbcccc', '#')\n",
            "->  ('S_B1b', 'bbbcccc', 'b#')\n",
            "->  ('S_B1b', 'bbcccc', 'bb#')\n",
            "->  ('S_B1b', 'bcccc', 'bbb#')\n",
            "->  ('S_B1b', 'cccc', 'bbbb#')\n",
            "->  ('S_B1c', 'cccc', 'bbbb#')\n",
            "->  ('S_B1c', 'ccc', 'bbb#')\n",
            "->  ('S_B1c', 'cc', 'bb#')\n",
            "->  ('S_B1c', 'c', 'b#')\n",
            "->  ('S_B1c', '', '#')\n",
            "->  ('F_B1', '', '') .\n"
          ]
        }
      ],
      "source": [
        "explore_pda('aabbbbcccc', Lif)"
      ]
    },
    {
      "cell_type": "markdown",
      "metadata": {
        "id": "eQWBq-HjyH2F"
      },
      "source": [
        "* aa         (accept)"
      ]
    },
    {
      "cell_type": "code",
      "execution_count": 22,
      "metadata": {
        "id": "S10QZSA8yH2F",
        "colab": {
          "base_uri": "https://localhost:8080/",
          "height": 0
        },
        "outputId": "d9dd596c-1ab2-442f-8548-9c50cb56a29d"
      },
      "outputs": [
        {
          "output_type": "stream",
          "name": "stdout",
          "text": [
            "String aa accepted by your PDA in 2 ways :-) \n",
            "Here are the ways: \n",
            "Final state  ('F_S0', '', '#')\n",
            "Reached as follows:\n",
            "->  ('I', 'aa', '#')\n",
            "->  ('F_S0', 'aa', 'aa#')\n",
            "->  ('F_S0', 'a', 'a#')\n",
            "->  ('F_S0', '', '#') .\n",
            "Final state  ('F_B1', '', '')\n",
            "Reached as follows:\n",
            "->  ('I', 'aa', '#')\n",
            "->  ('F_S0', 'aa', 'aa#')\n",
            "->  ('F_S0', 'a', 'a#')\n",
            "->  ('F_S0', '', '#')\n",
            "->  ('S_B1b', '', '#')\n",
            "->  ('S_B1c', '', '#')\n",
            "->  ('F_B1', '', '') .\n"
          ]
        }
      ],
      "source": [
        "explore_pda('aa', Lif)"
      ]
    },
    {
      "cell_type": "markdown",
      "metadata": {
        "id": "Mu_hxfcHyH2F"
      },
      "source": [
        "* a bbb cccc (accept)"
      ]
    },
    {
      "cell_type": "code",
      "source": [
        "# Animate the above case\n",
        "\n",
        "AnimatePDA(Lif, FuseEdges=True)\n",
        "display(HTML('<link rel=\"stylesheet\" href=\"//stackpath.bootstrapcdn.com/font-awesome/4.7.0/css/font-awesome.min.css\"/>'))"
      ],
      "metadata": {
        "id": "quj2ZBy14fsw",
        "colab": {
          "base_uri": "https://localhost:8080/",
          "height": 566,
          "referenced_widgets": [
            "4c343e50422948b89967f818984e36c2",
            "10d64514ccbe4e73a3bf17660d517248",
            "e7754684fdf84a6e98d90d380278db97",
            "4b769539fb464ce58e5a04e845d39089",
            "d4f3ab2439c440e1ad9168e306988d83",
            "a465467428154e4189def8fcd269aebb",
            "a691d8bf6e914234985515ccaaf78e65",
            "be8083853f9b4de6990e513e4877308d",
            "7e6feea95f504c24995dac91187b19d5",
            "2ebca59db6fc495cbc7ad4cff71eeb79",
            "07d6d9516961470a95b8a882ca7762e4",
            "de9b36c0c946472183201de4373befd5",
            "fe6202110cec450daf50e00935d1f91e",
            "68ce8cdff118424095898077200650b7",
            "2d51bf9553074d0393481d6a6ac7a131",
            "d13db506c0094c07bf387990e53f14ca",
            "8092b852eab0408696feab175461033f",
            "fec265dc4a8843dbbbae9a9f5b8044cf",
            "f5c6478347fe489494ebcbcba262f44e",
            "85432ccf9f244696ba84d8252fd48408",
            "70f639f97df84293911d7965f1cb4b4b",
            "c2b65a36dfda4cd495e3638b9ba786fe",
            "2099e8a2c1924cb8b04ef4d0a8c2ab63",
            "80c05bbd0e2c4791a197ce326a6fc688",
            "55f5787835834f15afbcbd5fb430a264",
            "6eaeb9d5a14146a9990c0716643deb61",
            "5b6b936d8bc44f1084614ff4ddc3fd45",
            "a2bac46722df414489f731120bd34f3e",
            "ace974b80f154ed793ef6e43be6cb406",
            "f527f089ece14b0cb5edc60adf05ad1a",
            "9a75aba8fe054f549a76f6a4f10cd777",
            "781a4e71b44f475e9b7ceb932f4d04cb",
            "e39e3acaaa65400fb922c2ca3b828f68",
            "a1765dd92174457da418aea15ab8ad82",
            "ee6fce29e7774c35b8b748e76e81918e",
            "ccda9b69e2cc4aa084f449b5cb545082",
            "cfae5827533043d09baea089f7bee23a",
            "99d6f3ac32674232b70df3865186ecb4",
            "5aa5117e443a4b28ba900d56de2bb869",
            "9ef2851ffc7a43adbc59325d1af0f6c5",
            "123461d8cc9f43aa9aaa92d3552a9633",
            "724a86c4df56453cb9d2c6406bb473fb",
            "5a80f91ad33849438271cfe83ba73fb7",
            "649a87868aa347d9a88732279f3ae446",
            "69c432b83ffd4c63871d9f2e6315b703",
            "7f813987d1304255877b4e1cb3a6660a",
            "1dfb36ab14ad470590cc4d16425a8b37"
          ]
        },
        "outputId": "917abdde-221d-46b1-d6a5-513c5ee19321"
      },
      "execution_count": 23,
      "outputs": [
        {
          "output_type": "display_data",
          "data": {
            "text/plain": [
              "VBox(children=(HBox(children=(Text(value='', description='Input:', layout=Layout(width='500px'), placeholder='…"
            ],
            "application/vnd.jupyter.widget-view+json": {
              "version_major": 2,
              "version_minor": 0,
              "model_id": "4c343e50422948b89967f818984e36c2"
            }
          },
          "metadata": {}
        },
        {
          "output_type": "display_data",
          "data": {
            "text/plain": [
              "<IPython.core.display.HTML object>"
            ],
            "text/html": [
              "<link rel=\"stylesheet\" href=\"//stackpath.bootstrapcdn.com/font-awesome/4.7.0/css/font-awesome.min.css\"/>"
            ]
          },
          "metadata": {}
        }
      ]
    },
    {
      "cell_type": "code",
      "execution_count": 24,
      "metadata": {
        "id": "qRtQEZ8JyH2G",
        "colab": {
          "base_uri": "https://localhost:8080/",
          "height": 0
        },
        "outputId": "77832da5-a3a3-46df-901d-c0bee8cce2fd"
      },
      "outputs": [
        {
          "output_type": "stream",
          "name": "stdout",
          "text": [
            "String abbbcccc accepted by your PDA in 1 ways :-) \n",
            "Here are the ways: \n",
            "Final state  ('F_B2c', '', '#')\n",
            "Reached as follows:\n",
            "->  ('I', 'abbbcccc', '#')\n",
            "->  ('F_S0', 'abbbcccc', 'aa#')\n",
            "->  ('F_S0', 'bbbcccc', 'a#')\n",
            "->  ('F_B2b', 'bbcccc', '#')\n",
            "->  ('F_B2b', 'bcccc', '#')\n",
            "->  ('F_B2b', 'cccc', '#')\n",
            "->  ('F_B2c', 'cccc', '#')\n",
            "->  ('F_B2c', 'ccc', '#')\n",
            "->  ('F_B2c', 'cc', '#')\n",
            "->  ('F_B2c', 'c', '#')\n",
            "->  ('F_B2c', '', '#') .\n"
          ]
        }
      ],
      "source": [
        "explore_pda('abbbcccc', Lif)"
      ]
    },
    {
      "cell_type": "markdown",
      "metadata": {
        "id": "22Hhpq-YyH2G"
      },
      "source": [
        "* aaa bb c   (accept)"
      ]
    },
    {
      "cell_type": "code",
      "execution_count": 25,
      "metadata": {
        "id": "l5ys9PFKyH2G",
        "colab": {
          "base_uri": "https://localhost:8080/",
          "height": 0
        },
        "outputId": "b875059f-dfa5-425f-f063-cdad0582f8b9"
      },
      "outputs": [
        {
          "output_type": "stream",
          "name": "stdout",
          "text": [
            "String aaabbc accepted by your PDA in 1 ways :-) \n",
            "Here are the ways: \n",
            "Final state  ('F_B2c', '', '')\n",
            "Reached as follows:\n",
            "->  ('I', 'aaabbc', '#')\n",
            "->  ('F_S0', 'aaabbc', 'aa#')\n",
            "->  ('F_S0', 'aabbc', 'a#')\n",
            "->  ('F_S0', 'abbc', '#')\n",
            "->  ('F_B2a', 'bbc', '')\n",
            "->  ('F_B2b', 'bbc', '')\n",
            "->  ('F_B2b', 'bc', '')\n",
            "->  ('F_B2b', 'c', '')\n",
            "->  ('F_B2c', 'c', '')\n",
            "->  ('F_B2c', '', '') .\n"
          ]
        }
      ],
      "source": [
        "explore_pda('aaabbc', Lif)"
      ]
    },
    {
      "cell_type": "markdown",
      "metadata": {
        "id": "rODWiy8PyH2G"
      },
      "source": [
        "* Epsilon    (accept, as there are zero a's)"
      ]
    },
    {
      "cell_type": "code",
      "execution_count": 26,
      "metadata": {
        "id": "QhgMqBbiyH2G",
        "colab": {
          "base_uri": "https://localhost:8080/",
          "height": 0
        },
        "outputId": "d35f76f9-7b76-4e13-bc40-f1472c3cad50"
      },
      "outputs": [
        {
          "output_type": "stream",
          "name": "stdout",
          "text": [
            "String  accepted by your PDA in 1 ways :-) \n",
            "Here are the ways: \n",
            "Final state  ('F_S0', '', 'aa#')\n",
            "Reached as follows:\n",
            "->  ('I', '', '#')\n",
            "->  ('F_S0', '', 'aa#') .\n"
          ]
        }
      ],
      "source": [
        "explore_pda('', Lif)"
      ]
    },
    {
      "cell_type": "markdown",
      "metadata": {
        "id": "BXg9_3iZyH2G"
      },
      "source": [
        "* a bb cc    (accept, as there is no constraint to not match b's and c's if two a's)"
      ]
    },
    {
      "cell_type": "code",
      "execution_count": 27,
      "metadata": {
        "id": "OdwhYAk7yH2H",
        "colab": {
          "base_uri": "https://localhost:8080/",
          "height": 0
        },
        "outputId": "8b3b49f7-5a3f-4701-f349-bd30e3c5ff31"
      },
      "outputs": [
        {
          "output_type": "stream",
          "name": "stdout",
          "text": [
            "String abbcc accepted by your PDA in 1 ways :-) \n",
            "Here are the ways: \n",
            "Final state  ('F_B2c', '', '#')\n",
            "Reached as follows:\n",
            "->  ('I', 'abbcc', '#')\n",
            "->  ('F_S0', 'abbcc', 'aa#')\n",
            "->  ('F_S0', 'bbcc', 'a#')\n",
            "->  ('F_B2b', 'bcc', '#')\n",
            "->  ('F_B2b', 'cc', '#')\n",
            "->  ('F_B2c', 'cc', '#')\n",
            "->  ('F_B2c', 'c', '#')\n",
            "->  ('F_B2c', '', '#') .\n"
          ]
        }
      ],
      "source": [
        "explore_pda('abbcc', Lif)"
      ]
    },
    {
      "cell_type": "markdown",
      "metadata": {
        "id": "f2ljJYGSyH2H"
      },
      "source": [
        "* b c must accept too"
      ]
    },
    {
      "cell_type": "code",
      "execution_count": 28,
      "metadata": {
        "id": "TYj2p7FSyH2H",
        "colab": {
          "base_uri": "https://localhost:8080/",
          "height": 0
        },
        "outputId": "c68a9222-1736-492d-d26b-d44a3e784f31"
      },
      "outputs": [
        {
          "output_type": "stream",
          "name": "stdout",
          "text": [
            "String bc accepted by your PDA in 1 ways :-) \n",
            "Here are the ways: \n",
            "Final state  ('F_B2c', '', 'a#')\n",
            "Reached as follows:\n",
            "->  ('I', 'bc', '#')\n",
            "->  ('F_S0', 'bc', 'aa#')\n",
            "->  ('F_B2b', 'c', 'a#')\n",
            "->  ('F_B2c', 'c', 'a#')\n",
            "->  ('F_B2c', '', 'a#') .\n"
          ]
        }
      ],
      "source": [
        "explore_pda('bc', Lif)"
      ]
    },
    {
      "cell_type": "markdown",
      "metadata": {
        "id": "4wSowAWvyH2H"
      },
      "source": [
        "* c b        (reject)"
      ]
    },
    {
      "cell_type": "code",
      "execution_count": 29,
      "metadata": {
        "id": "njFYWda6yH2H",
        "colab": {
          "base_uri": "https://localhost:8080/",
          "height": 0
        },
        "outputId": "fbb3f63f-8642-4ca1-b5d9-b97fa3781731"
      },
      "outputs": [
        {
          "output_type": "stream",
          "name": "stdout",
          "text": [
            "String cb rejected by your PDA :-(\n",
            "Visited states are:\n",
            "{('F_B2c', 'b', 'a#'), ('F_S0', 'cb', 'aa#'), ('I', 'cb', '#')}\n"
          ]
        }
      ],
      "source": [
        "explore_pda('cb', Lif)"
      ]
    },
    {
      "cell_type": "markdown",
      "metadata": {
        "id": "Q-t4PSqLyH2H"
      },
      "source": [
        "* aa bb cc a (reject)"
      ]
    },
    {
      "cell_type": "code",
      "execution_count": 30,
      "metadata": {
        "id": "1jgOABLSyH2H",
        "colab": {
          "base_uri": "https://localhost:8080/",
          "height": 0
        },
        "outputId": "6c0e5b65-118e-4bbf-b95d-df8993e4aca3"
      },
      "outputs": [
        {
          "output_type": "stream",
          "name": "stdout",
          "text": [
            "String aabbcca rejected by your PDA :-(\n",
            "Visited states are:\n",
            "{('F_B1', 'a', ''), ('S_B1b', 'cca', 'bb#'), ('S_B1b', 'bcca', 'b#'), ('F_B1', 'bbcca', ''), ('S_B1c', 'a', '#'), ('S_B1c', 'bbcca', '#'), ('F_S0', 'aabbcca', 'aa#'), ('S_B1c', 'bcca', 'b#'), ('S_B1b', 'bbcca', '#'), ('S_B1c', 'cca', 'bb#'), ('F_S0', 'abbcca', 'a#'), ('I', 'aabbcca', '#'), ('S_B1c', 'ca', 'b#'), ('F_S0', 'bbcca', '#')}\n"
          ]
        }
      ],
      "source": [
        "explore_pda('aabbcca', Lif)"
      ]
    },
    {
      "cell_type": "markdown",
      "metadata": {
        "id": "XTm6znnHyH2H"
      },
      "source": [
        "* a bb a     (reject)"
      ]
    },
    {
      "cell_type": "code",
      "execution_count": 31,
      "metadata": {
        "id": "bQCHZI1IyH2I",
        "colab": {
          "base_uri": "https://localhost:8080/",
          "height": 0
        },
        "outputId": "56bfdc67-87a7-4790-f06c-137fec596686"
      },
      "outputs": [
        {
          "output_type": "stream",
          "name": "stdout",
          "text": [
            "String abba rejected by your PDA :-(\n",
            "Visited states are:\n",
            "{('F_B2c', 'a', '#'), ('F_S0', 'abba', 'aa#'), ('I', 'abba', '#'), ('F_B2c', 'ba', '#'), ('F_B2b', 'a', '#'), ('F_S0', 'bba', 'a#'), ('F_B2b', 'ba', '#')}\n"
          ]
        }
      ],
      "source": [
        "explore_pda('abba', Lif)"
      ]
    },
    {
      "cell_type": "markdown",
      "metadata": {
        "id": "VcIqurXVyH2I"
      },
      "source": [
        "* ccac       (reject)"
      ]
    },
    {
      "cell_type": "code",
      "execution_count": 32,
      "metadata": {
        "id": "M96UpYWPyH2I",
        "colab": {
          "base_uri": "https://localhost:8080/",
          "height": 0
        },
        "outputId": "4c9fec27-2b6a-4b42-dfe7-54e353b86378"
      },
      "outputs": [
        {
          "output_type": "stream",
          "name": "stdout",
          "text": [
            "String ccac rejected by your PDA :-(\n",
            "Visited states are:\n",
            "{('F_B2c', 'cac', 'a#'), ('I', 'ccac', '#'), ('F_S0', 'ccac', 'aa#'), ('F_B2c', 'ac', 'a#')}\n"
          ]
        }
      ],
      "source": [
        "explore_pda('ccac', Lif)"
      ]
    },
    {
      "cell_type": "markdown",
      "metadata": {
        "id": "lMjb3ozcyH2I"
      },
      "source": [
        "* abba       (reject)"
      ]
    },
    {
      "cell_type": "code",
      "execution_count": 33,
      "metadata": {
        "id": "5RHTbf73yH2I",
        "colab": {
          "base_uri": "https://localhost:8080/",
          "height": 0
        },
        "outputId": "839112c7-f247-4e25-8ba2-314bba58820b"
      },
      "outputs": [
        {
          "output_type": "stream",
          "name": "stdout",
          "text": [
            "String abba rejected by your PDA :-(\n",
            "Visited states are:\n",
            "{('F_B2c', 'a', '#'), ('F_S0', 'abba', 'aa#'), ('I', 'abba', '#'), ('F_B2c', 'ba', '#'), ('F_B2b', 'a', '#'), ('F_S0', 'bba', 'a#'), ('F_B2b', 'ba', '#')}\n"
          ]
        }
      ],
      "source": [
        "explore_pda('abba', Lif)"
      ]
    },
    {
      "cell_type": "markdown",
      "metadata": {
        "id": "PENs7s32yH2I"
      },
      "source": [
        "* baac       (reject)"
      ]
    },
    {
      "cell_type": "code",
      "execution_count": 34,
      "metadata": {
        "id": "1ZeWeu_EyH2I",
        "colab": {
          "base_uri": "https://localhost:8080/",
          "height": 0
        },
        "outputId": "b7a2648e-7f73-4caf-e046-dda03dfaf2ff"
      },
      "outputs": [
        {
          "output_type": "stream",
          "name": "stdout",
          "text": [
            "String baac rejected by your PDA :-(\n",
            "Visited states are:\n",
            "{('I', 'baac', '#'), ('F_B2c', 'aac', 'a#'), ('F_B2b', 'aac', 'a#'), ('F_S0', 'baac', 'aa#')}\n"
          ]
        }
      ],
      "source": [
        "explore_pda('baac', Lif)"
      ]
    },
    {
      "cell_type": "markdown",
      "metadata": {
        "id": "RVFp21rXyH2J"
      },
      "source": [
        "* ac         (accept), as there are no b's  "
      ]
    },
    {
      "cell_type": "code",
      "execution_count": 35,
      "metadata": {
        "id": "Br1nz3SZyH2J",
        "colab": {
          "base_uri": "https://localhost:8080/",
          "height": 0
        },
        "outputId": "731996c4-dd0a-44e2-c9f6-e659bfd14f41"
      },
      "outputs": [
        {
          "output_type": "stream",
          "name": "stdout",
          "text": [
            "String ac accepted by your PDA in 1 ways :-) \n",
            "Here are the ways: \n",
            "Final state  ('F_B2c', '', '#')\n",
            "Reached as follows:\n",
            "->  ('I', 'ac', '#')\n",
            "->  ('F_S0', 'ac', 'aa#')\n",
            "->  ('F_S0', 'c', 'a#')\n",
            "->  ('F_B2c', '', '#') .\n"
          ]
        }
      ],
      "source": [
        "explore_pda('ac', Lif)"
      ]
    },
    {
      "cell_type": "markdown",
      "metadata": {
        "id": "7C_BvHfxyH2J"
      },
      "source": [
        "* acb (reject)"
      ]
    },
    {
      "cell_type": "code",
      "execution_count": 36,
      "metadata": {
        "id": "dDOs575fyH2J",
        "colab": {
          "base_uri": "https://localhost:8080/",
          "height": 0
        },
        "outputId": "9ac38d0d-62b3-46dd-9e46-0cf453828c16"
      },
      "outputs": [
        {
          "output_type": "stream",
          "name": "stdout",
          "text": [
            "String acb rejected by your PDA :-(\n",
            "Visited states are:\n",
            "{('F_B2c', 'b', '#'), ('F_S0', 'acb', 'aa#'), ('I', 'acb', '#'), ('F_S0', 'cb', 'a#')}\n"
          ]
        }
      ],
      "source": [
        "explore_pda('acb', Lif)"
      ]
    },
    {
      "cell_type": "markdown",
      "metadata": {
        "id": "tFvi-uZeyH2J"
      },
      "source": [
        "### Add your test cases below:"
      ]
    },
    {
      "cell_type": "code",
      "execution_count": 37,
      "metadata": {
        "id": "Vk3ax3qdCePR",
        "colab": {
          "base_uri": "https://localhost:8080/",
          "height": 0
        },
        "outputId": "e2eac355-ccbc-4a3c-8cc6-91f5a1e41107"
      },
      "outputs": [
        {
          "output_type": "stream",
          "name": "stdout",
          "text": [
            "String aabbbbbccccc accepted by your PDA in 1 ways :-) \n",
            "Here are the ways: \n",
            "Final state  ('F_B1', '', '')\n",
            "Reached as follows:\n",
            "->  ('I', 'aabbbbbccccc', '#')\n",
            "->  ('F_S0', 'aabbbbbccccc', 'aa#')\n",
            "->  ('F_S0', 'abbbbbccccc', 'a#')\n",
            "->  ('F_S0', 'bbbbbccccc', '#')\n",
            "->  ('S_B1b', 'bbbbbccccc', '#')\n",
            "->  ('S_B1b', 'bbbbccccc', 'b#')\n",
            "->  ('S_B1b', 'bbbccccc', 'bb#')\n",
            "->  ('S_B1b', 'bbccccc', 'bbb#')\n",
            "->  ('S_B1b', 'bccccc', 'bbbb#')\n",
            "->  ('S_B1b', 'ccccc', 'bbbbb#')\n",
            "->  ('S_B1c', 'ccccc', 'bbbbb#')\n",
            "->  ('S_B1c', 'cccc', 'bbbb#')\n",
            "->  ('S_B1c', 'ccc', 'bbb#')\n",
            "->  ('S_B1c', 'cc', 'bb#')\n",
            "->  ('S_B1c', 'c', 'b#')\n",
            "->  ('S_B1c', '', '#')\n",
            "->  ('F_B1', '', '') .\n"
          ]
        }
      ],
      "source": [
        "# Accept: j=k\n",
        "explore_pda('aabbbbbccccc', Lif)"
      ]
    },
    {
      "cell_type": "code",
      "source": [
        "# Accept: i > 2\n",
        "explore_pda('aaabccc', Lif)"
      ],
      "metadata": {
        "colab": {
          "base_uri": "https://localhost:8080/",
          "height": 0
        },
        "id": "MzeB_C1q31wW",
        "outputId": "76e8e5a0-eae8-4b92-a84c-405454024d25"
      },
      "execution_count": 38,
      "outputs": [
        {
          "output_type": "stream",
          "name": "stdout",
          "text": [
            "String aaabccc accepted by your PDA in 1 ways :-) \n",
            "Here are the ways: \n",
            "Final state  ('F_B2c', '', '')\n",
            "Reached as follows:\n",
            "->  ('I', 'aaabccc', '#')\n",
            "->  ('F_S0', 'aaabccc', 'aa#')\n",
            "->  ('F_S0', 'aabccc', 'a#')\n",
            "->  ('F_S0', 'abccc', '#')\n",
            "->  ('F_B2a', 'bccc', '')\n",
            "->  ('F_B2b', 'bccc', '')\n",
            "->  ('F_B2b', 'ccc', '')\n",
            "->  ('F_B2c', 'ccc', '')\n",
            "->  ('F_B2c', 'cc', '')\n",
            "->  ('F_B2c', 'c', '')\n",
            "->  ('F_B2c', '', '') .\n"
          ]
        }
      ]
    },
    {
      "cell_type": "code",
      "source": [
        "# Accept: i > 2, j=0\n",
        "explore_pda('aaaccc', Lif)"
      ],
      "metadata": {
        "colab": {
          "base_uri": "https://localhost:8080/",
          "height": 0
        },
        "id": "jSx3X-I-31-W",
        "outputId": "ced2aee0-afb9-4a97-96ca-c31f9c3c4bbd"
      },
      "execution_count": 39,
      "outputs": [
        {
          "output_type": "stream",
          "name": "stdout",
          "text": [
            "String aaaccc accepted by your PDA in 1 ways :-) \n",
            "Here are the ways: \n",
            "Final state  ('F_B2c', '', '')\n",
            "Reached as follows:\n",
            "->  ('I', 'aaaccc', '#')\n",
            "->  ('F_S0', 'aaaccc', 'aa#')\n",
            "->  ('F_S0', 'aaccc', 'a#')\n",
            "->  ('F_S0', 'accc', '#')\n",
            "->  ('F_B2a', 'ccc', '')\n",
            "->  ('F_B2b', 'ccc', '')\n",
            "->  ('F_B2c', 'ccc', '')\n",
            "->  ('F_B2c', 'cc', '')\n",
            "->  ('F_B2c', 'c', '')\n",
            "->  ('F_B2c', '', '') .\n"
          ]
        }
      ]
    },
    {
      "cell_type": "code",
      "source": [
        "# Reject: j < k\n",
        "explore_pda('aabbbcccc', Lif)"
      ],
      "metadata": {
        "colab": {
          "base_uri": "https://localhost:8080/",
          "height": 0
        },
        "id": "RsR8pVX532Mh",
        "outputId": "e73aaeaa-b982-4857-d250-3cb008042b40"
      },
      "execution_count": 40,
      "outputs": [
        {
          "output_type": "stream",
          "name": "stdout",
          "text": [
            "String aabbbcccc rejected by your PDA :-(\n",
            "Visited states are:\n",
            "{('S_B1c', 'bcccc', 'bb#'), ('S_B1b', 'bcccc', 'bb#'), ('S_B1c', 'c', '#'), ('F_B1', 'bbbcccc', ''), ('F_S0', 'aabbbcccc', 'aa#'), ('S_B1b', 'bbcccc', 'b#'), ('S_B1c', 'bbbcccc', '#'), ('I', 'aabbbcccc', '#'), ('S_B1b', 'bbbcccc', '#'), ('S_B1b', 'cccc', 'bbb#'), ('F_S0', 'bbbcccc', '#'), ('S_B1c', 'cc', 'b#'), ('S_B1c', 'cccc', 'bbb#'), ('S_B1c', 'ccc', 'bb#'), ('S_B1c', 'bbcccc', 'b#'), ('F_B1', 'c', ''), ('F_S0', 'abbbcccc', 'a#')}\n"
          ]
        }
      ]
    },
    {
      "cell_type": "code",
      "source": [
        "# Reject: c's before b's despite j=k\n",
        "explore_pda('aacccbbb', Lif)"
      ],
      "metadata": {
        "colab": {
          "base_uri": "https://localhost:8080/",
          "height": 0
        },
        "id": "xqdWLstV32Xm",
        "outputId": "b5836817-dec8-4ddd-ca4e-7cd9f50c9eac"
      },
      "execution_count": 41,
      "outputs": [
        {
          "output_type": "stream",
          "name": "stdout",
          "text": [
            "String aacccbbb rejected by your PDA :-(\n",
            "Visited states are:\n",
            "{('S_B1b', 'cccbbb', '#'), ('F_S0', 'cccbbb', '#'), ('F_B1', 'cccbbb', ''), ('F_S0', 'aacccbbb', 'aa#'), ('S_B1c', 'cccbbb', '#'), ('F_S0', 'acccbbb', 'a#'), ('I', 'aacccbbb', '#')}\n"
          ]
        }
      ]
    },
    {
      "cell_type": "code",
      "source": [
        "# Reject: j > k\n",
        "explore_pda('aabbbbccc', Lif)"
      ],
      "metadata": {
        "colab": {
          "base_uri": "https://localhost:8080/",
          "height": 0
        },
        "id": "9nvkPQx332hm",
        "outputId": "c52e140e-65d9-4b5e-edbb-bd65cb476adf"
      },
      "execution_count": 42,
      "outputs": [
        {
          "output_type": "stream",
          "name": "stdout",
          "text": [
            "String aabbbbccc rejected by your PDA :-(\n",
            "Visited states are:\n",
            "{('S_B1c', '', 'b#'), ('F_S0', 'aabbbbccc', 'aa#'), ('S_B1c', 'bbbbccc', '#'), ('S_B1c', 'cc', 'bbb#'), ('I', 'aabbbbccc', '#'), ('S_B1c', 'c', 'bb#'), ('F_S0', 'abbbbccc', 'a#'), ('S_B1b', 'bccc', 'bbb#'), ('S_B1b', 'bbccc', 'bb#'), ('S_B1c', 'bccc', 'bbb#'), ('F_B1', 'bbbbccc', ''), ('S_B1b', 'bbbccc', 'b#'), ('S_B1c', 'bbccc', 'bb#'), ('S_B1b', 'bbbbccc', '#'), ('S_B1c', 'bbbccc', 'b#'), ('S_B1c', 'ccc', 'bbbb#'), ('F_S0', 'bbbbccc', '#'), ('S_B1b', 'ccc', 'bbbb#')}\n"
          ]
        }
      ]
    },
    {
      "cell_type": "markdown",
      "metadata": {
        "id": "iXp_GBi-yH2J"
      },
      "source": [
        "# END\n"
      ]
    }
  ],
  "metadata": {
    "colab": {
      "name": "u000000_asg04.ipynb",
      "provenance": [],
      "include_colab_link": true
    },
    "kernelspec": {
      "display_name": "Python 3",
      "language": "python",
      "name": "python3"
    },
    "language_info": {
      "codemirror_mode": {
        "name": "ipython",
        "version": 3
      },
      "file_extension": ".py",
      "mimetype": "text/x-python",
      "name": "python",
      "nbconvert_exporter": "python",
      "pygments_lexer": "ipython3",
      "version": "3.8.5"
    },
    "toc": {
      "colors": {
        "hover_highlight": "#DAA520",
        "running_highlight": "#FF0000",
        "selected_highlight": "#FFD700"
      },
      "moveMenuLeft": true,
      "nav_menu": {
        "height": "121px",
        "width": "252px"
      },
      "navigate_menu": true,
      "number_sections": true,
      "sideBar": true,
      "threshold": 4,
      "toc_cell": false,
      "toc_section_display": "block",
      "toc_window_display": false,
      "widenNotebook": false
    },
    "widgets": {
      "application/vnd.jupyter.widget-state+json": {
        "fdf62703000d4c649c5498bb392a6daf": {
          "model_module": "@jupyter-widgets/controls",
          "model_name": "VBoxModel",
          "model_module_version": "1.5.0",
          "state": {
            "_dom_classes": [],
            "_model_module": "@jupyter-widgets/controls",
            "_model_module_version": "1.5.0",
            "_model_name": "VBoxModel",
            "_view_count": null,
            "_view_module": "@jupyter-widgets/controls",
            "_view_module_version": "1.5.0",
            "_view_name": "VBoxView",
            "box_style": "",
            "children": [
              "IPY_MODEL_d4ff502de507471491b346473d141166",
              "IPY_MODEL_91dae70c12074997b845217f7543b6af",
              "IPY_MODEL_3ca6274cbacd4007af4b83239a7b0fe9",
              "IPY_MODEL_f78f39326a0e453786ce682984157dac",
              "IPY_MODEL_fa91273902b449ad95a0e9e24a322980",
              "IPY_MODEL_a4c17e23f52941de83c6d90caee2a532",
              "IPY_MODEL_c8d650ecc1304da3af58bc3ece5f755c"
            ],
            "layout": "IPY_MODEL_6317b2025d124fb7b509aa1034462581"
          }
        },
        "d4ff502de507471491b346473d141166": {
          "model_module": "@jupyter-widgets/controls",
          "model_name": "HBoxModel",
          "model_module_version": "1.5.0",
          "state": {
            "_dom_classes": [],
            "_model_module": "@jupyter-widgets/controls",
            "_model_module_version": "1.5.0",
            "_model_name": "HBoxModel",
            "_view_count": null,
            "_view_module": "@jupyter-widgets/controls",
            "_view_module_version": "1.5.0",
            "_view_name": "HBoxView",
            "box_style": "",
            "children": [
              "IPY_MODEL_ea1bf6da43f045548428026e59dd5f36",
              "IPY_MODEL_f1028c66650c4a559af0893772be06c5",
              "IPY_MODEL_d1e412e5a9204970b756b798a164d716"
            ],
            "layout": "IPY_MODEL_58e5b403b3c94d89b0a650850bc82179"
          }
        },
        "91dae70c12074997b845217f7543b6af": {
          "model_module": "@jupyter-widgets/controls",
          "model_name": "HBoxModel",
          "model_module_version": "1.5.0",
          "state": {
            "_dom_classes": [],
            "_model_module": "@jupyter-widgets/controls",
            "_model_module_version": "1.5.0",
            "_model_name": "HBoxModel",
            "_view_count": null,
            "_view_module": "@jupyter-widgets/controls",
            "_view_module_version": "1.5.0",
            "_view_name": "HBoxView",
            "box_style": "",
            "children": [
              "IPY_MODEL_1085b668b1f64c888499c82f8f37765a"
            ],
            "layout": "IPY_MODEL_bafee192b8854b41abcb470c1cd6a03d"
          }
        },
        "3ca6274cbacd4007af4b83239a7b0fe9": {
          "model_module": "@jupyter-widgets/output",
          "model_name": "OutputModel",
          "model_module_version": "1.0.0",
          "state": {
            "_dom_classes": [],
            "_model_module": "@jupyter-widgets/output",
            "_model_module_version": "1.0.0",
            "_model_name": "OutputModel",
            "_view_count": null,
            "_view_module": "@jupyter-widgets/output",
            "_view_module_version": "1.0.0",
            "_view_name": "OutputView",
            "layout": "IPY_MODEL_f37cf3a486de441da55a0b53f8305ce5",
            "msg_id": "",
            "outputs": []
          }
        },
        "f78f39326a0e453786ce682984157dac": {
          "model_module": "@jupyter-widgets/controls",
          "model_name": "HBoxModel",
          "model_module_version": "1.5.0",
          "state": {
            "_dom_classes": [],
            "_model_module": "@jupyter-widgets/controls",
            "_model_module_version": "1.5.0",
            "_model_name": "HBoxModel",
            "_view_count": null,
            "_view_module": "@jupyter-widgets/controls",
            "_view_module_version": "1.5.0",
            "_view_name": "HBoxView",
            "box_style": "",
            "children": [
              "IPY_MODEL_6c75c96fe6de4ac4864d60e7068dda78",
              "IPY_MODEL_0ebd4ae35b3e4eb7864a2f1e26be4a03"
            ],
            "layout": "IPY_MODEL_47fc638be1224ea5bdbcc111a1149906"
          }
        },
        "fa91273902b449ad95a0e9e24a322980": {
          "model_module": "@jupyter-widgets/output",
          "model_name": "OutputModel",
          "model_module_version": "1.0.0",
          "state": {
            "_dom_classes": [],
            "_model_module": "@jupyter-widgets/output",
            "_model_module_version": "1.0.0",
            "_model_name": "OutputModel",
            "_view_count": null,
            "_view_module": "@jupyter-widgets/output",
            "_view_module_version": "1.0.0",
            "_view_name": "OutputView",
            "layout": "IPY_MODEL_ddcba155d6d4457dbe258897ee6cebf6",
            "msg_id": "",
            "outputs": [
              {
                "output_type": "display_data",
                "data": {
                  "image/svg+xml": "<?xml version=\"1.0\" encoding=\"UTF-8\" standalone=\"no\"?>\n<!DOCTYPE svg PUBLIC \"-//W3C//DTD SVG 1.1//EN\"\n \"http://www.w3.org/Graphics/SVG/1.1/DTD/svg11.dtd\">\n<!-- Generated by graphviz version 2.43.0 (0)\n -->\n<!-- Title: %3 Pages: 1 -->\n<svg width=\"137pt\" height=\"47pt\"\n viewBox=\"0.00 0.00 137.00 47.00\" xmlns=\"http://www.w3.org/2000/svg\" xmlns:xlink=\"http://www.w3.org/1999/xlink\">\n<g id=\"graph0\" class=\"graph\" transform=\"scale(1 1) rotate(0) translate(4 43)\">\n<title>%3</title>\n<polygon fill=\"white\" stroke=\"transparent\" points=\"-4,4 -4,-43 133,-43 133,4 -4,4\"/>\n<!-- feed -->\n<g id=\"node1\" class=\"node\">\n<title>feed</title>\n<polygon fill=\"none\" stroke=\"black\" points=\"8.5,-3.5 8.5,-34.5 78.5,-34.5 78.5,-3.5 8.5,-3.5\"/>\n<text text-anchor=\"start\" x=\"17.5\" y=\"-15.9\" font-family=\"Times,serif\" font-size=\"12.00\">aaabbbbbb</text>\n<polygon fill=\"none\" stroke=\"black\" points=\"78.5,-3.5 78.5,-34.5 103.5,-34.5 103.5,-3.5 78.5,-3.5\"/>\n<text text-anchor=\"start\" x=\"87.5\" y=\"-15.9\" font-family=\"Times,serif\" font-size=\"12.00\"> &#160;</text>\n<polygon fill=\"none\" stroke=\"black\" points=\"103.5,-3.5 103.5,-34.5 121.5,-34.5 121.5,-3.5 103.5,-3.5\"/>\n</g>\n</g>\n</svg>\n",
                  "text/plain": "<graphviz.sources.Source at 0x798ce01672e0>"
                },
                "metadata": {}
              }
            ]
          }
        },
        "a4c17e23f52941de83c6d90caee2a532": {
          "model_module": "@jupyter-widgets/controls",
          "model_name": "HBoxModel",
          "model_module_version": "1.5.0",
          "state": {
            "_dom_classes": [],
            "_model_module": "@jupyter-widgets/controls",
            "_model_module_version": "1.5.0",
            "_model_name": "HBoxModel",
            "_view_count": null,
            "_view_module": "@jupyter-widgets/controls",
            "_view_module_version": "1.5.0",
            "_view_name": "HBoxView",
            "box_style": "",
            "children": [
              "IPY_MODEL_f4fbfe4dcc2a4a8f8e27ecc22ec68e68",
              "IPY_MODEL_08a3f7174b2141889f6e064705defe03",
              "IPY_MODEL_2b724605dd7148938188c4d3cff18dc9",
              "IPY_MODEL_fdb39ce9fda14c1aaf62915ef96505e1",
              "IPY_MODEL_4a8237a0a9b04210986eabe3201187ad"
            ],
            "layout": "IPY_MODEL_8c0e9e98d8f343b980c35b1b517339b3"
          }
        },
        "c8d650ecc1304da3af58bc3ece5f755c": {
          "model_module": "@jupyter-widgets/output",
          "model_name": "OutputModel",
          "model_module_version": "1.0.0",
          "state": {
            "_dom_classes": [],
            "_model_module": "@jupyter-widgets/output",
            "_model_module_version": "1.0.0",
            "_model_name": "OutputModel",
            "_view_count": null,
            "_view_module": "@jupyter-widgets/output",
            "_view_module_version": "1.0.0",
            "_view_name": "OutputView",
            "layout": "IPY_MODEL_5a9eecb01d7f4268b6a2133402d8107a",
            "msg_id": "",
            "outputs": []
          }
        },
        "6317b2025d124fb7b509aa1034462581": {
          "model_module": "@jupyter-widgets/base",
          "model_name": "LayoutModel",
          "model_module_version": "1.2.0",
          "state": {
            "_model_module": "@jupyter-widgets/base",
            "_model_module_version": "1.2.0",
            "_model_name": "LayoutModel",
            "_view_count": null,
            "_view_module": "@jupyter-widgets/base",
            "_view_module_version": "1.2.0",
            "_view_name": "LayoutView",
            "align_content": null,
            "align_items": null,
            "align_self": null,
            "border": null,
            "bottom": null,
            "display": null,
            "flex": null,
            "flex_flow": null,
            "grid_area": null,
            "grid_auto_columns": null,
            "grid_auto_flow": null,
            "grid_auto_rows": null,
            "grid_column": null,
            "grid_gap": null,
            "grid_row": null,
            "grid_template_areas": null,
            "grid_template_columns": null,
            "grid_template_rows": null,
            "height": null,
            "justify_content": null,
            "justify_items": null,
            "left": null,
            "margin": null,
            "max_height": null,
            "max_width": null,
            "min_height": null,
            "min_width": null,
            "object_fit": null,
            "object_position": null,
            "order": null,
            "overflow": null,
            "overflow_x": null,
            "overflow_y": null,
            "padding": null,
            "right": null,
            "top": null,
            "visibility": null,
            "width": null
          }
        },
        "ea1bf6da43f045548428026e59dd5f36": {
          "model_module": "@jupyter-widgets/controls",
          "model_name": "TextModel",
          "model_module_version": "1.5.0",
          "state": {
            "_dom_classes": [],
            "_model_module": "@jupyter-widgets/controls",
            "_model_module_version": "1.5.0",
            "_model_name": "TextModel",
            "_view_count": null,
            "_view_module": "@jupyter-widgets/controls",
            "_view_module_version": "1.5.0",
            "_view_name": "TextView",
            "continuous_update": true,
            "description": "Input:",
            "description_tooltip": null,
            "disabled": true,
            "layout": "IPY_MODEL_bf49f10851eb4e879a6d3358676c3be8",
            "placeholder": "Sigma: {a,b}",
            "style": "IPY_MODEL_6d7364b253794688a5af45a6353b4a76",
            "value": "aaabbbbbb"
          }
        },
        "f1028c66650c4a559af0893772be06c5": {
          "model_module": "@jupyter-widgets/controls",
          "model_name": "DropdownModel",
          "model_module_version": "1.5.0",
          "state": {
            "_dom_classes": [],
            "_model_module": "@jupyter-widgets/controls",
            "_model_module_version": "1.5.0",
            "_model_name": "DropdownModel",
            "_options_labels": [
              "State",
              "Stack"
            ],
            "_view_count": null,
            "_view_module": "@jupyter-widgets/controls",
            "_view_module_version": "1.5.0",
            "_view_name": "DropdownView",
            "description": "Acceptance:",
            "description_tooltip": null,
            "disabled": true,
            "index": 0,
            "layout": "IPY_MODEL_739c24a0ef0743d5b61cffb8193c46b1",
            "style": "IPY_MODEL_c32c5fd2974742c9a7b8ad27d5c9ec25"
          }
        },
        "d1e412e5a9204970b756b798a164d716": {
          "model_module": "@jupyter-widgets/controls",
          "model_name": "ButtonModel",
          "model_module_version": "1.5.0",
          "state": {
            "_dom_classes": [],
            "_model_module": "@jupyter-widgets/controls",
            "_model_module_version": "1.5.0",
            "_model_name": "ButtonModel",
            "_view_count": null,
            "_view_module": "@jupyter-widgets/controls",
            "_view_module_version": "1.5.0",
            "_view_name": "ButtonView",
            "button_style": "primary",
            "description": "Change Input",
            "disabled": false,
            "icon": "",
            "layout": "IPY_MODEL_384f33cf69ff4a7dadbd315b2a328166",
            "style": "IPY_MODEL_5b41300a4c914f58b872396d9b23b5db",
            "tooltip": ""
          }
        },
        "58e5b403b3c94d89b0a650850bc82179": {
          "model_module": "@jupyter-widgets/base",
          "model_name": "LayoutModel",
          "model_module_version": "1.2.0",
          "state": {
            "_model_module": "@jupyter-widgets/base",
            "_model_module_version": "1.2.0",
            "_model_name": "LayoutModel",
            "_view_count": null,
            "_view_module": "@jupyter-widgets/base",
            "_view_module_version": "1.2.0",
            "_view_name": "LayoutView",
            "align_content": null,
            "align_items": null,
            "align_self": null,
            "border": null,
            "bottom": null,
            "display": null,
            "flex": null,
            "flex_flow": null,
            "grid_area": null,
            "grid_auto_columns": null,
            "grid_auto_flow": null,
            "grid_auto_rows": null,
            "grid_column": null,
            "grid_gap": null,
            "grid_row": null,
            "grid_template_areas": null,
            "grid_template_columns": null,
            "grid_template_rows": null,
            "height": null,
            "justify_content": null,
            "justify_items": null,
            "left": null,
            "margin": null,
            "max_height": null,
            "max_width": null,
            "min_height": null,
            "min_width": null,
            "object_fit": null,
            "object_position": null,
            "order": null,
            "overflow": null,
            "overflow_x": null,
            "overflow_y": null,
            "padding": null,
            "right": null,
            "top": null,
            "visibility": null,
            "width": null
          }
        },
        "1085b668b1f64c888499c82f8f37765a": {
          "model_module": "@jupyter-widgets/controls",
          "model_name": "IntSliderModel",
          "model_module_version": "1.5.0",
          "state": {
            "_dom_classes": [],
            "_model_module": "@jupyter-widgets/controls",
            "_model_module_version": "1.5.0",
            "_model_name": "IntSliderModel",
            "_view_count": null,
            "_view_module": "@jupyter-widgets/controls",
            "_view_module_version": "1.5.0",
            "_view_name": "IntSliderView",
            "continuous_update": false,
            "description": "Stack Size:",
            "description_tooltip": null,
            "disabled": true,
            "layout": "IPY_MODEL_cdeb57f277414878a7178255b2e72689",
            "max": 30,
            "min": 2,
            "orientation": "horizontal",
            "readout": true,
            "readout_format": "d",
            "step": 1,
            "style": "IPY_MODEL_da9a3263c2c84cceb28d8b6caa5f3929",
            "value": 8
          }
        },
        "bafee192b8854b41abcb470c1cd6a03d": {
          "model_module": "@jupyter-widgets/base",
          "model_name": "LayoutModel",
          "model_module_version": "1.2.0",
          "state": {
            "_model_module": "@jupyter-widgets/base",
            "_model_module_version": "1.2.0",
            "_model_name": "LayoutModel",
            "_view_count": null,
            "_view_module": "@jupyter-widgets/base",
            "_view_module_version": "1.2.0",
            "_view_name": "LayoutView",
            "align_content": null,
            "align_items": null,
            "align_self": null,
            "border": null,
            "bottom": null,
            "display": null,
            "flex": null,
            "flex_flow": null,
            "grid_area": null,
            "grid_auto_columns": null,
            "grid_auto_flow": null,
            "grid_auto_rows": null,
            "grid_column": null,
            "grid_gap": null,
            "grid_row": null,
            "grid_template_areas": null,
            "grid_template_columns": null,
            "grid_template_rows": null,
            "height": null,
            "justify_content": null,
            "justify_items": null,
            "left": null,
            "margin": null,
            "max_height": null,
            "max_width": null,
            "min_height": null,
            "min_width": null,
            "object_fit": null,
            "object_position": null,
            "order": null,
            "overflow": null,
            "overflow_x": null,
            "overflow_y": null,
            "padding": null,
            "right": null,
            "top": null,
            "visibility": null,
            "width": null
          }
        },
        "6c75c96fe6de4ac4864d60e7068dda78": {
          "model_module": "@jupyter-widgets/output",
          "model_name": "OutputModel",
          "model_module_version": "1.0.0",
          "state": {
            "_dom_classes": [],
            "_model_module": "@jupyter-widgets/output",
            "_model_module_version": "1.0.0",
            "_model_name": "OutputModel",
            "_view_count": null,
            "_view_module": "@jupyter-widgets/output",
            "_view_module_version": "1.0.0",
            "_view_name": "OutputView",
            "layout": "IPY_MODEL_1e8a615af5f948e286ad824eda899ba0",
            "msg_id": "",
            "outputs": [
              {
                "output_type": "display_data",
                "data": {
                  "image/svg+xml": "<?xml version=\"1.0\" encoding=\"UTF-8\" standalone=\"no\"?>\n<!DOCTYPE svg PUBLIC \"-//W3C//DTD SVG 1.1//EN\"\n \"http://www.w3.org/Graphics/SVG/1.1/DTD/svg11.dtd\">\n<!-- Generated by graphviz version 2.43.0 (0)\n -->\n<!-- Title: %3 Pages: 1 -->\n<svg width=\"89pt\" height=\"185pt\"\n viewBox=\"0.00 0.00 89.00 185.00\" xmlns=\"http://www.w3.org/2000/svg\" xmlns:xlink=\"http://www.w3.org/1999/xlink\">\n<g id=\"graph0\" class=\"graph\" transform=\"scale(1 1) rotate(0) translate(4 181)\">\n<title>%3</title>\n<polygon fill=\"white\" stroke=\"transparent\" points=\"-4,4 -4,-181 85,-181 85,4 -4,4\"/>\n<!-- stack -->\n<g id=\"node1\" class=\"node\">\n<title>stack</title>\n<polygon fill=\"none\" stroke=\"black\" points=\"56,-8.5 56,-176.5 81,-176.5 81,-8.5 56,-8.5\"/>\n<text text-anchor=\"middle\" x=\"68.5\" y=\"-162.9\" font-family=\"Times,serif\" font-size=\"12.00\"> </text>\n<polyline fill=\"none\" stroke=\"black\" points=\"56,-155.5 81,-155.5 \"/>\n<text text-anchor=\"middle\" x=\"68.5\" y=\"-141.9\" font-family=\"Times,serif\" font-size=\"12.00\"> </text>\n<polyline fill=\"none\" stroke=\"black\" points=\"56,-134.5 81,-134.5 \"/>\n<text text-anchor=\"middle\" x=\"68.5\" y=\"-120.9\" font-family=\"Times,serif\" font-size=\"12.00\"> </text>\n<polyline fill=\"none\" stroke=\"black\" points=\"56,-113.5 81,-113.5 \"/>\n<text text-anchor=\"middle\" x=\"68.5\" y=\"-99.9\" font-family=\"Times,serif\" font-size=\"12.00\"> </text>\n<polyline fill=\"none\" stroke=\"black\" points=\"56,-92.5 81,-92.5 \"/>\n<text text-anchor=\"middle\" x=\"68.5\" y=\"-78.9\" font-family=\"Times,serif\" font-size=\"12.00\"> </text>\n<polyline fill=\"none\" stroke=\"black\" points=\"56,-71.5 81,-71.5 \"/>\n<text text-anchor=\"middle\" x=\"68.5\" y=\"-57.9\" font-family=\"Times,serif\" font-size=\"12.00\"> </text>\n<polyline fill=\"none\" stroke=\"black\" points=\"56,-50.5 81,-50.5 \"/>\n<text text-anchor=\"middle\" x=\"68.5\" y=\"-36.9\" font-family=\"Times,serif\" font-size=\"12.00\"> </text>\n<polyline fill=\"none\" stroke=\"black\" points=\"56,-29.5 81,-29.5 \"/>\n<text text-anchor=\"middle\" x=\"68.5\" y=\"-15.9\" font-family=\"Times,serif\" font-size=\"12.00\"> </text>\n</g>\n<!-- Empty -->\n<g id=\"node2\" class=\"node\">\n<title>Empty</title>\n<polygon fill=\"none\" stroke=\"black\" stroke-width=\"0\" points=\"0,-0.5 0,-36.5 20,-36.5 20,-0.5 0,-0.5\"/>\n<text text-anchor=\"middle\" x=\"10\" y=\"-15.4\" font-family=\"Times,serif\" font-size=\"12.00\"> </text>\n</g>\n<!-- Empty&#45;&gt;stack -->\n<g id=\"edge1\" class=\"edge\">\n<title>Empty&#45;&gt;stack:top</title>\n<path fill=\"none\" stroke=\"black\" d=\"M20.31,-18.5C26.99,-18.5 36.45,-18.5 45.89,-18.5\"/>\n<polygon fill=\"black\" stroke=\"black\" points=\"46,-22 56,-18.5 46,-15 46,-22\"/>\n</g>\n</g>\n</svg>\n",
                  "text/plain": "<graphviz.sources.Source at 0x798ce0165a20>"
                },
                "metadata": {}
              }
            ]
          }
        },
        "0ebd4ae35b3e4eb7864a2f1e26be4a03": {
          "model_module": "@jupyter-widgets/output",
          "model_name": "OutputModel",
          "model_module_version": "1.0.0",
          "state": {
            "_dom_classes": [],
            "_model_module": "@jupyter-widgets/output",
            "_model_module_version": "1.0.0",
            "_model_name": "OutputModel",
            "_view_count": null,
            "_view_module": "@jupyter-widgets/output",
            "_view_module_version": "1.0.0",
            "_view_name": "OutputView",
            "layout": "IPY_MODEL_b6fcddf38c9e4ed6928a96e82432e396",
            "msg_id": "",
            "outputs": [
              {
                "output_type": "display_data",
                "data": {
                  "image/svg+xml": "<?xml version=\"1.0\" encoding=\"UTF-8\" standalone=\"no\"?>\n<!DOCTYPE svg PUBLIC \"-//W3C//DTD SVG 1.1//EN\"\n \"http://www.w3.org/Graphics/SVG/1.1/DTD/svg11.dtd\">\n<!-- Generated by graphviz version 2.43.0 (0)\n -->\n<!-- Title: %3 Pages: 1 -->\n<svg width=\"408pt\" height=\"102pt\"\n viewBox=\"0.00 0.00 408.39 101.54\" xmlns=\"http://www.w3.org/2000/svg\" xmlns:xlink=\"http://www.w3.org/1999/xlink\">\n<g id=\"graph0\" class=\"graph\" transform=\"scale(1 1) rotate(0) translate(4 97.54)\">\n<title>%3</title>\n<polygon fill=\"white\" stroke=\"transparent\" points=\"-4,4 -4,-97.54 404.39,-97.54 404.39,4 -4,4\"/>\n<!-- EMPTY -->\n<g id=\"node1\" class=\"node\">\n<title>EMPTY</title>\n</g>\n<!-- I_S0 -->\n<g id=\"node2\" class=\"node\">\n<title>I_S0</title>\n<ellipse fill=\"none\" stroke=\"black\" cx=\"118.3\" cy=\"-33.25\" rx=\"27.1\" ry=\"27.1\"/>\n<text text-anchor=\"middle\" x=\"118.3\" y=\"-29.55\" font-family=\"Times,serif\" font-size=\"14.00\">I_S0</text>\n</g>\n<!-- EMPTY&#45;&gt;I_S0 -->\n<g id=\"edge1\" class=\"edge\">\n<title>EMPTY&#45;&gt;I_S0</title>\n<path fill=\"none\" stroke=\"black\" d=\"M54.31,-33.25C62.59,-33.25 71.89,-33.25 80.76,-33.25\"/>\n<polygon fill=\"black\" stroke=\"black\" points=\"80.87,-36.75 90.87,-33.25 80.87,-29.75 80.87,-36.75\"/>\n</g>\n<!-- I_S0&#45;&gt;I_S0 -->\n<g id=\"edge2\" class=\"edge\">\n<title>I_S0&#45;&gt;I_S0</title>\n<path fill=\"none\" stroke=\"black\" d=\"M110.1,-59.31C109.63,-69.77 112.37,-78.54 118.3,-78.54 122.1,-78.54 124.58,-74.94 125.76,-69.61\"/>\n<polygon fill=\"black\" stroke=\"black\" points=\"129.27,-69.54 126.5,-59.31 122.29,-69.04 129.27,-69.54\"/>\n<text text-anchor=\"start\" x=\"95.3\" y=\"-82.34\" font-family=\"Times,serif\" font-size=\"14.00\"> a, &#39;&#39; ; aa</text>\n</g>\n<!-- S1 -->\n<g id=\"node3\" class=\"node\">\n<title>S1</title>\n<ellipse fill=\"none\" stroke=\"black\" cx=\"238.74\" cy=\"-33.25\" rx=\"20.3\" ry=\"20.3\"/>\n<text text-anchor=\"middle\" x=\"238.74\" y=\"-29.55\" font-family=\"Times,serif\" font-size=\"14.00\">S1</text>\n</g>\n<!-- I_S0&#45;&gt;S1 -->\n<g id=\"edge3\" class=\"edge\">\n<title>I_S0&#45;&gt;S1</title>\n<path fill=\"none\" stroke=\"black\" d=\"M145.88,-33.25C164.32,-33.25 188.91,-33.25 208.01,-33.25\"/>\n<polygon fill=\"black\" stroke=\"black\" points=\"208.25,-36.75 218.25,-33.25 208.25,-29.75 208.25,-36.75\"/>\n<text text-anchor=\"start\" x=\"163.6\" y=\"-37.05\" font-family=\"Times,serif\" font-size=\"14.00\"> &#39;&#39;, &#39;&#39; ; &#39;&#39;</text>\n</g>\n<!-- S1&#45;&gt;S1 -->\n<g id=\"edge4\" class=\"edge\">\n<title>S1&#45;&gt;S1</title>\n<path fill=\"none\" stroke=\"black\" d=\"M228.9,-50.91C226.71,-61.46 229.99,-71.4 238.74,-71.4 244.49,-71.4 247.87,-67.12 248.9,-61.19\"/>\n<polygon fill=\"black\" stroke=\"black\" points=\"252.39,-60.79 248.59,-50.91 245.4,-61.01 252.39,-60.79\"/>\n<text text-anchor=\"start\" x=\"218.74\" y=\"-75.2\" font-family=\"Times,serif\" font-size=\"14.00\"> b, a ; &#39;&#39;</text>\n</g>\n<!-- F_S2 -->\n<g id=\"node4\" class=\"node\">\n<title>F_S2</title>\n<ellipse fill=\"#66cd00\" stroke=\"black\" cx=\"367.14\" cy=\"-33.25\" rx=\"29.47\" ry=\"29.47\"/>\n<ellipse fill=\"none\" stroke=\"black\" cx=\"367.14\" cy=\"-33.25\" rx=\"33.5\" ry=\"33.5\"/>\n<text text-anchor=\"middle\" x=\"367.14\" y=\"-29.55\" font-family=\"Times,serif\" font-size=\"14.00\" fill=\"white\">F_S2</text>\n</g>\n<!-- S1&#45;&gt;F_S2 -->\n<g id=\"edge5\" class=\"edge\">\n<title>S1&#45;&gt;F_S2</title>\n<path fill=\"none\" stroke=\"black\" d=\"M258.94,-33.25C275.99,-33.25 301.53,-33.25 323.4,-33.25\"/>\n<polygon fill=\"black\" stroke=\"black\" points=\"323.46,-36.75 333.46,-33.25 323.46,-29.75 323.46,-36.75\"/>\n<text text-anchor=\"start\" x=\"276.89\" y=\"-37.05\" font-family=\"Times,serif\" font-size=\"14.00\"> &#39;&#39;, # ; &#39;&#39;</text>\n</g>\n</g>\n</svg>\n",
                  "text/plain": "<graphviz.sources.Source at 0x798ce0166bf0>"
                },
                "metadata": {}
              }
            ]
          }
        },
        "47fc638be1224ea5bdbcc111a1149906": {
          "model_module": "@jupyter-widgets/base",
          "model_name": "LayoutModel",
          "model_module_version": "1.2.0",
          "state": {
            "_model_module": "@jupyter-widgets/base",
            "_model_module_version": "1.2.0",
            "_model_name": "LayoutModel",
            "_view_count": null,
            "_view_module": "@jupyter-widgets/base",
            "_view_module_version": "1.2.0",
            "_view_name": "LayoutView",
            "align_content": null,
            "align_items": null,
            "align_self": null,
            "border": null,
            "bottom": null,
            "display": null,
            "flex": null,
            "flex_flow": null,
            "grid_area": null,
            "grid_auto_columns": null,
            "grid_auto_flow": null,
            "grid_auto_rows": null,
            "grid_column": null,
            "grid_gap": null,
            "grid_row": null,
            "grid_template_areas": null,
            "grid_template_columns": null,
            "grid_template_rows": null,
            "height": null,
            "justify_content": null,
            "justify_items": null,
            "left": null,
            "margin": null,
            "max_height": null,
            "max_width": null,
            "min_height": null,
            "min_width": null,
            "object_fit": null,
            "object_position": null,
            "order": null,
            "overflow": null,
            "overflow_x": null,
            "overflow_y": null,
            "padding": null,
            "right": null,
            "top": null,
            "visibility": null,
            "width": null
          }
        },
        "f4fbfe4dcc2a4a8f8e27ecc22ec68e68": {
          "model_module": "@jupyter-widgets/controls",
          "model_name": "DropdownModel",
          "model_module_version": "1.5.0",
          "state": {
            "_dom_classes": [],
            "_model_module": "@jupyter-widgets/controls",
            "_model_module_version": "1.5.0",
            "_model_name": "DropdownModel",
            "_options_labels": [
              "Path 1"
            ],
            "_view_count": null,
            "_view_module": "@jupyter-widgets/controls",
            "_view_module_version": "1.5.0",
            "_view_name": "DropdownView",
            "description": "Path:",
            "description_tooltip": null,
            "disabled": false,
            "index": 0,
            "layout": "IPY_MODEL_7883dd0e01a5431b81e520a0663a4abf",
            "style": "IPY_MODEL_f6e4f43e2daa4f9d916d813fb75fbfb0"
          }
        },
        "08a3f7174b2141889f6e064705defe03": {
          "model_module": "@jupyter-widgets/controls",
          "model_name": "PlayModel",
          "model_module_version": "1.5.0",
          "state": {
            "_dom_classes": [],
            "_model_module": "@jupyter-widgets/controls",
            "_model_module_version": "1.5.0",
            "_model_name": "PlayModel",
            "_playing": false,
            "_repeat": false,
            "_view_count": null,
            "_view_module": "@jupyter-widgets/controls",
            "_view_module_version": "1.5.0",
            "_view_name": "PlayView",
            "description": "Press play",
            "description_tooltip": null,
            "disabled": false,
            "interval": 500,
            "layout": "IPY_MODEL_cc245c2dfb854fcf946c70d75614fa6f",
            "max": 22,
            "min": 0,
            "show_repeat": true,
            "step": 1,
            "style": "IPY_MODEL_e4bf3bb2ea9643619e9285f477260805",
            "value": 22
          }
        },
        "2b724605dd7148938188c4d3cff18dc9": {
          "model_module": "@jupyter-widgets/controls",
          "model_name": "ButtonModel",
          "model_module_version": "1.5.0",
          "state": {
            "_dom_classes": [],
            "_model_module": "@jupyter-widgets/controls",
            "_model_module_version": "1.5.0",
            "_model_name": "ButtonModel",
            "_view_count": null,
            "_view_module": "@jupyter-widgets/controls",
            "_view_module_version": "1.5.0",
            "_view_name": "ButtonView",
            "button_style": "",
            "description": "",
            "disabled": false,
            "icon": "step-backward",
            "layout": "IPY_MODEL_22f1856095984b488d80be00c1c95994",
            "style": "IPY_MODEL_270736534965467096961ccfecf61029",
            "tooltip": ""
          }
        },
        "fdb39ce9fda14c1aaf62915ef96505e1": {
          "model_module": "@jupyter-widgets/controls",
          "model_name": "ButtonModel",
          "model_module_version": "1.5.0",
          "state": {
            "_dom_classes": [],
            "_model_module": "@jupyter-widgets/controls",
            "_model_module_version": "1.5.0",
            "_model_name": "ButtonModel",
            "_view_count": null,
            "_view_module": "@jupyter-widgets/controls",
            "_view_module_version": "1.5.0",
            "_view_name": "ButtonView",
            "button_style": "",
            "description": "",
            "disabled": true,
            "icon": "step-forward",
            "layout": "IPY_MODEL_03eafbaf9a714c52a8dd71f2abdd02d9",
            "style": "IPY_MODEL_a8a9fa34503d410289b41a30a945a6c7",
            "tooltip": ""
          }
        },
        "4a8237a0a9b04210986eabe3201187ad": {
          "model_module": "@jupyter-widgets/controls",
          "model_name": "IntSliderModel",
          "model_module_version": "1.5.0",
          "state": {
            "_dom_classes": [],
            "_model_module": "@jupyter-widgets/controls",
            "_model_module_version": "1.5.0",
            "_model_name": "IntSliderModel",
            "_view_count": null,
            "_view_module": "@jupyter-widgets/controls",
            "_view_module_version": "1.5.0",
            "_view_name": "IntSliderView",
            "continuous_update": false,
            "description": "Speed:",
            "description_tooltip": null,
            "disabled": false,
            "layout": "IPY_MODEL_318561d3c0ff48d4a715fcf654643325",
            "max": 10,
            "min": 1,
            "orientation": "horizontal",
            "readout": true,
            "readout_format": "d",
            "step": 1,
            "style": "IPY_MODEL_edf48c3f594040d09792d1779a2dc7d4",
            "value": 10
          }
        },
        "8c0e9e98d8f343b980c35b1b517339b3": {
          "model_module": "@jupyter-widgets/base",
          "model_name": "LayoutModel",
          "model_module_version": "1.2.0",
          "state": {
            "_model_module": "@jupyter-widgets/base",
            "_model_module_version": "1.2.0",
            "_model_name": "LayoutModel",
            "_view_count": null,
            "_view_module": "@jupyter-widgets/base",
            "_view_module_version": "1.2.0",
            "_view_name": "LayoutView",
            "align_content": null,
            "align_items": null,
            "align_self": null,
            "border": null,
            "bottom": null,
            "display": null,
            "flex": null,
            "flex_flow": null,
            "grid_area": null,
            "grid_auto_columns": null,
            "grid_auto_flow": null,
            "grid_auto_rows": null,
            "grid_column": null,
            "grid_gap": null,
            "grid_row": null,
            "grid_template_areas": null,
            "grid_template_columns": null,
            "grid_template_rows": null,
            "height": null,
            "justify_content": null,
            "justify_items": null,
            "left": null,
            "margin": null,
            "max_height": null,
            "max_width": null,
            "min_height": null,
            "min_width": null,
            "object_fit": null,
            "object_position": null,
            "order": null,
            "overflow": null,
            "overflow_x": null,
            "overflow_y": null,
            "padding": null,
            "right": null,
            "top": null,
            "visibility": null,
            "width": null
          }
        },
        "bf49f10851eb4e879a6d3358676c3be8": {
          "model_module": "@jupyter-widgets/base",
          "model_name": "LayoutModel",
          "model_module_version": "1.2.0",
          "state": {
            "_model_module": "@jupyter-widgets/base",
            "_model_module_version": "1.2.0",
            "_model_name": "LayoutModel",
            "_view_count": null,
            "_view_module": "@jupyter-widgets/base",
            "_view_module_version": "1.2.0",
            "_view_name": "LayoutView",
            "align_content": null,
            "align_items": null,
            "align_self": null,
            "border": null,
            "bottom": null,
            "display": null,
            "flex": null,
            "flex_flow": null,
            "grid_area": null,
            "grid_auto_columns": null,
            "grid_auto_flow": null,
            "grid_auto_rows": null,
            "grid_column": null,
            "grid_gap": null,
            "grid_row": null,
            "grid_template_areas": null,
            "grid_template_columns": null,
            "grid_template_rows": null,
            "height": null,
            "justify_content": null,
            "justify_items": null,
            "left": null,
            "margin": null,
            "max_height": null,
            "max_width": null,
            "min_height": null,
            "min_width": null,
            "object_fit": null,
            "object_position": null,
            "order": null,
            "overflow": null,
            "overflow_x": null,
            "overflow_y": null,
            "padding": null,
            "right": null,
            "top": null,
            "visibility": null,
            "width": "500px"
          }
        },
        "6d7364b253794688a5af45a6353b4a76": {
          "model_module": "@jupyter-widgets/controls",
          "model_name": "DescriptionStyleModel",
          "model_module_version": "1.5.0",
          "state": {
            "_model_module": "@jupyter-widgets/controls",
            "_model_module_version": "1.5.0",
            "_model_name": "DescriptionStyleModel",
            "_view_count": null,
            "_view_module": "@jupyter-widgets/base",
            "_view_module_version": "1.2.0",
            "_view_name": "StyleView",
            "description_width": ""
          }
        },
        "739c24a0ef0743d5b61cffb8193c46b1": {
          "model_module": "@jupyter-widgets/base",
          "model_name": "LayoutModel",
          "model_module_version": "1.2.0",
          "state": {
            "_model_module": "@jupyter-widgets/base",
            "_model_module_version": "1.2.0",
            "_model_name": "LayoutModel",
            "_view_count": null,
            "_view_module": "@jupyter-widgets/base",
            "_view_module_version": "1.2.0",
            "_view_name": "LayoutView",
            "align_content": null,
            "align_items": null,
            "align_self": null,
            "border": null,
            "bottom": null,
            "display": null,
            "flex": null,
            "flex_flow": null,
            "grid_area": null,
            "grid_auto_columns": null,
            "grid_auto_flow": null,
            "grid_auto_rows": null,
            "grid_column": null,
            "grid_gap": null,
            "grid_row": null,
            "grid_template_areas": null,
            "grid_template_columns": null,
            "grid_template_rows": null,
            "height": null,
            "justify_content": null,
            "justify_items": null,
            "left": null,
            "margin": null,
            "max_height": null,
            "max_width": null,
            "min_height": null,
            "min_width": null,
            "object_fit": null,
            "object_position": null,
            "order": null,
            "overflow": null,
            "overflow_x": null,
            "overflow_y": null,
            "padding": null,
            "right": null,
            "top": null,
            "visibility": null,
            "width": "160px"
          }
        },
        "c32c5fd2974742c9a7b8ad27d5c9ec25": {
          "model_module": "@jupyter-widgets/controls",
          "model_name": "DescriptionStyleModel",
          "model_module_version": "1.5.0",
          "state": {
            "_model_module": "@jupyter-widgets/controls",
            "_model_module_version": "1.5.0",
            "_model_name": "DescriptionStyleModel",
            "_view_count": null,
            "_view_module": "@jupyter-widgets/base",
            "_view_module_version": "1.2.0",
            "_view_name": "StyleView",
            "description_width": ""
          }
        },
        "384f33cf69ff4a7dadbd315b2a328166": {
          "model_module": "@jupyter-widgets/base",
          "model_name": "LayoutModel",
          "model_module_version": "1.2.0",
          "state": {
            "_model_module": "@jupyter-widgets/base",
            "_model_module_version": "1.2.0",
            "_model_name": "LayoutModel",
            "_view_count": null,
            "_view_module": "@jupyter-widgets/base",
            "_view_module_version": "1.2.0",
            "_view_name": "LayoutView",
            "align_content": null,
            "align_items": null,
            "align_self": null,
            "border": null,
            "bottom": null,
            "display": null,
            "flex": null,
            "flex_flow": null,
            "grid_area": null,
            "grid_auto_columns": null,
            "grid_auto_flow": null,
            "grid_auto_rows": null,
            "grid_column": null,
            "grid_gap": null,
            "grid_row": null,
            "grid_template_areas": null,
            "grid_template_columns": null,
            "grid_template_rows": null,
            "height": null,
            "justify_content": null,
            "justify_items": null,
            "left": null,
            "margin": null,
            "max_height": null,
            "max_width": null,
            "min_height": null,
            "min_width": null,
            "object_fit": null,
            "object_position": null,
            "order": null,
            "overflow": null,
            "overflow_x": null,
            "overflow_y": null,
            "padding": null,
            "right": null,
            "top": null,
            "visibility": null,
            "width": null
          }
        },
        "5b41300a4c914f58b872396d9b23b5db": {
          "model_module": "@jupyter-widgets/controls",
          "model_name": "ButtonStyleModel",
          "model_module_version": "1.5.0",
          "state": {
            "_model_module": "@jupyter-widgets/controls",
            "_model_module_version": "1.5.0",
            "_model_name": "ButtonStyleModel",
            "_view_count": null,
            "_view_module": "@jupyter-widgets/base",
            "_view_module_version": "1.2.0",
            "_view_name": "StyleView",
            "button_color": null,
            "font_weight": ""
          }
        },
        "cdeb57f277414878a7178255b2e72689": {
          "model_module": "@jupyter-widgets/base",
          "model_name": "LayoutModel",
          "model_module_version": "1.2.0",
          "state": {
            "_model_module": "@jupyter-widgets/base",
            "_model_module_version": "1.2.0",
            "_model_name": "LayoutModel",
            "_view_count": null,
            "_view_module": "@jupyter-widgets/base",
            "_view_module_version": "1.2.0",
            "_view_name": "LayoutView",
            "align_content": null,
            "align_items": null,
            "align_self": null,
            "border": null,
            "bottom": null,
            "display": null,
            "flex": null,
            "flex_flow": null,
            "grid_area": null,
            "grid_auto_columns": null,
            "grid_auto_flow": null,
            "grid_auto_rows": null,
            "grid_column": null,
            "grid_gap": null,
            "grid_row": null,
            "grid_template_areas": null,
            "grid_template_columns": null,
            "grid_template_rows": null,
            "height": null,
            "justify_content": null,
            "justify_items": null,
            "left": null,
            "margin": null,
            "max_height": null,
            "max_width": null,
            "min_height": null,
            "min_width": null,
            "object_fit": null,
            "object_position": null,
            "order": null,
            "overflow": null,
            "overflow_x": null,
            "overflow_y": null,
            "padding": null,
            "right": null,
            "top": null,
            "visibility": null,
            "width": null
          }
        },
        "da9a3263c2c84cceb28d8b6caa5f3929": {
          "model_module": "@jupyter-widgets/controls",
          "model_name": "SliderStyleModel",
          "model_module_version": "1.5.0",
          "state": {
            "_model_module": "@jupyter-widgets/controls",
            "_model_module_version": "1.5.0",
            "_model_name": "SliderStyleModel",
            "_view_count": null,
            "_view_module": "@jupyter-widgets/base",
            "_view_module_version": "1.2.0",
            "_view_name": "StyleView",
            "description_width": "",
            "handle_color": null
          }
        },
        "7883dd0e01a5431b81e520a0663a4abf": {
          "model_module": "@jupyter-widgets/base",
          "model_name": "LayoutModel",
          "model_module_version": "1.2.0",
          "state": {
            "_model_module": "@jupyter-widgets/base",
            "_model_module_version": "1.2.0",
            "_model_name": "LayoutModel",
            "_view_count": null,
            "_view_module": "@jupyter-widgets/base",
            "_view_module_version": "1.2.0",
            "_view_name": "LayoutView",
            "align_content": null,
            "align_items": null,
            "align_self": null,
            "border": null,
            "bottom": null,
            "display": null,
            "flex": null,
            "flex_flow": null,
            "grid_area": null,
            "grid_auto_columns": null,
            "grid_auto_flow": null,
            "grid_auto_rows": null,
            "grid_column": null,
            "grid_gap": null,
            "grid_row": null,
            "grid_template_areas": null,
            "grid_template_columns": null,
            "grid_template_rows": null,
            "height": null,
            "justify_content": null,
            "justify_items": null,
            "left": null,
            "margin": null,
            "max_height": null,
            "max_width": null,
            "min_height": null,
            "min_width": null,
            "object_fit": null,
            "object_position": null,
            "order": null,
            "overflow": null,
            "overflow_x": null,
            "overflow_y": null,
            "padding": null,
            "right": null,
            "top": null,
            "visibility": null,
            "width": "200px"
          }
        },
        "f6e4f43e2daa4f9d916d813fb75fbfb0": {
          "model_module": "@jupyter-widgets/controls",
          "model_name": "DescriptionStyleModel",
          "model_module_version": "1.5.0",
          "state": {
            "_model_module": "@jupyter-widgets/controls",
            "_model_module_version": "1.5.0",
            "_model_name": "DescriptionStyleModel",
            "_view_count": null,
            "_view_module": "@jupyter-widgets/base",
            "_view_module_version": "1.2.0",
            "_view_name": "StyleView",
            "description_width": ""
          }
        },
        "cc245c2dfb854fcf946c70d75614fa6f": {
          "model_module": "@jupyter-widgets/base",
          "model_name": "LayoutModel",
          "model_module_version": "1.2.0",
          "state": {
            "_model_module": "@jupyter-widgets/base",
            "_model_module_version": "1.2.0",
            "_model_name": "LayoutModel",
            "_view_count": null,
            "_view_module": "@jupyter-widgets/base",
            "_view_module_version": "1.2.0",
            "_view_name": "LayoutView",
            "align_content": null,
            "align_items": null,
            "align_self": null,
            "border": null,
            "bottom": null,
            "display": null,
            "flex": null,
            "flex_flow": null,
            "grid_area": null,
            "grid_auto_columns": null,
            "grid_auto_flow": null,
            "grid_auto_rows": null,
            "grid_column": null,
            "grid_gap": null,
            "grid_row": null,
            "grid_template_areas": null,
            "grid_template_columns": null,
            "grid_template_rows": null,
            "height": null,
            "justify_content": null,
            "justify_items": null,
            "left": null,
            "margin": null,
            "max_height": null,
            "max_width": null,
            "min_height": null,
            "min_width": null,
            "object_fit": null,
            "object_position": null,
            "order": null,
            "overflow": null,
            "overflow_x": null,
            "overflow_y": null,
            "padding": null,
            "right": null,
            "top": null,
            "visibility": null,
            "width": null
          }
        },
        "e4bf3bb2ea9643619e9285f477260805": {
          "model_module": "@jupyter-widgets/controls",
          "model_name": "DescriptionStyleModel",
          "model_module_version": "1.5.0",
          "state": {
            "_model_module": "@jupyter-widgets/controls",
            "_model_module_version": "1.5.0",
            "_model_name": "DescriptionStyleModel",
            "_view_count": null,
            "_view_module": "@jupyter-widgets/base",
            "_view_module_version": "1.2.0",
            "_view_name": "StyleView",
            "description_width": ""
          }
        },
        "22f1856095984b488d80be00c1c95994": {
          "model_module": "@jupyter-widgets/base",
          "model_name": "LayoutModel",
          "model_module_version": "1.2.0",
          "state": {
            "_model_module": "@jupyter-widgets/base",
            "_model_module_version": "1.2.0",
            "_model_name": "LayoutModel",
            "_view_count": null,
            "_view_module": "@jupyter-widgets/base",
            "_view_module_version": "1.2.0",
            "_view_name": "LayoutView",
            "align_content": null,
            "align_items": null,
            "align_self": null,
            "border": null,
            "bottom": null,
            "display": null,
            "flex": null,
            "flex_flow": null,
            "grid_area": null,
            "grid_auto_columns": null,
            "grid_auto_flow": null,
            "grid_auto_rows": null,
            "grid_column": null,
            "grid_gap": null,
            "grid_row": null,
            "grid_template_areas": null,
            "grid_template_columns": null,
            "grid_template_rows": null,
            "height": null,
            "justify_content": null,
            "justify_items": null,
            "left": null,
            "margin": null,
            "max_height": null,
            "max_width": null,
            "min_height": null,
            "min_width": null,
            "object_fit": null,
            "object_position": null,
            "order": null,
            "overflow": null,
            "overflow_x": null,
            "overflow_y": null,
            "padding": null,
            "right": null,
            "top": null,
            "visibility": null,
            "width": "40px"
          }
        },
        "270736534965467096961ccfecf61029": {
          "model_module": "@jupyter-widgets/controls",
          "model_name": "ButtonStyleModel",
          "model_module_version": "1.5.0",
          "state": {
            "_model_module": "@jupyter-widgets/controls",
            "_model_module_version": "1.5.0",
            "_model_name": "ButtonStyleModel",
            "_view_count": null,
            "_view_module": "@jupyter-widgets/base",
            "_view_module_version": "1.2.0",
            "_view_name": "StyleView",
            "button_color": null,
            "font_weight": ""
          }
        },
        "03eafbaf9a714c52a8dd71f2abdd02d9": {
          "model_module": "@jupyter-widgets/base",
          "model_name": "LayoutModel",
          "model_module_version": "1.2.0",
          "state": {
            "_model_module": "@jupyter-widgets/base",
            "_model_module_version": "1.2.0",
            "_model_name": "LayoutModel",
            "_view_count": null,
            "_view_module": "@jupyter-widgets/base",
            "_view_module_version": "1.2.0",
            "_view_name": "LayoutView",
            "align_content": null,
            "align_items": null,
            "align_self": null,
            "border": null,
            "bottom": null,
            "display": null,
            "flex": null,
            "flex_flow": null,
            "grid_area": null,
            "grid_auto_columns": null,
            "grid_auto_flow": null,
            "grid_auto_rows": null,
            "grid_column": null,
            "grid_gap": null,
            "grid_row": null,
            "grid_template_areas": null,
            "grid_template_columns": null,
            "grid_template_rows": null,
            "height": null,
            "justify_content": null,
            "justify_items": null,
            "left": null,
            "margin": null,
            "max_height": null,
            "max_width": null,
            "min_height": null,
            "min_width": null,
            "object_fit": null,
            "object_position": null,
            "order": null,
            "overflow": null,
            "overflow_x": null,
            "overflow_y": null,
            "padding": null,
            "right": null,
            "top": null,
            "visibility": null,
            "width": "40px"
          }
        },
        "a8a9fa34503d410289b41a30a945a6c7": {
          "model_module": "@jupyter-widgets/controls",
          "model_name": "ButtonStyleModel",
          "model_module_version": "1.5.0",
          "state": {
            "_model_module": "@jupyter-widgets/controls",
            "_model_module_version": "1.5.0",
            "_model_name": "ButtonStyleModel",
            "_view_count": null,
            "_view_module": "@jupyter-widgets/base",
            "_view_module_version": "1.2.0",
            "_view_name": "StyleView",
            "button_color": null,
            "font_weight": ""
          }
        },
        "318561d3c0ff48d4a715fcf654643325": {
          "model_module": "@jupyter-widgets/base",
          "model_name": "LayoutModel",
          "model_module_version": "1.2.0",
          "state": {
            "_model_module": "@jupyter-widgets/base",
            "_model_module_version": "1.2.0",
            "_model_name": "LayoutModel",
            "_view_count": null,
            "_view_module": "@jupyter-widgets/base",
            "_view_module_version": "1.2.0",
            "_view_name": "LayoutView",
            "align_content": null,
            "align_items": null,
            "align_self": null,
            "border": null,
            "bottom": null,
            "display": null,
            "flex": null,
            "flex_flow": null,
            "grid_area": null,
            "grid_auto_columns": null,
            "grid_auto_flow": null,
            "grid_auto_rows": null,
            "grid_column": null,
            "grid_gap": null,
            "grid_row": null,
            "grid_template_areas": null,
            "grid_template_columns": null,
            "grid_template_rows": null,
            "height": null,
            "justify_content": null,
            "justify_items": null,
            "left": null,
            "margin": null,
            "max_height": null,
            "max_width": null,
            "min_height": null,
            "min_width": null,
            "object_fit": null,
            "object_position": null,
            "order": null,
            "overflow": null,
            "overflow_x": null,
            "overflow_y": null,
            "padding": null,
            "right": null,
            "top": null,
            "visibility": null,
            "width": null
          }
        },
        "edf48c3f594040d09792d1779a2dc7d4": {
          "model_module": "@jupyter-widgets/controls",
          "model_name": "SliderStyleModel",
          "model_module_version": "1.5.0",
          "state": {
            "_model_module": "@jupyter-widgets/controls",
            "_model_module_version": "1.5.0",
            "_model_name": "SliderStyleModel",
            "_view_count": null,
            "_view_module": "@jupyter-widgets/base",
            "_view_module_version": "1.2.0",
            "_view_name": "StyleView",
            "description_width": "",
            "handle_color": null
          }
        },
        "f37cf3a486de441da55a0b53f8305ce5": {
          "model_module": "@jupyter-widgets/base",
          "model_name": "LayoutModel",
          "model_module_version": "1.2.0",
          "state": {
            "_model_module": "@jupyter-widgets/base",
            "_model_module_version": "1.2.0",
            "_model_name": "LayoutModel",
            "_view_count": null,
            "_view_module": "@jupyter-widgets/base",
            "_view_module_version": "1.2.0",
            "_view_name": "LayoutView",
            "align_content": null,
            "align_items": null,
            "align_self": null,
            "border": null,
            "bottom": null,
            "display": null,
            "flex": null,
            "flex_flow": null,
            "grid_area": null,
            "grid_auto_columns": null,
            "grid_auto_flow": null,
            "grid_auto_rows": null,
            "grid_column": null,
            "grid_gap": null,
            "grid_row": null,
            "grid_template_areas": null,
            "grid_template_columns": null,
            "grid_template_rows": null,
            "height": null,
            "justify_content": null,
            "justify_items": null,
            "left": null,
            "margin": null,
            "max_height": null,
            "max_width": null,
            "min_height": null,
            "min_width": null,
            "object_fit": null,
            "object_position": null,
            "order": null,
            "overflow": null,
            "overflow_x": null,
            "overflow_y": null,
            "padding": null,
            "right": null,
            "top": null,
            "visibility": null,
            "width": null
          }
        },
        "ddcba155d6d4457dbe258897ee6cebf6": {
          "model_module": "@jupyter-widgets/base",
          "model_name": "LayoutModel",
          "model_module_version": "1.2.0",
          "state": {
            "_model_module": "@jupyter-widgets/base",
            "_model_module_version": "1.2.0",
            "_model_name": "LayoutModel",
            "_view_count": null,
            "_view_module": "@jupyter-widgets/base",
            "_view_module_version": "1.2.0",
            "_view_name": "LayoutView",
            "align_content": null,
            "align_items": null,
            "align_self": null,
            "border": null,
            "bottom": null,
            "display": null,
            "flex": null,
            "flex_flow": null,
            "grid_area": null,
            "grid_auto_columns": null,
            "grid_auto_flow": null,
            "grid_auto_rows": null,
            "grid_column": null,
            "grid_gap": null,
            "grid_row": null,
            "grid_template_areas": null,
            "grid_template_columns": null,
            "grid_template_rows": null,
            "height": null,
            "justify_content": null,
            "justify_items": null,
            "left": null,
            "margin": null,
            "max_height": null,
            "max_width": null,
            "min_height": null,
            "min_width": null,
            "object_fit": null,
            "object_position": null,
            "order": null,
            "overflow": null,
            "overflow_x": null,
            "overflow_y": null,
            "padding": null,
            "right": null,
            "top": null,
            "visibility": null,
            "width": null
          }
        },
        "5a9eecb01d7f4268b6a2133402d8107a": {
          "model_module": "@jupyter-widgets/base",
          "model_name": "LayoutModel",
          "model_module_version": "1.2.0",
          "state": {
            "_model_module": "@jupyter-widgets/base",
            "_model_module_version": "1.2.0",
            "_model_name": "LayoutModel",
            "_view_count": null,
            "_view_module": "@jupyter-widgets/base",
            "_view_module_version": "1.2.0",
            "_view_name": "LayoutView",
            "align_content": null,
            "align_items": null,
            "align_self": null,
            "border": null,
            "bottom": null,
            "display": null,
            "flex": null,
            "flex_flow": null,
            "grid_area": null,
            "grid_auto_columns": null,
            "grid_auto_flow": null,
            "grid_auto_rows": null,
            "grid_column": null,
            "grid_gap": null,
            "grid_row": null,
            "grid_template_areas": null,
            "grid_template_columns": null,
            "grid_template_rows": null,
            "height": null,
            "justify_content": null,
            "justify_items": null,
            "left": null,
            "margin": null,
            "max_height": null,
            "max_width": null,
            "min_height": null,
            "min_width": null,
            "object_fit": null,
            "object_position": null,
            "order": null,
            "overflow": null,
            "overflow_x": null,
            "overflow_y": null,
            "padding": null,
            "right": null,
            "top": null,
            "visibility": null,
            "width": null
          }
        },
        "1e8a615af5f948e286ad824eda899ba0": {
          "model_module": "@jupyter-widgets/base",
          "model_name": "LayoutModel",
          "model_module_version": "1.2.0",
          "state": {
            "_model_module": "@jupyter-widgets/base",
            "_model_module_version": "1.2.0",
            "_model_name": "LayoutModel",
            "_view_count": null,
            "_view_module": "@jupyter-widgets/base",
            "_view_module_version": "1.2.0",
            "_view_name": "LayoutView",
            "align_content": null,
            "align_items": null,
            "align_self": null,
            "border": null,
            "bottom": null,
            "display": null,
            "flex": null,
            "flex_flow": null,
            "grid_area": null,
            "grid_auto_columns": null,
            "grid_auto_flow": null,
            "grid_auto_rows": null,
            "grid_column": null,
            "grid_gap": null,
            "grid_row": null,
            "grid_template_areas": null,
            "grid_template_columns": null,
            "grid_template_rows": null,
            "height": null,
            "justify_content": null,
            "justify_items": null,
            "left": null,
            "margin": null,
            "max_height": null,
            "max_width": null,
            "min_height": null,
            "min_width": null,
            "object_fit": null,
            "object_position": null,
            "order": null,
            "overflow": null,
            "overflow_x": null,
            "overflow_y": null,
            "padding": null,
            "right": null,
            "top": null,
            "visibility": null,
            "width": null
          }
        },
        "b6fcddf38c9e4ed6928a96e82432e396": {
          "model_module": "@jupyter-widgets/base",
          "model_name": "LayoutModel",
          "model_module_version": "1.2.0",
          "state": {
            "_model_module": "@jupyter-widgets/base",
            "_model_module_version": "1.2.0",
            "_model_name": "LayoutModel",
            "_view_count": null,
            "_view_module": "@jupyter-widgets/base",
            "_view_module_version": "1.2.0",
            "_view_name": "LayoutView",
            "align_content": null,
            "align_items": null,
            "align_self": null,
            "border": null,
            "bottom": null,
            "display": null,
            "flex": null,
            "flex_flow": null,
            "grid_area": null,
            "grid_auto_columns": null,
            "grid_auto_flow": null,
            "grid_auto_rows": null,
            "grid_column": null,
            "grid_gap": null,
            "grid_row": null,
            "grid_template_areas": null,
            "grid_template_columns": null,
            "grid_template_rows": null,
            "height": null,
            "justify_content": null,
            "justify_items": null,
            "left": null,
            "margin": null,
            "max_height": null,
            "max_width": null,
            "min_height": null,
            "min_width": null,
            "object_fit": null,
            "object_position": null,
            "order": null,
            "overflow": null,
            "overflow_x": null,
            "overflow_y": null,
            "padding": null,
            "right": null,
            "top": null,
            "visibility": null,
            "width": null
          }
        },
        "a36ac52fbc2c466d93badefaca5705ee": {
          "model_module": "@jupyter-widgets/controls",
          "model_name": "VBoxModel",
          "model_module_version": "1.5.0",
          "state": {
            "_dom_classes": [],
            "_model_module": "@jupyter-widgets/controls",
            "_model_module_version": "1.5.0",
            "_model_name": "VBoxModel",
            "_view_count": null,
            "_view_module": "@jupyter-widgets/controls",
            "_view_module_version": "1.5.0",
            "_view_name": "VBoxView",
            "box_style": "",
            "children": [
              "IPY_MODEL_8d92526426f54c588ab823cda2beef7e",
              "IPY_MODEL_ae0857e42aa4422594233ad6119f5e45",
              "IPY_MODEL_67ba541735f141ad8b0cf7d073ea7bf8",
              "IPY_MODEL_33e64ba50ab841cf9a2e9fc00b1b187f",
              "IPY_MODEL_d2f31ecff33b4af088712492d44f7694",
              "IPY_MODEL_e6c0ef78e56742239f2ae73afb4801a3",
              "IPY_MODEL_4e499cb43bfe4009b880928276b9d4ed"
            ],
            "layout": "IPY_MODEL_92a1a512462c400095106e59b3f1911f"
          }
        },
        "8d92526426f54c588ab823cda2beef7e": {
          "model_module": "@jupyter-widgets/controls",
          "model_name": "HBoxModel",
          "model_module_version": "1.5.0",
          "state": {
            "_dom_classes": [],
            "_model_module": "@jupyter-widgets/controls",
            "_model_module_version": "1.5.0",
            "_model_name": "HBoxModel",
            "_view_count": null,
            "_view_module": "@jupyter-widgets/controls",
            "_view_module_version": "1.5.0",
            "_view_name": "HBoxView",
            "box_style": "",
            "children": [
              "IPY_MODEL_8390726ae1d044c5b4974a4ec88e52f1",
              "IPY_MODEL_e82eba4c9ee1412794407d63eaa4352c",
              "IPY_MODEL_060a0fe57d6c4dd4a5302bbf94759453"
            ],
            "layout": "IPY_MODEL_d8be8224217d4168b8f6f532846e03c3"
          }
        },
        "ae0857e42aa4422594233ad6119f5e45": {
          "model_module": "@jupyter-widgets/controls",
          "model_name": "HBoxModel",
          "model_module_version": "1.5.0",
          "state": {
            "_dom_classes": [],
            "_model_module": "@jupyter-widgets/controls",
            "_model_module_version": "1.5.0",
            "_model_name": "HBoxModel",
            "_view_count": null,
            "_view_module": "@jupyter-widgets/controls",
            "_view_module_version": "1.5.0",
            "_view_name": "HBoxView",
            "box_style": "",
            "children": [
              "IPY_MODEL_faf33f5751974a9198846ba0e0ea37df"
            ],
            "layout": "IPY_MODEL_178e5a747aa4482f96d4da7cdebcc13e"
          }
        },
        "67ba541735f141ad8b0cf7d073ea7bf8": {
          "model_module": "@jupyter-widgets/output",
          "model_name": "OutputModel",
          "model_module_version": "1.0.0",
          "state": {
            "_dom_classes": [],
            "_model_module": "@jupyter-widgets/output",
            "_model_module_version": "1.0.0",
            "_model_name": "OutputModel",
            "_view_count": null,
            "_view_module": "@jupyter-widgets/output",
            "_view_module_version": "1.0.0",
            "_view_name": "OutputView",
            "layout": "IPY_MODEL_ba5a5257ddd048f49db050082895906c",
            "msg_id": "",
            "outputs": []
          }
        },
        "33e64ba50ab841cf9a2e9fc00b1b187f": {
          "model_module": "@jupyter-widgets/controls",
          "model_name": "HBoxModel",
          "model_module_version": "1.5.0",
          "state": {
            "_dom_classes": [],
            "_model_module": "@jupyter-widgets/controls",
            "_model_module_version": "1.5.0",
            "_model_name": "HBoxModel",
            "_view_count": null,
            "_view_module": "@jupyter-widgets/controls",
            "_view_module_version": "1.5.0",
            "_view_name": "HBoxView",
            "box_style": "",
            "children": [
              "IPY_MODEL_e161a4ddfd6b446081bfa6f925fa4702",
              "IPY_MODEL_f8ee86d26da846d3a1f0209744feed7c"
            ],
            "layout": "IPY_MODEL_1f49e738181145b397d2c4c9f1e80be5"
          }
        },
        "d2f31ecff33b4af088712492d44f7694": {
          "model_module": "@jupyter-widgets/output",
          "model_name": "OutputModel",
          "model_module_version": "1.0.0",
          "state": {
            "_dom_classes": [],
            "_model_module": "@jupyter-widgets/output",
            "_model_module_version": "1.0.0",
            "_model_name": "OutputModel",
            "_view_count": null,
            "_view_module": "@jupyter-widgets/output",
            "_view_module_version": "1.0.0",
            "_view_name": "OutputView",
            "layout": "IPY_MODEL_8e2c11bcb46c49dabd178880a3854991",
            "msg_id": "",
            "outputs": [
              {
                "output_type": "display_data",
                "data": {
                  "image/svg+xml": "<?xml version=\"1.0\" encoding=\"UTF-8\" standalone=\"no\"?>\n<!DOCTYPE svg PUBLIC \"-//W3C//DTD SVG 1.1//EN\"\n \"http://www.w3.org/Graphics/SVG/1.1/DTD/svg11.dtd\">\n<!-- Generated by graphviz version 2.43.0 (0)\n -->\n<!-- Title: %3 Pages: 1 -->\n<svg width=\"141pt\" height=\"47pt\"\n viewBox=\"0.00 0.00 141.00 47.00\" xmlns=\"http://www.w3.org/2000/svg\" xmlns:xlink=\"http://www.w3.org/1999/xlink\">\n<g id=\"graph0\" class=\"graph\" transform=\"scale(1 1) rotate(0) translate(4 43)\">\n<title>%3</title>\n<polygon fill=\"white\" stroke=\"transparent\" points=\"-4,4 -4,-43 137,-43 137,4 -4,4\"/>\n<!-- feed -->\n<g id=\"node1\" class=\"node\">\n<title>feed</title>\n<polygon fill=\"none\" stroke=\"black\" points=\"8.5,-3.5 8.5,-34.5 82.5,-34.5 82.5,-3.5 8.5,-3.5\"/>\n<text text-anchor=\"start\" x=\"17.5\" y=\"-15.9\" font-family=\"Times,serif\" font-size=\"12.00\">aabbbbcccc</text>\n<polygon fill=\"none\" stroke=\"black\" points=\"82.5,-3.5 82.5,-34.5 107.5,-34.5 107.5,-3.5 82.5,-3.5\"/>\n<text text-anchor=\"start\" x=\"91.5\" y=\"-15.9\" font-family=\"Times,serif\" font-size=\"12.00\"> &#160;</text>\n<polygon fill=\"none\" stroke=\"black\" points=\"107.5,-3.5 107.5,-34.5 125.5,-34.5 125.5,-3.5 107.5,-3.5\"/>\n</g>\n</g>\n</svg>\n",
                  "text/plain": "<graphviz.sources.Source at 0x798ce0165d50>"
                },
                "metadata": {}
              }
            ]
          }
        },
        "e6c0ef78e56742239f2ae73afb4801a3": {
          "model_module": "@jupyter-widgets/controls",
          "model_name": "HBoxModel",
          "model_module_version": "1.5.0",
          "state": {
            "_dom_classes": [],
            "_model_module": "@jupyter-widgets/controls",
            "_model_module_version": "1.5.0",
            "_model_name": "HBoxModel",
            "_view_count": null,
            "_view_module": "@jupyter-widgets/controls",
            "_view_module_version": "1.5.0",
            "_view_name": "HBoxView",
            "box_style": "",
            "children": [
              "IPY_MODEL_bbe1f92abaac4257a170f5b264c84f60",
              "IPY_MODEL_85df5bde5ca547dbbf0d58c874b331bb",
              "IPY_MODEL_26d1e2bc40564d5e8ac66a46013ed5db",
              "IPY_MODEL_9c25e4c15bae45d78377637a85de597a",
              "IPY_MODEL_c6b0867c004f47d697ecf550a7583bde"
            ],
            "layout": "IPY_MODEL_3c458d23f0ce438e95a46972f65224b4"
          }
        },
        "4e499cb43bfe4009b880928276b9d4ed": {
          "model_module": "@jupyter-widgets/output",
          "model_name": "OutputModel",
          "model_module_version": "1.0.0",
          "state": {
            "_dom_classes": [],
            "_model_module": "@jupyter-widgets/output",
            "_model_module_version": "1.0.0",
            "_model_name": "OutputModel",
            "_view_count": null,
            "_view_module": "@jupyter-widgets/output",
            "_view_module_version": "1.0.0",
            "_view_name": "OutputView",
            "layout": "IPY_MODEL_212858897d7340d388c49b5f77ca4711",
            "msg_id": "",
            "outputs": []
          }
        },
        "92a1a512462c400095106e59b3f1911f": {
          "model_module": "@jupyter-widgets/base",
          "model_name": "LayoutModel",
          "model_module_version": "1.2.0",
          "state": {
            "_model_module": "@jupyter-widgets/base",
            "_model_module_version": "1.2.0",
            "_model_name": "LayoutModel",
            "_view_count": null,
            "_view_module": "@jupyter-widgets/base",
            "_view_module_version": "1.2.0",
            "_view_name": "LayoutView",
            "align_content": null,
            "align_items": null,
            "align_self": null,
            "border": null,
            "bottom": null,
            "display": null,
            "flex": null,
            "flex_flow": null,
            "grid_area": null,
            "grid_auto_columns": null,
            "grid_auto_flow": null,
            "grid_auto_rows": null,
            "grid_column": null,
            "grid_gap": null,
            "grid_row": null,
            "grid_template_areas": null,
            "grid_template_columns": null,
            "grid_template_rows": null,
            "height": null,
            "justify_content": null,
            "justify_items": null,
            "left": null,
            "margin": null,
            "max_height": null,
            "max_width": null,
            "min_height": null,
            "min_width": null,
            "object_fit": null,
            "object_position": null,
            "order": null,
            "overflow": null,
            "overflow_x": null,
            "overflow_y": null,
            "padding": null,
            "right": null,
            "top": null,
            "visibility": null,
            "width": null
          }
        },
        "8390726ae1d044c5b4974a4ec88e52f1": {
          "model_module": "@jupyter-widgets/controls",
          "model_name": "TextModel",
          "model_module_version": "1.5.0",
          "state": {
            "_dom_classes": [],
            "_model_module": "@jupyter-widgets/controls",
            "_model_module_version": "1.5.0",
            "_model_name": "TextModel",
            "_view_count": null,
            "_view_module": "@jupyter-widgets/controls",
            "_view_module_version": "1.5.0",
            "_view_name": "TextView",
            "continuous_update": true,
            "description": "Input:",
            "description_tooltip": null,
            "disabled": true,
            "layout": "IPY_MODEL_715b56c6d2e54dc9a48e382ea9753425",
            "placeholder": "Sigma: {a,b,c}",
            "style": "IPY_MODEL_152af2f085414e94a9aaaff1c65f12ed",
            "value": "aabbbbcccc"
          }
        },
        "e82eba4c9ee1412794407d63eaa4352c": {
          "model_module": "@jupyter-widgets/controls",
          "model_name": "DropdownModel",
          "model_module_version": "1.5.0",
          "state": {
            "_dom_classes": [],
            "_model_module": "@jupyter-widgets/controls",
            "_model_module_version": "1.5.0",
            "_model_name": "DropdownModel",
            "_options_labels": [
              "State",
              "Stack"
            ],
            "_view_count": null,
            "_view_module": "@jupyter-widgets/controls",
            "_view_module_version": "1.5.0",
            "_view_name": "DropdownView",
            "description": "Acceptance:",
            "description_tooltip": null,
            "disabled": true,
            "index": 0,
            "layout": "IPY_MODEL_729f7ac07c0741668a1e25bbd7916c0e",
            "style": "IPY_MODEL_f92da3997b2c42e99057c79300557f29"
          }
        },
        "060a0fe57d6c4dd4a5302bbf94759453": {
          "model_module": "@jupyter-widgets/controls",
          "model_name": "ButtonModel",
          "model_module_version": "1.5.0",
          "state": {
            "_dom_classes": [],
            "_model_module": "@jupyter-widgets/controls",
            "_model_module_version": "1.5.0",
            "_model_name": "ButtonModel",
            "_view_count": null,
            "_view_module": "@jupyter-widgets/controls",
            "_view_module_version": "1.5.0",
            "_view_name": "ButtonView",
            "button_style": "primary",
            "description": "Change Input",
            "disabled": false,
            "icon": "",
            "layout": "IPY_MODEL_0eea79fb632d4c7a89f599b4693ebac8",
            "style": "IPY_MODEL_fb692b54c52e4b5f8f048736756444db",
            "tooltip": ""
          }
        },
        "d8be8224217d4168b8f6f532846e03c3": {
          "model_module": "@jupyter-widgets/base",
          "model_name": "LayoutModel",
          "model_module_version": "1.2.0",
          "state": {
            "_model_module": "@jupyter-widgets/base",
            "_model_module_version": "1.2.0",
            "_model_name": "LayoutModel",
            "_view_count": null,
            "_view_module": "@jupyter-widgets/base",
            "_view_module_version": "1.2.0",
            "_view_name": "LayoutView",
            "align_content": null,
            "align_items": null,
            "align_self": null,
            "border": null,
            "bottom": null,
            "display": null,
            "flex": null,
            "flex_flow": null,
            "grid_area": null,
            "grid_auto_columns": null,
            "grid_auto_flow": null,
            "grid_auto_rows": null,
            "grid_column": null,
            "grid_gap": null,
            "grid_row": null,
            "grid_template_areas": null,
            "grid_template_columns": null,
            "grid_template_rows": null,
            "height": null,
            "justify_content": null,
            "justify_items": null,
            "left": null,
            "margin": null,
            "max_height": null,
            "max_width": null,
            "min_height": null,
            "min_width": null,
            "object_fit": null,
            "object_position": null,
            "order": null,
            "overflow": null,
            "overflow_x": null,
            "overflow_y": null,
            "padding": null,
            "right": null,
            "top": null,
            "visibility": null,
            "width": null
          }
        },
        "faf33f5751974a9198846ba0e0ea37df": {
          "model_module": "@jupyter-widgets/controls",
          "model_name": "IntSliderModel",
          "model_module_version": "1.5.0",
          "state": {
            "_dom_classes": [],
            "_model_module": "@jupyter-widgets/controls",
            "_model_module_version": "1.5.0",
            "_model_name": "IntSliderModel",
            "_view_count": null,
            "_view_module": "@jupyter-widgets/controls",
            "_view_module_version": "1.5.0",
            "_view_name": "IntSliderView",
            "continuous_update": false,
            "description": "Stack Size:",
            "description_tooltip": null,
            "disabled": true,
            "layout": "IPY_MODEL_8a41e7ad89d046f1a17de726d9e4e08d",
            "max": 30,
            "min": 2,
            "orientation": "horizontal",
            "readout": true,
            "readout_format": "d",
            "step": 1,
            "style": "IPY_MODEL_8def79519b5f43adb9905f83617b6ab9",
            "value": 6
          }
        },
        "178e5a747aa4482f96d4da7cdebcc13e": {
          "model_module": "@jupyter-widgets/base",
          "model_name": "LayoutModel",
          "model_module_version": "1.2.0",
          "state": {
            "_model_module": "@jupyter-widgets/base",
            "_model_module_version": "1.2.0",
            "_model_name": "LayoutModel",
            "_view_count": null,
            "_view_module": "@jupyter-widgets/base",
            "_view_module_version": "1.2.0",
            "_view_name": "LayoutView",
            "align_content": null,
            "align_items": null,
            "align_self": null,
            "border": null,
            "bottom": null,
            "display": null,
            "flex": null,
            "flex_flow": null,
            "grid_area": null,
            "grid_auto_columns": null,
            "grid_auto_flow": null,
            "grid_auto_rows": null,
            "grid_column": null,
            "grid_gap": null,
            "grid_row": null,
            "grid_template_areas": null,
            "grid_template_columns": null,
            "grid_template_rows": null,
            "height": null,
            "justify_content": null,
            "justify_items": null,
            "left": null,
            "margin": null,
            "max_height": null,
            "max_width": null,
            "min_height": null,
            "min_width": null,
            "object_fit": null,
            "object_position": null,
            "order": null,
            "overflow": null,
            "overflow_x": null,
            "overflow_y": null,
            "padding": null,
            "right": null,
            "top": null,
            "visibility": null,
            "width": null
          }
        },
        "e161a4ddfd6b446081bfa6f925fa4702": {
          "model_module": "@jupyter-widgets/output",
          "model_name": "OutputModel",
          "model_module_version": "1.0.0",
          "state": {
            "_dom_classes": [],
            "_model_module": "@jupyter-widgets/output",
            "_model_module_version": "1.0.0",
            "_model_name": "OutputModel",
            "_view_count": null,
            "_view_module": "@jupyter-widgets/output",
            "_view_module_version": "1.0.0",
            "_view_name": "OutputView",
            "layout": "IPY_MODEL_8c96270b836144ab880357879959126f",
            "msg_id": "",
            "outputs": [
              {
                "output_type": "display_data",
                "data": {
                  "image/svg+xml": "<?xml version=\"1.0\" encoding=\"UTF-8\" standalone=\"no\"?>\n<!DOCTYPE svg PUBLIC \"-//W3C//DTD SVG 1.1//EN\"\n \"http://www.w3.org/Graphics/SVG/1.1/DTD/svg11.dtd\">\n<!-- Generated by graphviz version 2.43.0 (0)\n -->\n<!-- Title: %3 Pages: 1 -->\n<svg width=\"89pt\" height=\"143pt\"\n viewBox=\"0.00 0.00 89.00 143.00\" xmlns=\"http://www.w3.org/2000/svg\" xmlns:xlink=\"http://www.w3.org/1999/xlink\">\n<g id=\"graph0\" class=\"graph\" transform=\"scale(1 1) rotate(0) translate(4 139)\">\n<title>%3</title>\n<polygon fill=\"white\" stroke=\"transparent\" points=\"-4,4 -4,-139 85,-139 85,4 -4,4\"/>\n<!-- stack -->\n<g id=\"node1\" class=\"node\">\n<title>stack</title>\n<polygon fill=\"none\" stroke=\"black\" points=\"56,-8.5 56,-134.5 81,-134.5 81,-8.5 56,-8.5\"/>\n<text text-anchor=\"middle\" x=\"68.5\" y=\"-120.9\" font-family=\"Times,serif\" font-size=\"12.00\"> </text>\n<polyline fill=\"none\" stroke=\"black\" points=\"56,-113.5 81,-113.5 \"/>\n<text text-anchor=\"middle\" x=\"68.5\" y=\"-99.9\" font-family=\"Times,serif\" font-size=\"12.00\"> </text>\n<polyline fill=\"none\" stroke=\"black\" points=\"56,-92.5 81,-92.5 \"/>\n<text text-anchor=\"middle\" x=\"68.5\" y=\"-78.9\" font-family=\"Times,serif\" font-size=\"12.00\"> </text>\n<polyline fill=\"none\" stroke=\"black\" points=\"56,-71.5 81,-71.5 \"/>\n<text text-anchor=\"middle\" x=\"68.5\" y=\"-57.9\" font-family=\"Times,serif\" font-size=\"12.00\"> </text>\n<polyline fill=\"none\" stroke=\"black\" points=\"56,-50.5 81,-50.5 \"/>\n<text text-anchor=\"middle\" x=\"68.5\" y=\"-36.9\" font-family=\"Times,serif\" font-size=\"12.00\"> </text>\n<polyline fill=\"none\" stroke=\"black\" points=\"56,-29.5 81,-29.5 \"/>\n<text text-anchor=\"middle\" x=\"68.5\" y=\"-15.9\" font-family=\"Times,serif\" font-size=\"12.00\"> </text>\n</g>\n<!-- Empty -->\n<g id=\"node2\" class=\"node\">\n<title>Empty</title>\n<polygon fill=\"none\" stroke=\"black\" stroke-width=\"0\" points=\"0,-0.5 0,-36.5 20,-36.5 20,-0.5 0,-0.5\"/>\n<text text-anchor=\"middle\" x=\"10\" y=\"-15.4\" font-family=\"Times,serif\" font-size=\"12.00\"> </text>\n</g>\n<!-- Empty&#45;&gt;stack -->\n<g id=\"edge1\" class=\"edge\">\n<title>Empty&#45;&gt;stack:top</title>\n<path fill=\"none\" stroke=\"black\" d=\"M20.31,-18.5C26.99,-18.5 36.45,-18.5 45.89,-18.5\"/>\n<polygon fill=\"black\" stroke=\"black\" points=\"46,-22 56,-18.5 46,-15 46,-22\"/>\n</g>\n</g>\n</svg>\n",
                  "text/plain": "<graphviz.sources.Source at 0x798ce0167370>"
                },
                "metadata": {}
              }
            ]
          }
        },
        "f8ee86d26da846d3a1f0209744feed7c": {
          "model_module": "@jupyter-widgets/output",
          "model_name": "OutputModel",
          "model_module_version": "1.0.0",
          "state": {
            "_dom_classes": [],
            "_model_module": "@jupyter-widgets/output",
            "_model_module_version": "1.0.0",
            "_model_name": "OutputModel",
            "_view_count": null,
            "_view_module": "@jupyter-widgets/output",
            "_view_module_version": "1.0.0",
            "_view_name": "OutputView",
            "layout": "IPY_MODEL_9bbe2dfe3eb24cbd88cb6626b667fb12",
            "msg_id": "",
            "outputs": [
              {
                "output_type": "display_data",
                "data": {
                  "image/svg+xml": "<?xml version=\"1.0\" encoding=\"UTF-8\" standalone=\"no\"?>\n<!DOCTYPE svg PUBLIC \"-//W3C//DTD SVG 1.1//EN\"\n \"http://www.w3.org/Graphics/SVG/1.1/DTD/svg11.dtd\">\n<!-- Generated by graphviz version 2.43.0 (0)\n -->\n<!-- Title: %3 Pages: 1 -->\n<svg width=\"648pt\" height=\"288pt\"\n viewBox=\"0.00 0.00 648.00 287.94\" xmlns=\"http://www.w3.org/2000/svg\" xmlns:xlink=\"http://www.w3.org/1999/xlink\">\n<g id=\"graph0\" class=\"graph\" transform=\"scale(0.88 0.88) rotate(0) translate(4 324.89)\">\n<title>%3</title>\n<polygon fill=\"white\" stroke=\"transparent\" points=\"-4,4 -4,-324.89 736.18,-324.89 736.18,4 -4,4\"/>\n<!-- EMPTY -->\n<g id=\"node1\" class=\"node\">\n<title>EMPTY</title>\n</g>\n<!-- I -->\n<g id=\"node4\" class=\"node\">\n<title>I</title>\n<ellipse fill=\"none\" stroke=\"black\" cx=\"109\" cy=\"-159.45\" rx=\"18\" ry=\"18\"/>\n<text text-anchor=\"middle\" x=\"109\" y=\"-155.75\" font-family=\"Times,serif\" font-size=\"14.00\">I</text>\n</g>\n<!-- EMPTY&#45;&gt;I -->\n<g id=\"edge1\" class=\"edge\">\n<title>EMPTY&#45;&gt;I</title>\n<path fill=\"none\" stroke=\"black\" d=\"M54.19,-159.45C62.65,-159.45 72.05,-159.45 80.6,-159.45\"/>\n<polygon fill=\"black\" stroke=\"black\" points=\"80.83,-162.95 90.83,-159.45 80.83,-155.95 80.83,-162.95\"/>\n</g>\n<!-- S_B1b -->\n<g id=\"node2\" class=\"node\">\n<title>S_B1b</title>\n<ellipse fill=\"none\" stroke=\"black\" cx=\"388.94\" cy=\"-253.45\" rx=\"34.39\" ry=\"34.39\"/>\n<text text-anchor=\"middle\" x=\"388.94\" y=\"-249.75\" font-family=\"Times,serif\" font-size=\"14.00\">S_B1b</text>\n</g>\n<!-- S_B1b&#45;&gt;S_B1b -->\n<g id=\"edge8\" class=\"edge\">\n<title>S_B1b&#45;&gt;S_B1b</title>\n<path fill=\"none\" stroke=\"black\" d=\"M374.71,-284.94C374.33,-296.46 379.07,-305.89 388.94,-305.89 395.73,-305.89 400.09,-301.43 402.03,-294.9\"/>\n<polygon fill=\"black\" stroke=\"black\" points=\"405.51,-295.27 403.17,-284.94 398.56,-294.47 405.51,-295.27\"/>\n<text text-anchor=\"start\" x=\"368.44\" y=\"-309.69\" font-family=\"Times,serif\" font-size=\"14.00\"> b, &#39;&#39; ; b</text>\n</g>\n<!-- S_B1c -->\n<g id=\"node3\" class=\"node\">\n<title>S_B1c</title>\n<ellipse fill=\"none\" stroke=\"black\" cx=\"541.84\" cy=\"-253.45\" rx=\"34.39\" ry=\"34.39\"/>\n<text text-anchor=\"middle\" x=\"541.84\" y=\"-249.75\" font-family=\"Times,serif\" font-size=\"14.00\">S_B1c</text>\n</g>\n<!-- S_B1b&#45;&gt;S_B1c -->\n<g id=\"edge9\" class=\"edge\">\n<title>S_B1b&#45;&gt;S_B1c</title>\n<path fill=\"none\" stroke=\"black\" d=\"M423.43,-253.45C445.14,-253.45 473.64,-253.45 497.12,-253.45\"/>\n<polygon fill=\"black\" stroke=\"black\" points=\"497.18,-256.95 507.18,-253.45 497.18,-249.95 497.18,-256.95\"/>\n<text text-anchor=\"start\" x=\"446.89\" y=\"-257.25\" font-family=\"Times,serif\" font-size=\"14.00\"> &#39;&#39;, &#39;&#39; ; &#39;&#39;</text>\n</g>\n<!-- S_B1c&#45;&gt;S_B1c -->\n<g id=\"edge10\" class=\"edge\">\n<title>S_B1c&#45;&gt;S_B1c</title>\n<path fill=\"none\" stroke=\"black\" d=\"M527.97,-285.2C527.68,-296.6 532.3,-305.89 541.84,-305.89 548.24,-305.89 552.43,-301.7 554.4,-295.49\"/>\n<polygon fill=\"black\" stroke=\"black\" points=\"557.92,-295.55 555.7,-285.2 550.98,-294.68 557.92,-295.55\"/>\n<text text-anchor=\"start\" x=\"521.84\" y=\"-309.69\" font-family=\"Times,serif\" font-size=\"14.00\"> c, b ; &#39;&#39;</text>\n</g>\n<!-- F_B1 -->\n<g id=\"node9\" class=\"node\">\n<title>F_B1</title>\n<ellipse fill=\"#66cd00\" stroke=\"black\" cx=\"693.73\" cy=\"-253.45\" rx=\"30.59\" ry=\"30.59\"/>\n<ellipse fill=\"none\" stroke=\"black\" cx=\"693.73\" cy=\"-253.45\" rx=\"34.59\" ry=\"34.59\"/>\n<text text-anchor=\"middle\" x=\"693.73\" y=\"-249.75\" font-family=\"Times,serif\" font-size=\"14.00\" fill=\"white\">F_B1</text>\n</g>\n<!-- S_B1c&#45;&gt;F_B1 -->\n<g id=\"edge11\" class=\"edge\">\n<title>S_B1c&#45;&gt;F_B1</title>\n<path fill=\"none\" stroke=\"black\" d=\"M576.47,-253.45C597.81,-253.45 625.63,-253.45 648.71,-253.45\"/>\n<polygon fill=\"black\" stroke=\"black\" points=\"648.94,-256.95 658.94,-253.45 648.94,-249.95 648.94,-256.95\"/>\n<text text-anchor=\"start\" x=\"598.28\" y=\"-257.25\" font-family=\"Times,serif\" font-size=\"14.00\"> &#39;&#39;, # ; &#39;&#39;</text>\n</g>\n<!-- F_S0 -->\n<g id=\"node8\" class=\"node\">\n<title>F_S0</title>\n<ellipse fill=\"none\" stroke=\"black\" cx=\"240.25\" cy=\"-159.45\" rx=\"29.47\" ry=\"29.47\"/>\n<ellipse fill=\"none\" stroke=\"black\" cx=\"240.25\" cy=\"-159.45\" rx=\"33.5\" ry=\"33.5\"/>\n<text text-anchor=\"middle\" x=\"240.25\" y=\"-155.75\" font-family=\"Times,serif\" font-size=\"14.00\">F_S0</text>\n</g>\n<!-- I&#45;&gt;F_S0 -->\n<g id=\"edge2\" class=\"edge\">\n<title>I&#45;&gt;F_S0</title>\n<path fill=\"none\" stroke=\"black\" d=\"M127.16,-159.45C144.81,-159.45 172.98,-159.45 196.66,-159.45\"/>\n<polygon fill=\"black\" stroke=\"black\" points=\"196.83,-162.95 206.83,-159.45 196.83,-155.95 196.83,-162.95\"/>\n<text text-anchor=\"start\" x=\"145\" y=\"-163.25\" font-family=\"Times,serif\" font-size=\"14.00\"> &#39;&#39;, &#39;&#39; ; aa</text>\n</g>\n<!-- F_B2b -->\n<g id=\"node5\" class=\"node\">\n<title>F_B2b</title>\n<ellipse fill=\"none\" stroke=\"black\" cx=\"541.84\" cy=\"-79.45\" rx=\"34.4\" ry=\"34.4\"/>\n<ellipse fill=\"none\" stroke=\"black\" cx=\"541.84\" cy=\"-79.45\" rx=\"38.39\" ry=\"38.39\"/>\n<text text-anchor=\"middle\" x=\"541.84\" y=\"-75.75\" font-family=\"Times,serif\" font-size=\"14.00\">F_B2b</text>\n</g>\n<!-- F_B2b&#45;&gt;F_B2b -->\n<g id=\"edge14\" class=\"edge\">\n<title>F_B2b&#45;&gt;F_B2b</title>\n<path fill=\"none\" stroke=\"black\" d=\"M527.97,-115.55C528.18,-126.92 532.8,-135.89 541.84,-135.89 547.9,-135.89 551.98,-131.84 554.07,-125.74\"/>\n<polygon fill=\"black\" stroke=\"black\" points=\"557.58,-125.98 555.7,-115.55 550.66,-124.87 557.58,-125.98\"/>\n<text text-anchor=\"start\" x=\"522.34\" y=\"-139.69\" font-family=\"Times,serif\" font-size=\"14.00\"> b, &#39;&#39; ; &#39;&#39;</text>\n</g>\n<!-- F_B2c -->\n<g id=\"node7\" class=\"node\">\n<title>F_B2c</title>\n<ellipse fill=\"none\" stroke=\"black\" cx=\"693.73\" cy=\"-38.45\" rx=\"34.4\" ry=\"34.4\"/>\n<ellipse fill=\"none\" stroke=\"black\" cx=\"693.73\" cy=\"-38.45\" rx=\"38.39\" ry=\"38.39\"/>\n<text text-anchor=\"middle\" x=\"693.73\" y=\"-34.75\" font-family=\"Times,serif\" font-size=\"14.00\">F_B2c</text>\n</g>\n<!-- F_B2b&#45;&gt;F_B2c -->\n<g id=\"edge15\" class=\"edge\">\n<title>F_B2b&#45;&gt;F_B2c</title>\n<path fill=\"none\" stroke=\"black\" d=\"M579.12,-69.52C599.48,-63.95 625.09,-56.95 646.83,-51\"/>\n<polygon fill=\"black\" stroke=\"black\" points=\"647.8,-54.37 656.52,-48.35 645.95,-47.61 647.8,-54.37\"/>\n<text text-anchor=\"start\" x=\"599.28\" y=\"-68.25\" font-family=\"Times,serif\" font-size=\"14.00\"> &#39;&#39;, &#39;&#39; ; &#39;&#39;</text>\n</g>\n<!-- F_B2a -->\n<g id=\"node6\" class=\"node\">\n<title>F_B2a</title>\n<ellipse fill=\"none\" stroke=\"black\" cx=\"388.94\" cy=\"-79.45\" rx=\"34.4\" ry=\"34.4\"/>\n<ellipse fill=\"none\" stroke=\"black\" cx=\"388.94\" cy=\"-79.45\" rx=\"38.39\" ry=\"38.39\"/>\n<text text-anchor=\"middle\" x=\"388.94\" y=\"-75.75\" font-family=\"Times,serif\" font-size=\"14.00\">F_B2a</text>\n</g>\n<!-- F_B2a&#45;&gt;F_B2b -->\n<g id=\"edge13\" class=\"edge\">\n<title>F_B2a&#45;&gt;F_B2b</title>\n<path fill=\"none\" stroke=\"black\" d=\"M427.63,-79.45C447.51,-79.45 472.1,-79.45 493.28,-79.45\"/>\n<polygon fill=\"black\" stroke=\"black\" points=\"493.37,-82.95 503.37,-79.45 493.37,-75.95 493.37,-82.95\"/>\n<text text-anchor=\"start\" x=\"446.89\" y=\"-83.25\" font-family=\"Times,serif\" font-size=\"14.00\"> &#39;&#39;, &#39;&#39; ; &#39;&#39;</text>\n</g>\n<!-- F_B2a&#45;&gt;F_B2a -->\n<g id=\"edge12\" class=\"edge\">\n<title>F_B2a&#45;&gt;F_B2a</title>\n<path fill=\"none\" stroke=\"black\" d=\"M374.7,-115.28C374.84,-126.78 379.59,-135.89 388.94,-135.89 395.22,-135.89 399.43,-131.78 401.56,-125.59\"/>\n<polygon fill=\"black\" stroke=\"black\" points=\"405.08,-125.7 403.19,-115.28 398.17,-124.61 405.08,-125.7\"/>\n<text text-anchor=\"start\" x=\"369.94\" y=\"-139.69\" font-family=\"Times,serif\" font-size=\"14.00\"> a, &#39;&#39; ; &#39;&#39;</text>\n</g>\n<!-- F_B2c&#45;&gt;F_B2c -->\n<g id=\"edge16\" class=\"edge\">\n<title>F_B2c&#45;&gt;F_B2c</title>\n<path fill=\"none\" stroke=\"black\" d=\"M679.86,-74.55C680.07,-85.92 684.7,-94.89 693.73,-94.89 699.8,-94.89 703.88,-90.84 705.96,-84.74\"/>\n<polygon fill=\"black\" stroke=\"black\" points=\"709.47,-84.98 707.6,-74.55 702.56,-83.87 709.47,-84.98\"/>\n<text text-anchor=\"start\" x=\"674.73\" y=\"-98.69\" font-family=\"Times,serif\" font-size=\"14.00\"> c, &#39;&#39; ; &#39;&#39;</text>\n</g>\n<!-- F_S0&#45;&gt;S_B1b -->\n<g id=\"edge7\" class=\"edge\">\n<title>F_S0&#45;&gt;S_B1b</title>\n<path fill=\"none\" stroke=\"black\" d=\"M265.86,-181.02C273.81,-187.58 282.81,-194.59 291.49,-200.45 309.57,-212.64 330.69,-224.49 348.56,-233.89\"/>\n<polygon fill=\"black\" stroke=\"black\" points=\"347.08,-237.06 357.57,-238.56 350.3,-230.85 347.08,-237.06\"/>\n<text text-anchor=\"start\" x=\"291.49\" y=\"-227.25\" font-family=\"Times,serif\" font-size=\"14.00\"> &#39;&#39;, # ; #</text>\n</g>\n<!-- F_S0&#45;&gt;F_B2b -->\n<g id=\"edge5\" class=\"edge\">\n<title>F_S0&#45;&gt;F_B2b</title>\n<path fill=\"none\" stroke=\"black\" d=\"M273.09,-165.17C310.88,-170.67 375.33,-175.96 427.39,-159.45 456.72,-150.14 485.02,-130.22 506.01,-112.58\"/>\n<polygon fill=\"black\" stroke=\"black\" points=\"508.4,-115.14 513.69,-105.96 503.83,-109.84 508.4,-115.14\"/>\n<text text-anchor=\"start\" x=\"368.94\" y=\"-174.25\" font-family=\"Times,serif\" font-size=\"14.00\"> b, a ; &#39;&#39;</text>\n</g>\n<!-- F_S0&#45;&gt;F_B2a -->\n<g id=\"edge4\" class=\"edge\">\n<title>F_S0&#45;&gt;F_B2a</title>\n<path fill=\"none\" stroke=\"black\" d=\"M269.88,-143.83C291.47,-132.06 321.42,-115.73 345.75,-102.46\"/>\n<polygon fill=\"black\" stroke=\"black\" points=\"347.66,-105.4 354.77,-97.54 344.31,-99.25 347.66,-105.4\"/>\n<text text-anchor=\"start\" x=\"291.99\" y=\"-134.25\" font-family=\"Times,serif\" font-size=\"14.00\"> a, # ; &#39;&#39;</text>\n</g>\n<!-- F_S0&#45;&gt;F_B2c -->\n<g id=\"edge6\" class=\"edge\">\n<title>F_S0&#45;&gt;F_B2c</title>\n<path fill=\"none\" stroke=\"black\" d=\"M256.31,-130.3C274.1,-99.43 306.88,-52.46 350.49,-32.45 448.1,12.34 578.46,-9.1 646.68,-25.58\"/>\n<polygon fill=\"black\" stroke=\"black\" points=\"646.13,-29.05 656.68,-28.07 647.82,-22.26 646.13,-29.05\"/>\n<text text-anchor=\"start\" x=\"445.39\" y=\"-12.25\" font-family=\"Times,serif\" font-size=\"14.00\"> c, a ; &#39;&#39;</text>\n</g>\n<!-- F_S0&#45;&gt;F_S0 -->\n<g id=\"edge3\" class=\"edge\">\n<title>F_S0&#45;&gt;F_S0</title>\n<path fill=\"none\" stroke=\"black\" d=\"M227.14,-190.22C226.79,-201.47 231.16,-210.69 240.25,-210.69 246.36,-210.69 250.33,-206.53 252.18,-200.39\"/>\n<polygon fill=\"black\" stroke=\"black\" points=\"255.68,-200.55 253.35,-190.22 248.73,-199.75 255.68,-200.55\"/>\n<text text-anchor=\"start\" x=\"220.25\" y=\"-214.49\" font-family=\"Times,serif\" font-size=\"14.00\"> a, a ; &#39;&#39;</text>\n</g>\n</g>\n</svg>\n",
                  "text/plain": "<graphviz.sources.Source at 0x798ce0165d50>"
                },
                "metadata": {}
              }
            ]
          }
        },
        "1f49e738181145b397d2c4c9f1e80be5": {
          "model_module": "@jupyter-widgets/base",
          "model_name": "LayoutModel",
          "model_module_version": "1.2.0",
          "state": {
            "_model_module": "@jupyter-widgets/base",
            "_model_module_version": "1.2.0",
            "_model_name": "LayoutModel",
            "_view_count": null,
            "_view_module": "@jupyter-widgets/base",
            "_view_module_version": "1.2.0",
            "_view_name": "LayoutView",
            "align_content": null,
            "align_items": null,
            "align_self": null,
            "border": null,
            "bottom": null,
            "display": null,
            "flex": null,
            "flex_flow": null,
            "grid_area": null,
            "grid_auto_columns": null,
            "grid_auto_flow": null,
            "grid_auto_rows": null,
            "grid_column": null,
            "grid_gap": null,
            "grid_row": null,
            "grid_template_areas": null,
            "grid_template_columns": null,
            "grid_template_rows": null,
            "height": null,
            "justify_content": null,
            "justify_items": null,
            "left": null,
            "margin": null,
            "max_height": null,
            "max_width": null,
            "min_height": null,
            "min_width": null,
            "object_fit": null,
            "object_position": null,
            "order": null,
            "overflow": null,
            "overflow_x": null,
            "overflow_y": null,
            "padding": null,
            "right": null,
            "top": null,
            "visibility": null,
            "width": null
          }
        },
        "bbe1f92abaac4257a170f5b264c84f60": {
          "model_module": "@jupyter-widgets/controls",
          "model_name": "DropdownModel",
          "model_module_version": "1.5.0",
          "state": {
            "_dom_classes": [],
            "_model_module": "@jupyter-widgets/controls",
            "_model_module_version": "1.5.0",
            "_model_name": "DropdownModel",
            "_options_labels": [
              "Path 1"
            ],
            "_view_count": null,
            "_view_module": "@jupyter-widgets/controls",
            "_view_module_version": "1.5.0",
            "_view_name": "DropdownView",
            "description": "Path:",
            "description_tooltip": null,
            "disabled": false,
            "index": 0,
            "layout": "IPY_MODEL_3a8c1b52960648c7980daa5a6d6dbe73",
            "style": "IPY_MODEL_c0d6a457079b4eee8555dffdf3df108d"
          }
        },
        "85df5bde5ca547dbbf0d58c874b331bb": {
          "model_module": "@jupyter-widgets/controls",
          "model_name": "PlayModel",
          "model_module_version": "1.5.0",
          "state": {
            "_dom_classes": [],
            "_model_module": "@jupyter-widgets/controls",
            "_model_module_version": "1.5.0",
            "_model_name": "PlayModel",
            "_playing": false,
            "_repeat": false,
            "_view_count": null,
            "_view_module": "@jupyter-widgets/controls",
            "_view_module_version": "1.5.0",
            "_view_name": "PlayView",
            "description": "Press play",
            "description_tooltip": null,
            "disabled": false,
            "interval": 500,
            "layout": "IPY_MODEL_a4eff4bea9e5474fa2c9a77f08d686f1",
            "max": 28,
            "min": 0,
            "show_repeat": true,
            "step": 1,
            "style": "IPY_MODEL_840930eedbaf467a84870fc6c77ec48e",
            "value": 28
          }
        },
        "26d1e2bc40564d5e8ac66a46013ed5db": {
          "model_module": "@jupyter-widgets/controls",
          "model_name": "ButtonModel",
          "model_module_version": "1.5.0",
          "state": {
            "_dom_classes": [],
            "_model_module": "@jupyter-widgets/controls",
            "_model_module_version": "1.5.0",
            "_model_name": "ButtonModel",
            "_view_count": null,
            "_view_module": "@jupyter-widgets/controls",
            "_view_module_version": "1.5.0",
            "_view_name": "ButtonView",
            "button_style": "",
            "description": "",
            "disabled": false,
            "icon": "step-backward",
            "layout": "IPY_MODEL_f7816c3fe1374e19b8c60322526e8b0a",
            "style": "IPY_MODEL_a4c550d5d99e4c15ab5b7bcd15f43f25",
            "tooltip": ""
          }
        },
        "9c25e4c15bae45d78377637a85de597a": {
          "model_module": "@jupyter-widgets/controls",
          "model_name": "ButtonModel",
          "model_module_version": "1.5.0",
          "state": {
            "_dom_classes": [],
            "_model_module": "@jupyter-widgets/controls",
            "_model_module_version": "1.5.0",
            "_model_name": "ButtonModel",
            "_view_count": null,
            "_view_module": "@jupyter-widgets/controls",
            "_view_module_version": "1.5.0",
            "_view_name": "ButtonView",
            "button_style": "",
            "description": "",
            "disabled": true,
            "icon": "step-forward",
            "layout": "IPY_MODEL_0145760d753c41b0b21009268f1bf726",
            "style": "IPY_MODEL_759954d9e7894cb3b4621b777cf0dacf",
            "tooltip": ""
          }
        },
        "c6b0867c004f47d697ecf550a7583bde": {
          "model_module": "@jupyter-widgets/controls",
          "model_name": "IntSliderModel",
          "model_module_version": "1.5.0",
          "state": {
            "_dom_classes": [],
            "_model_module": "@jupyter-widgets/controls",
            "_model_module_version": "1.5.0",
            "_model_name": "IntSliderModel",
            "_view_count": null,
            "_view_module": "@jupyter-widgets/controls",
            "_view_module_version": "1.5.0",
            "_view_name": "IntSliderView",
            "continuous_update": false,
            "description": "Speed:",
            "description_tooltip": null,
            "disabled": false,
            "layout": "IPY_MODEL_0fadbdd3056a4b31a3107bf97a1cb14a",
            "max": 10,
            "min": 1,
            "orientation": "horizontal",
            "readout": true,
            "readout_format": "d",
            "step": 1,
            "style": "IPY_MODEL_99ff2bf792bb4ebe97a579fa1286c195",
            "value": 10
          }
        },
        "3c458d23f0ce438e95a46972f65224b4": {
          "model_module": "@jupyter-widgets/base",
          "model_name": "LayoutModel",
          "model_module_version": "1.2.0",
          "state": {
            "_model_module": "@jupyter-widgets/base",
            "_model_module_version": "1.2.0",
            "_model_name": "LayoutModel",
            "_view_count": null,
            "_view_module": "@jupyter-widgets/base",
            "_view_module_version": "1.2.0",
            "_view_name": "LayoutView",
            "align_content": null,
            "align_items": null,
            "align_self": null,
            "border": null,
            "bottom": null,
            "display": null,
            "flex": null,
            "flex_flow": null,
            "grid_area": null,
            "grid_auto_columns": null,
            "grid_auto_flow": null,
            "grid_auto_rows": null,
            "grid_column": null,
            "grid_gap": null,
            "grid_row": null,
            "grid_template_areas": null,
            "grid_template_columns": null,
            "grid_template_rows": null,
            "height": null,
            "justify_content": null,
            "justify_items": null,
            "left": null,
            "margin": null,
            "max_height": null,
            "max_width": null,
            "min_height": null,
            "min_width": null,
            "object_fit": null,
            "object_position": null,
            "order": null,
            "overflow": null,
            "overflow_x": null,
            "overflow_y": null,
            "padding": null,
            "right": null,
            "top": null,
            "visibility": null,
            "width": null
          }
        },
        "715b56c6d2e54dc9a48e382ea9753425": {
          "model_module": "@jupyter-widgets/base",
          "model_name": "LayoutModel",
          "model_module_version": "1.2.0",
          "state": {
            "_model_module": "@jupyter-widgets/base",
            "_model_module_version": "1.2.0",
            "_model_name": "LayoutModel",
            "_view_count": null,
            "_view_module": "@jupyter-widgets/base",
            "_view_module_version": "1.2.0",
            "_view_name": "LayoutView",
            "align_content": null,
            "align_items": null,
            "align_self": null,
            "border": null,
            "bottom": null,
            "display": null,
            "flex": null,
            "flex_flow": null,
            "grid_area": null,
            "grid_auto_columns": null,
            "grid_auto_flow": null,
            "grid_auto_rows": null,
            "grid_column": null,
            "grid_gap": null,
            "grid_row": null,
            "grid_template_areas": null,
            "grid_template_columns": null,
            "grid_template_rows": null,
            "height": null,
            "justify_content": null,
            "justify_items": null,
            "left": null,
            "margin": null,
            "max_height": null,
            "max_width": null,
            "min_height": null,
            "min_width": null,
            "object_fit": null,
            "object_position": null,
            "order": null,
            "overflow": null,
            "overflow_x": null,
            "overflow_y": null,
            "padding": null,
            "right": null,
            "top": null,
            "visibility": null,
            "width": "500px"
          }
        },
        "152af2f085414e94a9aaaff1c65f12ed": {
          "model_module": "@jupyter-widgets/controls",
          "model_name": "DescriptionStyleModel",
          "model_module_version": "1.5.0",
          "state": {
            "_model_module": "@jupyter-widgets/controls",
            "_model_module_version": "1.5.0",
            "_model_name": "DescriptionStyleModel",
            "_view_count": null,
            "_view_module": "@jupyter-widgets/base",
            "_view_module_version": "1.2.0",
            "_view_name": "StyleView",
            "description_width": ""
          }
        },
        "729f7ac07c0741668a1e25bbd7916c0e": {
          "model_module": "@jupyter-widgets/base",
          "model_name": "LayoutModel",
          "model_module_version": "1.2.0",
          "state": {
            "_model_module": "@jupyter-widgets/base",
            "_model_module_version": "1.2.0",
            "_model_name": "LayoutModel",
            "_view_count": null,
            "_view_module": "@jupyter-widgets/base",
            "_view_module_version": "1.2.0",
            "_view_name": "LayoutView",
            "align_content": null,
            "align_items": null,
            "align_self": null,
            "border": null,
            "bottom": null,
            "display": null,
            "flex": null,
            "flex_flow": null,
            "grid_area": null,
            "grid_auto_columns": null,
            "grid_auto_flow": null,
            "grid_auto_rows": null,
            "grid_column": null,
            "grid_gap": null,
            "grid_row": null,
            "grid_template_areas": null,
            "grid_template_columns": null,
            "grid_template_rows": null,
            "height": null,
            "justify_content": null,
            "justify_items": null,
            "left": null,
            "margin": null,
            "max_height": null,
            "max_width": null,
            "min_height": null,
            "min_width": null,
            "object_fit": null,
            "object_position": null,
            "order": null,
            "overflow": null,
            "overflow_x": null,
            "overflow_y": null,
            "padding": null,
            "right": null,
            "top": null,
            "visibility": null,
            "width": "160px"
          }
        },
        "f92da3997b2c42e99057c79300557f29": {
          "model_module": "@jupyter-widgets/controls",
          "model_name": "DescriptionStyleModel",
          "model_module_version": "1.5.0",
          "state": {
            "_model_module": "@jupyter-widgets/controls",
            "_model_module_version": "1.5.0",
            "_model_name": "DescriptionStyleModel",
            "_view_count": null,
            "_view_module": "@jupyter-widgets/base",
            "_view_module_version": "1.2.0",
            "_view_name": "StyleView",
            "description_width": ""
          }
        },
        "0eea79fb632d4c7a89f599b4693ebac8": {
          "model_module": "@jupyter-widgets/base",
          "model_name": "LayoutModel",
          "model_module_version": "1.2.0",
          "state": {
            "_model_module": "@jupyter-widgets/base",
            "_model_module_version": "1.2.0",
            "_model_name": "LayoutModel",
            "_view_count": null,
            "_view_module": "@jupyter-widgets/base",
            "_view_module_version": "1.2.0",
            "_view_name": "LayoutView",
            "align_content": null,
            "align_items": null,
            "align_self": null,
            "border": null,
            "bottom": null,
            "display": null,
            "flex": null,
            "flex_flow": null,
            "grid_area": null,
            "grid_auto_columns": null,
            "grid_auto_flow": null,
            "grid_auto_rows": null,
            "grid_column": null,
            "grid_gap": null,
            "grid_row": null,
            "grid_template_areas": null,
            "grid_template_columns": null,
            "grid_template_rows": null,
            "height": null,
            "justify_content": null,
            "justify_items": null,
            "left": null,
            "margin": null,
            "max_height": null,
            "max_width": null,
            "min_height": null,
            "min_width": null,
            "object_fit": null,
            "object_position": null,
            "order": null,
            "overflow": null,
            "overflow_x": null,
            "overflow_y": null,
            "padding": null,
            "right": null,
            "top": null,
            "visibility": null,
            "width": null
          }
        },
        "fb692b54c52e4b5f8f048736756444db": {
          "model_module": "@jupyter-widgets/controls",
          "model_name": "ButtonStyleModel",
          "model_module_version": "1.5.0",
          "state": {
            "_model_module": "@jupyter-widgets/controls",
            "_model_module_version": "1.5.0",
            "_model_name": "ButtonStyleModel",
            "_view_count": null,
            "_view_module": "@jupyter-widgets/base",
            "_view_module_version": "1.2.0",
            "_view_name": "StyleView",
            "button_color": null,
            "font_weight": ""
          }
        },
        "8a41e7ad89d046f1a17de726d9e4e08d": {
          "model_module": "@jupyter-widgets/base",
          "model_name": "LayoutModel",
          "model_module_version": "1.2.0",
          "state": {
            "_model_module": "@jupyter-widgets/base",
            "_model_module_version": "1.2.0",
            "_model_name": "LayoutModel",
            "_view_count": null,
            "_view_module": "@jupyter-widgets/base",
            "_view_module_version": "1.2.0",
            "_view_name": "LayoutView",
            "align_content": null,
            "align_items": null,
            "align_self": null,
            "border": null,
            "bottom": null,
            "display": null,
            "flex": null,
            "flex_flow": null,
            "grid_area": null,
            "grid_auto_columns": null,
            "grid_auto_flow": null,
            "grid_auto_rows": null,
            "grid_column": null,
            "grid_gap": null,
            "grid_row": null,
            "grid_template_areas": null,
            "grid_template_columns": null,
            "grid_template_rows": null,
            "height": null,
            "justify_content": null,
            "justify_items": null,
            "left": null,
            "margin": null,
            "max_height": null,
            "max_width": null,
            "min_height": null,
            "min_width": null,
            "object_fit": null,
            "object_position": null,
            "order": null,
            "overflow": null,
            "overflow_x": null,
            "overflow_y": null,
            "padding": null,
            "right": null,
            "top": null,
            "visibility": null,
            "width": null
          }
        },
        "8def79519b5f43adb9905f83617b6ab9": {
          "model_module": "@jupyter-widgets/controls",
          "model_name": "SliderStyleModel",
          "model_module_version": "1.5.0",
          "state": {
            "_model_module": "@jupyter-widgets/controls",
            "_model_module_version": "1.5.0",
            "_model_name": "SliderStyleModel",
            "_view_count": null,
            "_view_module": "@jupyter-widgets/base",
            "_view_module_version": "1.2.0",
            "_view_name": "StyleView",
            "description_width": "",
            "handle_color": null
          }
        },
        "3a8c1b52960648c7980daa5a6d6dbe73": {
          "model_module": "@jupyter-widgets/base",
          "model_name": "LayoutModel",
          "model_module_version": "1.2.0",
          "state": {
            "_model_module": "@jupyter-widgets/base",
            "_model_module_version": "1.2.0",
            "_model_name": "LayoutModel",
            "_view_count": null,
            "_view_module": "@jupyter-widgets/base",
            "_view_module_version": "1.2.0",
            "_view_name": "LayoutView",
            "align_content": null,
            "align_items": null,
            "align_self": null,
            "border": null,
            "bottom": null,
            "display": null,
            "flex": null,
            "flex_flow": null,
            "grid_area": null,
            "grid_auto_columns": null,
            "grid_auto_flow": null,
            "grid_auto_rows": null,
            "grid_column": null,
            "grid_gap": null,
            "grid_row": null,
            "grid_template_areas": null,
            "grid_template_columns": null,
            "grid_template_rows": null,
            "height": null,
            "justify_content": null,
            "justify_items": null,
            "left": null,
            "margin": null,
            "max_height": null,
            "max_width": null,
            "min_height": null,
            "min_width": null,
            "object_fit": null,
            "object_position": null,
            "order": null,
            "overflow": null,
            "overflow_x": null,
            "overflow_y": null,
            "padding": null,
            "right": null,
            "top": null,
            "visibility": null,
            "width": "200px"
          }
        },
        "c0d6a457079b4eee8555dffdf3df108d": {
          "model_module": "@jupyter-widgets/controls",
          "model_name": "DescriptionStyleModel",
          "model_module_version": "1.5.0",
          "state": {
            "_model_module": "@jupyter-widgets/controls",
            "_model_module_version": "1.5.0",
            "_model_name": "DescriptionStyleModel",
            "_view_count": null,
            "_view_module": "@jupyter-widgets/base",
            "_view_module_version": "1.2.0",
            "_view_name": "StyleView",
            "description_width": ""
          }
        },
        "a4eff4bea9e5474fa2c9a77f08d686f1": {
          "model_module": "@jupyter-widgets/base",
          "model_name": "LayoutModel",
          "model_module_version": "1.2.0",
          "state": {
            "_model_module": "@jupyter-widgets/base",
            "_model_module_version": "1.2.0",
            "_model_name": "LayoutModel",
            "_view_count": null,
            "_view_module": "@jupyter-widgets/base",
            "_view_module_version": "1.2.0",
            "_view_name": "LayoutView",
            "align_content": null,
            "align_items": null,
            "align_self": null,
            "border": null,
            "bottom": null,
            "display": null,
            "flex": null,
            "flex_flow": null,
            "grid_area": null,
            "grid_auto_columns": null,
            "grid_auto_flow": null,
            "grid_auto_rows": null,
            "grid_column": null,
            "grid_gap": null,
            "grid_row": null,
            "grid_template_areas": null,
            "grid_template_columns": null,
            "grid_template_rows": null,
            "height": null,
            "justify_content": null,
            "justify_items": null,
            "left": null,
            "margin": null,
            "max_height": null,
            "max_width": null,
            "min_height": null,
            "min_width": null,
            "object_fit": null,
            "object_position": null,
            "order": null,
            "overflow": null,
            "overflow_x": null,
            "overflow_y": null,
            "padding": null,
            "right": null,
            "top": null,
            "visibility": null,
            "width": null
          }
        },
        "840930eedbaf467a84870fc6c77ec48e": {
          "model_module": "@jupyter-widgets/controls",
          "model_name": "DescriptionStyleModel",
          "model_module_version": "1.5.0",
          "state": {
            "_model_module": "@jupyter-widgets/controls",
            "_model_module_version": "1.5.0",
            "_model_name": "DescriptionStyleModel",
            "_view_count": null,
            "_view_module": "@jupyter-widgets/base",
            "_view_module_version": "1.2.0",
            "_view_name": "StyleView",
            "description_width": ""
          }
        },
        "f7816c3fe1374e19b8c60322526e8b0a": {
          "model_module": "@jupyter-widgets/base",
          "model_name": "LayoutModel",
          "model_module_version": "1.2.0",
          "state": {
            "_model_module": "@jupyter-widgets/base",
            "_model_module_version": "1.2.0",
            "_model_name": "LayoutModel",
            "_view_count": null,
            "_view_module": "@jupyter-widgets/base",
            "_view_module_version": "1.2.0",
            "_view_name": "LayoutView",
            "align_content": null,
            "align_items": null,
            "align_self": null,
            "border": null,
            "bottom": null,
            "display": null,
            "flex": null,
            "flex_flow": null,
            "grid_area": null,
            "grid_auto_columns": null,
            "grid_auto_flow": null,
            "grid_auto_rows": null,
            "grid_column": null,
            "grid_gap": null,
            "grid_row": null,
            "grid_template_areas": null,
            "grid_template_columns": null,
            "grid_template_rows": null,
            "height": null,
            "justify_content": null,
            "justify_items": null,
            "left": null,
            "margin": null,
            "max_height": null,
            "max_width": null,
            "min_height": null,
            "min_width": null,
            "object_fit": null,
            "object_position": null,
            "order": null,
            "overflow": null,
            "overflow_x": null,
            "overflow_y": null,
            "padding": null,
            "right": null,
            "top": null,
            "visibility": null,
            "width": "40px"
          }
        },
        "a4c550d5d99e4c15ab5b7bcd15f43f25": {
          "model_module": "@jupyter-widgets/controls",
          "model_name": "ButtonStyleModel",
          "model_module_version": "1.5.0",
          "state": {
            "_model_module": "@jupyter-widgets/controls",
            "_model_module_version": "1.5.0",
            "_model_name": "ButtonStyleModel",
            "_view_count": null,
            "_view_module": "@jupyter-widgets/base",
            "_view_module_version": "1.2.0",
            "_view_name": "StyleView",
            "button_color": null,
            "font_weight": ""
          }
        },
        "0145760d753c41b0b21009268f1bf726": {
          "model_module": "@jupyter-widgets/base",
          "model_name": "LayoutModel",
          "model_module_version": "1.2.0",
          "state": {
            "_model_module": "@jupyter-widgets/base",
            "_model_module_version": "1.2.0",
            "_model_name": "LayoutModel",
            "_view_count": null,
            "_view_module": "@jupyter-widgets/base",
            "_view_module_version": "1.2.0",
            "_view_name": "LayoutView",
            "align_content": null,
            "align_items": null,
            "align_self": null,
            "border": null,
            "bottom": null,
            "display": null,
            "flex": null,
            "flex_flow": null,
            "grid_area": null,
            "grid_auto_columns": null,
            "grid_auto_flow": null,
            "grid_auto_rows": null,
            "grid_column": null,
            "grid_gap": null,
            "grid_row": null,
            "grid_template_areas": null,
            "grid_template_columns": null,
            "grid_template_rows": null,
            "height": null,
            "justify_content": null,
            "justify_items": null,
            "left": null,
            "margin": null,
            "max_height": null,
            "max_width": null,
            "min_height": null,
            "min_width": null,
            "object_fit": null,
            "object_position": null,
            "order": null,
            "overflow": null,
            "overflow_x": null,
            "overflow_y": null,
            "padding": null,
            "right": null,
            "top": null,
            "visibility": null,
            "width": "40px"
          }
        },
        "759954d9e7894cb3b4621b777cf0dacf": {
          "model_module": "@jupyter-widgets/controls",
          "model_name": "ButtonStyleModel",
          "model_module_version": "1.5.0",
          "state": {
            "_model_module": "@jupyter-widgets/controls",
            "_model_module_version": "1.5.0",
            "_model_name": "ButtonStyleModel",
            "_view_count": null,
            "_view_module": "@jupyter-widgets/base",
            "_view_module_version": "1.2.0",
            "_view_name": "StyleView",
            "button_color": null,
            "font_weight": ""
          }
        },
        "0fadbdd3056a4b31a3107bf97a1cb14a": {
          "model_module": "@jupyter-widgets/base",
          "model_name": "LayoutModel",
          "model_module_version": "1.2.0",
          "state": {
            "_model_module": "@jupyter-widgets/base",
            "_model_module_version": "1.2.0",
            "_model_name": "LayoutModel",
            "_view_count": null,
            "_view_module": "@jupyter-widgets/base",
            "_view_module_version": "1.2.0",
            "_view_name": "LayoutView",
            "align_content": null,
            "align_items": null,
            "align_self": null,
            "border": null,
            "bottom": null,
            "display": null,
            "flex": null,
            "flex_flow": null,
            "grid_area": null,
            "grid_auto_columns": null,
            "grid_auto_flow": null,
            "grid_auto_rows": null,
            "grid_column": null,
            "grid_gap": null,
            "grid_row": null,
            "grid_template_areas": null,
            "grid_template_columns": null,
            "grid_template_rows": null,
            "height": null,
            "justify_content": null,
            "justify_items": null,
            "left": null,
            "margin": null,
            "max_height": null,
            "max_width": null,
            "min_height": null,
            "min_width": null,
            "object_fit": null,
            "object_position": null,
            "order": null,
            "overflow": null,
            "overflow_x": null,
            "overflow_y": null,
            "padding": null,
            "right": null,
            "top": null,
            "visibility": null,
            "width": null
          }
        },
        "99ff2bf792bb4ebe97a579fa1286c195": {
          "model_module": "@jupyter-widgets/controls",
          "model_name": "SliderStyleModel",
          "model_module_version": "1.5.0",
          "state": {
            "_model_module": "@jupyter-widgets/controls",
            "_model_module_version": "1.5.0",
            "_model_name": "SliderStyleModel",
            "_view_count": null,
            "_view_module": "@jupyter-widgets/base",
            "_view_module_version": "1.2.0",
            "_view_name": "StyleView",
            "description_width": "",
            "handle_color": null
          }
        },
        "ba5a5257ddd048f49db050082895906c": {
          "model_module": "@jupyter-widgets/base",
          "model_name": "LayoutModel",
          "model_module_version": "1.2.0",
          "state": {
            "_model_module": "@jupyter-widgets/base",
            "_model_module_version": "1.2.0",
            "_model_name": "LayoutModel",
            "_view_count": null,
            "_view_module": "@jupyter-widgets/base",
            "_view_module_version": "1.2.0",
            "_view_name": "LayoutView",
            "align_content": null,
            "align_items": null,
            "align_self": null,
            "border": null,
            "bottom": null,
            "display": null,
            "flex": null,
            "flex_flow": null,
            "grid_area": null,
            "grid_auto_columns": null,
            "grid_auto_flow": null,
            "grid_auto_rows": null,
            "grid_column": null,
            "grid_gap": null,
            "grid_row": null,
            "grid_template_areas": null,
            "grid_template_columns": null,
            "grid_template_rows": null,
            "height": null,
            "justify_content": null,
            "justify_items": null,
            "left": null,
            "margin": null,
            "max_height": null,
            "max_width": null,
            "min_height": null,
            "min_width": null,
            "object_fit": null,
            "object_position": null,
            "order": null,
            "overflow": null,
            "overflow_x": null,
            "overflow_y": null,
            "padding": null,
            "right": null,
            "top": null,
            "visibility": null,
            "width": null
          }
        },
        "8e2c11bcb46c49dabd178880a3854991": {
          "model_module": "@jupyter-widgets/base",
          "model_name": "LayoutModel",
          "model_module_version": "1.2.0",
          "state": {
            "_model_module": "@jupyter-widgets/base",
            "_model_module_version": "1.2.0",
            "_model_name": "LayoutModel",
            "_view_count": null,
            "_view_module": "@jupyter-widgets/base",
            "_view_module_version": "1.2.0",
            "_view_name": "LayoutView",
            "align_content": null,
            "align_items": null,
            "align_self": null,
            "border": null,
            "bottom": null,
            "display": null,
            "flex": null,
            "flex_flow": null,
            "grid_area": null,
            "grid_auto_columns": null,
            "grid_auto_flow": null,
            "grid_auto_rows": null,
            "grid_column": null,
            "grid_gap": null,
            "grid_row": null,
            "grid_template_areas": null,
            "grid_template_columns": null,
            "grid_template_rows": null,
            "height": null,
            "justify_content": null,
            "justify_items": null,
            "left": null,
            "margin": null,
            "max_height": null,
            "max_width": null,
            "min_height": null,
            "min_width": null,
            "object_fit": null,
            "object_position": null,
            "order": null,
            "overflow": null,
            "overflow_x": null,
            "overflow_y": null,
            "padding": null,
            "right": null,
            "top": null,
            "visibility": null,
            "width": null
          }
        },
        "212858897d7340d388c49b5f77ca4711": {
          "model_module": "@jupyter-widgets/base",
          "model_name": "LayoutModel",
          "model_module_version": "1.2.0",
          "state": {
            "_model_module": "@jupyter-widgets/base",
            "_model_module_version": "1.2.0",
            "_model_name": "LayoutModel",
            "_view_count": null,
            "_view_module": "@jupyter-widgets/base",
            "_view_module_version": "1.2.0",
            "_view_name": "LayoutView",
            "align_content": null,
            "align_items": null,
            "align_self": null,
            "border": null,
            "bottom": null,
            "display": null,
            "flex": null,
            "flex_flow": null,
            "grid_area": null,
            "grid_auto_columns": null,
            "grid_auto_flow": null,
            "grid_auto_rows": null,
            "grid_column": null,
            "grid_gap": null,
            "grid_row": null,
            "grid_template_areas": null,
            "grid_template_columns": null,
            "grid_template_rows": null,
            "height": null,
            "justify_content": null,
            "justify_items": null,
            "left": null,
            "margin": null,
            "max_height": null,
            "max_width": null,
            "min_height": null,
            "min_width": null,
            "object_fit": null,
            "object_position": null,
            "order": null,
            "overflow": null,
            "overflow_x": null,
            "overflow_y": null,
            "padding": null,
            "right": null,
            "top": null,
            "visibility": null,
            "width": null
          }
        },
        "8c96270b836144ab880357879959126f": {
          "model_module": "@jupyter-widgets/base",
          "model_name": "LayoutModel",
          "model_module_version": "1.2.0",
          "state": {
            "_model_module": "@jupyter-widgets/base",
            "_model_module_version": "1.2.0",
            "_model_name": "LayoutModel",
            "_view_count": null,
            "_view_module": "@jupyter-widgets/base",
            "_view_module_version": "1.2.0",
            "_view_name": "LayoutView",
            "align_content": null,
            "align_items": null,
            "align_self": null,
            "border": null,
            "bottom": null,
            "display": null,
            "flex": null,
            "flex_flow": null,
            "grid_area": null,
            "grid_auto_columns": null,
            "grid_auto_flow": null,
            "grid_auto_rows": null,
            "grid_column": null,
            "grid_gap": null,
            "grid_row": null,
            "grid_template_areas": null,
            "grid_template_columns": null,
            "grid_template_rows": null,
            "height": null,
            "justify_content": null,
            "justify_items": null,
            "left": null,
            "margin": null,
            "max_height": null,
            "max_width": null,
            "min_height": null,
            "min_width": null,
            "object_fit": null,
            "object_position": null,
            "order": null,
            "overflow": null,
            "overflow_x": null,
            "overflow_y": null,
            "padding": null,
            "right": null,
            "top": null,
            "visibility": null,
            "width": null
          }
        },
        "9bbe2dfe3eb24cbd88cb6626b667fb12": {
          "model_module": "@jupyter-widgets/base",
          "model_name": "LayoutModel",
          "model_module_version": "1.2.0",
          "state": {
            "_model_module": "@jupyter-widgets/base",
            "_model_module_version": "1.2.0",
            "_model_name": "LayoutModel",
            "_view_count": null,
            "_view_module": "@jupyter-widgets/base",
            "_view_module_version": "1.2.0",
            "_view_name": "LayoutView",
            "align_content": null,
            "align_items": null,
            "align_self": null,
            "border": null,
            "bottom": null,
            "display": null,
            "flex": null,
            "flex_flow": null,
            "grid_area": null,
            "grid_auto_columns": null,
            "grid_auto_flow": null,
            "grid_auto_rows": null,
            "grid_column": null,
            "grid_gap": null,
            "grid_row": null,
            "grid_template_areas": null,
            "grid_template_columns": null,
            "grid_template_rows": null,
            "height": null,
            "justify_content": null,
            "justify_items": null,
            "left": null,
            "margin": null,
            "max_height": null,
            "max_width": null,
            "min_height": null,
            "min_width": null,
            "object_fit": null,
            "object_position": null,
            "order": null,
            "overflow": null,
            "overflow_x": null,
            "overflow_y": null,
            "padding": null,
            "right": null,
            "top": null,
            "visibility": null,
            "width": null
          }
        },
        "4c343e50422948b89967f818984e36c2": {
          "model_module": "@jupyter-widgets/controls",
          "model_name": "VBoxModel",
          "model_module_version": "1.5.0",
          "state": {
            "_dom_classes": [],
            "_model_module": "@jupyter-widgets/controls",
            "_model_module_version": "1.5.0",
            "_model_name": "VBoxModel",
            "_view_count": null,
            "_view_module": "@jupyter-widgets/controls",
            "_view_module_version": "1.5.0",
            "_view_name": "VBoxView",
            "box_style": "",
            "children": [
              "IPY_MODEL_10d64514ccbe4e73a3bf17660d517248",
              "IPY_MODEL_e7754684fdf84a6e98d90d380278db97",
              "IPY_MODEL_4b769539fb464ce58e5a04e845d39089",
              "IPY_MODEL_d4f3ab2439c440e1ad9168e306988d83",
              "IPY_MODEL_a465467428154e4189def8fcd269aebb",
              "IPY_MODEL_a691d8bf6e914234985515ccaaf78e65",
              "IPY_MODEL_be8083853f9b4de6990e513e4877308d"
            ],
            "layout": "IPY_MODEL_7e6feea95f504c24995dac91187b19d5"
          }
        },
        "10d64514ccbe4e73a3bf17660d517248": {
          "model_module": "@jupyter-widgets/controls",
          "model_name": "HBoxModel",
          "model_module_version": "1.5.0",
          "state": {
            "_dom_classes": [],
            "_model_module": "@jupyter-widgets/controls",
            "_model_module_version": "1.5.0",
            "_model_name": "HBoxModel",
            "_view_count": null,
            "_view_module": "@jupyter-widgets/controls",
            "_view_module_version": "1.5.0",
            "_view_name": "HBoxView",
            "box_style": "",
            "children": [
              "IPY_MODEL_2ebca59db6fc495cbc7ad4cff71eeb79",
              "IPY_MODEL_07d6d9516961470a95b8a882ca7762e4",
              "IPY_MODEL_de9b36c0c946472183201de4373befd5"
            ],
            "layout": "IPY_MODEL_fe6202110cec450daf50e00935d1f91e"
          }
        },
        "e7754684fdf84a6e98d90d380278db97": {
          "model_module": "@jupyter-widgets/controls",
          "model_name": "HBoxModel",
          "model_module_version": "1.5.0",
          "state": {
            "_dom_classes": [],
            "_model_module": "@jupyter-widgets/controls",
            "_model_module_version": "1.5.0",
            "_model_name": "HBoxModel",
            "_view_count": null,
            "_view_module": "@jupyter-widgets/controls",
            "_view_module_version": "1.5.0",
            "_view_name": "HBoxView",
            "box_style": "",
            "children": [
              "IPY_MODEL_68ce8cdff118424095898077200650b7"
            ],
            "layout": "IPY_MODEL_2d51bf9553074d0393481d6a6ac7a131"
          }
        },
        "4b769539fb464ce58e5a04e845d39089": {
          "model_module": "@jupyter-widgets/output",
          "model_name": "OutputModel",
          "model_module_version": "1.0.0",
          "state": {
            "_dom_classes": [],
            "_model_module": "@jupyter-widgets/output",
            "_model_module_version": "1.0.0",
            "_model_name": "OutputModel",
            "_view_count": null,
            "_view_module": "@jupyter-widgets/output",
            "_view_module_version": "1.0.0",
            "_view_name": "OutputView",
            "layout": "IPY_MODEL_5a80f91ad33849438271cfe83ba73fb7",
            "msg_id": "",
            "outputs": []
          }
        },
        "d4f3ab2439c440e1ad9168e306988d83": {
          "model_module": "@jupyter-widgets/controls",
          "model_name": "HBoxModel",
          "model_module_version": "1.5.0",
          "state": {
            "_dom_classes": [],
            "_model_module": "@jupyter-widgets/controls",
            "_model_module_version": "1.5.0",
            "_model_name": "HBoxModel",
            "_view_count": null,
            "_view_module": "@jupyter-widgets/controls",
            "_view_module_version": "1.5.0",
            "_view_name": "HBoxView",
            "box_style": "",
            "children": [
              "IPY_MODEL_d13db506c0094c07bf387990e53f14ca",
              "IPY_MODEL_8092b852eab0408696feab175461033f"
            ],
            "layout": "IPY_MODEL_fec265dc4a8843dbbbae9a9f5b8044cf"
          }
        },
        "a465467428154e4189def8fcd269aebb": {
          "model_module": "@jupyter-widgets/output",
          "model_name": "OutputModel",
          "model_module_version": "1.0.0",
          "state": {
            "_dom_classes": [],
            "_model_module": "@jupyter-widgets/output",
            "_model_module_version": "1.0.0",
            "_model_name": "OutputModel",
            "_view_count": null,
            "_view_module": "@jupyter-widgets/output",
            "_view_module_version": "1.0.0",
            "_view_name": "OutputView",
            "layout": "IPY_MODEL_649a87868aa347d9a88732279f3ae446",
            "msg_id": "",
            "outputs": [
              {
                "output_type": "display_data",
                "data": {
                  "image/svg+xml": "<?xml version=\"1.0\" encoding=\"UTF-8\" standalone=\"no\"?>\n<!DOCTYPE svg PUBLIC \"-//W3C//DTD SVG 1.1//EN\"\n \"http://www.w3.org/Graphics/SVG/1.1/DTD/svg11.dtd\">\n<!-- Generated by graphviz version 2.43.0 (0)\n -->\n<!-- Title: %3 Pages: 1 -->\n<svg width=\"125pt\" height=\"47pt\"\n viewBox=\"0.00 0.00 125.00 47.00\" xmlns=\"http://www.w3.org/2000/svg\" xmlns:xlink=\"http://www.w3.org/1999/xlink\">\n<g id=\"graph0\" class=\"graph\" transform=\"scale(1 1) rotate(0) translate(4 43)\">\n<title>%3</title>\n<polygon fill=\"white\" stroke=\"transparent\" points=\"-4,4 -4,-43 121,-43 121,4 -4,4\"/>\n<!-- feed -->\n<g id=\"node1\" class=\"node\">\n<title>feed</title>\n<polygon fill=\"none\" stroke=\"black\" points=\"8.5,-3.5 8.5,-34.5 66.5,-34.5 66.5,-3.5 8.5,-3.5\"/>\n<text text-anchor=\"start\" x=\"17.5\" y=\"-15.9\" font-family=\"Times,serif\" font-size=\"12.00\">abbbccc</text>\n<polygon fill=\"none\" stroke=\"black\" points=\"66.5,-3.5 66.5,-34.5 91.5,-34.5 91.5,-3.5 66.5,-3.5\"/>\n<text text-anchor=\"start\" x=\"75.5\" y=\"-15.9\" font-family=\"Times,serif\" font-size=\"12.00\"> &#160;</text>\n<polygon fill=\"none\" stroke=\"black\" points=\"91.5,-3.5 91.5,-34.5 109.5,-34.5 109.5,-3.5 91.5,-3.5\"/>\n</g>\n</g>\n</svg>\n",
                  "text/plain": "<graphviz.sources.Source at 0x798ce0166f50>"
                },
                "metadata": {}
              }
            ]
          }
        },
        "a691d8bf6e914234985515ccaaf78e65": {
          "model_module": "@jupyter-widgets/controls",
          "model_name": "HBoxModel",
          "model_module_version": "1.5.0",
          "state": {
            "_dom_classes": [],
            "_model_module": "@jupyter-widgets/controls",
            "_model_module_version": "1.5.0",
            "_model_name": "HBoxModel",
            "_view_count": null,
            "_view_module": "@jupyter-widgets/controls",
            "_view_module_version": "1.5.0",
            "_view_name": "HBoxView",
            "box_style": "",
            "children": [
              "IPY_MODEL_f5c6478347fe489494ebcbcba262f44e",
              "IPY_MODEL_85432ccf9f244696ba84d8252fd48408",
              "IPY_MODEL_70f639f97df84293911d7965f1cb4b4b",
              "IPY_MODEL_c2b65a36dfda4cd495e3638b9ba786fe",
              "IPY_MODEL_2099e8a2c1924cb8b04ef4d0a8c2ab63"
            ],
            "layout": "IPY_MODEL_80c05bbd0e2c4791a197ce326a6fc688"
          }
        },
        "be8083853f9b4de6990e513e4877308d": {
          "model_module": "@jupyter-widgets/output",
          "model_name": "OutputModel",
          "model_module_version": "1.0.0",
          "state": {
            "_dom_classes": [],
            "_model_module": "@jupyter-widgets/output",
            "_model_module_version": "1.0.0",
            "_model_name": "OutputModel",
            "_view_count": null,
            "_view_module": "@jupyter-widgets/output",
            "_view_module_version": "1.0.0",
            "_view_name": "OutputView",
            "layout": "IPY_MODEL_69c432b83ffd4c63871d9f2e6315b703",
            "msg_id": "",
            "outputs": []
          }
        },
        "7e6feea95f504c24995dac91187b19d5": {
          "model_module": "@jupyter-widgets/base",
          "model_name": "LayoutModel",
          "model_module_version": "1.2.0",
          "state": {
            "_model_module": "@jupyter-widgets/base",
            "_model_module_version": "1.2.0",
            "_model_name": "LayoutModel",
            "_view_count": null,
            "_view_module": "@jupyter-widgets/base",
            "_view_module_version": "1.2.0",
            "_view_name": "LayoutView",
            "align_content": null,
            "align_items": null,
            "align_self": null,
            "border": null,
            "bottom": null,
            "display": null,
            "flex": null,
            "flex_flow": null,
            "grid_area": null,
            "grid_auto_columns": null,
            "grid_auto_flow": null,
            "grid_auto_rows": null,
            "grid_column": null,
            "grid_gap": null,
            "grid_row": null,
            "grid_template_areas": null,
            "grid_template_columns": null,
            "grid_template_rows": null,
            "height": null,
            "justify_content": null,
            "justify_items": null,
            "left": null,
            "margin": null,
            "max_height": null,
            "max_width": null,
            "min_height": null,
            "min_width": null,
            "object_fit": null,
            "object_position": null,
            "order": null,
            "overflow": null,
            "overflow_x": null,
            "overflow_y": null,
            "padding": null,
            "right": null,
            "top": null,
            "visibility": null,
            "width": null
          }
        },
        "2ebca59db6fc495cbc7ad4cff71eeb79": {
          "model_module": "@jupyter-widgets/controls",
          "model_name": "TextModel",
          "model_module_version": "1.5.0",
          "state": {
            "_dom_classes": [],
            "_model_module": "@jupyter-widgets/controls",
            "_model_module_version": "1.5.0",
            "_model_name": "TextModel",
            "_view_count": null,
            "_view_module": "@jupyter-widgets/controls",
            "_view_module_version": "1.5.0",
            "_view_name": "TextView",
            "continuous_update": true,
            "description": "Input:",
            "description_tooltip": null,
            "disabled": true,
            "layout": "IPY_MODEL_55f5787835834f15afbcbd5fb430a264",
            "placeholder": "Sigma: {a,b,c}",
            "style": "IPY_MODEL_6eaeb9d5a14146a9990c0716643deb61",
            "value": "abbbccc"
          }
        },
        "07d6d9516961470a95b8a882ca7762e4": {
          "model_module": "@jupyter-widgets/controls",
          "model_name": "DropdownModel",
          "model_module_version": "1.5.0",
          "state": {
            "_dom_classes": [],
            "_model_module": "@jupyter-widgets/controls",
            "_model_module_version": "1.5.0",
            "_model_name": "DropdownModel",
            "_options_labels": [
              "State",
              "Stack"
            ],
            "_view_count": null,
            "_view_module": "@jupyter-widgets/controls",
            "_view_module_version": "1.5.0",
            "_view_name": "DropdownView",
            "description": "Acceptance:",
            "description_tooltip": null,
            "disabled": true,
            "index": 0,
            "layout": "IPY_MODEL_5b6b936d8bc44f1084614ff4ddc3fd45",
            "style": "IPY_MODEL_a2bac46722df414489f731120bd34f3e"
          }
        },
        "de9b36c0c946472183201de4373befd5": {
          "model_module": "@jupyter-widgets/controls",
          "model_name": "ButtonModel",
          "model_module_version": "1.5.0",
          "state": {
            "_dom_classes": [],
            "_model_module": "@jupyter-widgets/controls",
            "_model_module_version": "1.5.0",
            "_model_name": "ButtonModel",
            "_view_count": null,
            "_view_module": "@jupyter-widgets/controls",
            "_view_module_version": "1.5.0",
            "_view_name": "ButtonView",
            "button_style": "primary",
            "description": "Change Input",
            "disabled": false,
            "icon": "",
            "layout": "IPY_MODEL_ace974b80f154ed793ef6e43be6cb406",
            "style": "IPY_MODEL_f527f089ece14b0cb5edc60adf05ad1a",
            "tooltip": ""
          }
        },
        "fe6202110cec450daf50e00935d1f91e": {
          "model_module": "@jupyter-widgets/base",
          "model_name": "LayoutModel",
          "model_module_version": "1.2.0",
          "state": {
            "_model_module": "@jupyter-widgets/base",
            "_model_module_version": "1.2.0",
            "_model_name": "LayoutModel",
            "_view_count": null,
            "_view_module": "@jupyter-widgets/base",
            "_view_module_version": "1.2.0",
            "_view_name": "LayoutView",
            "align_content": null,
            "align_items": null,
            "align_self": null,
            "border": null,
            "bottom": null,
            "display": null,
            "flex": null,
            "flex_flow": null,
            "grid_area": null,
            "grid_auto_columns": null,
            "grid_auto_flow": null,
            "grid_auto_rows": null,
            "grid_column": null,
            "grid_gap": null,
            "grid_row": null,
            "grid_template_areas": null,
            "grid_template_columns": null,
            "grid_template_rows": null,
            "height": null,
            "justify_content": null,
            "justify_items": null,
            "left": null,
            "margin": null,
            "max_height": null,
            "max_width": null,
            "min_height": null,
            "min_width": null,
            "object_fit": null,
            "object_position": null,
            "order": null,
            "overflow": null,
            "overflow_x": null,
            "overflow_y": null,
            "padding": null,
            "right": null,
            "top": null,
            "visibility": null,
            "width": null
          }
        },
        "68ce8cdff118424095898077200650b7": {
          "model_module": "@jupyter-widgets/controls",
          "model_name": "IntSliderModel",
          "model_module_version": "1.5.0",
          "state": {
            "_dom_classes": [],
            "_model_module": "@jupyter-widgets/controls",
            "_model_module_version": "1.5.0",
            "_model_name": "IntSliderModel",
            "_view_count": null,
            "_view_module": "@jupyter-widgets/controls",
            "_view_module_version": "1.5.0",
            "_view_name": "IntSliderView",
            "continuous_update": false,
            "description": "Stack Size:",
            "description_tooltip": null,
            "disabled": true,
            "layout": "IPY_MODEL_9a75aba8fe054f549a76f6a4f10cd777",
            "max": 30,
            "min": 2,
            "orientation": "horizontal",
            "readout": true,
            "readout_format": "d",
            "step": 1,
            "style": "IPY_MODEL_781a4e71b44f475e9b7ceb932f4d04cb",
            "value": 6
          }
        },
        "2d51bf9553074d0393481d6a6ac7a131": {
          "model_module": "@jupyter-widgets/base",
          "model_name": "LayoutModel",
          "model_module_version": "1.2.0",
          "state": {
            "_model_module": "@jupyter-widgets/base",
            "_model_module_version": "1.2.0",
            "_model_name": "LayoutModel",
            "_view_count": null,
            "_view_module": "@jupyter-widgets/base",
            "_view_module_version": "1.2.0",
            "_view_name": "LayoutView",
            "align_content": null,
            "align_items": null,
            "align_self": null,
            "border": null,
            "bottom": null,
            "display": null,
            "flex": null,
            "flex_flow": null,
            "grid_area": null,
            "grid_auto_columns": null,
            "grid_auto_flow": null,
            "grid_auto_rows": null,
            "grid_column": null,
            "grid_gap": null,
            "grid_row": null,
            "grid_template_areas": null,
            "grid_template_columns": null,
            "grid_template_rows": null,
            "height": null,
            "justify_content": null,
            "justify_items": null,
            "left": null,
            "margin": null,
            "max_height": null,
            "max_width": null,
            "min_height": null,
            "min_width": null,
            "object_fit": null,
            "object_position": null,
            "order": null,
            "overflow": null,
            "overflow_x": null,
            "overflow_y": null,
            "padding": null,
            "right": null,
            "top": null,
            "visibility": null,
            "width": null
          }
        },
        "d13db506c0094c07bf387990e53f14ca": {
          "model_module": "@jupyter-widgets/output",
          "model_name": "OutputModel",
          "model_module_version": "1.0.0",
          "state": {
            "_dom_classes": [],
            "_model_module": "@jupyter-widgets/output",
            "_model_module_version": "1.0.0",
            "_model_name": "OutputModel",
            "_view_count": null,
            "_view_module": "@jupyter-widgets/output",
            "_view_module_version": "1.0.0",
            "_view_name": "OutputView",
            "layout": "IPY_MODEL_7f813987d1304255877b4e1cb3a6660a",
            "msg_id": "",
            "outputs": [
              {
                "output_type": "display_data",
                "data": {
                  "image/svg+xml": "<?xml version=\"1.0\" encoding=\"UTF-8\" standalone=\"no\"?>\n<!DOCTYPE svg PUBLIC \"-//W3C//DTD SVG 1.1//EN\"\n \"http://www.w3.org/Graphics/SVG/1.1/DTD/svg11.dtd\">\n<!-- Generated by graphviz version 2.43.0 (0)\n -->\n<!-- Title: %3 Pages: 1 -->\n<svg width=\"89pt\" height=\"143pt\"\n viewBox=\"0.00 0.00 89.00 143.00\" xmlns=\"http://www.w3.org/2000/svg\" xmlns:xlink=\"http://www.w3.org/1999/xlink\">\n<g id=\"graph0\" class=\"graph\" transform=\"scale(1 1) rotate(0) translate(4 139)\">\n<title>%3</title>\n<polygon fill=\"white\" stroke=\"transparent\" points=\"-4,4 -4,-139 85,-139 85,4 -4,4\"/>\n<!-- stack -->\n<g id=\"node1\" class=\"node\">\n<title>stack</title>\n<polygon fill=\"none\" stroke=\"black\" points=\"56,-8.5 56,-134.5 81,-134.5 81,-8.5 56,-8.5\"/>\n<text text-anchor=\"middle\" x=\"68.5\" y=\"-120.9\" font-family=\"Times,serif\" font-size=\"12.00\"> </text>\n<polyline fill=\"none\" stroke=\"black\" points=\"56,-113.5 81,-113.5 \"/>\n<text text-anchor=\"middle\" x=\"68.5\" y=\"-99.9\" font-family=\"Times,serif\" font-size=\"12.00\"> </text>\n<polyline fill=\"none\" stroke=\"black\" points=\"56,-92.5 81,-92.5 \"/>\n<text text-anchor=\"middle\" x=\"68.5\" y=\"-78.9\" font-family=\"Times,serif\" font-size=\"12.00\"> </text>\n<polyline fill=\"none\" stroke=\"black\" points=\"56,-71.5 81,-71.5 \"/>\n<text text-anchor=\"middle\" x=\"68.5\" y=\"-57.9\" font-family=\"Times,serif\" font-size=\"12.00\"> </text>\n<polyline fill=\"none\" stroke=\"black\" points=\"56,-50.5 81,-50.5 \"/>\n<text text-anchor=\"middle\" x=\"68.5\" y=\"-36.9\" font-family=\"Times,serif\" font-size=\"12.00\"> </text>\n<polyline fill=\"none\" stroke=\"black\" points=\"56,-29.5 81,-29.5 \"/>\n<text text-anchor=\"middle\" x=\"68.5\" y=\"-15.9\" font-family=\"Times,serif\" font-size=\"12.00\">#</text>\n</g>\n<!-- Empty -->\n<g id=\"node2\" class=\"node\">\n<title>Empty</title>\n<polygon fill=\"none\" stroke=\"black\" stroke-width=\"0\" points=\"0,-0.5 0,-36.5 20,-36.5 20,-0.5 0,-0.5\"/>\n<text text-anchor=\"middle\" x=\"10\" y=\"-15.4\" font-family=\"Times,serif\" font-size=\"12.00\"> </text>\n</g>\n<!-- Empty&#45;&gt;stack -->\n<g id=\"edge1\" class=\"edge\">\n<title>Empty&#45;&gt;stack:top</title>\n<path fill=\"none\" stroke=\"black\" d=\"M20.31,-18.5C26.99,-18.5 36.45,-18.5 45.89,-18.5\"/>\n<polygon fill=\"black\" stroke=\"black\" points=\"46,-22 56,-18.5 46,-15 46,-22\"/>\n</g>\n</g>\n</svg>\n",
                  "text/plain": "<graphviz.sources.Source at 0x798ce0166860>"
                },
                "metadata": {}
              }
            ]
          }
        },
        "8092b852eab0408696feab175461033f": {
          "model_module": "@jupyter-widgets/output",
          "model_name": "OutputModel",
          "model_module_version": "1.0.0",
          "state": {
            "_dom_classes": [],
            "_model_module": "@jupyter-widgets/output",
            "_model_module_version": "1.0.0",
            "_model_name": "OutputModel",
            "_view_count": null,
            "_view_module": "@jupyter-widgets/output",
            "_view_module_version": "1.0.0",
            "_view_name": "OutputView",
            "layout": "IPY_MODEL_1dfb36ab14ad470590cc4d16425a8b37",
            "msg_id": "",
            "outputs": [
              {
                "output_type": "display_data",
                "data": {
                  "image/svg+xml": "<?xml version=\"1.0\" encoding=\"UTF-8\" standalone=\"no\"?>\n<!DOCTYPE svg PUBLIC \"-//W3C//DTD SVG 1.1//EN\"\n \"http://www.w3.org/Graphics/SVG/1.1/DTD/svg11.dtd\">\n<!-- Generated by graphviz version 2.43.0 (0)\n -->\n<!-- Title: %3 Pages: 1 -->\n<svg width=\"648pt\" height=\"288pt\"\n viewBox=\"0.00 0.00 648.00 287.94\" xmlns=\"http://www.w3.org/2000/svg\" xmlns:xlink=\"http://www.w3.org/1999/xlink\">\n<g id=\"graph0\" class=\"graph\" transform=\"scale(0.88 0.88) rotate(0) translate(4 324.89)\">\n<title>%3</title>\n<polygon fill=\"white\" stroke=\"transparent\" points=\"-4,4 -4,-324.89 736.18,-324.89 736.18,4 -4,4\"/>\n<!-- EMPTY -->\n<g id=\"node1\" class=\"node\">\n<title>EMPTY</title>\n</g>\n<!-- I -->\n<g id=\"node4\" class=\"node\">\n<title>I</title>\n<ellipse fill=\"none\" stroke=\"black\" cx=\"109\" cy=\"-159.45\" rx=\"18\" ry=\"18\"/>\n<text text-anchor=\"middle\" x=\"109\" y=\"-155.75\" font-family=\"Times,serif\" font-size=\"14.00\">I</text>\n</g>\n<!-- EMPTY&#45;&gt;I -->\n<g id=\"edge1\" class=\"edge\">\n<title>EMPTY&#45;&gt;I</title>\n<path fill=\"none\" stroke=\"black\" d=\"M54.19,-159.45C62.65,-159.45 72.05,-159.45 80.6,-159.45\"/>\n<polygon fill=\"black\" stroke=\"black\" points=\"80.83,-162.95 90.83,-159.45 80.83,-155.95 80.83,-162.95\"/>\n</g>\n<!-- S_B1b -->\n<g id=\"node2\" class=\"node\">\n<title>S_B1b</title>\n<ellipse fill=\"none\" stroke=\"black\" cx=\"388.94\" cy=\"-253.45\" rx=\"34.39\" ry=\"34.39\"/>\n<text text-anchor=\"middle\" x=\"388.94\" y=\"-249.75\" font-family=\"Times,serif\" font-size=\"14.00\">S_B1b</text>\n</g>\n<!-- S_B1b&#45;&gt;S_B1b -->\n<g id=\"edge8\" class=\"edge\">\n<title>S_B1b&#45;&gt;S_B1b</title>\n<path fill=\"none\" stroke=\"black\" d=\"M374.71,-284.94C374.33,-296.46 379.07,-305.89 388.94,-305.89 395.73,-305.89 400.09,-301.43 402.03,-294.9\"/>\n<polygon fill=\"black\" stroke=\"black\" points=\"405.51,-295.27 403.17,-284.94 398.56,-294.47 405.51,-295.27\"/>\n<text text-anchor=\"start\" x=\"368.44\" y=\"-309.69\" font-family=\"Times,serif\" font-size=\"14.00\"> b, &#39;&#39; ; b</text>\n</g>\n<!-- S_B1c -->\n<g id=\"node3\" class=\"node\">\n<title>S_B1c</title>\n<ellipse fill=\"none\" stroke=\"black\" cx=\"541.84\" cy=\"-253.45\" rx=\"34.39\" ry=\"34.39\"/>\n<text text-anchor=\"middle\" x=\"541.84\" y=\"-249.75\" font-family=\"Times,serif\" font-size=\"14.00\">S_B1c</text>\n</g>\n<!-- S_B1b&#45;&gt;S_B1c -->\n<g id=\"edge9\" class=\"edge\">\n<title>S_B1b&#45;&gt;S_B1c</title>\n<path fill=\"none\" stroke=\"black\" d=\"M423.43,-253.45C445.14,-253.45 473.64,-253.45 497.12,-253.45\"/>\n<polygon fill=\"black\" stroke=\"black\" points=\"497.18,-256.95 507.18,-253.45 497.18,-249.95 497.18,-256.95\"/>\n<text text-anchor=\"start\" x=\"446.89\" y=\"-257.25\" font-family=\"Times,serif\" font-size=\"14.00\"> &#39;&#39;, &#39;&#39; ; &#39;&#39;</text>\n</g>\n<!-- S_B1c&#45;&gt;S_B1c -->\n<g id=\"edge10\" class=\"edge\">\n<title>S_B1c&#45;&gt;S_B1c</title>\n<path fill=\"none\" stroke=\"black\" d=\"M527.97,-285.2C527.68,-296.6 532.3,-305.89 541.84,-305.89 548.24,-305.89 552.43,-301.7 554.4,-295.49\"/>\n<polygon fill=\"black\" stroke=\"black\" points=\"557.92,-295.55 555.7,-285.2 550.98,-294.68 557.92,-295.55\"/>\n<text text-anchor=\"start\" x=\"521.84\" y=\"-309.69\" font-family=\"Times,serif\" font-size=\"14.00\"> c, b ; &#39;&#39;</text>\n</g>\n<!-- F_B1 -->\n<g id=\"node9\" class=\"node\">\n<title>F_B1</title>\n<ellipse fill=\"none\" stroke=\"black\" cx=\"693.73\" cy=\"-253.45\" rx=\"30.59\" ry=\"30.59\"/>\n<ellipse fill=\"none\" stroke=\"black\" cx=\"693.73\" cy=\"-253.45\" rx=\"34.59\" ry=\"34.59\"/>\n<text text-anchor=\"middle\" x=\"693.73\" y=\"-249.75\" font-family=\"Times,serif\" font-size=\"14.00\">F_B1</text>\n</g>\n<!-- S_B1c&#45;&gt;F_B1 -->\n<g id=\"edge11\" class=\"edge\">\n<title>S_B1c&#45;&gt;F_B1</title>\n<path fill=\"none\" stroke=\"black\" d=\"M576.47,-253.45C597.81,-253.45 625.63,-253.45 648.71,-253.45\"/>\n<polygon fill=\"black\" stroke=\"black\" points=\"648.94,-256.95 658.94,-253.45 648.94,-249.95 648.94,-256.95\"/>\n<text text-anchor=\"start\" x=\"598.28\" y=\"-257.25\" font-family=\"Times,serif\" font-size=\"14.00\"> &#39;&#39;, # ; &#39;&#39;</text>\n</g>\n<!-- F_S0 -->\n<g id=\"node8\" class=\"node\">\n<title>F_S0</title>\n<ellipse fill=\"none\" stroke=\"black\" cx=\"240.25\" cy=\"-159.45\" rx=\"29.47\" ry=\"29.47\"/>\n<ellipse fill=\"none\" stroke=\"black\" cx=\"240.25\" cy=\"-159.45\" rx=\"33.5\" ry=\"33.5\"/>\n<text text-anchor=\"middle\" x=\"240.25\" y=\"-155.75\" font-family=\"Times,serif\" font-size=\"14.00\">F_S0</text>\n</g>\n<!-- I&#45;&gt;F_S0 -->\n<g id=\"edge2\" class=\"edge\">\n<title>I&#45;&gt;F_S0</title>\n<path fill=\"none\" stroke=\"black\" d=\"M127.16,-159.45C144.81,-159.45 172.98,-159.45 196.66,-159.45\"/>\n<polygon fill=\"black\" stroke=\"black\" points=\"196.83,-162.95 206.83,-159.45 196.83,-155.95 196.83,-162.95\"/>\n<text text-anchor=\"start\" x=\"145\" y=\"-163.25\" font-family=\"Times,serif\" font-size=\"14.00\"> &#39;&#39;, &#39;&#39; ; aa</text>\n</g>\n<!-- F_B2b -->\n<g id=\"node5\" class=\"node\">\n<title>F_B2b</title>\n<ellipse fill=\"none\" stroke=\"black\" cx=\"541.84\" cy=\"-79.45\" rx=\"34.4\" ry=\"34.4\"/>\n<ellipse fill=\"none\" stroke=\"black\" cx=\"541.84\" cy=\"-79.45\" rx=\"38.39\" ry=\"38.39\"/>\n<text text-anchor=\"middle\" x=\"541.84\" y=\"-75.75\" font-family=\"Times,serif\" font-size=\"14.00\">F_B2b</text>\n</g>\n<!-- F_B2b&#45;&gt;F_B2b -->\n<g id=\"edge14\" class=\"edge\">\n<title>F_B2b&#45;&gt;F_B2b</title>\n<path fill=\"none\" stroke=\"black\" d=\"M527.97,-115.55C528.18,-126.92 532.8,-135.89 541.84,-135.89 547.9,-135.89 551.98,-131.84 554.07,-125.74\"/>\n<polygon fill=\"black\" stroke=\"black\" points=\"557.58,-125.98 555.7,-115.55 550.66,-124.87 557.58,-125.98\"/>\n<text text-anchor=\"start\" x=\"522.34\" y=\"-139.69\" font-family=\"Times,serif\" font-size=\"14.00\"> b, &#39;&#39; ; &#39;&#39;</text>\n</g>\n<!-- F_B2c -->\n<g id=\"node7\" class=\"node\">\n<title>F_B2c</title>\n<ellipse fill=\"#66cd00\" stroke=\"black\" cx=\"693.73\" cy=\"-38.45\" rx=\"34.4\" ry=\"34.4\"/>\n<ellipse fill=\"none\" stroke=\"black\" cx=\"693.73\" cy=\"-38.45\" rx=\"38.39\" ry=\"38.39\"/>\n<text text-anchor=\"middle\" x=\"693.73\" y=\"-34.75\" font-family=\"Times,serif\" font-size=\"14.00\" fill=\"white\">F_B2c</text>\n</g>\n<!-- F_B2b&#45;&gt;F_B2c -->\n<g id=\"edge15\" class=\"edge\">\n<title>F_B2b&#45;&gt;F_B2c</title>\n<path fill=\"none\" stroke=\"black\" d=\"M579.12,-69.52C599.48,-63.95 625.09,-56.95 646.83,-51\"/>\n<polygon fill=\"black\" stroke=\"black\" points=\"647.8,-54.37 656.52,-48.35 645.95,-47.61 647.8,-54.37\"/>\n<text text-anchor=\"start\" x=\"599.28\" y=\"-68.25\" font-family=\"Times,serif\" font-size=\"14.00\"> &#39;&#39;, &#39;&#39; ; &#39;&#39;</text>\n</g>\n<!-- F_B2a -->\n<g id=\"node6\" class=\"node\">\n<title>F_B2a</title>\n<ellipse fill=\"none\" stroke=\"black\" cx=\"388.94\" cy=\"-79.45\" rx=\"34.4\" ry=\"34.4\"/>\n<ellipse fill=\"none\" stroke=\"black\" cx=\"388.94\" cy=\"-79.45\" rx=\"38.39\" ry=\"38.39\"/>\n<text text-anchor=\"middle\" x=\"388.94\" y=\"-75.75\" font-family=\"Times,serif\" font-size=\"14.00\">F_B2a</text>\n</g>\n<!-- F_B2a&#45;&gt;F_B2b -->\n<g id=\"edge13\" class=\"edge\">\n<title>F_B2a&#45;&gt;F_B2b</title>\n<path fill=\"none\" stroke=\"black\" d=\"M427.63,-79.45C447.51,-79.45 472.1,-79.45 493.28,-79.45\"/>\n<polygon fill=\"black\" stroke=\"black\" points=\"493.37,-82.95 503.37,-79.45 493.37,-75.95 493.37,-82.95\"/>\n<text text-anchor=\"start\" x=\"446.89\" y=\"-83.25\" font-family=\"Times,serif\" font-size=\"14.00\"> &#39;&#39;, &#39;&#39; ; &#39;&#39;</text>\n</g>\n<!-- F_B2a&#45;&gt;F_B2a -->\n<g id=\"edge12\" class=\"edge\">\n<title>F_B2a&#45;&gt;F_B2a</title>\n<path fill=\"none\" stroke=\"black\" d=\"M374.7,-115.28C374.84,-126.78 379.59,-135.89 388.94,-135.89 395.22,-135.89 399.43,-131.78 401.56,-125.59\"/>\n<polygon fill=\"black\" stroke=\"black\" points=\"405.08,-125.7 403.19,-115.28 398.17,-124.61 405.08,-125.7\"/>\n<text text-anchor=\"start\" x=\"369.94\" y=\"-139.69\" font-family=\"Times,serif\" font-size=\"14.00\"> a, &#39;&#39; ; &#39;&#39;</text>\n</g>\n<!-- F_B2c&#45;&gt;F_B2c -->\n<g id=\"edge16\" class=\"edge\">\n<title>F_B2c&#45;&gt;F_B2c</title>\n<path fill=\"none\" stroke=\"black\" d=\"M679.86,-74.55C680.07,-85.92 684.7,-94.89 693.73,-94.89 699.8,-94.89 703.88,-90.84 705.96,-84.74\"/>\n<polygon fill=\"black\" stroke=\"black\" points=\"709.47,-84.98 707.6,-74.55 702.56,-83.87 709.47,-84.98\"/>\n<text text-anchor=\"start\" x=\"674.73\" y=\"-98.69\" font-family=\"Times,serif\" font-size=\"14.00\"> c, &#39;&#39; ; &#39;&#39;</text>\n</g>\n<!-- F_S0&#45;&gt;S_B1b -->\n<g id=\"edge7\" class=\"edge\">\n<title>F_S0&#45;&gt;S_B1b</title>\n<path fill=\"none\" stroke=\"black\" d=\"M265.86,-181.02C273.81,-187.58 282.81,-194.59 291.49,-200.45 309.57,-212.64 330.69,-224.49 348.56,-233.89\"/>\n<polygon fill=\"black\" stroke=\"black\" points=\"347.08,-237.06 357.57,-238.56 350.3,-230.85 347.08,-237.06\"/>\n<text text-anchor=\"start\" x=\"291.49\" y=\"-227.25\" font-family=\"Times,serif\" font-size=\"14.00\"> &#39;&#39;, # ; #</text>\n</g>\n<!-- F_S0&#45;&gt;F_B2b -->\n<g id=\"edge5\" class=\"edge\">\n<title>F_S0&#45;&gt;F_B2b</title>\n<path fill=\"none\" stroke=\"black\" d=\"M273.09,-165.17C310.88,-170.67 375.33,-175.96 427.39,-159.45 456.72,-150.14 485.02,-130.22 506.01,-112.58\"/>\n<polygon fill=\"black\" stroke=\"black\" points=\"508.4,-115.14 513.69,-105.96 503.83,-109.84 508.4,-115.14\"/>\n<text text-anchor=\"start\" x=\"368.94\" y=\"-174.25\" font-family=\"Times,serif\" font-size=\"14.00\"> b, a ; &#39;&#39;</text>\n</g>\n<!-- F_S0&#45;&gt;F_B2a -->\n<g id=\"edge4\" class=\"edge\">\n<title>F_S0&#45;&gt;F_B2a</title>\n<path fill=\"none\" stroke=\"black\" d=\"M269.88,-143.83C291.47,-132.06 321.42,-115.73 345.75,-102.46\"/>\n<polygon fill=\"black\" stroke=\"black\" points=\"347.66,-105.4 354.77,-97.54 344.31,-99.25 347.66,-105.4\"/>\n<text text-anchor=\"start\" x=\"291.99\" y=\"-134.25\" font-family=\"Times,serif\" font-size=\"14.00\"> a, # ; &#39;&#39;</text>\n</g>\n<!-- F_S0&#45;&gt;F_B2c -->\n<g id=\"edge6\" class=\"edge\">\n<title>F_S0&#45;&gt;F_B2c</title>\n<path fill=\"none\" stroke=\"black\" d=\"M256.31,-130.3C274.1,-99.43 306.88,-52.46 350.49,-32.45 448.1,12.34 578.46,-9.1 646.68,-25.58\"/>\n<polygon fill=\"black\" stroke=\"black\" points=\"646.13,-29.05 656.68,-28.07 647.82,-22.26 646.13,-29.05\"/>\n<text text-anchor=\"start\" x=\"445.39\" y=\"-12.25\" font-family=\"Times,serif\" font-size=\"14.00\"> c, a ; &#39;&#39;</text>\n</g>\n<!-- F_S0&#45;&gt;F_S0 -->\n<g id=\"edge3\" class=\"edge\">\n<title>F_S0&#45;&gt;F_S0</title>\n<path fill=\"none\" stroke=\"black\" d=\"M227.14,-190.22C226.79,-201.47 231.16,-210.69 240.25,-210.69 246.36,-210.69 250.33,-206.53 252.18,-200.39\"/>\n<polygon fill=\"black\" stroke=\"black\" points=\"255.68,-200.55 253.35,-190.22 248.73,-199.75 255.68,-200.55\"/>\n<text text-anchor=\"start\" x=\"220.25\" y=\"-214.49\" font-family=\"Times,serif\" font-size=\"14.00\"> a, a ; &#39;&#39;</text>\n</g>\n</g>\n</svg>\n",
                  "text/plain": "<graphviz.sources.Source at 0x798ce0167430>"
                },
                "metadata": {}
              }
            ]
          }
        },
        "fec265dc4a8843dbbbae9a9f5b8044cf": {
          "model_module": "@jupyter-widgets/base",
          "model_name": "LayoutModel",
          "model_module_version": "1.2.0",
          "state": {
            "_model_module": "@jupyter-widgets/base",
            "_model_module_version": "1.2.0",
            "_model_name": "LayoutModel",
            "_view_count": null,
            "_view_module": "@jupyter-widgets/base",
            "_view_module_version": "1.2.0",
            "_view_name": "LayoutView",
            "align_content": null,
            "align_items": null,
            "align_self": null,
            "border": null,
            "bottom": null,
            "display": null,
            "flex": null,
            "flex_flow": null,
            "grid_area": null,
            "grid_auto_columns": null,
            "grid_auto_flow": null,
            "grid_auto_rows": null,
            "grid_column": null,
            "grid_gap": null,
            "grid_row": null,
            "grid_template_areas": null,
            "grid_template_columns": null,
            "grid_template_rows": null,
            "height": null,
            "justify_content": null,
            "justify_items": null,
            "left": null,
            "margin": null,
            "max_height": null,
            "max_width": null,
            "min_height": null,
            "min_width": null,
            "object_fit": null,
            "object_position": null,
            "order": null,
            "overflow": null,
            "overflow_x": null,
            "overflow_y": null,
            "padding": null,
            "right": null,
            "top": null,
            "visibility": null,
            "width": null
          }
        },
        "f5c6478347fe489494ebcbcba262f44e": {
          "model_module": "@jupyter-widgets/controls",
          "model_name": "DropdownModel",
          "model_module_version": "1.5.0",
          "state": {
            "_dom_classes": [],
            "_model_module": "@jupyter-widgets/controls",
            "_model_module_version": "1.5.0",
            "_model_name": "DropdownModel",
            "_options_labels": [
              "Path 1"
            ],
            "_view_count": null,
            "_view_module": "@jupyter-widgets/controls",
            "_view_module_version": "1.5.0",
            "_view_name": "DropdownView",
            "description": "Path:",
            "description_tooltip": null,
            "disabled": false,
            "index": 0,
            "layout": "IPY_MODEL_e39e3acaaa65400fb922c2ca3b828f68",
            "style": "IPY_MODEL_a1765dd92174457da418aea15ab8ad82"
          }
        },
        "85432ccf9f244696ba84d8252fd48408": {
          "model_module": "@jupyter-widgets/controls",
          "model_name": "PlayModel",
          "model_module_version": "1.5.0",
          "state": {
            "_dom_classes": [],
            "_model_module": "@jupyter-widgets/controls",
            "_model_module_version": "1.5.0",
            "_model_name": "PlayModel",
            "_playing": false,
            "_repeat": false,
            "_view_count": null,
            "_view_module": "@jupyter-widgets/controls",
            "_view_module_version": "1.5.0",
            "_view_name": "PlayView",
            "description": "Press play",
            "description_tooltip": null,
            "disabled": false,
            "interval": 500,
            "layout": "IPY_MODEL_ee6fce29e7774c35b8b748e76e81918e",
            "max": 18,
            "min": 0,
            "show_repeat": true,
            "step": 1,
            "style": "IPY_MODEL_ccda9b69e2cc4aa084f449b5cb545082",
            "value": 18
          }
        },
        "70f639f97df84293911d7965f1cb4b4b": {
          "model_module": "@jupyter-widgets/controls",
          "model_name": "ButtonModel",
          "model_module_version": "1.5.0",
          "state": {
            "_dom_classes": [],
            "_model_module": "@jupyter-widgets/controls",
            "_model_module_version": "1.5.0",
            "_model_name": "ButtonModel",
            "_view_count": null,
            "_view_module": "@jupyter-widgets/controls",
            "_view_module_version": "1.5.0",
            "_view_name": "ButtonView",
            "button_style": "",
            "description": "",
            "disabled": false,
            "icon": "step-backward",
            "layout": "IPY_MODEL_cfae5827533043d09baea089f7bee23a",
            "style": "IPY_MODEL_99d6f3ac32674232b70df3865186ecb4",
            "tooltip": ""
          }
        },
        "c2b65a36dfda4cd495e3638b9ba786fe": {
          "model_module": "@jupyter-widgets/controls",
          "model_name": "ButtonModel",
          "model_module_version": "1.5.0",
          "state": {
            "_dom_classes": [],
            "_model_module": "@jupyter-widgets/controls",
            "_model_module_version": "1.5.0",
            "_model_name": "ButtonModel",
            "_view_count": null,
            "_view_module": "@jupyter-widgets/controls",
            "_view_module_version": "1.5.0",
            "_view_name": "ButtonView",
            "button_style": "",
            "description": "",
            "disabled": true,
            "icon": "step-forward",
            "layout": "IPY_MODEL_5aa5117e443a4b28ba900d56de2bb869",
            "style": "IPY_MODEL_9ef2851ffc7a43adbc59325d1af0f6c5",
            "tooltip": ""
          }
        },
        "2099e8a2c1924cb8b04ef4d0a8c2ab63": {
          "model_module": "@jupyter-widgets/controls",
          "model_name": "IntSliderModel",
          "model_module_version": "1.5.0",
          "state": {
            "_dom_classes": [],
            "_model_module": "@jupyter-widgets/controls",
            "_model_module_version": "1.5.0",
            "_model_name": "IntSliderModel",
            "_view_count": null,
            "_view_module": "@jupyter-widgets/controls",
            "_view_module_version": "1.5.0",
            "_view_name": "IntSliderView",
            "continuous_update": false,
            "description": "Speed:",
            "description_tooltip": null,
            "disabled": false,
            "layout": "IPY_MODEL_123461d8cc9f43aa9aaa92d3552a9633",
            "max": 10,
            "min": 1,
            "orientation": "horizontal",
            "readout": true,
            "readout_format": "d",
            "step": 1,
            "style": "IPY_MODEL_724a86c4df56453cb9d2c6406bb473fb",
            "value": 10
          }
        },
        "80c05bbd0e2c4791a197ce326a6fc688": {
          "model_module": "@jupyter-widgets/base",
          "model_name": "LayoutModel",
          "model_module_version": "1.2.0",
          "state": {
            "_model_module": "@jupyter-widgets/base",
            "_model_module_version": "1.2.0",
            "_model_name": "LayoutModel",
            "_view_count": null,
            "_view_module": "@jupyter-widgets/base",
            "_view_module_version": "1.2.0",
            "_view_name": "LayoutView",
            "align_content": null,
            "align_items": null,
            "align_self": null,
            "border": null,
            "bottom": null,
            "display": null,
            "flex": null,
            "flex_flow": null,
            "grid_area": null,
            "grid_auto_columns": null,
            "grid_auto_flow": null,
            "grid_auto_rows": null,
            "grid_column": null,
            "grid_gap": null,
            "grid_row": null,
            "grid_template_areas": null,
            "grid_template_columns": null,
            "grid_template_rows": null,
            "height": null,
            "justify_content": null,
            "justify_items": null,
            "left": null,
            "margin": null,
            "max_height": null,
            "max_width": null,
            "min_height": null,
            "min_width": null,
            "object_fit": null,
            "object_position": null,
            "order": null,
            "overflow": null,
            "overflow_x": null,
            "overflow_y": null,
            "padding": null,
            "right": null,
            "top": null,
            "visibility": null,
            "width": null
          }
        },
        "55f5787835834f15afbcbd5fb430a264": {
          "model_module": "@jupyter-widgets/base",
          "model_name": "LayoutModel",
          "model_module_version": "1.2.0",
          "state": {
            "_model_module": "@jupyter-widgets/base",
            "_model_module_version": "1.2.0",
            "_model_name": "LayoutModel",
            "_view_count": null,
            "_view_module": "@jupyter-widgets/base",
            "_view_module_version": "1.2.0",
            "_view_name": "LayoutView",
            "align_content": null,
            "align_items": null,
            "align_self": null,
            "border": null,
            "bottom": null,
            "display": null,
            "flex": null,
            "flex_flow": null,
            "grid_area": null,
            "grid_auto_columns": null,
            "grid_auto_flow": null,
            "grid_auto_rows": null,
            "grid_column": null,
            "grid_gap": null,
            "grid_row": null,
            "grid_template_areas": null,
            "grid_template_columns": null,
            "grid_template_rows": null,
            "height": null,
            "justify_content": null,
            "justify_items": null,
            "left": null,
            "margin": null,
            "max_height": null,
            "max_width": null,
            "min_height": null,
            "min_width": null,
            "object_fit": null,
            "object_position": null,
            "order": null,
            "overflow": null,
            "overflow_x": null,
            "overflow_y": null,
            "padding": null,
            "right": null,
            "top": null,
            "visibility": null,
            "width": "500px"
          }
        },
        "6eaeb9d5a14146a9990c0716643deb61": {
          "model_module": "@jupyter-widgets/controls",
          "model_name": "DescriptionStyleModel",
          "model_module_version": "1.5.0",
          "state": {
            "_model_module": "@jupyter-widgets/controls",
            "_model_module_version": "1.5.0",
            "_model_name": "DescriptionStyleModel",
            "_view_count": null,
            "_view_module": "@jupyter-widgets/base",
            "_view_module_version": "1.2.0",
            "_view_name": "StyleView",
            "description_width": ""
          }
        },
        "5b6b936d8bc44f1084614ff4ddc3fd45": {
          "model_module": "@jupyter-widgets/base",
          "model_name": "LayoutModel",
          "model_module_version": "1.2.0",
          "state": {
            "_model_module": "@jupyter-widgets/base",
            "_model_module_version": "1.2.0",
            "_model_name": "LayoutModel",
            "_view_count": null,
            "_view_module": "@jupyter-widgets/base",
            "_view_module_version": "1.2.0",
            "_view_name": "LayoutView",
            "align_content": null,
            "align_items": null,
            "align_self": null,
            "border": null,
            "bottom": null,
            "display": null,
            "flex": null,
            "flex_flow": null,
            "grid_area": null,
            "grid_auto_columns": null,
            "grid_auto_flow": null,
            "grid_auto_rows": null,
            "grid_column": null,
            "grid_gap": null,
            "grid_row": null,
            "grid_template_areas": null,
            "grid_template_columns": null,
            "grid_template_rows": null,
            "height": null,
            "justify_content": null,
            "justify_items": null,
            "left": null,
            "margin": null,
            "max_height": null,
            "max_width": null,
            "min_height": null,
            "min_width": null,
            "object_fit": null,
            "object_position": null,
            "order": null,
            "overflow": null,
            "overflow_x": null,
            "overflow_y": null,
            "padding": null,
            "right": null,
            "top": null,
            "visibility": null,
            "width": "160px"
          }
        },
        "a2bac46722df414489f731120bd34f3e": {
          "model_module": "@jupyter-widgets/controls",
          "model_name": "DescriptionStyleModel",
          "model_module_version": "1.5.0",
          "state": {
            "_model_module": "@jupyter-widgets/controls",
            "_model_module_version": "1.5.0",
            "_model_name": "DescriptionStyleModel",
            "_view_count": null,
            "_view_module": "@jupyter-widgets/base",
            "_view_module_version": "1.2.0",
            "_view_name": "StyleView",
            "description_width": ""
          }
        },
        "ace974b80f154ed793ef6e43be6cb406": {
          "model_module": "@jupyter-widgets/base",
          "model_name": "LayoutModel",
          "model_module_version": "1.2.0",
          "state": {
            "_model_module": "@jupyter-widgets/base",
            "_model_module_version": "1.2.0",
            "_model_name": "LayoutModel",
            "_view_count": null,
            "_view_module": "@jupyter-widgets/base",
            "_view_module_version": "1.2.0",
            "_view_name": "LayoutView",
            "align_content": null,
            "align_items": null,
            "align_self": null,
            "border": null,
            "bottom": null,
            "display": null,
            "flex": null,
            "flex_flow": null,
            "grid_area": null,
            "grid_auto_columns": null,
            "grid_auto_flow": null,
            "grid_auto_rows": null,
            "grid_column": null,
            "grid_gap": null,
            "grid_row": null,
            "grid_template_areas": null,
            "grid_template_columns": null,
            "grid_template_rows": null,
            "height": null,
            "justify_content": null,
            "justify_items": null,
            "left": null,
            "margin": null,
            "max_height": null,
            "max_width": null,
            "min_height": null,
            "min_width": null,
            "object_fit": null,
            "object_position": null,
            "order": null,
            "overflow": null,
            "overflow_x": null,
            "overflow_y": null,
            "padding": null,
            "right": null,
            "top": null,
            "visibility": null,
            "width": null
          }
        },
        "f527f089ece14b0cb5edc60adf05ad1a": {
          "model_module": "@jupyter-widgets/controls",
          "model_name": "ButtonStyleModel",
          "model_module_version": "1.5.0",
          "state": {
            "_model_module": "@jupyter-widgets/controls",
            "_model_module_version": "1.5.0",
            "_model_name": "ButtonStyleModel",
            "_view_count": null,
            "_view_module": "@jupyter-widgets/base",
            "_view_module_version": "1.2.0",
            "_view_name": "StyleView",
            "button_color": null,
            "font_weight": ""
          }
        },
        "9a75aba8fe054f549a76f6a4f10cd777": {
          "model_module": "@jupyter-widgets/base",
          "model_name": "LayoutModel",
          "model_module_version": "1.2.0",
          "state": {
            "_model_module": "@jupyter-widgets/base",
            "_model_module_version": "1.2.0",
            "_model_name": "LayoutModel",
            "_view_count": null,
            "_view_module": "@jupyter-widgets/base",
            "_view_module_version": "1.2.0",
            "_view_name": "LayoutView",
            "align_content": null,
            "align_items": null,
            "align_self": null,
            "border": null,
            "bottom": null,
            "display": null,
            "flex": null,
            "flex_flow": null,
            "grid_area": null,
            "grid_auto_columns": null,
            "grid_auto_flow": null,
            "grid_auto_rows": null,
            "grid_column": null,
            "grid_gap": null,
            "grid_row": null,
            "grid_template_areas": null,
            "grid_template_columns": null,
            "grid_template_rows": null,
            "height": null,
            "justify_content": null,
            "justify_items": null,
            "left": null,
            "margin": null,
            "max_height": null,
            "max_width": null,
            "min_height": null,
            "min_width": null,
            "object_fit": null,
            "object_position": null,
            "order": null,
            "overflow": null,
            "overflow_x": null,
            "overflow_y": null,
            "padding": null,
            "right": null,
            "top": null,
            "visibility": null,
            "width": null
          }
        },
        "781a4e71b44f475e9b7ceb932f4d04cb": {
          "model_module": "@jupyter-widgets/controls",
          "model_name": "SliderStyleModel",
          "model_module_version": "1.5.0",
          "state": {
            "_model_module": "@jupyter-widgets/controls",
            "_model_module_version": "1.5.0",
            "_model_name": "SliderStyleModel",
            "_view_count": null,
            "_view_module": "@jupyter-widgets/base",
            "_view_module_version": "1.2.0",
            "_view_name": "StyleView",
            "description_width": "",
            "handle_color": null
          }
        },
        "e39e3acaaa65400fb922c2ca3b828f68": {
          "model_module": "@jupyter-widgets/base",
          "model_name": "LayoutModel",
          "model_module_version": "1.2.0",
          "state": {
            "_model_module": "@jupyter-widgets/base",
            "_model_module_version": "1.2.0",
            "_model_name": "LayoutModel",
            "_view_count": null,
            "_view_module": "@jupyter-widgets/base",
            "_view_module_version": "1.2.0",
            "_view_name": "LayoutView",
            "align_content": null,
            "align_items": null,
            "align_self": null,
            "border": null,
            "bottom": null,
            "display": null,
            "flex": null,
            "flex_flow": null,
            "grid_area": null,
            "grid_auto_columns": null,
            "grid_auto_flow": null,
            "grid_auto_rows": null,
            "grid_column": null,
            "grid_gap": null,
            "grid_row": null,
            "grid_template_areas": null,
            "grid_template_columns": null,
            "grid_template_rows": null,
            "height": null,
            "justify_content": null,
            "justify_items": null,
            "left": null,
            "margin": null,
            "max_height": null,
            "max_width": null,
            "min_height": null,
            "min_width": null,
            "object_fit": null,
            "object_position": null,
            "order": null,
            "overflow": null,
            "overflow_x": null,
            "overflow_y": null,
            "padding": null,
            "right": null,
            "top": null,
            "visibility": null,
            "width": "200px"
          }
        },
        "a1765dd92174457da418aea15ab8ad82": {
          "model_module": "@jupyter-widgets/controls",
          "model_name": "DescriptionStyleModel",
          "model_module_version": "1.5.0",
          "state": {
            "_model_module": "@jupyter-widgets/controls",
            "_model_module_version": "1.5.0",
            "_model_name": "DescriptionStyleModel",
            "_view_count": null,
            "_view_module": "@jupyter-widgets/base",
            "_view_module_version": "1.2.0",
            "_view_name": "StyleView",
            "description_width": ""
          }
        },
        "ee6fce29e7774c35b8b748e76e81918e": {
          "model_module": "@jupyter-widgets/base",
          "model_name": "LayoutModel",
          "model_module_version": "1.2.0",
          "state": {
            "_model_module": "@jupyter-widgets/base",
            "_model_module_version": "1.2.0",
            "_model_name": "LayoutModel",
            "_view_count": null,
            "_view_module": "@jupyter-widgets/base",
            "_view_module_version": "1.2.0",
            "_view_name": "LayoutView",
            "align_content": null,
            "align_items": null,
            "align_self": null,
            "border": null,
            "bottom": null,
            "display": null,
            "flex": null,
            "flex_flow": null,
            "grid_area": null,
            "grid_auto_columns": null,
            "grid_auto_flow": null,
            "grid_auto_rows": null,
            "grid_column": null,
            "grid_gap": null,
            "grid_row": null,
            "grid_template_areas": null,
            "grid_template_columns": null,
            "grid_template_rows": null,
            "height": null,
            "justify_content": null,
            "justify_items": null,
            "left": null,
            "margin": null,
            "max_height": null,
            "max_width": null,
            "min_height": null,
            "min_width": null,
            "object_fit": null,
            "object_position": null,
            "order": null,
            "overflow": null,
            "overflow_x": null,
            "overflow_y": null,
            "padding": null,
            "right": null,
            "top": null,
            "visibility": null,
            "width": null
          }
        },
        "ccda9b69e2cc4aa084f449b5cb545082": {
          "model_module": "@jupyter-widgets/controls",
          "model_name": "DescriptionStyleModel",
          "model_module_version": "1.5.0",
          "state": {
            "_model_module": "@jupyter-widgets/controls",
            "_model_module_version": "1.5.0",
            "_model_name": "DescriptionStyleModel",
            "_view_count": null,
            "_view_module": "@jupyter-widgets/base",
            "_view_module_version": "1.2.0",
            "_view_name": "StyleView",
            "description_width": ""
          }
        },
        "cfae5827533043d09baea089f7bee23a": {
          "model_module": "@jupyter-widgets/base",
          "model_name": "LayoutModel",
          "model_module_version": "1.2.0",
          "state": {
            "_model_module": "@jupyter-widgets/base",
            "_model_module_version": "1.2.0",
            "_model_name": "LayoutModel",
            "_view_count": null,
            "_view_module": "@jupyter-widgets/base",
            "_view_module_version": "1.2.0",
            "_view_name": "LayoutView",
            "align_content": null,
            "align_items": null,
            "align_self": null,
            "border": null,
            "bottom": null,
            "display": null,
            "flex": null,
            "flex_flow": null,
            "grid_area": null,
            "grid_auto_columns": null,
            "grid_auto_flow": null,
            "grid_auto_rows": null,
            "grid_column": null,
            "grid_gap": null,
            "grid_row": null,
            "grid_template_areas": null,
            "grid_template_columns": null,
            "grid_template_rows": null,
            "height": null,
            "justify_content": null,
            "justify_items": null,
            "left": null,
            "margin": null,
            "max_height": null,
            "max_width": null,
            "min_height": null,
            "min_width": null,
            "object_fit": null,
            "object_position": null,
            "order": null,
            "overflow": null,
            "overflow_x": null,
            "overflow_y": null,
            "padding": null,
            "right": null,
            "top": null,
            "visibility": null,
            "width": "40px"
          }
        },
        "99d6f3ac32674232b70df3865186ecb4": {
          "model_module": "@jupyter-widgets/controls",
          "model_name": "ButtonStyleModel",
          "model_module_version": "1.5.0",
          "state": {
            "_model_module": "@jupyter-widgets/controls",
            "_model_module_version": "1.5.0",
            "_model_name": "ButtonStyleModel",
            "_view_count": null,
            "_view_module": "@jupyter-widgets/base",
            "_view_module_version": "1.2.0",
            "_view_name": "StyleView",
            "button_color": null,
            "font_weight": ""
          }
        },
        "5aa5117e443a4b28ba900d56de2bb869": {
          "model_module": "@jupyter-widgets/base",
          "model_name": "LayoutModel",
          "model_module_version": "1.2.0",
          "state": {
            "_model_module": "@jupyter-widgets/base",
            "_model_module_version": "1.2.0",
            "_model_name": "LayoutModel",
            "_view_count": null,
            "_view_module": "@jupyter-widgets/base",
            "_view_module_version": "1.2.0",
            "_view_name": "LayoutView",
            "align_content": null,
            "align_items": null,
            "align_self": null,
            "border": null,
            "bottom": null,
            "display": null,
            "flex": null,
            "flex_flow": null,
            "grid_area": null,
            "grid_auto_columns": null,
            "grid_auto_flow": null,
            "grid_auto_rows": null,
            "grid_column": null,
            "grid_gap": null,
            "grid_row": null,
            "grid_template_areas": null,
            "grid_template_columns": null,
            "grid_template_rows": null,
            "height": null,
            "justify_content": null,
            "justify_items": null,
            "left": null,
            "margin": null,
            "max_height": null,
            "max_width": null,
            "min_height": null,
            "min_width": null,
            "object_fit": null,
            "object_position": null,
            "order": null,
            "overflow": null,
            "overflow_x": null,
            "overflow_y": null,
            "padding": null,
            "right": null,
            "top": null,
            "visibility": null,
            "width": "40px"
          }
        },
        "9ef2851ffc7a43adbc59325d1af0f6c5": {
          "model_module": "@jupyter-widgets/controls",
          "model_name": "ButtonStyleModel",
          "model_module_version": "1.5.0",
          "state": {
            "_model_module": "@jupyter-widgets/controls",
            "_model_module_version": "1.5.0",
            "_model_name": "ButtonStyleModel",
            "_view_count": null,
            "_view_module": "@jupyter-widgets/base",
            "_view_module_version": "1.2.0",
            "_view_name": "StyleView",
            "button_color": null,
            "font_weight": ""
          }
        },
        "123461d8cc9f43aa9aaa92d3552a9633": {
          "model_module": "@jupyter-widgets/base",
          "model_name": "LayoutModel",
          "model_module_version": "1.2.0",
          "state": {
            "_model_module": "@jupyter-widgets/base",
            "_model_module_version": "1.2.0",
            "_model_name": "LayoutModel",
            "_view_count": null,
            "_view_module": "@jupyter-widgets/base",
            "_view_module_version": "1.2.0",
            "_view_name": "LayoutView",
            "align_content": null,
            "align_items": null,
            "align_self": null,
            "border": null,
            "bottom": null,
            "display": null,
            "flex": null,
            "flex_flow": null,
            "grid_area": null,
            "grid_auto_columns": null,
            "grid_auto_flow": null,
            "grid_auto_rows": null,
            "grid_column": null,
            "grid_gap": null,
            "grid_row": null,
            "grid_template_areas": null,
            "grid_template_columns": null,
            "grid_template_rows": null,
            "height": null,
            "justify_content": null,
            "justify_items": null,
            "left": null,
            "margin": null,
            "max_height": null,
            "max_width": null,
            "min_height": null,
            "min_width": null,
            "object_fit": null,
            "object_position": null,
            "order": null,
            "overflow": null,
            "overflow_x": null,
            "overflow_y": null,
            "padding": null,
            "right": null,
            "top": null,
            "visibility": null,
            "width": null
          }
        },
        "724a86c4df56453cb9d2c6406bb473fb": {
          "model_module": "@jupyter-widgets/controls",
          "model_name": "SliderStyleModel",
          "model_module_version": "1.5.0",
          "state": {
            "_model_module": "@jupyter-widgets/controls",
            "_model_module_version": "1.5.0",
            "_model_name": "SliderStyleModel",
            "_view_count": null,
            "_view_module": "@jupyter-widgets/base",
            "_view_module_version": "1.2.0",
            "_view_name": "StyleView",
            "description_width": "",
            "handle_color": null
          }
        },
        "5a80f91ad33849438271cfe83ba73fb7": {
          "model_module": "@jupyter-widgets/base",
          "model_name": "LayoutModel",
          "model_module_version": "1.2.0",
          "state": {
            "_model_module": "@jupyter-widgets/base",
            "_model_module_version": "1.2.0",
            "_model_name": "LayoutModel",
            "_view_count": null,
            "_view_module": "@jupyter-widgets/base",
            "_view_module_version": "1.2.0",
            "_view_name": "LayoutView",
            "align_content": null,
            "align_items": null,
            "align_self": null,
            "border": null,
            "bottom": null,
            "display": null,
            "flex": null,
            "flex_flow": null,
            "grid_area": null,
            "grid_auto_columns": null,
            "grid_auto_flow": null,
            "grid_auto_rows": null,
            "grid_column": null,
            "grid_gap": null,
            "grid_row": null,
            "grid_template_areas": null,
            "grid_template_columns": null,
            "grid_template_rows": null,
            "height": null,
            "justify_content": null,
            "justify_items": null,
            "left": null,
            "margin": null,
            "max_height": null,
            "max_width": null,
            "min_height": null,
            "min_width": null,
            "object_fit": null,
            "object_position": null,
            "order": null,
            "overflow": null,
            "overflow_x": null,
            "overflow_y": null,
            "padding": null,
            "right": null,
            "top": null,
            "visibility": null,
            "width": null
          }
        },
        "649a87868aa347d9a88732279f3ae446": {
          "model_module": "@jupyter-widgets/base",
          "model_name": "LayoutModel",
          "model_module_version": "1.2.0",
          "state": {
            "_model_module": "@jupyter-widgets/base",
            "_model_module_version": "1.2.0",
            "_model_name": "LayoutModel",
            "_view_count": null,
            "_view_module": "@jupyter-widgets/base",
            "_view_module_version": "1.2.0",
            "_view_name": "LayoutView",
            "align_content": null,
            "align_items": null,
            "align_self": null,
            "border": null,
            "bottom": null,
            "display": null,
            "flex": null,
            "flex_flow": null,
            "grid_area": null,
            "grid_auto_columns": null,
            "grid_auto_flow": null,
            "grid_auto_rows": null,
            "grid_column": null,
            "grid_gap": null,
            "grid_row": null,
            "grid_template_areas": null,
            "grid_template_columns": null,
            "grid_template_rows": null,
            "height": null,
            "justify_content": null,
            "justify_items": null,
            "left": null,
            "margin": null,
            "max_height": null,
            "max_width": null,
            "min_height": null,
            "min_width": null,
            "object_fit": null,
            "object_position": null,
            "order": null,
            "overflow": null,
            "overflow_x": null,
            "overflow_y": null,
            "padding": null,
            "right": null,
            "top": null,
            "visibility": null,
            "width": null
          }
        },
        "69c432b83ffd4c63871d9f2e6315b703": {
          "model_module": "@jupyter-widgets/base",
          "model_name": "LayoutModel",
          "model_module_version": "1.2.0",
          "state": {
            "_model_module": "@jupyter-widgets/base",
            "_model_module_version": "1.2.0",
            "_model_name": "LayoutModel",
            "_view_count": null,
            "_view_module": "@jupyter-widgets/base",
            "_view_module_version": "1.2.0",
            "_view_name": "LayoutView",
            "align_content": null,
            "align_items": null,
            "align_self": null,
            "border": null,
            "bottom": null,
            "display": null,
            "flex": null,
            "flex_flow": null,
            "grid_area": null,
            "grid_auto_columns": null,
            "grid_auto_flow": null,
            "grid_auto_rows": null,
            "grid_column": null,
            "grid_gap": null,
            "grid_row": null,
            "grid_template_areas": null,
            "grid_template_columns": null,
            "grid_template_rows": null,
            "height": null,
            "justify_content": null,
            "justify_items": null,
            "left": null,
            "margin": null,
            "max_height": null,
            "max_width": null,
            "min_height": null,
            "min_width": null,
            "object_fit": null,
            "object_position": null,
            "order": null,
            "overflow": null,
            "overflow_x": null,
            "overflow_y": null,
            "padding": null,
            "right": null,
            "top": null,
            "visibility": null,
            "width": null
          }
        },
        "7f813987d1304255877b4e1cb3a6660a": {
          "model_module": "@jupyter-widgets/base",
          "model_name": "LayoutModel",
          "model_module_version": "1.2.0",
          "state": {
            "_model_module": "@jupyter-widgets/base",
            "_model_module_version": "1.2.0",
            "_model_name": "LayoutModel",
            "_view_count": null,
            "_view_module": "@jupyter-widgets/base",
            "_view_module_version": "1.2.0",
            "_view_name": "LayoutView",
            "align_content": null,
            "align_items": null,
            "align_self": null,
            "border": null,
            "bottom": null,
            "display": null,
            "flex": null,
            "flex_flow": null,
            "grid_area": null,
            "grid_auto_columns": null,
            "grid_auto_flow": null,
            "grid_auto_rows": null,
            "grid_column": null,
            "grid_gap": null,
            "grid_row": null,
            "grid_template_areas": null,
            "grid_template_columns": null,
            "grid_template_rows": null,
            "height": null,
            "justify_content": null,
            "justify_items": null,
            "left": null,
            "margin": null,
            "max_height": null,
            "max_width": null,
            "min_height": null,
            "min_width": null,
            "object_fit": null,
            "object_position": null,
            "order": null,
            "overflow": null,
            "overflow_x": null,
            "overflow_y": null,
            "padding": null,
            "right": null,
            "top": null,
            "visibility": null,
            "width": null
          }
        },
        "1dfb36ab14ad470590cc4d16425a8b37": {
          "model_module": "@jupyter-widgets/base",
          "model_name": "LayoutModel",
          "model_module_version": "1.2.0",
          "state": {
            "_model_module": "@jupyter-widgets/base",
            "_model_module_version": "1.2.0",
            "_model_name": "LayoutModel",
            "_view_count": null,
            "_view_module": "@jupyter-widgets/base",
            "_view_module_version": "1.2.0",
            "_view_name": "LayoutView",
            "align_content": null,
            "align_items": null,
            "align_self": null,
            "border": null,
            "bottom": null,
            "display": null,
            "flex": null,
            "flex_flow": null,
            "grid_area": null,
            "grid_auto_columns": null,
            "grid_auto_flow": null,
            "grid_auto_rows": null,
            "grid_column": null,
            "grid_gap": null,
            "grid_row": null,
            "grid_template_areas": null,
            "grid_template_columns": null,
            "grid_template_rows": null,
            "height": null,
            "justify_content": null,
            "justify_items": null,
            "left": null,
            "margin": null,
            "max_height": null,
            "max_width": null,
            "min_height": null,
            "min_width": null,
            "object_fit": null,
            "object_position": null,
            "order": null,
            "overflow": null,
            "overflow_x": null,
            "overflow_y": null,
            "padding": null,
            "right": null,
            "top": null,
            "visibility": null,
            "width": null
          }
        }
      }
    }
  },
  "nbformat": 4,
  "nbformat_minor": 0
}