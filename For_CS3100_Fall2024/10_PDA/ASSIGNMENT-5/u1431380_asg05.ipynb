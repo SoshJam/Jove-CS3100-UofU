{
  "cells": [
    {
      "cell_type": "markdown",
      "metadata": {
        "id": "view-in-github",
        "colab_type": "text"
      },
      "source": [
        "<a href=\"https://colab.research.google.com/github/SoshJam/Jove-CS3100-UofU/blob/master/For_CS3100_Fall2024/10_PDA/ASSIGNMENT-5/u1431380_asg05.ipynb\" target=\"_parent\"><img src=\"https://colab.research.google.com/assets/colab-badge.svg\" alt=\"Open In Colab\"/></a>"
      ]
    },
    {
      "cell_type": "markdown",
      "metadata": {
        "id": "PwYWD2DJyH1_",
        "run_control": {
          "frozen": false,
          "read_only": false
        }
      },
      "source": [
        "# Asg-5 Imports\n"
      ]
    },
    {
      "cell_type": "code",
      "execution_count": 5,
      "metadata": {
        "id": "1Xgq_sM8yH2A",
        "run_control": {
          "frozen": false,
          "read_only": false
        },
        "scrolled": true
      },
      "outputs": [],
      "source": [
        "#~~~~~~~~~~~~~~~~~~~~~~~~~~~~~~~~~~~~~~~~~~~~~~~~~~~~~~~\n",
        "import sys\n",
        "\n",
        "# -- Detect if in Own Install or in Colab\n",
        "try:\n",
        "    import google.colab\n",
        "    OWN_INSTALL = False\n",
        "except:\n",
        "    OWN_INSTALL = True\n",
        "\n",
        "if OWN_INSTALL:\n",
        "\n",
        "  #---- Leave these definitions ON if running on laptop\n",
        "  #---- Else turn OFF by putting them between ''' ... '''\n",
        "\n",
        "  sys.path[0:0] = ['../../../../..',  '../../../../../3rdparty',\n",
        "                   '../../../..',  '../../../../3rdparty',\n",
        "                   '../../..',     '../../../3rdparty',\n",
        "                   '../..',        '../../3rdparty',\n",
        "                   '..',           '../3rdparty' ]\n",
        "\n",
        "else: # In colab\n",
        "  ! if [ ! -d Jove ]; then git clone https://github.com/ganeshutah/Jove Jove; fi\n",
        "  sys.path.append('./Jove')\n",
        "  sys.path.append('./Jove/jove')\n",
        "\n",
        "# -- common imports --\n",
        "from jove.DotBashers import *\n",
        "from jove.Def_md2mc  import *\n",
        "from jove.AnimatePDA import *\n",
        "from jove.Def_PDA    import *\n",
        "#~~~~~~~~~~~~~~~~~~~~~~~~~~~~~~~~~~~~~~~~~~~~~~~~~~~~~~~"
      ]
    },
    {
      "cell_type": "markdown",
      "metadata": {
        "id": "lvqcw1nwqlTL"
      },
      "source": [
        "## Question 1:"
      ]
    },
    {
      "cell_type": "markdown",
      "metadata": {
        "id": "eBDJu0_8qnSI"
      },
      "source": [
        "Design a PDA called \"a2b\" for the language $\\{a^i b^j : i,j\\ge 0, {\\rm and}\\; j = 2i \\}$.\n",
        "- Some strings in such language are: $abb$, $aabbbb$, $aaabbbbbb$, etc.\n",
        "- Put a \"header block\" of comments (before you list the PDA transitions) that describes the overall stacking strategy. For example, put these comments that are accepted by Jove before your md2mc('''PDA...code begins'''):\n",
        "  - !! The PDA uses the stack in THIS WAY while a's arrive\n",
        "  - !! Then when b's arrive, the PDA does THIS\n",
        "  - !! After b's, if $a$'s arrive, the PDA does THIS\n",
        "- After that, fully document your design (line by line)\n",
        "- Then, test your PDA on these strings\n",
        "  1. $\\varepsilon$ (accept)\n",
        "\n",
        "  2. $abb$ (accept)\n",
        "\n",
        "  3. $aabbbb$ (accept)\n",
        "\n",
        "  4. $aaabbbbbb$ (accept)\n",
        "\n",
        "  5. $ab$ (reject)\n",
        "\n",
        "  6. $b$ (reject)\n",
        "\n",
        "  7. $aba$ (reject)\n",
        "\n",
        "  8. $abba$ (reject)\n",
        "- Finally, add two more accepting and two more rejecting tests of your own.\n",
        "\n",
        "- One case for animation is included below. Animate that please."
      ]
    },
    {
      "cell_type": "markdown",
      "metadata": {
        "id": "KydC8uUYs3SL"
      },
      "source": [
        "### Given test cases:"
      ]
    },
    {
      "cell_type": "code",
      "execution_count": 6,
      "metadata": {
        "id": "BNUyi9p5yH2B"
      },
      "outputs": [],
      "source": [
        "a2b = md2mc('''\n",
        "PDA\n",
        "\n",
        "!! Overall Algorithm:\n",
        "!! ...a few more points\n",
        "!! Whenever a's arrive, the PDA adds aa to the stack\n",
        "!! When b's arrive, it removes a's one by one until it gets to the # which was added automatically\n",
        "!! Further characters, or getting a B before any As, make it invalid.\n",
        "\n",
        "!! Now a line-by-line description\n",
        "I_S0 : a  , '' ; aa -> I_S0\n",
        "I_S0 : '' , '' ; '' -> S1\n",
        "\n",
        "S1   : b  , a  ; '' -> S1\n",
        "S1   : '' , #  ; '' -> F_S2\n",
        "''')"
      ]
    },
    {
      "cell_type": "code",
      "execution_count": 7,
      "metadata": {
        "id": "GmL0xdfIyH2B",
        "outputId": "170fad54-533d-461e-cbf7-9fd339453af2",
        "colab": {
          "base_uri": "https://localhost:8080/",
          "height": 156
        }
      },
      "outputs": [
        {
          "output_type": "execute_result",
          "data": {
            "image/svg+xml": "<?xml version=\"1.0\" encoding=\"UTF-8\" standalone=\"no\"?>\n<!DOCTYPE svg PUBLIC \"-//W3C//DTD SVG 1.1//EN\"\n \"http://www.w3.org/Graphics/SVG/1.1/DTD/svg11.dtd\">\n<!-- Generated by graphviz version 2.43.0 (0)\n -->\n<!-- Title: %3 Pages: 1 -->\n<svg width=\"400pt\" height=\"102pt\"\n viewBox=\"0.00 0.00 400.39 101.54\" xmlns=\"http://www.w3.org/2000/svg\" xmlns:xlink=\"http://www.w3.org/1999/xlink\">\n<g id=\"graph0\" class=\"graph\" transform=\"scale(1 1) rotate(0) translate(4 97.54)\">\n<title>%3</title>\n<polygon fill=\"white\" stroke=\"transparent\" points=\"-4,4 -4,-97.54 396.39,-97.54 396.39,4 -4,4\"/>\n<!-- EMPTY -->\n<g id=\"node1\" class=\"node\">\n<title>EMPTY</title>\n</g>\n<!-- I_S0 -->\n<g id=\"node3\" class=\"node\">\n<title>I_S0</title>\n<ellipse fill=\"none\" stroke=\"black\" cx=\"118.3\" cy=\"-33.25\" rx=\"27.1\" ry=\"27.1\"/>\n<text text-anchor=\"middle\" x=\"118.3\" y=\"-29.55\" font-family=\"Times,serif\" font-size=\"14.00\">I_S0</text>\n</g>\n<!-- EMPTY&#45;&gt;I_S0 -->\n<g id=\"edge1\" class=\"edge\">\n<title>EMPTY&#45;&gt;I_S0</title>\n<path fill=\"none\" stroke=\"black\" d=\"M54.31,-33.25C62.59,-33.25 71.89,-33.25 80.76,-33.25\"/>\n<polygon fill=\"black\" stroke=\"black\" points=\"80.87,-36.75 90.87,-33.25 80.87,-29.75 80.87,-36.75\"/>\n</g>\n<!-- S1 -->\n<g id=\"node2\" class=\"node\">\n<title>S1</title>\n<ellipse fill=\"none\" stroke=\"black\" cx=\"234.74\" cy=\"-33.25\" rx=\"20.3\" ry=\"20.3\"/>\n<text text-anchor=\"middle\" x=\"234.74\" y=\"-29.55\" font-family=\"Times,serif\" font-size=\"14.00\">S1</text>\n</g>\n<!-- S1&#45;&gt;S1 -->\n<g id=\"edge4\" class=\"edge\">\n<title>S1&#45;&gt;S1</title>\n<path fill=\"none\" stroke=\"black\" d=\"M225.17,-51.3C223.22,-61.71 226.41,-71.4 234.74,-71.4 240.21,-71.4 243.46,-67.22 244.5,-61.41\"/>\n<polygon fill=\"black\" stroke=\"black\" points=\"248,-61.23 244.31,-51.3 241,-61.37 248,-61.23\"/>\n<text text-anchor=\"middle\" x=\"234.74\" y=\"-75.2\" font-family=\"Times,serif\" font-size=\"14.00\">b, a ; &#39;&#39;</text>\n</g>\n<!-- F_S2 -->\n<g id=\"node4\" class=\"node\">\n<title>F_S2</title>\n<ellipse fill=\"none\" stroke=\"black\" cx=\"359.14\" cy=\"-33.25\" rx=\"29.47\" ry=\"29.47\"/>\n<ellipse fill=\"none\" stroke=\"black\" cx=\"359.14\" cy=\"-33.25\" rx=\"33.5\" ry=\"33.5\"/>\n<text text-anchor=\"middle\" x=\"359.14\" y=\"-29.55\" font-family=\"Times,serif\" font-size=\"14.00\">F_S2</text>\n</g>\n<!-- S1&#45;&gt;F_S2 -->\n<g id=\"edge5\" class=\"edge\">\n<title>S1&#45;&gt;F_S2</title>\n<path fill=\"none\" stroke=\"black\" d=\"M255.14,-33.25C271.28,-33.25 294.87,-33.25 315.39,-33.25\"/>\n<polygon fill=\"black\" stroke=\"black\" points=\"315.48,-36.75 325.48,-33.25 315.48,-29.75 315.48,-36.75\"/>\n<text text-anchor=\"middle\" x=\"290.39\" y=\"-37.05\" font-family=\"Times,serif\" font-size=\"14.00\">&#39;&#39;, # ; &#39;&#39;</text>\n</g>\n<!-- I_S0&#45;&gt;S1 -->\n<g id=\"edge3\" class=\"edge\">\n<title>I_S0&#45;&gt;S1</title>\n<path fill=\"none\" stroke=\"black\" d=\"M145.84,-33.25C163.31,-33.25 186.2,-33.25 204.24,-33.25\"/>\n<polygon fill=\"black\" stroke=\"black\" points=\"204.49,-36.75 214.49,-33.25 204.49,-29.75 204.49,-36.75\"/>\n<text text-anchor=\"middle\" x=\"180.1\" y=\"-37.05\" font-family=\"Times,serif\" font-size=\"14.00\">&#39;&#39;, &#39;&#39; ; &#39;&#39;</text>\n</g>\n<!-- I_S0&#45;&gt;I_S0 -->\n<g id=\"edge2\" class=\"edge\">\n<title>I_S0&#45;&gt;I_S0</title>\n<path fill=\"none\" stroke=\"black\" d=\"M110.1,-59.31C109.63,-69.77 112.37,-78.54 118.3,-78.54 122.1,-78.54 124.58,-74.94 125.76,-69.61\"/>\n<polygon fill=\"black\" stroke=\"black\" points=\"129.27,-69.54 126.5,-59.31 122.29,-69.04 129.27,-69.54\"/>\n<text text-anchor=\"middle\" x=\"118.3\" y=\"-82.34\" font-family=\"Times,serif\" font-size=\"14.00\">a, &#39;&#39; ; aa</text>\n</g>\n</g>\n</svg>\n",
            "text/plain": [
              "<graphviz.graphs.Digraph at 0x7f1f9790b580>"
            ]
          },
          "metadata": {},
          "execution_count": 7
        }
      ],
      "source": [
        "dotObj_pda(a2b)"
      ]
    },
    {
      "cell_type": "code",
      "execution_count": 8,
      "metadata": {
        "id": "-I9wnqF0yH2B",
        "outputId": "b2aa4bfe-a672-49de-8851-81beb9ea966a",
        "colab": {
          "base_uri": "https://localhost:8080/"
        }
      },
      "outputs": [
        {
          "output_type": "stream",
          "name": "stdout",
          "text": [
            "String  accepted by your PDA in 1 ways :-) \n",
            "Here are the ways: \n",
            "Final state  ('F_S2', '', '')\n",
            "Reached as follows:\n",
            "->  ('I_S0', '', '#')\n",
            "->  ('S1', '', '#')\n",
            "->  ('F_S2', '', '') .\n"
          ]
        }
      ],
      "source": [
        "explore_pda('', a2b)"
      ]
    },
    {
      "cell_type": "code",
      "execution_count": 9,
      "metadata": {
        "id": "LkT2W1m2yH2B",
        "outputId": "ad71f195-3c6e-4a4e-93bd-14c087dfebd2",
        "colab": {
          "base_uri": "https://localhost:8080/"
        }
      },
      "outputs": [
        {
          "output_type": "stream",
          "name": "stdout",
          "text": [
            "String abb accepted by your PDA in 1 ways :-) \n",
            "Here are the ways: \n",
            "Final state  ('F_S2', '', '')\n",
            "Reached as follows:\n",
            "->  ('I_S0', 'abb', '#')\n",
            "->  ('I_S0', 'bb', 'aa#')\n",
            "->  ('S1', 'bb', 'aa#')\n",
            "->  ('S1', 'b', 'a#')\n",
            "->  ('S1', '', '#')\n",
            "->  ('F_S2', '', '') .\n"
          ]
        }
      ],
      "source": [
        "explore_pda('abb', a2b)"
      ]
    },
    {
      "cell_type": "code",
      "execution_count": 10,
      "metadata": {
        "id": "gfbSu77gyH2B",
        "outputId": "7a18325c-1153-45ea-aa16-f331a66bb7c5",
        "colab": {
          "base_uri": "https://localhost:8080/"
        }
      },
      "outputs": [
        {
          "output_type": "stream",
          "name": "stdout",
          "text": [
            "String aabbbb accepted by your PDA in 1 ways :-) \n",
            "Here are the ways: \n",
            "Final state  ('F_S2', '', '')\n",
            "Reached as follows:\n",
            "->  ('I_S0', 'aabbbb', '#')\n",
            "->  ('I_S0', 'abbbb', 'aa#')\n",
            "->  ('I_S0', 'bbbb', 'aaaa#')\n",
            "->  ('S1', 'bbbb', 'aaaa#')\n",
            "->  ('S1', 'bbb', 'aaa#')\n",
            "->  ('S1', 'bb', 'aa#')\n",
            "->  ('S1', 'b', 'a#')\n",
            "->  ('S1', '', '#')\n",
            "->  ('F_S2', '', '') .\n"
          ]
        }
      ],
      "source": [
        "explore_pda('aabbbb', a2b)"
      ]
    },
    {
      "cell_type": "code",
      "execution_count": 11,
      "metadata": {
        "id": "Wvh5l8LgyH2C",
        "outputId": "8a6dbcf7-881d-4c16-8925-5d8f5353a687",
        "colab": {
          "base_uri": "https://localhost:8080/"
        }
      },
      "outputs": [
        {
          "output_type": "stream",
          "name": "stdout",
          "text": [
            "String aaabbbbbb accepted by your PDA in 1 ways :-) \n",
            "Here are the ways: \n",
            "Final state  ('F_S2', '', '')\n",
            "Reached as follows:\n",
            "->  ('I_S0', 'aaabbbbbb', '#')\n",
            "->  ('I_S0', 'aabbbbbb', 'aa#')\n",
            "->  ('I_S0', 'abbbbbb', 'aaaa#')\n",
            "->  ('I_S0', 'bbbbbb', 'aaaaaa#')\n",
            "->  ('S1', 'bbbbbb', 'aaaaaa#')\n",
            "->  ('S1', 'bbbbb', 'aaaaa#')\n",
            "->  ('S1', 'bbbb', 'aaaa#')\n",
            "->  ('S1', 'bbb', 'aaa#')\n",
            "->  ('S1', 'bb', 'aa#')\n",
            "->  ('S1', 'b', 'a#')\n",
            "->  ('S1', '', '#')\n",
            "->  ('F_S2', '', '') .\n"
          ]
        }
      ],
      "source": [
        "explore_pda('aaabbbbbb', a2b)"
      ]
    },
    {
      "cell_type": "code",
      "source": [
        "# Animate just the above case\n",
        "\n",
        "AnimatePDA(a2b, FuseEdges=True)\n",
        "display(HTML('<link rel=\"stylesheet\" href=\"//stackpath.bootstrapcdn.com/font-awesome/4.7.0/css/font-awesome.min.css\"/>'))"
      ],
      "metadata": {
        "id": "oFLeWWqo35JG",
        "outputId": "d9445db6-7c86-4b66-c1c1-49b18c402771",
        "colab": {
          "base_uri": "https://localhost:8080/",
          "height": 373,
          "referenced_widgets": [
            "cfee4240ae0f4de6a1306b73d5bb520d",
            "45831e22769d4be1bb9f0cb93b33d75e",
            "ac62c7a066f946c69682cfa2288824bb",
            "edd96ccf96d845b6b821413f04c5a300",
            "8cda192f650f415f9cd209d178a4cfb2",
            "b85cf96e603248d79a36e48588fe2327",
            "2a3f9253e7cc483d9017187d208aac4e",
            "8782337485da4d63b7436d9ddad12688",
            "b1969f43a3d04f60959dba2013c4f200",
            "5900b868d9454f00aa065690f89ec3e8",
            "cc4af0cb42c14a5cb1c61222111c3fa2",
            "a87a277249b44df88e5b381153ed53d6",
            "b40dc82cc6e44773ac2905f9c45df475",
            "25b63b684f584c71af8c1d5d3123db09",
            "e3dae085b408438db3deabbefcb0ecb5",
            "550e40dcde484998a3d5d03a365efd5c",
            "27fdba5794c748bfad935751987ca03c",
            "454f31d3d8ab4844a534391803084c2c",
            "b473e24c231142b2a246c908ce5b0f84",
            "d03d415ebf1c4852be142fbe0fe4f8d6",
            "7fd87916066448b387f16ddc1b58530f",
            "753fca91619344fabc5e5e225c72a174",
            "10c9cc9acf134cd7b1cdb0eec11c697d",
            "9c2fca7620804287b82fce8c7cf26e0c",
            "8d889d8bb6b744a2bf74ce7d08a5fc91",
            "3a59e08946d64a1eb55126429f6b3f1f",
            "768dfe955f87422d9731f4800c0bf938",
            "ed1bf13e279d45dbb278bfdd50a6307d",
            "d4a8f1d60bd1403b9d2ca381a7ffd665",
            "b314c581ecdc432a85b9875df6dc4b35",
            "340817c250dd40ab984000d711254f72",
            "379a2098d1ac4c4da7069d20ef110d12",
            "cc64787fb3314405a0b7e41cca54b713",
            "d560032e75f64977a0761a2445dca6df",
            "9d4f5769743342b380ca8a68070b4aca",
            "77781133894d47bdbee80758cee6da0b",
            "7fa4034874ac426d95ff8c3c2f886a25",
            "946495aa3042431d8141977053448930",
            "0f0ffd9544654706bf42a862f3ae497e",
            "7091a4bcb9bc451eb3958d7d1b08e852",
            "8ec4efb5013b4f3c933946a608f49f08",
            "85411ad6bbb74de19f12292aeb20c706",
            "9ef04f1f16104b4aa54fac9ab4f96a16",
            "021db329d18b4c90a9482f34d6e4ce0d",
            "2148fdaaeffa464f8f341a344ab79484",
            "174f02361f76401d98a3485904ebd158",
            "769e9cc13aba401fa524ef4a175b7b92"
          ]
        }
      },
      "execution_count": 12,
      "outputs": [
        {
          "output_type": "display_data",
          "data": {
            "text/plain": [
              "VBox(children=(HBox(children=(Text(value='', description='Input:', layout=Layout(width='500px'), placeholder='…"
            ],
            "application/vnd.jupyter.widget-view+json": {
              "version_major": 2,
              "version_minor": 0,
              "model_id": "cfee4240ae0f4de6a1306b73d5bb520d"
            }
          },
          "metadata": {}
        },
        {
          "output_type": "display_data",
          "data": {
            "text/plain": [
              "<IPython.core.display.HTML object>"
            ],
            "text/html": [
              "<link rel=\"stylesheet\" href=\"//stackpath.bootstrapcdn.com/font-awesome/4.7.0/css/font-awesome.min.css\"/>"
            ]
          },
          "metadata": {}
        }
      ]
    },
    {
      "cell_type": "code",
      "execution_count": 13,
      "metadata": {
        "id": "d6cB517ZyH2C",
        "outputId": "dc546687-6f36-4269-f90a-2a81a4f2e65b",
        "colab": {
          "base_uri": "https://localhost:8080/"
        }
      },
      "outputs": [
        {
          "output_type": "stream",
          "name": "stdout",
          "text": [
            "String ab rejected by your PDA :-(\n",
            "Visited states are:\n",
            "{('I_S0', 'b', 'aa#'), ('S1', '', 'a#'), ('F_S2', 'ab', ''), ('I_S0', 'ab', '#'), ('S1', 'b', 'aa#'), ('S1', 'ab', '#')}\n"
          ]
        }
      ],
      "source": [
        "explore_pda('ab', a2b)"
      ]
    },
    {
      "cell_type": "code",
      "execution_count": 14,
      "metadata": {
        "id": "CwwJSo7vyH2C",
        "outputId": "efa34b33-f96b-4f32-a32f-b13ceaf1ce8f",
        "colab": {
          "base_uri": "https://localhost:8080/"
        }
      },
      "outputs": [
        {
          "output_type": "stream",
          "name": "stdout",
          "text": [
            "String b rejected by your PDA :-(\n",
            "Visited states are:\n",
            "{('F_S2', 'b', ''), ('I_S0', 'b', '#'), ('S1', 'b', '#')}\n"
          ]
        }
      ],
      "source": [
        "explore_pda('b', a2b)"
      ]
    },
    {
      "cell_type": "code",
      "execution_count": 15,
      "metadata": {
        "id": "3KMkj2zcyH2C",
        "outputId": "1c9e0ca1-9e83-4c89-813d-9840f001a143",
        "colab": {
          "base_uri": "https://localhost:8080/"
        }
      },
      "outputs": [
        {
          "output_type": "stream",
          "name": "stdout",
          "text": [
            "String aba rejected by your PDA :-(\n",
            "Visited states are:\n",
            "{('S1', 'aba', '#'), ('F_S2', 'aba', ''), ('S1', 'ba', 'aa#'), ('I_S0', 'aba', '#'), ('S1', 'a', 'a#'), ('I_S0', 'ba', 'aa#')}\n"
          ]
        }
      ],
      "source": [
        "explore_pda('aba', a2b)"
      ]
    },
    {
      "cell_type": "code",
      "execution_count": 16,
      "metadata": {
        "id": "6P5QjKeMyH2C",
        "outputId": "91837361-a991-4105-ccf8-fd1c8f587723",
        "colab": {
          "base_uri": "https://localhost:8080/"
        }
      },
      "outputs": [
        {
          "output_type": "stream",
          "name": "stdout",
          "text": [
            "String abba rejected by your PDA :-(\n",
            "Visited states are:\n",
            "{('F_S2', 'a', ''), ('S1', 'a', '#'), ('S1', 'abba', '#'), ('I_S0', 'bba', 'aa#'), ('S1', 'bba', 'aa#'), ('F_S2', 'abba', ''), ('I_S0', 'abba', '#'), ('S1', 'ba', 'a#')}\n"
          ]
        }
      ],
      "source": [
        "explore_pda('abba', a2b)"
      ]
    },
    {
      "cell_type": "markdown",
      "metadata": {
        "id": "3PJK79yayH2D"
      },
      "source": [
        "### Add your own test cases here:"
      ]
    },
    {
      "cell_type": "code",
      "source": [
        "# Passing test cases are just boring haha\n",
        "explore_pda('aaaabbbbbbbb', a2b)"
      ],
      "metadata": {
        "id": "MMYBdZOPxqSq",
        "outputId": "a3ec529b-a773-4f8e-b1bc-952d9c5ab074",
        "colab": {
          "base_uri": "https://localhost:8080/"
        }
      },
      "execution_count": 17,
      "outputs": [
        {
          "output_type": "stream",
          "name": "stdout",
          "text": [
            "String aaaabbbbbbbb accepted by your PDA in 1 ways :-) \n",
            "Here are the ways: \n",
            "Final state  ('F_S2', '', '')\n",
            "Reached as follows:\n",
            "->  ('I_S0', 'aaaabbbbbbbb', '#')\n",
            "->  ('I_S0', 'aaabbbbbbbb', 'aa#')\n",
            "->  ('I_S0', 'aabbbbbbbb', 'aaaa#')\n",
            "->  ('I_S0', 'abbbbbbbb', 'aaaaaa#')\n",
            "->  ('I_S0', 'bbbbbbbb', 'aaaaaaaa#')\n",
            "->  ('S1', 'bbbbbbbb', 'aaaaaaaa#')\n",
            "->  ('S1', 'bbbbbbb', 'aaaaaaa#')\n",
            "->  ('S1', 'bbbbbb', 'aaaaaa#')\n",
            "->  ('S1', 'bbbbb', 'aaaaa#')\n",
            "->  ('S1', 'bbbb', 'aaaa#')\n",
            "->  ('S1', 'bbb', 'aaa#')\n",
            "->  ('S1', 'bb', 'aa#')\n",
            "->  ('S1', 'b', 'a#')\n",
            "->  ('S1', '', '#')\n",
            "->  ('F_S2', '', '') .\n"
          ]
        }
      ]
    },
    {
      "cell_type": "code",
      "source": [
        "explore_pda('aaaaabbbbbbbbbb', a2b)"
      ],
      "metadata": {
        "id": "a0SofmpGxpxk",
        "outputId": "2593a545-d8cb-406f-cc1f-7e05cb4c40b0",
        "colab": {
          "base_uri": "https://localhost:8080/"
        }
      },
      "execution_count": 18,
      "outputs": [
        {
          "output_type": "stream",
          "name": "stdout",
          "text": [
            "String aaaaabbbbbbbbbb accepted by your PDA in 1 ways :-) \n",
            "Here are the ways: \n",
            "Final state  ('F_S2', '', '')\n",
            "Reached as follows:\n",
            "->  ('I_S0', 'aaaaabbbbbbbbbb', '#')\n",
            "->  ('I_S0', 'aaaabbbbbbbbbb', 'aa#')\n",
            "->  ('I_S0', 'aaabbbbbbbbbb', 'aaaa#')\n",
            "->  ('I_S0', 'aabbbbbbbbbb', 'aaaaaa#')\n",
            "->  ('I_S0', 'abbbbbbbbbb', 'aaaaaaaa#')\n",
            "->  ('I_S0', 'bbbbbbbbbb', 'aaaaaaaaaa#')\n",
            "->  ('S1', 'bbbbbbbbbb', 'aaaaaaaaaa#')\n",
            "->  ('S1', 'bbbbbbbbb', 'aaaaaaaaa#')\n",
            "->  ('S1', 'bbbbbbbb', 'aaaaaaaa#')\n",
            "->  ('S1', 'bbbbbbb', 'aaaaaaa#')\n",
            "->  ('S1', 'bbbbbb', 'aaaaaa#')\n",
            "->  ('S1', 'bbbbb', 'aaaaa#')\n",
            "->  ('S1', 'bbbb', 'aaaa#')\n",
            "->  ('S1', 'bbb', 'aaa#')\n",
            "->  ('S1', 'bb', 'aa#')\n",
            "->  ('S1', 'b', 'a#')\n",
            "->  ('S1', '', '#')\n",
            "->  ('F_S2', '', '') .\n"
          ]
        }
      ]
    },
    {
      "cell_type": "code",
      "source": [
        "# Failing test cases\n",
        "explore_pda('bba', a2b)"
      ],
      "metadata": {
        "id": "nKXYmn7zxp76",
        "outputId": "88c8fe64-0913-481a-9ac6-46cec9f19498",
        "colab": {
          "base_uri": "https://localhost:8080/"
        }
      },
      "execution_count": 19,
      "outputs": [
        {
          "output_type": "stream",
          "name": "stdout",
          "text": [
            "String bba rejected by your PDA :-(\n",
            "Visited states are:\n",
            "{('I_S0', 'bba', '#'), ('S1', 'bba', '#'), ('F_S2', 'bba', '')}\n"
          ]
        }
      ]
    },
    {
      "cell_type": "code",
      "source": [
        "explore_pda('abbaabbbb', a2b)"
      ],
      "metadata": {
        "id": "aSpkITTLxqMT",
        "outputId": "865d5687-b531-4dd2-da2e-d0d4a39193c5",
        "colab": {
          "base_uri": "https://localhost:8080/"
        }
      },
      "execution_count": 20,
      "outputs": [
        {
          "output_type": "stream",
          "name": "stdout",
          "text": [
            "String abbaabbbb rejected by your PDA :-(\n",
            "Visited states are:\n",
            "{('F_S2', 'aabbbb', ''), ('I_S0', 'bbaabbbb', 'aa#'), ('F_S2', 'abbaabbbb', ''), ('S1', 'baabbbb', 'a#'), ('S1', 'aabbbb', '#'), ('I_S0', 'abbaabbbb', '#'), ('S1', 'bbaabbbb', 'aa#'), ('S1', 'abbaabbbb', '#')}\n"
          ]
        }
      ]
    },
    {
      "cell_type": "markdown",
      "metadata": {
        "id": "5ttGubLrr3OU"
      },
      "source": [
        "## Question 2:"
      ]
    },
    {
      "cell_type": "markdown",
      "metadata": {
        "id": "HgHEIsUrr92k"
      },
      "source": [
        "Design a PDA for language Lif in question 1.\n",
        "\n",
        "This language comes from Section 4.8.1 of the book, but to reduce the complexity of the language, I've changed the i=3 to i=2.\n",
        "\n",
        "Thus THIS Lif language is\n",
        "\n",
        "  { a^i b^j c^k : if (i=2) then j=k }\n",
        "\n",
        "This is reflected in the tests -- I accept when i=2 as you can see.\n",
        "\n",
        "- Hint: when a = 2, the PDA matches b's and c's (using the stack for this match). Else, it only checks their order of arrival (and simply ignores the stack).\n",
        "- Test your PDA on these strings:\n",
        "  - aabbbccc   (accept)\n",
        "  - aabbbbcccc (accept)\n",
        "  - aa         (accept)\n",
        "  - abbbcccc (accept)\n",
        "  - aaabbc   (accept)\n",
        "  - Epsilon    (accept, as there are zero a's)\n",
        "  - abbcc    (accept, as there is no constraint to not match b's and c's if two a's)\n",
        "  - cb        (reject)\n",
        "  - aabbcca (reject)\n",
        "  - abba     (reject)\n",
        "  - ccac       (reject)\n",
        "  - abba       (reject)\n",
        "  - baac       (reject)\n",
        "  - ac         (accept)\n",
        "- Then add three more accepting test cases and three more rejecting test cases. Document the tests saying why they must pass/fail\n",
        "\n",
        "* Two cases for animation have been added. Animate that please."
      ]
    },
    {
      "cell_type": "code",
      "execution_count": null,
      "metadata": {
        "id": "qOGCbbuJyH2D"
      },
      "outputs": [],
      "source": [
        "Lif = md2mc('''\n",
        "PDA\n",
        "\n",
        "!! Overall Algorithm\n",
        "!! ...\n",
        "\n",
        "\n",
        "\n",
        "... Now a line-by-line description\n",
        "\n",
        "''')"
      ]
    },
    {
      "cell_type": "code",
      "execution_count": null,
      "metadata": {
        "id": "Qyzpk_0byH2E"
      },
      "outputs": [],
      "source": [
        "dotObj_pda(Lif)"
      ]
    },
    {
      "cell_type": "markdown",
      "metadata": {
        "id": "yAxOHtwUyH2E"
      },
      "source": [
        "### Given test cases:"
      ]
    },
    {
      "cell_type": "markdown",
      "metadata": {
        "id": "cbD49D_YyH2E"
      },
      "source": [
        "* aa bbb ccc   (accept)"
      ]
    },
    {
      "cell_type": "code",
      "execution_count": null,
      "metadata": {
        "id": "TkyBjxrcyH2F"
      },
      "outputs": [],
      "source": [
        "explore_pda('aabbbccc', Lif)"
      ]
    },
    {
      "cell_type": "markdown",
      "metadata": {
        "id": "qwKAfT20yH2F"
      },
      "source": [
        "* aa bbbb cccc (accept)\n"
      ]
    },
    {
      "cell_type": "code",
      "source": [
        "# Animate the above case\n",
        "\n",
        "AnimatePDA(Lif, FuseEdges=True)\n",
        "display(HTML('<link rel=\"stylesheet\" href=\"//stackpath.bootstrapcdn.com/font-awesome/4.7.0/css/font-awesome.min.css\"/>'))"
      ],
      "metadata": {
        "id": "PfQa21ZZ4Usy"
      },
      "execution_count": null,
      "outputs": []
    },
    {
      "cell_type": "code",
      "execution_count": null,
      "metadata": {
        "id": "gr5jQ8WMyH2F"
      },
      "outputs": [],
      "source": [
        "explore_pda('aabbbbcccc', Lif)"
      ]
    },
    {
      "cell_type": "markdown",
      "metadata": {
        "id": "eQWBq-HjyH2F"
      },
      "source": [
        "* aa         (accept)"
      ]
    },
    {
      "cell_type": "code",
      "execution_count": null,
      "metadata": {
        "id": "S10QZSA8yH2F"
      },
      "outputs": [],
      "source": [
        "explore_pda('aa', Lif)"
      ]
    },
    {
      "cell_type": "markdown",
      "metadata": {
        "id": "Mu_hxfcHyH2F"
      },
      "source": [
        "* a bbb cccc (accept)"
      ]
    },
    {
      "cell_type": "code",
      "source": [
        "# Animate the above case\n",
        "\n",
        "AnimatePDA(Lif, FuseEdges=True)\n",
        "display(HTML('<link rel=\"stylesheet\" href=\"//stackpath.bootstrapcdn.com/font-awesome/4.7.0/css/font-awesome.min.css\"/>'))"
      ],
      "metadata": {
        "id": "quj2ZBy14fsw"
      },
      "execution_count": null,
      "outputs": []
    },
    {
      "cell_type": "code",
      "execution_count": null,
      "metadata": {
        "id": "qRtQEZ8JyH2G"
      },
      "outputs": [],
      "source": [
        "explore_pda('abbbcccc', Lif)"
      ]
    },
    {
      "cell_type": "markdown",
      "metadata": {
        "id": "22Hhpq-YyH2G"
      },
      "source": [
        "* aaa bb c   (accept)"
      ]
    },
    {
      "cell_type": "code",
      "execution_count": null,
      "metadata": {
        "id": "l5ys9PFKyH2G"
      },
      "outputs": [],
      "source": [
        "explore_pda('aaabbc', Lif)"
      ]
    },
    {
      "cell_type": "markdown",
      "metadata": {
        "id": "rODWiy8PyH2G"
      },
      "source": [
        "* Epsilon    (accept, as there are zero a's)"
      ]
    },
    {
      "cell_type": "code",
      "execution_count": null,
      "metadata": {
        "id": "QhgMqBbiyH2G"
      },
      "outputs": [],
      "source": [
        "explore_pda('', Lif)"
      ]
    },
    {
      "cell_type": "markdown",
      "metadata": {
        "id": "BXg9_3iZyH2G"
      },
      "source": [
        "* a bb cc    (accept, as there is no constraint to not match b's and c's if two a's)"
      ]
    },
    {
      "cell_type": "code",
      "execution_count": null,
      "metadata": {
        "id": "OdwhYAk7yH2H"
      },
      "outputs": [],
      "source": [
        "explore_pda('abbcc', Lif)"
      ]
    },
    {
      "cell_type": "markdown",
      "metadata": {
        "id": "f2ljJYGSyH2H"
      },
      "source": [
        "* b c must accept too"
      ]
    },
    {
      "cell_type": "code",
      "execution_count": null,
      "metadata": {
        "id": "TYj2p7FSyH2H"
      },
      "outputs": [],
      "source": [
        "explore_pda('bc', Lif)"
      ]
    },
    {
      "cell_type": "markdown",
      "metadata": {
        "id": "4wSowAWvyH2H"
      },
      "source": [
        "* c b        (reject)"
      ]
    },
    {
      "cell_type": "code",
      "execution_count": null,
      "metadata": {
        "id": "njFYWda6yH2H"
      },
      "outputs": [],
      "source": [
        "explore_pda('cb', Lif)"
      ]
    },
    {
      "cell_type": "markdown",
      "metadata": {
        "id": "Q-t4PSqLyH2H"
      },
      "source": [
        "* aa bb cc a (reject)"
      ]
    },
    {
      "cell_type": "code",
      "execution_count": null,
      "metadata": {
        "id": "1jgOABLSyH2H"
      },
      "outputs": [],
      "source": [
        "explore_pda('aabbcca', Lif)"
      ]
    },
    {
      "cell_type": "markdown",
      "metadata": {
        "id": "XTm6znnHyH2H"
      },
      "source": [
        "* a bb a     (reject)"
      ]
    },
    {
      "cell_type": "code",
      "execution_count": null,
      "metadata": {
        "id": "bQCHZI1IyH2I"
      },
      "outputs": [],
      "source": [
        "explore_pda('abba', Lif)"
      ]
    },
    {
      "cell_type": "markdown",
      "metadata": {
        "id": "VcIqurXVyH2I"
      },
      "source": [
        "* ccac       (reject)"
      ]
    },
    {
      "cell_type": "code",
      "execution_count": null,
      "metadata": {
        "id": "M96UpYWPyH2I"
      },
      "outputs": [],
      "source": [
        "explore_pda('ccac', Lif)"
      ]
    },
    {
      "cell_type": "markdown",
      "metadata": {
        "id": "lMjb3ozcyH2I"
      },
      "source": [
        "* abba       (reject)"
      ]
    },
    {
      "cell_type": "code",
      "execution_count": null,
      "metadata": {
        "id": "5RHTbf73yH2I"
      },
      "outputs": [],
      "source": [
        "explore_pda('abba', Lif)"
      ]
    },
    {
      "cell_type": "markdown",
      "metadata": {
        "id": "PENs7s32yH2I"
      },
      "source": [
        "* baac       (reject)"
      ]
    },
    {
      "cell_type": "code",
      "execution_count": null,
      "metadata": {
        "id": "1ZeWeu_EyH2I"
      },
      "outputs": [],
      "source": [
        "explore_pda('baac', Lif)"
      ]
    },
    {
      "cell_type": "markdown",
      "metadata": {
        "id": "RVFp21rXyH2J"
      },
      "source": [
        "* ac         (accept), as there are no b's  "
      ]
    },
    {
      "cell_type": "code",
      "execution_count": null,
      "metadata": {
        "id": "Br1nz3SZyH2J"
      },
      "outputs": [],
      "source": [
        "explore_pda('ac', Lif)"
      ]
    },
    {
      "cell_type": "markdown",
      "metadata": {
        "id": "7C_BvHfxyH2J"
      },
      "source": [
        "* acb (reject)"
      ]
    },
    {
      "cell_type": "code",
      "execution_count": null,
      "metadata": {
        "id": "dDOs575fyH2J"
      },
      "outputs": [],
      "source": [
        "explore_pda('acb', Lif)"
      ]
    },
    {
      "cell_type": "markdown",
      "metadata": {
        "id": "tFvi-uZeyH2J"
      },
      "source": [
        "### Add your test cases below:"
      ]
    },
    {
      "cell_type": "code",
      "execution_count": null,
      "metadata": {
        "id": "Vk3ax3qdCePR"
      },
      "outputs": [],
      "source": []
    },
    {
      "cell_type": "markdown",
      "metadata": {
        "id": "iXp_GBi-yH2J"
      },
      "source": [
        "# END\n"
      ]
    }
  ],
  "metadata": {
    "colab": {
      "name": "u000000_asg04.ipynb",
      "provenance": [],
      "include_colab_link": true
    },
    "kernelspec": {
      "display_name": "Python 3",
      "language": "python",
      "name": "python3"
    },
    "language_info": {
      "codemirror_mode": {
        "name": "ipython",
        "version": 3
      },
      "file_extension": ".py",
      "mimetype": "text/x-python",
      "name": "python",
      "nbconvert_exporter": "python",
      "pygments_lexer": "ipython3",
      "version": "3.8.5"
    },
    "toc": {
      "colors": {
        "hover_highlight": "#DAA520",
        "running_highlight": "#FF0000",
        "selected_highlight": "#FFD700"
      },
      "moveMenuLeft": true,
      "nav_menu": {
        "height": "121px",
        "width": "252px"
      },
      "navigate_menu": true,
      "number_sections": true,
      "sideBar": true,
      "threshold": 4,
      "toc_cell": false,
      "toc_section_display": "block",
      "toc_window_display": false,
      "widenNotebook": false
    },
    "widgets": {
      "application/vnd.jupyter.widget-state+json": {
        "cfee4240ae0f4de6a1306b73d5bb520d": {
          "model_module": "@jupyter-widgets/controls",
          "model_name": "VBoxModel",
          "model_module_version": "1.5.0",
          "state": {
            "_dom_classes": [],
            "_model_module": "@jupyter-widgets/controls",
            "_model_module_version": "1.5.0",
            "_model_name": "VBoxModel",
            "_view_count": null,
            "_view_module": "@jupyter-widgets/controls",
            "_view_module_version": "1.5.0",
            "_view_name": "VBoxView",
            "box_style": "",
            "children": [
              "IPY_MODEL_45831e22769d4be1bb9f0cb93b33d75e",
              "IPY_MODEL_ac62c7a066f946c69682cfa2288824bb",
              "IPY_MODEL_edd96ccf96d845b6b821413f04c5a300",
              "IPY_MODEL_8cda192f650f415f9cd209d178a4cfb2",
              "IPY_MODEL_b85cf96e603248d79a36e48588fe2327",
              "IPY_MODEL_2a3f9253e7cc483d9017187d208aac4e",
              "IPY_MODEL_8782337485da4d63b7436d9ddad12688"
            ],
            "layout": "IPY_MODEL_b1969f43a3d04f60959dba2013c4f200"
          }
        },
        "45831e22769d4be1bb9f0cb93b33d75e": {
          "model_module": "@jupyter-widgets/controls",
          "model_name": "HBoxModel",
          "model_module_version": "1.5.0",
          "state": {
            "_dom_classes": [],
            "_model_module": "@jupyter-widgets/controls",
            "_model_module_version": "1.5.0",
            "_model_name": "HBoxModel",
            "_view_count": null,
            "_view_module": "@jupyter-widgets/controls",
            "_view_module_version": "1.5.0",
            "_view_name": "HBoxView",
            "box_style": "",
            "children": [
              "IPY_MODEL_5900b868d9454f00aa065690f89ec3e8",
              "IPY_MODEL_cc4af0cb42c14a5cb1c61222111c3fa2",
              "IPY_MODEL_a87a277249b44df88e5b381153ed53d6"
            ],
            "layout": "IPY_MODEL_b40dc82cc6e44773ac2905f9c45df475"
          }
        },
        "ac62c7a066f946c69682cfa2288824bb": {
          "model_module": "@jupyter-widgets/controls",
          "model_name": "HBoxModel",
          "model_module_version": "1.5.0",
          "state": {
            "_dom_classes": [],
            "_model_module": "@jupyter-widgets/controls",
            "_model_module_version": "1.5.0",
            "_model_name": "HBoxModel",
            "_view_count": null,
            "_view_module": "@jupyter-widgets/controls",
            "_view_module_version": "1.5.0",
            "_view_name": "HBoxView",
            "box_style": "",
            "children": [
              "IPY_MODEL_25b63b684f584c71af8c1d5d3123db09"
            ],
            "layout": "IPY_MODEL_e3dae085b408438db3deabbefcb0ecb5"
          }
        },
        "edd96ccf96d845b6b821413f04c5a300": {
          "model_module": "@jupyter-widgets/output",
          "model_name": "OutputModel",
          "model_module_version": "1.0.0",
          "state": {
            "_dom_classes": [],
            "_model_module": "@jupyter-widgets/output",
            "_model_module_version": "1.0.0",
            "_model_name": "OutputModel",
            "_view_count": null,
            "_view_module": "@jupyter-widgets/output",
            "_view_module_version": "1.0.0",
            "_view_name": "OutputView",
            "layout": "IPY_MODEL_9ef04f1f16104b4aa54fac9ab4f96a16",
            "msg_id": "",
            "outputs": []
          }
        },
        "8cda192f650f415f9cd209d178a4cfb2": {
          "model_module": "@jupyter-widgets/controls",
          "model_name": "HBoxModel",
          "model_module_version": "1.5.0",
          "state": {
            "_dom_classes": [],
            "_model_module": "@jupyter-widgets/controls",
            "_model_module_version": "1.5.0",
            "_model_name": "HBoxModel",
            "_view_count": null,
            "_view_module": "@jupyter-widgets/controls",
            "_view_module_version": "1.5.0",
            "_view_name": "HBoxView",
            "box_style": "",
            "children": [
              "IPY_MODEL_550e40dcde484998a3d5d03a365efd5c",
              "IPY_MODEL_27fdba5794c748bfad935751987ca03c"
            ],
            "layout": "IPY_MODEL_454f31d3d8ab4844a534391803084c2c"
          }
        },
        "b85cf96e603248d79a36e48588fe2327": {
          "model_module": "@jupyter-widgets/output",
          "model_name": "OutputModel",
          "model_module_version": "1.0.0",
          "state": {
            "_dom_classes": [],
            "_model_module": "@jupyter-widgets/output",
            "_model_module_version": "1.0.0",
            "_model_name": "OutputModel",
            "_view_count": null,
            "_view_module": "@jupyter-widgets/output",
            "_view_module_version": "1.0.0",
            "_view_name": "OutputView",
            "layout": "IPY_MODEL_021db329d18b4c90a9482f34d6e4ce0d",
            "msg_id": "",
            "outputs": [
              {
                "output_type": "display_data",
                "data": {
                  "image/svg+xml": "<?xml version=\"1.0\" encoding=\"UTF-8\" standalone=\"no\"?>\n<!DOCTYPE svg PUBLIC \"-//W3C//DTD SVG 1.1//EN\"\n \"http://www.w3.org/Graphics/SVG/1.1/DTD/svg11.dtd\">\n<!-- Generated by graphviz version 2.43.0 (0)\n -->\n<!-- Title: %3 Pages: 1 -->\n<svg width=\"85pt\" height=\"47pt\"\n viewBox=\"0.00 0.00 85.00 47.00\" xmlns=\"http://www.w3.org/2000/svg\" xmlns:xlink=\"http://www.w3.org/1999/xlink\">\n<g id=\"graph0\" class=\"graph\" transform=\"scale(1 1) rotate(0) translate(4 43)\">\n<title>%3</title>\n<polygon fill=\"white\" stroke=\"transparent\" points=\"-4,4 -4,-43 81,-43 81,4 -4,4\"/>\n<!-- feed -->\n<g id=\"node1\" class=\"node\">\n<title>feed</title>\n<polygon fill=\"none\" stroke=\"black\" points=\"8.5,-3.5 8.5,-34.5 26.5,-34.5 26.5,-3.5 8.5,-3.5\"/>\n<polygon fill=\"none\" stroke=\"black\" points=\"26.5,-3.5 26.5,-34.5 51.5,-34.5 51.5,-3.5 26.5,-3.5\"/>\n<text text-anchor=\"start\" x=\"35.5\" y=\"-15.9\" font-family=\"Times,serif\" font-size=\"12.00\"> &#160;</text>\n<polygon fill=\"none\" stroke=\"black\" points=\"51.5,-3.5 51.5,-34.5 69.5,-34.5 69.5,-3.5 51.5,-3.5\"/>\n</g>\n</g>\n</svg>\n",
                  "text/plain": "<graphviz.sources.Source at 0x7f1f9790bdf0>"
                },
                "metadata": {}
              }
            ]
          }
        },
        "2a3f9253e7cc483d9017187d208aac4e": {
          "model_module": "@jupyter-widgets/controls",
          "model_name": "HBoxModel",
          "model_module_version": "1.5.0",
          "state": {
            "_dom_classes": [],
            "_model_module": "@jupyter-widgets/controls",
            "_model_module_version": "1.5.0",
            "_model_name": "HBoxModel",
            "_view_count": null,
            "_view_module": "@jupyter-widgets/controls",
            "_view_module_version": "1.5.0",
            "_view_name": "HBoxView",
            "box_style": "",
            "children": [
              "IPY_MODEL_b473e24c231142b2a246c908ce5b0f84",
              "IPY_MODEL_d03d415ebf1c4852be142fbe0fe4f8d6",
              "IPY_MODEL_7fd87916066448b387f16ddc1b58530f",
              "IPY_MODEL_753fca91619344fabc5e5e225c72a174",
              "IPY_MODEL_10c9cc9acf134cd7b1cdb0eec11c697d"
            ],
            "layout": "IPY_MODEL_9c2fca7620804287b82fce8c7cf26e0c"
          }
        },
        "8782337485da4d63b7436d9ddad12688": {
          "model_module": "@jupyter-widgets/output",
          "model_name": "OutputModel",
          "model_module_version": "1.0.0",
          "state": {
            "_dom_classes": [],
            "_model_module": "@jupyter-widgets/output",
            "_model_module_version": "1.0.0",
            "_model_name": "OutputModel",
            "_view_count": null,
            "_view_module": "@jupyter-widgets/output",
            "_view_module_version": "1.0.0",
            "_view_name": "OutputView",
            "layout": "IPY_MODEL_2148fdaaeffa464f8f341a344ab79484",
            "msg_id": "",
            "outputs": []
          }
        },
        "b1969f43a3d04f60959dba2013c4f200": {
          "model_module": "@jupyter-widgets/base",
          "model_name": "LayoutModel",
          "model_module_version": "1.2.0",
          "state": {
            "_model_module": "@jupyter-widgets/base",
            "_model_module_version": "1.2.0",
            "_model_name": "LayoutModel",
            "_view_count": null,
            "_view_module": "@jupyter-widgets/base",
            "_view_module_version": "1.2.0",
            "_view_name": "LayoutView",
            "align_content": null,
            "align_items": null,
            "align_self": null,
            "border": null,
            "bottom": null,
            "display": null,
            "flex": null,
            "flex_flow": null,
            "grid_area": null,
            "grid_auto_columns": null,
            "grid_auto_flow": null,
            "grid_auto_rows": null,
            "grid_column": null,
            "grid_gap": null,
            "grid_row": null,
            "grid_template_areas": null,
            "grid_template_columns": null,
            "grid_template_rows": null,
            "height": null,
            "justify_content": null,
            "justify_items": null,
            "left": null,
            "margin": null,
            "max_height": null,
            "max_width": null,
            "min_height": null,
            "min_width": null,
            "object_fit": null,
            "object_position": null,
            "order": null,
            "overflow": null,
            "overflow_x": null,
            "overflow_y": null,
            "padding": null,
            "right": null,
            "top": null,
            "visibility": null,
            "width": null
          }
        },
        "5900b868d9454f00aa065690f89ec3e8": {
          "model_module": "@jupyter-widgets/controls",
          "model_name": "TextModel",
          "model_module_version": "1.5.0",
          "state": {
            "_dom_classes": [],
            "_model_module": "@jupyter-widgets/controls",
            "_model_module_version": "1.5.0",
            "_model_name": "TextModel",
            "_view_count": null,
            "_view_module": "@jupyter-widgets/controls",
            "_view_module_version": "1.5.0",
            "_view_name": "TextView",
            "continuous_update": true,
            "description": "Input:",
            "description_tooltip": null,
            "disabled": false,
            "layout": "IPY_MODEL_8d889d8bb6b744a2bf74ce7d08a5fc91",
            "placeholder": "Sigma: {a,b}",
            "style": "IPY_MODEL_3a59e08946d64a1eb55126429f6b3f1f",
            "value": ""
          }
        },
        "cc4af0cb42c14a5cb1c61222111c3fa2": {
          "model_module": "@jupyter-widgets/controls",
          "model_name": "DropdownModel",
          "model_module_version": "1.5.0",
          "state": {
            "_dom_classes": [],
            "_model_module": "@jupyter-widgets/controls",
            "_model_module_version": "1.5.0",
            "_model_name": "DropdownModel",
            "_options_labels": [
              "State",
              "Stack"
            ],
            "_view_count": null,
            "_view_module": "@jupyter-widgets/controls",
            "_view_module_version": "1.5.0",
            "_view_name": "DropdownView",
            "description": "Acceptance:",
            "description_tooltip": null,
            "disabled": false,
            "index": 0,
            "layout": "IPY_MODEL_768dfe955f87422d9731f4800c0bf938",
            "style": "IPY_MODEL_ed1bf13e279d45dbb278bfdd50a6307d"
          }
        },
        "a87a277249b44df88e5b381153ed53d6": {
          "model_module": "@jupyter-widgets/controls",
          "model_name": "ButtonModel",
          "model_module_version": "1.5.0",
          "state": {
            "_dom_classes": [],
            "_model_module": "@jupyter-widgets/controls",
            "_model_module_version": "1.5.0",
            "_model_name": "ButtonModel",
            "_view_count": null,
            "_view_module": "@jupyter-widgets/controls",
            "_view_module_version": "1.5.0",
            "_view_name": "ButtonView",
            "button_style": "primary",
            "description": "Animate",
            "disabled": false,
            "icon": "",
            "layout": "IPY_MODEL_d4a8f1d60bd1403b9d2ca381a7ffd665",
            "style": "IPY_MODEL_b314c581ecdc432a85b9875df6dc4b35",
            "tooltip": ""
          }
        },
        "b40dc82cc6e44773ac2905f9c45df475": {
          "model_module": "@jupyter-widgets/base",
          "model_name": "LayoutModel",
          "model_module_version": "1.2.0",
          "state": {
            "_model_module": "@jupyter-widgets/base",
            "_model_module_version": "1.2.0",
            "_model_name": "LayoutModel",
            "_view_count": null,
            "_view_module": "@jupyter-widgets/base",
            "_view_module_version": "1.2.0",
            "_view_name": "LayoutView",
            "align_content": null,
            "align_items": null,
            "align_self": null,
            "border": null,
            "bottom": null,
            "display": null,
            "flex": null,
            "flex_flow": null,
            "grid_area": null,
            "grid_auto_columns": null,
            "grid_auto_flow": null,
            "grid_auto_rows": null,
            "grid_column": null,
            "grid_gap": null,
            "grid_row": null,
            "grid_template_areas": null,
            "grid_template_columns": null,
            "grid_template_rows": null,
            "height": null,
            "justify_content": null,
            "justify_items": null,
            "left": null,
            "margin": null,
            "max_height": null,
            "max_width": null,
            "min_height": null,
            "min_width": null,
            "object_fit": null,
            "object_position": null,
            "order": null,
            "overflow": null,
            "overflow_x": null,
            "overflow_y": null,
            "padding": null,
            "right": null,
            "top": null,
            "visibility": null,
            "width": null
          }
        },
        "25b63b684f584c71af8c1d5d3123db09": {
          "model_module": "@jupyter-widgets/controls",
          "model_name": "IntSliderModel",
          "model_module_version": "1.5.0",
          "state": {
            "_dom_classes": [],
            "_model_module": "@jupyter-widgets/controls",
            "_model_module_version": "1.5.0",
            "_model_name": "IntSliderModel",
            "_view_count": null,
            "_view_module": "@jupyter-widgets/controls",
            "_view_module_version": "1.5.0",
            "_view_name": "IntSliderView",
            "continuous_update": false,
            "description": "Stack Size:",
            "description_tooltip": null,
            "disabled": false,
            "layout": "IPY_MODEL_340817c250dd40ab984000d711254f72",
            "max": 30,
            "min": 2,
            "orientation": "horizontal",
            "readout": true,
            "readout_format": "d",
            "step": 1,
            "style": "IPY_MODEL_379a2098d1ac4c4da7069d20ef110d12",
            "value": 6
          }
        },
        "e3dae085b408438db3deabbefcb0ecb5": {
          "model_module": "@jupyter-widgets/base",
          "model_name": "LayoutModel",
          "model_module_version": "1.2.0",
          "state": {
            "_model_module": "@jupyter-widgets/base",
            "_model_module_version": "1.2.0",
            "_model_name": "LayoutModel",
            "_view_count": null,
            "_view_module": "@jupyter-widgets/base",
            "_view_module_version": "1.2.0",
            "_view_name": "LayoutView",
            "align_content": null,
            "align_items": null,
            "align_self": null,
            "border": null,
            "bottom": null,
            "display": null,
            "flex": null,
            "flex_flow": null,
            "grid_area": null,
            "grid_auto_columns": null,
            "grid_auto_flow": null,
            "grid_auto_rows": null,
            "grid_column": null,
            "grid_gap": null,
            "grid_row": null,
            "grid_template_areas": null,
            "grid_template_columns": null,
            "grid_template_rows": null,
            "height": null,
            "justify_content": null,
            "justify_items": null,
            "left": null,
            "margin": null,
            "max_height": null,
            "max_width": null,
            "min_height": null,
            "min_width": null,
            "object_fit": null,
            "object_position": null,
            "order": null,
            "overflow": null,
            "overflow_x": null,
            "overflow_y": null,
            "padding": null,
            "right": null,
            "top": null,
            "visibility": null,
            "width": null
          }
        },
        "550e40dcde484998a3d5d03a365efd5c": {
          "model_module": "@jupyter-widgets/output",
          "model_name": "OutputModel",
          "model_module_version": "1.0.0",
          "state": {
            "_dom_classes": [],
            "_model_module": "@jupyter-widgets/output",
            "_model_module_version": "1.0.0",
            "_model_name": "OutputModel",
            "_view_count": null,
            "_view_module": "@jupyter-widgets/output",
            "_view_module_version": "1.0.0",
            "_view_name": "OutputView",
            "layout": "IPY_MODEL_174f02361f76401d98a3485904ebd158",
            "msg_id": "",
            "outputs": [
              {
                "output_type": "display_data",
                "data": {
                  "image/svg+xml": "<?xml version=\"1.0\" encoding=\"UTF-8\" standalone=\"no\"?>\n<!DOCTYPE svg PUBLIC \"-//W3C//DTD SVG 1.1//EN\"\n \"http://www.w3.org/Graphics/SVG/1.1/DTD/svg11.dtd\">\n<!-- Generated by graphviz version 2.43.0 (0)\n -->\n<!-- Title: %3 Pages: 1 -->\n<svg width=\"89pt\" height=\"143pt\"\n viewBox=\"0.00 0.00 89.00 143.00\" xmlns=\"http://www.w3.org/2000/svg\" xmlns:xlink=\"http://www.w3.org/1999/xlink\">\n<g id=\"graph0\" class=\"graph\" transform=\"scale(1 1) rotate(0) translate(4 139)\">\n<title>%3</title>\n<polygon fill=\"white\" stroke=\"transparent\" points=\"-4,4 -4,-139 85,-139 85,4 -4,4\"/>\n<!-- stack -->\n<g id=\"node1\" class=\"node\">\n<title>stack</title>\n<polygon fill=\"none\" stroke=\"black\" points=\"56,-8.5 56,-134.5 81,-134.5 81,-8.5 56,-8.5\"/>\n<text text-anchor=\"middle\" x=\"68.5\" y=\"-120.9\" font-family=\"Times,serif\" font-size=\"12.00\"> </text>\n<polyline fill=\"none\" stroke=\"black\" points=\"56,-113.5 81,-113.5 \"/>\n<text text-anchor=\"middle\" x=\"68.5\" y=\"-99.9\" font-family=\"Times,serif\" font-size=\"12.00\"> </text>\n<polyline fill=\"none\" stroke=\"black\" points=\"56,-92.5 81,-92.5 \"/>\n<text text-anchor=\"middle\" x=\"68.5\" y=\"-78.9\" font-family=\"Times,serif\" font-size=\"12.00\"> </text>\n<polyline fill=\"none\" stroke=\"black\" points=\"56,-71.5 81,-71.5 \"/>\n<text text-anchor=\"middle\" x=\"68.5\" y=\"-57.9\" font-family=\"Times,serif\" font-size=\"12.00\"> </text>\n<polyline fill=\"none\" stroke=\"black\" points=\"56,-50.5 81,-50.5 \"/>\n<text text-anchor=\"middle\" x=\"68.5\" y=\"-36.9\" font-family=\"Times,serif\" font-size=\"12.00\"> </text>\n<polyline fill=\"none\" stroke=\"black\" points=\"56,-29.5 81,-29.5 \"/>\n<text text-anchor=\"middle\" x=\"68.5\" y=\"-15.9\" font-family=\"Times,serif\" font-size=\"12.00\"> </text>\n</g>\n<!-- Empty -->\n<g id=\"node2\" class=\"node\">\n<title>Empty</title>\n<polygon fill=\"none\" stroke=\"black\" stroke-width=\"0\" points=\"0,-0.5 0,-36.5 20,-36.5 20,-0.5 0,-0.5\"/>\n<text text-anchor=\"middle\" x=\"10\" y=\"-15.4\" font-family=\"Times,serif\" font-size=\"12.00\"> </text>\n</g>\n<!-- Empty&#45;&gt;stack -->\n<g id=\"edge1\" class=\"edge\">\n<title>Empty&#45;&gt;stack:top</title>\n<path fill=\"none\" stroke=\"black\" d=\"M20.31,-18.5C26.99,-18.5 36.45,-18.5 45.89,-18.5\"/>\n<polygon fill=\"black\" stroke=\"black\" points=\"46,-22 56,-18.5 46,-15 46,-22\"/>\n</g>\n</g>\n</svg>\n",
                  "text/plain": "<graphviz.sources.Source at 0x7f1f97908d00>"
                },
                "metadata": {}
              }
            ]
          }
        },
        "27fdba5794c748bfad935751987ca03c": {
          "model_module": "@jupyter-widgets/output",
          "model_name": "OutputModel",
          "model_module_version": "1.0.0",
          "state": {
            "_dom_classes": [],
            "_model_module": "@jupyter-widgets/output",
            "_model_module_version": "1.0.0",
            "_model_name": "OutputModel",
            "_view_count": null,
            "_view_module": "@jupyter-widgets/output",
            "_view_module_version": "1.0.0",
            "_view_name": "OutputView",
            "layout": "IPY_MODEL_769e9cc13aba401fa524ef4a175b7b92",
            "msg_id": "",
            "outputs": [
              {
                "output_type": "display_data",
                "data": {
                  "image/svg+xml": "<?xml version=\"1.0\" encoding=\"UTF-8\" standalone=\"no\"?>\n<!DOCTYPE svg PUBLIC \"-//W3C//DTD SVG 1.1//EN\"\n \"http://www.w3.org/Graphics/SVG/1.1/DTD/svg11.dtd\">\n<!-- Generated by graphviz version 2.43.0 (0)\n -->\n<!-- Title: %3 Pages: 1 -->\n<svg width=\"408pt\" height=\"102pt\"\n viewBox=\"0.00 0.00 408.39 101.54\" xmlns=\"http://www.w3.org/2000/svg\" xmlns:xlink=\"http://www.w3.org/1999/xlink\">\n<g id=\"graph0\" class=\"graph\" transform=\"scale(1 1) rotate(0) translate(4 97.54)\">\n<title>%3</title>\n<polygon fill=\"white\" stroke=\"transparent\" points=\"-4,4 -4,-97.54 404.39,-97.54 404.39,4 -4,4\"/>\n<!-- EMPTY -->\n<g id=\"node1\" class=\"node\">\n<title>EMPTY</title>\n</g>\n<!-- I_S0 -->\n<g id=\"node3\" class=\"node\">\n<title>I_S0</title>\n<ellipse fill=\"none\" stroke=\"black\" cx=\"118.3\" cy=\"-33.25\" rx=\"27.1\" ry=\"27.1\"/>\n<text text-anchor=\"middle\" x=\"118.3\" y=\"-29.55\" font-family=\"Times,serif\" font-size=\"14.00\">I_S0</text>\n</g>\n<!-- EMPTY&#45;&gt;I_S0 -->\n<g id=\"edge1\" class=\"edge\">\n<title>EMPTY&#45;&gt;I_S0</title>\n<path fill=\"none\" stroke=\"black\" d=\"M54.31,-33.25C62.59,-33.25 71.89,-33.25 80.76,-33.25\"/>\n<polygon fill=\"black\" stroke=\"black\" points=\"80.87,-36.75 90.87,-33.25 80.87,-29.75 80.87,-36.75\"/>\n</g>\n<!-- S1 -->\n<g id=\"node2\" class=\"node\">\n<title>S1</title>\n<ellipse fill=\"none\" stroke=\"black\" cx=\"238.74\" cy=\"-33.25\" rx=\"20.3\" ry=\"20.3\"/>\n<text text-anchor=\"middle\" x=\"238.74\" y=\"-29.55\" font-family=\"Times,serif\" font-size=\"14.00\">S1</text>\n</g>\n<!-- S1&#45;&gt;S1 -->\n<g id=\"edge4\" class=\"edge\">\n<title>S1&#45;&gt;S1</title>\n<path fill=\"none\" stroke=\"black\" d=\"M228.9,-50.91C226.71,-61.46 229.99,-71.4 238.74,-71.4 244.49,-71.4 247.87,-67.12 248.9,-61.19\"/>\n<polygon fill=\"black\" stroke=\"black\" points=\"252.39,-60.79 248.59,-50.91 245.4,-61.01 252.39,-60.79\"/>\n<text text-anchor=\"start\" x=\"218.74\" y=\"-75.2\" font-family=\"Times,serif\" font-size=\"14.00\"> b, a ; &#39;&#39;</text>\n</g>\n<!-- F_S2 -->\n<g id=\"node4\" class=\"node\">\n<title>F_S2</title>\n<ellipse fill=\"none\" stroke=\"black\" cx=\"367.14\" cy=\"-33.25\" rx=\"29.47\" ry=\"29.47\"/>\n<ellipse fill=\"none\" stroke=\"black\" cx=\"367.14\" cy=\"-33.25\" rx=\"33.5\" ry=\"33.5\"/>\n<text text-anchor=\"middle\" x=\"367.14\" y=\"-29.55\" font-family=\"Times,serif\" font-size=\"14.00\">F_S2</text>\n</g>\n<!-- S1&#45;&gt;F_S2 -->\n<g id=\"edge5\" class=\"edge\">\n<title>S1&#45;&gt;F_S2</title>\n<path fill=\"none\" stroke=\"black\" d=\"M258.94,-33.25C275.99,-33.25 301.53,-33.25 323.4,-33.25\"/>\n<polygon fill=\"black\" stroke=\"black\" points=\"323.46,-36.75 333.46,-33.25 323.46,-29.75 323.46,-36.75\"/>\n<text text-anchor=\"start\" x=\"276.89\" y=\"-37.05\" font-family=\"Times,serif\" font-size=\"14.00\"> &#39;&#39;, # ; &#39;&#39;</text>\n</g>\n<!-- I_S0&#45;&gt;S1 -->\n<g id=\"edge3\" class=\"edge\">\n<title>I_S0&#45;&gt;S1</title>\n<path fill=\"none\" stroke=\"black\" d=\"M145.88,-33.25C164.32,-33.25 188.91,-33.25 208.01,-33.25\"/>\n<polygon fill=\"black\" stroke=\"black\" points=\"208.25,-36.75 218.25,-33.25 208.25,-29.75 208.25,-36.75\"/>\n<text text-anchor=\"start\" x=\"163.6\" y=\"-37.05\" font-family=\"Times,serif\" font-size=\"14.00\"> &#39;&#39;, &#39;&#39; ; &#39;&#39;</text>\n</g>\n<!-- I_S0&#45;&gt;I_S0 -->\n<g id=\"edge2\" class=\"edge\">\n<title>I_S0&#45;&gt;I_S0</title>\n<path fill=\"none\" stroke=\"black\" d=\"M110.1,-59.31C109.63,-69.77 112.37,-78.54 118.3,-78.54 122.1,-78.54 124.58,-74.94 125.76,-69.61\"/>\n<polygon fill=\"black\" stroke=\"black\" points=\"129.27,-69.54 126.5,-59.31 122.29,-69.04 129.27,-69.54\"/>\n<text text-anchor=\"start\" x=\"95.3\" y=\"-82.34\" font-family=\"Times,serif\" font-size=\"14.00\"> a, &#39;&#39; ; aa</text>\n</g>\n</g>\n</svg>\n",
                  "text/plain": "<graphviz.sources.Source at 0x7f1f9790aef0>"
                },
                "metadata": {}
              }
            ]
          }
        },
        "454f31d3d8ab4844a534391803084c2c": {
          "model_module": "@jupyter-widgets/base",
          "model_name": "LayoutModel",
          "model_module_version": "1.2.0",
          "state": {
            "_model_module": "@jupyter-widgets/base",
            "_model_module_version": "1.2.0",
            "_model_name": "LayoutModel",
            "_view_count": null,
            "_view_module": "@jupyter-widgets/base",
            "_view_module_version": "1.2.0",
            "_view_name": "LayoutView",
            "align_content": null,
            "align_items": null,
            "align_self": null,
            "border": null,
            "bottom": null,
            "display": null,
            "flex": null,
            "flex_flow": null,
            "grid_area": null,
            "grid_auto_columns": null,
            "grid_auto_flow": null,
            "grid_auto_rows": null,
            "grid_column": null,
            "grid_gap": null,
            "grid_row": null,
            "grid_template_areas": null,
            "grid_template_columns": null,
            "grid_template_rows": null,
            "height": null,
            "justify_content": null,
            "justify_items": null,
            "left": null,
            "margin": null,
            "max_height": null,
            "max_width": null,
            "min_height": null,
            "min_width": null,
            "object_fit": null,
            "object_position": null,
            "order": null,
            "overflow": null,
            "overflow_x": null,
            "overflow_y": null,
            "padding": null,
            "right": null,
            "top": null,
            "visibility": null,
            "width": null
          }
        },
        "b473e24c231142b2a246c908ce5b0f84": {
          "model_module": "@jupyter-widgets/controls",
          "model_name": "DropdownModel",
          "model_module_version": "1.5.0",
          "state": {
            "_dom_classes": [],
            "_model_module": "@jupyter-widgets/controls",
            "_model_module_version": "1.5.0",
            "_model_name": "DropdownModel",
            "_options_labels": [],
            "_view_count": null,
            "_view_module": "@jupyter-widgets/controls",
            "_view_module_version": "1.5.0",
            "_view_name": "DropdownView",
            "description": "Path:",
            "description_tooltip": null,
            "disabled": true,
            "index": null,
            "layout": "IPY_MODEL_cc64787fb3314405a0b7e41cca54b713",
            "style": "IPY_MODEL_d560032e75f64977a0761a2445dca6df"
          }
        },
        "d03d415ebf1c4852be142fbe0fe4f8d6": {
          "model_module": "@jupyter-widgets/controls",
          "model_name": "PlayModel",
          "model_module_version": "1.5.0",
          "state": {
            "_dom_classes": [],
            "_model_module": "@jupyter-widgets/controls",
            "_model_module_version": "1.5.0",
            "_model_name": "PlayModel",
            "_playing": false,
            "_repeat": false,
            "_view_count": null,
            "_view_module": "@jupyter-widgets/controls",
            "_view_module_version": "1.5.0",
            "_view_name": "PlayView",
            "description": "Press play",
            "description_tooltip": null,
            "disabled": true,
            "interval": 950,
            "layout": "IPY_MODEL_9d4f5769743342b380ca8a68070b4aca",
            "max": 100,
            "min": 0,
            "show_repeat": true,
            "step": 1,
            "style": "IPY_MODEL_77781133894d47bdbee80758cee6da0b",
            "value": 0
          }
        },
        "7fd87916066448b387f16ddc1b58530f": {
          "model_module": "@jupyter-widgets/controls",
          "model_name": "ButtonModel",
          "model_module_version": "1.5.0",
          "state": {
            "_dom_classes": [],
            "_model_module": "@jupyter-widgets/controls",
            "_model_module_version": "1.5.0",
            "_model_name": "ButtonModel",
            "_view_count": null,
            "_view_module": "@jupyter-widgets/controls",
            "_view_module_version": "1.5.0",
            "_view_name": "ButtonView",
            "button_style": "",
            "description": "",
            "disabled": true,
            "icon": "step-backward",
            "layout": "IPY_MODEL_7fa4034874ac426d95ff8c3c2f886a25",
            "style": "IPY_MODEL_946495aa3042431d8141977053448930",
            "tooltip": ""
          }
        },
        "753fca91619344fabc5e5e225c72a174": {
          "model_module": "@jupyter-widgets/controls",
          "model_name": "ButtonModel",
          "model_module_version": "1.5.0",
          "state": {
            "_dom_classes": [],
            "_model_module": "@jupyter-widgets/controls",
            "_model_module_version": "1.5.0",
            "_model_name": "ButtonModel",
            "_view_count": null,
            "_view_module": "@jupyter-widgets/controls",
            "_view_module_version": "1.5.0",
            "_view_name": "ButtonView",
            "button_style": "",
            "description": "",
            "disabled": true,
            "icon": "step-forward",
            "layout": "IPY_MODEL_0f0ffd9544654706bf42a862f3ae497e",
            "style": "IPY_MODEL_7091a4bcb9bc451eb3958d7d1b08e852",
            "tooltip": ""
          }
        },
        "10c9cc9acf134cd7b1cdb0eec11c697d": {
          "model_module": "@jupyter-widgets/controls",
          "model_name": "IntSliderModel",
          "model_module_version": "1.5.0",
          "state": {
            "_dom_classes": [],
            "_model_module": "@jupyter-widgets/controls",
            "_model_module_version": "1.5.0",
            "_model_name": "IntSliderModel",
            "_view_count": null,
            "_view_module": "@jupyter-widgets/controls",
            "_view_module_version": "1.5.0",
            "_view_name": "IntSliderView",
            "continuous_update": false,
            "description": "Speed:",
            "description_tooltip": null,
            "disabled": true,
            "layout": "IPY_MODEL_8ec4efb5013b4f3c933946a608f49f08",
            "max": 10,
            "min": 1,
            "orientation": "horizontal",
            "readout": true,
            "readout_format": "d",
            "step": 1,
            "style": "IPY_MODEL_85411ad6bbb74de19f12292aeb20c706",
            "value": 1
          }
        },
        "9c2fca7620804287b82fce8c7cf26e0c": {
          "model_module": "@jupyter-widgets/base",
          "model_name": "LayoutModel",
          "model_module_version": "1.2.0",
          "state": {
            "_model_module": "@jupyter-widgets/base",
            "_model_module_version": "1.2.0",
            "_model_name": "LayoutModel",
            "_view_count": null,
            "_view_module": "@jupyter-widgets/base",
            "_view_module_version": "1.2.0",
            "_view_name": "LayoutView",
            "align_content": null,
            "align_items": null,
            "align_self": null,
            "border": null,
            "bottom": null,
            "display": null,
            "flex": null,
            "flex_flow": null,
            "grid_area": null,
            "grid_auto_columns": null,
            "grid_auto_flow": null,
            "grid_auto_rows": null,
            "grid_column": null,
            "grid_gap": null,
            "grid_row": null,
            "grid_template_areas": null,
            "grid_template_columns": null,
            "grid_template_rows": null,
            "height": null,
            "justify_content": null,
            "justify_items": null,
            "left": null,
            "margin": null,
            "max_height": null,
            "max_width": null,
            "min_height": null,
            "min_width": null,
            "object_fit": null,
            "object_position": null,
            "order": null,
            "overflow": null,
            "overflow_x": null,
            "overflow_y": null,
            "padding": null,
            "right": null,
            "top": null,
            "visibility": null,
            "width": null
          }
        },
        "8d889d8bb6b744a2bf74ce7d08a5fc91": {
          "model_module": "@jupyter-widgets/base",
          "model_name": "LayoutModel",
          "model_module_version": "1.2.0",
          "state": {
            "_model_module": "@jupyter-widgets/base",
            "_model_module_version": "1.2.0",
            "_model_name": "LayoutModel",
            "_view_count": null,
            "_view_module": "@jupyter-widgets/base",
            "_view_module_version": "1.2.0",
            "_view_name": "LayoutView",
            "align_content": null,
            "align_items": null,
            "align_self": null,
            "border": null,
            "bottom": null,
            "display": null,
            "flex": null,
            "flex_flow": null,
            "grid_area": null,
            "grid_auto_columns": null,
            "grid_auto_flow": null,
            "grid_auto_rows": null,
            "grid_column": null,
            "grid_gap": null,
            "grid_row": null,
            "grid_template_areas": null,
            "grid_template_columns": null,
            "grid_template_rows": null,
            "height": null,
            "justify_content": null,
            "justify_items": null,
            "left": null,
            "margin": null,
            "max_height": null,
            "max_width": null,
            "min_height": null,
            "min_width": null,
            "object_fit": null,
            "object_position": null,
            "order": null,
            "overflow": null,
            "overflow_x": null,
            "overflow_y": null,
            "padding": null,
            "right": null,
            "top": null,
            "visibility": null,
            "width": "500px"
          }
        },
        "3a59e08946d64a1eb55126429f6b3f1f": {
          "model_module": "@jupyter-widgets/controls",
          "model_name": "DescriptionStyleModel",
          "model_module_version": "1.5.0",
          "state": {
            "_model_module": "@jupyter-widgets/controls",
            "_model_module_version": "1.5.0",
            "_model_name": "DescriptionStyleModel",
            "_view_count": null,
            "_view_module": "@jupyter-widgets/base",
            "_view_module_version": "1.2.0",
            "_view_name": "StyleView",
            "description_width": ""
          }
        },
        "768dfe955f87422d9731f4800c0bf938": {
          "model_module": "@jupyter-widgets/base",
          "model_name": "LayoutModel",
          "model_module_version": "1.2.0",
          "state": {
            "_model_module": "@jupyter-widgets/base",
            "_model_module_version": "1.2.0",
            "_model_name": "LayoutModel",
            "_view_count": null,
            "_view_module": "@jupyter-widgets/base",
            "_view_module_version": "1.2.0",
            "_view_name": "LayoutView",
            "align_content": null,
            "align_items": null,
            "align_self": null,
            "border": null,
            "bottom": null,
            "display": null,
            "flex": null,
            "flex_flow": null,
            "grid_area": null,
            "grid_auto_columns": null,
            "grid_auto_flow": null,
            "grid_auto_rows": null,
            "grid_column": null,
            "grid_gap": null,
            "grid_row": null,
            "grid_template_areas": null,
            "grid_template_columns": null,
            "grid_template_rows": null,
            "height": null,
            "justify_content": null,
            "justify_items": null,
            "left": null,
            "margin": null,
            "max_height": null,
            "max_width": null,
            "min_height": null,
            "min_width": null,
            "object_fit": null,
            "object_position": null,
            "order": null,
            "overflow": null,
            "overflow_x": null,
            "overflow_y": null,
            "padding": null,
            "right": null,
            "top": null,
            "visibility": null,
            "width": "160px"
          }
        },
        "ed1bf13e279d45dbb278bfdd50a6307d": {
          "model_module": "@jupyter-widgets/controls",
          "model_name": "DescriptionStyleModel",
          "model_module_version": "1.5.0",
          "state": {
            "_model_module": "@jupyter-widgets/controls",
            "_model_module_version": "1.5.0",
            "_model_name": "DescriptionStyleModel",
            "_view_count": null,
            "_view_module": "@jupyter-widgets/base",
            "_view_module_version": "1.2.0",
            "_view_name": "StyleView",
            "description_width": ""
          }
        },
        "d4a8f1d60bd1403b9d2ca381a7ffd665": {
          "model_module": "@jupyter-widgets/base",
          "model_name": "LayoutModel",
          "model_module_version": "1.2.0",
          "state": {
            "_model_module": "@jupyter-widgets/base",
            "_model_module_version": "1.2.0",
            "_model_name": "LayoutModel",
            "_view_count": null,
            "_view_module": "@jupyter-widgets/base",
            "_view_module_version": "1.2.0",
            "_view_name": "LayoutView",
            "align_content": null,
            "align_items": null,
            "align_self": null,
            "border": null,
            "bottom": null,
            "display": null,
            "flex": null,
            "flex_flow": null,
            "grid_area": null,
            "grid_auto_columns": null,
            "grid_auto_flow": null,
            "grid_auto_rows": null,
            "grid_column": null,
            "grid_gap": null,
            "grid_row": null,
            "grid_template_areas": null,
            "grid_template_columns": null,
            "grid_template_rows": null,
            "height": null,
            "justify_content": null,
            "justify_items": null,
            "left": null,
            "margin": null,
            "max_height": null,
            "max_width": null,
            "min_height": null,
            "min_width": null,
            "object_fit": null,
            "object_position": null,
            "order": null,
            "overflow": null,
            "overflow_x": null,
            "overflow_y": null,
            "padding": null,
            "right": null,
            "top": null,
            "visibility": null,
            "width": null
          }
        },
        "b314c581ecdc432a85b9875df6dc4b35": {
          "model_module": "@jupyter-widgets/controls",
          "model_name": "ButtonStyleModel",
          "model_module_version": "1.5.0",
          "state": {
            "_model_module": "@jupyter-widgets/controls",
            "_model_module_version": "1.5.0",
            "_model_name": "ButtonStyleModel",
            "_view_count": null,
            "_view_module": "@jupyter-widgets/base",
            "_view_module_version": "1.2.0",
            "_view_name": "StyleView",
            "button_color": null,
            "font_weight": ""
          }
        },
        "340817c250dd40ab984000d711254f72": {
          "model_module": "@jupyter-widgets/base",
          "model_name": "LayoutModel",
          "model_module_version": "1.2.0",
          "state": {
            "_model_module": "@jupyter-widgets/base",
            "_model_module_version": "1.2.0",
            "_model_name": "LayoutModel",
            "_view_count": null,
            "_view_module": "@jupyter-widgets/base",
            "_view_module_version": "1.2.0",
            "_view_name": "LayoutView",
            "align_content": null,
            "align_items": null,
            "align_self": null,
            "border": null,
            "bottom": null,
            "display": null,
            "flex": null,
            "flex_flow": null,
            "grid_area": null,
            "grid_auto_columns": null,
            "grid_auto_flow": null,
            "grid_auto_rows": null,
            "grid_column": null,
            "grid_gap": null,
            "grid_row": null,
            "grid_template_areas": null,
            "grid_template_columns": null,
            "grid_template_rows": null,
            "height": null,
            "justify_content": null,
            "justify_items": null,
            "left": null,
            "margin": null,
            "max_height": null,
            "max_width": null,
            "min_height": null,
            "min_width": null,
            "object_fit": null,
            "object_position": null,
            "order": null,
            "overflow": null,
            "overflow_x": null,
            "overflow_y": null,
            "padding": null,
            "right": null,
            "top": null,
            "visibility": null,
            "width": null
          }
        },
        "379a2098d1ac4c4da7069d20ef110d12": {
          "model_module": "@jupyter-widgets/controls",
          "model_name": "SliderStyleModel",
          "model_module_version": "1.5.0",
          "state": {
            "_model_module": "@jupyter-widgets/controls",
            "_model_module_version": "1.5.0",
            "_model_name": "SliderStyleModel",
            "_view_count": null,
            "_view_module": "@jupyter-widgets/base",
            "_view_module_version": "1.2.0",
            "_view_name": "StyleView",
            "description_width": "",
            "handle_color": null
          }
        },
        "cc64787fb3314405a0b7e41cca54b713": {
          "model_module": "@jupyter-widgets/base",
          "model_name": "LayoutModel",
          "model_module_version": "1.2.0",
          "state": {
            "_model_module": "@jupyter-widgets/base",
            "_model_module_version": "1.2.0",
            "_model_name": "LayoutModel",
            "_view_count": null,
            "_view_module": "@jupyter-widgets/base",
            "_view_module_version": "1.2.0",
            "_view_name": "LayoutView",
            "align_content": null,
            "align_items": null,
            "align_self": null,
            "border": null,
            "bottom": null,
            "display": null,
            "flex": null,
            "flex_flow": null,
            "grid_area": null,
            "grid_auto_columns": null,
            "grid_auto_flow": null,
            "grid_auto_rows": null,
            "grid_column": null,
            "grid_gap": null,
            "grid_row": null,
            "grid_template_areas": null,
            "grid_template_columns": null,
            "grid_template_rows": null,
            "height": null,
            "justify_content": null,
            "justify_items": null,
            "left": null,
            "margin": null,
            "max_height": null,
            "max_width": null,
            "min_height": null,
            "min_width": null,
            "object_fit": null,
            "object_position": null,
            "order": null,
            "overflow": null,
            "overflow_x": null,
            "overflow_y": null,
            "padding": null,
            "right": null,
            "top": null,
            "visibility": null,
            "width": "200px"
          }
        },
        "d560032e75f64977a0761a2445dca6df": {
          "model_module": "@jupyter-widgets/controls",
          "model_name": "DescriptionStyleModel",
          "model_module_version": "1.5.0",
          "state": {
            "_model_module": "@jupyter-widgets/controls",
            "_model_module_version": "1.5.0",
            "_model_name": "DescriptionStyleModel",
            "_view_count": null,
            "_view_module": "@jupyter-widgets/base",
            "_view_module_version": "1.2.0",
            "_view_name": "StyleView",
            "description_width": ""
          }
        },
        "9d4f5769743342b380ca8a68070b4aca": {
          "model_module": "@jupyter-widgets/base",
          "model_name": "LayoutModel",
          "model_module_version": "1.2.0",
          "state": {
            "_model_module": "@jupyter-widgets/base",
            "_model_module_version": "1.2.0",
            "_model_name": "LayoutModel",
            "_view_count": null,
            "_view_module": "@jupyter-widgets/base",
            "_view_module_version": "1.2.0",
            "_view_name": "LayoutView",
            "align_content": null,
            "align_items": null,
            "align_self": null,
            "border": null,
            "bottom": null,
            "display": null,
            "flex": null,
            "flex_flow": null,
            "grid_area": null,
            "grid_auto_columns": null,
            "grid_auto_flow": null,
            "grid_auto_rows": null,
            "grid_column": null,
            "grid_gap": null,
            "grid_row": null,
            "grid_template_areas": null,
            "grid_template_columns": null,
            "grid_template_rows": null,
            "height": null,
            "justify_content": null,
            "justify_items": null,
            "left": null,
            "margin": null,
            "max_height": null,
            "max_width": null,
            "min_height": null,
            "min_width": null,
            "object_fit": null,
            "object_position": null,
            "order": null,
            "overflow": null,
            "overflow_x": null,
            "overflow_y": null,
            "padding": null,
            "right": null,
            "top": null,
            "visibility": null,
            "width": null
          }
        },
        "77781133894d47bdbee80758cee6da0b": {
          "model_module": "@jupyter-widgets/controls",
          "model_name": "DescriptionStyleModel",
          "model_module_version": "1.5.0",
          "state": {
            "_model_module": "@jupyter-widgets/controls",
            "_model_module_version": "1.5.0",
            "_model_name": "DescriptionStyleModel",
            "_view_count": null,
            "_view_module": "@jupyter-widgets/base",
            "_view_module_version": "1.2.0",
            "_view_name": "StyleView",
            "description_width": ""
          }
        },
        "7fa4034874ac426d95ff8c3c2f886a25": {
          "model_module": "@jupyter-widgets/base",
          "model_name": "LayoutModel",
          "model_module_version": "1.2.0",
          "state": {
            "_model_module": "@jupyter-widgets/base",
            "_model_module_version": "1.2.0",
            "_model_name": "LayoutModel",
            "_view_count": null,
            "_view_module": "@jupyter-widgets/base",
            "_view_module_version": "1.2.0",
            "_view_name": "LayoutView",
            "align_content": null,
            "align_items": null,
            "align_self": null,
            "border": null,
            "bottom": null,
            "display": null,
            "flex": null,
            "flex_flow": null,
            "grid_area": null,
            "grid_auto_columns": null,
            "grid_auto_flow": null,
            "grid_auto_rows": null,
            "grid_column": null,
            "grid_gap": null,
            "grid_row": null,
            "grid_template_areas": null,
            "grid_template_columns": null,
            "grid_template_rows": null,
            "height": null,
            "justify_content": null,
            "justify_items": null,
            "left": null,
            "margin": null,
            "max_height": null,
            "max_width": null,
            "min_height": null,
            "min_width": null,
            "object_fit": null,
            "object_position": null,
            "order": null,
            "overflow": null,
            "overflow_x": null,
            "overflow_y": null,
            "padding": null,
            "right": null,
            "top": null,
            "visibility": null,
            "width": "40px"
          }
        },
        "946495aa3042431d8141977053448930": {
          "model_module": "@jupyter-widgets/controls",
          "model_name": "ButtonStyleModel",
          "model_module_version": "1.5.0",
          "state": {
            "_model_module": "@jupyter-widgets/controls",
            "_model_module_version": "1.5.0",
            "_model_name": "ButtonStyleModel",
            "_view_count": null,
            "_view_module": "@jupyter-widgets/base",
            "_view_module_version": "1.2.0",
            "_view_name": "StyleView",
            "button_color": null,
            "font_weight": ""
          }
        },
        "0f0ffd9544654706bf42a862f3ae497e": {
          "model_module": "@jupyter-widgets/base",
          "model_name": "LayoutModel",
          "model_module_version": "1.2.0",
          "state": {
            "_model_module": "@jupyter-widgets/base",
            "_model_module_version": "1.2.0",
            "_model_name": "LayoutModel",
            "_view_count": null,
            "_view_module": "@jupyter-widgets/base",
            "_view_module_version": "1.2.0",
            "_view_name": "LayoutView",
            "align_content": null,
            "align_items": null,
            "align_self": null,
            "border": null,
            "bottom": null,
            "display": null,
            "flex": null,
            "flex_flow": null,
            "grid_area": null,
            "grid_auto_columns": null,
            "grid_auto_flow": null,
            "grid_auto_rows": null,
            "grid_column": null,
            "grid_gap": null,
            "grid_row": null,
            "grid_template_areas": null,
            "grid_template_columns": null,
            "grid_template_rows": null,
            "height": null,
            "justify_content": null,
            "justify_items": null,
            "left": null,
            "margin": null,
            "max_height": null,
            "max_width": null,
            "min_height": null,
            "min_width": null,
            "object_fit": null,
            "object_position": null,
            "order": null,
            "overflow": null,
            "overflow_x": null,
            "overflow_y": null,
            "padding": null,
            "right": null,
            "top": null,
            "visibility": null,
            "width": "40px"
          }
        },
        "7091a4bcb9bc451eb3958d7d1b08e852": {
          "model_module": "@jupyter-widgets/controls",
          "model_name": "ButtonStyleModel",
          "model_module_version": "1.5.0",
          "state": {
            "_model_module": "@jupyter-widgets/controls",
            "_model_module_version": "1.5.0",
            "_model_name": "ButtonStyleModel",
            "_view_count": null,
            "_view_module": "@jupyter-widgets/base",
            "_view_module_version": "1.2.0",
            "_view_name": "StyleView",
            "button_color": null,
            "font_weight": ""
          }
        },
        "8ec4efb5013b4f3c933946a608f49f08": {
          "model_module": "@jupyter-widgets/base",
          "model_name": "LayoutModel",
          "model_module_version": "1.2.0",
          "state": {
            "_model_module": "@jupyter-widgets/base",
            "_model_module_version": "1.2.0",
            "_model_name": "LayoutModel",
            "_view_count": null,
            "_view_module": "@jupyter-widgets/base",
            "_view_module_version": "1.2.0",
            "_view_name": "LayoutView",
            "align_content": null,
            "align_items": null,
            "align_self": null,
            "border": null,
            "bottom": null,
            "display": null,
            "flex": null,
            "flex_flow": null,
            "grid_area": null,
            "grid_auto_columns": null,
            "grid_auto_flow": null,
            "grid_auto_rows": null,
            "grid_column": null,
            "grid_gap": null,
            "grid_row": null,
            "grid_template_areas": null,
            "grid_template_columns": null,
            "grid_template_rows": null,
            "height": null,
            "justify_content": null,
            "justify_items": null,
            "left": null,
            "margin": null,
            "max_height": null,
            "max_width": null,
            "min_height": null,
            "min_width": null,
            "object_fit": null,
            "object_position": null,
            "order": null,
            "overflow": null,
            "overflow_x": null,
            "overflow_y": null,
            "padding": null,
            "right": null,
            "top": null,
            "visibility": null,
            "width": null
          }
        },
        "85411ad6bbb74de19f12292aeb20c706": {
          "model_module": "@jupyter-widgets/controls",
          "model_name": "SliderStyleModel",
          "model_module_version": "1.5.0",
          "state": {
            "_model_module": "@jupyter-widgets/controls",
            "_model_module_version": "1.5.0",
            "_model_name": "SliderStyleModel",
            "_view_count": null,
            "_view_module": "@jupyter-widgets/base",
            "_view_module_version": "1.2.0",
            "_view_name": "StyleView",
            "description_width": "",
            "handle_color": null
          }
        },
        "9ef04f1f16104b4aa54fac9ab4f96a16": {
          "model_module": "@jupyter-widgets/base",
          "model_name": "LayoutModel",
          "model_module_version": "1.2.0",
          "state": {
            "_model_module": "@jupyter-widgets/base",
            "_model_module_version": "1.2.0",
            "_model_name": "LayoutModel",
            "_view_count": null,
            "_view_module": "@jupyter-widgets/base",
            "_view_module_version": "1.2.0",
            "_view_name": "LayoutView",
            "align_content": null,
            "align_items": null,
            "align_self": null,
            "border": null,
            "bottom": null,
            "display": null,
            "flex": null,
            "flex_flow": null,
            "grid_area": null,
            "grid_auto_columns": null,
            "grid_auto_flow": null,
            "grid_auto_rows": null,
            "grid_column": null,
            "grid_gap": null,
            "grid_row": null,
            "grid_template_areas": null,
            "grid_template_columns": null,
            "grid_template_rows": null,
            "height": null,
            "justify_content": null,
            "justify_items": null,
            "left": null,
            "margin": null,
            "max_height": null,
            "max_width": null,
            "min_height": null,
            "min_width": null,
            "object_fit": null,
            "object_position": null,
            "order": null,
            "overflow": null,
            "overflow_x": null,
            "overflow_y": null,
            "padding": null,
            "right": null,
            "top": null,
            "visibility": null,
            "width": null
          }
        },
        "021db329d18b4c90a9482f34d6e4ce0d": {
          "model_module": "@jupyter-widgets/base",
          "model_name": "LayoutModel",
          "model_module_version": "1.2.0",
          "state": {
            "_model_module": "@jupyter-widgets/base",
            "_model_module_version": "1.2.0",
            "_model_name": "LayoutModel",
            "_view_count": null,
            "_view_module": "@jupyter-widgets/base",
            "_view_module_version": "1.2.0",
            "_view_name": "LayoutView",
            "align_content": null,
            "align_items": null,
            "align_self": null,
            "border": null,
            "bottom": null,
            "display": null,
            "flex": null,
            "flex_flow": null,
            "grid_area": null,
            "grid_auto_columns": null,
            "grid_auto_flow": null,
            "grid_auto_rows": null,
            "grid_column": null,
            "grid_gap": null,
            "grid_row": null,
            "grid_template_areas": null,
            "grid_template_columns": null,
            "grid_template_rows": null,
            "height": null,
            "justify_content": null,
            "justify_items": null,
            "left": null,
            "margin": null,
            "max_height": null,
            "max_width": null,
            "min_height": null,
            "min_width": null,
            "object_fit": null,
            "object_position": null,
            "order": null,
            "overflow": null,
            "overflow_x": null,
            "overflow_y": null,
            "padding": null,
            "right": null,
            "top": null,
            "visibility": null,
            "width": null
          }
        },
        "2148fdaaeffa464f8f341a344ab79484": {
          "model_module": "@jupyter-widgets/base",
          "model_name": "LayoutModel",
          "model_module_version": "1.2.0",
          "state": {
            "_model_module": "@jupyter-widgets/base",
            "_model_module_version": "1.2.0",
            "_model_name": "LayoutModel",
            "_view_count": null,
            "_view_module": "@jupyter-widgets/base",
            "_view_module_version": "1.2.0",
            "_view_name": "LayoutView",
            "align_content": null,
            "align_items": null,
            "align_self": null,
            "border": null,
            "bottom": null,
            "display": null,
            "flex": null,
            "flex_flow": null,
            "grid_area": null,
            "grid_auto_columns": null,
            "grid_auto_flow": null,
            "grid_auto_rows": null,
            "grid_column": null,
            "grid_gap": null,
            "grid_row": null,
            "grid_template_areas": null,
            "grid_template_columns": null,
            "grid_template_rows": null,
            "height": null,
            "justify_content": null,
            "justify_items": null,
            "left": null,
            "margin": null,
            "max_height": null,
            "max_width": null,
            "min_height": null,
            "min_width": null,
            "object_fit": null,
            "object_position": null,
            "order": null,
            "overflow": null,
            "overflow_x": null,
            "overflow_y": null,
            "padding": null,
            "right": null,
            "top": null,
            "visibility": null,
            "width": null
          }
        },
        "174f02361f76401d98a3485904ebd158": {
          "model_module": "@jupyter-widgets/base",
          "model_name": "LayoutModel",
          "model_module_version": "1.2.0",
          "state": {
            "_model_module": "@jupyter-widgets/base",
            "_model_module_version": "1.2.0",
            "_model_name": "LayoutModel",
            "_view_count": null,
            "_view_module": "@jupyter-widgets/base",
            "_view_module_version": "1.2.0",
            "_view_name": "LayoutView",
            "align_content": null,
            "align_items": null,
            "align_self": null,
            "border": null,
            "bottom": null,
            "display": null,
            "flex": null,
            "flex_flow": null,
            "grid_area": null,
            "grid_auto_columns": null,
            "grid_auto_flow": null,
            "grid_auto_rows": null,
            "grid_column": null,
            "grid_gap": null,
            "grid_row": null,
            "grid_template_areas": null,
            "grid_template_columns": null,
            "grid_template_rows": null,
            "height": null,
            "justify_content": null,
            "justify_items": null,
            "left": null,
            "margin": null,
            "max_height": null,
            "max_width": null,
            "min_height": null,
            "min_width": null,
            "object_fit": null,
            "object_position": null,
            "order": null,
            "overflow": null,
            "overflow_x": null,
            "overflow_y": null,
            "padding": null,
            "right": null,
            "top": null,
            "visibility": null,
            "width": null
          }
        },
        "769e9cc13aba401fa524ef4a175b7b92": {
          "model_module": "@jupyter-widgets/base",
          "model_name": "LayoutModel",
          "model_module_version": "1.2.0",
          "state": {
            "_model_module": "@jupyter-widgets/base",
            "_model_module_version": "1.2.0",
            "_model_name": "LayoutModel",
            "_view_count": null,
            "_view_module": "@jupyter-widgets/base",
            "_view_module_version": "1.2.0",
            "_view_name": "LayoutView",
            "align_content": null,
            "align_items": null,
            "align_self": null,
            "border": null,
            "bottom": null,
            "display": null,
            "flex": null,
            "flex_flow": null,
            "grid_area": null,
            "grid_auto_columns": null,
            "grid_auto_flow": null,
            "grid_auto_rows": null,
            "grid_column": null,
            "grid_gap": null,
            "grid_row": null,
            "grid_template_areas": null,
            "grid_template_columns": null,
            "grid_template_rows": null,
            "height": null,
            "justify_content": null,
            "justify_items": null,
            "left": null,
            "margin": null,
            "max_height": null,
            "max_width": null,
            "min_height": null,
            "min_width": null,
            "object_fit": null,
            "object_position": null,
            "order": null,
            "overflow": null,
            "overflow_x": null,
            "overflow_y": null,
            "padding": null,
            "right": null,
            "top": null,
            "visibility": null,
            "width": null
          }
        }
      }
    }
  },
  "nbformat": 4,
  "nbformat_minor": 0
}