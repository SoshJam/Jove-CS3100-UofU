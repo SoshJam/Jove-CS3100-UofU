{
  "cells": [
    {
      "cell_type": "markdown",
      "metadata": {
        "id": "view-in-github",
        "colab_type": "text"
      },
      "source": [
        "<a href=\"https://colab.research.google.com/github/ganeshutah/Jove/blob/master/For_CS3100_Fall2024/MT1/MiddleThird.ipynb\" target=\"_parent\"><img src=\"https://colab.research.google.com/assets/colab-badge.svg\" alt=\"Open In Colab\"/></a>"
      ]
    },
    {
      "cell_type": "code",
      "execution_count": 1,
      "metadata": {
        "run_control": {
          "frozen": false,
          "read_only": false
        },
        "id": "xPwIhPL-aGbn",
        "outputId": "1531fe81-ef80-4291-c98a-d49fae42c645",
        "colab": {
          "base_uri": "https://localhost:8080/"
        }
      },
      "outputs": [
        {
          "output_type": "stream",
          "name": "stdout",
          "text": [
            "You may use any of these help commands:\n",
            "help(ResetStNum)\n",
            "help(NxtStateStr)\n",
            "\n",
            "You may use any of these help commands:\n",
            "help(md2mc)\n",
            ".. and if you want to dig more, then ..\n",
            "help(default_line_attr)\n",
            "help(length_ok_input_items)\n",
            "help(union_line_attr_list_fld)\n",
            "help(extend_rsltdict)\n",
            "help(form_delta)\n",
            "help(get_machine_components)\n",
            "\n",
            "You may use any of these help commands:\n",
            "help(mkp_dfa)\n",
            "help(mk_dfa)\n",
            "help(totalize_dfa)\n",
            "help(addtosigma_delta)\n",
            "help(step_dfa)\n",
            "help(run_dfa)\n",
            "help(accepts_dfa)\n",
            "help(comp_dfa)\n",
            "help(flTup)\n",
            "help(union_dfa)\n",
            "help(intersect_dfa)\n",
            "help(pruneUnreach)\n",
            "help(iso_dfa)\n",
            "help(langeq_dfa)\n",
            "help(same_status)\n",
            "help(h_langeq_dfa)\n",
            "help(fixptDist)\n",
            "help(min_dfa)\n",
            "help(pairFR)\n",
            "help(state_combos)\n",
            "help(sepFinNonFin)\n",
            "help(bash_eql_classes)\n",
            "help(listminus)\n",
            "help(bash_1)\n",
            "help(mk_rep_eqc)\n",
            "help(F_of)\n",
            "help(rep_of_s)\n",
            "help(q0_of)\n",
            "help(Delta_of)\n",
            "help(mk_state_eqc_name)\n",
            "\n",
            "You may use any of these help commands:\n",
            "help(mk_nfa)\n",
            "help(totalize_nfa)\n",
            "help(step_nfa)\n",
            "help(run_nfa)\n",
            "help(ec_step_nfa)\n",
            "help(Eclosure)\n",
            "help(Echelp)\n",
            "help(accepts_nfa)\n",
            "help(nfa2dfa)\n",
            "help(n2d)\n",
            "help(inSets)\n",
            "help(rev_dfa)\n",
            "help(min_dfa_brz)\n",
            "\n",
            "You may use any of these help commands:\n",
            "help(re2nfa)\n",
            "\n",
            "You may use any of these help commands:\n",
            "help(lphi)\n",
            "help(lunit)\n",
            "help(lcat)\n",
            "help(lexp)\n",
            "help(lunion)\n",
            "help(lstar)\n",
            "help(srev)\n",
            "help(lrev)\n",
            "help(shomo)\n",
            "help(lhomo)\n",
            "help(powset)\n",
            "help(lint)\n",
            "help(lsymdiff)\n",
            "help(lminus)\n",
            "help(lissubset)\n",
            "help(lissuperset)\n",
            "help(lcomplem)\n",
            "help(product)\n",
            "help(nthnumeric)\n",
            "\n",
            "You may use any of these help commands:\n",
            "help(RE2Str)\n",
            "help(mk_gnfa)\n",
            "help(mk_gnfa_from_D)\n",
            "help(dfa2nfa)\n",
            "help(del_gnfa_states)\n",
            "help(gnfa_w_REStr)\n",
            "help(del_one_gnfa_state)\n",
            "help(Edges_Exist_Via)\n",
            "help(choose_state_to_del)\n",
            "help(form_alt_RE)\n",
            "help(form_concat_RE)\n",
            "help(form_kleene_RE)\n",
            "\n"
          ]
        }
      ],
      "source": [
        "#~~~~~~~~~~~~~~~~~~~~~~~~~~~~~~~~~~~~~~~~~~~~~~~~~~~~~~~\n",
        "import sys\n",
        "\n",
        "# -- Detect if in Own Install or in Colab\n",
        "try:\n",
        "    import google.colab\n",
        "    OWN_INSTALL = False\n",
        "except:\n",
        "    OWN_INSTALL = True\n",
        "\n",
        "if OWN_INSTALL:\n",
        "\n",
        "  #---- Leave these definitions ON if running on laptop\n",
        "  #---- Else turn OFF by putting them between ''' ... '''\n",
        "\n",
        "  sys.path[0:0] = ['../../../../..',  '../../../../../3rdparty',\n",
        "                   '../../../..',  '../../../../3rdparty',\n",
        "                   '../../..',     '../../../3rdparty',\n",
        "                   '../..',        '../../3rdparty',\n",
        "                   '..',           '../3rdparty' ]\n",
        "\n",
        "else: # In colab\n",
        "  ! if [ ! -d Jove ]; then git clone https://github.com/ganeshutah/Jove Jove; fi\n",
        "  sys.path.append('./Jove')\n",
        "  sys.path.append('./Jove/jove')\n",
        "\n",
        "# -- common imports --\n",
        "from jove.DotBashers import *\n",
        "from jove.Def_md2mc  import *\n",
        "from jove.Def_DFA    import *\n",
        "from jove.Def_NFA    import *\n",
        "from jove.Def_RE2NFA import *\n",
        "from jove.LangDef    import *  # for testing DFA actions using nthnumeric if needed\n",
        "from jove.Def_NFA2RE import *\n",
        "#~~~~~~~~~~~~~~~~~~~~~~~~~~~~~~~~~~~~~~~~~~~~~~~~~~~~~~~"
      ]
    },
    {
      "cell_type": "markdown",
      "source": [
        "## Please read Exercise 7.5 starting Page 88. The Middle-Third construction begins on Page 89.\n",
        "\n",
        "## This is a starter for the code where I discuss the \"middle third\" construction in the NFA section.\n",
        "\n",
        "### Your extra-credit part (please do it on your own; don't ask fellow students, but ask us! please don't look online)\n",
        "\n",
        "### Please design a \"first half\" language - FirstHalf is the name of the language.\n",
        "\n",
        "#### * Specifically, generate a way to generate a (new) DFA (call it DFAnew) with respect to a given DFA (call it DFAin)\n",
        "\n",
        "#### * I call the output BigDFA in the construction below\n",
        "\n",
        "#### - BigDFA's language should be all \"x\" such that \"xy\" is in the language of DFAin where length(x) = length(y)\n",
        "\n",
        "### * What to submit\n",
        "\n",
        "#### - A fresh notebook - feel free to name variables better\n",
        "\n",
        "#### - The final output ought to be a good set of tests (if a test \"spins\", quit that run by hitting the stop) and make a note\n",
        "\n",
        "#### - At least nine (9) passing (finishing) and interesting languages ought to be included where the \"halves\" are verifiable.\n",
        "\n",
        "#### - The RE4 below ran too long for middle-third but a similar run may finish for the first-half\n",
        "\n",
        "##  * I PROVIDE A FEW TEST STRINGS YOU MUST INCLUDE (say 3 or 4 if all pass). You may plz provide enough to meet the quote of 9 asked (10 would be nice too). 11 is not needed since you want to make it \"interesting\" - not repetitive\n",
        "\n",
        "### - You must document all the steps precisely as in the textbook, using that style and length as a guideline\n",
        "\n",
        "### - The documentation can be alongside the Q,Sigma,delta,q0,F aspects, spending more space around delta. Need not be bloated - just precise and up to the point.\n",
        "\n",
        "### * As a closing narrative, try to write a mathematical description of your work and your observations on the construction, pointing out what you learned. About a page of a standard paper format is good. Uploading an Overleaf-typeset (or other software) as a PDF upload would be expected.\n",
        "\n",
        "### * Upload also your finished and executed notebook\n",
        "\n",
        "## We will grade based on (1) the code working (70 percent) and documentation (30 percent)\n",
        "\n",
        "#### Look for starter RE strings for FirstHalf below\n"
      ],
      "metadata": {
        "id": "ntzqZSZEEsce"
      }
    },
    {
      "cell_type": "code",
      "source": [
        "# FOR YOUR FirstHalf language\n",
        "\n",
        "RE1_FirstHalf = \"aabb\"\n",
        "\n",
        "RE2_FirstHalf = \"a*\"\n",
        "\n",
        "RE3_FirstHalf = \"a*b*\" # Try and see if this finishes and if so interpret\n",
        "\n",
        "RE4_FirstHalf = \"(ab) + (aabb)\"\n",
        "\n",
        "# ----\n",
        "\n",
        "# MiddleThird of a DFA\n",
        "\n",
        "RE1 = \"aabbcc\"\n",
        "\n",
        "RE2 = \"a*\"\n",
        "\n",
        "RE3 = \"(aa)(bb)(cc)+abc\"\n",
        "\n",
        "RE4 = \"abcabcabc\"\n",
        "\n",
        "\n",
        "REin = RE3\n",
        "\n",
        "DFAin = min_dfa(nfa2dfa(re2nfa(REin)))"
      ],
      "metadata": {
        "id": "Atw_Lv14xxk0"
      },
      "execution_count": 2,
      "outputs": []
    },
    {
      "cell_type": "code",
      "source": [
        "#DFAin"
      ],
      "metadata": {
        "id": "imwArMIx9HS_"
      },
      "execution_count": 3,
      "outputs": []
    },
    {
      "cell_type": "code",
      "source": [],
      "metadata": {
        "id": "51tjvSRp9ISj"
      },
      "execution_count": 3,
      "outputs": []
    },
    {
      "cell_type": "code",
      "source": [
        "#ntest = re2nfa(\"a*\")"
      ],
      "metadata": {
        "id": "Ha0racd7ztrZ"
      },
      "execution_count": 4,
      "outputs": []
    },
    {
      "cell_type": "code",
      "source": [
        "#ntest"
      ],
      "metadata": {
        "id": "KfFmvsy6zxtp"
      },
      "execution_count": 5,
      "outputs": []
    },
    {
      "cell_type": "code",
      "source": [
        "#dd = dict({ (a,'b') : set({p,'q'})   for a in ['1','2'] for p in ['11','22']} )"
      ],
      "metadata": {
        "id": "u3E46EQ63lFo"
      },
      "execution_count": 6,
      "outputs": []
    },
    {
      "cell_type": "code",
      "source": [
        "#dd[ ('1','b')]"
      ],
      "metadata": {
        "id": "ARq41cIT31Ab"
      },
      "execution_count": 7,
      "outputs": []
    },
    {
      "cell_type": "code",
      "source": [
        "dotObj_dfa(DFAin)"
      ],
      "metadata": {
        "id": "t5y7PdEeyGYp",
        "outputId": "0f556315-861d-4e2f-b7c0-1551f34fc8be",
        "colab": {
          "base_uri": "https://localhost:8080/",
          "height": 161
        }
      },
      "execution_count": 8,
      "outputs": [
        {
          "output_type": "execute_result",
          "data": {
            "image/svg+xml": "<?xml version=\"1.0\" encoding=\"UTF-8\" standalone=\"no\"?>\n<!DOCTYPE svg PUBLIC \"-//W3C//DTD SVG 1.1//EN\"\n \"http://www.w3.org/Graphics/SVG/1.1/DTD/svg11.dtd\">\n<!-- Generated by graphviz version 2.43.0 (0)\n -->\n<!-- Title: %3 Pages: 1 -->\n<svg width=\"703pt\" height=\"105pt\"\n viewBox=\"0.00 0.00 703.47 104.75\" xmlns=\"http://www.w3.org/2000/svg\" xmlns:xlink=\"http://www.w3.org/1999/xlink\">\n<g id=\"graph0\" class=\"graph\" transform=\"scale(1 1) rotate(0) translate(4 100.75)\">\n<title>%3</title>\n<polygon fill=\"white\" stroke=\"transparent\" points=\"-4,4 -4,-100.75 699.47,-100.75 699.47,4 -4,4\"/>\n<!-- EMPTY -->\n<g id=\"node1\" class=\"node\">\n<title>EMPTY</title>\n</g>\n<!-- St1 -->\n<g id=\"node6\" class=\"node\">\n<title>St1</title>\n<ellipse fill=\"none\" stroke=\"black\" cx=\"113.75\" cy=\"-56.75\" rx=\"23\" ry=\"23\"/>\n<text text-anchor=\"middle\" x=\"113.75\" y=\"-53.05\" font-family=\"Times,serif\" font-size=\"14.00\">St1</text>\n</g>\n<!-- EMPTY&#45;&gt;St1 -->\n<g id=\"edge1\" class=\"edge\">\n<title>EMPTY&#45;&gt;St1</title>\n<path fill=\"none\" stroke=\"black\" d=\"M54.35,-56.75C62.71,-56.75 72.05,-56.75 80.76,-56.75\"/>\n<polygon fill=\"black\" stroke=\"black\" points=\"80.97,-60.25 90.97,-56.75 80.97,-53.25 80.97,-60.25\"/>\n</g>\n<!-- St9 -->\n<g id=\"node2\" class=\"node\">\n<title>St9</title>\n<ellipse fill=\"none\" stroke=\"black\" cx=\"481.73\" cy=\"-28.75\" rx=\"23\" ry=\"23\"/>\n<text text-anchor=\"middle\" x=\"481.73\" y=\"-25.05\" font-family=\"Times,serif\" font-size=\"14.00\">St9</text>\n</g>\n<!-- St5 -->\n<g id=\"node4\" class=\"node\">\n<title>St5</title>\n<ellipse fill=\"none\" stroke=\"black\" cx=\"573.23\" cy=\"-56.75\" rx=\"23\" ry=\"23\"/>\n<text text-anchor=\"middle\" x=\"573.23\" y=\"-53.05\" font-family=\"Times,serif\" font-size=\"14.00\">St5</text>\n</g>\n<!-- St9&#45;&gt;St5 -->\n<g id=\"edge8\" class=\"edge\">\n<title>St9&#45;&gt;St5</title>\n<path fill=\"none\" stroke=\"black\" d=\"M503.94,-35.38C515.09,-38.87 528.96,-43.21 541.28,-47.06\"/>\n<polygon fill=\"black\" stroke=\"black\" points=\"540.58,-50.51 551.17,-50.16 542.67,-43.83 540.58,-50.51\"/>\n<text text-anchor=\"middle\" x=\"527.48\" y=\"-47.55\" font-family=\"Times,serif\" font-size=\"14.00\">c </text>\n</g>\n<!-- St8 -->\n<g id=\"node3\" class=\"node\">\n<title>St8</title>\n<ellipse fill=\"none\" stroke=\"black\" cx=\"389.24\" cy=\"-22.75\" rx=\"23\" ry=\"23\"/>\n<text text-anchor=\"middle\" x=\"389.24\" y=\"-19.05\" font-family=\"Times,serif\" font-size=\"14.00\">St8</text>\n</g>\n<!-- St8&#45;&gt;St9 -->\n<g id=\"edge7\" class=\"edge\">\n<title>St8&#45;&gt;St9</title>\n<path fill=\"none\" stroke=\"black\" d=\"M412.14,-24.2C423.15,-24.93 436.69,-25.83 448.82,-26.63\"/>\n<polygon fill=\"black\" stroke=\"black\" points=\"448.82,-30.14 459.03,-27.31 449.28,-23.15 448.82,-30.14\"/>\n<text text-anchor=\"middle\" x=\"435.48\" y=\"-30.55\" font-family=\"Times,serif\" font-size=\"14.00\">b </text>\n</g>\n<!-- St6 -->\n<g id=\"node8\" class=\"node\">\n<title>St6</title>\n<ellipse fill=\"none\" stroke=\"black\" cx=\"668.72\" cy=\"-56.75\" rx=\"22.96\" ry=\"22.96\"/>\n<ellipse fill=\"none\" stroke=\"black\" cx=\"668.72\" cy=\"-56.75\" rx=\"27\" ry=\"27\"/>\n<text text-anchor=\"middle\" x=\"668.72\" y=\"-53.05\" font-family=\"Times,serif\" font-size=\"14.00\">St6</text>\n</g>\n<!-- St5&#45;&gt;St6 -->\n<g id=\"edge5\" class=\"edge\">\n<title>St5&#45;&gt;St6</title>\n<path fill=\"none\" stroke=\"black\" d=\"M596.39,-56.75C606.91,-56.75 619.76,-56.75 631.64,-56.75\"/>\n<polygon fill=\"black\" stroke=\"black\" points=\"631.75,-60.25 641.75,-56.75 631.75,-53.25 631.75,-60.25\"/>\n<text text-anchor=\"middle\" x=\"618.98\" y=\"-60.55\" font-family=\"Times,serif\" font-size=\"14.00\">c </text>\n</g>\n<!-- St4 -->\n<g id=\"node5\" class=\"node\">\n<title>St4</title>\n<ellipse fill=\"none\" stroke=\"black\" cx=\"205.24\" cy=\"-56.75\" rx=\"23\" ry=\"23\"/>\n<text text-anchor=\"middle\" x=\"205.24\" y=\"-53.05\" font-family=\"Times,serif\" font-size=\"14.00\">St4</text>\n</g>\n<!-- St4&#45;&gt;St5 -->\n<g id=\"edge3\" class=\"edge\">\n<title>St4&#45;&gt;St5</title>\n<path fill=\"none\" stroke=\"black\" d=\"M226.41,-65.77C244.27,-72.93 271.22,-81.75 295.74,-81.75 295.74,-81.75 295.74,-81.75 482.73,-81.75 503.23,-81.75 525.43,-75.59 542.59,-69.39\"/>\n<polygon fill=\"black\" stroke=\"black\" points=\"543.96,-72.61 552.06,-65.77 541.47,-66.07 543.96,-72.61\"/>\n<text text-anchor=\"middle\" x=\"389.24\" y=\"-85.55\" font-family=\"Times,serif\" font-size=\"14.00\">b </text>\n</g>\n<!-- St7 -->\n<g id=\"node7\" class=\"node\">\n<title>St7</title>\n<ellipse fill=\"none\" stroke=\"black\" cx=\"296.74\" cy=\"-28.75\" rx=\"23\" ry=\"23\"/>\n<text text-anchor=\"middle\" x=\"296.74\" y=\"-25.05\" font-family=\"Times,serif\" font-size=\"14.00\">St7</text>\n</g>\n<!-- St4&#45;&gt;St7 -->\n<g id=\"edge4\" class=\"edge\">\n<title>St4&#45;&gt;St7</title>\n<path fill=\"none\" stroke=\"black\" d=\"M227.45,-50.11C238.6,-46.63 252.47,-42.29 264.79,-38.43\"/>\n<polygon fill=\"black\" stroke=\"black\" points=\"266.18,-41.66 274.68,-35.34 264.09,-34.98 266.18,-41.66\"/>\n<text text-anchor=\"middle\" x=\"250.99\" y=\"-47.55\" font-family=\"Times,serif\" font-size=\"14.00\">a </text>\n</g>\n<!-- St1&#45;&gt;St4 -->\n<g id=\"edge2\" class=\"edge\">\n<title>St1&#45;&gt;St4</title>\n<path fill=\"none\" stroke=\"black\" d=\"M136.87,-56.75C147.49,-56.75 160.42,-56.75 172.1,-56.75\"/>\n<polygon fill=\"black\" stroke=\"black\" points=\"172.38,-60.25 182.38,-56.75 172.38,-53.25 172.38,-60.25\"/>\n<text text-anchor=\"middle\" x=\"159.5\" y=\"-60.55\" font-family=\"Times,serif\" font-size=\"14.00\">a </text>\n</g>\n<!-- St7&#45;&gt;St8 -->\n<g id=\"edge6\" class=\"edge\">\n<title>St7&#45;&gt;St8</title>\n<path fill=\"none\" stroke=\"black\" d=\"M319.65,-27.3C330.65,-26.57 344.19,-25.67 356.33,-24.86\"/>\n<polygon fill=\"black\" stroke=\"black\" points=\"356.78,-28.34 366.53,-24.19 356.32,-21.36 356.78,-28.34\"/>\n<text text-anchor=\"middle\" x=\"342.99\" y=\"-30.55\" font-family=\"Times,serif\" font-size=\"14.00\">b </text>\n</g>\n</g>\n</svg>\n",
            "text/plain": [
              "<graphviz.graphs.Digraph at 0x797688bdac20>"
            ]
          },
          "metadata": {},
          "execution_count": 8
        }
      ]
    },
    {
      "cell_type": "code",
      "source": [
        "QDin = DFAin[\"Q\"]\n",
        "\n",
        "Qnfa = { (x,y,z,p,q) for x in QDin for y in QDin for z in QDin for p in QDin for q in QDin }"
      ],
      "metadata": {
        "id": "6_gVO7TyyaE8"
      },
      "execution_count": 9,
      "outputs": []
    },
    {
      "cell_type": "code",
      "source": [
        "#DFAin"
      ],
      "metadata": {
        "id": "Vash4SxRzkzr"
      },
      "execution_count": 10,
      "outputs": []
    },
    {
      "cell_type": "code",
      "source": [
        "SigDFAin = DFAin[\"Sigma\"]"
      ],
      "metadata": {
        "id": "Vs6vRqjV1u8S"
      },
      "execution_count": 11,
      "outputs": []
    },
    {
      "cell_type": "code",
      "source": [
        "#SigDFAin"
      ],
      "metadata": {
        "id": "BCLjjXPq1y6X"
      },
      "execution_count": 12,
      "outputs": []
    },
    {
      "cell_type": "code",
      "source": [
        "q0DFAin = DFAin[\"q0\"]"
      ],
      "metadata": {
        "id": "R8aFHylIzJLM"
      },
      "execution_count": 13,
      "outputs": []
    },
    {
      "cell_type": "code",
      "source": [
        "#q0DFAin"
      ],
      "metadata": {
        "id": "ETPt5MLXzMC0"
      },
      "execution_count": 14,
      "outputs": []
    },
    {
      "cell_type": "code",
      "source": [
        "Q0NFA = { (q0DFAin, q1, q1, q2, q2) for q1 in QDin for q2 in QDin }"
      ],
      "metadata": {
        "id": "EeRpzT4qy2EY"
      },
      "execution_count": 15,
      "outputs": []
    },
    {
      "cell_type": "code",
      "source": [
        "#Q0NFA"
      ],
      "metadata": {
        "id": "kBh-fZd6zaWw"
      },
      "execution_count": 16,
      "outputs": []
    },
    {
      "cell_type": "code",
      "source": [
        "FNFA = { (q1,q1,q2,q2,qf) for q1 in  QDin for q2 in QDin for qf in DFAin[\"F\"]}"
      ],
      "metadata": {
        "id": "EXv6is3sz-k3"
      },
      "execution_count": 17,
      "outputs": []
    },
    {
      "cell_type": "code",
      "source": [
        "#FNFA"
      ],
      "metadata": {
        "id": "spZzPCAs0bzh"
      },
      "execution_count": 18,
      "outputs": []
    },
    {
      "cell_type": "code",
      "source": [
        "#DFAin[\"Delta\"]"
      ],
      "metadata": {
        "id": "3Z-l_TP-1EUc"
      },
      "execution_count": 19,
      "outputs": []
    },
    {
      "cell_type": "markdown",
      "source": [
        "### Main thing for NFA"
      ],
      "metadata": {
        "id": "Vra7tvwBDBiV"
      }
    },
    {
      "cell_type": "code",
      "source": [
        "deltaNFA = dict( {\n",
        "      ((qa, q1, qb, q2, qc), y) :\n",
        "         set( { ( DFAin[\"Delta\"][(qa,c1)], q1,\n",
        "                  DFAin[\"Delta\"][(qb,y)],  q2,\n",
        "                  DFAin[\"Delta\"][(qc,c2)] )\n",
        "                 for c1 in SigDFAin\n",
        "                 for c2 in SigDFAin\n",
        "              }\n",
        "            )\n",
        "     for q1 in QDin for q2 in QDin\n",
        "     for qa in QDin for qb in QDin for qc in QDin\n",
        "     for y in SigDFAin } )"
      ],
      "metadata": {
        "id": "cbPvxJis0POz"
      },
      "execution_count": 20,
      "outputs": []
    },
    {
      "cell_type": "code",
      "source": [
        "#deltaNFA"
      ],
      "metadata": {
        "id": "qbrs6dg6y3GZ"
      },
      "execution_count": 21,
      "outputs": []
    },
    {
      "cell_type": "code",
      "source": [
        "help(mk_nfa)"
      ],
      "metadata": {
        "id": "YBPERf8X8SnR",
        "outputId": "5cf3dc0f-1671-4bd8-8ed5-bb5c682523a4",
        "colab": {
          "base_uri": "https://localhost:8080/"
        }
      },
      "execution_count": 22,
      "outputs": [
        {
          "output_type": "stream",
          "name": "stdout",
          "text": [
            "Help on function mk_nfa in module jove.Def_NFA:\n",
            "\n",
            "mk_nfa(Q, Sigma, Delta, Q0, F)\n",
            "    Check for structural consistency of the given NFA traits.\n",
            "    If the check passes, make and return an NFA.\n",
            "\n"
          ]
        }
      ]
    },
    {
      "cell_type": "code",
      "source": [
        "nBignfa =  {\"Q\":Qnfa, \"Sigma\":SigDFAin, \"Delta\":deltaNFA, \"Q0\":Q0NFA, \"F\":FNFA}"
      ],
      "metadata": {
        "id": "A0cLHURI7qea"
      },
      "execution_count": 23,
      "outputs": []
    },
    {
      "cell_type": "code",
      "source": [
        "#Qnfa"
      ],
      "metadata": {
        "id": "IH8sYFHN8jmG"
      },
      "execution_count": 24,
      "outputs": []
    },
    {
      "cell_type": "code",
      "source": [
        "# is_consistent_nfa_new(nBignfa)"
      ],
      "metadata": {
        "id": "Mgsig3SM75vJ"
      },
      "execution_count": 25,
      "outputs": []
    },
    {
      "cell_type": "code",
      "source": [
        "BigNFA = mk_nfa(Qnfa, SigDFAin, deltaNFA, Q0NFA, FNFA)\n",
        "#q0NFA\n",
        "#SigDFAin\n",
        "#deltaNFA\n",
        "#Q0NFA\n",
        "#FNFA"
      ],
      "metadata": {
        "id": "n5sVH6yT7rrj"
      },
      "execution_count": 26,
      "outputs": []
    },
    {
      "cell_type": "code",
      "source": [
        "BigNFA = mk_nfa(Qnfa, SigDFAin, deltaNFA, Q0NFA, FNFA)"
      ],
      "metadata": {
        "id": "wMYaeHhP5q5u"
      },
      "execution_count": 27,
      "outputs": []
    },
    {
      "cell_type": "code",
      "source": [],
      "metadata": {
        "id": "OUtyhpx28djS"
      },
      "execution_count": 27,
      "outputs": []
    },
    {
      "cell_type": "code",
      "source": [
        "BigDFA = min_dfa(nfa2dfa(BigNFA))"
      ],
      "metadata": {
        "id": "iT59ZRrw8ln4"
      },
      "execution_count": 28,
      "outputs": []
    },
    {
      "cell_type": "code",
      "source": [
        "dotObj_dfa(BigDFA)"
      ],
      "metadata": {
        "id": "ta6c-MOA93bX",
        "outputId": "1f75f63e-efd8-4053-be4f-82933a080c1c",
        "colab": {
          "base_uri": "https://localhost:8080/",
          "height": 350
        }
      },
      "execution_count": 29,
      "outputs": [
        {
          "output_type": "execute_result",
          "data": {
            "image/svg+xml": "<?xml version=\"1.0\" encoding=\"UTF-8\" standalone=\"no\"?>\n<!DOCTYPE svg PUBLIC \"-//W3C//DTD SVG 1.1//EN\"\n \"http://www.w3.org/Graphics/SVG/1.1/DTD/svg11.dtd\">\n<!-- Generated by graphviz version 2.43.0 (0)\n -->\n<!-- Title: %3 Pages: 1 -->\n<svg width=\"454pt\" height=\"247pt\"\n viewBox=\"0.00 0.00 453.58 246.75\" xmlns=\"http://www.w3.org/2000/svg\" xmlns:xlink=\"http://www.w3.org/1999/xlink\">\n<g id=\"graph0\" class=\"graph\" transform=\"scale(1 1) rotate(0) translate(4 242.75)\">\n<title>%3</title>\n<polygon fill=\"white\" stroke=\"transparent\" points=\"-4,4 -4,-242.75 449.58,-242.75 449.58,4 -4,4\"/>\n<!-- EMPTY -->\n<g id=\"node1\" class=\"node\">\n<title>EMPTY</title>\n</g>\n<!-- St25 -->\n<g id=\"node3\" class=\"node\">\n<title>St25</title>\n<ellipse fill=\"none\" stroke=\"black\" cx=\"117.65\" cy=\"-184.75\" rx=\"26.8\" ry=\"26.8\"/>\n<text text-anchor=\"middle\" x=\"117.65\" y=\"-181.05\" font-family=\"Times,serif\" font-size=\"14.00\">St25</text>\n</g>\n<!-- EMPTY&#45;&gt;St25 -->\n<g id=\"edge1\" class=\"edge\">\n<title>EMPTY&#45;&gt;St25</title>\n<path fill=\"none\" stroke=\"black\" d=\"M54.12,-184.75C62.41,-184.75 71.74,-184.75 80.61,-184.75\"/>\n<polygon fill=\"black\" stroke=\"black\" points=\"80.72,-188.25 90.72,-184.75 80.72,-181.25 80.72,-188.25\"/>\n</g>\n<!-- St14 -->\n<g id=\"node2\" class=\"node\">\n<title>St14</title>\n<ellipse fill=\"none\" stroke=\"black\" cx=\"418.93\" cy=\"-92.75\" rx=\"26.8\" ry=\"26.8\"/>\n<text text-anchor=\"middle\" x=\"418.93\" y=\"-89.05\" font-family=\"Times,serif\" font-size=\"14.00\">St14</text>\n</g>\n<!-- St14&#45;&gt;St14 -->\n<g id=\"edge5\" class=\"edge\">\n<title>St14&#45;&gt;St14</title>\n<path fill=\"none\" stroke=\"black\" d=\"M415.82,-119.33C415.71,-129.24 416.75,-137.4 418.93,-137.4 420.3,-137.4 421.22,-134.21 421.69,-129.4\"/>\n<polygon fill=\"black\" stroke=\"black\" points=\"425.19,-129.45 422.05,-119.33 418.19,-129.2 425.19,-129.45\"/>\n<text text-anchor=\"middle\" x=\"418.93\" y=\"-141.2\" font-family=\"Times,serif\" font-size=\"14.00\">c </text>\n</g>\n<!-- St14&#45;&gt;St14 -->\n<g id=\"edge6\" class=\"edge\">\n<title>St14&#45;&gt;St14</title>\n<path fill=\"none\" stroke=\"black\" d=\"M413.33,-118.81C411.56,-137.19 413.43,-155.4 418.93,-155.4 423.4,-155.4 425.48,-143.38 425.15,-129.02\"/>\n<polygon fill=\"black\" stroke=\"black\" points=\"428.63,-128.59 424.54,-118.81 421.65,-129.01 428.63,-128.59\"/>\n<text text-anchor=\"middle\" x=\"418.93\" y=\"-159.2\" font-family=\"Times,serif\" font-size=\"14.00\">b </text>\n</g>\n<!-- St14&#45;&gt;St14 -->\n<g id=\"edge7\" class=\"edge\">\n<title>St14&#45;&gt;St14</title>\n<path fill=\"none\" stroke=\"black\" d=\"M411.55,-118.76C407.34,-144.71 409.8,-173.4 418.93,-173.4 426.89,-173.4 429.78,-151.63 427.61,-128.87\"/>\n<polygon fill=\"black\" stroke=\"black\" points=\"431.06,-128.24 426.32,-118.76 424.12,-129.13 431.06,-128.24\"/>\n<text text-anchor=\"middle\" x=\"418.93\" y=\"-177.2\" font-family=\"Times,serif\" font-size=\"14.00\">a </text>\n</g>\n<!-- St25&#45;&gt;St14 -->\n<g id=\"edge2\" class=\"edge\">\n<title>St25&#45;&gt;St14</title>\n<path fill=\"none\" stroke=\"black\" d=\"M142.34,-194.8C190.73,-213.6 302.39,-247.94 374.29,-198.75 397.14,-183.11 408.04,-153.17 413.24,-129.08\"/>\n<polygon fill=\"black\" stroke=\"black\" points=\"416.69,-129.65 415.13,-119.17 409.82,-128.34 416.69,-129.65\"/>\n<text text-anchor=\"middle\" x=\"268.29\" y=\"-227.55\" font-family=\"Times,serif\" font-size=\"14.00\">c </text>\n</g>\n<!-- St25&#45;&gt;St14 -->\n<g id=\"edge4\" class=\"edge\">\n<title>St25&#45;&gt;St14</title>\n<path fill=\"none\" stroke=\"black\" d=\"M144.18,-180.48C186.54,-173.06 273.78,-156.41 345.29,-133.75 358.58,-129.53 361.98,-128.31 374.29,-121.75 378.89,-119.3 383.61,-116.49 388.18,-113.61\"/>\n<polygon fill=\"black\" stroke=\"black\" points=\"390.23,-116.46 396.69,-108.06 386.4,-110.59 390.23,-116.46\"/>\n<text text-anchor=\"middle\" x=\"268.29\" y=\"-159.55\" font-family=\"Times,serif\" font-size=\"14.00\">a </text>\n</g>\n<!-- St1 -->\n<g id=\"node4\" class=\"node\">\n<title>St1</title>\n<ellipse fill=\"none\" stroke=\"black\" cx=\"218.04\" cy=\"-110.75\" rx=\"22.96\" ry=\"22.96\"/>\n<ellipse fill=\"none\" stroke=\"black\" cx=\"218.04\" cy=\"-110.75\" rx=\"27\" ry=\"27\"/>\n<text text-anchor=\"middle\" x=\"218.04\" y=\"-107.05\" font-family=\"Times,serif\" font-size=\"14.00\">St1</text>\n</g>\n<!-- St25&#45;&gt;St1 -->\n<g id=\"edge3\" class=\"edge\">\n<title>St25&#45;&gt;St1</title>\n<path fill=\"none\" stroke=\"black\" d=\"M139.51,-169.05C153.6,-158.46 172.4,-144.33 187.95,-132.63\"/>\n<polygon fill=\"black\" stroke=\"black\" points=\"190.32,-135.23 196.21,-126.42 186.11,-129.63 190.32,-135.23\"/>\n<text text-anchor=\"middle\" x=\"167.8\" y=\"-154.55\" font-family=\"Times,serif\" font-size=\"14.00\">b </text>\n</g>\n<!-- St1&#45;&gt;St14 -->\n<g id=\"edge8\" class=\"edge\">\n<title>St1&#45;&gt;St14</title>\n<path fill=\"none\" stroke=\"black\" d=\"M244.92,-112.9C276.01,-114.84 329.56,-116.13 374.29,-106.75 377.48,-106.08 380.77,-105.26 384.04,-104.37\"/>\n<polygon fill=\"black\" stroke=\"black\" points=\"385.11,-107.7 393.7,-101.5 383.12,-100.99 385.11,-107.7\"/>\n<text text-anchor=\"middle\" x=\"318.54\" y=\"-118.55\" font-family=\"Times,serif\" font-size=\"14.00\">c </text>\n</g>\n<!-- St1&#45;&gt;St14 -->\n<g id=\"edge10\" class=\"edge\">\n<title>St1&#45;&gt;St14</title>\n<path fill=\"none\" stroke=\"black\" d=\"M243.68,-103.07C257.64,-99.12 275.52,-94.73 291.79,-92.75 322.04,-89.06 356.66,-89.38 381.98,-90.44\"/>\n<polygon fill=\"black\" stroke=\"black\" points=\"382.06,-93.95 392.22,-90.93 382.39,-86.96 382.06,-93.95\"/>\n<text text-anchor=\"middle\" x=\"318.54\" y=\"-96.55\" font-family=\"Times,serif\" font-size=\"14.00\">a </text>\n</g>\n<!-- St5 -->\n<g id=\"node5\" class=\"node\">\n<title>St5</title>\n<ellipse fill=\"none\" stroke=\"black\" cx=\"318.54\" cy=\"-26.75\" rx=\"22.96\" ry=\"22.96\"/>\n<ellipse fill=\"none\" stroke=\"black\" cx=\"318.54\" cy=\"-26.75\" rx=\"27\" ry=\"27\"/>\n<text text-anchor=\"middle\" x=\"318.54\" y=\"-23.05\" font-family=\"Times,serif\" font-size=\"14.00\">St5</text>\n</g>\n<!-- St1&#45;&gt;St5 -->\n<g id=\"edge9\" class=\"edge\">\n<title>St1&#45;&gt;St5</title>\n<path fill=\"none\" stroke=\"black\" d=\"M235.36,-90.02C243.14,-80.82 252.89,-70.18 262.79,-61.75 269.91,-55.69 278.15,-49.89 286.04,-44.81\"/>\n<polygon fill=\"black\" stroke=\"black\" points=\"288.08,-47.66 294.73,-39.41 284.39,-41.72 288.08,-47.66\"/>\n<text text-anchor=\"middle\" x=\"268.29\" y=\"-65.55\" font-family=\"Times,serif\" font-size=\"14.00\">b </text>\n</g>\n<!-- St5&#45;&gt;St14 -->\n<g id=\"edge11\" class=\"edge\">\n<title>St5&#45;&gt;St14</title>\n<path fill=\"none\" stroke=\"black\" d=\"M341.38,-41.4C355.1,-50.6 372.99,-62.6 388.03,-72.69\"/>\n<polygon fill=\"black\" stroke=\"black\" points=\"386.24,-75.7 396.5,-78.37 390.14,-69.89 386.24,-75.7\"/>\n<text text-anchor=\"middle\" x=\"368.79\" y=\"-65.55\" font-family=\"Times,serif\" font-size=\"14.00\">c </text>\n</g>\n<!-- St5&#45;&gt;St14 -->\n<g id=\"edge12\" class=\"edge\">\n<title>St5&#45;&gt;St14</title>\n<path fill=\"none\" stroke=\"black\" d=\"M345.4,-29.37C355.01,-31.22 365.67,-34.37 374.29,-39.75 383.39,-45.42 391.49,-53.66 398.16,-61.95\"/>\n<polygon fill=\"black\" stroke=\"black\" points=\"395.54,-64.29 404.34,-70.17 401.13,-60.08 395.54,-64.29\"/>\n<text text-anchor=\"middle\" x=\"368.79\" y=\"-43.55\" font-family=\"Times,serif\" font-size=\"14.00\">b </text>\n</g>\n<!-- St5&#45;&gt;St14 -->\n<g id=\"edge13\" class=\"edge\">\n<title>St5&#45;&gt;St14</title>\n<path fill=\"none\" stroke=\"black\" d=\"M342.84,-15.12C353.05,-11.73 364.82,-10.23 374.29,-15.75 389.9,-24.84 400.38,-41.83 407.15,-57.54\"/>\n<polygon fill=\"black\" stroke=\"black\" points=\"403.98,-59.05 410.89,-67.07 410.49,-56.49 403.98,-59.05\"/>\n<text text-anchor=\"middle\" x=\"368.79\" y=\"-19.55\" font-family=\"Times,serif\" font-size=\"14.00\">a </text>\n</g>\n</g>\n</svg>\n",
            "text/plain": [
              "<graphviz.graphs.Digraph at 0x797688bda980>"
            ]
          },
          "metadata": {},
          "execution_count": 29
        }
      ]
    },
    {
      "cell_type": "code",
      "source": [],
      "metadata": {
        "id": "S0pHh9PG95BU"
      },
      "execution_count": 29,
      "outputs": []
    }
  ],
  "metadata": {
    "kernelspec": {
      "display_name": "Python 3",
      "language": "python",
      "name": "python3"
    },
    "language_info": {
      "codemirror_mode": {
        "name": "ipython",
        "version": 3
      },
      "file_extension": ".py",
      "mimetype": "text/x-python",
      "name": "python",
      "nbconvert_exporter": "python",
      "pygments_lexer": "ipython3",
      "version": "3.7.3"
    },
    "toc": {
      "colors": {
        "hover_highlight": "#DAA520",
        "running_highlight": "#FF0000",
        "selected_highlight": "#FFD700"
      },
      "moveMenuLeft": true,
      "nav_menu": {
        "height": "318px",
        "width": "252px"
      },
      "navigate_menu": true,
      "number_sections": true,
      "sideBar": true,
      "threshold": 4,
      "toc_cell": false,
      "toc_section_display": "block",
      "toc_window_display": false,
      "widenNotebook": false
    },
    "colab": {
      "provenance": [],
      "include_colab_link": true
    }
  },
  "nbformat": 4,
  "nbformat_minor": 0
}