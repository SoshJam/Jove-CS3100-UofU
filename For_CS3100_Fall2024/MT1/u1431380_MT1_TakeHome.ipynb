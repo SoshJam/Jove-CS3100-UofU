{
  "cells": [
    {
      "cell_type": "markdown",
      "metadata": {
        "id": "XJPN7sdBMvJa"
      },
      "source": [
        "# MT1 take-home questions\n",
        "## To be finished and uploaded on Canvas\n",
        "\n",
        "\n",
        "This is the take-home part due 9/27/24 midnight on Canvas (CDS times vary).  \n",
        "\n",
        "For the take-home, only the class material is allowed.\n",
        "Use of external tools, Youtube, ChatGPT etc is not allowed.\n",
        "\n",
        "You are not permitted to talk to anyone about the take-home."
      ]
    },
    {
      "cell_type": "markdown",
      "metadata": {
        "id": "FHADkPFhMvJh"
      },
      "source": [
        "**-------------------------------------------------------------------------------------**"
      ]
    },
    {
      "cell_type": "code",
      "execution_count": 1,
      "metadata": {
        "run_control": {
          "frozen": false,
          "read_only": false
        },
        "id": "EaqvnutgMvJk",
        "colab": {
          "base_uri": "https://localhost:8080/"
        },
        "outputId": "34baa9a8-26b2-4a18-bfa2-d81fd3290974"
      },
      "outputs": [
        {
          "output_type": "stream",
          "name": "stdout",
          "text": [
            "Cloning into 'Jove'...\n",
            "remote: Enumerating objects: 6593, done.\u001b[K\n",
            "remote: Counting objects: 100% (1959/1959), done.\u001b[K\n",
            "remote: Compressing objects: 100% (829/829), done.\u001b[K\n",
            "remote: Total 6593 (delta 1183), reused 1762 (delta 1050), pack-reused 4634 (from 1)\u001b[K\n",
            "Receiving objects: 100% (6593/6593), 10.54 MiB | 6.90 MiB/s, done.\n",
            "Resolving deltas: 100% (4188/4188), done.\n",
            "You may use any of these help commands:\n",
            "help(ResetStNum)\n",
            "help(NxtStateStr)\n",
            "\n",
            "You may use any of these help commands:\n",
            "help(md2mc)\n",
            ".. and if you want to dig more, then ..\n",
            "help(default_line_attr)\n",
            "help(length_ok_input_items)\n",
            "help(union_line_attr_list_fld)\n",
            "help(extend_rsltdict)\n",
            "help(form_delta)\n",
            "help(get_machine_components)\n",
            "\n",
            "You may use any of these help commands:\n",
            "help(mkp_dfa)\n",
            "help(mk_dfa)\n",
            "help(totalize_dfa)\n",
            "help(addtosigma_delta)\n",
            "help(step_dfa)\n",
            "help(run_dfa)\n",
            "help(accepts_dfa)\n",
            "help(comp_dfa)\n",
            "help(flTup)\n",
            "help(union_dfa)\n",
            "help(intersect_dfa)\n",
            "help(pruneUnreach)\n",
            "help(iso_dfa)\n",
            "help(langeq_dfa)\n",
            "help(same_status)\n",
            "help(h_langeq_dfa)\n",
            "help(fixptDist)\n",
            "help(min_dfa)\n",
            "help(pairFR)\n",
            "help(state_combos)\n",
            "help(sepFinNonFin)\n",
            "help(bash_eql_classes)\n",
            "help(listminus)\n",
            "help(bash_1)\n",
            "help(mk_rep_eqc)\n",
            "help(F_of)\n",
            "help(rep_of_s)\n",
            "help(q0_of)\n",
            "help(Delta_of)\n",
            "help(mk_state_eqc_name)\n",
            "\n",
            "You may use any of these help commands:\n",
            "help(mk_nfa)\n",
            "help(totalize_nfa)\n",
            "help(step_nfa)\n",
            "help(run_nfa)\n",
            "help(ec_step_nfa)\n",
            "help(Eclosure)\n",
            "help(Echelp)\n",
            "help(accepts_nfa)\n",
            "help(nfa2dfa)\n",
            "help(n2d)\n",
            "help(inSets)\n",
            "help(rev_dfa)\n",
            "help(min_dfa_brz)\n",
            "\n",
            "You may use any of these help commands:\n",
            "help(re2nfa)\n",
            "\n",
            "You may use any of these help commands:\n",
            "help(lphi)\n",
            "help(lunit)\n",
            "help(lcat)\n",
            "help(lexp)\n",
            "help(lunion)\n",
            "help(lstar)\n",
            "help(srev)\n",
            "help(lrev)\n",
            "help(shomo)\n",
            "help(lhomo)\n",
            "help(powset)\n",
            "help(lint)\n",
            "help(lsymdiff)\n",
            "help(lminus)\n",
            "help(lissubset)\n",
            "help(lissuperset)\n",
            "help(lcomplem)\n",
            "help(product)\n",
            "help(nthnumeric)\n",
            "\n",
            "You may use any of these help commands:\n",
            "help(RE2Str)\n",
            "help(mk_gnfa)\n",
            "help(mk_gnfa_from_D)\n",
            "help(dfa2nfa)\n",
            "help(del_gnfa_states)\n",
            "help(gnfa_w_REStr)\n",
            "help(del_one_gnfa_state)\n",
            "help(Edges_Exist_Via)\n",
            "help(choose_state_to_del)\n",
            "help(form_alt_RE)\n",
            "help(form_concat_RE)\n",
            "help(form_kleene_RE)\n",
            "\n"
          ]
        }
      ],
      "source": [
        "#~~~~~~~~~~~~~~~~~~~~~~~~~~~~~~~~~~~~~~~~~~~~~~~~~~~~~~~\n",
        "import sys\n",
        "\n",
        "# -- Detect if in Own Install or in Colab\n",
        "try:\n",
        "    import google.colab\n",
        "    OWN_INSTALL = False\n",
        "except:\n",
        "    OWN_INSTALL = True\n",
        "\n",
        "if OWN_INSTALL:\n",
        "\n",
        "  #---- Leave these definitions ON if running on laptop\n",
        "  #---- Else turn OFF by putting them between ''' ... '''\n",
        "\n",
        "  sys.path[0:0] = ['../../../../..',  '../../../../../3rdparty',\n",
        "                   '../../../..',  '../../../../3rdparty',\n",
        "                   '../../..',     '../../../3rdparty',\n",
        "                   '../..',        '../../3rdparty',\n",
        "                   '..',           '../3rdparty' ]\n",
        "\n",
        "else: # In colab\n",
        "  ! if [ ! -d Jove ]; then git clone https://github.com/ganeshutah/Jove Jove; fi\n",
        "  sys.path.append('./Jove')\n",
        "  sys.path.append('./Jove/jove')\n",
        "\n",
        "# -- common imports --\n",
        "from jove.DotBashers import *\n",
        "from jove.Def_md2mc  import *\n",
        "from jove.Def_DFA    import *\n",
        "from jove.Def_NFA    import *\n",
        "from jove.Def_RE2NFA import *\n",
        "from jove.LangDef    import *  # for testing DFA actions using nthnumeric if needed\n",
        "from jove.Def_NFA2RE import *\n",
        "#~~~~~~~~~~~~~~~~~~~~~~~~~~~~~~~~~~~~~~~~~~~~~~~~~~~~~~~"
      ]
    },
    {
      "cell_type": "markdown",
      "metadata": {
        "run_control": {
          "frozen": false,
          "read_only": false
        },
        "id": "G4cGXTCOMvJm"
      },
      "source": [
        "##  Q1: Define a DFA for the language of strings over {a,b} where\n",
        "\n",
        "* every block of length four or more has,\n",
        "* for each four consecutive positions in that block\n",
        "* an odd number of b's. The number of a's does not matter.\n",
        "\n",
        "### Use the method of complementing these conditions and then building the RE for it (STEP-1)\n",
        "\n",
        "### and then a minimal DFA (STEP-2)\n",
        "\n",
        "## Note that if the block is of length 3 or less, no constraint is placed on the number of a's and b's.\n",
        "### Document your approach in 2 clear sentences.\n",
        "\n",
        "# SOLUTION BY STUDENT for STEP-1\n",
        "\n"
      ]
    },
    {
      "cell_type": "markdown",
      "source": [
        "**Solution:** I'll define an RE for every sequence of 4 characters with an even amount of b's, then allow that to be anywhere in the string. Then I'll OR it with a case for having 3 or fewer characters."
      ],
      "metadata": {
        "id": "OMYtGe24NvnD"
      }
    },
    {
      "cell_type": "code",
      "source": [
        "# We just need to find the RE for any set of 4 characters having even amounts of b's\n",
        "\n",
        "# Here I am ORing every possibility for a set of 4 characters with even b's\n",
        "RE_blocks_with_even_bs = \" ((\" + \")+(\".join([\n",
        "    \"aaaa\", # Only string with 0 b's\n",
        "    \"bbbb\", # Only string with 4,\n",
        "    \"bbaa\", # there are 4 choose 2 = 6 ways to organize 2 a's and 2 b's\n",
        "    \"baba\",\n",
        "    \"baab\",\n",
        "    \"abba\",\n",
        "    \"abab\",\n",
        "    \"aabb\"\n",
        "]) + \")) \"\n",
        "\n",
        "# So the final RE accepts strings with this somewhere inside\n",
        "RE_sigma_star = \"(a+b)*\"\n",
        "RE_some_block_has_even_bs = RE_sigma_star + RE_blocks_with_even_bs + RE_sigma_star\n",
        "RE_some_block_has_even_bs"
      ],
      "metadata": {
        "id": "SzpJe2M7_qbk",
        "colab": {
          "base_uri": "https://localhost:8080/",
          "height": 35
        },
        "outputId": "5317db8c-89fb-483c-f75c-808a5b22cebc"
      },
      "execution_count": 32,
      "outputs": [
        {
          "output_type": "execute_result",
          "data": {
            "text/plain": [
              "'(a+b)* ((aaaa)+(bbbb)+(bbaa)+(baba)+(baab)+(abba)+(abab)+(aabb)) (a+b)*'"
            ],
            "application/vnd.google.colaboratory.intrinsic+json": {
              "type": "string"
            }
          },
          "metadata": {},
          "execution_count": 32
        }
      ]
    },
    {
      "cell_type": "markdown",
      "source": [
        "# STEP-2 here"
      ],
      "metadata": {
        "id": "LhaN-VcJj96t"
      }
    },
    {
      "cell_type": "code",
      "source": [
        "# The DFA desired is now in one shot -- the student writes it in one shot\n",
        "DFA_desired = min_dfa(comp_dfa(nfa2dfa(re2nfa(RE_some_block_has_even_bs))))"
      ],
      "metadata": {
        "id": "bBB0aBe7AN3y"
      },
      "execution_count": 33,
      "outputs": []
    },
    {
      "cell_type": "code",
      "source": [
        "# The student draws\n",
        "dotObj_dfa(DFA_desired)"
      ],
      "metadata": {
        "id": "Gfkl2Pp7AGwk",
        "colab": {
          "base_uri": "https://localhost:8080/",
          "height": 714
        },
        "outputId": "9b47a27d-8c75-4158-d5e4-22201899cf59"
      },
      "execution_count": 34,
      "outputs": [
        {
          "output_type": "execute_result",
          "data": {
            "image/svg+xml": "<?xml version=\"1.0\" encoding=\"UTF-8\" standalone=\"no\"?>\n<!DOCTYPE svg PUBLIC \"-//W3C//DTD SVG 1.1//EN\"\n \"http://www.w3.org/Graphics/SVG/1.1/DTD/svg11.dtd\">\n<!-- Generated by graphviz version 2.43.0 (0)\n -->\n<!-- Title: %3 Pages: 1 -->\n<svg width=\"902pt\" height=\"520pt\"\n viewBox=\"0.00 0.00 901.56 519.77\" xmlns=\"http://www.w3.org/2000/svg\" xmlns:xlink=\"http://www.w3.org/1999/xlink\">\n<g id=\"graph0\" class=\"graph\" transform=\"scale(1 1) rotate(0) translate(4 515.77)\">\n<title>%3</title>\n<polygon fill=\"white\" stroke=\"transparent\" points=\"-4,4 -4,-515.77 897.56,-515.77 897.56,4 -4,4\"/>\n<!-- EMPTY -->\n<g id=\"node1\" class=\"node\">\n<title>EMPTY</title>\n</g>\n<!-- St38 -->\n<g id=\"node9\" class=\"node\">\n<title>St38</title>\n<ellipse fill=\"none\" stroke=\"black\" cx=\"121.65\" cy=\"-201.02\" rx=\"26.78\" ry=\"26.78\"/>\n<ellipse fill=\"none\" stroke=\"black\" cx=\"121.65\" cy=\"-201.02\" rx=\"30.8\" ry=\"30.8\"/>\n<text text-anchor=\"middle\" x=\"121.65\" y=\"-197.32\" font-family=\"Times,serif\" font-size=\"14.00\">St38</text>\n</g>\n<!-- EMPTY&#45;&gt;St38 -->\n<g id=\"edge1\" class=\"edge\">\n<title>EMPTY&#45;&gt;St38</title>\n<path fill=\"none\" stroke=\"black\" d=\"M54.3,-201.02C62.45,-201.02 71.63,-201.02 80.5,-201.02\"/>\n<polygon fill=\"black\" stroke=\"black\" points=\"80.69,-204.52 90.69,-201.02 80.69,-197.52 80.69,-204.52\"/>\n</g>\n<!-- St1 -->\n<g id=\"node2\" class=\"node\">\n<title>St1</title>\n<ellipse fill=\"none\" stroke=\"black\" cx=\"870.81\" cy=\"-258.02\" rx=\"23\" ry=\"23\"/>\n<text text-anchor=\"middle\" x=\"870.81\" y=\"-254.32\" font-family=\"Times,serif\" font-size=\"14.00\">St1</text>\n</g>\n<!-- St1&#45;&gt;St1 -->\n<g id=\"edge32\" class=\"edge\">\n<title>St1&#45;&gt;St1</title>\n<path fill=\"none\" stroke=\"black\" d=\"M866.55,-280.65C866.21,-290.41 867.63,-298.77 870.81,-298.77 872.81,-298.77 874.11,-295.5 874.72,-290.67\"/>\n<polygon fill=\"black\" stroke=\"black\" points=\"878.22,-290.77 875.08,-280.65 871.23,-290.52 878.22,-290.77\"/>\n<text text-anchor=\"middle\" x=\"870.81\" y=\"-302.57\" font-family=\"Times,serif\" font-size=\"14.00\">b </text>\n</g>\n<!-- St1&#45;&gt;St1 -->\n<g id=\"edge33\" class=\"edge\">\n<title>St1&#45;&gt;St1</title>\n<path fill=\"none\" stroke=\"black\" d=\"M863.51,-279.71C860.38,-297.83 862.82,-316.77 870.81,-316.77 877.31,-316.77 880.14,-304.27 879.29,-289.86\"/>\n<polygon fill=\"black\" stroke=\"black\" points=\"882.75,-289.25 878.12,-279.71 875.79,-290.05 882.75,-289.25\"/>\n<text text-anchor=\"middle\" x=\"870.81\" y=\"-320.57\" font-family=\"Times,serif\" font-size=\"14.00\">a </text>\n</g>\n<!-- St26 -->\n<g id=\"node3\" class=\"node\">\n<title>St26</title>\n<ellipse fill=\"none\" stroke=\"black\" cx=\"337.24\" cy=\"-300.02\" rx=\"26.78\" ry=\"26.78\"/>\n<ellipse fill=\"none\" stroke=\"black\" cx=\"337.24\" cy=\"-300.02\" rx=\"30.8\" ry=\"30.8\"/>\n<text text-anchor=\"middle\" x=\"337.24\" y=\"-296.32\" font-family=\"Times,serif\" font-size=\"14.00\">St26</text>\n</g>\n<!-- St16 -->\n<g id=\"node4\" class=\"node\">\n<title>St16</title>\n<ellipse fill=\"none\" stroke=\"black\" cx=\"445.53\" cy=\"-238.02\" rx=\"26.78\" ry=\"26.78\"/>\n<ellipse fill=\"none\" stroke=\"black\" cx=\"445.53\" cy=\"-238.02\" rx=\"30.8\" ry=\"30.8\"/>\n<text text-anchor=\"middle\" x=\"445.53\" y=\"-234.32\" font-family=\"Times,serif\" font-size=\"14.00\">St16</text>\n</g>\n<!-- St26&#45;&gt;St16 -->\n<g id=\"edge12\" class=\"edge\">\n<title>St26&#45;&gt;St16</title>\n<path fill=\"none\" stroke=\"black\" d=\"M363.97,-285.01C377.71,-277 394.81,-267.02 409.72,-258.33\"/>\n<polygon fill=\"black\" stroke=\"black\" points=\"411.8,-261.17 418.67,-253.11 408.27,-255.12 411.8,-261.17\"/>\n<text text-anchor=\"middle\" x=\"391.39\" y=\"-273.82\" font-family=\"Times,serif\" font-size=\"14.00\">b </text>\n</g>\n<!-- St35 -->\n<g id=\"node14\" class=\"node\">\n<title>St35</title>\n<ellipse fill=\"none\" stroke=\"black\" cx=\"445.53\" cy=\"-333.02\" rx=\"26.78\" ry=\"26.78\"/>\n<ellipse fill=\"none\" stroke=\"black\" cx=\"445.53\" cy=\"-333.02\" rx=\"30.8\" ry=\"30.8\"/>\n<text text-anchor=\"middle\" x=\"445.53\" y=\"-329.32\" font-family=\"Times,serif\" font-size=\"14.00\">St35</text>\n</g>\n<!-- St26&#45;&gt;St35 -->\n<g id=\"edge13\" class=\"edge\">\n<title>St26&#45;&gt;St35</title>\n<path fill=\"none\" stroke=\"black\" d=\"M366.72,-308.86C378.88,-312.64 393.24,-317.1 406.3,-321.15\"/>\n<polygon fill=\"black\" stroke=\"black\" points=\"405.38,-324.53 415.97,-324.15 407.46,-317.85 405.38,-324.53\"/>\n<text text-anchor=\"middle\" x=\"391.39\" y=\"-320.82\" font-family=\"Times,serif\" font-size=\"14.00\">a </text>\n</g>\n<!-- St16&#45;&gt;St1 -->\n<g id=\"edge25\" class=\"edge\">\n<title>St16&#45;&gt;St1</title>\n<path fill=\"none\" stroke=\"black\" d=\"M476.4,-237.72C508.62,-237.43 561.43,-237.02 606.98,-237.02 606.98,-237.02 606.98,-237.02 771.42,-237.02 794.52,-237.02 820.01,-242.62 839.25,-248.04\"/>\n<polygon fill=\"black\" stroke=\"black\" points=\"838.39,-251.44 848.98,-250.91 840.38,-244.72 838.39,-251.44\"/>\n<text text-anchor=\"middle\" x=\"662.12\" y=\"-240.82\" font-family=\"Times,serif\" font-size=\"14.00\">a </text>\n</g>\n<!-- St12 -->\n<g id=\"node15\" class=\"node\">\n<title>St12</title>\n<ellipse fill=\"none\" stroke=\"black\" cx=\"553.83\" cy=\"-61.02\" rx=\"26.78\" ry=\"26.78\"/>\n<ellipse fill=\"none\" stroke=\"black\" cx=\"553.83\" cy=\"-61.02\" rx=\"30.8\" ry=\"30.8\"/>\n<text text-anchor=\"middle\" x=\"553.83\" y=\"-57.32\" font-family=\"Times,serif\" font-size=\"14.00\">St12</text>\n</g>\n<!-- St16&#45;&gt;St12 -->\n<g id=\"edge24\" class=\"edge\">\n<title>St16&#45;&gt;St12</title>\n<path fill=\"none\" stroke=\"black\" d=\"M462.51,-212.44C466.98,-205.22 471.8,-197.33 476.18,-190.02 484.37,-176.35 486.09,-172.75 494.18,-159.02 506.56,-138.03 520.56,-114.61 531.79,-95.93\"/>\n<polygon fill=\"black\" stroke=\"black\" points=\"534.9,-97.54 537.05,-87.17 528.9,-93.94 534.9,-97.54\"/>\n<text text-anchor=\"middle\" x=\"499.68\" y=\"-162.82\" font-family=\"Times,serif\" font-size=\"14.00\">b </text>\n</g>\n<!-- St25 -->\n<g id=\"node5\" class=\"node\">\n<title>St25</title>\n<ellipse fill=\"none\" stroke=\"black\" cx=\"770.42\" cy=\"-440.02\" rx=\"26.78\" ry=\"26.78\"/>\n<ellipse fill=\"none\" stroke=\"black\" cx=\"770.42\" cy=\"-440.02\" rx=\"30.8\" ry=\"30.8\"/>\n<text text-anchor=\"middle\" x=\"770.42\" y=\"-436.32\" font-family=\"Times,serif\" font-size=\"14.00\">St25</text>\n</g>\n<!-- St25&#45;&gt;St1 -->\n<g id=\"edge28\" class=\"edge\">\n<title>St25&#45;&gt;St1</title>\n<path fill=\"none\" stroke=\"black\" d=\"M796.31,-422.99C808.03,-413.84 821.31,-401.64 830.07,-388.02 849.3,-358.09 859.66,-318.33 864.93,-290.7\"/>\n<polygon fill=\"black\" stroke=\"black\" points=\"868.4,-291.21 866.71,-280.75 861.51,-289.98 868.4,-291.21\"/>\n<text text-anchor=\"middle\" x=\"824.57\" y=\"-404.82\" font-family=\"Times,serif\" font-size=\"14.00\">b </text>\n</g>\n<!-- St25&#45;&gt;St35 -->\n<g id=\"edge29\" class=\"edge\">\n<title>St25&#45;&gt;St35</title>\n<path fill=\"none\" stroke=\"black\" d=\"M739.59,-438.61C711.31,-436.7 667.86,-432.25 631.48,-422.02 567.19,-403.96 553.57,-391.54 494.18,-361.02 489.82,-358.78 485.31,-356.32 480.87,-353.82\"/>\n<polygon fill=\"black\" stroke=\"black\" points=\"482.36,-350.64 471.95,-348.67 478.87,-356.7 482.36,-350.64\"/>\n<text text-anchor=\"middle\" x=\"607.98\" y=\"-419.82\" font-family=\"Times,serif\" font-size=\"14.00\">a </text>\n</g>\n<!-- St21 -->\n<g id=\"node6\" class=\"node\">\n<title>St21</title>\n<ellipse fill=\"none\" stroke=\"black\" cx=\"770.42\" cy=\"-115.02\" rx=\"26.78\" ry=\"26.78\"/>\n<ellipse fill=\"none\" stroke=\"black\" cx=\"770.42\" cy=\"-115.02\" rx=\"30.8\" ry=\"30.8\"/>\n<text text-anchor=\"middle\" x=\"770.42\" y=\"-111.32\" font-family=\"Times,serif\" font-size=\"14.00\">St21</text>\n</g>\n<!-- St21&#45;&gt;St1 -->\n<g id=\"edge21\" class=\"edge\">\n<title>St21&#45;&gt;St1</title>\n<path fill=\"none\" stroke=\"black\" d=\"M799.71,-124.31C810.45,-129.05 822.02,-135.81 830.07,-145.02 849.94,-167.77 860.06,-201.08 865.09,-225.64\"/>\n<polygon fill=\"black\" stroke=\"black\" points=\"861.67,-226.4 866.95,-235.58 868.55,-225.11 861.67,-226.4\"/>\n<text text-anchor=\"middle\" x=\"824.57\" y=\"-148.82\" font-family=\"Times,serif\" font-size=\"14.00\">a </text>\n</g>\n<!-- St21&#45;&gt;St16 -->\n<g id=\"edge20\" class=\"edge\">\n<title>St21&#45;&gt;St16</title>\n<path fill=\"none\" stroke=\"black\" d=\"M754.93,-141.76C746.82,-154.15 735.55,-167.9 721.77,-176.02 633.53,-227.99 591.12,-179.01 494.18,-212.02 489.85,-213.5 485.45,-215.35 481.15,-217.38\"/>\n<polygon fill=\"black\" stroke=\"black\" points=\"479.33,-214.38 472.01,-222.04 482.51,-220.62 479.33,-214.38\"/>\n<text text-anchor=\"middle\" x=\"607.98\" y=\"-205.82\" font-family=\"Times,serif\" font-size=\"14.00\">b </text>\n</g>\n<!-- St37 -->\n<g id=\"node7\" class=\"node\">\n<title>St37</title>\n<ellipse fill=\"none\" stroke=\"black\" cx=\"228.94\" cy=\"-300.02\" rx=\"26.78\" ry=\"26.78\"/>\n<ellipse fill=\"none\" stroke=\"black\" cx=\"228.94\" cy=\"-300.02\" rx=\"30.8\" ry=\"30.8\"/>\n<text text-anchor=\"middle\" x=\"228.94\" y=\"-296.32\" font-family=\"Times,serif\" font-size=\"14.00\">St37</text>\n</g>\n<!-- St37&#45;&gt;St26 -->\n<g id=\"edge6\" class=\"edge\">\n<title>St37&#45;&gt;St26</title>\n<path fill=\"none\" stroke=\"black\" d=\"M259.83,-300.02C271.14,-300.02 284.19,-300.02 296.27,-300.02\"/>\n<polygon fill=\"black\" stroke=\"black\" points=\"296.57,-303.52 306.57,-300.02 296.57,-296.52 296.57,-303.52\"/>\n<text text-anchor=\"middle\" x=\"283.09\" y=\"-303.82\" font-family=\"Times,serif\" font-size=\"14.00\">b </text>\n</g>\n<!-- St8 -->\n<g id=\"node13\" class=\"node\">\n<title>St8</title>\n<ellipse fill=\"none\" stroke=\"black\" cx=\"553.83\" cy=\"-485.02\" rx=\"22.96\" ry=\"22.96\"/>\n<ellipse fill=\"none\" stroke=\"black\" cx=\"553.83\" cy=\"-485.02\" rx=\"27\" ry=\"27\"/>\n<text text-anchor=\"middle\" x=\"553.83\" y=\"-481.32\" font-family=\"Times,serif\" font-size=\"14.00\">St8</text>\n</g>\n<!-- St37&#45;&gt;St8 -->\n<g id=\"edge7\" class=\"edge\">\n<title>St37&#45;&gt;St8</title>\n<path fill=\"none\" stroke=\"black\" d=\"M255.82,-314.85C314.58,-348.52 457.92,-430.64 521.53,-467.09\"/>\n<polygon fill=\"black\" stroke=\"black\" points=\"519.9,-470.19 530.32,-472.12 523.38,-464.12 519.9,-470.19\"/>\n<text text-anchor=\"middle\" x=\"391.39\" y=\"-397.82\" font-family=\"Times,serif\" font-size=\"14.00\">a </text>\n</g>\n<!-- St36 -->\n<g id=\"node8\" class=\"node\">\n<title>St36</title>\n<ellipse fill=\"none\" stroke=\"black\" cx=\"445.53\" cy=\"-150.02\" rx=\"26.78\" ry=\"26.78\"/>\n<ellipse fill=\"none\" stroke=\"black\" cx=\"445.53\" cy=\"-150.02\" rx=\"30.8\" ry=\"30.8\"/>\n<text text-anchor=\"middle\" x=\"445.53\" y=\"-146.32\" font-family=\"Times,serif\" font-size=\"14.00\">St36</text>\n</g>\n<!-- St36&#45;&gt;St21 -->\n<g id=\"edge10\" class=\"edge\">\n<title>St36&#45;&gt;St21</title>\n<path fill=\"none\" stroke=\"black\" d=\"M475.38,-142.68C481.56,-141.3 488.06,-139.99 494.18,-139.02 577.24,-125.88 675.62,-119.48 729.38,-116.75\"/>\n<polygon fill=\"black\" stroke=\"black\" points=\"729.7,-120.24 739.52,-116.26 729.36,-113.25 729.7,-120.24\"/>\n<text text-anchor=\"middle\" x=\"607.98\" y=\"-129.82\" font-family=\"Times,serif\" font-size=\"14.00\">b </text>\n</g>\n<!-- St7 -->\n<g id=\"node12\" class=\"node\">\n<title>St7</title>\n<ellipse fill=\"none\" stroke=\"black\" cx=\"553.83\" cy=\"-292.02\" rx=\"22.96\" ry=\"22.96\"/>\n<ellipse fill=\"none\" stroke=\"black\" cx=\"553.83\" cy=\"-292.02\" rx=\"27\" ry=\"27\"/>\n<text text-anchor=\"middle\" x=\"553.83\" y=\"-288.32\" font-family=\"Times,serif\" font-size=\"14.00\">St7</text>\n</g>\n<!-- St36&#45;&gt;St7 -->\n<g id=\"edge11\" class=\"edge\">\n<title>St36&#45;&gt;St7</title>\n<path fill=\"none\" stroke=\"black\" d=\"M464.56,-174.11C482.95,-198.67 511.49,-236.79 531.1,-263\"/>\n<polygon fill=\"black\" stroke=\"black\" points=\"528.34,-265.15 537.14,-271.06 533.95,-260.96 528.34,-265.15\"/>\n<text text-anchor=\"middle\" x=\"499.68\" y=\"-228.82\" font-family=\"Times,serif\" font-size=\"14.00\">a </text>\n</g>\n<!-- St38&#45;&gt;St37 -->\n<g id=\"edge3\" class=\"edge\">\n<title>St38&#45;&gt;St37</title>\n<path fill=\"none\" stroke=\"black\" d=\"M144.46,-221.53C160.03,-236.17 181.15,-256.03 198.25,-272.1\"/>\n<polygon fill=\"black\" stroke=\"black\" points=\"196.11,-274.89 205.79,-279.19 200.9,-269.79 196.11,-274.89\"/>\n<text text-anchor=\"middle\" x=\"175.3\" y=\"-256.82\" font-family=\"Times,serif\" font-size=\"14.00\">a </text>\n</g>\n<!-- St27 -->\n<g id=\"node16\" class=\"node\">\n<title>St27</title>\n<ellipse fill=\"none\" stroke=\"black\" cx=\"337.24\" cy=\"-150.02\" rx=\"26.78\" ry=\"26.78\"/>\n<ellipse fill=\"none\" stroke=\"black\" cx=\"337.24\" cy=\"-150.02\" rx=\"30.8\" ry=\"30.8\"/>\n<text text-anchor=\"middle\" x=\"337.24\" y=\"-146.32\" font-family=\"Times,serif\" font-size=\"14.00\">St27</text>\n</g>\n<!-- St38&#45;&gt;St27 -->\n<g id=\"edge2\" class=\"edge\">\n<title>St38&#45;&gt;St27</title>\n<path fill=\"none\" stroke=\"black\" d=\"M151.9,-194.04C189.69,-185.01 255.57,-169.28 297.49,-159.27\"/>\n<polygon fill=\"black\" stroke=\"black\" points=\"298.43,-162.65 307.34,-156.92 296.8,-155.84 298.43,-162.65\"/>\n<text text-anchor=\"middle\" x=\"228.94\" y=\"-186.82\" font-family=\"Times,serif\" font-size=\"14.00\">b </text>\n</g>\n<!-- St3 -->\n<g id=\"node10\" class=\"node\">\n<title>St3</title>\n<ellipse fill=\"none\" stroke=\"black\" cx=\"662.12\" cy=\"-386.02\" rx=\"22.96\" ry=\"22.96\"/>\n<ellipse fill=\"none\" stroke=\"black\" cx=\"662.12\" cy=\"-386.02\" rx=\"27\" ry=\"27\"/>\n<text text-anchor=\"middle\" x=\"662.12\" y=\"-382.32\" font-family=\"Times,serif\" font-size=\"14.00\">St3</text>\n</g>\n<!-- St3&#45;&gt;St1 -->\n<g id=\"edge31\" class=\"edge\">\n<title>St3&#45;&gt;St1</title>\n<path fill=\"none\" stroke=\"black\" d=\"M689.02,-385.33C724.66,-383.07 789.05,-374.16 830.07,-340.02 845.52,-327.16 855.42,-306.87 861.48,-289.68\"/>\n<polygon fill=\"black\" stroke=\"black\" points=\"864.86,-290.6 864.62,-280.01 858.2,-288.44 864.86,-290.6\"/>\n<text text-anchor=\"middle\" x=\"770.42\" y=\"-381.82\" font-family=\"Times,serif\" font-size=\"14.00\">a </text>\n</g>\n<!-- St3&#45;&gt;St25 -->\n<g id=\"edge30\" class=\"edge\">\n<title>St3&#45;&gt;St25</title>\n<path fill=\"none\" stroke=\"black\" d=\"M687.1,-395.91C697.84,-400.53 710.58,-406.27 721.77,-412.02 726.13,-414.26 730.65,-416.72 735.08,-419.22\"/>\n<polygon fill=\"black\" stroke=\"black\" points=\"733.59,-422.4 744,-424.36 737.09,-416.34 733.59,-422.4\"/>\n<text text-anchor=\"middle\" x=\"716.27\" y=\"-415.82\" font-family=\"Times,serif\" font-size=\"14.00\">b </text>\n</g>\n<!-- St31 -->\n<g id=\"node11\" class=\"node\">\n<title>St31</title>\n<ellipse fill=\"none\" stroke=\"black\" cx=\"662.12\" cy=\"-53.02\" rx=\"26.78\" ry=\"26.78\"/>\n<ellipse fill=\"none\" stroke=\"black\" cx=\"662.12\" cy=\"-53.02\" rx=\"30.8\" ry=\"30.8\"/>\n<text text-anchor=\"middle\" x=\"662.12\" y=\"-49.32\" font-family=\"Times,serif\" font-size=\"14.00\">St31</text>\n</g>\n<!-- St31&#45;&gt;St1 -->\n<g id=\"edge19\" class=\"edge\">\n<title>St31&#45;&gt;St1</title>\n<path fill=\"none\" stroke=\"black\" d=\"M692.19,-46.09C722.31,-40.68 769.34,-37.4 801.07,-60.02 853.98,-97.74 866.53,-179.19 869.27,-225\"/>\n<polygon fill=\"black\" stroke=\"black\" points=\"865.78,-225.2 869.75,-235.02 872.77,-224.87 865.78,-225.2\"/>\n<text text-anchor=\"middle\" x=\"770.42\" y=\"-63.82\" font-family=\"Times,serif\" font-size=\"14.00\">a </text>\n</g>\n<!-- St31&#45;&gt;St21 -->\n<g id=\"edge18\" class=\"edge\">\n<title>St31&#45;&gt;St21</title>\n<path fill=\"none\" stroke=\"black\" d=\"M689.22,-67.45C699.42,-73.16 711.19,-79.82 721.77,-86.02 726.04,-88.52 730.5,-91.17 734.91,-93.82\"/>\n<polygon fill=\"black\" stroke=\"black\" points=\"733.43,-97.02 743.8,-99.21 737.06,-91.03 733.43,-97.02\"/>\n<text text-anchor=\"middle\" x=\"716.27\" y=\"-89.82\" font-family=\"Times,serif\" font-size=\"14.00\">b </text>\n</g>\n<!-- St7&#45;&gt;St1 -->\n<g id=\"edge22\" class=\"edge\">\n<title>St7&#45;&gt;St1</title>\n<path fill=\"none\" stroke=\"black\" d=\"M580.61,-289.24C637.83,-283.06 775.34,-268.22 837.88,-261.47\"/>\n<polygon fill=\"black\" stroke=\"black\" points=\"838.39,-264.93 847.95,-260.38 837.64,-257.97 838.39,-264.93\"/>\n<text text-anchor=\"middle\" x=\"716.27\" y=\"-278.82\" font-family=\"Times,serif\" font-size=\"14.00\">b </text>\n</g>\n<!-- St7&#45;&gt;St3 -->\n<g id=\"edge23\" class=\"edge\">\n<title>St7&#45;&gt;St3</title>\n<path fill=\"none\" stroke=\"black\" d=\"M574.32,-309.26C591,-324.01 615.19,-345.4 633.8,-361.85\"/>\n<polygon fill=\"black\" stroke=\"black\" points=\"631.58,-364.57 641.39,-368.57 636.22,-359.32 631.58,-364.57\"/>\n<text text-anchor=\"middle\" x=\"607.98\" y=\"-344.82\" font-family=\"Times,serif\" font-size=\"14.00\">a </text>\n</g>\n<!-- St8&#45;&gt;St25 -->\n<g id=\"edge14\" class=\"edge\">\n<title>St8&#45;&gt;St25</title>\n<path fill=\"none\" stroke=\"black\" d=\"M580.5,-481.45C613.46,-476.62 672.3,-467.2 721.77,-455.02 724.93,-454.24 728.18,-453.37 731.44,-452.45\"/>\n<polygon fill=\"black\" stroke=\"black\" points=\"732.52,-455.78 741.12,-449.58 730.53,-449.07 732.52,-455.78\"/>\n<text text-anchor=\"middle\" x=\"662.12\" y=\"-475.82\" font-family=\"Times,serif\" font-size=\"14.00\">b </text>\n</g>\n<!-- St8&#45;&gt;St3 -->\n<g id=\"edge15\" class=\"edge\">\n<title>St8&#45;&gt;St3</title>\n<path fill=\"none\" stroke=\"black\" d=\"M577.47,-472.28C588.88,-465.29 602.58,-456.03 613.48,-446.02 623.12,-437.16 632.39,-426.24 640.15,-416.16\"/>\n<polygon fill=\"black\" stroke=\"black\" points=\"643.1,-418.05 646.29,-407.95 637.5,-413.86 643.1,-418.05\"/>\n<text text-anchor=\"middle\" x=\"607.98\" y=\"-457.82\" font-family=\"Times,serif\" font-size=\"14.00\">a </text>\n</g>\n<!-- St35&#45;&gt;St1 -->\n<g id=\"edge26\" class=\"edge\">\n<title>St35&#45;&gt;St1</title>\n<path fill=\"none\" stroke=\"black\" d=\"M476.24,-334.77C509.74,-336.26 565.77,-337.27 613.48,-331.02 711.95,-318.11 736.33,-308.86 830.07,-276.02 833.46,-274.83 836.96,-273.47 840.41,-272.03\"/>\n<polygon fill=\"black\" stroke=\"black\" points=\"842.12,-275.1 849.88,-267.88 839.31,-268.69 842.12,-275.1\"/>\n<text text-anchor=\"middle\" x=\"662.12\" y=\"-331.82\" font-family=\"Times,serif\" font-size=\"14.00\">b </text>\n</g>\n<!-- St35&#45;&gt;St7 -->\n<g id=\"edge27\" class=\"edge\">\n<title>St35&#45;&gt;St7</title>\n<path fill=\"none\" stroke=\"black\" d=\"M474.46,-322.25C488.16,-316.97 504.76,-310.56 519.15,-305.01\"/>\n<polygon fill=\"black\" stroke=\"black\" points=\"520.63,-308.19 528.7,-301.33 518.11,-301.66 520.63,-308.19\"/>\n<text text-anchor=\"middle\" x=\"499.68\" y=\"-316.82\" font-family=\"Times,serif\" font-size=\"14.00\">a </text>\n</g>\n<!-- St12&#45;&gt;St1 -->\n<g id=\"edge16\" class=\"edge\">\n<title>St12&#45;&gt;St1</title>\n<path fill=\"none\" stroke=\"black\" d=\"M566.33,-89.21C574.32,-105.71 586.42,-125.82 602.48,-139.02 685.77,-207.49 737.46,-167.79 830.07,-223.02 835.77,-226.42 841.41,-230.69 846.58,-235.06\"/>\n<polygon fill=\"black\" stroke=\"black\" points=\"844.46,-237.86 854.25,-241.91 849.13,-232.64 844.46,-237.86\"/>\n<text text-anchor=\"middle\" x=\"716.27\" y=\"-191.82\" font-family=\"Times,serif\" font-size=\"14.00\">b </text>\n</g>\n<!-- St12&#45;&gt;St31 -->\n<g id=\"edge17\" class=\"edge\">\n<title>St12&#45;&gt;St31</title>\n<path fill=\"none\" stroke=\"black\" d=\"M584.44,-58.79C595.86,-57.93 609.1,-56.94 621.33,-56.02\"/>\n<polygon fill=\"black\" stroke=\"black\" points=\"621.6,-59.51 631.3,-55.26 621.07,-52.53 621.6,-59.51\"/>\n<text text-anchor=\"middle\" x=\"607.98\" y=\"-61.82\" font-family=\"Times,serif\" font-size=\"14.00\">a </text>\n</g>\n<!-- St27&#45;&gt;St36 -->\n<g id=\"edge5\" class=\"edge\">\n<title>St27&#45;&gt;St36</title>\n<path fill=\"none\" stroke=\"black\" d=\"M368.13,-150.02C379.43,-150.02 392.49,-150.02 404.57,-150.02\"/>\n<polygon fill=\"black\" stroke=\"black\" points=\"404.87,-153.52 414.87,-150.02 404.87,-146.52 404.87,-153.52\"/>\n<text text-anchor=\"middle\" x=\"391.39\" y=\"-153.82\" font-family=\"Times,serif\" font-size=\"14.00\">a </text>\n</g>\n<!-- St17 -->\n<g id=\"node17\" class=\"node\">\n<title>St17</title>\n<ellipse fill=\"none\" stroke=\"black\" cx=\"445.53\" cy=\"-61.02\" rx=\"26.78\" ry=\"26.78\"/>\n<ellipse fill=\"none\" stroke=\"black\" cx=\"445.53\" cy=\"-61.02\" rx=\"30.8\" ry=\"30.8\"/>\n<text text-anchor=\"middle\" x=\"445.53\" y=\"-57.32\" font-family=\"Times,serif\" font-size=\"14.00\">St17</text>\n</g>\n<!-- St27&#45;&gt;St17 -->\n<g id=\"edge4\" class=\"edge\">\n<title>St27&#45;&gt;St17</title>\n<path fill=\"none\" stroke=\"black\" d=\"M361.3,-130.71C376.62,-117.88 396.92,-100.89 413.63,-86.89\"/>\n<polygon fill=\"black\" stroke=\"black\" points=\"416.09,-89.4 421.51,-80.29 411.6,-84.03 416.09,-89.4\"/>\n<text text-anchor=\"middle\" x=\"391.39\" y=\"-112.82\" font-family=\"Times,serif\" font-size=\"14.00\">b </text>\n</g>\n<!-- St17&#45;&gt;St31 -->\n<g id=\"edge9\" class=\"edge\">\n<title>St17&#45;&gt;St31</title>\n<path fill=\"none\" stroke=\"black\" d=\"M467.93,-40.03C482.27,-27.5 502.29,-12.74 523.18,-6.02 549.11,2.32 558.26,1.38 584.48,-6.02 600.5,-10.54 616.47,-19.45 629.66,-28.31\"/>\n<polygon fill=\"black\" stroke=\"black\" points=\"627.69,-31.21 637.89,-34.08 631.71,-25.47 627.69,-31.21\"/>\n<text text-anchor=\"middle\" x=\"553.83\" y=\"-9.82\" font-family=\"Times,serif\" font-size=\"14.00\">a </text>\n</g>\n<!-- St17&#45;&gt;St12 -->\n<g id=\"edge8\" class=\"edge\">\n<title>St17&#45;&gt;St12</title>\n<path fill=\"none\" stroke=\"black\" d=\"M476.43,-61.02C487.73,-61.02 500.78,-61.02 512.86,-61.02\"/>\n<polygon fill=\"black\" stroke=\"black\" points=\"513.16,-64.52 523.16,-61.02 513.16,-57.52 513.16,-64.52\"/>\n<text text-anchor=\"middle\" x=\"499.68\" y=\"-64.82\" font-family=\"Times,serif\" font-size=\"14.00\">b </text>\n</g>\n</g>\n</svg>\n",
            "text/plain": [
              "<graphviz.graphs.Digraph at 0x79acb6fc6320>"
            ]
          },
          "metadata": {},
          "execution_count": 34
        }
      ]
    },
    {
      "cell_type": "code",
      "source": [
        "# When all looks good, uncomment this cell + all render cells below, and run all cells again! Then collect the PDFs\n",
        "# dotObj_dfa(DFA_desired).render('DFA_desired')"
      ],
      "metadata": {
        "id": "sH1aZOIKoRmv"
      },
      "execution_count": null,
      "outputs": []
    },
    {
      "cell_type": "markdown",
      "metadata": {
        "run_control": {
          "frozen": false,
          "read_only": false
        },
        "id": "-fWDjIVBAUKv"
      },
      "source": [
        "#  Q2: Now, separately specify an RE for the set of strings with an odd number of b's and look at its minimal DFA (STEP-3)\n",
        "\n",
        "# Then build a minimal DFA for the intersection of this RE's DFA and  DFA_desired (STEP-4)\n",
        "\n",
        "# Noting down which state(s) got merged (STEP-5)\n",
        "\n",
        "# And justify your final answer (STEP-6) by testing"
      ]
    },
    {
      "cell_type": "markdown",
      "source": [
        "# STEP-3 below"
      ],
      "metadata": {
        "id": "UldWJKU4kaaP"
      }
    },
    {
      "cell_type": "code",
      "source": [
        "# The student writes the RE for STEP-3\n",
        "# Explanation: We can have a's dotted anywhere throughout, including at the start, but all b's after the first one must come in pairs.\n",
        "RE_odd_bs = \"a* b (a*ba*ba*)*\"\n",
        "\n",
        "# The student obtains the min DFA in one shot to check the work - as part of STEP-3\n",
        "minD_RE_odd_bs = min_dfa(nfa2dfa(re2nfa(RE_odd_bs)))"
      ],
      "metadata": {
        "id": "tU5uHr2XAUKw"
      },
      "execution_count": 40,
      "outputs": []
    },
    {
      "cell_type": "code",
      "source": [
        "dotObj_dfa(minD_RE_odd_bs)"
      ],
      "metadata": {
        "id": "iJyqqv82DTW6",
        "colab": {
          "base_uri": "https://localhost:8080/",
          "height": 202
        },
        "outputId": "4aa396d9-ae0b-45de-8197-f1c4d1a2dffc"
      },
      "execution_count": 41,
      "outputs": [
        {
          "output_type": "execute_result",
          "data": {
            "image/svg+xml": "<?xml version=\"1.0\" encoding=\"UTF-8\" standalone=\"no\"?>\n<!DOCTYPE svg PUBLIC \"-//W3C//DTD SVG 1.1//EN\"\n \"http://www.w3.org/Graphics/SVG/1.1/DTD/svg11.dtd\">\n<!-- Generated by graphviz version 2.43.0 (0)\n -->\n<!-- Title: %3 Pages: 1 -->\n<svg width=\"529pt\" height=\"136pt\"\n viewBox=\"0.00 0.00 529.48 136.50\" xmlns=\"http://www.w3.org/2000/svg\" xmlns:xlink=\"http://www.w3.org/1999/xlink\">\n<g id=\"graph0\" class=\"graph\" transform=\"scale(1 1) rotate(0) translate(4 132.5)\">\n<title>%3</title>\n<polygon fill=\"white\" stroke=\"transparent\" points=\"-4,4 -4,-132.5 525.48,-132.5 525.48,4 -4,4\"/>\n<!-- EMPTY -->\n<g id=\"node1\" class=\"node\">\n<title>EMPTY</title>\n</g>\n<!-- St0 -->\n<g id=\"node2\" class=\"node\">\n<title>St0</title>\n<ellipse fill=\"none\" stroke=\"black\" cx=\"113.75\" cy=\"-68.75\" rx=\"23\" ry=\"23\"/>\n<text text-anchor=\"middle\" x=\"113.75\" y=\"-65.05\" font-family=\"Times,serif\" font-size=\"14.00\">St0</text>\n</g>\n<!-- EMPTY&#45;&gt;St0 -->\n<g id=\"edge1\" class=\"edge\">\n<title>EMPTY&#45;&gt;St0</title>\n<path fill=\"none\" stroke=\"black\" d=\"M54.35,-68.75C62.71,-68.75 72.05,-68.75 80.76,-68.75\"/>\n<polygon fill=\"black\" stroke=\"black\" points=\"80.97,-72.25 90.97,-68.75 80.97,-65.25 80.97,-72.25\"/>\n</g>\n<!-- St0&#45;&gt;St0 -->\n<g id=\"edge3\" class=\"edge\">\n<title>St0&#45;&gt;St0</title>\n<path fill=\"none\" stroke=\"black\" d=\"M106.4,-90.55C105.59,-100.66 108.04,-109.5 113.75,-109.5 117.4,-109.5 119.72,-105.87 120.7,-100.6\"/>\n<polygon fill=\"black\" stroke=\"black\" points=\"124.2,-100.68 121.1,-90.55 117.21,-100.4 124.2,-100.68\"/>\n<text text-anchor=\"middle\" x=\"113.75\" y=\"-113.3\" font-family=\"Times,serif\" font-size=\"14.00\">a </text>\n</g>\n<!-- St6 -->\n<g id=\"node5\" class=\"node\">\n<title>St6</title>\n<ellipse fill=\"none\" stroke=\"black\" cx=\"210.24\" cy=\"-68.75\" rx=\"22.96\" ry=\"22.96\"/>\n<ellipse fill=\"none\" stroke=\"black\" cx=\"210.24\" cy=\"-68.75\" rx=\"27\" ry=\"27\"/>\n<text text-anchor=\"middle\" x=\"210.24\" y=\"-65.05\" font-family=\"Times,serif\" font-size=\"14.00\">St6</text>\n</g>\n<!-- St0&#45;&gt;St6 -->\n<g id=\"edge2\" class=\"edge\">\n<title>St0&#45;&gt;St6</title>\n<path fill=\"none\" stroke=\"black\" d=\"M136.66,-68.75C147.57,-68.75 161.03,-68.75 173.38,-68.75\"/>\n<polygon fill=\"black\" stroke=\"black\" points=\"173.42,-72.25 183.42,-68.75 173.42,-65.25 173.42,-72.25\"/>\n<text text-anchor=\"middle\" x=\"160\" y=\"-72.55\" font-family=\"Times,serif\" font-size=\"14.00\">b </text>\n</g>\n<!-- St3 -->\n<g id=\"node3\" class=\"node\">\n<title>St3</title>\n<ellipse fill=\"none\" stroke=\"black\" cx=\"398.24\" cy=\"-68.75\" rx=\"23\" ry=\"23\"/>\n<text text-anchor=\"middle\" x=\"398.24\" y=\"-65.05\" font-family=\"Times,serif\" font-size=\"14.00\">St3</text>\n</g>\n<!-- St3&#45;&gt;St3 -->\n<g id=\"edge7\" class=\"edge\">\n<title>St3&#45;&gt;St3</title>\n<path fill=\"none\" stroke=\"black\" d=\"M389.82,-90.13C388.78,-100.42 391.59,-109.5 398.24,-109.5 402.5,-109.5 405.18,-105.77 406.28,-100.39\"/>\n<polygon fill=\"black\" stroke=\"black\" points=\"409.79,-100.25 406.65,-90.13 402.79,-100 409.79,-100.25\"/>\n<text text-anchor=\"middle\" x=\"398.24\" y=\"-113.3\" font-family=\"Times,serif\" font-size=\"14.00\">a </text>\n</g>\n<!-- St5 -->\n<g id=\"node6\" class=\"node\">\n<title>St5</title>\n<ellipse fill=\"none\" stroke=\"black\" cx=\"494.73\" cy=\"-68.75\" rx=\"22.96\" ry=\"22.96\"/>\n<ellipse fill=\"none\" stroke=\"black\" cx=\"494.73\" cy=\"-68.75\" rx=\"27\" ry=\"27\"/>\n<text text-anchor=\"middle\" x=\"494.73\" y=\"-65.05\" font-family=\"Times,serif\" font-size=\"14.00\">St5</text>\n</g>\n<!-- St3&#45;&gt;St5 -->\n<g id=\"edge6\" class=\"edge\">\n<title>St3&#45;&gt;St5</title>\n<path fill=\"none\" stroke=\"black\" d=\"M421.15,-68.75C432.06,-68.75 445.52,-68.75 457.87,-68.75\"/>\n<polygon fill=\"black\" stroke=\"black\" points=\"457.91,-72.25 467.91,-68.75 457.91,-65.25 457.91,-72.25\"/>\n<text text-anchor=\"middle\" x=\"444.48\" y=\"-72.55\" font-family=\"Times,serif\" font-size=\"14.00\">b </text>\n</g>\n<!-- St7 -->\n<g id=\"node4\" class=\"node\">\n<title>St7</title>\n<ellipse fill=\"none\" stroke=\"black\" cx=\"305.74\" cy=\"-22.75\" rx=\"23\" ry=\"23\"/>\n<text text-anchor=\"middle\" x=\"305.74\" y=\"-19.05\" font-family=\"Times,serif\" font-size=\"14.00\">St7</text>\n</g>\n<!-- St7&#45;&gt;St3 -->\n<g id=\"edge8\" class=\"edge\">\n<title>St7&#45;&gt;St3</title>\n<path fill=\"none\" stroke=\"black\" d=\"M326.38,-32.73C338.71,-39 354.83,-47.19 368.57,-54.18\"/>\n<polygon fill=\"black\" stroke=\"black\" points=\"367.14,-57.37 377.64,-58.79 370.31,-51.13 367.14,-57.37\"/>\n<text text-anchor=\"middle\" x=\"351.99\" y=\"-52.55\" font-family=\"Times,serif\" font-size=\"14.00\">b </text>\n</g>\n<!-- St7&#45;&gt;St7 -->\n<g id=\"edge9\" class=\"edge\">\n<title>St7&#45;&gt;St7</title>\n<path fill=\"none\" stroke=\"black\" d=\"M297.69,-44.13C296.7,-54.42 299.38,-63.5 305.74,-63.5 309.81,-63.5 312.38,-59.77 313.44,-54.39\"/>\n<polygon fill=\"black\" stroke=\"black\" points=\"316.94,-54.25 313.79,-44.13 309.95,-54 316.94,-54.25\"/>\n<text text-anchor=\"middle\" x=\"305.74\" y=\"-67.3\" font-family=\"Times,serif\" font-size=\"14.00\">a </text>\n</g>\n<!-- St6&#45;&gt;St3 -->\n<g id=\"edge4\" class=\"edge\">\n<title>St6&#45;&gt;St3</title>\n<path fill=\"none\" stroke=\"black\" d=\"M235.83,-76.95C249.54,-81.09 267.02,-85.67 282.99,-87.75 303.04,-90.36 308.45,-90.47 328.49,-87.75 341.21,-86.02 354.89,-82.58 366.68,-79.09\"/>\n<polygon fill=\"black\" stroke=\"black\" points=\"367.96,-82.36 376.48,-76.06 365.89,-75.67 367.96,-82.36\"/>\n<text text-anchor=\"middle\" x=\"305.74\" y=\"-92.55\" font-family=\"Times,serif\" font-size=\"14.00\">b </text>\n</g>\n<!-- St6&#45;&gt;St7 -->\n<g id=\"edge5\" class=\"edge\">\n<title>St6&#45;&gt;St7</title>\n<path fill=\"none\" stroke=\"black\" d=\"M234.84,-57.14C247.29,-51.01 262.67,-43.45 275.83,-36.97\"/>\n<polygon fill=\"black\" stroke=\"black\" points=\"277.52,-40.04 284.95,-32.49 274.43,-33.76 277.52,-40.04\"/>\n<text text-anchor=\"middle\" x=\"259.99\" y=\"-51.55\" font-family=\"Times,serif\" font-size=\"14.00\">a </text>\n</g>\n<!-- St5&#45;&gt;St3 -->\n<g id=\"edge10\" class=\"edge\">\n<title>St5&#45;&gt;St3</title>\n<path fill=\"none\" stroke=\"black\" d=\"M471.68,-55.11C461.83,-50.58 449.97,-47.26 438.98,-49.75 435.26,-50.59 431.47,-51.83 427.8,-53.28\"/>\n<polygon fill=\"black\" stroke=\"black\" points=\"426.12,-50.19 418.42,-57.46 428.98,-56.58 426.12,-50.19\"/>\n<text text-anchor=\"middle\" x=\"444.48\" y=\"-53.55\" font-family=\"Times,serif\" font-size=\"14.00\">b </text>\n</g>\n<!-- St5&#45;&gt;St5 -->\n<g id=\"edge11\" class=\"edge\">\n<title>St5&#45;&gt;St5</title>\n<path fill=\"none\" stroke=\"black\" d=\"M485.44,-94.05C484.8,-104.57 487.9,-113.5 494.73,-113.5 499.22,-113.5 502.09,-109.65 503.36,-104.04\"/>\n<polygon fill=\"black\" stroke=\"black\" points=\"506.85,-104.26 504.02,-94.05 499.87,-103.79 506.85,-104.26\"/>\n<text text-anchor=\"middle\" x=\"494.73\" y=\"-117.3\" font-family=\"Times,serif\" font-size=\"14.00\">a </text>\n</g>\n</g>\n</svg>\n",
            "text/plain": [
              "<graphviz.graphs.Digraph at 0x79acb5749990>"
            ]
          },
          "metadata": {},
          "execution_count": 41
        }
      ]
    },
    {
      "cell_type": "code",
      "source": [
        "# Uncomment for final run\n",
        "# dotObj_dfa(minD_RE_odd_bs).render('minD_RE_odd_bs')"
      ],
      "metadata": {
        "id": "TTANQdxwoBaK"
      },
      "execution_count": null,
      "outputs": []
    },
    {
      "cell_type": "markdown",
      "source": [
        "# STEP-4 below"
      ],
      "metadata": {
        "id": "83nWBb9IkwLw"
      }
    },
    {
      "cell_type": "code",
      "source": [
        "# The student intersects minD_RE_odd_bs and DFA_desired\n",
        "\n",
        "D_int = intersect_dfa(minD_RE_odd_bs, DFA_desired)"
      ],
      "metadata": {
        "id": "t9dJc4xPDlZH"
      },
      "execution_count": 42,
      "outputs": []
    },
    {
      "cell_type": "code",
      "source": [
        "# The student draws this DFA\n",
        "dotObj_dfa(D_int)"
      ],
      "metadata": {
        "id": "eCQMcYXqDvgQ",
        "colab": {
          "base_uri": "https://localhost:8080/",
          "height": 1000
        },
        "outputId": "687e3039-0018-4a9e-fb77-df255cdfb4b4"
      },
      "execution_count": 43,
      "outputs": [
        {
          "output_type": "execute_result",
          "data": {
            "image/svg+xml": "<?xml version=\"1.0\" encoding=\"UTF-8\" standalone=\"no\"?>\n<!DOCTYPE svg PUBLIC \"-//W3C//DTD SVG 1.1//EN\"\n \"http://www.w3.org/Graphics/SVG/1.1/DTD/svg11.dtd\">\n<!-- Generated by graphviz version 2.43.0 (0)\n -->\n<!-- Title: %3 Pages: 1 -->\n<svg width=\"2585pt\" height=\"1028pt\"\n viewBox=\"0.00 0.00 2585.25 1028.37\" xmlns=\"http://www.w3.org/2000/svg\" xmlns:xlink=\"http://www.w3.org/1999/xlink\">\n<g id=\"graph0\" class=\"graph\" transform=\"scale(1 1) rotate(0) translate(4 1024.37)\">\n<title>%3</title>\n<polygon fill=\"white\" stroke=\"transparent\" points=\"-4,4 -4,-1024.37 2581.25,-1024.37 2581.25,4 -4,4\"/>\n<!-- EMPTY -->\n<g id=\"node1\" class=\"node\">\n<title>EMPTY</title>\n</g>\n<!-- \\(St0_St38\\) -->\n<g id=\"node23\" class=\"node\">\n<title>\\(St0_St38\\)</title>\n<ellipse fill=\"none\" stroke=\"black\" cx=\"139.75\" cy=\"-774\" rx=\"48.99\" ry=\"48.99\"/>\n<text text-anchor=\"middle\" x=\"139.75\" y=\"-770.3\" font-family=\"Times,serif\" font-size=\"14.00\">(St0_St38)</text>\n</g>\n<!-- EMPTY&#45;&gt;\\(St0_St38\\) -->\n<g id=\"edge1\" class=\"edge\">\n<title>EMPTY&#45;&gt;\\(St0_St38\\)</title>\n<path fill=\"none\" stroke=\"black\" d=\"M54.25,-774C62.15,-774 71.15,-774 80.27,-774\"/>\n<polygon fill=\"black\" stroke=\"black\" points=\"80.56,-777.5 90.56,-774 80.56,-770.5 80.56,-777.5\"/>\n</g>\n<!-- \\(St3_St17\\) -->\n<g id=\"node2\" class=\"node\">\n<title>\\(St3_St17\\)</title>\n<ellipse fill=\"none\" stroke=\"black\" cx=\"1341.67\" cy=\"-949\" rx=\"48.99\" ry=\"48.99\"/>\n<text text-anchor=\"middle\" x=\"1341.67\" y=\"-945.3\" font-family=\"Times,serif\" font-size=\"14.00\">(St3_St17)</text>\n</g>\n<!-- \\(St3_St31\\) -->\n<g id=\"node7\" class=\"node\">\n<title>\\(St3_St31\\)</title>\n<ellipse fill=\"none\" stroke=\"black\" cx=\"2240.62\" cy=\"-956\" rx=\"48.99\" ry=\"48.99\"/>\n<text text-anchor=\"middle\" x=\"2240.62\" y=\"-952.3\" font-family=\"Times,serif\" font-size=\"14.00\">(St3_St31)</text>\n</g>\n<!-- \\(St3_St17\\)&#45;&gt;\\(St3_St31\\) -->\n<g id=\"edge31\" class=\"edge\">\n<title>\\(St3_St17\\)&#45;&gt;\\(St3_St31\\)</title>\n<path fill=\"none\" stroke=\"black\" d=\"M1386.66,-968.06C1415.3,-978.77 1453.77,-990 1489.16,-990 1489.16,-990 1489.16,-990 2093.13,-990 2123.94,-990 2157.47,-982.78 2184.67,-974.99\"/>\n<polygon fill=\"black\" stroke=\"black\" points=\"2185.8,-978.3 2194.39,-972.1 2183.81,-971.59 2185.8,-978.3\"/>\n<text text-anchor=\"middle\" x=\"1791.15\" y=\"-993.8\" font-family=\"Times,serif\" font-size=\"14.00\">a </text>\n</g>\n<!-- \\(St5_St12\\) -->\n<g id=\"node32\" class=\"node\">\n<title>\\(St5_St12\\)</title>\n<ellipse fill=\"none\" stroke=\"black\" cx=\"1490.16\" cy=\"-747\" rx=\"48.97\" ry=\"48.97\"/>\n<ellipse fill=\"none\" stroke=\"black\" cx=\"1490.16\" cy=\"-747\" rx=\"52.99\" ry=\"52.99\"/>\n<text text-anchor=\"middle\" x=\"1490.16\" y=\"-743.3\" font-family=\"Times,serif\" font-size=\"14.00\">(St5_St12)</text>\n</g>\n<!-- \\(St3_St17\\)&#45;&gt;\\(St5_St12\\) -->\n<g id=\"edge49\" class=\"edge\">\n<title>\\(St3_St17\\)&#45;&gt;\\(St5_St12\\)</title>\n<path fill=\"none\" stroke=\"black\" d=\"M1372.15,-910.49C1378.24,-902.43 1384.57,-893.97 1390.42,-886 1411.59,-857.14 1434.79,-824.54 1453.38,-798.16\"/>\n<polygon fill=\"black\" stroke=\"black\" points=\"1456.36,-800.02 1459.25,-789.83 1450.63,-795.99 1456.36,-800.02\"/>\n<text text-anchor=\"middle\" x=\"1413.92\" y=\"-862.8\" font-family=\"Times,serif\" font-size=\"14.00\">b </text>\n</g>\n<!-- \\(St3_St16\\) -->\n<g id=\"node3\" class=\"node\">\n<title>\\(St3_St16\\)</title>\n<ellipse fill=\"none\" stroke=\"black\" cx=\"1341.67\" cy=\"-745\" rx=\"48.99\" ry=\"48.99\"/>\n<text text-anchor=\"middle\" x=\"1341.67\" y=\"-741.3\" font-family=\"Times,serif\" font-size=\"14.00\">(St3_St16)</text>\n</g>\n<!-- \\(St3_St1\\) -->\n<g id=\"node19\" class=\"node\">\n<title>\\(St3_St1\\)</title>\n<ellipse fill=\"none\" stroke=\"black\" cx=\"2389.11\" cy=\"-544\" rx=\"44.39\" ry=\"44.39\"/>\n<text text-anchor=\"middle\" x=\"2389.11\" y=\"-540.3\" font-family=\"Times,serif\" font-size=\"14.00\">(St3_St1)</text>\n</g>\n<!-- \\(St3_St16\\)&#45;&gt;\\(St3_St1\\) -->\n<g id=\"edge32\" class=\"edge\">\n<title>\\(St3_St16\\)&#45;&gt;\\(St3_St1\\)</title>\n<path fill=\"none\" stroke=\"black\" d=\"M1378.36,-712.87C1406.4,-691 1447.55,-666 1489.16,-666 1489.16,-666 1489.16,-666 1719.9,-666 1851.05,-666 1883.73,-658 2014.88,-658 2014.88,-658 2014.88,-658 2241.62,-658 2277.36,-658 2289.02,-654.39 2318.37,-634 2334.66,-622.67 2348.91,-606.39 2360.2,-590.77\"/>\n<polygon fill=\"black\" stroke=\"black\" points=\"2363.32,-592.41 2366.16,-582.2 2357.58,-588.41 2363.32,-592.41\"/>\n<text text-anchor=\"middle\" x=\"1863.39\" y=\"-665.8\" font-family=\"Times,serif\" font-size=\"14.00\">a </text>\n</g>\n<!-- \\(St3_St16\\)&#45;&gt;\\(St5_St12\\) -->\n<g id=\"edge57\" class=\"edge\">\n<title>\\(St3_St16\\)&#45;&gt;\\(St5_St12\\)</title>\n<path fill=\"none\" stroke=\"black\" d=\"M1390.64,-745.65C1402.31,-745.81 1414.95,-745.99 1427.17,-746.15\"/>\n<polygon fill=\"black\" stroke=\"black\" points=\"1427.25,-749.65 1437.3,-746.29 1427.35,-742.66 1427.25,-749.65\"/>\n<text text-anchor=\"middle\" x=\"1413.92\" y=\"-749.8\" font-family=\"Times,serif\" font-size=\"14.00\">b </text>\n</g>\n<!-- \\(St5_St1\\) -->\n<g id=\"node4\" class=\"node\">\n<title>\\(St5_St1\\)</title>\n<ellipse fill=\"none\" stroke=\"black\" cx=\"2533.05\" cy=\"-544\" rx=\"44.39\" ry=\"44.39\"/>\n<text text-anchor=\"middle\" x=\"2533.05\" y=\"-540.3\" font-family=\"Times,serif\" font-size=\"14.00\">(St5_St1)</text>\n</g>\n<!-- \\(St5_St1\\)&#45;&gt;\\(St5_St1\\) -->\n<g id=\"edge27\" class=\"edge\">\n<title>\\(St5_St1\\)&#45;&gt;\\(St5_St1\\)</title>\n<path fill=\"none\" stroke=\"black\" d=\"M2520.81,-586.73C2521.56,-597.83 2525.64,-606.2 2533.05,-606.2 2538.03,-606.2 2541.51,-602.42 2543.48,-596.57\"/>\n<polygon fill=\"black\" stroke=\"black\" points=\"2546.93,-597.2 2545.3,-586.73 2540.04,-595.93 2546.93,-597.2\"/>\n<text text-anchor=\"middle\" x=\"2533.05\" y=\"-610\" font-family=\"Times,serif\" font-size=\"14.00\">a </text>\n</g>\n<!-- \\(St5_St1\\)&#45;&gt;\\(St3_St1\\) -->\n<g id=\"edge34\" class=\"edge\">\n<title>\\(St5_St1\\)&#45;&gt;\\(St3_St1\\)</title>\n<path fill=\"none\" stroke=\"black\" d=\"M2488.47,-544C2474.28,-544 2458.36,-544 2443.53,-544\"/>\n<polygon fill=\"black\" stroke=\"black\" points=\"2443.47,-540.5 2433.47,-544 2443.47,-547.5 2443.47,-540.5\"/>\n<text text-anchor=\"middle\" x=\"2465.36\" y=\"-547.8\" font-family=\"Times,serif\" font-size=\"14.00\">b </text>\n</g>\n<!-- \\(St0_St8\\) -->\n<g id=\"node5\" class=\"node\">\n<title>\\(St0_St8\\)</title>\n<ellipse fill=\"none\" stroke=\"black\" cx=\"422.18\" cy=\"-629\" rx=\"44.39\" ry=\"44.39\"/>\n<text text-anchor=\"middle\" x=\"422.18\" y=\"-625.3\" font-family=\"Times,serif\" font-size=\"14.00\">(St0_St8)</text>\n</g>\n<!-- \\(St0_St3\\) -->\n<g id=\"node21\" class=\"node\">\n<title>\\(St0_St3\\)</title>\n<ellipse fill=\"none\" stroke=\"black\" cx=\"557.57\" cy=\"-629\" rx=\"44.39\" ry=\"44.39\"/>\n<text text-anchor=\"middle\" x=\"557.57\" y=\"-625.3\" font-family=\"Times,serif\" font-size=\"14.00\">(St0_St3)</text>\n</g>\n<!-- \\(St0_St8\\)&#45;&gt;\\(St0_St3\\) -->\n<g id=\"edge29\" class=\"edge\">\n<title>\\(St0_St8\\)&#45;&gt;\\(St0_St3\\)</title>\n<path fill=\"none\" stroke=\"black\" d=\"M466.49,-629C478.14,-629 490.87,-629 503.01,-629\"/>\n<polygon fill=\"black\" stroke=\"black\" points=\"503.02,-632.5 513.02,-629 503.02,-625.5 503.02,-632.5\"/>\n<text text-anchor=\"middle\" x=\"489.87\" y=\"-632.8\" font-family=\"Times,serif\" font-size=\"14.00\">a </text>\n</g>\n<!-- \\(St6_St25\\) -->\n<g id=\"node30\" class=\"node\">\n<title>\\(St6_St25\\)</title>\n<ellipse fill=\"none\" stroke=\"black\" cx=\"701.51\" cy=\"-549\" rx=\"48.97\" ry=\"48.97\"/>\n<ellipse fill=\"none\" stroke=\"black\" cx=\"701.51\" cy=\"-549\" rx=\"52.99\" ry=\"52.99\"/>\n<text text-anchor=\"middle\" x=\"701.51\" y=\"-545.3\" font-family=\"Times,serif\" font-size=\"14.00\">(St6_St25)</text>\n</g>\n<!-- \\(St0_St8\\)&#45;&gt;\\(St6_St25\\) -->\n<g id=\"edge39\" class=\"edge\">\n<title>\\(St0_St8\\)&#45;&gt;\\(St6_St25\\)</title>\n<path fill=\"none\" stroke=\"black\" d=\"M454.23,-598.39C470.47,-584.38 491.49,-569.11 513.37,-561 553.28,-546.21 601.22,-543.39 638.59,-544.18\"/>\n<polygon fill=\"black\" stroke=\"black\" points=\"638.73,-547.69 648.83,-544.49 638.94,-540.69 638.73,-547.69\"/>\n<text text-anchor=\"middle\" x=\"557.57\" y=\"-564.8\" font-family=\"Times,serif\" font-size=\"14.00\">b </text>\n</g>\n<!-- \\(St3_St25\\) -->\n<g id=\"node6\" class=\"node\">\n<title>\\(St3_St25\\)</title>\n<ellipse fill=\"none\" stroke=\"black\" cx=\"1341.67\" cy=\"-192\" rx=\"48.99\" ry=\"48.99\"/>\n<text text-anchor=\"middle\" x=\"1341.67\" y=\"-188.3\" font-family=\"Times,serif\" font-size=\"14.00\">(St3_St25)</text>\n</g>\n<!-- \\(St3_St25\\)&#45;&gt;\\(St5_St1\\) -->\n<g id=\"edge61\" class=\"edge\">\n<title>\\(St3_St25\\)&#45;&gt;\\(St5_St1\\)</title>\n<path fill=\"none\" stroke=\"black\" d=\"M1355.84,-145.03C1374.99,-88.19 1416.42,0 1489.16,0 1489.16,0 1489.16,0 2390.11,0 2414.61,0 2424.86,-1.36 2441.86,-19 2470.73,-48.96 2461.49,-67.47 2470.86,-108 2502.19,-243.51 2519.9,-406.67 2527.52,-489.7\"/>\n<polygon fill=\"black\" stroke=\"black\" points=\"2524.06,-490.26 2528.44,-499.91 2531.03,-489.63 2524.06,-490.26\"/>\n<text text-anchor=\"middle\" x=\"1939.64\" y=\"-3.8\" font-family=\"Times,serif\" font-size=\"14.00\">b </text>\n</g>\n<!-- \\(St3_St35\\) -->\n<g id=\"node20\" class=\"node\">\n<title>\\(St3_St35\\)</title>\n<ellipse fill=\"none\" stroke=\"black\" cx=\"1490.16\" cy=\"-211\" rx=\"48.99\" ry=\"48.99\"/>\n<text text-anchor=\"middle\" x=\"1490.16\" y=\"-207.3\" font-family=\"Times,serif\" font-size=\"14.00\">(St3_St35)</text>\n</g>\n<!-- \\(St3_St25\\)&#45;&gt;\\(St3_St35\\) -->\n<g id=\"edge18\" class=\"edge\">\n<title>\\(St3_St25\\)&#45;&gt;\\(St3_St35\\)</title>\n<path fill=\"none\" stroke=\"black\" d=\"M1390.23,-198.17C1403.35,-199.87 1417.72,-201.73 1431.35,-203.5\"/>\n<polygon fill=\"black\" stroke=\"black\" points=\"1431.22,-207.01 1441.59,-204.83 1432.12,-200.07 1431.22,-207.01\"/>\n<text text-anchor=\"middle\" x=\"1413.92\" y=\"-205.8\" font-family=\"Times,serif\" font-size=\"14.00\">a </text>\n</g>\n<!-- \\(St3_St31\\)&#45;&gt;\\(St3_St1\\) -->\n<g id=\"edge67\" class=\"edge\">\n<title>\\(St3_St31\\)&#45;&gt;\\(St3_St1\\)</title>\n<path fill=\"none\" stroke=\"black\" d=\"M2263.6,-912.81C2272.19,-895.13 2281.77,-874.31 2289.37,-855 2324.36,-765.98 2356.15,-659.09 2373.74,-596.64\"/>\n<polygon fill=\"black\" stroke=\"black\" points=\"2377.21,-597.2 2376.54,-586.63 2370.47,-595.31 2377.21,-597.2\"/>\n<text text-anchor=\"middle\" x=\"2312.87\" y=\"-808.8\" font-family=\"Times,serif\" font-size=\"14.00\">a </text>\n</g>\n<!-- \\(St5_St21\\) -->\n<g id=\"node33\" class=\"node\">\n<title>\\(St5_St21\\)</title>\n<ellipse fill=\"none\" stroke=\"black\" cx=\"2389.11\" cy=\"-960\" rx=\"48.97\" ry=\"48.97\"/>\n<ellipse fill=\"none\" stroke=\"black\" cx=\"2389.11\" cy=\"-960\" rx=\"52.99\" ry=\"52.99\"/>\n<text text-anchor=\"middle\" x=\"2389.11\" y=\"-956.3\" font-family=\"Times,serif\" font-size=\"14.00\">(St5_St21)</text>\n</g>\n<!-- \\(St3_St31\\)&#45;&gt;\\(St5_St21\\) -->\n<g id=\"edge36\" class=\"edge\">\n<title>\\(St3_St31\\)&#45;&gt;\\(St5_St21\\)</title>\n<path fill=\"none\" stroke=\"black\" d=\"M2289.59,-957.31C2301.26,-957.63 2313.9,-957.97 2326.12,-958.31\"/>\n<polygon fill=\"black\" stroke=\"black\" points=\"2326.16,-961.81 2336.25,-958.58 2326.35,-954.81 2326.16,-961.81\"/>\n<text text-anchor=\"middle\" x=\"2312.87\" y=\"-961.8\" font-family=\"Times,serif\" font-size=\"14.00\">b </text>\n</g>\n<!-- \\(St0_St37\\) -->\n<g id=\"node8\" class=\"node\">\n<title>\\(St0_St37\\)</title>\n<ellipse fill=\"none\" stroke=\"black\" cx=\"283.24\" cy=\"-712\" rx=\"48.99\" ry=\"48.99\"/>\n<text text-anchor=\"middle\" x=\"283.24\" y=\"-708.3\" font-family=\"Times,serif\" font-size=\"14.00\">(St0_St37)</text>\n</g>\n<!-- \\(St0_St37\\)&#45;&gt;\\(St0_St8\\) -->\n<g id=\"edge35\" class=\"edge\">\n<title>\\(St0_St37\\)&#45;&gt;\\(St0_St8\\)</title>\n<path fill=\"none\" stroke=\"black\" d=\"M325.32,-687.1C341.01,-677.59 359,-666.69 375.12,-656.92\"/>\n<polygon fill=\"black\" stroke=\"black\" points=\"377.12,-659.8 383.85,-651.62 373.49,-653.81 377.12,-659.8\"/>\n<text text-anchor=\"middle\" x=\"354.98\" y=\"-673.8\" font-family=\"Times,serif\" font-size=\"14.00\">a </text>\n</g>\n<!-- \\(St6_St26\\) -->\n<g id=\"node28\" class=\"node\">\n<title>\\(St6_St26\\)</title>\n<ellipse fill=\"none\" stroke=\"black\" cx=\"701.51\" cy=\"-712\" rx=\"48.97\" ry=\"48.97\"/>\n<ellipse fill=\"none\" stroke=\"black\" cx=\"701.51\" cy=\"-712\" rx=\"52.99\" ry=\"52.99\"/>\n<text text-anchor=\"middle\" x=\"701.51\" y=\"-708.3\" font-family=\"Times,serif\" font-size=\"14.00\">(St6_St26)</text>\n</g>\n<!-- \\(St0_St37\\)&#45;&gt;\\(St6_St26\\) -->\n<g id=\"edge51\" class=\"edge\">\n<title>\\(St0_St37\\)&#45;&gt;\\(St6_St26\\)</title>\n<path fill=\"none\" stroke=\"black\" d=\"M331.99,-712C407.53,-712 554.61,-712 638.31,-712\"/>\n<polygon fill=\"black\" stroke=\"black\" points=\"638.44,-715.5 648.44,-712 638.44,-708.5 638.44,-715.5\"/>\n<text text-anchor=\"middle\" x=\"489.87\" y=\"-715.8\" font-family=\"Times,serif\" font-size=\"14.00\">b </text>\n</g>\n<!-- \\(St6_St1\\) -->\n<g id=\"node9\" class=\"node\">\n<title>\\(St6_St1\\)</title>\n<ellipse fill=\"none\" stroke=\"black\" cx=\"1201.73\" cy=\"-649\" rx=\"44.39\" ry=\"44.39\"/>\n<text text-anchor=\"middle\" x=\"1201.73\" y=\"-645.3\" font-family=\"Times,serif\" font-size=\"14.00\">(St6_St1)</text>\n</g>\n<!-- \\(St7_St1\\) -->\n<g id=\"node11\" class=\"node\">\n<title>\\(St7_St1\\)</title>\n<ellipse fill=\"none\" stroke=\"black\" cx=\"1341.67\" cy=\"-472\" rx=\"44.39\" ry=\"44.39\"/>\n<text text-anchor=\"middle\" x=\"1341.67\" y=\"-468.3\" font-family=\"Times,serif\" font-size=\"14.00\">(St7_St1)</text>\n</g>\n<!-- \\(St6_St1\\)&#45;&gt;\\(St7_St1\\) -->\n<g id=\"edge53\" class=\"edge\">\n<title>\\(St6_St1\\)&#45;&gt;\\(St7_St1\\)</title>\n<path fill=\"none\" stroke=\"black\" d=\"M1229.65,-614.45C1251.97,-585.82 1283.77,-545.01 1307.62,-514.41\"/>\n<polygon fill=\"black\" stroke=\"black\" points=\"1310.43,-516.5 1313.82,-506.46 1304.91,-512.2 1310.43,-516.5\"/>\n<text text-anchor=\"middle\" x=\"1269.43\" y=\"-569.8\" font-family=\"Times,serif\" font-size=\"14.00\">a </text>\n</g>\n<!-- \\(St6_St1\\)&#45;&gt;\\(St3_St1\\) -->\n<g id=\"edge56\" class=\"edge\">\n<title>\\(St6_St1\\)&#45;&gt;\\(St3_St1\\)</title>\n<path fill=\"none\" stroke=\"black\" d=\"M1244.3,-636.99C1271.48,-630.18 1307.89,-623 1340.67,-623 1340.67,-623 1340.67,-623 1719.9,-623 1851.01,-623 1883.77,-620 2014.88,-620 2014.88,-620 2014.88,-620 2241.62,-620 2280.31,-620 2318.94,-598.86 2346.81,-578.87\"/>\n<polygon fill=\"black\" stroke=\"black\" points=\"2349.15,-581.5 2355.1,-572.73 2344.98,-575.87 2349.15,-581.5\"/>\n<text text-anchor=\"middle\" x=\"1791.15\" y=\"-625.8\" font-family=\"Times,serif\" font-size=\"14.00\">b </text>\n</g>\n<!-- \\(St7_St7\\) -->\n<g id=\"node10\" class=\"node\">\n<title>\\(St7_St7\\)</title>\n<ellipse fill=\"none\" stroke=\"black\" cx=\"1067.34\" cy=\"-575\" rx=\"44.39\" ry=\"44.39\"/>\n<text text-anchor=\"middle\" x=\"1067.34\" y=\"-571.3\" font-family=\"Times,serif\" font-size=\"14.00\">(St7_St7)</text>\n</g>\n<!-- \\(St7_St3\\) -->\n<g id=\"node14\" class=\"node\">\n<title>\\(St7_St3\\)</title>\n<ellipse fill=\"none\" stroke=\"black\" cx=\"1201.73\" cy=\"-472\" rx=\"44.39\" ry=\"44.39\"/>\n<text text-anchor=\"middle\" x=\"1201.73\" y=\"-468.3\" font-family=\"Times,serif\" font-size=\"14.00\">(St7_St3)</text>\n</g>\n<!-- \\(St7_St7\\)&#45;&gt;\\(St7_St3\\) -->\n<g id=\"edge65\" class=\"edge\">\n<title>\\(St7_St7\\)&#45;&gt;\\(St7_St3\\)</title>\n<path fill=\"none\" stroke=\"black\" d=\"M1102.78,-548.21C1119.79,-534.97 1140.46,-518.89 1158.42,-504.91\"/>\n<polygon fill=\"black\" stroke=\"black\" points=\"1160.72,-507.56 1166.46,-498.66 1156.42,-502.04 1160.72,-507.56\"/>\n<text text-anchor=\"middle\" x=\"1134.53\" y=\"-530.8\" font-family=\"Times,serif\" font-size=\"14.00\">a </text>\n</g>\n<!-- \\(St7_St7\\)&#45;&gt;\\(St3_St1\\) -->\n<g id=\"edge19\" class=\"edge\">\n<title>\\(St7_St7\\)&#45;&gt;\\(St3_St1\\)</title>\n<path fill=\"none\" stroke=\"black\" d=\"M1111.56,-575.98C1137.43,-576.49 1170.96,-577 1200.73,-577 1200.73,-577 1200.73,-577 1719.9,-577 1986.03,-577 2053.81,-585.91 2318.37,-557 2323.88,-556.4 2329.6,-555.61 2335.3,-554.71\"/>\n<polygon fill=\"black\" stroke=\"black\" points=\"2336.19,-558.11 2345.48,-553 2335.03,-551.21 2336.19,-558.11\"/>\n<text text-anchor=\"middle\" x=\"1718.9\" y=\"-580.8\" font-family=\"Times,serif\" font-size=\"14.00\">b </text>\n</g>\n<!-- \\(St7_St1\\)&#45;&gt;\\(St7_St1\\) -->\n<g id=\"edge64\" class=\"edge\">\n<title>\\(St7_St1\\)&#45;&gt;\\(St7_St1\\)</title>\n<path fill=\"none\" stroke=\"black\" d=\"M1328.27,-514.15C1328.98,-525.54 1333.45,-534.2 1341.67,-534.2 1347.2,-534.2 1351.03,-530.29 1353.16,-524.27\"/>\n<polygon fill=\"black\" stroke=\"black\" points=\"1356.66,-524.63 1355.07,-514.15 1349.78,-523.33 1356.66,-524.63\"/>\n<text text-anchor=\"middle\" x=\"1341.67\" y=\"-538\" font-family=\"Times,serif\" font-size=\"14.00\">a </text>\n</g>\n<!-- \\(St7_St1\\)&#45;&gt;\\(St3_St1\\) -->\n<g id=\"edge40\" class=\"edge\">\n<title>\\(St7_St1\\)&#45;&gt;\\(St3_St1\\)</title>\n<path fill=\"none\" stroke=\"black\" d=\"M1377.37,-498.1C1405.85,-516.91 1448.05,-539 1489.16,-539 1489.16,-539 1489.16,-539 1792.15,-539 1992.21,-539 2230.05,-541.85 2334.46,-543.25\"/>\n<polygon fill=\"black\" stroke=\"black\" points=\"2334.7,-546.75 2344.74,-543.39 2334.79,-539.75 2334.7,-546.75\"/>\n<text text-anchor=\"middle\" x=\"1863.39\" y=\"-543.8\" font-family=\"Times,serif\" font-size=\"14.00\">b </text>\n</g>\n<!-- \\(St7_St35\\) -->\n<g id=\"node12\" class=\"node\">\n<title>\\(St7_St35\\)</title>\n<ellipse fill=\"none\" stroke=\"black\" cx=\"927.4\" cy=\"-560\" rx=\"48.99\" ry=\"48.99\"/>\n<text text-anchor=\"middle\" x=\"927.4\" y=\"-556.3\" font-family=\"Times,serif\" font-size=\"14.00\">(St7_St35)</text>\n</g>\n<!-- \\(St7_St35\\)&#45;&gt;\\(St7_St7\\) -->\n<g id=\"edge12\" class=\"edge\">\n<title>\\(St7_St35\\)&#45;&gt;\\(St7_St7\\)</title>\n<path fill=\"none\" stroke=\"black\" d=\"M975.87,-565.16C987.8,-566.46 1000.69,-567.86 1012.89,-569.19\"/>\n<polygon fill=\"black\" stroke=\"black\" points=\"1012.63,-572.68 1022.95,-570.28 1013.38,-565.72 1012.63,-572.68\"/>\n<text text-anchor=\"middle\" x=\"999.64\" y=\"-571.8\" font-family=\"Times,serif\" font-size=\"14.00\">a </text>\n</g>\n<!-- \\(St7_St35\\)&#45;&gt;\\(St3_St1\\) -->\n<g id=\"edge26\" class=\"edge\">\n<title>\\(St7_St35\\)&#45;&gt;\\(St3_St1\\)</title>\n<path fill=\"none\" stroke=\"black\" d=\"M931.73,-511.29C939.98,-433.77 968.46,-291 1066.34,-291 1066.34,-291 1066.34,-291 1567.41,-291 1727.85,-291 2157.3,-192.89 2289.37,-284 2356.24,-330.14 2377.86,-427.95 2384.83,-489.58\"/>\n<polygon fill=\"black\" stroke=\"black\" points=\"2381.39,-490.3 2385.9,-499.89 2388.35,-489.58 2381.39,-490.3\"/>\n<text text-anchor=\"middle\" x=\"1642.65\" y=\"-294.8\" font-family=\"Times,serif\" font-size=\"14.00\">b </text>\n</g>\n<!-- \\(St3_St21\\) -->\n<g id=\"node13\" class=\"node\">\n<title>\\(St3_St21\\)</title>\n<ellipse fill=\"none\" stroke=\"black\" cx=\"1791.15\" cy=\"-842\" rx=\"48.99\" ry=\"48.99\"/>\n<text text-anchor=\"middle\" x=\"1791.15\" y=\"-838.3\" font-family=\"Times,serif\" font-size=\"14.00\">(St3_St21)</text>\n</g>\n<!-- \\(St3_St21\\)&#45;&gt;\\(St3_St1\\) -->\n<g id=\"edge50\" class=\"edge\">\n<title>\\(St3_St21\\)&#45;&gt;\\(St3_St1\\)</title>\n<path fill=\"none\" stroke=\"black\" d=\"M1837.44,-826.22C1853.11,-820.76 1870.77,-814.61 1886.89,-809 1954.66,-785.42 1969.84,-773.68 2039.38,-756 2161.18,-725.04 2219.73,-787.86 2318.37,-710 2352.9,-682.74 2370.55,-635.26 2379.43,-598.05\"/>\n<polygon fill=\"black\" stroke=\"black\" points=\"2382.95,-598.38 2381.71,-587.85 2376.12,-596.85 2382.95,-598.38\"/>\n<text text-anchor=\"middle\" x=\"2092.13\" y=\"-759.8\" font-family=\"Times,serif\" font-size=\"14.00\">a </text>\n</g>\n<!-- \\(St5_St16\\) -->\n<g id=\"node29\" class=\"node\">\n<title>\\(St5_St16\\)</title>\n<ellipse fill=\"none\" stroke=\"black\" cx=\"1939.64\" cy=\"-871\" rx=\"48.97\" ry=\"48.97\"/>\n<ellipse fill=\"none\" stroke=\"black\" cx=\"1939.64\" cy=\"-871\" rx=\"52.99\" ry=\"52.99\"/>\n<text text-anchor=\"middle\" x=\"1939.64\" y=\"-867.3\" font-family=\"Times,serif\" font-size=\"14.00\">(St5_St16)</text>\n</g>\n<!-- \\(St3_St21\\)&#45;&gt;\\(St5_St16\\) -->\n<g id=\"edge48\" class=\"edge\">\n<title>\\(St3_St21\\)&#45;&gt;\\(St5_St16\\)</title>\n<path fill=\"none\" stroke=\"black\" d=\"M1839.3,-851.34C1851.51,-853.75 1864.83,-856.39 1877.64,-858.93\"/>\n<polygon fill=\"black\" stroke=\"black\" points=\"1877.28,-862.42 1887.77,-860.93 1878.64,-855.56 1877.28,-862.42\"/>\n<text text-anchor=\"middle\" x=\"1863.39\" y=\"-859.8\" font-family=\"Times,serif\" font-size=\"14.00\">b </text>\n</g>\n<!-- \\(St7_St3\\)&#45;&gt;\\(St3_St25\\) -->\n<g id=\"edge11\" class=\"edge\">\n<title>\\(St7_St3\\)&#45;&gt;\\(St3_St25\\)</title>\n<path fill=\"none\" stroke=\"black\" d=\"M1222.2,-432.48C1246.42,-383.31 1287.85,-299.21 1314.75,-244.63\"/>\n<polygon fill=\"black\" stroke=\"black\" points=\"1317.98,-245.98 1319.26,-235.46 1311.7,-242.89 1317.98,-245.98\"/>\n<text text-anchor=\"middle\" x=\"1269.43\" y=\"-344.8\" font-family=\"Times,serif\" font-size=\"14.00\">b </text>\n</g>\n<!-- \\(St7_St3\\)&#45;&gt;\\(St7_St1\\) -->\n<g id=\"edge55\" class=\"edge\">\n<title>\\(St7_St3\\)&#45;&gt;\\(St7_St1\\)</title>\n<path fill=\"none\" stroke=\"black\" d=\"M1246,-472C1258.97,-472 1273.35,-472 1286.91,-472\"/>\n<polygon fill=\"black\" stroke=\"black\" points=\"1287.08,-475.5 1297.08,-472 1287.08,-468.5 1287.08,-475.5\"/>\n<text text-anchor=\"middle\" x=\"1269.43\" y=\"-475.8\" font-family=\"Times,serif\" font-size=\"14.00\">a </text>\n</g>\n<!-- \\(St3_St7\\) -->\n<g id=\"node15\" class=\"node\">\n<title>\\(St3_St7\\)</title>\n<ellipse fill=\"none\" stroke=\"black\" cx=\"1642.65\" cy=\"-211\" rx=\"44.39\" ry=\"44.39\"/>\n<text text-anchor=\"middle\" x=\"1642.65\" y=\"-207.3\" font-family=\"Times,serif\" font-size=\"14.00\">(St3_St7)</text>\n</g>\n<!-- \\(St3_St7\\)&#45;&gt;\\(St5_St1\\) -->\n<g id=\"edge6\" class=\"edge\">\n<title>\\(St3_St7\\)&#45;&gt;\\(St5_St1\\)</title>\n<path fill=\"none\" stroke=\"black\" d=\"M1686.74,-205.71C1818.3,-190.42 2212.27,-151.21 2318.37,-216 2423.28,-280.07 2486.62,-417.35 2514.75,-492.4\"/>\n<polygon fill=\"black\" stroke=\"black\" points=\"2511.59,-493.94 2518.33,-502.12 2518.16,-491.52 2511.59,-493.94\"/>\n<text text-anchor=\"middle\" x=\"2092.13\" y=\"-185.8\" font-family=\"Times,serif\" font-size=\"14.00\">b </text>\n</g>\n<!-- \\(St3_St3\\) -->\n<g id=\"node22\" class=\"node\">\n<title>\\(St3_St3\\)</title>\n<ellipse fill=\"none\" stroke=\"black\" cx=\"1791.15\" cy=\"-409\" rx=\"44.39\" ry=\"44.39\"/>\n<text text-anchor=\"middle\" x=\"1791.15\" y=\"-405.3\" font-family=\"Times,serif\" font-size=\"14.00\">(St3_St3)</text>\n</g>\n<!-- \\(St3_St7\\)&#45;&gt;\\(St3_St3\\) -->\n<g id=\"edge28\" class=\"edge\">\n<title>\\(St3_St7\\)&#45;&gt;\\(St3_St3\\)</title>\n<path fill=\"none\" stroke=\"black\" d=\"M1673.45,-242.86C1680.85,-251.18 1688.6,-260.27 1695.4,-269 1719,-299.29 1743.22,-335.19 1761.27,-363.05\"/>\n<polygon fill=\"black\" stroke=\"black\" points=\"1758.55,-365.29 1766.9,-371.8 1764.43,-361.5 1758.55,-365.29\"/>\n<text text-anchor=\"middle\" x=\"1718.9\" y=\"-310.8\" font-family=\"Times,serif\" font-size=\"14.00\">a </text>\n</g>\n<!-- \\(St7_St36\\) -->\n<g id=\"node16\" class=\"node\">\n<title>\\(St7_St36\\)</title>\n<ellipse fill=\"none\" stroke=\"black\" cx=\"927.4\" cy=\"-836\" rx=\"48.99\" ry=\"48.99\"/>\n<text text-anchor=\"middle\" x=\"927.4\" y=\"-832.3\" font-family=\"Times,serif\" font-size=\"14.00\">(St7_St36)</text>\n</g>\n<!-- \\(St7_St36\\)&#45;&gt;\\(St7_St7\\) -->\n<g id=\"edge47\" class=\"edge\">\n<title>\\(St7_St36\\)&#45;&gt;\\(St7_St7\\)</title>\n<path fill=\"none\" stroke=\"black\" d=\"M951.02,-793.19C975.72,-746.46 1015.18,-671.79 1040.93,-623.07\"/>\n<polygon fill=\"black\" stroke=\"black\" points=\"1044.15,-624.47 1045.73,-613.99 1037.96,-621.2 1044.15,-624.47\"/>\n<text text-anchor=\"middle\" x=\"999.64\" y=\"-708.8\" font-family=\"Times,serif\" font-size=\"14.00\">a </text>\n</g>\n<!-- \\(St7_St36\\)&#45;&gt;\\(St3_St21\\) -->\n<g id=\"edge24\" class=\"edge\">\n<title>\\(St7_St36\\)&#45;&gt;\\(St3_St21\\)</title>\n<path fill=\"none\" stroke=\"black\" d=\"M973.8,-851.5C1000.43,-859.25 1034.92,-867 1066.34,-867 1066.34,-867 1066.34,-867 1643.65,-867 1673.62,-867 1706.56,-861.85 1733.59,-856.23\"/>\n<polygon fill=\"black\" stroke=\"black\" points=\"1734.61,-859.59 1743.65,-854.06 1733.14,-852.75 1734.61,-859.59\"/>\n<text text-anchor=\"middle\" x=\"1341.67\" y=\"-870.8\" font-family=\"Times,serif\" font-size=\"14.00\">b </text>\n</g>\n<!-- \\(St0_St1\\) -->\n<g id=\"node17\" class=\"node\">\n<title>\\(St0_St1\\)</title>\n<ellipse fill=\"none\" stroke=\"black\" cx=\"816.45\" cy=\"-650\" rx=\"44.39\" ry=\"44.39\"/>\n<text text-anchor=\"middle\" x=\"816.45\" y=\"-646.3\" font-family=\"Times,serif\" font-size=\"14.00\">(St0_St1)</text>\n</g>\n<!-- \\(St0_St1\\)&#45;&gt;\\(St6_St1\\) -->\n<g id=\"edge4\" class=\"edge\">\n<title>\\(St0_St1\\)&#45;&gt;\\(St6_St1\\)</title>\n<path fill=\"none\" stroke=\"black\" d=\"M860.68,-649.89C931.07,-649.7 1070.32,-649.34 1146.98,-649.14\"/>\n<polygon fill=\"black\" stroke=\"black\" points=\"1147.38,-652.64 1157.37,-649.11 1147.36,-645.64 1147.38,-652.64\"/>\n<text text-anchor=\"middle\" x=\"999.64\" y=\"-652.8\" font-family=\"Times,serif\" font-size=\"14.00\">b </text>\n</g>\n<!-- \\(St0_St1\\)&#45;&gt;\\(St0_St1\\) -->\n<g id=\"edge8\" class=\"edge\">\n<title>\\(St0_St1\\)&#45;&gt;\\(St0_St1\\)</title>\n<path fill=\"none\" stroke=\"black\" d=\"M795.83,-689.18C795.94,-701.99 802.81,-712.2 816.45,-712.2 826.26,-712.2 832.57,-706.92 835.38,-699.2\"/>\n<polygon fill=\"black\" stroke=\"black\" points=\"838.86,-699.62 837.08,-689.18 831.96,-698.45 838.86,-699.62\"/>\n<text text-anchor=\"middle\" x=\"816.45\" y=\"-716\" font-family=\"Times,serif\" font-size=\"14.00\">a </text>\n</g>\n<!-- \\(St3_St12\\) -->\n<g id=\"node18\" class=\"node\">\n<title>\\(St3_St12\\)</title>\n<ellipse fill=\"none\" stroke=\"black\" cx=\"2092.13\" cy=\"-913\" rx=\"48.99\" ry=\"48.99\"/>\n<text text-anchor=\"middle\" x=\"2092.13\" y=\"-909.3\" font-family=\"Times,serif\" font-size=\"14.00\">(St3_St12)</text>\n</g>\n<!-- \\(St3_St12\\)&#45;&gt;\\(St5_St1\\) -->\n<g id=\"edge13\" class=\"edge\">\n<title>\\(St3_St12\\)&#45;&gt;\\(St5_St1\\)</title>\n<path fill=\"none\" stroke=\"black\" d=\"M2140.46,-905.82C2240.53,-890.54 2464.92,-855.75 2470.86,-850 2506.1,-815.87 2522.11,-676.87 2528.45,-598.47\"/>\n<polygon fill=\"black\" stroke=\"black\" points=\"2531.96,-598.53 2529.25,-588.29 2524.98,-597.98 2531.96,-598.53\"/>\n<text text-anchor=\"middle\" x=\"2312.87\" y=\"-882.8\" font-family=\"Times,serif\" font-size=\"14.00\">b </text>\n</g>\n<!-- \\(St3_St12\\)&#45;&gt;\\(St3_St31\\) -->\n<g id=\"edge16\" class=\"edge\">\n<title>\\(St3_St12\\)&#45;&gt;\\(St3_St31\\)</title>\n<path fill=\"none\" stroke=\"black\" d=\"M2139.08,-926.49C2153.19,-930.63 2168.88,-935.24 2183.59,-939.55\"/>\n<polygon fill=\"black\" stroke=\"black\" points=\"2183,-943.03 2193.58,-942.49 2184.97,-936.31 2183,-943.03\"/>\n<text text-anchor=\"middle\" x=\"2168.37\" y=\"-938.8\" font-family=\"Times,serif\" font-size=\"14.00\">a </text>\n</g>\n<!-- \\(St3_St1\\)&#45;&gt;\\(St5_St1\\) -->\n<g id=\"edge5\" class=\"edge\">\n<title>\\(St3_St1\\)&#45;&gt;\\(St5_St1\\)</title>\n<path fill=\"none\" stroke=\"black\" d=\"M2430.97,-528.98C2443.67,-525.91 2457.78,-524.12 2470.86,-526 2474.25,-526.49 2477.71,-527.12 2481.19,-527.86\"/>\n<polygon fill=\"black\" stroke=\"black\" points=\"2480.39,-531.27 2490.93,-530.17 2482.01,-524.46 2480.39,-531.27\"/>\n<text text-anchor=\"middle\" x=\"2465.36\" y=\"-529.8\" font-family=\"Times,serif\" font-size=\"14.00\">b </text>\n</g>\n<!-- \\(St3_St1\\)&#45;&gt;\\(St3_St1\\) -->\n<g id=\"edge20\" class=\"edge\">\n<title>\\(St3_St1\\)&#45;&gt;\\(St3_St1\\)</title>\n<path fill=\"none\" stroke=\"black\" d=\"M2374.97,-586.15C2375.71,-597.54 2380.43,-606.2 2389.11,-606.2 2394.95,-606.2 2398.99,-602.29 2401.24,-596.27\"/>\n<polygon fill=\"black\" stroke=\"black\" points=\"2404.73,-596.64 2403.26,-586.15 2397.87,-595.27 2404.73,-596.64\"/>\n<text text-anchor=\"middle\" x=\"2389.11\" y=\"-610\" font-family=\"Times,serif\" font-size=\"14.00\">a </text>\n</g>\n<!-- \\(St3_St35\\)&#45;&gt;\\(St5_St1\\) -->\n<g id=\"edge25\" class=\"edge\">\n<title>\\(St3_St35\\)&#45;&gt;\\(St5_St1\\)</title>\n<path fill=\"none\" stroke=\"black\" d=\"M1529.03,-181.3C1558.13,-161.47 1600.24,-139 1641.65,-139 1641.65,-139 1641.65,-139 2241.62,-139 2338.48,-139 2377.97,-152.21 2441.86,-225 2507.76,-300.09 2525.76,-420.02 2530.52,-489.45\"/>\n<polygon fill=\"black\" stroke=\"black\" points=\"2527.04,-489.97 2531.15,-499.73 2534.03,-489.54 2527.04,-489.97\"/>\n<text text-anchor=\"middle\" x=\"2015.88\" y=\"-142.8\" font-family=\"Times,serif\" font-size=\"14.00\">b </text>\n</g>\n<!-- \\(St3_St35\\)&#45;&gt;\\(St3_St7\\) -->\n<g id=\"edge23\" class=\"edge\">\n<title>\\(St3_St35\\)&#45;&gt;\\(St3_St7\\)</title>\n<path fill=\"none\" stroke=\"black\" d=\"M1539.19,-211C1554.79,-211 1572.18,-211 1588.15,-211\"/>\n<polygon fill=\"black\" stroke=\"black\" points=\"1588.41,-214.5 1598.41,-211 1588.41,-207.5 1588.41,-214.5\"/>\n<text text-anchor=\"middle\" x=\"1566.41\" y=\"-214.8\" font-family=\"Times,serif\" font-size=\"14.00\">a </text>\n</g>\n<!-- \\(St0_St3\\)&#45;&gt;\\(St0_St1\\) -->\n<g id=\"edge58\" class=\"edge\">\n<title>\\(St0_St3\\)&#45;&gt;\\(St0_St1\\)</title>\n<path fill=\"none\" stroke=\"black\" d=\"M601.86,-632.54C645.95,-636.14 714.41,-641.74 761.9,-645.62\"/>\n<polygon fill=\"black\" stroke=\"black\" points=\"761.74,-649.12 771.99,-646.45 762.31,-642.14 761.74,-649.12\"/>\n<text text-anchor=\"middle\" x=\"625.27\" y=\"-637.8\" font-family=\"Times,serif\" font-size=\"14.00\">a </text>\n</g>\n<!-- \\(St0_St3\\)&#45;&gt;\\(St6_St25\\) -->\n<g id=\"edge3\" class=\"edge\">\n<title>\\(St0_St3\\)&#45;&gt;\\(St6_St25\\)</title>\n<path fill=\"none\" stroke=\"black\" d=\"M596.4,-607.28C604.12,-602.87 612.2,-598.27 619.77,-594 628.17,-589.26 637.08,-584.26 645.79,-579.39\"/>\n<polygon fill=\"black\" stroke=\"black\" points=\"647.75,-582.31 654.77,-574.38 644.33,-576.19 647.75,-582.31\"/>\n<text text-anchor=\"middle\" x=\"625.27\" y=\"-597.8\" font-family=\"Times,serif\" font-size=\"14.00\">b </text>\n</g>\n<!-- \\(St3_St3\\)&#45;&gt;\\(St3_St1\\) -->\n<g id=\"edge54\" class=\"edge\">\n<title>\\(St3_St3\\)&#45;&gt;\\(St3_St1\\)</title>\n<path fill=\"none\" stroke=\"black\" d=\"M1826.12,-436.55C1843.34,-449.07 1865.16,-462.88 1886.89,-471 1977.54,-504.88 2222.94,-513.91 2318.37,-530 2324.06,-530.96 2330,-532.04 2335.91,-533.15\"/>\n<polygon fill=\"black\" stroke=\"black\" points=\"2335.29,-536.6 2345.77,-535.06 2336.62,-529.73 2335.29,-536.6\"/>\n<text text-anchor=\"middle\" x=\"2092.13\" y=\"-515.8\" font-family=\"Times,serif\" font-size=\"14.00\">a </text>\n</g>\n<!-- \\(St5_St25\\) -->\n<g id=\"node34\" class=\"node\">\n<title>\\(St5_St25\\)</title>\n<ellipse fill=\"none\" stroke=\"black\" cx=\"1939.64\" cy=\"-409\" rx=\"48.97\" ry=\"48.97\"/>\n<ellipse fill=\"none\" stroke=\"black\" cx=\"1939.64\" cy=\"-409\" rx=\"52.99\" ry=\"52.99\"/>\n<text text-anchor=\"middle\" x=\"1939.64\" y=\"-405.3\" font-family=\"Times,serif\" font-size=\"14.00\">(St5_St25)</text>\n</g>\n<!-- \\(St3_St3\\)&#45;&gt;\\(St5_St25\\) -->\n<g id=\"edge59\" class=\"edge\">\n<title>\\(St3_St3\\)&#45;&gt;\\(St5_St25\\)</title>\n<path fill=\"none\" stroke=\"black\" d=\"M1835.7,-409C1848.47,-409 1862.69,-409 1876.38,-409\"/>\n<polygon fill=\"black\" stroke=\"black\" points=\"1876.72,-412.5 1886.72,-409 1876.72,-405.5 1876.72,-412.5\"/>\n<text text-anchor=\"middle\" x=\"1863.39\" y=\"-412.8\" font-family=\"Times,serif\" font-size=\"14.00\">b </text>\n</g>\n<!-- \\(St0_St38\\)&#45;&gt;\\(St0_St37\\) -->\n<g id=\"edge33\" class=\"edge\">\n<title>\\(St0_St38\\)&#45;&gt;\\(St0_St37\\)</title>\n<path fill=\"none\" stroke=\"black\" d=\"M184.74,-754.72C198.71,-748.6 214.32,-741.76 228.88,-735.38\"/>\n<polygon fill=\"black\" stroke=\"black\" points=\"230.52,-738.48 238.27,-731.27 227.71,-732.07 230.52,-738.48\"/>\n<text text-anchor=\"middle\" x=\"211.49\" y=\"-747.8\" font-family=\"Times,serif\" font-size=\"14.00\">a </text>\n</g>\n<!-- \\(St6_St27\\) -->\n<g id=\"node25\" class=\"node\">\n<title>\\(St6_St27\\)</title>\n<ellipse fill=\"none\" stroke=\"black\" cx=\"701.51\" cy=\"-836\" rx=\"48.97\" ry=\"48.97\"/>\n<ellipse fill=\"none\" stroke=\"black\" cx=\"701.51\" cy=\"-836\" rx=\"52.99\" ry=\"52.99\"/>\n<text text-anchor=\"middle\" x=\"701.51\" y=\"-832.3\" font-family=\"Times,serif\" font-size=\"14.00\">(St6_St27)</text>\n</g>\n<!-- \\(St0_St38\\)&#45;&gt;\\(St6_St27\\) -->\n<g id=\"edge9\" class=\"edge\">\n<title>\\(St0_St38\\)&#45;&gt;\\(St6_St27\\)</title>\n<path fill=\"none\" stroke=\"black\" d=\"M185.17,-792.33C212.65,-802.05 248.92,-812 282.24,-812 282.24,-812 282.24,-812 558.57,-812 585.59,-812 615.1,-816.28 640.18,-821.22\"/>\n<polygon fill=\"black\" stroke=\"black\" points=\"639.78,-824.71 650.28,-823.3 641.19,-817.86 639.78,-824.71\"/>\n<text text-anchor=\"middle\" x=\"422.18\" y=\"-815.8\" font-family=\"Times,serif\" font-size=\"14.00\">b </text>\n</g>\n<!-- \\(St5_St35\\) -->\n<g id=\"node24\" class=\"node\">\n<title>\\(St5_St35\\)</title>\n<ellipse fill=\"none\" stroke=\"black\" cx=\"2092.13\" cy=\"-374\" rx=\"48.97\" ry=\"48.97\"/>\n<ellipse fill=\"none\" stroke=\"black\" cx=\"2092.13\" cy=\"-374\" rx=\"52.99\" ry=\"52.99\"/>\n<text text-anchor=\"middle\" x=\"2092.13\" y=\"-370.3\" font-family=\"Times,serif\" font-size=\"14.00\">(St5_St35)</text>\n</g>\n<!-- \\(St5_St35\\)&#45;&gt;\\(St3_St1\\) -->\n<g id=\"edge45\" class=\"edge\">\n<title>\\(St5_St35\\)&#45;&gt;\\(St3_St1\\)</title>\n<path fill=\"none\" stroke=\"black\" d=\"M2143.39,-387.45C2201.1,-403.64 2291.3,-431.46 2318.37,-454 2333.49,-466.59 2347.4,-483.01 2358.75,-498.36\"/>\n<polygon fill=\"black\" stroke=\"black\" points=\"2356.1,-500.68 2364.79,-506.75 2361.79,-496.59 2356.1,-500.68\"/>\n<text text-anchor=\"middle\" x=\"2240.62\" y=\"-440.8\" font-family=\"Times,serif\" font-size=\"14.00\">b </text>\n</g>\n<!-- \\(St5_St7\\) -->\n<g id=\"node31\" class=\"node\">\n<title>\\(St5_St7\\)</title>\n<ellipse fill=\"none\" stroke=\"black\" cx=\"2240.62\" cy=\"-341\" rx=\"44.38\" ry=\"44.38\"/>\n<ellipse fill=\"none\" stroke=\"black\" cx=\"2240.62\" cy=\"-341\" rx=\"48.39\" ry=\"48.39\"/>\n<text text-anchor=\"middle\" x=\"2240.62\" y=\"-337.3\" font-family=\"Times,serif\" font-size=\"14.00\">(St5_St7)</text>\n</g>\n<!-- \\(St5_St35\\)&#45;&gt;\\(St5_St7\\) -->\n<g id=\"edge2\" class=\"edge\">\n<title>\\(St5_St35\\)&#45;&gt;\\(St5_St7\\)</title>\n<path fill=\"none\" stroke=\"black\" d=\"M2143.95,-362.55C2156.73,-359.67 2170.51,-356.57 2183.53,-353.64\"/>\n<polygon fill=\"black\" stroke=\"black\" points=\"2184.32,-357.05 2193.3,-351.43 2182.78,-350.22 2184.32,-357.05\"/>\n<text text-anchor=\"middle\" x=\"2168.37\" y=\"-361.8\" font-family=\"Times,serif\" font-size=\"14.00\">a </text>\n</g>\n<!-- \\(St6_St27\\)&#45;&gt;\\(St3_St17\\) -->\n<g id=\"edge41\" class=\"edge\">\n<title>\\(St6_St27\\)&#45;&gt;\\(St3_St17\\)</title>\n<path fill=\"none\" stroke=\"black\" d=\"M748.11,-861.64C792.28,-884.04 861.86,-913 926.4,-913 926.4,-913 926.4,-913 1202.73,-913 1230.92,-913 1261.32,-920.12 1286.4,-928.03\"/>\n<polygon fill=\"black\" stroke=\"black\" points=\"1285.49,-931.42 1296.08,-931.21 1287.67,-924.77 1285.49,-931.42\"/>\n<text text-anchor=\"middle\" x=\"1067.34\" y=\"-916.8\" font-family=\"Times,serif\" font-size=\"14.00\">b </text>\n</g>\n<!-- \\(St6_St27\\)&#45;&gt;\\(St7_St36\\) -->\n<g id=\"edge46\" class=\"edge\">\n<title>\\(St6_St27\\)&#45;&gt;\\(St7_St36\\)</title>\n<path fill=\"none\" stroke=\"black\" d=\"M754.44,-836C788.53,-836 833.17,-836 868.43,-836\"/>\n<polygon fill=\"black\" stroke=\"black\" points=\"868.57,-839.5 878.57,-836 868.57,-832.5 868.57,-839.5\"/>\n<text text-anchor=\"middle\" x=\"816.45\" y=\"-839.8\" font-family=\"Times,serif\" font-size=\"14.00\">a </text>\n</g>\n<!-- \\(St5_St3\\) -->\n<g id=\"node26\" class=\"node\">\n<title>\\(St5_St3\\)</title>\n<ellipse fill=\"none\" stroke=\"black\" cx=\"2389.11\" cy=\"-76\" rx=\"44.38\" ry=\"44.38\"/>\n<ellipse fill=\"none\" stroke=\"black\" cx=\"2389.11\" cy=\"-76\" rx=\"48.39\" ry=\"48.39\"/>\n<text text-anchor=\"middle\" x=\"2389.11\" y=\"-72.3\" font-family=\"Times,serif\" font-size=\"14.00\">(St5_St3)</text>\n</g>\n<!-- \\(St5_St3\\)&#45;&gt;\\(St5_St1\\) -->\n<g id=\"edge37\" class=\"edge\">\n<title>\\(St5_St3\\)&#45;&gt;\\(St5_St1\\)</title>\n<path fill=\"none\" stroke=\"black\" d=\"M2434.67,-92.78C2448.33,-100.06 2462.05,-109.96 2470.86,-123 2510.58,-181.82 2525.15,-389.62 2529.95,-489.55\"/>\n<polygon fill=\"black\" stroke=\"black\" points=\"2526.46,-489.91 2530.42,-499.74 2533.45,-489.59 2526.46,-489.91\"/>\n<text text-anchor=\"middle\" x=\"2465.36\" y=\"-126.8\" font-family=\"Times,serif\" font-size=\"14.00\">a </text>\n</g>\n<!-- \\(St5_St3\\)&#45;&gt;\\(St3_St25\\) -->\n<g id=\"edge38\" class=\"edge\">\n<title>\\(St5_St3\\)&#45;&gt;\\(St3_St25\\)</title>\n<path fill=\"none\" stroke=\"black\" d=\"M2341.03,-69.69C2312.36,-66.38 2274.94,-63 2241.62,-63 1717.9,-63 1717.9,-63 1717.9,-63 1647.81,-63 1628.11,-58.07 1560.91,-78 1498.8,-96.42 1433.74,-132.99 1390.99,-159.76\"/>\n<polygon fill=\"black\" stroke=\"black\" points=\"1389.06,-156.84 1382.48,-165.14 1392.8,-162.75 1389.06,-156.84\"/>\n<text text-anchor=\"middle\" x=\"1863.39\" y=\"-66.8\" font-family=\"Times,serif\" font-size=\"14.00\">b </text>\n</g>\n<!-- \\(St5_St31\\) -->\n<g id=\"node27\" class=\"node\">\n<title>\\(St5_St31\\)</title>\n<ellipse fill=\"none\" stroke=\"black\" cx=\"1642.65\" cy=\"-785\" rx=\"48.97\" ry=\"48.97\"/>\n<ellipse fill=\"none\" stroke=\"black\" cx=\"1642.65\" cy=\"-785\" rx=\"52.99\" ry=\"52.99\"/>\n<text text-anchor=\"middle\" x=\"1642.65\" y=\"-781.3\" font-family=\"Times,serif\" font-size=\"14.00\">(St5_St31)</text>\n</g>\n<!-- \\(St5_St31\\)&#45;&gt;\\(St5_St1\\) -->\n<g id=\"edge42\" class=\"edge\">\n<title>\\(St5_St31\\)&#45;&gt;\\(St5_St1\\)</title>\n<path fill=\"none\" stroke=\"black\" d=\"M1695.45,-784.44C1852.81,-782.73 2314.82,-777.58 2318.37,-776 2403.8,-737.86 2470.38,-647.29 2505.22,-591.26\"/>\n<polygon fill=\"black\" stroke=\"black\" points=\"2508.3,-592.93 2510.53,-582.58 2502.33,-589.28 2508.3,-592.93\"/>\n<text text-anchor=\"middle\" x=\"2092.13\" y=\"-783.8\" font-family=\"Times,serif\" font-size=\"14.00\">a </text>\n</g>\n<!-- \\(St5_St31\\)&#45;&gt;\\(St3_St21\\) -->\n<g id=\"edge60\" class=\"edge\">\n<title>\\(St5_St31\\)&#45;&gt;\\(St3_St21\\)</title>\n<path fill=\"none\" stroke=\"black\" d=\"M1692.03,-803.82C1705.98,-809.25 1721.29,-815.21 1735.59,-820.77\"/>\n<polygon fill=\"black\" stroke=\"black\" points=\"1734.7,-824.18 1745.29,-824.55 1737.24,-817.66 1734.7,-824.18\"/>\n<text text-anchor=\"middle\" x=\"1718.9\" y=\"-818.8\" font-family=\"Times,serif\" font-size=\"14.00\">b </text>\n</g>\n<!-- \\(St6_St26\\)&#45;&gt;\\(St3_St16\\) -->\n<g id=\"edge44\" class=\"edge\">\n<title>\\(St6_St26\\)&#45;&gt;\\(St3_St16\\)</title>\n<path fill=\"none\" stroke=\"black\" d=\"M752.59,-725.96C759.17,-727.49 765.85,-728.89 772.26,-730 840.04,-741.74 857.61,-744 926.4,-744 926.4,-744 926.4,-744 1202.73,-744 1228.92,-744 1257.92,-744.18 1282.53,-744.39\"/>\n<polygon fill=\"black\" stroke=\"black\" points=\"1282.76,-747.89 1292.79,-744.48 1282.82,-740.89 1282.76,-747.89\"/>\n<text text-anchor=\"middle\" x=\"1067.34\" y=\"-747.8\" font-family=\"Times,serif\" font-size=\"14.00\">b </text>\n</g>\n<!-- \\(St6_St26\\)&#45;&gt;\\(St7_St35\\) -->\n<g id=\"edge43\" class=\"edge\">\n<title>\\(St6_St26\\)&#45;&gt;\\(St7_St35\\)</title>\n<path fill=\"none\" stroke=\"black\" d=\"M726.27,-665.37C744.9,-629.21 768.31,-584.76 772.26,-582 780.25,-576.41 828.19,-570.14 868.51,-565.72\"/>\n<polygon fill=\"black\" stroke=\"black\" points=\"869,-569.19 878.57,-564.64 868.25,-562.23 869,-569.19\"/>\n<text text-anchor=\"middle\" x=\"816.45\" y=\"-585.8\" font-family=\"Times,serif\" font-size=\"14.00\">a </text>\n</g>\n<!-- \\(St5_St16\\)&#45;&gt;\\(St5_St1\\) -->\n<g id=\"edge30\" class=\"edge\">\n<title>\\(St5_St16\\)&#45;&gt;\\(St5_St1\\)</title>\n<path fill=\"none\" stroke=\"black\" d=\"M1989.79,-853.6C2018.88,-844.82 2056.66,-836 2091.13,-836 2091.13,-836 2091.13,-836 2390.11,-836 2428.71,-836 2445.63,-833.22 2470.86,-804 2497.2,-773.5 2515.98,-664.54 2525.33,-597.74\"/>\n<polygon fill=\"black\" stroke=\"black\" points=\"2528.8,-598.18 2526.69,-587.8 2521.86,-597.23 2528.8,-598.18\"/>\n<text text-anchor=\"middle\" x=\"2240.62\" y=\"-839.8\" font-family=\"Times,serif\" font-size=\"14.00\">a </text>\n</g>\n<!-- \\(St5_St16\\)&#45;&gt;\\(St3_St12\\) -->\n<g id=\"edge7\" class=\"edge\">\n<title>\\(St5_St16\\)&#45;&gt;\\(St3_St12\\)</title>\n<path fill=\"none\" stroke=\"black\" d=\"M1990.75,-884.99C2004.99,-888.96 2020.59,-893.31 2035.16,-897.38\"/>\n<polygon fill=\"black\" stroke=\"black\" points=\"2034.47,-900.82 2045.04,-900.14 2036.35,-894.08 2034.47,-900.82\"/>\n<text text-anchor=\"middle\" x=\"2015.88\" y=\"-896.8\" font-family=\"Times,serif\" font-size=\"14.00\">b </text>\n</g>\n<!-- \\(St6_St25\\)&#45;&gt;\\(St7_St35\\) -->\n<g id=\"edge10\" class=\"edge\">\n<title>\\(St6_St25\\)&#45;&gt;\\(St7_St35\\)</title>\n<path fill=\"none\" stroke=\"black\" d=\"M754.24,-546.84C785.17,-546.09 825.22,-546.06 860.65,-549 863.37,-549.23 866.14,-549.5 868.94,-549.82\"/>\n<polygon fill=\"black\" stroke=\"black\" points=\"868.75,-553.32 879.11,-551.13 869.64,-546.38 868.75,-553.32\"/>\n<text text-anchor=\"middle\" x=\"816.45\" y=\"-552.8\" font-family=\"Times,serif\" font-size=\"14.00\">a </text>\n</g>\n<!-- \\(St6_St25\\)&#45;&gt;\\(St3_St1\\) -->\n<g id=\"edge63\" class=\"edge\">\n<title>\\(St6_St25\\)&#45;&gt;\\(St3_St1\\)</title>\n<path fill=\"none\" stroke=\"black\" d=\"M704.6,-496.15C712.43,-376.65 749.63,-96 926.4,-96 926.4,-96 926.4,-96 1414.92,-96 1604.23,-96 1654.98,-84.41 1839.89,-125 1932.56,-145.34 1948.07,-175.24 2039.38,-201 2148.19,-231.69 2196.48,-183.55 2289.37,-248 2329.78,-276.04 2362.55,-413.24 2378.18,-490.63\"/>\n<polygon fill=\"black\" stroke=\"black\" points=\"2374.79,-491.55 2380.18,-500.68 2381.66,-490.18 2374.79,-491.55\"/>\n<text text-anchor=\"middle\" x=\"1566.41\" y=\"-98.8\" font-family=\"Times,serif\" font-size=\"14.00\">b </text>\n</g>\n<!-- \\(St5_St7\\)&#45;&gt;\\(St3_St1\\) -->\n<g id=\"edge52\" class=\"edge\">\n<title>\\(St5_St7\\)&#45;&gt;\\(St3_St1\\)</title>\n<path fill=\"none\" stroke=\"black\" d=\"M2282.68,-364.7C2295.26,-373.38 2308.4,-384.04 2318.37,-396 2341.99,-424.35 2359.6,-462.05 2371.22,-492.31\"/>\n<polygon fill=\"black\" stroke=\"black\" points=\"2368,-493.7 2374.78,-501.85 2374.56,-491.25 2368,-493.7\"/>\n<text text-anchor=\"middle\" x=\"2312.87\" y=\"-399.8\" font-family=\"Times,serif\" font-size=\"14.00\">b </text>\n</g>\n<!-- \\(St5_St7\\)&#45;&gt;\\(St5_St3\\) -->\n<g id=\"edge14\" class=\"edge\">\n<title>\\(St5_St7\\)&#45;&gt;\\(St5_St3\\)</title>\n<path fill=\"none\" stroke=\"black\" d=\"M2264.83,-299.01C2290.65,-252.3 2332.37,-176.83 2360.02,-126.82\"/>\n<polygon fill=\"black\" stroke=\"black\" points=\"2363.23,-128.24 2365.01,-117.79 2357.11,-124.85 2363.23,-128.24\"/>\n<text text-anchor=\"middle\" x=\"2312.87\" y=\"-220.8\" font-family=\"Times,serif\" font-size=\"14.00\">a </text>\n</g>\n<!-- \\(St5_St12\\)&#45;&gt;\\(St3_St1\\) -->\n<g id=\"edge62\" class=\"edge\">\n<title>\\(St5_St12\\)&#45;&gt;\\(St3_St1\\)</title>\n<path fill=\"none\" stroke=\"black\" d=\"M1538.64,-726.13C1567.78,-715.17 1606.19,-704 1641.65,-704 1641.65,-704 1641.65,-704 1864.39,-704 2066.66,-704 2148.2,-781.34 2318.37,-672 2345.22,-654.74 2362.54,-623.42 2373.21,-596.08\"/>\n<polygon fill=\"black\" stroke=\"black\" points=\"2376.53,-597.2 2376.71,-586.61 2369.96,-594.77 2376.53,-597.2\"/>\n<text text-anchor=\"middle\" x=\"1939.64\" y=\"-716.8\" font-family=\"Times,serif\" font-size=\"14.00\">b </text>\n</g>\n<!-- \\(St5_St12\\)&#45;&gt;\\(St5_St31\\) -->\n<g id=\"edge15\" class=\"edge\">\n<title>\\(St5_St12\\)&#45;&gt;\\(St5_St31\\)</title>\n<path fill=\"none\" stroke=\"black\" d=\"M1541.69,-759.76C1554.42,-762.97 1568.2,-766.45 1581.35,-769.77\"/>\n<polygon fill=\"black\" stroke=\"black\" points=\"1580.71,-773.22 1591.26,-772.27 1582.42,-766.43 1580.71,-773.22\"/>\n<text text-anchor=\"middle\" x=\"1566.41\" y=\"-770.8\" font-family=\"Times,serif\" font-size=\"14.00\">a </text>\n</g>\n<!-- \\(St5_St21\\)&#45;&gt;\\(St3_St16\\) -->\n<g id=\"edge66\" class=\"edge\">\n<title>\\(St5_St21\\)&#45;&gt;\\(St3_St16\\)</title>\n<path fill=\"none\" stroke=\"black\" d=\"M2345.35,-989.47C2328.66,-999.3 2308.86,-1009.02 2289.37,-1014 2247.39,-1024.73 2234.87,-1019.37 2191.87,-1014 1847.08,-970.96 1751.49,-957.64 1437.42,-809 1420.92,-801.19 1404.05,-790.74 1389.2,-780.54\"/>\n<polygon fill=\"black\" stroke=\"black\" points=\"1390.91,-777.46 1380.71,-774.59 1386.89,-783.2 1390.91,-777.46\"/>\n<text text-anchor=\"middle\" x=\"1863.39\" y=\"-969.8\" font-family=\"Times,serif\" font-size=\"14.00\">b </text>\n</g>\n<!-- \\(St5_St21\\)&#45;&gt;\\(St5_St1\\) -->\n<g id=\"edge22\" class=\"edge\">\n<title>\\(St5_St21\\)&#45;&gt;\\(St5_St1\\)</title>\n<path fill=\"none\" stroke=\"black\" d=\"M2434.18,-932.58C2447.96,-921.88 2461.9,-908.44 2470.86,-893 2499.45,-843.73 2518.7,-683.06 2527.16,-597.98\"/>\n<polygon fill=\"black\" stroke=\"black\" points=\"2530.65,-598.29 2528.14,-588 2523.68,-597.61 2530.65,-598.29\"/>\n<text text-anchor=\"middle\" x=\"2465.36\" y=\"-909.8\" font-family=\"Times,serif\" font-size=\"14.00\">a </text>\n</g>\n<!-- \\(St5_St25\\)&#45;&gt;\\(St3_St1\\) -->\n<g id=\"edge21\" class=\"edge\">\n<title>\\(St5_St25\\)&#45;&gt;\\(St3_St1\\)</title>\n<path fill=\"none\" stroke=\"black\" d=\"M1990.45,-423.34C2006.06,-427.64 2023.39,-432.21 2039.38,-436 2162.45,-465.14 2202.86,-440.5 2318.37,-492 2328.4,-496.47 2338.36,-502.6 2347.48,-509.08\"/>\n<polygon fill=\"black\" stroke=\"black\" points=\"2345.48,-511.96 2355.6,-515.1 2349.65,-506.33 2345.48,-511.96\"/>\n<text text-anchor=\"middle\" x=\"2168.37\" y=\"-458.8\" font-family=\"Times,serif\" font-size=\"14.00\">b </text>\n</g>\n<!-- \\(St5_St25\\)&#45;&gt;\\(St5_St35\\) -->\n<g id=\"edge17\" class=\"edge\">\n<title>\\(St5_St25\\)&#45;&gt;\\(St5_St35\\)</title>\n<path fill=\"none\" stroke=\"black\" d=\"M1991.17,-397.25C2003.82,-394.3 2017.53,-391.12 2030.62,-388.07\"/>\n<polygon fill=\"black\" stroke=\"black\" points=\"2031.53,-391.45 2040.48,-385.78 2029.94,-384.64 2031.53,-391.45\"/>\n<text text-anchor=\"middle\" x=\"2015.88\" y=\"-396.8\" font-family=\"Times,serif\" font-size=\"14.00\">a </text>\n</g>\n</g>\n</svg>\n",
            "text/plain": [
              "<graphviz.graphs.Digraph at 0x79acb6fc5ba0>"
            ]
          },
          "metadata": {},
          "execution_count": 43
        }
      ]
    },
    {
      "cell_type": "code",
      "source": [
        "# Uncomment for final run\n",
        "# dotObj_dfa(D_int).render('D_int')"
      ],
      "metadata": {
        "id": "75HcH9W5oIVX"
      },
      "execution_count": null,
      "outputs": []
    },
    {
      "cell_type": "code",
      "source": [
        "# The student minimizes D_int\n",
        "\n",
        "min_D_int = min_dfa(D_int)"
      ],
      "metadata": {
        "id": "r4aGNVBlEYUU"
      },
      "execution_count": 44,
      "outputs": []
    },
    {
      "cell_type": "code",
      "source": [
        "# The student draws min_D_int\n",
        "\n",
        "dotObj_dfa(min_D_int)"
      ],
      "metadata": {
        "id": "bogL-yhkEYJC",
        "colab": {
          "base_uri": "https://localhost:8080/",
          "height": 1000
        },
        "outputId": "f9264c12-73bc-483a-e1d3-21aa09c60283"
      },
      "execution_count": 45,
      "outputs": [
        {
          "output_type": "execute_result",
          "data": {
            "image/svg+xml": "<?xml version=\"1.0\" encoding=\"UTF-8\" standalone=\"no\"?>\n<!DOCTYPE svg PUBLIC \"-//W3C//DTD SVG 1.1//EN\"\n \"http://www.w3.org/Graphics/SVG/1.1/DTD/svg11.dtd\">\n<!-- Generated by graphviz version 2.43.0 (0)\n -->\n<!-- Title: %3 Pages: 1 -->\n<svg width=\"2503pt\" height=\"1054pt\"\n viewBox=\"0.00 0.00 2502.86 1054.00\" xmlns=\"http://www.w3.org/2000/svg\" xmlns:xlink=\"http://www.w3.org/1999/xlink\">\n<g id=\"graph0\" class=\"graph\" transform=\"scale(1 1) rotate(0) translate(4 1050)\">\n<title>%3</title>\n<polygon fill=\"white\" stroke=\"transparent\" points=\"-4,4 -4,-1050 2498.86,-1050 2498.86,4 -4,4\"/>\n<!-- EMPTY -->\n<g id=\"node1\" class=\"node\">\n<title>EMPTY</title>\n</g>\n<!-- \\(St0_St38\\) -->\n<g id=\"node9\" class=\"node\">\n<title>\\(St0_St38\\)</title>\n<ellipse fill=\"none\" stroke=\"black\" cx=\"139.75\" cy=\"-487\" rx=\"48.99\" ry=\"48.99\"/>\n<text text-anchor=\"middle\" x=\"139.75\" y=\"-483.3\" font-family=\"Times,serif\" font-size=\"14.00\">(St0_St38)</text>\n</g>\n<!-- EMPTY&#45;&gt;\\(St0_St38\\) -->\n<g id=\"edge1\" class=\"edge\">\n<title>EMPTY&#45;&gt;\\(St0_St38\\)</title>\n<path fill=\"none\" stroke=\"black\" d=\"M54.25,-487C62.15,-487 71.15,-487 80.27,-487\"/>\n<polygon fill=\"black\" stroke=\"black\" points=\"80.56,-490.5 90.56,-487 80.56,-483.5 80.56,-490.5\"/>\n</g>\n<!-- \\(St3_St21\\) -->\n<g id=\"node2\" class=\"node\">\n<title>\\(St3_St21\\)</title>\n<ellipse fill=\"none\" stroke=\"black\" cx=\"1710.75\" cy=\"-248\" rx=\"48.99\" ry=\"48.99\"/>\n<text text-anchor=\"middle\" x=\"1710.75\" y=\"-244.3\" font-family=\"Times,serif\" font-size=\"14.00\">(St3_St21)</text>\n</g>\n<!-- \\(St6_St1\\) -->\n<g id=\"node12\" class=\"node\">\n<title>\\(St6_St1\\)</title>\n<ellipse fill=\"none\" stroke=\"black\" cx=\"2450.66\" cy=\"-549\" rx=\"44.39\" ry=\"44.39\"/>\n<text text-anchor=\"middle\" x=\"2450.66\" y=\"-545.3\" font-family=\"Times,serif\" font-size=\"14.00\">(St6_St1)</text>\n</g>\n<!-- \\(St3_St21\\)&#45;&gt;\\(St6_St1\\) -->\n<g id=\"edge45\" class=\"edge\">\n<title>\\(St3_St21\\)&#45;&gt;\\(St6_St1\\)</title>\n<path fill=\"none\" stroke=\"black\" d=\"M1749.43,-277.74C1766.07,-289.49 1786.39,-302.05 1806.5,-310 1923.99,-356.43 1960.15,-359 2086.48,-359 2086.48,-359 2086.48,-359 2308.72,-359 2345.73,-359 2361.51,-357.64 2388.46,-383 2419.54,-412.24 2434.91,-458.64 2442.47,-494.96\"/>\n<polygon fill=\"black\" stroke=\"black\" points=\"2439.06,-495.76 2444.4,-504.91 2445.93,-494.43 2439.06,-495.76\"/>\n<text text-anchor=\"middle\" x=\"2087.48\" y=\"-362.8\" font-family=\"Times,serif\" font-size=\"14.00\">a </text>\n</g>\n<!-- \\(St5_St16\\) -->\n<g id=\"node25\" class=\"node\">\n<title>\\(St5_St16\\)</title>\n<ellipse fill=\"none\" stroke=\"black\" cx=\"1859.25\" cy=\"-248\" rx=\"48.97\" ry=\"48.97\"/>\n<ellipse fill=\"none\" stroke=\"black\" cx=\"1859.25\" cy=\"-248\" rx=\"52.99\" ry=\"52.99\"/>\n<text text-anchor=\"middle\" x=\"1859.25\" y=\"-244.3\" font-family=\"Times,serif\" font-size=\"14.00\">(St5_St16)</text>\n</g>\n<!-- \\(St3_St21\\)&#45;&gt;\\(St5_St16\\) -->\n<g id=\"edge43\" class=\"edge\">\n<title>\\(St3_St21\\)&#45;&gt;\\(St5_St16\\)</title>\n<path fill=\"none\" stroke=\"black\" d=\"M1759.72,-248C1771.39,-248 1784.03,-248 1796.25,-248\"/>\n<polygon fill=\"black\" stroke=\"black\" points=\"1796.38,-251.5 1806.38,-248 1796.38,-244.5 1796.38,-251.5\"/>\n<text text-anchor=\"middle\" x=\"1783\" y=\"-251.8\" font-family=\"Times,serif\" font-size=\"14.00\">b </text>\n</g>\n<!-- \\(St3_St35\\) -->\n<g id=\"node3\" class=\"node\">\n<title>\\(St3_St35\\)</title>\n<ellipse fill=\"none\" stroke=\"black\" cx=\"1410.77\" cy=\"-683\" rx=\"48.99\" ry=\"48.99\"/>\n<text text-anchor=\"middle\" x=\"1410.77\" y=\"-679.3\" font-family=\"Times,serif\" font-size=\"14.00\">(St3_St35)</text>\n</g>\n<!-- \\(St3_St35\\)&#45;&gt;\\(St6_St1\\) -->\n<g id=\"edge23\" class=\"edge\">\n<title>\\(St3_St35\\)&#45;&gt;\\(St6_St1\\)</title>\n<path fill=\"none\" stroke=\"black\" d=\"M1426.7,-729.18C1447.47,-783.39 1490.7,-866 1561.26,-866 1561.26,-866 1561.26,-866 2308.72,-866 2422.24,-866 2445,-694.16 2449.11,-603.51\"/>\n<polygon fill=\"black\" stroke=\"black\" points=\"2452.61,-603.54 2449.51,-593.41 2445.62,-603.27 2452.61,-603.54\"/>\n<text text-anchor=\"middle\" x=\"1935.49\" y=\"-869.8\" font-family=\"Times,serif\" font-size=\"14.00\">b </text>\n</g>\n<!-- \\(St3_St7\\) -->\n<g id=\"node13\" class=\"node\">\n<title>\\(St3_St7\\)</title>\n<ellipse fill=\"none\" stroke=\"black\" cx=\"1562.26\" cy=\"-683\" rx=\"44.39\" ry=\"44.39\"/>\n<text text-anchor=\"middle\" x=\"1562.26\" y=\"-679.3\" font-family=\"Times,serif\" font-size=\"14.00\">(St3_St7)</text>\n</g>\n<!-- \\(St3_St35\\)&#45;&gt;\\(St3_St7\\) -->\n<g id=\"edge21\" class=\"edge\">\n<title>\\(St3_St35\\)&#45;&gt;\\(St3_St7\\)</title>\n<path fill=\"none\" stroke=\"black\" d=\"M1459.89,-683C1475.16,-683 1492.12,-683 1507.74,-683\"/>\n<polygon fill=\"black\" stroke=\"black\" points=\"1507.78,-686.5 1517.78,-683 1507.78,-679.5 1507.78,-686.5\"/>\n<text text-anchor=\"middle\" x=\"1486.52\" y=\"-686.8\" font-family=\"Times,serif\" font-size=\"14.00\">a </text>\n</g>\n<!-- \\(St7_St3\\) -->\n<g id=\"node4\" class=\"node\">\n<title>\\(St7_St3\\)</title>\n<ellipse fill=\"none\" stroke=\"black\" cx=\"1122.34\" cy=\"-557\" rx=\"44.39\" ry=\"44.39\"/>\n<text text-anchor=\"middle\" x=\"1122.34\" y=\"-553.3\" font-family=\"Times,serif\" font-size=\"14.00\">(St7_St3)</text>\n</g>\n<!-- \\(St7_St3\\)&#45;&gt;\\(St6_St1\\) -->\n<g id=\"edge49\" class=\"edge\">\n<title>\\(St7_St3\\)&#45;&gt;\\(St6_St1\\)</title>\n<path fill=\"none\" stroke=\"black\" d=\"M1131.15,-600.6C1149.08,-693.79 1196.69,-904 1261.28,-904 1261.28,-904 1261.28,-904 2308.72,-904 2353.34,-904 2370,-883.63 2388.46,-843 2424.25,-764.25 2439.35,-664.1 2445.55,-603.35\"/>\n<polygon fill=\"black\" stroke=\"black\" points=\"2449.05,-603.51 2446.54,-593.22 2442.09,-602.83 2449.05,-603.51\"/>\n<text text-anchor=\"middle\" x=\"1783\" y=\"-907.8\" font-family=\"Times,serif\" font-size=\"14.00\">a </text>\n</g>\n<!-- \\(St3_St25\\) -->\n<g id=\"node17\" class=\"node\">\n<title>\\(St3_St25\\)</title>\n<ellipse fill=\"none\" stroke=\"black\" cx=\"1262.28\" cy=\"-557\" rx=\"48.99\" ry=\"48.99\"/>\n<text text-anchor=\"middle\" x=\"1262.28\" y=\"-553.3\" font-family=\"Times,serif\" font-size=\"14.00\">(St3_St25)</text>\n</g>\n<!-- \\(St7_St3\\)&#45;&gt;\\(St3_St25\\) -->\n<g id=\"edge10\" class=\"edge\">\n<title>\\(St7_St3\\)&#45;&gt;\\(St3_St25\\)</title>\n<path fill=\"none\" stroke=\"black\" d=\"M1166.61,-557C1178.21,-557 1190.95,-557 1203.21,-557\"/>\n<polygon fill=\"black\" stroke=\"black\" points=\"1203.37,-560.5 1213.37,-557 1203.37,-553.5 1203.37,-560.5\"/>\n<text text-anchor=\"middle\" x=\"1190.03\" y=\"-560.8\" font-family=\"Times,serif\" font-size=\"14.00\">b </text>\n</g>\n<!-- \\(St0_St3\\) -->\n<g id=\"node5\" class=\"node\">\n<title>\\(St0_St3\\)</title>\n<ellipse fill=\"none\" stroke=\"black\" cx=\"557.57\" cy=\"-947\" rx=\"44.39\" ry=\"44.39\"/>\n<text text-anchor=\"middle\" x=\"557.57\" y=\"-943.3\" font-family=\"Times,serif\" font-size=\"14.00\">(St0_St3)</text>\n</g>\n<!-- \\(St0_St3\\)&#45;&gt;\\(St6_St1\\) -->\n<g id=\"edge51\" class=\"edge\">\n<title>\\(St0_St3\\)&#45;&gt;\\(St6_St1\\)</title>\n<path fill=\"none\" stroke=\"black\" d=\"M589.06,-978.04C615.94,-1001.97 657.42,-1031 700.51,-1031 700.51,-1031 700.51,-1031 2308.72,-1031 2369.1,-1031 2373.65,-979.54 2388.46,-921 2416.63,-809.72 2434.93,-676.33 2443.66,-603.34\"/>\n<polygon fill=\"black\" stroke=\"black\" points=\"2447.18,-603.36 2444.87,-593.02 2440.23,-602.54 2447.18,-603.36\"/>\n<text text-anchor=\"middle\" x=\"1486.52\" y=\"-1034.8\" font-family=\"Times,serif\" font-size=\"14.00\">a </text>\n</g>\n<!-- \\(St6_St25\\) -->\n<g id=\"node26\" class=\"node\">\n<title>\\(St6_St25\\)</title>\n<ellipse fill=\"none\" stroke=\"black\" cx=\"701.51\" cy=\"-919\" rx=\"48.97\" ry=\"48.97\"/>\n<ellipse fill=\"none\" stroke=\"black\" cx=\"701.51\" cy=\"-919\" rx=\"52.99\" ry=\"52.99\"/>\n<text text-anchor=\"middle\" x=\"701.51\" y=\"-915.3\" font-family=\"Times,serif\" font-size=\"14.00\">(St6_St25)</text>\n</g>\n<!-- \\(St0_St3\\)&#45;&gt;\\(St6_St25\\) -->\n<g id=\"edge3\" class=\"edge\">\n<title>\\(St0_St3\\)&#45;&gt;\\(St6_St25\\)</title>\n<path fill=\"none\" stroke=\"black\" d=\"M601.16,-938.6C613.33,-936.2 626.83,-933.54 639.86,-930.97\"/>\n<polygon fill=\"black\" stroke=\"black\" points=\"640.56,-934.39 649.7,-929.02 639.21,-927.53 640.56,-934.39\"/>\n<text text-anchor=\"middle\" x=\"625.27\" y=\"-937.8\" font-family=\"Times,serif\" font-size=\"14.00\">b </text>\n</g>\n<!-- \\(St3_St31\\) -->\n<g id=\"node6\" class=\"node\">\n<title>\\(St3_St31\\)</title>\n<ellipse fill=\"none\" stroke=\"black\" cx=\"2159.23\" cy=\"-229\" rx=\"48.99\" ry=\"48.99\"/>\n<text text-anchor=\"middle\" x=\"2159.23\" y=\"-225.3\" font-family=\"Times,serif\" font-size=\"14.00\">(St3_St31)</text>\n</g>\n<!-- \\(St3_St31\\)&#45;&gt;\\(St6_St1\\) -->\n<g id=\"edge59\" class=\"edge\">\n<title>\\(St3_St31\\)&#45;&gt;\\(St6_St1\\)</title>\n<path fill=\"none\" stroke=\"black\" d=\"M2206.36,-241.84C2269.64,-259.89 2376.91,-292.21 2388.46,-307 2430.87,-361.26 2444.21,-441.4 2448.23,-494.39\"/>\n<polygon fill=\"black\" stroke=\"black\" points=\"2444.75,-494.86 2448.91,-504.61 2451.74,-494.4 2444.75,-494.86\"/>\n<text text-anchor=\"middle\" x=\"2307.72\" y=\"-293.8\" font-family=\"Times,serif\" font-size=\"14.00\">a </text>\n</g>\n<!-- \\(St5_St21\\) -->\n<g id=\"node29\" class=\"node\">\n<title>\\(St5_St21\\)</title>\n<ellipse fill=\"none\" stroke=\"black\" cx=\"2307.72\" cy=\"-189\" rx=\"48.97\" ry=\"48.97\"/>\n<ellipse fill=\"none\" stroke=\"black\" cx=\"2307.72\" cy=\"-189\" rx=\"52.99\" ry=\"52.99\"/>\n<text text-anchor=\"middle\" x=\"2307.72\" y=\"-185.3\" font-family=\"Times,serif\" font-size=\"14.00\">(St5_St21)</text>\n</g>\n<!-- \\(St3_St31\\)&#45;&gt;\\(St5_St21\\) -->\n<g id=\"edge32\" class=\"edge\">\n<title>\\(St3_St31\\)&#45;&gt;\\(St5_St21\\)</title>\n<path fill=\"none\" stroke=\"black\" d=\"M2206.58,-216.34C2219.39,-212.84 2233.49,-209 2246.95,-205.32\"/>\n<polygon fill=\"black\" stroke=\"black\" points=\"2247.89,-208.69 2256.61,-202.68 2246.04,-201.94 2247.89,-208.69\"/>\n<text text-anchor=\"middle\" x=\"2231.47\" y=\"-213.8\" font-family=\"Times,serif\" font-size=\"14.00\">b </text>\n</g>\n<!-- \\(St3_St17\\) -->\n<g id=\"node7\" class=\"node\">\n<title>\\(St3_St17\\)</title>\n<ellipse fill=\"none\" stroke=\"black\" cx=\"1262.28\" cy=\"-82\" rx=\"48.99\" ry=\"48.99\"/>\n<text text-anchor=\"middle\" x=\"1262.28\" y=\"-78.3\" font-family=\"Times,serif\" font-size=\"14.00\">(St3_St17)</text>\n</g>\n<!-- \\(St3_St17\\)&#45;&gt;\\(St3_St31\\) -->\n<g id=\"edge28\" class=\"edge\">\n<title>\\(St3_St17\\)&#45;&gt;\\(St3_St31\\)</title>\n<path fill=\"none\" stroke=\"black\" d=\"M1306.82,-61.67C1335.43,-50.15 1374.05,-38 1409.77,-38 1409.77,-38 1409.77,-38 2012.74,-38 2081.1,-38 2121.59,-116.4 2141.85,-172.74\"/>\n<polygon fill=\"black\" stroke=\"black\" points=\"2138.58,-173.98 2145.17,-182.28 2145.19,-171.68 2138.58,-173.98\"/>\n<text text-anchor=\"middle\" x=\"1710.75\" y=\"-41.8\" font-family=\"Times,serif\" font-size=\"14.00\">a </text>\n</g>\n<!-- \\(St5_St12\\) -->\n<g id=\"node28\" class=\"node\">\n<title>\\(St5_St12\\)</title>\n<ellipse fill=\"none\" stroke=\"black\" cx=\"1410.77\" cy=\"-306\" rx=\"48.97\" ry=\"48.97\"/>\n<ellipse fill=\"none\" stroke=\"black\" cx=\"1410.77\" cy=\"-306\" rx=\"52.99\" ry=\"52.99\"/>\n<text text-anchor=\"middle\" x=\"1410.77\" y=\"-302.3\" font-family=\"Times,serif\" font-size=\"14.00\">(St5_St12)</text>\n</g>\n<!-- \\(St3_St17\\)&#45;&gt;\\(St5_St12\\) -->\n<g id=\"edge44\" class=\"edge\">\n<title>\\(St3_St17\\)&#45;&gt;\\(St5_St12\\)</title>\n<path fill=\"none\" stroke=\"black\" d=\"M1289.81,-122.56C1313.85,-159.33 1349.42,-213.72 1375.59,-253.73\"/>\n<polygon fill=\"black\" stroke=\"black\" points=\"1372.78,-255.84 1381.19,-262.29 1378.64,-252.01 1372.78,-255.84\"/>\n<text text-anchor=\"middle\" x=\"1334.53\" y=\"-197.8\" font-family=\"Times,serif\" font-size=\"14.00\">b </text>\n</g>\n<!-- \\(St3_St3\\) -->\n<g id=\"node8\" class=\"node\">\n<title>\\(St3_St3\\)</title>\n<ellipse fill=\"none\" stroke=\"black\" cx=\"1710.75\" cy=\"-726\" rx=\"44.39\" ry=\"44.39\"/>\n<text text-anchor=\"middle\" x=\"1710.75\" y=\"-722.3\" font-family=\"Times,serif\" font-size=\"14.00\">(St3_St3)</text>\n</g>\n<!-- \\(St3_St3\\)&#45;&gt;\\(St6_St1\\) -->\n<g id=\"edge48\" class=\"edge\">\n<title>\\(St3_St3\\)&#45;&gt;\\(St6_St1\\)</title>\n<path fill=\"none\" stroke=\"black\" d=\"M1738.96,-760.25C1765.8,-789.88 1809.75,-828 1858.25,-828 1858.25,-828 1858.25,-828 2308.72,-828 2408.38,-828 2437.58,-684.42 2446.13,-603.26\"/>\n<polygon fill=\"black\" stroke=\"black\" points=\"2449.63,-603.5 2447.12,-593.21 2442.66,-602.82 2449.63,-603.5\"/>\n<text text-anchor=\"middle\" x=\"2087.48\" y=\"-831.8\" font-family=\"Times,serif\" font-size=\"14.00\">a </text>\n</g>\n<!-- \\(St5_St25\\) -->\n<g id=\"node30\" class=\"node\">\n<title>\\(St5_St25\\)</title>\n<ellipse fill=\"none\" stroke=\"black\" cx=\"1859.25\" cy=\"-726\" rx=\"48.97\" ry=\"48.97\"/>\n<ellipse fill=\"none\" stroke=\"black\" cx=\"1859.25\" cy=\"-726\" rx=\"52.99\" ry=\"52.99\"/>\n<text text-anchor=\"middle\" x=\"1859.25\" y=\"-722.3\" font-family=\"Times,serif\" font-size=\"14.00\">(St5_St25)</text>\n</g>\n<!-- \\(St3_St3\\)&#45;&gt;\\(St5_St25\\) -->\n<g id=\"edge52\" class=\"edge\">\n<title>\\(St3_St3\\)&#45;&gt;\\(St5_St25\\)</title>\n<path fill=\"none\" stroke=\"black\" d=\"M1755.31,-726C1768.08,-726 1782.3,-726 1795.99,-726\"/>\n<polygon fill=\"black\" stroke=\"black\" points=\"1796.33,-729.5 1806.33,-726 1796.33,-722.5 1796.33,-729.5\"/>\n<text text-anchor=\"middle\" x=\"1783\" y=\"-729.8\" font-family=\"Times,serif\" font-size=\"14.00\">b </text>\n</g>\n<!-- \\(St0_St37\\) -->\n<g id=\"node11\" class=\"node\">\n<title>\\(St0_St37\\)</title>\n<ellipse fill=\"none\" stroke=\"black\" cx=\"283.24\" cy=\"-783\" rx=\"48.99\" ry=\"48.99\"/>\n<text text-anchor=\"middle\" x=\"283.24\" y=\"-779.3\" font-family=\"Times,serif\" font-size=\"14.00\">(St0_St37)</text>\n</g>\n<!-- \\(St0_St38\\)&#45;&gt;\\(St0_St37\\) -->\n<g id=\"edge30\" class=\"edge\">\n<title>\\(St0_St38\\)&#45;&gt;\\(St0_St37\\)</title>\n<path fill=\"none\" stroke=\"black\" d=\"M161.62,-530.68C186.96,-583.69 229.67,-673.03 256.88,-729.95\"/>\n<polygon fill=\"black\" stroke=\"black\" points=\"253.8,-731.63 261.27,-739.14 260.12,-728.61 253.8,-731.63\"/>\n<text text-anchor=\"middle\" x=\"211.49\" y=\"-646.8\" font-family=\"Times,serif\" font-size=\"14.00\">a </text>\n</g>\n<!-- \\(St6_St27\\) -->\n<g id=\"node21\" class=\"node\">\n<title>\\(St6_St27\\)</title>\n<ellipse fill=\"none\" stroke=\"black\" cx=\"701.51\" cy=\"-206\" rx=\"48.97\" ry=\"48.97\"/>\n<ellipse fill=\"none\" stroke=\"black\" cx=\"701.51\" cy=\"-206\" rx=\"52.99\" ry=\"52.99\"/>\n<text text-anchor=\"middle\" x=\"701.51\" y=\"-202.3\" font-family=\"Times,serif\" font-size=\"14.00\">(St6_St27)</text>\n</g>\n<!-- \\(St0_St38\\)&#45;&gt;\\(St6_St27\\) -->\n<g id=\"edge8\" class=\"edge\">\n<title>\\(St0_St38\\)&#45;&gt;\\(St6_St27\\)</title>\n<path fill=\"none\" stroke=\"black\" d=\"M188.08,-478.95C215.5,-474.97 250.72,-471 282.24,-471 282.24,-471 282.24,-471 558.57,-471 649.85,-471 682.66,-347.31 694.29,-268.94\"/>\n<polygon fill=\"black\" stroke=\"black\" points=\"697.8,-269.06 695.73,-258.67 690.87,-268.09 697.8,-269.06\"/>\n<text text-anchor=\"middle\" x=\"422.18\" y=\"-474.8\" font-family=\"Times,serif\" font-size=\"14.00\">b </text>\n</g>\n<!-- \\(St3_St16\\) -->\n<g id=\"node10\" class=\"node\">\n<title>\\(St3_St16\\)</title>\n<ellipse fill=\"none\" stroke=\"black\" cx=\"1262.28\" cy=\"-351\" rx=\"48.99\" ry=\"48.99\"/>\n<text text-anchor=\"middle\" x=\"1262.28\" y=\"-347.3\" font-family=\"Times,serif\" font-size=\"14.00\">(St3_St16)</text>\n</g>\n<!-- \\(St3_St16\\)&#45;&gt;\\(St6_St1\\) -->\n<g id=\"edge29\" class=\"edge\">\n<title>\\(St3_St16\\)&#45;&gt;\\(St6_St1\\)</title>\n<path fill=\"none\" stroke=\"black\" d=\"M1299.76,-382.35C1327.89,-403.29 1368.8,-427 1409.77,-427 1409.77,-427 1409.77,-427 1639.51,-427 1838.2,-427 1887.8,-435 2086.48,-435 2086.48,-435 2086.48,-435 2308.72,-435 2345.73,-435 2358.62,-437.1 2388.46,-459 2403.24,-469.84 2415.6,-485.38 2425.26,-500.5\"/>\n<polygon fill=\"black\" stroke=\"black\" points=\"2422.44,-502.6 2430.63,-509.32 2428.42,-498.96 2422.44,-502.6\"/>\n<text text-anchor=\"middle\" x=\"1859.25\" y=\"-435.8\" font-family=\"Times,serif\" font-size=\"14.00\">a </text>\n</g>\n<!-- \\(St3_St16\\)&#45;&gt;\\(St5_St12\\) -->\n<g id=\"edge50\" class=\"edge\">\n<title>\\(St3_St16\\)&#45;&gt;\\(St5_St12\\)</title>\n<path fill=\"none\" stroke=\"black\" d=\"M1309.23,-336.89C1322.26,-332.88 1336.64,-328.47 1350.34,-324.26\"/>\n<polygon fill=\"black\" stroke=\"black\" points=\"1351.65,-327.52 1360.18,-321.23 1349.59,-320.83 1351.65,-327.52\"/>\n<text text-anchor=\"middle\" x=\"1334.53\" y=\"-332.8\" font-family=\"Times,serif\" font-size=\"14.00\">b </text>\n</g>\n<!-- \\(St0_St8\\) -->\n<g id=\"node14\" class=\"node\">\n<title>\\(St0_St8\\)</title>\n<ellipse fill=\"none\" stroke=\"black\" cx=\"422.18\" cy=\"-870\" rx=\"44.39\" ry=\"44.39\"/>\n<text text-anchor=\"middle\" x=\"422.18\" y=\"-866.3\" font-family=\"Times,serif\" font-size=\"14.00\">(St0_St8)</text>\n</g>\n<!-- \\(St0_St37\\)&#45;&gt;\\(St0_St8\\) -->\n<g id=\"edge31\" class=\"edge\">\n<title>\\(St0_St37\\)&#45;&gt;\\(St0_St8\\)</title>\n<path fill=\"none\" stroke=\"black\" d=\"M324.95,-808.87C340.92,-819.01 359.31,-830.69 375.71,-841.11\"/>\n<polygon fill=\"black\" stroke=\"black\" points=\"374.26,-844.34 384.58,-846.75 378.02,-838.43 374.26,-844.34\"/>\n<text text-anchor=\"middle\" x=\"354.98\" y=\"-832.8\" font-family=\"Times,serif\" font-size=\"14.00\">a </text>\n</g>\n<!-- \\(St6_St26\\) -->\n<g id=\"node24\" class=\"node\">\n<title>\\(St6_St26\\)</title>\n<ellipse fill=\"none\" stroke=\"black\" cx=\"701.51\" cy=\"-783\" rx=\"48.97\" ry=\"48.97\"/>\n<ellipse fill=\"none\" stroke=\"black\" cx=\"701.51\" cy=\"-783\" rx=\"52.99\" ry=\"52.99\"/>\n<text text-anchor=\"middle\" x=\"701.51\" y=\"-779.3\" font-family=\"Times,serif\" font-size=\"14.00\">(St6_St26)</text>\n</g>\n<!-- \\(St0_St37\\)&#45;&gt;\\(St6_St26\\) -->\n<g id=\"edge46\" class=\"edge\">\n<title>\\(St0_St37\\)&#45;&gt;\\(St6_St26\\)</title>\n<path fill=\"none\" stroke=\"black\" d=\"M331.99,-783C407.53,-783 554.61,-783 638.31,-783\"/>\n<polygon fill=\"black\" stroke=\"black\" points=\"638.44,-786.5 648.44,-783 638.44,-779.5 638.44,-786.5\"/>\n<text text-anchor=\"middle\" x=\"489.87\" y=\"-786.8\" font-family=\"Times,serif\" font-size=\"14.00\">b </text>\n</g>\n<!-- \\(St6_St1\\)&#45;&gt;\\(St6_St1\\) -->\n<g id=\"edge4\" class=\"edge\">\n<title>\\(St6_St1\\)&#45;&gt;\\(St6_St1\\)</title>\n<path fill=\"none\" stroke=\"black\" d=\"M2444.58,-592.88C2445.06,-603.4 2447.08,-611.2 2450.66,-611.2 2452.95,-611.2 2454.61,-608 2455.63,-602.93\"/>\n<polygon fill=\"black\" stroke=\"black\" points=\"2459.12,-603.2 2456.74,-592.88 2452.16,-602.43 2459.12,-603.2\"/>\n<text text-anchor=\"middle\" x=\"2450.66\" y=\"-615\" font-family=\"Times,serif\" font-size=\"14.00\">b </text>\n</g>\n<!-- \\(St6_St1\\)&#45;&gt;\\(St6_St1\\) -->\n<g id=\"edge7\" class=\"edge\">\n<title>\\(St6_St1\\)&#45;&gt;\\(St6_St1\\)</title>\n<path fill=\"none\" stroke=\"black\" d=\"M2438.53,-591.9C2437.21,-611.81 2441.25,-629.2 2450.66,-629.2 2458.38,-629.2 2462.49,-617.49 2462.98,-602.3\"/>\n<polygon fill=\"black\" stroke=\"black\" points=\"2466.48,-601.84 2462.79,-591.9 2459.48,-601.97 2466.48,-601.84\"/>\n<text text-anchor=\"middle\" x=\"2450.66\" y=\"-633\" font-family=\"Times,serif\" font-size=\"14.00\">a </text>\n</g>\n<!-- \\(St3_St7\\)&#45;&gt;\\(St3_St3\\) -->\n<g id=\"edge25\" class=\"edge\">\n<title>\\(St3_St7\\)&#45;&gt;\\(St3_St3\\)</title>\n<path fill=\"none\" stroke=\"black\" d=\"M1604.85,-695.21C1621.4,-700.06 1640.61,-705.7 1658.04,-710.82\"/>\n<polygon fill=\"black\" stroke=\"black\" points=\"1657.48,-714.3 1668.06,-713.76 1659.45,-707.59 1657.48,-714.3\"/>\n<text text-anchor=\"middle\" x=\"1638.51\" y=\"-708.8\" font-family=\"Times,serif\" font-size=\"14.00\">a </text>\n</g>\n<!-- \\(St3_St7\\)&#45;&gt;\\(St6_St1\\) -->\n<g id=\"edge5\" class=\"edge\">\n<title>\\(St3_St7\\)&#45;&gt;\\(St6_St1\\)</title>\n<path fill=\"none\" stroke=\"black\" d=\"M1606.01,-674.86C1714.27,-654.47 2008.15,-600.52 2254.97,-568 2302.57,-561.73 2356.97,-556.59 2396.14,-553.24\"/>\n<polygon fill=\"black\" stroke=\"black\" points=\"2396.59,-556.72 2406.26,-552.39 2396,-549.74 2396.59,-556.72\"/>\n<text text-anchor=\"middle\" x=\"2011.74\" y=\"-615.8\" font-family=\"Times,serif\" font-size=\"14.00\">b </text>\n</g>\n<!-- \\(St0_St8\\)&#45;&gt;\\(St0_St3\\) -->\n<g id=\"edge26\" class=\"edge\">\n<title>\\(St0_St8\\)&#45;&gt;\\(St0_St3\\)</title>\n<path fill=\"none\" stroke=\"black\" d=\"M461.05,-891.86C476.25,-900.64 493.94,-910.85 509.93,-920.07\"/>\n<polygon fill=\"black\" stroke=\"black\" points=\"508.2,-923.12 518.61,-925.09 511.7,-917.06 508.2,-923.12\"/>\n<text text-anchor=\"middle\" x=\"489.87\" y=\"-913.8\" font-family=\"Times,serif\" font-size=\"14.00\">a </text>\n</g>\n<!-- \\(St0_St8\\)&#45;&gt;\\(St6_St25\\) -->\n<g id=\"edge35\" class=\"edge\">\n<title>\\(St0_St8\\)&#45;&gt;\\(St6_St25\\)</title>\n<path fill=\"none\" stroke=\"black\" d=\"M466.66,-868.17C503.16,-867.59 556.45,-868.98 601.77,-879 616,-882.15 630.83,-887.15 644.54,-892.56\"/>\n<polygon fill=\"black\" stroke=\"black\" points=\"643.25,-895.82 653.83,-896.36 645.9,-889.34 643.25,-895.82\"/>\n<text text-anchor=\"middle\" x=\"557.57\" y=\"-882.8\" font-family=\"Times,serif\" font-size=\"14.00\">b </text>\n</g>\n<!-- \\(St7_St7\\) -->\n<g id=\"node15\" class=\"node\">\n<title>\\(St7_St7\\)</title>\n<ellipse fill=\"none\" stroke=\"black\" cx=\"987.95\" cy=\"-504\" rx=\"44.39\" ry=\"44.39\"/>\n<text text-anchor=\"middle\" x=\"987.95\" y=\"-500.3\" font-family=\"Times,serif\" font-size=\"14.00\">(St7_St7)</text>\n</g>\n<!-- \\(St7_St7\\)&#45;&gt;\\(St7_St3\\) -->\n<g id=\"edge57\" class=\"edge\">\n<title>\\(St7_St7\\)&#45;&gt;\\(St7_St3\\)</title>\n<path fill=\"none\" stroke=\"black\" d=\"M1029.39,-520.19C1042.73,-525.53 1057.73,-531.54 1071.69,-537.12\"/>\n<polygon fill=\"black\" stroke=\"black\" points=\"1070.56,-540.44 1081.14,-540.91 1073.16,-533.94 1070.56,-540.44\"/>\n<text text-anchor=\"middle\" x=\"1055.14\" y=\"-535.8\" font-family=\"Times,serif\" font-size=\"14.00\">a </text>\n</g>\n<!-- \\(St7_St7\\)&#45;&gt;\\(St6_St1\\) -->\n<g id=\"edge18\" class=\"edge\">\n<title>\\(St7_St7\\)&#45;&gt;\\(St6_St1\\)</title>\n<path fill=\"none\" stroke=\"black\" d=\"M1029.81,-489.32C1055.69,-481.3 1090.06,-473 1121.34,-473 1121.34,-473 1121.34,-473 2308.72,-473 2345.88,-473 2382.66,-493.72 2409.33,-513.52\"/>\n<polygon fill=\"black\" stroke=\"black\" points=\"2407.2,-516.31 2417.27,-519.62 2411.46,-510.75 2407.2,-516.31\"/>\n<text text-anchor=\"middle\" x=\"1710.75\" y=\"-476.8\" font-family=\"Times,serif\" font-size=\"14.00\">b </text>\n</g>\n<!-- \\(St7_St36\\) -->\n<g id=\"node16\" class=\"node\">\n<title>\\(St7_St36\\)</title>\n<ellipse fill=\"none\" stroke=\"black\" cx=\"849\" cy=\"-129\" rx=\"48.99\" ry=\"48.99\"/>\n<text text-anchor=\"middle\" x=\"849\" y=\"-125.3\" font-family=\"Times,serif\" font-size=\"14.00\">(St7_St36)</text>\n</g>\n<!-- \\(St7_St36\\)&#45;&gt;\\(St3_St21\\) -->\n<g id=\"edge22\" class=\"edge\">\n<title>\\(St7_St36\\)&#45;&gt;\\(St3_St21\\)</title>\n<path fill=\"none\" stroke=\"black\" d=\"M872.6,-86.04C895.78,-48.52 935.67,0 986.95,0 986.95,0 986.95,0 1563.26,0 1650.9,0 1687.2,-116.23 1701.38,-189.55\"/>\n<polygon fill=\"black\" stroke=\"black\" points=\"1697.98,-190.4 1703.24,-199.59 1704.86,-189.12 1697.98,-190.4\"/>\n<text text-anchor=\"middle\" x=\"1262.28\" y=\"-3.8\" font-family=\"Times,serif\" font-size=\"14.00\">b </text>\n</g>\n<!-- \\(St7_St36\\)&#45;&gt;\\(St7_St7\\) -->\n<g id=\"edge42\" class=\"edge\">\n<title>\\(St7_St36\\)&#45;&gt;\\(St7_St7\\)</title>\n<path fill=\"none\" stroke=\"black\" d=\"M862.06,-176.22C877.82,-235.3 907.69,-339.04 943.75,-424 948.42,-435.01 954.11,-446.51 959.81,-457.25\"/>\n<polygon fill=\"black\" stroke=\"black\" points=\"956.74,-458.93 964.58,-466.06 962.9,-455.6 956.74,-458.93\"/>\n<text text-anchor=\"middle\" x=\"920.75\" y=\"-379.8\" font-family=\"Times,serif\" font-size=\"14.00\">a </text>\n</g>\n<!-- \\(St3_St25\\)&#45;&gt;\\(St3_St35\\) -->\n<g id=\"edge17\" class=\"edge\">\n<title>\\(St3_St25\\)&#45;&gt;\\(St3_St35\\)</title>\n<path fill=\"none\" stroke=\"black\" d=\"M1299.87,-588.47C1319.71,-605.53 1344.38,-626.75 1365.32,-644.76\"/>\n<polygon fill=\"black\" stroke=\"black\" points=\"1363.28,-647.63 1373.14,-651.49 1367.84,-642.32 1363.28,-647.63\"/>\n<text text-anchor=\"middle\" x=\"1334.53\" y=\"-623.8\" font-family=\"Times,serif\" font-size=\"14.00\">a </text>\n</g>\n<!-- \\(St3_St25\\)&#45;&gt;\\(St6_St1\\) -->\n<g id=\"edge54\" class=\"edge\">\n<title>\\(St3_St25\\)&#45;&gt;\\(St6_St1\\)</title>\n<path fill=\"none\" stroke=\"black\" d=\"M1311.11,-557C1339.74,-557 1376.84,-557 1409.77,-557 1409.77,-557 1409.77,-557 1784,-557 2048.23,-557 2114.24,-550.78 2378.46,-549 2384.25,-548.96 2390.29,-548.94 2396.31,-548.92\"/>\n<polygon fill=\"black\" stroke=\"black\" points=\"2396.37,-552.42 2406.36,-548.91 2396.36,-545.42 2396.37,-552.42\"/>\n<text text-anchor=\"middle\" x=\"1859.25\" y=\"-559.8\" font-family=\"Times,serif\" font-size=\"14.00\">b </text>\n</g>\n<!-- \\(St3_St12\\) -->\n<g id=\"node18\" class=\"node\">\n<title>\\(St3_St12\\)</title>\n<ellipse fill=\"none\" stroke=\"black\" cx=\"2011.74\" cy=\"-229\" rx=\"48.99\" ry=\"48.99\"/>\n<text text-anchor=\"middle\" x=\"2011.74\" y=\"-225.3\" font-family=\"Times,serif\" font-size=\"14.00\">(St3_St12)</text>\n</g>\n<!-- \\(St3_St12\\)&#45;&gt;\\(St3_St31\\) -->\n<g id=\"edge15\" class=\"edge\">\n<title>\\(St3_St12\\)&#45;&gt;\\(St3_St31\\)</title>\n<path fill=\"none\" stroke=\"black\" d=\"M2060.78,-229C2073.32,-229 2086.97,-229 2099.98,-229\"/>\n<polygon fill=\"black\" stroke=\"black\" points=\"2100.24,-232.5 2110.24,-229 2100.24,-225.5 2100.24,-232.5\"/>\n<text text-anchor=\"middle\" x=\"2087.48\" y=\"-232.8\" font-family=\"Times,serif\" font-size=\"14.00\">a </text>\n</g>\n<!-- \\(St3_St12\\)&#45;&gt;\\(St6_St1\\) -->\n<g id=\"edge12\" class=\"edge\">\n<title>\\(St3_St12\\)&#45;&gt;\\(St6_St1\\)</title>\n<path fill=\"none\" stroke=\"black\" d=\"M2052.95,-202.18C2070.16,-191.49 2090.8,-179.68 2110.48,-171 2162.09,-148.23 2315.74,-92.64 2360.46,-127 2418.09,-171.27 2439.61,-390.97 2446.64,-494.65\"/>\n<polygon fill=\"black\" stroke=\"black\" points=\"2443.17,-495.17 2447.32,-504.91 2450.16,-494.71 2443.17,-495.17\"/>\n<text text-anchor=\"middle\" x=\"2231.47\" y=\"-134.8\" font-family=\"Times,serif\" font-size=\"14.00\">b </text>\n</g>\n<!-- \\(St7_St35\\) -->\n<g id=\"node19\" class=\"node\">\n<title>\\(St7_St35\\)</title>\n<ellipse fill=\"none\" stroke=\"black\" cx=\"849\" cy=\"-869\" rx=\"48.99\" ry=\"48.99\"/>\n<text text-anchor=\"middle\" x=\"849\" y=\"-865.3\" font-family=\"Times,serif\" font-size=\"14.00\">(St7_St35)</text>\n</g>\n<!-- \\(St7_St35\\)&#45;&gt;\\(St6_St1\\) -->\n<g id=\"edge24\" class=\"edge\">\n<title>\\(St7_St35\\)&#45;&gt;\\(St6_St1\\)</title>\n<path fill=\"none\" stroke=\"black\" d=\"M886.2,-900.81C912.34,-920.48 949.5,-942 986.95,-942 986.95,-942 986.95,-942 2308.72,-942 2357.68,-942 2372.03,-912.12 2388.46,-866 2420.23,-776.85 2436.72,-667.4 2444.26,-603.2\"/>\n<polygon fill=\"black\" stroke=\"black\" points=\"2447.78,-603.25 2445.44,-592.92 2440.82,-602.45 2447.78,-603.25\"/>\n<text text-anchor=\"middle\" x=\"1638.51\" y=\"-945.8\" font-family=\"Times,serif\" font-size=\"14.00\">b </text>\n</g>\n<!-- \\(St7_St35\\)&#45;&gt;\\(St7_St7\\) -->\n<g id=\"edge11\" class=\"edge\">\n<title>\\(St7_St35\\)&#45;&gt;\\(St7_St7\\)</title>\n<path fill=\"none\" stroke=\"black\" d=\"M867.07,-823.51C892.72,-755.16 941.03,-626.38 967.83,-554.95\"/>\n<polygon fill=\"black\" stroke=\"black\" points=\"971.23,-555.86 971.46,-545.27 964.67,-553.4 971.23,-555.86\"/>\n<text text-anchor=\"middle\" x=\"920.75\" y=\"-689.8\" font-family=\"Times,serif\" font-size=\"14.00\">a </text>\n</g>\n<!-- \\(St5_St35\\) -->\n<g id=\"node20\" class=\"node\">\n<title>\\(St5_St35\\)</title>\n<ellipse fill=\"none\" stroke=\"black\" cx=\"2011.74\" cy=\"-704\" rx=\"48.97\" ry=\"48.97\"/>\n<ellipse fill=\"none\" stroke=\"black\" cx=\"2011.74\" cy=\"-704\" rx=\"52.99\" ry=\"52.99\"/>\n<text text-anchor=\"middle\" x=\"2011.74\" y=\"-700.3\" font-family=\"Times,serif\" font-size=\"14.00\">(St5_St35)</text>\n</g>\n<!-- \\(St5_St35\\)&#45;&gt;\\(St6_St1\\) -->\n<g id=\"edge40\" class=\"edge\">\n<title>\\(St5_St35\\)&#45;&gt;\\(St6_St1\\)</title>\n<path fill=\"none\" stroke=\"black\" d=\"M2062.34,-719.79C2132.88,-739.22 2264.27,-764.02 2360.46,-715 2403.19,-693.23 2426.23,-641.97 2438.12,-602.12\"/>\n<polygon fill=\"black\" stroke=\"black\" points=\"2441.56,-602.84 2440.91,-592.26 2434.82,-600.94 2441.56,-602.84\"/>\n<text text-anchor=\"middle\" x=\"2231.47\" y=\"-746.8\" font-family=\"Times,serif\" font-size=\"14.00\">b </text>\n</g>\n<!-- \\(St5_St7\\) -->\n<g id=\"node27\" class=\"node\">\n<title>\\(St5_St7\\)</title>\n<ellipse fill=\"none\" stroke=\"black\" cx=\"2159.23\" cy=\"-663\" rx=\"44.38\" ry=\"44.38\"/>\n<ellipse fill=\"none\" stroke=\"black\" cx=\"2159.23\" cy=\"-663\" rx=\"48.39\" ry=\"48.39\"/>\n<text text-anchor=\"middle\" x=\"2159.23\" y=\"-659.3\" font-family=\"Times,serif\" font-size=\"14.00\">(St5_St7)</text>\n</g>\n<!-- \\(St5_St35\\)&#45;&gt;\\(St5_St7\\) -->\n<g id=\"edge2\" class=\"edge\">\n<title>\\(St5_St35\\)&#45;&gt;\\(St5_St7\\)</title>\n<path fill=\"none\" stroke=\"black\" d=\"M2062.81,-689.89C2075.64,-686.27 2089.53,-682.36 2102.63,-678.67\"/>\n<polygon fill=\"black\" stroke=\"black\" points=\"2103.79,-681.98 2112.46,-675.9 2101.89,-675.24 2103.79,-681.98\"/>\n<text text-anchor=\"middle\" x=\"2087.48\" y=\"-686.8\" font-family=\"Times,serif\" font-size=\"14.00\">a </text>\n</g>\n<!-- \\(St6_St27\\)&#45;&gt;\\(St3_St17\\) -->\n<g id=\"edge36\" class=\"edge\">\n<title>\\(St6_St27\\)&#45;&gt;\\(St3_St17\\)</title>\n<path fill=\"none\" stroke=\"black\" d=\"M754.36,-206C782.14,-206 816.94,-206 848,-206 848,-206 848,-206 1123.34,-206 1169.5,-206 1207.22,-167.12 1231.47,-132.9\"/>\n<polygon fill=\"black\" stroke=\"black\" points=\"1234.58,-134.55 1237.35,-124.33 1228.81,-130.6 1234.58,-134.55\"/>\n<text text-anchor=\"middle\" x=\"987.95\" y=\"-209.8\" font-family=\"Times,serif\" font-size=\"14.00\">b </text>\n</g>\n<!-- \\(St6_St27\\)&#45;&gt;\\(St7_St36\\) -->\n<g id=\"edge41\" class=\"edge\">\n<title>\\(St6_St27\\)&#45;&gt;\\(St7_St36\\)</title>\n<path fill=\"none\" stroke=\"black\" d=\"M748.55,-181.64C763.72,-173.61 780.69,-164.63 796.26,-156.39\"/>\n<polygon fill=\"black\" stroke=\"black\" points=\"798.04,-159.41 805.24,-151.63 794.76,-153.22 798.04,-159.41\"/>\n<text text-anchor=\"middle\" x=\"777.26\" y=\"-170.8\" font-family=\"Times,serif\" font-size=\"14.00\">a </text>\n</g>\n<!-- \\(St5_St3\\) -->\n<g id=\"node22\" class=\"node\">\n<title>\\(St5_St3\\)</title>\n<ellipse fill=\"none\" stroke=\"black\" cx=\"2307.72\" cy=\"-625\" rx=\"44.38\" ry=\"44.38\"/>\n<ellipse fill=\"none\" stroke=\"black\" cx=\"2307.72\" cy=\"-625\" rx=\"48.39\" ry=\"48.39\"/>\n<text text-anchor=\"middle\" x=\"2307.72\" y=\"-621.3\" font-family=\"Times,serif\" font-size=\"14.00\">(St5_St3)</text>\n</g>\n<!-- \\(St5_St3\\)&#45;&gt;\\(St6_St1\\) -->\n<g id=\"edge33\" class=\"edge\">\n<title>\\(St5_St3\\)&#45;&gt;\\(St6_St1\\)</title>\n<path fill=\"none\" stroke=\"black\" d=\"M2350.62,-602.4C2366.92,-593.62 2385.67,-583.51 2402.44,-574.46\"/>\n<polygon fill=\"black\" stroke=\"black\" points=\"2404.38,-577.39 2411.52,-569.57 2401.06,-571.23 2404.38,-577.39\"/>\n<text text-anchor=\"middle\" x=\"2383.46\" y=\"-590.8\" font-family=\"Times,serif\" font-size=\"14.00\">a </text>\n</g>\n<!-- \\(St5_St3\\)&#45;&gt;\\(St3_St25\\) -->\n<g id=\"edge34\" class=\"edge\">\n<title>\\(St5_St3\\)&#45;&gt;\\(St3_St25\\)</title>\n<path fill=\"none\" stroke=\"black\" d=\"M2279.63,-585.77C2253.34,-552.79 2210.18,-511 2160.23,-511 1934.49,-511 1934.49,-511 1934.49,-511 1803.37,-511 1770.63,-516 1639.51,-516 1409.77,-516 1409.77,-516 1409.77,-516 1378.25,-516 1344.28,-524.91 1317,-534.42\"/>\n<polygon fill=\"black\" stroke=\"black\" points=\"1315.48,-531.25 1307.27,-537.94 1317.86,-537.83 1315.48,-531.25\"/>\n<text text-anchor=\"middle\" x=\"1783\" y=\"-516.8\" font-family=\"Times,serif\" font-size=\"14.00\">b </text>\n</g>\n<!-- \\(St5_St31\\) -->\n<g id=\"node23\" class=\"node\">\n<title>\\(St5_St31\\)</title>\n<ellipse fill=\"none\" stroke=\"black\" cx=\"1562.26\" cy=\"-248\" rx=\"48.97\" ry=\"48.97\"/>\n<ellipse fill=\"none\" stroke=\"black\" cx=\"1562.26\" cy=\"-248\" rx=\"52.99\" ry=\"52.99\"/>\n<text text-anchor=\"middle\" x=\"1562.26\" y=\"-244.3\" font-family=\"Times,serif\" font-size=\"14.00\">(St5_St31)</text>\n</g>\n<!-- \\(St5_St31\\)&#45;&gt;\\(St3_St21\\) -->\n<g id=\"edge53\" class=\"edge\">\n<title>\\(St5_St31\\)&#45;&gt;\\(St3_St21\\)</title>\n<path fill=\"none\" stroke=\"black\" d=\"M1615.32,-248C1627.03,-248 1639.52,-248 1651.46,-248\"/>\n<polygon fill=\"black\" stroke=\"black\" points=\"1651.77,-251.5 1661.77,-248 1651.77,-244.5 1651.77,-251.5\"/>\n<text text-anchor=\"middle\" x=\"1638.51\" y=\"-251.8\" font-family=\"Times,serif\" font-size=\"14.00\">b </text>\n</g>\n<!-- \\(St5_St31\\)&#45;&gt;\\(St6_St1\\) -->\n<g id=\"edge37\" class=\"edge\">\n<title>\\(St5_St31\\)&#45;&gt;\\(St6_St1\\)</title>\n<path fill=\"none\" stroke=\"black\" d=\"M1590.4,-203.22C1616.13,-167.01 1658.43,-122 1709.75,-122 1709.75,-122 1709.75,-122 1936.49,-122 2124.97,-122 2189.43,-33.82 2360.46,-113 2429.32,-144.88 2445.02,-384.5 2448.6,-494.31\"/>\n<polygon fill=\"black\" stroke=\"black\" points=\"2445.11,-494.64 2448.91,-504.53 2452.11,-494.42 2445.11,-494.64\"/>\n<text text-anchor=\"middle\" x=\"2011.74\" y=\"-125.8\" font-family=\"Times,serif\" font-size=\"14.00\">a </text>\n</g>\n<!-- \\(St6_St26\\)&#45;&gt;\\(St3_St16\\) -->\n<g id=\"edge39\" class=\"edge\">\n<title>\\(St6_St26\\)&#45;&gt;\\(St3_St16\\)</title>\n<path fill=\"none\" stroke=\"black\" d=\"M711.31,-730.84C730.29,-627.14 779,-405 848,-405 848,-405 848,-405 1123.34,-405 1153.92,-405 1185.85,-393.35 1211.28,-380.87\"/>\n<polygon fill=\"black\" stroke=\"black\" points=\"1213.01,-383.92 1220.34,-376.26 1209.84,-377.68 1213.01,-383.92\"/>\n<text text-anchor=\"middle\" x=\"987.95\" y=\"-408.8\" font-family=\"Times,serif\" font-size=\"14.00\">b </text>\n</g>\n<!-- \\(St6_St26\\)&#45;&gt;\\(St7_St35\\) -->\n<g id=\"edge38\" class=\"edge\">\n<title>\\(St6_St26\\)&#45;&gt;\\(St7_St35\\)</title>\n<path fill=\"none\" stroke=\"black\" d=\"M747.35,-809.5C763.27,-818.92 781.3,-829.57 797.65,-839.23\"/>\n<polygon fill=\"black\" stroke=\"black\" points=\"796.15,-842.41 806.54,-844.49 799.71,-836.39 796.15,-842.41\"/>\n<text text-anchor=\"middle\" x=\"777.26\" y=\"-831.8\" font-family=\"Times,serif\" font-size=\"14.00\">a </text>\n</g>\n<!-- \\(St5_St16\\)&#45;&gt;\\(St6_St1\\) -->\n<g id=\"edge27\" class=\"edge\">\n<title>\\(St5_St16\\)&#45;&gt;\\(St6_St1\\)</title>\n<path fill=\"none\" stroke=\"black\" d=\"M1907.68,-269.43C1923.7,-275.93 1941.87,-282.53 1958.99,-287 2005.58,-299.16 2351.85,-313.73 2388.46,-345 2431.56,-381.8 2444.99,-447.65 2448.83,-494.58\"/>\n<polygon fill=\"black\" stroke=\"black\" points=\"2445.34,-494.85 2449.52,-504.58 2452.32,-494.37 2445.34,-494.85\"/>\n<text text-anchor=\"middle\" x=\"2159.23\" y=\"-314.8\" font-family=\"Times,serif\" font-size=\"14.00\">a </text>\n</g>\n<!-- \\(St5_St16\\)&#45;&gt;\\(St3_St12\\) -->\n<g id=\"edge6\" class=\"edge\">\n<title>\\(St5_St16\\)&#45;&gt;\\(St3_St12\\)</title>\n<path fill=\"none\" stroke=\"black\" d=\"M1911.61,-241.51C1924.91,-239.84 1939.32,-238.02 1952.93,-236.3\"/>\n<polygon fill=\"black\" stroke=\"black\" points=\"1953.66,-239.73 1963.14,-235.01 1952.78,-232.79 1953.66,-239.73\"/>\n<text text-anchor=\"middle\" x=\"1935.49\" y=\"-242.8\" font-family=\"Times,serif\" font-size=\"14.00\">b </text>\n</g>\n<!-- \\(St6_St25\\)&#45;&gt;\\(St6_St1\\) -->\n<g id=\"edge56\" class=\"edge\">\n<title>\\(St6_St25\\)&#45;&gt;\\(St6_St1\\)</title>\n<path fill=\"none\" stroke=\"black\" d=\"M744,-950.67C771.87,-968.81 810.26,-988 848,-988 848,-988 848,-988 2308.72,-988 2364.19,-988 2372.37,-945.08 2388.46,-892 2418.69,-792.34 2435.94,-671.6 2444,-603.2\"/>\n<polygon fill=\"black\" stroke=\"black\" points=\"2447.49,-603.43 2445.16,-593.09 2440.54,-602.62 2447.49,-603.43\"/>\n<text text-anchor=\"middle\" x=\"1562.26\" y=\"-991.8\" font-family=\"Times,serif\" font-size=\"14.00\">b </text>\n</g>\n<!-- \\(St6_St25\\)&#45;&gt;\\(St7_St35\\) -->\n<g id=\"edge9\" class=\"edge\">\n<title>\\(St6_St25\\)&#45;&gt;\\(St7_St35\\)</title>\n<path fill=\"none\" stroke=\"black\" d=\"M751.77,-902.07C765.04,-897.51 779.47,-892.55 793.03,-887.89\"/>\n<polygon fill=\"black\" stroke=\"black\" points=\"794.4,-891.12 802.72,-884.56 792.12,-884.5 794.4,-891.12\"/>\n<text text-anchor=\"middle\" x=\"777.26\" y=\"-897.8\" font-family=\"Times,serif\" font-size=\"14.00\">a </text>\n</g>\n<!-- \\(St5_St7\\)&#45;&gt;\\(St6_St1\\) -->\n<g id=\"edge47\" class=\"edge\">\n<title>\\(St5_St7\\)&#45;&gt;\\(St6_St1\\)</title>\n<path fill=\"none\" stroke=\"black\" d=\"M2204.39,-680.64C2246.92,-694.64 2311.78,-707.97 2360.46,-682 2393,-664.64 2415.77,-629.57 2430.15,-599.79\"/>\n<polygon fill=\"black\" stroke=\"black\" points=\"2433.5,-600.89 2434.53,-590.34 2427.15,-597.94 2433.5,-600.89\"/>\n<text text-anchor=\"middle\" x=\"2307.72\" y=\"-699.8\" font-family=\"Times,serif\" font-size=\"14.00\">b </text>\n</g>\n<!-- \\(St5_St7\\)&#45;&gt;\\(St5_St3\\) -->\n<g id=\"edge13\" class=\"edge\">\n<title>\\(St5_St7\\)&#45;&gt;\\(St5_St3\\)</title>\n<path fill=\"none\" stroke=\"black\" d=\"M2206.18,-651.08C2220.36,-647.4 2236.13,-643.31 2250.9,-639.48\"/>\n<polygon fill=\"black\" stroke=\"black\" points=\"2252.13,-642.78 2260.93,-636.88 2250.37,-636 2252.13,-642.78\"/>\n<text text-anchor=\"middle\" x=\"2231.47\" y=\"-648.8\" font-family=\"Times,serif\" font-size=\"14.00\">a </text>\n</g>\n<!-- \\(St5_St12\\)&#45;&gt;\\(St6_St1\\) -->\n<g id=\"edge55\" class=\"edge\">\n<title>\\(St5_St12\\)&#45;&gt;\\(St6_St1\\)</title>\n<path fill=\"none\" stroke=\"black\" d=\"M1451.41,-339.99C1480,-361 1520.57,-384 1561.26,-384 1561.26,-384 1561.26,-384 1784,-384 1918.56,-384 1951.92,-397 2086.48,-397 2086.48,-397 2086.48,-397 2308.72,-397 2345.73,-397 2360.36,-396.91 2388.46,-421 2411.27,-440.54 2426.23,-470.5 2435.65,-496.53\"/>\n<polygon fill=\"black\" stroke=\"black\" points=\"2432.44,-497.95 2438.99,-506.28 2439.06,-495.68 2432.44,-497.95\"/>\n<text text-anchor=\"middle\" x=\"1935.49\" y=\"-393.8\" font-family=\"Times,serif\" font-size=\"14.00\">b </text>\n</g>\n<!-- \\(St5_St12\\)&#45;&gt;\\(St5_St31\\) -->\n<g id=\"edge14\" class=\"edge\">\n<title>\\(St5_St12\\)&#45;&gt;\\(St5_St31\\)</title>\n<path fill=\"none\" stroke=\"black\" d=\"M1460.31,-287.17C1473.95,-281.87 1488.93,-276.06 1503.08,-270.57\"/>\n<polygon fill=\"black\" stroke=\"black\" points=\"1504.66,-273.72 1512.71,-266.84 1502.13,-267.19 1504.66,-273.72\"/>\n<text text-anchor=\"middle\" x=\"1486.52\" y=\"-281.8\" font-family=\"Times,serif\" font-size=\"14.00\">a </text>\n</g>\n<!-- \\(St5_St21\\)&#45;&gt;\\(St3_St16\\) -->\n<g id=\"edge58\" class=\"edge\">\n<title>\\(St5_St21\\)&#45;&gt;\\(St3_St16\\)</title>\n<path fill=\"none\" stroke=\"black\" d=\"M2272.05,-150.12C2261.66,-140.56 2249.64,-131.28 2236.97,-125 2053.57,-34.08 1981.04,-71.22 1777.5,-93 1580.48,-114.08 1519.35,-128.95 1358.03,-244 1335.11,-260.34 1313.9,-283.21 1297.38,-303.62\"/>\n<polygon fill=\"black\" stroke=\"black\" points=\"1294.53,-301.58 1291.06,-311.59 1300.01,-305.93 1294.53,-301.58\"/>\n<text text-anchor=\"middle\" x=\"1783\" y=\"-96.8\" font-family=\"Times,serif\" font-size=\"14.00\">b </text>\n</g>\n<!-- \\(St5_St21\\)&#45;&gt;\\(St6_St1\\) -->\n<g id=\"edge20\" class=\"edge\">\n<title>\\(St5_St21\\)&#45;&gt;\\(St6_St1\\)</title>\n<path fill=\"none\" stroke=\"black\" d=\"M2354.07,-214.43C2366.98,-223.74 2379.86,-235.38 2388.46,-249 2436.34,-324.77 2447.7,-430.87 2449.87,-494.48\"/>\n<polygon fill=\"black\" stroke=\"black\" points=\"2446.38,-494.8 2450.15,-504.7 2453.38,-494.6 2446.38,-494.8\"/>\n<text text-anchor=\"middle\" x=\"2383.46\" y=\"-252.8\" font-family=\"Times,serif\" font-size=\"14.00\">a </text>\n</g>\n<!-- \\(St5_St25\\)&#45;&gt;\\(St6_St1\\) -->\n<g id=\"edge19\" class=\"edge\">\n<title>\\(St5_St25\\)&#45;&gt;\\(St6_St1\\)</title>\n<path fill=\"none\" stroke=\"black\" d=\"M1906.82,-749.15C1922.94,-755.99 1941.38,-762.57 1958.99,-766 2134.44,-800.19 2202.76,-826.16 2360.46,-742 2410.83,-715.12 2432.89,-650.28 2442.47,-603.16\"/>\n<polygon fill=\"black\" stroke=\"black\" points=\"2445.96,-603.57 2444.38,-593.09 2439.08,-602.26 2445.96,-603.57\"/>\n<text text-anchor=\"middle\" x=\"2159.23\" y=\"-801.8\" font-family=\"Times,serif\" font-size=\"14.00\">b </text>\n</g>\n<!-- \\(St5_St25\\)&#45;&gt;\\(St5_St35\\) -->\n<g id=\"edge16\" class=\"edge\">\n<title>\\(St5_St25\\)&#45;&gt;\\(St5_St35\\)</title>\n<path fill=\"none\" stroke=\"black\" d=\"M1911.61,-718.49C1923.78,-716.71 1936.86,-714.8 1949.42,-712.96\"/>\n<polygon fill=\"black\" stroke=\"black\" points=\"1949.95,-716.42 1959.34,-711.51 1948.94,-709.5 1949.95,-716.42\"/>\n<text text-anchor=\"middle\" x=\"1935.49\" y=\"-718.8\" font-family=\"Times,serif\" font-size=\"14.00\">a </text>\n</g>\n</g>\n</svg>\n",
            "text/plain": [
              "<graphviz.graphs.Digraph at 0x79acb57494e0>"
            ]
          },
          "metadata": {},
          "execution_count": 45
        }
      ]
    },
    {
      "cell_type": "code",
      "source": [
        "# Uncomment for final run\n",
        "# dotObj_dfa(min_D_int).render('min_D_int')"
      ],
      "metadata": {
        "id": "fz72m4qBo5q8"
      },
      "execution_count": null,
      "outputs": []
    },
    {
      "cell_type": "markdown",
      "source": [
        "### STEP-5: Find out the NUMBER OF pairs of state(s) merged"
      ],
      "metadata": {
        "id": "ShAccbJKgonr"
      }
    },
    {
      "cell_type": "code",
      "source": [
        "merged_states = len(D_int[\"Q\"]) - len(min_D_int[\"Q\"])\n",
        "\n",
        "merged_states"
      ],
      "metadata": {
        "id": "6h4T4rI4gn89",
        "colab": {
          "base_uri": "https://localhost:8080/"
        },
        "outputId": "b1d00bd3-9686-4fa0-935f-1f3892e6eea9"
      },
      "execution_count": 46,
      "outputs": [
        {
          "output_type": "execute_result",
          "data": {
            "text/plain": [
              "4"
            ]
          },
          "metadata": {},
          "execution_count": 46
        }
      ]
    },
    {
      "cell_type": "code",
      "source": [
        "len(min_D_int[\"Q\"])"
      ],
      "metadata": {
        "id": "k3xUoJ4_Ehf_",
        "colab": {
          "base_uri": "https://localhost:8080/"
        },
        "outputId": "03318782-06d4-4b5c-db5b-b8ae0544d3fc"
      },
      "execution_count": 47,
      "outputs": [
        {
          "output_type": "execute_result",
          "data": {
            "text/plain": [
              "29"
            ]
          },
          "metadata": {},
          "execution_count": 47
        }
      ]
    },
    {
      "cell_type": "code",
      "source": [
        "len(D_int[\"Q\"])"
      ],
      "metadata": {
        "id": "3QlrOgufEmk7",
        "colab": {
          "base_uri": "https://localhost:8080/"
        },
        "outputId": "286d7585-33c7-494b-82ee-439bbb4a8313"
      },
      "execution_count": 48,
      "outputs": [
        {
          "output_type": "execute_result",
          "data": {
            "text/plain": [
              "33"
            ]
          },
          "metadata": {},
          "execution_count": 48
        }
      ]
    },
    {
      "cell_type": "code",
      "source": [
        "[ q for q in D_int[\"Q\"] if q not in min_D_int[\"Q\"] ]"
      ],
      "metadata": {
        "id": "d8hF7pieXaBI",
        "outputId": "b161def7-7a8c-43b4-a688-f8726f745553",
        "colab": {
          "base_uri": "https://localhost:8080/"
        }
      },
      "execution_count": 52,
      "outputs": [
        {
          "output_type": "execute_result",
          "data": {
            "text/plain": [
              "[('St5', 'St1'), ('St7', 'St1'), ('St0', 'St1'), ('St3', 'St1')]"
            ]
          },
          "metadata": {},
          "execution_count": 52
        }
      ]
    },
    {
      "cell_type": "markdown",
      "source": [
        "# STEP-5 answer below\n",
        "\n",
        "... THESE STATE-PAIRS GOT MERGED...\n",
        "\n",
        "... USE AS MANY...\n",
        "\n",
        "FIRST PAIR : St5, St1\n",
        "\n",
        "SECOND PAIR : St7, St1\n",
        "\n",
        "THIRD PAIR : St0, St1\n",
        "\n",
        "FOURTH PAIR : St3, St1"
      ],
      "metadata": {
        "id": "0nqhS5iHlhSr"
      }
    },
    {
      "cell_type": "markdown",
      "source": [
        "# STEP-6 BELOW"
      ],
      "metadata": {
        "id": "6Lm_DsDclwH5"
      }
    },
    {
      "cell_type": "markdown",
      "source": [
        "# The student generates numeric order strings in range 128 following outline in Overview_of_CS3100 in module 00_..."
      ],
      "metadata": {
        "id": "M-lAhNvGgyn_"
      }
    },
    {
      "cell_type": "code",
      "source": [
        "TestStrings = [nthnumeric(i, ['a','b']) for i in range(128)]"
      ],
      "metadata": {
        "id": "D9CteyE3FIyJ"
      },
      "execution_count": 53,
      "outputs": []
    },
    {
      "cell_type": "markdown",
      "source": [
        "# The student finds out accept/reject"
      ],
      "metadata": {
        "id": "9yN-tySwg8Qh"
      }
    },
    {
      "cell_type": "code",
      "source": [
        "\n",
        "for test in TestStrings:\n",
        "    if accepts_dfa(D_int, test):\n",
        "        print(\"DFA D_int accepts \", test)\n",
        "    else:\n",
        "        print(\"DFA D_int rejects \", test)"
      ],
      "metadata": {
        "id": "RE8fuDIpFakF",
        "colab": {
          "base_uri": "https://localhost:8080/"
        },
        "outputId": "a90b7711-1ca1-40ce-b530-e45119aef8de"
      },
      "execution_count": 54,
      "outputs": [
        {
          "output_type": "stream",
          "name": "stdout",
          "text": [
            "DFA D_int rejects  \n",
            "DFA D_int rejects  a\n",
            "DFA D_int accepts  b\n",
            "DFA D_int rejects  aa\n",
            "DFA D_int accepts  ab\n",
            "DFA D_int rejects  ba\n",
            "DFA D_int rejects  bb\n",
            "DFA D_int rejects  aaa\n",
            "DFA D_int accepts  aab\n",
            "DFA D_int rejects  aba\n",
            "DFA D_int rejects  abb\n",
            "DFA D_int rejects  baa\n",
            "DFA D_int rejects  bab\n",
            "DFA D_int rejects  bba\n",
            "DFA D_int accepts  bbb\n",
            "DFA D_int rejects  aaaa\n",
            "DFA D_int accepts  aaab\n",
            "DFA D_int rejects  aaba\n",
            "DFA D_int rejects  aabb\n",
            "DFA D_int rejects  abaa\n",
            "DFA D_int rejects  abab\n",
            "DFA D_int rejects  abba\n",
            "DFA D_int accepts  abbb\n",
            "DFA D_int rejects  baaa\n",
            "DFA D_int rejects  baab\n",
            "DFA D_int rejects  baba\n",
            "DFA D_int accepts  babb\n",
            "DFA D_int rejects  bbaa\n",
            "DFA D_int accepts  bbab\n",
            "DFA D_int accepts  bbba\n",
            "DFA D_int rejects  bbbb\n",
            "DFA D_int rejects  aaaaa\n",
            "DFA D_int rejects  aaaab\n",
            "DFA D_int rejects  aaaba\n",
            "DFA D_int rejects  aaabb\n",
            "DFA D_int rejects  aabaa\n",
            "DFA D_int rejects  aabab\n",
            "DFA D_int rejects  aabba\n",
            "DFA D_int rejects  aabbb\n",
            "DFA D_int rejects  abaaa\n",
            "DFA D_int rejects  abaab\n",
            "DFA D_int rejects  ababa\n",
            "DFA D_int rejects  ababb\n",
            "DFA D_int rejects  abbaa\n",
            "DFA D_int rejects  abbab\n",
            "DFA D_int accepts  abbba\n",
            "DFA D_int rejects  abbbb\n",
            "DFA D_int rejects  baaaa\n",
            "DFA D_int rejects  baaab\n",
            "DFA D_int rejects  baaba\n",
            "DFA D_int rejects  baabb\n",
            "DFA D_int rejects  babaa\n",
            "DFA D_int rejects  babab\n",
            "DFA D_int rejects  babba\n",
            "DFA D_int rejects  babbb\n",
            "DFA D_int rejects  bbaaa\n",
            "DFA D_int rejects  bbaab\n",
            "DFA D_int rejects  bbaba\n",
            "DFA D_int rejects  bbabb\n",
            "DFA D_int rejects  bbbaa\n",
            "DFA D_int rejects  bbbab\n",
            "DFA D_int rejects  bbbba\n",
            "DFA D_int rejects  bbbbb\n",
            "DFA D_int rejects  aaaaaa\n",
            "DFA D_int rejects  aaaaab\n",
            "DFA D_int rejects  aaaaba\n",
            "DFA D_int rejects  aaaabb\n",
            "DFA D_int rejects  aaabaa\n",
            "DFA D_int rejects  aaabab\n",
            "DFA D_int rejects  aaabba\n",
            "DFA D_int rejects  aaabbb\n",
            "DFA D_int rejects  aabaaa\n",
            "DFA D_int rejects  aabaab\n",
            "DFA D_int rejects  aababa\n",
            "DFA D_int rejects  aababb\n",
            "DFA D_int rejects  aabbaa\n",
            "DFA D_int rejects  aabbab\n",
            "DFA D_int rejects  aabbba\n",
            "DFA D_int rejects  aabbbb\n",
            "DFA D_int rejects  abaaaa\n",
            "DFA D_int rejects  abaaab\n",
            "DFA D_int rejects  abaaba\n",
            "DFA D_int rejects  abaabb\n",
            "DFA D_int rejects  ababaa\n",
            "DFA D_int rejects  ababab\n",
            "DFA D_int rejects  ababba\n",
            "DFA D_int rejects  ababbb\n",
            "DFA D_int rejects  abbaaa\n",
            "DFA D_int rejects  abbaab\n",
            "DFA D_int rejects  abbaba\n",
            "DFA D_int rejects  abbabb\n",
            "DFA D_int rejects  abbbaa\n",
            "DFA D_int rejects  abbbab\n",
            "DFA D_int rejects  abbbba\n",
            "DFA D_int rejects  abbbbb\n",
            "DFA D_int rejects  baaaaa\n",
            "DFA D_int rejects  baaaab\n",
            "DFA D_int rejects  baaaba\n",
            "DFA D_int rejects  baaabb\n",
            "DFA D_int rejects  baabaa\n",
            "DFA D_int rejects  baabab\n",
            "DFA D_int rejects  baabba\n",
            "DFA D_int rejects  baabbb\n",
            "DFA D_int rejects  babaaa\n",
            "DFA D_int rejects  babaab\n",
            "DFA D_int rejects  bababa\n",
            "DFA D_int rejects  bababb\n",
            "DFA D_int rejects  babbaa\n",
            "DFA D_int rejects  babbab\n",
            "DFA D_int rejects  babbba\n",
            "DFA D_int rejects  babbbb\n",
            "DFA D_int rejects  bbaaaa\n",
            "DFA D_int rejects  bbaaab\n",
            "DFA D_int rejects  bbaaba\n",
            "DFA D_int rejects  bbaabb\n",
            "DFA D_int rejects  bbabaa\n",
            "DFA D_int rejects  bbabab\n",
            "DFA D_int rejects  bbabba\n",
            "DFA D_int accepts  bbabbb\n",
            "DFA D_int rejects  bbbaaa\n",
            "DFA D_int rejects  bbbaab\n",
            "DFA D_int rejects  bbbaba\n",
            "DFA D_int accepts  bbbabb\n",
            "DFA D_int rejects  bbbbaa\n",
            "DFA D_int rejects  bbbbab\n",
            "DFA D_int rejects  bbbbba\n",
            "DFA D_int rejects  bbbbbb\n",
            "DFA D_int rejects  aaaaaaa\n"
          ]
        }
      ]
    },
    {
      "cell_type": "markdown",
      "source": [
        "# The student explains below that this answer is correct - one sentence after \"why\". IN STEP-6\n",
        "\n",
        "DFA D_int accepts  bbabbb - There are no substrings of bbabbb of length 4 that contain an even number of b's; \"bbab\", \"babb\", and \"abbb\" all contain 3.\n",
        "\n",
        "DFA D_int rejects  bbbaaa - This contains \"bbaa\" which is invalid.\n",
        "\n",
        "DFA D_int rejects  bbbaab - This contains \"baab\" which is invalid.\n",
        "\n",
        "DFA D_int rejects  bbbaba - This contains \"baba\" which is invalid.\n",
        "\n",
        "DFA D_int accepts  bbbabb - The substrings are \"bbba\", \"bbab\", and \"babb\", which are all valid.\n",
        "\n",
        "DFA D_int rejects  bbbbaa - This contains \"bbbb\" which is invalid.\n"
      ],
      "metadata": {
        "id": "jBqEHFd1hJvi"
      }
    },
    {
      "cell_type": "markdown",
      "metadata": {
        "id": "mfNMpgnKAfvj"
      },
      "source": [
        "**-------------------------------------------------------------------------------------**"
      ]
    },
    {
      "cell_type": "markdown",
      "source": [
        "# Possible Issues:"
      ],
      "metadata": {
        "id": "pQrCpQjdY6nM"
      }
    },
    {
      "cell_type": "markdown",
      "source": [
        "This method seems to miss some strings. The string \"babbba\" should be accepted, because its consecutive blocks of 4 are \"babb\", \"abbb\", and \"bbba.\" All of these blocks contain only 3 b's, but they are missed because for some reason we are intersecting with a language that allows only odd numbers of b's."
      ],
      "metadata": {
        "id": "qp1oRYttY9zT"
      }
    }
  ],
  "metadata": {
    "kernelspec": {
      "display_name": "Python 3",
      "language": "python",
      "name": "python3"
    },
    "language_info": {
      "codemirror_mode": {
        "name": "ipython",
        "version": 3
      },
      "file_extension": ".py",
      "mimetype": "text/x-python",
      "name": "python",
      "nbconvert_exporter": "python",
      "pygments_lexer": "ipython3",
      "version": "3.8.5"
    },
    "toc": {
      "colors": {
        "hover_highlight": "#DAA520",
        "running_highlight": "#FF0000",
        "selected_highlight": "#FFD700"
      },
      "moveMenuLeft": true,
      "nav_menu": {
        "height": "318px",
        "width": "252px"
      },
      "navigate_menu": true,
      "number_sections": true,
      "sideBar": true,
      "threshold": 4,
      "toc_cell": false,
      "toc_section_display": "block",
      "toc_window_display": false,
      "widenNotebook": false
    },
    "colab": {
      "provenance": []
    }
  },
  "nbformat": 4,
  "nbformat_minor": 0
}