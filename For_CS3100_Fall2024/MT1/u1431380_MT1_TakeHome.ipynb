{
  "cells": [
    {
      "cell_type": "markdown",
      "metadata": {
        "id": "XJPN7sdBMvJa"
      },
      "source": [
        "# MT1 take-home questions\n",
        "## To be finished and uploaded on Canvas\n",
        "\n",
        "\n",
        "This is the take-home part due 9/27/24 midnight on Canvas (CDS times vary).  \n",
        "\n",
        "For the take-home, only the class material is allowed.\n",
        "Use of external tools, Youtube, ChatGPT etc is not allowed.\n",
        "\n",
        "You are not permitted to talk to anyone about the take-home."
      ]
    },
    {
      "cell_type": "markdown",
      "metadata": {
        "id": "FHADkPFhMvJh"
      },
      "source": [
        "**-------------------------------------------------------------------------------------**"
      ]
    },
    {
      "cell_type": "code",
      "execution_count": 1,
      "metadata": {
        "run_control": {
          "frozen": false,
          "read_only": false
        },
        "id": "EaqvnutgMvJk",
        "outputId": "34baa9a8-26b2-4a18-bfa2-d81fd3290974",
        "colab": {
          "base_uri": "https://localhost:8080/"
        }
      },
      "outputs": [
        {
          "output_type": "stream",
          "name": "stdout",
          "text": [
            "Cloning into 'Jove'...\n",
            "remote: Enumerating objects: 6593, done.\u001b[K\n",
            "remote: Counting objects: 100% (1959/1959), done.\u001b[K\n",
            "remote: Compressing objects: 100% (829/829), done.\u001b[K\n",
            "remote: Total 6593 (delta 1183), reused 1762 (delta 1050), pack-reused 4634 (from 1)\u001b[K\n",
            "Receiving objects: 100% (6593/6593), 10.54 MiB | 6.90 MiB/s, done.\n",
            "Resolving deltas: 100% (4188/4188), done.\n",
            "You may use any of these help commands:\n",
            "help(ResetStNum)\n",
            "help(NxtStateStr)\n",
            "\n",
            "You may use any of these help commands:\n",
            "help(md2mc)\n",
            ".. and if you want to dig more, then ..\n",
            "help(default_line_attr)\n",
            "help(length_ok_input_items)\n",
            "help(union_line_attr_list_fld)\n",
            "help(extend_rsltdict)\n",
            "help(form_delta)\n",
            "help(get_machine_components)\n",
            "\n",
            "You may use any of these help commands:\n",
            "help(mkp_dfa)\n",
            "help(mk_dfa)\n",
            "help(totalize_dfa)\n",
            "help(addtosigma_delta)\n",
            "help(step_dfa)\n",
            "help(run_dfa)\n",
            "help(accepts_dfa)\n",
            "help(comp_dfa)\n",
            "help(flTup)\n",
            "help(union_dfa)\n",
            "help(intersect_dfa)\n",
            "help(pruneUnreach)\n",
            "help(iso_dfa)\n",
            "help(langeq_dfa)\n",
            "help(same_status)\n",
            "help(h_langeq_dfa)\n",
            "help(fixptDist)\n",
            "help(min_dfa)\n",
            "help(pairFR)\n",
            "help(state_combos)\n",
            "help(sepFinNonFin)\n",
            "help(bash_eql_classes)\n",
            "help(listminus)\n",
            "help(bash_1)\n",
            "help(mk_rep_eqc)\n",
            "help(F_of)\n",
            "help(rep_of_s)\n",
            "help(q0_of)\n",
            "help(Delta_of)\n",
            "help(mk_state_eqc_name)\n",
            "\n",
            "You may use any of these help commands:\n",
            "help(mk_nfa)\n",
            "help(totalize_nfa)\n",
            "help(step_nfa)\n",
            "help(run_nfa)\n",
            "help(ec_step_nfa)\n",
            "help(Eclosure)\n",
            "help(Echelp)\n",
            "help(accepts_nfa)\n",
            "help(nfa2dfa)\n",
            "help(n2d)\n",
            "help(inSets)\n",
            "help(rev_dfa)\n",
            "help(min_dfa_brz)\n",
            "\n",
            "You may use any of these help commands:\n",
            "help(re2nfa)\n",
            "\n",
            "You may use any of these help commands:\n",
            "help(lphi)\n",
            "help(lunit)\n",
            "help(lcat)\n",
            "help(lexp)\n",
            "help(lunion)\n",
            "help(lstar)\n",
            "help(srev)\n",
            "help(lrev)\n",
            "help(shomo)\n",
            "help(lhomo)\n",
            "help(powset)\n",
            "help(lint)\n",
            "help(lsymdiff)\n",
            "help(lminus)\n",
            "help(lissubset)\n",
            "help(lissuperset)\n",
            "help(lcomplem)\n",
            "help(product)\n",
            "help(nthnumeric)\n",
            "\n",
            "You may use any of these help commands:\n",
            "help(RE2Str)\n",
            "help(mk_gnfa)\n",
            "help(mk_gnfa_from_D)\n",
            "help(dfa2nfa)\n",
            "help(del_gnfa_states)\n",
            "help(gnfa_w_REStr)\n",
            "help(del_one_gnfa_state)\n",
            "help(Edges_Exist_Via)\n",
            "help(choose_state_to_del)\n",
            "help(form_alt_RE)\n",
            "help(form_concat_RE)\n",
            "help(form_kleene_RE)\n",
            "\n"
          ]
        }
      ],
      "source": [
        "#~~~~~~~~~~~~~~~~~~~~~~~~~~~~~~~~~~~~~~~~~~~~~~~~~~~~~~~\n",
        "import sys\n",
        "\n",
        "# -- Detect if in Own Install or in Colab\n",
        "try:\n",
        "    import google.colab\n",
        "    OWN_INSTALL = False\n",
        "except:\n",
        "    OWN_INSTALL = True\n",
        "\n",
        "if OWN_INSTALL:\n",
        "\n",
        "  #---- Leave these definitions ON if running on laptop\n",
        "  #---- Else turn OFF by putting them between ''' ... '''\n",
        "\n",
        "  sys.path[0:0] = ['../../../../..',  '../../../../../3rdparty',\n",
        "                   '../../../..',  '../../../../3rdparty',\n",
        "                   '../../..',     '../../../3rdparty',\n",
        "                   '../..',        '../../3rdparty',\n",
        "                   '..',           '../3rdparty' ]\n",
        "\n",
        "else: # In colab\n",
        "  ! if [ ! -d Jove ]; then git clone https://github.com/ganeshutah/Jove Jove; fi\n",
        "  sys.path.append('./Jove')\n",
        "  sys.path.append('./Jove/jove')\n",
        "\n",
        "# -- common imports --\n",
        "from jove.DotBashers import *\n",
        "from jove.Def_md2mc  import *\n",
        "from jove.Def_DFA    import *\n",
        "from jove.Def_NFA    import *\n",
        "from jove.Def_RE2NFA import *\n",
        "from jove.LangDef    import *  # for testing DFA actions using nthnumeric if needed\n",
        "from jove.Def_NFA2RE import *\n",
        "#~~~~~~~~~~~~~~~~~~~~~~~~~~~~~~~~~~~~~~~~~~~~~~~~~~~~~~~"
      ]
    },
    {
      "cell_type": "markdown",
      "metadata": {
        "run_control": {
          "frozen": false,
          "read_only": false
        },
        "id": "G4cGXTCOMvJm"
      },
      "source": [
        "##  Q1: Define a DFA for the language of strings over {a,b} where\n",
        "\n",
        "* every block of length four or more has,\n",
        "* for each four consecutive positions in that block\n",
        "* an odd number of b's. The number of a's does not matter.\n",
        "\n",
        "### Use the method of complementing these conditions and then building the RE for it (STEP-1)\n",
        "\n",
        "### and then a minimal DFA (STEP-2)\n",
        "\n",
        "## Note that if the block is of length 3 or less, no constraint is placed on the number of a's and b's.\n",
        "\n",
        "### Document your approach in 2 clear sentences.\n",
        "\n",
        "# SOLUTION BY STUDENT for STEP-1\n",
        "\n"
      ]
    },
    {
      "cell_type": "markdown",
      "source": [
        "**Solution** I will align the section with even b's to the start of a block, then ensure that block has an even amount of B's. Then I will find the complement of that DFA which should give the solution."
      ],
      "metadata": {
        "id": "OMYtGe24NvnD"
      }
    },
    {
      "cell_type": "code",
      "source": [
        "# We just need to find the RE for any block of 4 characters having even amounts of b's\n",
        "\n",
        "# Separate out blocks first\n",
        "# This allows a repeating pattern of 4 characters\n",
        "RE_blocks_of_4 = \"((a+b)(a+b)(a+b)(a+b))*\"\n",
        "\n",
        "# Now the leftover 3 characters can be anything, or nothing, with no restrictions\n",
        "RE_leftovers = \"(a+b+'')(a+b+'')(a+b+'')\"\n",
        "\n",
        "# NOTE: This is assuming that aaabbaaa is VALID under the final DFA, because even though the middle part \"abba\" doesn't have an odd number of b's, the blocks would be |aaab|baaa| which both have odd numbers of b's.\n",
        "# If that would be invalid because the blocks dont have to be aligned, then RE_blocks_of_4 and RE_Leftovers can be replaced with (a+b)*\n",
        "\n",
        "# So now we just need to define a single block with an even number of B's (either 2, 4, or 0)\n",
        "# We can do this via OR\n",
        "RE_blocks_with_even_bs = [\n",
        "    \"(aaaa)\", # Only string with 0 b's\n",
        "    \"(bbbb)\", # Only string with 4,\n",
        "    \"(bbaa)\", # there are 4 choose 2 = 6 ways to organize 2 a's and 2 b's\n",
        "    \"(baba)\",\n",
        "    \"(baab)\",\n",
        "    \"(abba)\",\n",
        "    \"(abab)\",\n",
        "    \"(aabb)\"\n",
        "]\n",
        "\n",
        "# now we do a quick concatenation\n",
        "RE_ored_even_b_blocks = \"(\" + \"+\".join( RE_blocks_with_even_bs ) + \")\"\n",
        "\n",
        "# And add them all together\n",
        "\n",
        "RE_some_block_has_even_bs = RE_blocks_of_4 + RE_ored_even_b_blocks +  RE_blocks_of_4 + RE_leftovers\n",
        "\n",
        "RE_some_block_has_even_bs"
      ],
      "metadata": {
        "id": "SzpJe2M7_qbk",
        "outputId": "5cbfed2b-e4e3-40d0-8fea-fa8d2310b007",
        "colab": {
          "base_uri": "https://localhost:8080/",
          "height": 35
        }
      },
      "execution_count": 10,
      "outputs": [
        {
          "output_type": "execute_result",
          "data": {
            "text/plain": [
              "\"((a+b)(a+b)(a+b)(a+b))*((aaaa)+(bbbb)+(bbaa)+(baba)+(baab)+(abba)+(abab)+(aabb))((a+b)(a+b)(a+b)(a+b))*(a+b+'')(a+b+'')(a+b+'')\""
            ],
            "application/vnd.google.colaboratory.intrinsic+json": {
              "type": "string"
            }
          },
          "metadata": {},
          "execution_count": 10
        }
      ]
    },
    {
      "cell_type": "markdown",
      "source": [
        "# STEP-2 here"
      ],
      "metadata": {
        "id": "LhaN-VcJj96t"
      }
    },
    {
      "cell_type": "code",
      "source": [
        "# The DFA desired is now in one shot -- the student writes it in one shot\n",
        "DFA_desired = min_dfa(comp_dfa(nfa2dfa(re2nfa(RE_some_block_has_even_bs))))"
      ],
      "metadata": {
        "id": "bBB0aBe7AN3y"
      },
      "execution_count": 11,
      "outputs": []
    },
    {
      "cell_type": "code",
      "source": [
        "# The student draws\n",
        "dotObj_dfa(DFA_desired)"
      ],
      "metadata": {
        "id": "Gfkl2Pp7AGwk",
        "outputId": "7f0a1a12-3fac-48ac-f829-81dd7f23e459",
        "colab": {
          "base_uri": "https://localhost:8080/",
          "height": 310
        }
      },
      "execution_count": 12,
      "outputs": [
        {
          "output_type": "execute_result",
          "data": {
            "image/svg+xml": "<?xml version=\"1.0\" encoding=\"UTF-8\" standalone=\"no\"?>\n<!DOCTYPE svg PUBLIC \"-//W3C//DTD SVG 1.1//EN\"\n \"http://www.w3.org/Graphics/SVG/1.1/DTD/svg11.dtd\">\n<!-- Generated by graphviz version 2.43.0 (0)\n -->\n<!-- Title: %3 Pages: 1 -->\n<svg width=\"578pt\" height=\"217pt\"\n viewBox=\"0.00 0.00 577.68 217.47\" xmlns=\"http://www.w3.org/2000/svg\" xmlns:xlink=\"http://www.w3.org/1999/xlink\">\n<g id=\"graph0\" class=\"graph\" transform=\"scale(1 1) rotate(0) translate(4 213.47)\">\n<title>%3</title>\n<polygon fill=\"white\" stroke=\"transparent\" points=\"-4,4 -4,-213.47 573.68,-213.47 573.68,4 -4,4\"/>\n<!-- EMPTY -->\n<g id=\"node1\" class=\"node\">\n<title>EMPTY</title>\n</g>\n<!-- St19 -->\n<g id=\"node9\" class=\"node\">\n<title>St19</title>\n<ellipse fill=\"none\" stroke=\"black\" cx=\"121.65\" cy=\"-108.47\" rx=\"26.78\" ry=\"26.78\"/>\n<ellipse fill=\"none\" stroke=\"black\" cx=\"121.65\" cy=\"-108.47\" rx=\"30.8\" ry=\"30.8\"/>\n<text text-anchor=\"middle\" x=\"121.65\" y=\"-104.77\" font-family=\"Times,serif\" font-size=\"14.00\">St19</text>\n</g>\n<!-- EMPTY&#45;&gt;St19 -->\n<g id=\"edge1\" class=\"edge\">\n<title>EMPTY&#45;&gt;St19</title>\n<path fill=\"none\" stroke=\"black\" d=\"M54.3,-108.47C62.45,-108.47 71.63,-108.47 80.5,-108.47\"/>\n<polygon fill=\"black\" stroke=\"black\" points=\"80.69,-111.97 90.69,-108.47 80.69,-104.97 80.69,-111.97\"/>\n</g>\n<!-- St1 -->\n<g id=\"node2\" class=\"node\">\n<title>St1</title>\n<ellipse fill=\"none\" stroke=\"black\" cx=\"546.93\" cy=\"-99.47\" rx=\"23\" ry=\"23\"/>\n<text text-anchor=\"middle\" x=\"546.93\" y=\"-95.77\" font-family=\"Times,serif\" font-size=\"14.00\">St1</text>\n</g>\n<!-- St1&#45;&gt;St1 -->\n<g id=\"edge16\" class=\"edge\">\n<title>St1&#45;&gt;St1</title>\n<path fill=\"none\" stroke=\"black\" d=\"M542.67,-122.1C542.32,-131.86 543.74,-140.22 546.93,-140.22 548.92,-140.22 550.22,-136.95 550.84,-132.12\"/>\n<polygon fill=\"black\" stroke=\"black\" points=\"554.33,-132.22 551.19,-122.1 547.34,-131.97 554.33,-132.22\"/>\n<text text-anchor=\"middle\" x=\"546.93\" y=\"-144.02\" font-family=\"Times,serif\" font-size=\"14.00\">b </text>\n</g>\n<!-- St1&#45;&gt;St1 -->\n<g id=\"edge17\" class=\"edge\">\n<title>St1&#45;&gt;St1</title>\n<path fill=\"none\" stroke=\"black\" d=\"M539.62,-121.16C536.5,-139.28 538.93,-158.22 546.93,-158.22 553.43,-158.22 556.25,-145.72 555.41,-131.31\"/>\n<polygon fill=\"black\" stroke=\"black\" points=\"558.86,-130.7 554.24,-121.16 551.91,-131.5 558.86,-130.7\"/>\n<text text-anchor=\"middle\" x=\"546.93\" y=\"-162.02\" font-family=\"Times,serif\" font-size=\"14.00\">a </text>\n</g>\n<!-- St38 -->\n<g id=\"node3\" class=\"node\">\n<title>St38</title>\n<ellipse fill=\"none\" stroke=\"black\" cx=\"338.24\" cy=\"-138.47\" rx=\"26.78\" ry=\"26.78\"/>\n<ellipse fill=\"none\" stroke=\"black\" cx=\"338.24\" cy=\"-138.47\" rx=\"30.8\" ry=\"30.8\"/>\n<text text-anchor=\"middle\" x=\"338.24\" y=\"-134.77\" font-family=\"Times,serif\" font-size=\"14.00\">St38</text>\n</g>\n<!-- St44 -->\n<g id=\"node6\" class=\"node\">\n<title>St44</title>\n<ellipse fill=\"none\" stroke=\"black\" cx=\"446.53\" cy=\"-60.47\" rx=\"26.78\" ry=\"26.78\"/>\n<ellipse fill=\"none\" stroke=\"black\" cx=\"446.53\" cy=\"-60.47\" rx=\"30.8\" ry=\"30.8\"/>\n<text text-anchor=\"middle\" x=\"446.53\" y=\"-56.77\" font-family=\"Times,serif\" font-size=\"14.00\">St44</text>\n</g>\n<!-- St38&#45;&gt;St44 -->\n<g id=\"edge10\" class=\"edge\">\n<title>St38&#45;&gt;St44</title>\n<path fill=\"none\" stroke=\"black\" d=\"M363.97,-121.59C374.51,-114.29 386.89,-105.58 397.89,-97.47 403.09,-93.64 408.55,-89.5 413.84,-85.44\"/>\n<polygon fill=\"black\" stroke=\"black\" points=\"416.2,-88.04 421.96,-79.15 411.91,-82.5 416.2,-88.04\"/>\n<text text-anchor=\"middle\" x=\"392.39\" y=\"-108.27\" font-family=\"Times,serif\" font-size=\"14.00\">b </text>\n</g>\n<!-- St46 -->\n<g id=\"node7\" class=\"node\">\n<title>St46</title>\n<ellipse fill=\"none\" stroke=\"black\" cx=\"446.53\" cy=\"-148.47\" rx=\"26.78\" ry=\"26.78\"/>\n<ellipse fill=\"none\" stroke=\"black\" cx=\"446.53\" cy=\"-148.47\" rx=\"30.8\" ry=\"30.8\"/>\n<text text-anchor=\"middle\" x=\"446.53\" y=\"-144.77\" font-family=\"Times,serif\" font-size=\"14.00\">St46</text>\n</g>\n<!-- St38&#45;&gt;St46 -->\n<g id=\"edge11\" class=\"edge\">\n<title>St38&#45;&gt;St46</title>\n<path fill=\"none\" stroke=\"black\" d=\"M368.85,-141.26C380.27,-142.33 393.51,-143.58 405.74,-144.73\"/>\n<polygon fill=\"black\" stroke=\"black\" points=\"405.43,-148.21 415.71,-145.67 406.09,-141.24 405.43,-148.21\"/>\n<text text-anchor=\"middle\" x=\"392.39\" y=\"-148.27\" font-family=\"Times,serif\" font-size=\"14.00\">a </text>\n</g>\n<!-- St47 -->\n<g id=\"node4\" class=\"node\">\n<title>St47</title>\n<ellipse fill=\"none\" stroke=\"black\" cx=\"229.94\" cy=\"-59.47\" rx=\"26.78\" ry=\"26.78\"/>\n<ellipse fill=\"none\" stroke=\"black\" cx=\"229.94\" cy=\"-59.47\" rx=\"30.8\" ry=\"30.8\"/>\n<text text-anchor=\"middle\" x=\"229.94\" y=\"-55.77\" font-family=\"Times,serif\" font-size=\"14.00\">St47</text>\n</g>\n<!-- St47&#45;&gt;St38 -->\n<g id=\"edge6\" class=\"edge\">\n<title>St47&#45;&gt;St38</title>\n<path fill=\"none\" stroke=\"black\" d=\"M260.26,-64.73C270.17,-67.45 280.9,-71.49 289.59,-77.47 291.26,-78.62 301.89,-92.17 312.69,-106.21\"/>\n<polygon fill=\"black\" stroke=\"black\" points=\"310.14,-108.64 319,-114.45 315.7,-104.38 310.14,-108.64\"/>\n<text text-anchor=\"middle\" x=\"284.09\" y=\"-81.27\" font-family=\"Times,serif\" font-size=\"14.00\">b </text>\n</g>\n<!-- St35 -->\n<g id=\"node8\" class=\"node\">\n<title>St35</title>\n<ellipse fill=\"none\" stroke=\"black\" cx=\"338.24\" cy=\"-59.47\" rx=\"26.78\" ry=\"26.78\"/>\n<ellipse fill=\"none\" stroke=\"black\" cx=\"338.24\" cy=\"-59.47\" rx=\"30.8\" ry=\"30.8\"/>\n<text text-anchor=\"middle\" x=\"338.24\" y=\"-55.77\" font-family=\"Times,serif\" font-size=\"14.00\">St35</text>\n</g>\n<!-- St47&#45;&gt;St35 -->\n<g id=\"edge7\" class=\"edge\">\n<title>St47&#45;&gt;St35</title>\n<path fill=\"none\" stroke=\"black\" d=\"M258.13,-46.99C267.95,-43.84 279.17,-41.77 289.59,-43.47 292.86,-44.01 296.21,-44.73 299.55,-45.59\"/>\n<polygon fill=\"black\" stroke=\"black\" points=\"298.82,-49.02 309.4,-48.45 300.78,-42.3 298.82,-49.02\"/>\n<text text-anchor=\"middle\" x=\"284.09\" y=\"-47.27\" font-family=\"Times,serif\" font-size=\"14.00\">a </text>\n</g>\n<!-- St48 -->\n<g id=\"node5\" class=\"node\">\n<title>St48</title>\n<ellipse fill=\"none\" stroke=\"black\" cx=\"229.94\" cy=\"-138.47\" rx=\"26.78\" ry=\"26.78\"/>\n<ellipse fill=\"none\" stroke=\"black\" cx=\"229.94\" cy=\"-138.47\" rx=\"30.8\" ry=\"30.8\"/>\n<text text-anchor=\"middle\" x=\"229.94\" y=\"-134.77\" font-family=\"Times,serif\" font-size=\"14.00\">St48</text>\n</g>\n<!-- St48&#45;&gt;St38 -->\n<g id=\"edge5\" class=\"edge\">\n<title>St48&#45;&gt;St38</title>\n<path fill=\"none\" stroke=\"black\" d=\"M260.83,-138.47C272.14,-138.47 285.19,-138.47 297.27,-138.47\"/>\n<polygon fill=\"black\" stroke=\"black\" points=\"297.57,-141.97 307.57,-138.47 297.57,-134.97 297.57,-141.97\"/>\n<text text-anchor=\"middle\" x=\"284.09\" y=\"-142.27\" font-family=\"Times,serif\" font-size=\"14.00\">a </text>\n</g>\n<!-- St48&#45;&gt;St35 -->\n<g id=\"edge4\" class=\"edge\">\n<title>St48&#45;&gt;St35</title>\n<path fill=\"none\" stroke=\"black\" d=\"M255.35,-121.31C265.94,-113.78 278.45,-104.78 289.59,-96.47 294.77,-92.61 300.22,-88.46 305.51,-84.38\"/>\n<polygon fill=\"black\" stroke=\"black\" points=\"307.86,-86.99 313.63,-78.1 303.58,-81.45 307.86,-86.99\"/>\n<text text-anchor=\"middle\" x=\"284.09\" y=\"-108.27\" font-family=\"Times,serif\" font-size=\"14.00\">b </text>\n</g>\n<!-- St44&#45;&gt;St1 -->\n<g id=\"edge15\" class=\"edge\">\n<title>St44&#45;&gt;St1</title>\n<path fill=\"none\" stroke=\"black\" d=\"M475.2,-71.44C487.98,-76.5 503.16,-82.52 516.18,-87.68\"/>\n<polygon fill=\"black\" stroke=\"black\" points=\"515.05,-91 525.64,-91.43 517.63,-84.49 515.05,-91\"/>\n<text text-anchor=\"middle\" x=\"500.68\" y=\"-87.27\" font-family=\"Times,serif\" font-size=\"14.00\">a </text>\n</g>\n<!-- St44&#45;&gt;St19 -->\n<g id=\"edge14\" class=\"edge\">\n<title>St44&#45;&gt;St19</title>\n<path fill=\"none\" stroke=\"black\" d=\"M420.92,-43.28C406.49,-34.26 387.48,-24.13 368.89,-19.47 295.77,-1.15 267.81,11.94 199.3,-19.47 175.24,-30.5 155.87,-53.23 142.62,-72.95\"/>\n<polygon fill=\"black\" stroke=\"black\" points=\"139.62,-71.16 137.15,-81.46 145.5,-74.94 139.62,-71.16\"/>\n<text text-anchor=\"middle\" x=\"284.09\" y=\"-5.27\" font-family=\"Times,serif\" font-size=\"14.00\">b </text>\n</g>\n<!-- St46&#45;&gt;St1 -->\n<g id=\"edge12\" class=\"edge\">\n<title>St46&#45;&gt;St1</title>\n<path fill=\"none\" stroke=\"black\" d=\"M474.42,-135.08C487.61,-128.51 503.51,-120.6 516.96,-113.9\"/>\n<polygon fill=\"black\" stroke=\"black\" points=\"518.86,-116.86 526.25,-109.27 515.74,-110.59 518.86,-116.86\"/>\n<text text-anchor=\"middle\" x=\"500.68\" y=\"-128.27\" font-family=\"Times,serif\" font-size=\"14.00\">b </text>\n</g>\n<!-- St46&#45;&gt;St19 -->\n<g id=\"edge13\" class=\"edge\">\n<title>St46&#45;&gt;St19</title>\n<path fill=\"none\" stroke=\"black\" d=\"M418.6,-161.87C404.23,-168.27 386.02,-175.24 368.89,-178.47 294.82,-192.45 269.57,-205.73 199.3,-178.47 179.12,-170.65 161.01,-154.76 147.47,-140.1\"/>\n<polygon fill=\"black\" stroke=\"black\" points=\"150.06,-137.76 140.81,-132.59 144.83,-142.4 150.06,-137.76\"/>\n<text text-anchor=\"middle\" x=\"284.09\" y=\"-198.27\" font-family=\"Times,serif\" font-size=\"14.00\">a </text>\n</g>\n<!-- St35&#45;&gt;St44 -->\n<g id=\"edge9\" class=\"edge\">\n<title>St35&#45;&gt;St44</title>\n<path fill=\"none\" stroke=\"black\" d=\"M366.77,-47.57C376.52,-44.66 387.62,-42.79 397.89,-44.47 401.16,-45.01 404.51,-45.73 407.84,-46.59\"/>\n<polygon fill=\"black\" stroke=\"black\" points=\"407.12,-50.02 417.7,-49.45 409.07,-43.3 407.12,-50.02\"/>\n<text text-anchor=\"middle\" x=\"392.39\" y=\"-48.27\" font-family=\"Times,serif\" font-size=\"14.00\">a </text>\n</g>\n<!-- St35&#45;&gt;St46 -->\n<g id=\"edge8\" class=\"edge\">\n<title>St35&#45;&gt;St46</title>\n<path fill=\"none\" stroke=\"black\" d=\"M368.49,-64.89C378.5,-67.75 389.32,-72.05 397.89,-78.47 401.57,-81.23 413.04,-98.03 423.81,-114.48\"/>\n<polygon fill=\"black\" stroke=\"black\" points=\"420.94,-116.49 429.33,-122.97 426.81,-112.68 420.94,-116.49\"/>\n<text text-anchor=\"middle\" x=\"392.39\" y=\"-82.27\" font-family=\"Times,serif\" font-size=\"14.00\">b </text>\n</g>\n<!-- St19&#45;&gt;St47 -->\n<g id=\"edge3\" class=\"edge\">\n<title>St19&#45;&gt;St47</title>\n<path fill=\"none\" stroke=\"black\" d=\"M149.75,-95.98C162.74,-89.99 178.49,-82.73 192.52,-76.26\"/>\n<polygon fill=\"black\" stroke=\"black\" points=\"194.28,-79.3 201.89,-71.94 191.35,-72.95 194.28,-79.3\"/>\n<text text-anchor=\"middle\" x=\"175.8\" y=\"-89.27\" font-family=\"Times,serif\" font-size=\"14.00\">a </text>\n</g>\n<!-- St19&#45;&gt;St48 -->\n<g id=\"edge2\" class=\"edge\">\n<title>St19&#45;&gt;St48</title>\n<path fill=\"none\" stroke=\"black\" d=\"M151.41,-116.59C163.35,-119.96 177.38,-123.92 190.2,-127.54\"/>\n<polygon fill=\"black\" stroke=\"black\" points=\"189.58,-131 200.15,-130.35 191.48,-124.26 189.58,-131\"/>\n<text text-anchor=\"middle\" x=\"175.8\" y=\"-128.27\" font-family=\"Times,serif\" font-size=\"14.00\">b </text>\n</g>\n</g>\n</svg>\n",
            "text/plain": [
              "<graphviz.graphs.Digraph at 0x79acb7059810>"
            ]
          },
          "metadata": {},
          "execution_count": 12
        }
      ]
    },
    {
      "cell_type": "code",
      "source": [
        "# When all looks good, uncomment this cell + all render cells below, and run all cells again! Then collect the PDFs\n",
        "# dotObj_dfa(DFA_desired).render('DFA_desired')"
      ],
      "metadata": {
        "id": "sH1aZOIKoRmv"
      },
      "execution_count": null,
      "outputs": []
    },
    {
      "cell_type": "markdown",
      "metadata": {
        "run_control": {
          "frozen": false,
          "read_only": false
        },
        "id": "-fWDjIVBAUKv"
      },
      "source": [
        "#  Q2: Now, separately specify an RE for the set of strings with an odd number of b's and look at its minimal DFA (STEP-3)\n",
        "\n",
        "# Then build a minimal DFA for the intersection of this RE's DFA and  DFA_desired (STEP-4)\n",
        "\n",
        "# Noting down which state(s) got merged (STEP-5)\n",
        "\n",
        "# And justify your final answer (STEP-6) by testing"
      ]
    },
    {
      "cell_type": "markdown",
      "source": [
        "# STEP-3 below"
      ],
      "metadata": {
        "id": "UldWJKU4kaaP"
      }
    },
    {
      "cell_type": "code",
      "source": [
        "# The student writes the RE for STEP-3\n",
        "RE_odd_bs = ...RE here...\n",
        "\n",
        "# The student obtains the min DFA in one shot to check the work - as part of STEP-3\n",
        "minD_RE_odd_bs = ...one-liner...."
      ],
      "metadata": {
        "id": "tU5uHr2XAUKw"
      },
      "execution_count": null,
      "outputs": []
    },
    {
      "cell_type": "code",
      "source": [
        "dotObj_dfa(minD_RE_odd_bs)"
      ],
      "metadata": {
        "id": "iJyqqv82DTW6"
      },
      "execution_count": null,
      "outputs": []
    },
    {
      "cell_type": "code",
      "source": [
        "# Uncomment for final run\n",
        "# dotObj_dfa(minD_RE_odd_bs).render('minD_RE_odd_bs')"
      ],
      "metadata": {
        "id": "TTANQdxwoBaK"
      },
      "execution_count": null,
      "outputs": []
    },
    {
      "cell_type": "markdown",
      "source": [
        "# STEP-4 below"
      ],
      "metadata": {
        "id": "83nWBb9IkwLw"
      }
    },
    {
      "cell_type": "code",
      "source": [
        "# The student intersects minD_RE_odd_bs and DFA_desired\n",
        "\n",
        "D_int = ...step 4 in one shot..."
      ],
      "metadata": {
        "id": "t9dJc4xPDlZH"
      },
      "execution_count": null,
      "outputs": []
    },
    {
      "cell_type": "code",
      "source": [
        "# The student draws this DFA\n",
        "dotObj_dfa(D_int)"
      ],
      "metadata": {
        "id": "eCQMcYXqDvgQ"
      },
      "execution_count": null,
      "outputs": []
    },
    {
      "cell_type": "code",
      "source": [
        "# Uncomment for final run\n",
        "# dotObj_dfa(D_int).render('D_int')"
      ],
      "metadata": {
        "id": "75HcH9W5oIVX"
      },
      "execution_count": null,
      "outputs": []
    },
    {
      "cell_type": "code",
      "source": [
        "# The student minimizes D_int\n",
        "\n",
        "min_D_int = ..."
      ],
      "metadata": {
        "id": "r4aGNVBlEYUU"
      },
      "execution_count": null,
      "outputs": []
    },
    {
      "cell_type": "code",
      "source": [
        "# The student draws min_D_int\n",
        "\n",
        "dotObj_dfa(min_D_int)"
      ],
      "metadata": {
        "id": "bogL-yhkEYJC"
      },
      "execution_count": null,
      "outputs": []
    },
    {
      "cell_type": "code",
      "source": [
        "# Uncomment for final run\n",
        "# dotObj_dfa(min_D_int).render('min_D_int')"
      ],
      "metadata": {
        "id": "fz72m4qBo5q8"
      },
      "execution_count": null,
      "outputs": []
    },
    {
      "cell_type": "markdown",
      "source": [
        "### STEP-5: Find out the NUMBER OF pairs of state(s) merged"
      ],
      "metadata": {
        "id": "ShAccbJKgonr"
      }
    },
    {
      "cell_type": "code",
      "source": [],
      "metadata": {
        "id": "6h4T4rI4gn89"
      },
      "execution_count": null,
      "outputs": []
    },
    {
      "cell_type": "code",
      "source": [
        "len(min_D_int[\"Q\"])"
      ],
      "metadata": {
        "id": "k3xUoJ4_Ehf_"
      },
      "execution_count": null,
      "outputs": []
    },
    {
      "cell_type": "code",
      "source": [
        "len(D_int[\"Q\"])"
      ],
      "metadata": {
        "id": "3QlrOgufEmk7"
      },
      "execution_count": null,
      "outputs": []
    },
    {
      "cell_type": "markdown",
      "source": [
        "# STEP-5 answer below\n",
        "\n",
        "... THESE STATE-PAIRS GOT MERGED...\n",
        "\n",
        "... USE AS MANY...\n",
        "\n",
        "FIRST PAIR : ....\n",
        "\n",
        "SECOND PAIR : ....\n",
        "\n",
        "THIRD PAIR : ....\n"
      ],
      "metadata": {
        "id": "0nqhS5iHlhSr"
      }
    },
    {
      "cell_type": "markdown",
      "source": [
        "# STEP-6 BELOW"
      ],
      "metadata": {
        "id": "6Lm_DsDclwH5"
      }
    },
    {
      "cell_type": "markdown",
      "source": [
        "# The student generates numeric order strings in range 128 following outline in Overview_of_CS3100 in module 00_..."
      ],
      "metadata": {
        "id": "M-lAhNvGgyn_"
      }
    },
    {
      "cell_type": "code",
      "source": [
        "TestStrings = [nthnumeric(i, ['a','b']) for i in range(128)]"
      ],
      "metadata": {
        "id": "D9CteyE3FIyJ"
      },
      "execution_count": null,
      "outputs": []
    },
    {
      "cell_type": "markdown",
      "source": [
        "# The student finds out accept/reject"
      ],
      "metadata": {
        "id": "9yN-tySwg8Qh"
      }
    },
    {
      "cell_type": "code",
      "source": [
        "\n",
        "for test in TestStrings:\n",
        "    if accepts_dfa(D_int, test):\n",
        "        print(\"DFA D_int accepts \", test)\n",
        "    else:\n",
        "        print(\"DFA D_int rejects \", test)"
      ],
      "metadata": {
        "id": "RE8fuDIpFakF"
      },
      "execution_count": null,
      "outputs": []
    },
    {
      "cell_type": "markdown",
      "source": [
        "# The student explains below that this answer is correct - one sentence after \"why\". IN STEP-6\n",
        "\n",
        "DFA D_int accepts  bbabbb - why\n",
        "\n",
        "DFA D_int rejects  bbbaaa - why\n",
        "\n",
        "DFA D_int rejects  bbbaab - why\n",
        "\n",
        "DFA D_int rejects  bbbaba - why\n",
        "\n",
        "DFA D_int accepts  bbbabb - why\n",
        "\n",
        "DFA D_int rejects  bbbbaa - why\n"
      ],
      "metadata": {
        "id": "jBqEHFd1hJvi"
      }
    },
    {
      "cell_type": "markdown",
      "metadata": {
        "id": "mfNMpgnKAfvj"
      },
      "source": [
        "**-------------------------------------------------------------------------------------**"
      ]
    }
  ],
  "metadata": {
    "kernelspec": {
      "display_name": "Python 3",
      "language": "python",
      "name": "python3"
    },
    "language_info": {
      "codemirror_mode": {
        "name": "ipython",
        "version": 3
      },
      "file_extension": ".py",
      "mimetype": "text/x-python",
      "name": "python",
      "nbconvert_exporter": "python",
      "pygments_lexer": "ipython3",
      "version": "3.8.5"
    },
    "toc": {
      "colors": {
        "hover_highlight": "#DAA520",
        "running_highlight": "#FF0000",
        "selected_highlight": "#FFD700"
      },
      "moveMenuLeft": true,
      "nav_menu": {
        "height": "318px",
        "width": "252px"
      },
      "navigate_menu": true,
      "number_sections": true,
      "sideBar": true,
      "threshold": 4,
      "toc_cell": false,
      "toc_section_display": "block",
      "toc_window_display": false,
      "widenNotebook": false
    },
    "colab": {
      "provenance": []
    }
  },
  "nbformat": 4,
  "nbformat_minor": 0
}