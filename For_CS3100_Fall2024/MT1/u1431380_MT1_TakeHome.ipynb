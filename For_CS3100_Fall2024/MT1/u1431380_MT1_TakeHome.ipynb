{
  "cells": [
    {
      "cell_type": "markdown",
      "metadata": {
        "id": "XJPN7sdBMvJa"
      },
      "source": [
        "# MT1 take-home questions\n",
        "## To be finished and uploaded on Canvas\n",
        "\n",
        "\n",
        "This is the take-home part due 9/27/24 midnight on Canvas (CDS times vary).  \n",
        "\n",
        "For the take-home, only the class material is allowed.\n",
        "Use of external tools, Youtube, ChatGPT etc is not allowed.\n",
        "\n",
        "You are not permitted to talk to anyone about the take-home."
      ]
    },
    {
      "cell_type": "markdown",
      "metadata": {
        "id": "FHADkPFhMvJh"
      },
      "source": [
        "**-------------------------------------------------------------------------------------**"
      ]
    },
    {
      "cell_type": "code",
      "execution_count": null,
      "metadata": {
        "run_control": {
          "frozen": false,
          "read_only": false
        },
        "id": "EaqvnutgMvJk"
      },
      "outputs": [],
      "source": [
        "#~~~~~~~~~~~~~~~~~~~~~~~~~~~~~~~~~~~~~~~~~~~~~~~~~~~~~~~\n",
        "import sys\n",
        "\n",
        "# -- Detect if in Own Install or in Colab\n",
        "try:\n",
        "    import google.colab\n",
        "    OWN_INSTALL = False\n",
        "except:\n",
        "    OWN_INSTALL = True\n",
        "\n",
        "if OWN_INSTALL:\n",
        "\n",
        "  #---- Leave these definitions ON if running on laptop\n",
        "  #---- Else turn OFF by putting them between ''' ... '''\n",
        "\n",
        "  sys.path[0:0] = ['../../../../..',  '../../../../../3rdparty',\n",
        "                   '../../../..',  '../../../../3rdparty',\n",
        "                   '../../..',     '../../../3rdparty',\n",
        "                   '../..',        '../../3rdparty',\n",
        "                   '..',           '../3rdparty' ]\n",
        "\n",
        "else: # In colab\n",
        "  ! if [ ! -d Jove ]; then git clone https://github.com/ganeshutah/Jove Jove; fi\n",
        "  sys.path.append('./Jove')\n",
        "  sys.path.append('./Jove/jove')\n",
        "\n",
        "# -- common imports --\n",
        "from jove.DotBashers import *\n",
        "from jove.Def_md2mc  import *\n",
        "from jove.Def_DFA    import *\n",
        "from jove.Def_NFA    import *\n",
        "from jove.Def_RE2NFA import *\n",
        "from jove.LangDef    import *  # for testing DFA actions using nthnumeric if needed\n",
        "from jove.Def_NFA2RE import *\n",
        "#~~~~~~~~~~~~~~~~~~~~~~~~~~~~~~~~~~~~~~~~~~~~~~~~~~~~~~~"
      ]
    },
    {
      "cell_type": "markdown",
      "metadata": {
        "run_control": {
          "frozen": false,
          "read_only": false
        },
        "id": "G4cGXTCOMvJm"
      },
      "source": [
        "##  Q1: Define a DFA for the language of strings over {a,b} where\n",
        "\n",
        "* every block of length four or more has,\n",
        "* for each four consecutive positions in that block\n",
        "* an odd number of b's. The number of a's does not matter.\n",
        "\n",
        "### Use the method of complementing these conditions and then building the RE for it (STEP-1)\n",
        "\n",
        "### and then a minimal DFA (STEP-2)\n",
        "\n",
        "## Note that if the block is of length 3 or less, no constraint is placed on the number of a's and b's.\n",
        "\n",
        "### Document your approach in 2 clear sentences.\n",
        "\n",
        "# SOLUTION BY STUDENT for STEP-1\n",
        "\n"
      ]
    },
    {
      "cell_type": "code",
      "source": [
        "RE_some_block_has_even_bs = '''\n",
        "...fill your RE here...\n",
        "'''"
      ],
      "metadata": {
        "id": "SzpJe2M7_qbk"
      },
      "execution_count": null,
      "outputs": []
    },
    {
      "cell_type": "markdown",
      "source": [
        "# STEP-2 here"
      ],
      "metadata": {
        "id": "LhaN-VcJj96t"
      }
    },
    {
      "cell_type": "code",
      "source": [
        "# The DFA desired is now in one shot -- the student writes it in one shot\n",
        "DFA_desired = ...fill your work here as a one-liner..."
      ],
      "metadata": {
        "id": "bBB0aBe7AN3y"
      },
      "execution_count": null,
      "outputs": []
    },
    {
      "cell_type": "code",
      "source": [
        "# The student draws\n",
        "dotObj_dfa(DFA_desired)"
      ],
      "metadata": {
        "id": "Gfkl2Pp7AGwk"
      },
      "execution_count": null,
      "outputs": []
    },
    {
      "cell_type": "code",
      "source": [
        "# When all looks good, uncomment this cell + all render cells below, and run all cells again! Then collect the PDFs\n",
        "# dotObj_dfa(DFA_desired).render('DFA_desired')"
      ],
      "metadata": {
        "id": "sH1aZOIKoRmv"
      },
      "execution_count": null,
      "outputs": []
    },
    {
      "cell_type": "markdown",
      "metadata": {
        "run_control": {
          "frozen": false,
          "read_only": false
        },
        "id": "-fWDjIVBAUKv"
      },
      "source": [
        "#  Q2: Now, separately specify an RE for the set of strings with an odd number of b's and look at its minimal DFA (STEP-3)\n",
        "\n",
        "# Then build a minimal DFA for the intersection of this RE's DFA and  DFA_desired (STEP-4)\n",
        "\n",
        "# Noting down which state(s) got merged (STEP-5)\n",
        "\n",
        "# And justify your final answer (STEP-6) by testing"
      ]
    },
    {
      "cell_type": "markdown",
      "source": [
        "# STEP-3 below"
      ],
      "metadata": {
        "id": "UldWJKU4kaaP"
      }
    },
    {
      "cell_type": "code",
      "source": [
        "# The student writes the RE for STEP-3\n",
        "RE_odd_bs = ...RE here...\n",
        "\n",
        "# The student obtains the min DFA in one shot to check the work - as part of STEP-3\n",
        "minD_RE_odd_bs = ...one-liner...."
      ],
      "metadata": {
        "id": "tU5uHr2XAUKw"
      },
      "execution_count": null,
      "outputs": []
    },
    {
      "cell_type": "code",
      "source": [
        "dotObj_dfa(minD_RE_odd_bs)"
      ],
      "metadata": {
        "id": "iJyqqv82DTW6"
      },
      "execution_count": null,
      "outputs": []
    },
    {
      "cell_type": "code",
      "source": [
        "# Uncomment for final run\n",
        "# dotObj_dfa(minD_RE_odd_bs).render('minD_RE_odd_bs')"
      ],
      "metadata": {
        "id": "TTANQdxwoBaK"
      },
      "execution_count": null,
      "outputs": []
    },
    {
      "cell_type": "markdown",
      "source": [
        "# STEP-4 below"
      ],
      "metadata": {
        "id": "83nWBb9IkwLw"
      }
    },
    {
      "cell_type": "code",
      "source": [
        "# The student intersects minD_RE_odd_bs and DFA_desired\n",
        "\n",
        "D_int = ...step 4 in one shot..."
      ],
      "metadata": {
        "id": "t9dJc4xPDlZH"
      },
      "execution_count": null,
      "outputs": []
    },
    {
      "cell_type": "code",
      "source": [
        "# The student draws this DFA\n",
        "dotObj_dfa(D_int)"
      ],
      "metadata": {
        "id": "eCQMcYXqDvgQ"
      },
      "execution_count": null,
      "outputs": []
    },
    {
      "cell_type": "code",
      "source": [
        "# Uncomment for final run\n",
        "# dotObj_dfa(D_int).render('D_int')"
      ],
      "metadata": {
        "id": "75HcH9W5oIVX"
      },
      "execution_count": null,
      "outputs": []
    },
    {
      "cell_type": "code",
      "source": [
        "# The student minimizes D_int\n",
        "\n",
        "min_D_int = ..."
      ],
      "metadata": {
        "id": "r4aGNVBlEYUU"
      },
      "execution_count": null,
      "outputs": []
    },
    {
      "cell_type": "code",
      "source": [
        "# The student draws min_D_int\n",
        "\n",
        "dotObj_dfa(min_D_int)"
      ],
      "metadata": {
        "id": "bogL-yhkEYJC"
      },
      "execution_count": null,
      "outputs": []
    },
    {
      "cell_type": "code",
      "source": [
        "# Uncomment for final run\n",
        "# dotObj_dfa(min_D_int).render('min_D_int')"
      ],
      "metadata": {
        "id": "fz72m4qBo5q8"
      },
      "execution_count": null,
      "outputs": []
    },
    {
      "cell_type": "markdown",
      "source": [
        "### STEP-5: Find out the NUMBER OF pairs of state(s) merged"
      ],
      "metadata": {
        "id": "ShAccbJKgonr"
      }
    },
    {
      "cell_type": "code",
      "source": [],
      "metadata": {
        "id": "6h4T4rI4gn89"
      },
      "execution_count": null,
      "outputs": []
    },
    {
      "cell_type": "code",
      "source": [
        "len(min_D_int[\"Q\"])"
      ],
      "metadata": {
        "id": "k3xUoJ4_Ehf_"
      },
      "execution_count": null,
      "outputs": []
    },
    {
      "cell_type": "code",
      "source": [
        "len(D_int[\"Q\"])"
      ],
      "metadata": {
        "id": "3QlrOgufEmk7"
      },
      "execution_count": null,
      "outputs": []
    },
    {
      "cell_type": "markdown",
      "source": [
        "# STEP-5 answer below\n",
        "\n",
        "... THESE STATE-PAIRS GOT MERGED...\n",
        "\n",
        "... USE AS MANY...\n",
        "\n",
        "FIRST PAIR : ....\n",
        "\n",
        "SECOND PAIR : ....\n",
        "\n",
        "THIRD PAIR : ....\n"
      ],
      "metadata": {
        "id": "0nqhS5iHlhSr"
      }
    },
    {
      "cell_type": "markdown",
      "source": [
        "# STEP-6 BELOW"
      ],
      "metadata": {
        "id": "6Lm_DsDclwH5"
      }
    },
    {
      "cell_type": "markdown",
      "source": [
        "# The student generates numeric order strings in range 128 following outline in Overview_of_CS3100 in module 00_..."
      ],
      "metadata": {
        "id": "M-lAhNvGgyn_"
      }
    },
    {
      "cell_type": "code",
      "source": [
        "TestStrings = [nthnumeric(i, ['a','b']) for i in range(128)]"
      ],
      "metadata": {
        "id": "D9CteyE3FIyJ"
      },
      "execution_count": null,
      "outputs": []
    },
    {
      "cell_type": "markdown",
      "source": [
        "# The student finds out accept/reject"
      ],
      "metadata": {
        "id": "9yN-tySwg8Qh"
      }
    },
    {
      "cell_type": "code",
      "source": [
        "\n",
        "for test in TestStrings:\n",
        "    if accepts_dfa(D_int, test):\n",
        "        print(\"DFA D_int accepts \", test)\n",
        "    else:\n",
        "        print(\"DFA D_int rejects \", test)"
      ],
      "metadata": {
        "id": "RE8fuDIpFakF"
      },
      "execution_count": null,
      "outputs": []
    },
    {
      "cell_type": "markdown",
      "source": [
        "# The student explains below that this answer is correct - one sentence after \"why\". IN STEP-6\n",
        "\n",
        "DFA D_int accepts  bbabbb - why\n",
        "\n",
        "DFA D_int rejects  bbbaaa - why\n",
        "\n",
        "DFA D_int rejects  bbbaab - why\n",
        "\n",
        "DFA D_int rejects  bbbaba - why\n",
        "\n",
        "DFA D_int accepts  bbbabb - why\n",
        "\n",
        "DFA D_int rejects  bbbbaa - why\n"
      ],
      "metadata": {
        "id": "jBqEHFd1hJvi"
      }
    },
    {
      "cell_type": "markdown",
      "metadata": {
        "id": "mfNMpgnKAfvj"
      },
      "source": [
        "**-------------------------------------------------------------------------------------**"
      ]
    }
  ],
  "metadata": {
    "kernelspec": {
      "display_name": "Python 3",
      "language": "python",
      "name": "python3"
    },
    "language_info": {
      "codemirror_mode": {
        "name": "ipython",
        "version": 3
      },
      "file_extension": ".py",
      "mimetype": "text/x-python",
      "name": "python",
      "nbconvert_exporter": "python",
      "pygments_lexer": "ipython3",
      "version": "3.8.5"
    },
    "toc": {
      "colors": {
        "hover_highlight": "#DAA520",
        "running_highlight": "#FF0000",
        "selected_highlight": "#FFD700"
      },
      "moveMenuLeft": true,
      "nav_menu": {
        "height": "318px",
        "width": "252px"
      },
      "navigate_menu": true,
      "number_sections": true,
      "sideBar": true,
      "threshold": 4,
      "toc_cell": false,
      "toc_section_display": "block",
      "toc_window_display": false,
      "widenNotebook": false
    },
    "colab": {
      "provenance": []
    }
  },
  "nbformat": 4,
  "nbformat_minor": 0
}
