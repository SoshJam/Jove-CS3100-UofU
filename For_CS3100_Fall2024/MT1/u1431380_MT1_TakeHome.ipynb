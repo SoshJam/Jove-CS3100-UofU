{
  "cells": [
    {
      "cell_type": "markdown",
      "metadata": {
        "id": "XJPN7sdBMvJa"
      },
      "source": [
        "# MT1 take-home questions\n",
        "## To be finished and uploaded on Canvas\n",
        "\n",
        "\n",
        "This is the take-home part due 9/27/24 midnight on Canvas (CDS times vary).  \n",
        "\n",
        "For the take-home, only the class material is allowed.\n",
        "Use of external tools, Youtube, ChatGPT etc is not allowed.\n",
        "\n",
        "You are not permitted to talk to anyone about the take-home."
      ]
    },
    {
      "cell_type": "markdown",
      "metadata": {
        "id": "FHADkPFhMvJh"
      },
      "source": [
        "**-------------------------------------------------------------------------------------**"
      ]
    },
    {
      "cell_type": "code",
      "execution_count": 1,
      "metadata": {
        "run_control": {
          "frozen": false,
          "read_only": false
        },
        "id": "EaqvnutgMvJk",
        "colab": {
          "base_uri": "https://localhost:8080/"
        },
        "outputId": "34baa9a8-26b2-4a18-bfa2-d81fd3290974"
      },
      "outputs": [
        {
          "output_type": "stream",
          "name": "stdout",
          "text": [
            "Cloning into 'Jove'...\n",
            "remote: Enumerating objects: 6593, done.\u001b[K\n",
            "remote: Counting objects: 100% (1959/1959), done.\u001b[K\n",
            "remote: Compressing objects: 100% (829/829), done.\u001b[K\n",
            "remote: Total 6593 (delta 1183), reused 1762 (delta 1050), pack-reused 4634 (from 1)\u001b[K\n",
            "Receiving objects: 100% (6593/6593), 10.54 MiB | 6.90 MiB/s, done.\n",
            "Resolving deltas: 100% (4188/4188), done.\n",
            "You may use any of these help commands:\n",
            "help(ResetStNum)\n",
            "help(NxtStateStr)\n",
            "\n",
            "You may use any of these help commands:\n",
            "help(md2mc)\n",
            ".. and if you want to dig more, then ..\n",
            "help(default_line_attr)\n",
            "help(length_ok_input_items)\n",
            "help(union_line_attr_list_fld)\n",
            "help(extend_rsltdict)\n",
            "help(form_delta)\n",
            "help(get_machine_components)\n",
            "\n",
            "You may use any of these help commands:\n",
            "help(mkp_dfa)\n",
            "help(mk_dfa)\n",
            "help(totalize_dfa)\n",
            "help(addtosigma_delta)\n",
            "help(step_dfa)\n",
            "help(run_dfa)\n",
            "help(accepts_dfa)\n",
            "help(comp_dfa)\n",
            "help(flTup)\n",
            "help(union_dfa)\n",
            "help(intersect_dfa)\n",
            "help(pruneUnreach)\n",
            "help(iso_dfa)\n",
            "help(langeq_dfa)\n",
            "help(same_status)\n",
            "help(h_langeq_dfa)\n",
            "help(fixptDist)\n",
            "help(min_dfa)\n",
            "help(pairFR)\n",
            "help(state_combos)\n",
            "help(sepFinNonFin)\n",
            "help(bash_eql_classes)\n",
            "help(listminus)\n",
            "help(bash_1)\n",
            "help(mk_rep_eqc)\n",
            "help(F_of)\n",
            "help(rep_of_s)\n",
            "help(q0_of)\n",
            "help(Delta_of)\n",
            "help(mk_state_eqc_name)\n",
            "\n",
            "You may use any of these help commands:\n",
            "help(mk_nfa)\n",
            "help(totalize_nfa)\n",
            "help(step_nfa)\n",
            "help(run_nfa)\n",
            "help(ec_step_nfa)\n",
            "help(Eclosure)\n",
            "help(Echelp)\n",
            "help(accepts_nfa)\n",
            "help(nfa2dfa)\n",
            "help(n2d)\n",
            "help(inSets)\n",
            "help(rev_dfa)\n",
            "help(min_dfa_brz)\n",
            "\n",
            "You may use any of these help commands:\n",
            "help(re2nfa)\n",
            "\n",
            "You may use any of these help commands:\n",
            "help(lphi)\n",
            "help(lunit)\n",
            "help(lcat)\n",
            "help(lexp)\n",
            "help(lunion)\n",
            "help(lstar)\n",
            "help(srev)\n",
            "help(lrev)\n",
            "help(shomo)\n",
            "help(lhomo)\n",
            "help(powset)\n",
            "help(lint)\n",
            "help(lsymdiff)\n",
            "help(lminus)\n",
            "help(lissubset)\n",
            "help(lissuperset)\n",
            "help(lcomplem)\n",
            "help(product)\n",
            "help(nthnumeric)\n",
            "\n",
            "You may use any of these help commands:\n",
            "help(RE2Str)\n",
            "help(mk_gnfa)\n",
            "help(mk_gnfa_from_D)\n",
            "help(dfa2nfa)\n",
            "help(del_gnfa_states)\n",
            "help(gnfa_w_REStr)\n",
            "help(del_one_gnfa_state)\n",
            "help(Edges_Exist_Via)\n",
            "help(choose_state_to_del)\n",
            "help(form_alt_RE)\n",
            "help(form_concat_RE)\n",
            "help(form_kleene_RE)\n",
            "\n"
          ]
        }
      ],
      "source": [
        "#~~~~~~~~~~~~~~~~~~~~~~~~~~~~~~~~~~~~~~~~~~~~~~~~~~~~~~~\n",
        "import sys\n",
        "\n",
        "# -- Detect if in Own Install or in Colab\n",
        "try:\n",
        "    import google.colab\n",
        "    OWN_INSTALL = False\n",
        "except:\n",
        "    OWN_INSTALL = True\n",
        "\n",
        "if OWN_INSTALL:\n",
        "\n",
        "  #---- Leave these definitions ON if running on laptop\n",
        "  #---- Else turn OFF by putting them between ''' ... '''\n",
        "\n",
        "  sys.path[0:0] = ['../../../../..',  '../../../../../3rdparty',\n",
        "                   '../../../..',  '../../../../3rdparty',\n",
        "                   '../../..',     '../../../3rdparty',\n",
        "                   '../..',        '../../3rdparty',\n",
        "                   '..',           '../3rdparty' ]\n",
        "\n",
        "else: # In colab\n",
        "  ! if [ ! -d Jove ]; then git clone https://github.com/ganeshutah/Jove Jove; fi\n",
        "  sys.path.append('./Jove')\n",
        "  sys.path.append('./Jove/jove')\n",
        "\n",
        "# -- common imports --\n",
        "from jove.DotBashers import *\n",
        "from jove.Def_md2mc  import *\n",
        "from jove.Def_DFA    import *\n",
        "from jove.Def_NFA    import *\n",
        "from jove.Def_RE2NFA import *\n",
        "from jove.LangDef    import *  # for testing DFA actions using nthnumeric if needed\n",
        "from jove.Def_NFA2RE import *\n",
        "#~~~~~~~~~~~~~~~~~~~~~~~~~~~~~~~~~~~~~~~~~~~~~~~~~~~~~~~"
      ]
    },
    {
      "cell_type": "markdown",
      "metadata": {
        "run_control": {
          "frozen": false,
          "read_only": false
        },
        "id": "G4cGXTCOMvJm"
      },
      "source": [
        "##  Q1: Define a DFA for the language of strings over {a,b} where\n",
        "\n",
        "* every block of length four or more has,\n",
        "* for each four consecutive positions in that block\n",
        "* an odd number of b's. The number of a's does not matter.\n",
        "\n",
        "### Use the method of complementing these conditions and then building the RE for it (STEP-1)\n",
        "\n",
        "### and then a minimal DFA (STEP-2)\n",
        "\n",
        "## Note that if the block is of length 3 or less, no constraint is placed on the number of a's and b's.\n",
        "### Document your approach in 2 clear sentences.\n",
        "\n",
        "# SOLUTION BY STUDENT for STEP-1\n",
        "\n"
      ]
    },
    {
      "cell_type": "markdown",
      "source": [
        "**Solution:** I'll define an RE for every sequence of 4 characters with an even amount of b's. Then I'll add sigma-star at the front and end, to allow it to be anywhere in the string."
      ],
      "metadata": {
        "id": "OMYtGe24NvnD"
      }
    },
    {
      "cell_type": "code",
      "source": [
        "# We just need to find the RE for any set of 4 consecutive characters having even amounts of b's\n",
        "\n",
        "# Here I am ORing every possibility for a set of 4 characters with even b's\n",
        "RE_blocks_with_even_bs = \" ((\" + \")+(\".join([\n",
        "    \"aaaa\", # Only string with 0 b's\n",
        "    \"bbbb\", # Only string with 4,\n",
        "    \"bbaa\", # there are 4 choose 2 = 6 ways to organize 2 a's and 2 b's\n",
        "    \"baba\",\n",
        "    \"baab\",\n",
        "    \"abba\",\n",
        "    \"abab\",\n",
        "    \"aabb\"\n",
        "]) + \")) \"\n",
        "\n",
        "# So the final RE accepts strings with this somewhere inside\n",
        "RE_sigma_star = \"(a+b)*\"\n",
        "RE_some_block_has_even_bs = RE_sigma_star + RE_blocks_with_even_bs + RE_sigma_star\n",
        "RE_some_block_has_even_bs"
      ],
      "metadata": {
        "id": "SzpJe2M7_qbk",
        "colab": {
          "base_uri": "https://localhost:8080/",
          "height": 35
        },
        "outputId": "5317db8c-89fb-483c-f75c-808a5b22cebc"
      },
      "execution_count": 32,
      "outputs": [
        {
          "output_type": "execute_result",
          "data": {
            "text/plain": [
              "'(a+b)* ((aaaa)+(bbbb)+(bbaa)+(baba)+(baab)+(abba)+(abab)+(aabb)) (a+b)*'"
            ],
            "application/vnd.google.colaboratory.intrinsic+json": {
              "type": "string"
            }
          },
          "metadata": {},
          "execution_count": 32
        }
      ]
    },
    {
      "cell_type": "markdown",
      "source": [
        "# STEP-2 here"
      ],
      "metadata": {
        "id": "LhaN-VcJj96t"
      }
    },
    {
      "cell_type": "code",
      "source": [
        "# The DFA desired is now in one shot -- the student writes it in one shot\n",
        "DFA_desired = min_dfa(comp_dfa(nfa2dfa(re2nfa(RE_some_block_has_even_bs))))"
      ],
      "metadata": {
        "id": "bBB0aBe7AN3y"
      },
      "execution_count": 33,
      "outputs": []
    },
    {
      "cell_type": "code",
      "source": [
        "# The student draws\n",
        "dotObj_dfa(DFA_desired)"
      ],
      "metadata": {
        "id": "Gfkl2Pp7AGwk",
        "colab": {
          "base_uri": "https://localhost:8080/",
          "height": 714
        },
        "outputId": "9b47a27d-8c75-4158-d5e4-22201899cf59"
      },
      "execution_count": 34,
      "outputs": [
        {
          "output_type": "execute_result",
          "data": {
            "image/svg+xml": "<?xml version=\"1.0\" encoding=\"UTF-8\" standalone=\"no\"?>\n<!DOCTYPE svg PUBLIC \"-//W3C//DTD SVG 1.1//EN\"\n \"http://www.w3.org/Graphics/SVG/1.1/DTD/svg11.dtd\">\n<!-- Generated by graphviz version 2.43.0 (0)\n -->\n<!-- Title: %3 Pages: 1 -->\n<svg width=\"902pt\" height=\"520pt\"\n viewBox=\"0.00 0.00 901.56 519.77\" xmlns=\"http://www.w3.org/2000/svg\" xmlns:xlink=\"http://www.w3.org/1999/xlink\">\n<g id=\"graph0\" class=\"graph\" transform=\"scale(1 1) rotate(0) translate(4 515.77)\">\n<title>%3</title>\n<polygon fill=\"white\" stroke=\"transparent\" points=\"-4,4 -4,-515.77 897.56,-515.77 897.56,4 -4,4\"/>\n<!-- EMPTY -->\n<g id=\"node1\" class=\"node\">\n<title>EMPTY</title>\n</g>\n<!-- St38 -->\n<g id=\"node9\" class=\"node\">\n<title>St38</title>\n<ellipse fill=\"none\" stroke=\"black\" cx=\"121.65\" cy=\"-201.02\" rx=\"26.78\" ry=\"26.78\"/>\n<ellipse fill=\"none\" stroke=\"black\" cx=\"121.65\" cy=\"-201.02\" rx=\"30.8\" ry=\"30.8\"/>\n<text text-anchor=\"middle\" x=\"121.65\" y=\"-197.32\" font-family=\"Times,serif\" font-size=\"14.00\">St38</text>\n</g>\n<!-- EMPTY&#45;&gt;St38 -->\n<g id=\"edge1\" class=\"edge\">\n<title>EMPTY&#45;&gt;St38</title>\n<path fill=\"none\" stroke=\"black\" d=\"M54.3,-201.02C62.45,-201.02 71.63,-201.02 80.5,-201.02\"/>\n<polygon fill=\"black\" stroke=\"black\" points=\"80.69,-204.52 90.69,-201.02 80.69,-197.52 80.69,-204.52\"/>\n</g>\n<!-- St1 -->\n<g id=\"node2\" class=\"node\">\n<title>St1</title>\n<ellipse fill=\"none\" stroke=\"black\" cx=\"870.81\" cy=\"-258.02\" rx=\"23\" ry=\"23\"/>\n<text text-anchor=\"middle\" x=\"870.81\" y=\"-254.32\" font-family=\"Times,serif\" font-size=\"14.00\">St1</text>\n</g>\n<!-- St1&#45;&gt;St1 -->\n<g id=\"edge32\" class=\"edge\">\n<title>St1&#45;&gt;St1</title>\n<path fill=\"none\" stroke=\"black\" d=\"M866.55,-280.65C866.21,-290.41 867.63,-298.77 870.81,-298.77 872.81,-298.77 874.11,-295.5 874.72,-290.67\"/>\n<polygon fill=\"black\" stroke=\"black\" points=\"878.22,-290.77 875.08,-280.65 871.23,-290.52 878.22,-290.77\"/>\n<text text-anchor=\"middle\" x=\"870.81\" y=\"-302.57\" font-family=\"Times,serif\" font-size=\"14.00\">b </text>\n</g>\n<!-- St1&#45;&gt;St1 -->\n<g id=\"edge33\" class=\"edge\">\n<title>St1&#45;&gt;St1</title>\n<path fill=\"none\" stroke=\"black\" d=\"M863.51,-279.71C860.38,-297.83 862.82,-316.77 870.81,-316.77 877.31,-316.77 880.14,-304.27 879.29,-289.86\"/>\n<polygon fill=\"black\" stroke=\"black\" points=\"882.75,-289.25 878.12,-279.71 875.79,-290.05 882.75,-289.25\"/>\n<text text-anchor=\"middle\" x=\"870.81\" y=\"-320.57\" font-family=\"Times,serif\" font-size=\"14.00\">a </text>\n</g>\n<!-- St26 -->\n<g id=\"node3\" class=\"node\">\n<title>St26</title>\n<ellipse fill=\"none\" stroke=\"black\" cx=\"337.24\" cy=\"-300.02\" rx=\"26.78\" ry=\"26.78\"/>\n<ellipse fill=\"none\" stroke=\"black\" cx=\"337.24\" cy=\"-300.02\" rx=\"30.8\" ry=\"30.8\"/>\n<text text-anchor=\"middle\" x=\"337.24\" y=\"-296.32\" font-family=\"Times,serif\" font-size=\"14.00\">St26</text>\n</g>\n<!-- St16 -->\n<g id=\"node4\" class=\"node\">\n<title>St16</title>\n<ellipse fill=\"none\" stroke=\"black\" cx=\"445.53\" cy=\"-238.02\" rx=\"26.78\" ry=\"26.78\"/>\n<ellipse fill=\"none\" stroke=\"black\" cx=\"445.53\" cy=\"-238.02\" rx=\"30.8\" ry=\"30.8\"/>\n<text text-anchor=\"middle\" x=\"445.53\" y=\"-234.32\" font-family=\"Times,serif\" font-size=\"14.00\">St16</text>\n</g>\n<!-- St26&#45;&gt;St16 -->\n<g id=\"edge12\" class=\"edge\">\n<title>St26&#45;&gt;St16</title>\n<path fill=\"none\" stroke=\"black\" d=\"M363.97,-285.01C377.71,-277 394.81,-267.02 409.72,-258.33\"/>\n<polygon fill=\"black\" stroke=\"black\" points=\"411.8,-261.17 418.67,-253.11 408.27,-255.12 411.8,-261.17\"/>\n<text text-anchor=\"middle\" x=\"391.39\" y=\"-273.82\" font-family=\"Times,serif\" font-size=\"14.00\">b </text>\n</g>\n<!-- St35 -->\n<g id=\"node14\" class=\"node\">\n<title>St35</title>\n<ellipse fill=\"none\" stroke=\"black\" cx=\"445.53\" cy=\"-333.02\" rx=\"26.78\" ry=\"26.78\"/>\n<ellipse fill=\"none\" stroke=\"black\" cx=\"445.53\" cy=\"-333.02\" rx=\"30.8\" ry=\"30.8\"/>\n<text text-anchor=\"middle\" x=\"445.53\" y=\"-329.32\" font-family=\"Times,serif\" font-size=\"14.00\">St35</text>\n</g>\n<!-- St26&#45;&gt;St35 -->\n<g id=\"edge13\" class=\"edge\">\n<title>St26&#45;&gt;St35</title>\n<path fill=\"none\" stroke=\"black\" d=\"M366.72,-308.86C378.88,-312.64 393.24,-317.1 406.3,-321.15\"/>\n<polygon fill=\"black\" stroke=\"black\" points=\"405.38,-324.53 415.97,-324.15 407.46,-317.85 405.38,-324.53\"/>\n<text text-anchor=\"middle\" x=\"391.39\" y=\"-320.82\" font-family=\"Times,serif\" font-size=\"14.00\">a </text>\n</g>\n<!-- St16&#45;&gt;St1 -->\n<g id=\"edge25\" class=\"edge\">\n<title>St16&#45;&gt;St1</title>\n<path fill=\"none\" stroke=\"black\" d=\"M476.4,-237.72C508.62,-237.43 561.43,-237.02 606.98,-237.02 606.98,-237.02 606.98,-237.02 771.42,-237.02 794.52,-237.02 820.01,-242.62 839.25,-248.04\"/>\n<polygon fill=\"black\" stroke=\"black\" points=\"838.39,-251.44 848.98,-250.91 840.38,-244.72 838.39,-251.44\"/>\n<text text-anchor=\"middle\" x=\"662.12\" y=\"-240.82\" font-family=\"Times,serif\" font-size=\"14.00\">a </text>\n</g>\n<!-- St12 -->\n<g id=\"node15\" class=\"node\">\n<title>St12</title>\n<ellipse fill=\"none\" stroke=\"black\" cx=\"553.83\" cy=\"-61.02\" rx=\"26.78\" ry=\"26.78\"/>\n<ellipse fill=\"none\" stroke=\"black\" cx=\"553.83\" cy=\"-61.02\" rx=\"30.8\" ry=\"30.8\"/>\n<text text-anchor=\"middle\" x=\"553.83\" y=\"-57.32\" font-family=\"Times,serif\" font-size=\"14.00\">St12</text>\n</g>\n<!-- St16&#45;&gt;St12 -->\n<g id=\"edge24\" class=\"edge\">\n<title>St16&#45;&gt;St12</title>\n<path fill=\"none\" stroke=\"black\" d=\"M462.51,-212.44C466.98,-205.22 471.8,-197.33 476.18,-190.02 484.37,-176.35 486.09,-172.75 494.18,-159.02 506.56,-138.03 520.56,-114.61 531.79,-95.93\"/>\n<polygon fill=\"black\" stroke=\"black\" points=\"534.9,-97.54 537.05,-87.17 528.9,-93.94 534.9,-97.54\"/>\n<text text-anchor=\"middle\" x=\"499.68\" y=\"-162.82\" font-family=\"Times,serif\" font-size=\"14.00\">b </text>\n</g>\n<!-- St25 -->\n<g id=\"node5\" class=\"node\">\n<title>St25</title>\n<ellipse fill=\"none\" stroke=\"black\" cx=\"770.42\" cy=\"-440.02\" rx=\"26.78\" ry=\"26.78\"/>\n<ellipse fill=\"none\" stroke=\"black\" cx=\"770.42\" cy=\"-440.02\" rx=\"30.8\" ry=\"30.8\"/>\n<text text-anchor=\"middle\" x=\"770.42\" y=\"-436.32\" font-family=\"Times,serif\" font-size=\"14.00\">St25</text>\n</g>\n<!-- St25&#45;&gt;St1 -->\n<g id=\"edge28\" class=\"edge\">\n<title>St25&#45;&gt;St1</title>\n<path fill=\"none\" stroke=\"black\" d=\"M796.31,-422.99C808.03,-413.84 821.31,-401.64 830.07,-388.02 849.3,-358.09 859.66,-318.33 864.93,-290.7\"/>\n<polygon fill=\"black\" stroke=\"black\" points=\"868.4,-291.21 866.71,-280.75 861.51,-289.98 868.4,-291.21\"/>\n<text text-anchor=\"middle\" x=\"824.57\" y=\"-404.82\" font-family=\"Times,serif\" font-size=\"14.00\">b </text>\n</g>\n<!-- St25&#45;&gt;St35 -->\n<g id=\"edge29\" class=\"edge\">\n<title>St25&#45;&gt;St35</title>\n<path fill=\"none\" stroke=\"black\" d=\"M739.59,-438.61C711.31,-436.7 667.86,-432.25 631.48,-422.02 567.19,-403.96 553.57,-391.54 494.18,-361.02 489.82,-358.78 485.31,-356.32 480.87,-353.82\"/>\n<polygon fill=\"black\" stroke=\"black\" points=\"482.36,-350.64 471.95,-348.67 478.87,-356.7 482.36,-350.64\"/>\n<text text-anchor=\"middle\" x=\"607.98\" y=\"-419.82\" font-family=\"Times,serif\" font-size=\"14.00\">a </text>\n</g>\n<!-- St21 -->\n<g id=\"node6\" class=\"node\">\n<title>St21</title>\n<ellipse fill=\"none\" stroke=\"black\" cx=\"770.42\" cy=\"-115.02\" rx=\"26.78\" ry=\"26.78\"/>\n<ellipse fill=\"none\" stroke=\"black\" cx=\"770.42\" cy=\"-115.02\" rx=\"30.8\" ry=\"30.8\"/>\n<text text-anchor=\"middle\" x=\"770.42\" y=\"-111.32\" font-family=\"Times,serif\" font-size=\"14.00\">St21</text>\n</g>\n<!-- St21&#45;&gt;St1 -->\n<g id=\"edge21\" class=\"edge\">\n<title>St21&#45;&gt;St1</title>\n<path fill=\"none\" stroke=\"black\" d=\"M799.71,-124.31C810.45,-129.05 822.02,-135.81 830.07,-145.02 849.94,-167.77 860.06,-201.08 865.09,-225.64\"/>\n<polygon fill=\"black\" stroke=\"black\" points=\"861.67,-226.4 866.95,-235.58 868.55,-225.11 861.67,-226.4\"/>\n<text text-anchor=\"middle\" x=\"824.57\" y=\"-148.82\" font-family=\"Times,serif\" font-size=\"14.00\">a </text>\n</g>\n<!-- St21&#45;&gt;St16 -->\n<g id=\"edge20\" class=\"edge\">\n<title>St21&#45;&gt;St16</title>\n<path fill=\"none\" stroke=\"black\" d=\"M754.93,-141.76C746.82,-154.15 735.55,-167.9 721.77,-176.02 633.53,-227.99 591.12,-179.01 494.18,-212.02 489.85,-213.5 485.45,-215.35 481.15,-217.38\"/>\n<polygon fill=\"black\" stroke=\"black\" points=\"479.33,-214.38 472.01,-222.04 482.51,-220.62 479.33,-214.38\"/>\n<text text-anchor=\"middle\" x=\"607.98\" y=\"-205.82\" font-family=\"Times,serif\" font-size=\"14.00\">b </text>\n</g>\n<!-- St37 -->\n<g id=\"node7\" class=\"node\">\n<title>St37</title>\n<ellipse fill=\"none\" stroke=\"black\" cx=\"228.94\" cy=\"-300.02\" rx=\"26.78\" ry=\"26.78\"/>\n<ellipse fill=\"none\" stroke=\"black\" cx=\"228.94\" cy=\"-300.02\" rx=\"30.8\" ry=\"30.8\"/>\n<text text-anchor=\"middle\" x=\"228.94\" y=\"-296.32\" font-family=\"Times,serif\" font-size=\"14.00\">St37</text>\n</g>\n<!-- St37&#45;&gt;St26 -->\n<g id=\"edge6\" class=\"edge\">\n<title>St37&#45;&gt;St26</title>\n<path fill=\"none\" stroke=\"black\" d=\"M259.83,-300.02C271.14,-300.02 284.19,-300.02 296.27,-300.02\"/>\n<polygon fill=\"black\" stroke=\"black\" points=\"296.57,-303.52 306.57,-300.02 296.57,-296.52 296.57,-303.52\"/>\n<text text-anchor=\"middle\" x=\"283.09\" y=\"-303.82\" font-family=\"Times,serif\" font-size=\"14.00\">b </text>\n</g>\n<!-- St8 -->\n<g id=\"node13\" class=\"node\">\n<title>St8</title>\n<ellipse fill=\"none\" stroke=\"black\" cx=\"553.83\" cy=\"-485.02\" rx=\"22.96\" ry=\"22.96\"/>\n<ellipse fill=\"none\" stroke=\"black\" cx=\"553.83\" cy=\"-485.02\" rx=\"27\" ry=\"27\"/>\n<text text-anchor=\"middle\" x=\"553.83\" y=\"-481.32\" font-family=\"Times,serif\" font-size=\"14.00\">St8</text>\n</g>\n<!-- St37&#45;&gt;St8 -->\n<g id=\"edge7\" class=\"edge\">\n<title>St37&#45;&gt;St8</title>\n<path fill=\"none\" stroke=\"black\" d=\"M255.82,-314.85C314.58,-348.52 457.92,-430.64 521.53,-467.09\"/>\n<polygon fill=\"black\" stroke=\"black\" points=\"519.9,-470.19 530.32,-472.12 523.38,-464.12 519.9,-470.19\"/>\n<text text-anchor=\"middle\" x=\"391.39\" y=\"-397.82\" font-family=\"Times,serif\" font-size=\"14.00\">a </text>\n</g>\n<!-- St36 -->\n<g id=\"node8\" class=\"node\">\n<title>St36</title>\n<ellipse fill=\"none\" stroke=\"black\" cx=\"445.53\" cy=\"-150.02\" rx=\"26.78\" ry=\"26.78\"/>\n<ellipse fill=\"none\" stroke=\"black\" cx=\"445.53\" cy=\"-150.02\" rx=\"30.8\" ry=\"30.8\"/>\n<text text-anchor=\"middle\" x=\"445.53\" y=\"-146.32\" font-family=\"Times,serif\" font-size=\"14.00\">St36</text>\n</g>\n<!-- St36&#45;&gt;St21 -->\n<g id=\"edge10\" class=\"edge\">\n<title>St36&#45;&gt;St21</title>\n<path fill=\"none\" stroke=\"black\" d=\"M475.38,-142.68C481.56,-141.3 488.06,-139.99 494.18,-139.02 577.24,-125.88 675.62,-119.48 729.38,-116.75\"/>\n<polygon fill=\"black\" stroke=\"black\" points=\"729.7,-120.24 739.52,-116.26 729.36,-113.25 729.7,-120.24\"/>\n<text text-anchor=\"middle\" x=\"607.98\" y=\"-129.82\" font-family=\"Times,serif\" font-size=\"14.00\">b </text>\n</g>\n<!-- St7 -->\n<g id=\"node12\" class=\"node\">\n<title>St7</title>\n<ellipse fill=\"none\" stroke=\"black\" cx=\"553.83\" cy=\"-292.02\" rx=\"22.96\" ry=\"22.96\"/>\n<ellipse fill=\"none\" stroke=\"black\" cx=\"553.83\" cy=\"-292.02\" rx=\"27\" ry=\"27\"/>\n<text text-anchor=\"middle\" x=\"553.83\" y=\"-288.32\" font-family=\"Times,serif\" font-size=\"14.00\">St7</text>\n</g>\n<!-- St36&#45;&gt;St7 -->\n<g id=\"edge11\" class=\"edge\">\n<title>St36&#45;&gt;St7</title>\n<path fill=\"none\" stroke=\"black\" d=\"M464.56,-174.11C482.95,-198.67 511.49,-236.79 531.1,-263\"/>\n<polygon fill=\"black\" stroke=\"black\" points=\"528.34,-265.15 537.14,-271.06 533.95,-260.96 528.34,-265.15\"/>\n<text text-anchor=\"middle\" x=\"499.68\" y=\"-228.82\" font-family=\"Times,serif\" font-size=\"14.00\">a </text>\n</g>\n<!-- St38&#45;&gt;St37 -->\n<g id=\"edge3\" class=\"edge\">\n<title>St38&#45;&gt;St37</title>\n<path fill=\"none\" stroke=\"black\" d=\"M144.46,-221.53C160.03,-236.17 181.15,-256.03 198.25,-272.1\"/>\n<polygon fill=\"black\" stroke=\"black\" points=\"196.11,-274.89 205.79,-279.19 200.9,-269.79 196.11,-274.89\"/>\n<text text-anchor=\"middle\" x=\"175.3\" y=\"-256.82\" font-family=\"Times,serif\" font-size=\"14.00\">a </text>\n</g>\n<!-- St27 -->\n<g id=\"node16\" class=\"node\">\n<title>St27</title>\n<ellipse fill=\"none\" stroke=\"black\" cx=\"337.24\" cy=\"-150.02\" rx=\"26.78\" ry=\"26.78\"/>\n<ellipse fill=\"none\" stroke=\"black\" cx=\"337.24\" cy=\"-150.02\" rx=\"30.8\" ry=\"30.8\"/>\n<text text-anchor=\"middle\" x=\"337.24\" y=\"-146.32\" font-family=\"Times,serif\" font-size=\"14.00\">St27</text>\n</g>\n<!-- St38&#45;&gt;St27 -->\n<g id=\"edge2\" class=\"edge\">\n<title>St38&#45;&gt;St27</title>\n<path fill=\"none\" stroke=\"black\" d=\"M151.9,-194.04C189.69,-185.01 255.57,-169.28 297.49,-159.27\"/>\n<polygon fill=\"black\" stroke=\"black\" points=\"298.43,-162.65 307.34,-156.92 296.8,-155.84 298.43,-162.65\"/>\n<text text-anchor=\"middle\" x=\"228.94\" y=\"-186.82\" font-family=\"Times,serif\" font-size=\"14.00\">b </text>\n</g>\n<!-- St3 -->\n<g id=\"node10\" class=\"node\">\n<title>St3</title>\n<ellipse fill=\"none\" stroke=\"black\" cx=\"662.12\" cy=\"-386.02\" rx=\"22.96\" ry=\"22.96\"/>\n<ellipse fill=\"none\" stroke=\"black\" cx=\"662.12\" cy=\"-386.02\" rx=\"27\" ry=\"27\"/>\n<text text-anchor=\"middle\" x=\"662.12\" y=\"-382.32\" font-family=\"Times,serif\" font-size=\"14.00\">St3</text>\n</g>\n<!-- St3&#45;&gt;St1 -->\n<g id=\"edge31\" class=\"edge\">\n<title>St3&#45;&gt;St1</title>\n<path fill=\"none\" stroke=\"black\" d=\"M689.02,-385.33C724.66,-383.07 789.05,-374.16 830.07,-340.02 845.52,-327.16 855.42,-306.87 861.48,-289.68\"/>\n<polygon fill=\"black\" stroke=\"black\" points=\"864.86,-290.6 864.62,-280.01 858.2,-288.44 864.86,-290.6\"/>\n<text text-anchor=\"middle\" x=\"770.42\" y=\"-381.82\" font-family=\"Times,serif\" font-size=\"14.00\">a </text>\n</g>\n<!-- St3&#45;&gt;St25 -->\n<g id=\"edge30\" class=\"edge\">\n<title>St3&#45;&gt;St25</title>\n<path fill=\"none\" stroke=\"black\" d=\"M687.1,-395.91C697.84,-400.53 710.58,-406.27 721.77,-412.02 726.13,-414.26 730.65,-416.72 735.08,-419.22\"/>\n<polygon fill=\"black\" stroke=\"black\" points=\"733.59,-422.4 744,-424.36 737.09,-416.34 733.59,-422.4\"/>\n<text text-anchor=\"middle\" x=\"716.27\" y=\"-415.82\" font-family=\"Times,serif\" font-size=\"14.00\">b </text>\n</g>\n<!-- St31 -->\n<g id=\"node11\" class=\"node\">\n<title>St31</title>\n<ellipse fill=\"none\" stroke=\"black\" cx=\"662.12\" cy=\"-53.02\" rx=\"26.78\" ry=\"26.78\"/>\n<ellipse fill=\"none\" stroke=\"black\" cx=\"662.12\" cy=\"-53.02\" rx=\"30.8\" ry=\"30.8\"/>\n<text text-anchor=\"middle\" x=\"662.12\" y=\"-49.32\" font-family=\"Times,serif\" font-size=\"14.00\">St31</text>\n</g>\n<!-- St31&#45;&gt;St1 -->\n<g id=\"edge19\" class=\"edge\">\n<title>St31&#45;&gt;St1</title>\n<path fill=\"none\" stroke=\"black\" d=\"M692.19,-46.09C722.31,-40.68 769.34,-37.4 801.07,-60.02 853.98,-97.74 866.53,-179.19 869.27,-225\"/>\n<polygon fill=\"black\" stroke=\"black\" points=\"865.78,-225.2 869.75,-235.02 872.77,-224.87 865.78,-225.2\"/>\n<text text-anchor=\"middle\" x=\"770.42\" y=\"-63.82\" font-family=\"Times,serif\" font-size=\"14.00\">a </text>\n</g>\n<!-- St31&#45;&gt;St21 -->\n<g id=\"edge18\" class=\"edge\">\n<title>St31&#45;&gt;St21</title>\n<path fill=\"none\" stroke=\"black\" d=\"M689.22,-67.45C699.42,-73.16 711.19,-79.82 721.77,-86.02 726.04,-88.52 730.5,-91.17 734.91,-93.82\"/>\n<polygon fill=\"black\" stroke=\"black\" points=\"733.43,-97.02 743.8,-99.21 737.06,-91.03 733.43,-97.02\"/>\n<text text-anchor=\"middle\" x=\"716.27\" y=\"-89.82\" font-family=\"Times,serif\" font-size=\"14.00\">b </text>\n</g>\n<!-- St7&#45;&gt;St1 -->\n<g id=\"edge22\" class=\"edge\">\n<title>St7&#45;&gt;St1</title>\n<path fill=\"none\" stroke=\"black\" d=\"M580.61,-289.24C637.83,-283.06 775.34,-268.22 837.88,-261.47\"/>\n<polygon fill=\"black\" stroke=\"black\" points=\"838.39,-264.93 847.95,-260.38 837.64,-257.97 838.39,-264.93\"/>\n<text text-anchor=\"middle\" x=\"716.27\" y=\"-278.82\" font-family=\"Times,serif\" font-size=\"14.00\">b </text>\n</g>\n<!-- St7&#45;&gt;St3 -->\n<g id=\"edge23\" class=\"edge\">\n<title>St7&#45;&gt;St3</title>\n<path fill=\"none\" stroke=\"black\" d=\"M574.32,-309.26C591,-324.01 615.19,-345.4 633.8,-361.85\"/>\n<polygon fill=\"black\" stroke=\"black\" points=\"631.58,-364.57 641.39,-368.57 636.22,-359.32 631.58,-364.57\"/>\n<text text-anchor=\"middle\" x=\"607.98\" y=\"-344.82\" font-family=\"Times,serif\" font-size=\"14.00\">a </text>\n</g>\n<!-- St8&#45;&gt;St25 -->\n<g id=\"edge14\" class=\"edge\">\n<title>St8&#45;&gt;St25</title>\n<path fill=\"none\" stroke=\"black\" d=\"M580.5,-481.45C613.46,-476.62 672.3,-467.2 721.77,-455.02 724.93,-454.24 728.18,-453.37 731.44,-452.45\"/>\n<polygon fill=\"black\" stroke=\"black\" points=\"732.52,-455.78 741.12,-449.58 730.53,-449.07 732.52,-455.78\"/>\n<text text-anchor=\"middle\" x=\"662.12\" y=\"-475.82\" font-family=\"Times,serif\" font-size=\"14.00\">b </text>\n</g>\n<!-- St8&#45;&gt;St3 -->\n<g id=\"edge15\" class=\"edge\">\n<title>St8&#45;&gt;St3</title>\n<path fill=\"none\" stroke=\"black\" d=\"M577.47,-472.28C588.88,-465.29 602.58,-456.03 613.48,-446.02 623.12,-437.16 632.39,-426.24 640.15,-416.16\"/>\n<polygon fill=\"black\" stroke=\"black\" points=\"643.1,-418.05 646.29,-407.95 637.5,-413.86 643.1,-418.05\"/>\n<text text-anchor=\"middle\" x=\"607.98\" y=\"-457.82\" font-family=\"Times,serif\" font-size=\"14.00\">a </text>\n</g>\n<!-- St35&#45;&gt;St1 -->\n<g id=\"edge26\" class=\"edge\">\n<title>St35&#45;&gt;St1</title>\n<path fill=\"none\" stroke=\"black\" d=\"M476.24,-334.77C509.74,-336.26 565.77,-337.27 613.48,-331.02 711.95,-318.11 736.33,-308.86 830.07,-276.02 833.46,-274.83 836.96,-273.47 840.41,-272.03\"/>\n<polygon fill=\"black\" stroke=\"black\" points=\"842.12,-275.1 849.88,-267.88 839.31,-268.69 842.12,-275.1\"/>\n<text text-anchor=\"middle\" x=\"662.12\" y=\"-331.82\" font-family=\"Times,serif\" font-size=\"14.00\">b </text>\n</g>\n<!-- St35&#45;&gt;St7 -->\n<g id=\"edge27\" class=\"edge\">\n<title>St35&#45;&gt;St7</title>\n<path fill=\"none\" stroke=\"black\" d=\"M474.46,-322.25C488.16,-316.97 504.76,-310.56 519.15,-305.01\"/>\n<polygon fill=\"black\" stroke=\"black\" points=\"520.63,-308.19 528.7,-301.33 518.11,-301.66 520.63,-308.19\"/>\n<text text-anchor=\"middle\" x=\"499.68\" y=\"-316.82\" font-family=\"Times,serif\" font-size=\"14.00\">a </text>\n</g>\n<!-- St12&#45;&gt;St1 -->\n<g id=\"edge16\" class=\"edge\">\n<title>St12&#45;&gt;St1</title>\n<path fill=\"none\" stroke=\"black\" d=\"M566.33,-89.21C574.32,-105.71 586.42,-125.82 602.48,-139.02 685.77,-207.49 737.46,-167.79 830.07,-223.02 835.77,-226.42 841.41,-230.69 846.58,-235.06\"/>\n<polygon fill=\"black\" stroke=\"black\" points=\"844.46,-237.86 854.25,-241.91 849.13,-232.64 844.46,-237.86\"/>\n<text text-anchor=\"middle\" x=\"716.27\" y=\"-191.82\" font-family=\"Times,serif\" font-size=\"14.00\">b </text>\n</g>\n<!-- St12&#45;&gt;St31 -->\n<g id=\"edge17\" class=\"edge\">\n<title>St12&#45;&gt;St31</title>\n<path fill=\"none\" stroke=\"black\" d=\"M584.44,-58.79C595.86,-57.93 609.1,-56.94 621.33,-56.02\"/>\n<polygon fill=\"black\" stroke=\"black\" points=\"621.6,-59.51 631.3,-55.26 621.07,-52.53 621.6,-59.51\"/>\n<text text-anchor=\"middle\" x=\"607.98\" y=\"-61.82\" font-family=\"Times,serif\" font-size=\"14.00\">a </text>\n</g>\n<!-- St27&#45;&gt;St36 -->\n<g id=\"edge5\" class=\"edge\">\n<title>St27&#45;&gt;St36</title>\n<path fill=\"none\" stroke=\"black\" d=\"M368.13,-150.02C379.43,-150.02 392.49,-150.02 404.57,-150.02\"/>\n<polygon fill=\"black\" stroke=\"black\" points=\"404.87,-153.52 414.87,-150.02 404.87,-146.52 404.87,-153.52\"/>\n<text text-anchor=\"middle\" x=\"391.39\" y=\"-153.82\" font-family=\"Times,serif\" font-size=\"14.00\">a </text>\n</g>\n<!-- St17 -->\n<g id=\"node17\" class=\"node\">\n<title>St17</title>\n<ellipse fill=\"none\" stroke=\"black\" cx=\"445.53\" cy=\"-61.02\" rx=\"26.78\" ry=\"26.78\"/>\n<ellipse fill=\"none\" stroke=\"black\" cx=\"445.53\" cy=\"-61.02\" rx=\"30.8\" ry=\"30.8\"/>\n<text text-anchor=\"middle\" x=\"445.53\" y=\"-57.32\" font-family=\"Times,serif\" font-size=\"14.00\">St17</text>\n</g>\n<!-- St27&#45;&gt;St17 -->\n<g id=\"edge4\" class=\"edge\">\n<title>St27&#45;&gt;St17</title>\n<path fill=\"none\" stroke=\"black\" d=\"M361.3,-130.71C376.62,-117.88 396.92,-100.89 413.63,-86.89\"/>\n<polygon fill=\"black\" stroke=\"black\" points=\"416.09,-89.4 421.51,-80.29 411.6,-84.03 416.09,-89.4\"/>\n<text text-anchor=\"middle\" x=\"391.39\" y=\"-112.82\" font-family=\"Times,serif\" font-size=\"14.00\">b </text>\n</g>\n<!-- St17&#45;&gt;St31 -->\n<g id=\"edge9\" class=\"edge\">\n<title>St17&#45;&gt;St31</title>\n<path fill=\"none\" stroke=\"black\" d=\"M467.93,-40.03C482.27,-27.5 502.29,-12.74 523.18,-6.02 549.11,2.32 558.26,1.38 584.48,-6.02 600.5,-10.54 616.47,-19.45 629.66,-28.31\"/>\n<polygon fill=\"black\" stroke=\"black\" points=\"627.69,-31.21 637.89,-34.08 631.71,-25.47 627.69,-31.21\"/>\n<text text-anchor=\"middle\" x=\"553.83\" y=\"-9.82\" font-family=\"Times,serif\" font-size=\"14.00\">a </text>\n</g>\n<!-- St17&#45;&gt;St12 -->\n<g id=\"edge8\" class=\"edge\">\n<title>St17&#45;&gt;St12</title>\n<path fill=\"none\" stroke=\"black\" d=\"M476.43,-61.02C487.73,-61.02 500.78,-61.02 512.86,-61.02\"/>\n<polygon fill=\"black\" stroke=\"black\" points=\"513.16,-64.52 523.16,-61.02 513.16,-57.52 513.16,-64.52\"/>\n<text text-anchor=\"middle\" x=\"499.68\" y=\"-64.82\" font-family=\"Times,serif\" font-size=\"14.00\">b </text>\n</g>\n</g>\n</svg>\n",
            "text/plain": [
              "<graphviz.graphs.Digraph at 0x79acb6fc6320>"
            ]
          },
          "metadata": {},
          "execution_count": 34
        }
      ]
    },
    {
      "cell_type": "code",
      "source": [
        "# When all looks good, uncomment this cell + all render cells below, and run all cells again! Then collect the PDFs\n",
        "dotObj_dfa(DFA_desired).render('DFA_desired')"
      ],
      "metadata": {
        "id": "sH1aZOIKoRmv"
      },
      "execution_count": null,
      "outputs": []
    },
    {
      "cell_type": "markdown",
      "metadata": {
        "run_control": {
          "frozen": false,
          "read_only": false
        },
        "id": "-fWDjIVBAUKv"
      },
      "source": [
        "#  Q2: Now, separately specify an RE for the set of strings with an odd number of b's and look at its minimal DFA (STEP-3)\n",
        "\n",
        "# Then build a minimal DFA for the intersection of this RE's DFA and  DFA_desired (STEP-4)\n",
        "\n",
        "# Noting down which state(s) got merged (STEP-5)\n",
        "\n",
        "# And justify your final answer (STEP-6) by testing"
      ]
    },
    {
      "cell_type": "markdown",
      "source": [
        "# STEP-3 below"
      ],
      "metadata": {
        "id": "UldWJKU4kaaP"
      }
    },
    {
      "cell_type": "code",
      "source": [
        "# The student writes the RE for STEP-3\n",
        "# Explanation: We can have a's dotted anywhere throughout, including at the start, but all b's after the first one must come in pairs.\n",
        "RE_odd_bs = \"a* b a* ( b a* b a* )*\"\n",
        "\n",
        "# The student obtains the min DFA in one shot to check the work - as part of STEP-3\n",
        "minD_RE_odd_bs = min_dfa(nfa2dfa(re2nfa(RE_odd_bs)))"
      ],
      "metadata": {
        "id": "tU5uHr2XAUKw"
      },
      "execution_count": 57,
      "outputs": []
    },
    {
      "cell_type": "code",
      "source": [
        "dotObj_dfa(minD_RE_odd_bs)"
      ],
      "metadata": {
        "id": "iJyqqv82DTW6",
        "colab": {
          "base_uri": "https://localhost:8080/",
          "height": 146
        },
        "outputId": "249f7a7d-5e4e-4a41-a2aa-e73b570b6de4"
      },
      "execution_count": 58,
      "outputs": [
        {
          "output_type": "execute_result",
          "data": {
            "image/svg+xml": "<?xml version=\"1.0\" encoding=\"UTF-8\" standalone=\"no\"?>\n<!DOCTYPE svg PUBLIC \"-//W3C//DTD SVG 1.1//EN\"\n \"http://www.w3.org/Graphics/SVG/1.1/DTD/svg11.dtd\">\n<!-- Generated by graphviz version 2.43.0 (0)\n -->\n<!-- Title: %3 Pages: 1 -->\n<svg width=\"245pt\" height=\"94pt\"\n viewBox=\"0.00 0.00 244.99 94.50\" xmlns=\"http://www.w3.org/2000/svg\" xmlns:xlink=\"http://www.w3.org/1999/xlink\">\n<g id=\"graph0\" class=\"graph\" transform=\"scale(1 1) rotate(0) translate(4 90.5)\">\n<title>%3</title>\n<polygon fill=\"white\" stroke=\"transparent\" points=\"-4,4 -4,-90.5 240.99,-90.5 240.99,4 -4,4\"/>\n<!-- EMPTY -->\n<g id=\"node1\" class=\"node\">\n<title>EMPTY</title>\n</g>\n<!-- St0 -->\n<g id=\"node2\" class=\"node\">\n<title>St0</title>\n<ellipse fill=\"none\" stroke=\"black\" cx=\"113.75\" cy=\"-26.75\" rx=\"23\" ry=\"23\"/>\n<text text-anchor=\"middle\" x=\"113.75\" y=\"-23.05\" font-family=\"Times,serif\" font-size=\"14.00\">St0</text>\n</g>\n<!-- EMPTY&#45;&gt;St0 -->\n<g id=\"edge1\" class=\"edge\">\n<title>EMPTY&#45;&gt;St0</title>\n<path fill=\"none\" stroke=\"black\" d=\"M54.35,-26.75C62.71,-26.75 72.05,-26.75 80.76,-26.75\"/>\n<polygon fill=\"black\" stroke=\"black\" points=\"80.97,-30.25 90.97,-26.75 80.97,-23.25 80.97,-30.25\"/>\n</g>\n<!-- St0&#45;&gt;St0 -->\n<g id=\"edge3\" class=\"edge\">\n<title>St0&#45;&gt;St0</title>\n<path fill=\"none\" stroke=\"black\" d=\"M106.4,-48.55C105.59,-58.66 108.04,-67.5 113.75,-67.5 117.4,-67.5 119.72,-63.87 120.7,-58.6\"/>\n<polygon fill=\"black\" stroke=\"black\" points=\"124.2,-58.68 121.1,-48.55 117.21,-58.4 124.2,-58.68\"/>\n<text text-anchor=\"middle\" x=\"113.75\" y=\"-71.3\" font-family=\"Times,serif\" font-size=\"14.00\">a </text>\n</g>\n<!-- St6 -->\n<g id=\"node3\" class=\"node\">\n<title>St6</title>\n<ellipse fill=\"none\" stroke=\"black\" cx=\"210.24\" cy=\"-26.75\" rx=\"22.96\" ry=\"22.96\"/>\n<ellipse fill=\"none\" stroke=\"black\" cx=\"210.24\" cy=\"-26.75\" rx=\"27\" ry=\"27\"/>\n<text text-anchor=\"middle\" x=\"210.24\" y=\"-23.05\" font-family=\"Times,serif\" font-size=\"14.00\">St6</text>\n</g>\n<!-- St0&#45;&gt;St6 -->\n<g id=\"edge2\" class=\"edge\">\n<title>St0&#45;&gt;St6</title>\n<path fill=\"none\" stroke=\"black\" d=\"M136.66,-26.75C147.57,-26.75 161.03,-26.75 173.38,-26.75\"/>\n<polygon fill=\"black\" stroke=\"black\" points=\"173.42,-30.25 183.42,-26.75 173.42,-23.25 173.42,-30.25\"/>\n<text text-anchor=\"middle\" x=\"160\" y=\"-30.55\" font-family=\"Times,serif\" font-size=\"14.00\">b </text>\n</g>\n<!-- St6&#45;&gt;St0 -->\n<g id=\"edge4\" class=\"edge\">\n<title>St6&#45;&gt;St0</title>\n<path fill=\"none\" stroke=\"black\" d=\"M187.2,-13.11C177.34,-8.58 165.49,-5.26 154.5,-7.75 150.77,-8.59 146.99,-9.83 143.31,-11.28\"/>\n<polygon fill=\"black\" stroke=\"black\" points=\"141.64,-8.19 133.93,-15.46 144.49,-14.58 141.64,-8.19\"/>\n<text text-anchor=\"middle\" x=\"160\" y=\"-11.55\" font-family=\"Times,serif\" font-size=\"14.00\">b </text>\n</g>\n<!-- St6&#45;&gt;St6 -->\n<g id=\"edge5\" class=\"edge\">\n<title>St6&#45;&gt;St6</title>\n<path fill=\"none\" stroke=\"black\" d=\"M200.95,-52.05C200.31,-62.57 203.41,-71.5 210.24,-71.5 214.73,-71.5 217.61,-67.65 218.87,-62.04\"/>\n<polygon fill=\"black\" stroke=\"black\" points=\"222.37,-62.26 219.54,-52.05 215.38,-61.79 222.37,-62.26\"/>\n<text text-anchor=\"middle\" x=\"210.24\" y=\"-75.3\" font-family=\"Times,serif\" font-size=\"14.00\">a </text>\n</g>\n</g>\n</svg>\n",
            "text/plain": [
              "<graphviz.graphs.Digraph at 0x79acb56c0e20>"
            ]
          },
          "metadata": {},
          "execution_count": 58
        }
      ]
    },
    {
      "cell_type": "code",
      "source": [
        "# Uncomment for final run\n",
        "dotObj_dfa(minD_RE_odd_bs).render('minD_RE_odd_bs')"
      ],
      "metadata": {
        "id": "TTANQdxwoBaK",
        "colab": {
          "base_uri": "https://localhost:8080/",
          "height": 35
        },
        "outputId": "7c477946-f279-4282-b597-7c8f88ccafc4"
      },
      "execution_count": 59,
      "outputs": [
        {
          "output_type": "execute_result",
          "data": {
            "text/plain": [
              "'minD_RE_odd_bs.pdf'"
            ],
            "application/vnd.google.colaboratory.intrinsic+json": {
              "type": "string"
            }
          },
          "metadata": {},
          "execution_count": 59
        }
      ]
    },
    {
      "cell_type": "markdown",
      "source": [
        "# STEP-4 below"
      ],
      "metadata": {
        "id": "83nWBb9IkwLw"
      }
    },
    {
      "cell_type": "code",
      "source": [
        "# The student intersects minD_RE_odd_bs and DFA_desired\n",
        "\n",
        "D_int = intersect_dfa(minD_RE_odd_bs, DFA_desired)"
      ],
      "metadata": {
        "id": "t9dJc4xPDlZH"
      },
      "execution_count": 61,
      "outputs": []
    },
    {
      "cell_type": "code",
      "source": [
        "# The student draws this DFA\n",
        "dotObj_dfa(D_int)"
      ],
      "metadata": {
        "id": "eCQMcYXqDvgQ",
        "colab": {
          "base_uri": "https://localhost:8080/",
          "height": 1000
        },
        "outputId": "707e042c-8f89-4b35-e6fc-facb18a3af9a"
      },
      "execution_count": 62,
      "outputs": [
        {
          "output_type": "execute_result",
          "data": {
            "image/svg+xml": "<?xml version=\"1.0\" encoding=\"UTF-8\" standalone=\"no\"?>\n<!DOCTYPE svg PUBLIC \"-//W3C//DTD SVG 1.1//EN\"\n \"http://www.w3.org/Graphics/SVG/1.1/DTD/svg11.dtd\">\n<!-- Generated by graphviz version 2.43.0 (0)\n -->\n<!-- Title: %3 Pages: 1 -->\n<svg width=\"1814pt\" height=\"841pt\"\n viewBox=\"0.00 0.00 1813.80 841.19\" xmlns=\"http://www.w3.org/2000/svg\" xmlns:xlink=\"http://www.w3.org/1999/xlink\">\n<g id=\"graph0\" class=\"graph\" transform=\"scale(1 1) rotate(0) translate(4 837.19)\">\n<title>%3</title>\n<polygon fill=\"white\" stroke=\"transparent\" points=\"-4,4 -4,-837.19 1809.8,-837.19 1809.8,4 -4,4\"/>\n<!-- EMPTY -->\n<g id=\"node1\" class=\"node\">\n<title>EMPTY</title>\n</g>\n<!-- \\(St0_St38\\) -->\n<g id=\"node7\" class=\"node\">\n<title>\\(St0_St38\\)</title>\n<ellipse fill=\"none\" stroke=\"black\" cx=\"139.75\" cy=\"-325.19\" rx=\"48.99\" ry=\"48.99\"/>\n<text text-anchor=\"middle\" x=\"139.75\" y=\"-321.49\" font-family=\"Times,serif\" font-size=\"14.00\">(St0_St38)</text>\n</g>\n<!-- EMPTY&#45;&gt;\\(St0_St38\\) -->\n<g id=\"edge1\" class=\"edge\">\n<title>EMPTY&#45;&gt;\\(St0_St38\\)</title>\n<path fill=\"none\" stroke=\"black\" d=\"M54.25,-325.19C62.15,-325.19 71.15,-325.19 80.27,-325.19\"/>\n<polygon fill=\"black\" stroke=\"black\" points=\"80.56,-328.69 90.56,-325.19 80.56,-321.69 80.56,-328.69\"/>\n</g>\n<!-- \\(St0_St21\\) -->\n<g id=\"node2\" class=\"node\">\n<title>\\(St0_St21\\)</title>\n<ellipse fill=\"none\" stroke=\"black\" cx=\"1028.69\" cy=\"-587.19\" rx=\"48.99\" ry=\"48.99\"/>\n<text text-anchor=\"middle\" x=\"1028.69\" y=\"-583.49\" font-family=\"Times,serif\" font-size=\"14.00\">(St0_St21)</text>\n</g>\n<!-- \\(St0_St1\\) -->\n<g id=\"node14\" class=\"node\">\n<title>\\(St0_St1\\)</title>\n<ellipse fill=\"none\" stroke=\"black\" cx=\"1617.66\" cy=\"-362.19\" rx=\"44.39\" ry=\"44.39\"/>\n<text text-anchor=\"middle\" x=\"1617.66\" y=\"-358.49\" font-family=\"Times,serif\" font-size=\"14.00\">(St0_St1)</text>\n</g>\n<!-- \\(St0_St21\\)&#45;&gt;\\(St0_St1\\) -->\n<g id=\"edge5\" class=\"edge\">\n<title>\\(St0_St21\\)&#45;&gt;\\(St0_St1\\)</title>\n<path fill=\"none\" stroke=\"black\" d=\"M1077.79,-588.5C1176.45,-588.69 1404.45,-576.06 1546.91,-464.19 1557.46,-455.9 1574.34,-431.38 1588.85,-408.46\"/>\n<polygon fill=\"black\" stroke=\"black\" points=\"1591.94,-410.12 1594.28,-399.79 1586.01,-406.41 1591.94,-410.12\"/>\n<text text-anchor=\"middle\" x=\"1325.68\" y=\"-575.99\" font-family=\"Times,serif\" font-size=\"14.00\">a </text>\n</g>\n<!-- \\(St6_St16\\) -->\n<g id=\"node19\" class=\"node\">\n<title>\\(St6_St16\\)</title>\n<ellipse fill=\"none\" stroke=\"black\" cx=\"1177.19\" cy=\"-745.19\" rx=\"48.97\" ry=\"48.97\"/>\n<ellipse fill=\"none\" stroke=\"black\" cx=\"1177.19\" cy=\"-745.19\" rx=\"52.99\" ry=\"52.99\"/>\n<text text-anchor=\"middle\" x=\"1177.19\" y=\"-741.49\" font-family=\"Times,serif\" font-size=\"14.00\">(St6_St16)</text>\n</g>\n<!-- \\(St0_St21\\)&#45;&gt;\\(St6_St16\\) -->\n<g id=\"edge6\" class=\"edge\">\n<title>\\(St0_St21\\)&#45;&gt;\\(St6_St16\\)</title>\n<path fill=\"none\" stroke=\"black\" d=\"M1074.27,-605.13C1085.6,-611.04 1097.17,-618.4 1106.44,-627.19 1124.5,-644.31 1139.44,-667.13 1150.8,-688.14\"/>\n<polygon fill=\"black\" stroke=\"black\" points=\"1147.7,-689.77 1155.45,-697.01 1153.91,-686.52 1147.7,-689.77\"/>\n<text text-anchor=\"middle\" x=\"1100.94\" y=\"-630.99\" font-family=\"Times,serif\" font-size=\"14.00\">b </text>\n</g>\n<!-- \\(St0_St3\\) -->\n<g id=\"node3\" class=\"node\">\n<title>\\(St0_St3\\)</title>\n<ellipse fill=\"none\" stroke=\"black\" cx=\"580.22\" cy=\"-45.19\" rx=\"44.39\" ry=\"44.39\"/>\n<text text-anchor=\"middle\" x=\"580.22\" y=\"-41.49\" font-family=\"Times,serif\" font-size=\"14.00\">(St0_St3)</text>\n</g>\n<!-- \\(St0_St3\\)&#45;&gt;\\(St0_St1\\) -->\n<g id=\"edge47\" class=\"edge\">\n<title>\\(St0_St3\\)&#45;&gt;\\(St0_St1\\)</title>\n<path fill=\"none\" stroke=\"black\" d=\"M624.48,-44.29C653.65,-43.76 692.99,-43.19 727.71,-43.19 727.71,-43.19 727.71,-43.19 1470.17,-43.19 1492.28,-43.19 1501.42,-42.46 1517.91,-57.19 1589.97,-121.55 1609.71,-238.86 1614.95,-307.72\"/>\n<polygon fill=\"black\" stroke=\"black\" points=\"1611.47,-308.19 1615.65,-317.93 1618.46,-307.72 1611.47,-308.19\"/>\n<text text-anchor=\"middle\" x=\"1100.94\" y=\"-46.99\" font-family=\"Times,serif\" font-size=\"14.00\">a </text>\n</g>\n<!-- \\(St6_St25\\) -->\n<g id=\"node22\" class=\"node\">\n<title>\\(St6_St25\\)</title>\n<ellipse fill=\"none\" stroke=\"black\" cx=\"728.71\" cy=\"-127.19\" rx=\"48.97\" ry=\"48.97\"/>\n<ellipse fill=\"none\" stroke=\"black\" cx=\"728.71\" cy=\"-127.19\" rx=\"52.99\" ry=\"52.99\"/>\n<text text-anchor=\"middle\" x=\"728.71\" y=\"-123.49\" font-family=\"Times,serif\" font-size=\"14.00\">(St6_St25)</text>\n</g>\n<!-- \\(St0_St3\\)&#45;&gt;\\(St6_St25\\) -->\n<g id=\"edge2\" class=\"edge\">\n<title>\\(St0_St3\\)&#45;&gt;\\(St6_St25\\)</title>\n<path fill=\"none\" stroke=\"black\" d=\"M619.33,-66.52C635.71,-75.69 655.18,-86.59 673.06,-96.59\"/>\n<polygon fill=\"black\" stroke=\"black\" points=\"671.8,-99.9 682.24,-101.73 675.22,-93.79 671.8,-99.9\"/>\n<text text-anchor=\"middle\" x=\"652.47\" y=\"-89.99\" font-family=\"Times,serif\" font-size=\"14.00\">b </text>\n</g>\n<!-- \\(St0_St17\\) -->\n<g id=\"node4\" class=\"node\">\n<title>\\(St0_St17\\)</title>\n<ellipse fill=\"none\" stroke=\"black\" cx=\"580.22\" cy=\"-680.19\" rx=\"48.99\" ry=\"48.99\"/>\n<text text-anchor=\"middle\" x=\"580.22\" y=\"-676.49\" font-family=\"Times,serif\" font-size=\"14.00\">(St0_St17)</text>\n</g>\n<!-- \\(St0_St31\\) -->\n<g id=\"node5\" class=\"node\">\n<title>\\(St0_St31\\)</title>\n<ellipse fill=\"none\" stroke=\"black\" cx=\"1469.17\" cy=\"-678.19\" rx=\"48.99\" ry=\"48.99\"/>\n<text text-anchor=\"middle\" x=\"1469.17\" y=\"-674.49\" font-family=\"Times,serif\" font-size=\"14.00\">(St0_St31)</text>\n</g>\n<!-- \\(St0_St17\\)&#45;&gt;\\(St0_St31\\) -->\n<g id=\"edge48\" class=\"edge\">\n<title>\\(St0_St17\\)&#45;&gt;\\(St0_St31\\)</title>\n<path fill=\"none\" stroke=\"black\" d=\"M626.91,-694.48C655.57,-702.21 693.44,-710.19 727.71,-710.19 727.71,-710.19 727.71,-710.19 957.45,-710.19 1032.63,-710.19 1049.54,-689.75 1124.44,-683.19 1224.53,-674.41 1341.64,-675.02 1410.09,-676.46\"/>\n<polygon fill=\"black\" stroke=\"black\" points=\"1410.16,-679.96 1420.23,-676.69 1410.32,-672.96 1410.16,-679.96\"/>\n<text text-anchor=\"middle\" x=\"1028.69\" y=\"-712.99\" font-family=\"Times,serif\" font-size=\"14.00\">a </text>\n</g>\n<!-- \\(St6_St12\\) -->\n<g id=\"node25\" class=\"node\">\n<title>\\(St6_St12\\)</title>\n<ellipse fill=\"none\" stroke=\"black\" cx=\"728.71\" cy=\"-517.19\" rx=\"48.97\" ry=\"48.97\"/>\n<ellipse fill=\"none\" stroke=\"black\" cx=\"728.71\" cy=\"-517.19\" rx=\"52.99\" ry=\"52.99\"/>\n<text text-anchor=\"middle\" x=\"728.71\" y=\"-513.49\" font-family=\"Times,serif\" font-size=\"14.00\">(St6_St12)</text>\n</g>\n<!-- \\(St0_St17\\)&#45;&gt;\\(St6_St12\\) -->\n<g id=\"edge32\" class=\"edge\">\n<title>\\(St0_St17\\)&#45;&gt;\\(St6_St12\\)</title>\n<path fill=\"none\" stroke=\"black\" d=\"M613.37,-644.42C634.66,-620.72 662.81,-589.4 685.85,-563.77\"/>\n<polygon fill=\"black\" stroke=\"black\" points=\"688.74,-565.78 692.82,-556.01 683.54,-561.11 688.74,-565.78\"/>\n<text text-anchor=\"middle\" x=\"652.47\" y=\"-607.99\" font-family=\"Times,serif\" font-size=\"14.00\">b </text>\n</g>\n<!-- \\(St0_St31\\)&#45;&gt;\\(St0_St1\\) -->\n<g id=\"edge16\" class=\"edge\">\n<title>\\(St0_St31\\)&#45;&gt;\\(St0_St1\\)</title>\n<path fill=\"none\" stroke=\"black\" d=\"M1492.51,-635.11C1508.9,-602.47 1530.98,-556.22 1546.91,-514.19 1556.93,-487.76 1553.85,-479.2 1564.91,-453.19 1571.33,-438.1 1579.65,-422.34 1587.74,-408.26\"/>\n<polygon fill=\"black\" stroke=\"black\" points=\"1590.97,-409.67 1593,-399.27 1584.93,-406.13 1590.97,-409.67\"/>\n<text text-anchor=\"middle\" x=\"1541.41\" y=\"-540.99\" font-family=\"Times,serif\" font-size=\"14.00\">a </text>\n</g>\n<!-- \\(St6_St21\\) -->\n<g id=\"node20\" class=\"node\">\n<title>\\(St6_St21\\)</title>\n<ellipse fill=\"none\" stroke=\"black\" cx=\"1617.66\" cy=\"-619.19\" rx=\"48.97\" ry=\"48.97\"/>\n<ellipse fill=\"none\" stroke=\"black\" cx=\"1617.66\" cy=\"-619.19\" rx=\"52.99\" ry=\"52.99\"/>\n<text text-anchor=\"middle\" x=\"1617.66\" y=\"-615.49\" font-family=\"Times,serif\" font-size=\"14.00\">(St6_St21)</text>\n</g>\n<!-- \\(St0_St31\\)&#45;&gt;\\(St6_St21\\) -->\n<g id=\"edge44\" class=\"edge\">\n<title>\\(St0_St31\\)&#45;&gt;\\(St6_St21\\)</title>\n<path fill=\"none\" stroke=\"black\" d=\"M1514.92,-660.16C1528.79,-654.58 1544.28,-648.34 1558.9,-642.45\"/>\n<polygon fill=\"black\" stroke=\"black\" points=\"1560.4,-645.62 1568.37,-638.64 1557.78,-639.13 1560.4,-645.62\"/>\n<text text-anchor=\"middle\" x=\"1541.41\" y=\"-654.99\" font-family=\"Times,serif\" font-size=\"14.00\">b </text>\n</g>\n<!-- \\(St0_St16\\) -->\n<g id=\"node6\" class=\"node\">\n<title>\\(St0_St16\\)</title>\n<ellipse fill=\"none\" stroke=\"black\" cx=\"580.22\" cy=\"-322.19\" rx=\"48.99\" ry=\"48.99\"/>\n<text text-anchor=\"middle\" x=\"580.22\" y=\"-318.49\" font-family=\"Times,serif\" font-size=\"14.00\">(St0_St16)</text>\n</g>\n<!-- \\(St0_St16\\)&#45;&gt;\\(St0_St1\\) -->\n<g id=\"edge37\" class=\"edge\">\n<title>\\(St0_St16\\)&#45;&gt;\\(St0_St1\\)</title>\n<path fill=\"none\" stroke=\"black\" d=\"M629.05,-321.2C657.67,-320.7 694.77,-320.19 727.71,-320.19 727.71,-320.19 727.71,-320.19 957.45,-320.19 1018.97,-320.19 1034.06,-326.92 1095.44,-331.19 1266.28,-343.08 1468.82,-354.3 1563.24,-359.37\"/>\n<polygon fill=\"black\" stroke=\"black\" points=\"1563.22,-362.87 1573.39,-359.91 1563.6,-355.88 1563.22,-362.87\"/>\n<text text-anchor=\"middle\" x=\"1100.94\" y=\"-335.99\" font-family=\"Times,serif\" font-size=\"14.00\">a </text>\n</g>\n<!-- \\(St0_St16\\)&#45;&gt;\\(St6_St12\\) -->\n<g id=\"edge39\" class=\"edge\">\n<title>\\(St0_St16\\)&#45;&gt;\\(St6_St12\\)</title>\n<path fill=\"none\" stroke=\"black\" d=\"M607.17,-362.89C618.91,-380.76 633.21,-401.82 646.97,-420.19 659.38,-436.77 673.63,-454.33 686.68,-469.89\"/>\n<polygon fill=\"black\" stroke=\"black\" points=\"684.25,-472.43 693.37,-477.82 689.6,-467.92 684.25,-472.43\"/>\n<text text-anchor=\"middle\" x=\"652.47\" y=\"-437.99\" font-family=\"Times,serif\" font-size=\"14.00\">b </text>\n</g>\n<!-- \\(St0_St37\\) -->\n<g id=\"node9\" class=\"node\">\n<title>\\(St0_St37\\)</title>\n<ellipse fill=\"none\" stroke=\"black\" cx=\"283.24\" cy=\"-263.19\" rx=\"48.99\" ry=\"48.99\"/>\n<text text-anchor=\"middle\" x=\"283.24\" y=\"-259.49\" font-family=\"Times,serif\" font-size=\"14.00\">(St0_St37)</text>\n</g>\n<!-- \\(St0_St38\\)&#45;&gt;\\(St0_St37\\) -->\n<g id=\"edge29\" class=\"edge\">\n<title>\\(St0_St38\\)&#45;&gt;\\(St0_St37\\)</title>\n<path fill=\"none\" stroke=\"black\" d=\"M184.74,-305.91C198.71,-299.79 214.32,-292.95 228.88,-286.57\"/>\n<polygon fill=\"black\" stroke=\"black\" points=\"230.52,-289.67 238.27,-282.45 227.71,-283.26 230.52,-289.67\"/>\n<text text-anchor=\"middle\" x=\"211.49\" y=\"-299.99\" font-family=\"Times,serif\" font-size=\"14.00\">a </text>\n</g>\n<!-- \\(St6_St27\\) -->\n<g id=\"node16\" class=\"node\">\n<title>\\(St6_St27\\)</title>\n<ellipse fill=\"none\" stroke=\"black\" cx=\"431.73\" cy=\"-401.19\" rx=\"48.97\" ry=\"48.97\"/>\n<ellipse fill=\"none\" stroke=\"black\" cx=\"431.73\" cy=\"-401.19\" rx=\"52.99\" ry=\"52.99\"/>\n<text text-anchor=\"middle\" x=\"431.73\" y=\"-397.49\" font-family=\"Times,serif\" font-size=\"14.00\">(St6_St27)</text>\n</g>\n<!-- \\(St0_St38\\)&#45;&gt;\\(St6_St27\\) -->\n<g id=\"edge9\" class=\"edge\">\n<title>\\(St0_St38\\)&#45;&gt;\\(St6_St27\\)</title>\n<path fill=\"none\" stroke=\"black\" d=\"M187.01,-337.31C236.69,-350.33 315.81,-371.07 370.35,-385.36\"/>\n<polygon fill=\"black\" stroke=\"black\" points=\"369.68,-388.81 380.24,-387.95 371.45,-382.03 369.68,-388.81\"/>\n<text text-anchor=\"middle\" x=\"283.24\" y=\"-378.99\" font-family=\"Times,serif\" font-size=\"14.00\">b </text>\n</g>\n<!-- \\(St0_St7\\) -->\n<g id=\"node8\" class=\"node\">\n<title>\\(St0_St7\\)</title>\n<ellipse fill=\"none\" stroke=\"black\" cx=\"1617.66\" cy=\"-64.19\" rx=\"44.39\" ry=\"44.39\"/>\n<text text-anchor=\"middle\" x=\"1617.66\" y=\"-60.49\" font-family=\"Times,serif\" font-size=\"14.00\">(St0_St7)</text>\n</g>\n<!-- \\(St0_St7\\)&#45;&gt;\\(St0_St3\\) -->\n<g id=\"edge25\" class=\"edge\">\n<title>\\(St0_St7\\)&#45;&gt;\\(St0_St3\\)</title>\n<path fill=\"none\" stroke=\"black\" d=\"M1578.31,-43.79C1568.3,-39.09 1557.38,-34.51 1546.91,-31.19 1483.06,-10.9 1465.42,-5.19 1398.42,-5.19 727.71,-5.19 727.71,-5.19 727.71,-5.19 694.58,-5.19 658.67,-14.83 630.7,-24.64\"/>\n<polygon fill=\"black\" stroke=\"black\" points=\"629.36,-21.41 621.15,-28.11 631.74,-27.99 629.36,-21.41\"/>\n<text text-anchor=\"middle\" x=\"1100.94\" y=\"-8.99\" font-family=\"Times,serif\" font-size=\"14.00\">a </text>\n</g>\n<!-- \\(St6_St1\\) -->\n<g id=\"node10\" class=\"node\">\n<title>\\(St6_St1\\)</title>\n<ellipse fill=\"none\" stroke=\"black\" cx=\"1761.6\" cy=\"-465.19\" rx=\"44.39\" ry=\"44.39\"/>\n<text text-anchor=\"middle\" x=\"1761.6\" y=\"-461.49\" font-family=\"Times,serif\" font-size=\"14.00\">(St6_St1)</text>\n</g>\n<!-- \\(St0_St7\\)&#45;&gt;\\(St6_St1\\) -->\n<g id=\"edge50\" class=\"edge\">\n<title>\\(St0_St7\\)&#45;&gt;\\(St6_St1\\)</title>\n<path fill=\"none\" stroke=\"black\" d=\"M1660.03,-77.5C1674.6,-84.19 1689.74,-93.8 1699.4,-107.19 1733.85,-154.89 1750.59,-323.27 1757.14,-411.05\"/>\n<polygon fill=\"black\" stroke=\"black\" points=\"1753.65,-411.37 1757.87,-421.09 1760.64,-410.86 1753.65,-411.37\"/>\n<text text-anchor=\"middle\" x=\"1693.9\" y=\"-110.99\" font-family=\"Times,serif\" font-size=\"14.00\">b </text>\n</g>\n<!-- \\(St0_St8\\) -->\n<g id=\"node11\" class=\"node\">\n<title>\\(St0_St8\\)</title>\n<ellipse fill=\"none\" stroke=\"black\" cx=\"431.73\" cy=\"-127.19\" rx=\"44.39\" ry=\"44.39\"/>\n<text text-anchor=\"middle\" x=\"431.73\" y=\"-123.49\" font-family=\"Times,serif\" font-size=\"14.00\">(St0_St8)</text>\n</g>\n<!-- \\(St0_St37\\)&#45;&gt;\\(St0_St8\\) -->\n<g id=\"edge31\" class=\"edge\">\n<title>\\(St0_St37\\)&#45;&gt;\\(St0_St8\\)</title>\n<path fill=\"none\" stroke=\"black\" d=\"M319.7,-230.27C341.3,-210.21 368.95,-184.54 391.25,-163.84\"/>\n<polygon fill=\"black\" stroke=\"black\" points=\"393.64,-166.39 398.59,-157.02 388.88,-161.26 393.64,-166.39\"/>\n<text text-anchor=\"middle\" x=\"355.48\" y=\"-203.99\" font-family=\"Times,serif\" font-size=\"14.00\">a </text>\n</g>\n<!-- \\(St6_St26\\) -->\n<g id=\"node21\" class=\"node\">\n<title>\\(St6_St26\\)</title>\n<ellipse fill=\"none\" stroke=\"black\" cx=\"431.73\" cy=\"-263.19\" rx=\"48.97\" ry=\"48.97\"/>\n<ellipse fill=\"none\" stroke=\"black\" cx=\"431.73\" cy=\"-263.19\" rx=\"52.99\" ry=\"52.99\"/>\n<text text-anchor=\"middle\" x=\"431.73\" y=\"-259.49\" font-family=\"Times,serif\" font-size=\"14.00\">(St6_St26)</text>\n</g>\n<!-- \\(St0_St37\\)&#45;&gt;\\(St6_St26\\) -->\n<g id=\"edge41\" class=\"edge\">\n<title>\\(St0_St37\\)&#45;&gt;\\(St6_St26\\)</title>\n<path fill=\"none\" stroke=\"black\" d=\"M332.2,-263.19C343.87,-263.19 356.52,-263.19 368.73,-263.19\"/>\n<polygon fill=\"black\" stroke=\"black\" points=\"368.87,-266.69 378.87,-263.19 368.87,-259.69 368.87,-266.69\"/>\n<text text-anchor=\"middle\" x=\"355.48\" y=\"-266.99\" font-family=\"Times,serif\" font-size=\"14.00\">b </text>\n</g>\n<!-- \\(St6_St1\\)&#45;&gt;\\(St6_St1\\) -->\n<g id=\"edge35\" class=\"edge\">\n<title>\\(St6_St1\\)&#45;&gt;\\(St6_St1\\)</title>\n<path fill=\"none\" stroke=\"black\" d=\"M1749.35,-507.92C1750.11,-519.02 1754.19,-527.38 1761.6,-527.38 1766.58,-527.38 1770.06,-523.61 1772.03,-517.76\"/>\n<polygon fill=\"black\" stroke=\"black\" points=\"1775.48,-518.39 1773.85,-507.92 1768.59,-517.12 1775.48,-518.39\"/>\n<text text-anchor=\"middle\" x=\"1761.6\" y=\"-531.18\" font-family=\"Times,serif\" font-size=\"14.00\">a </text>\n</g>\n<!-- \\(St6_St1\\)&#45;&gt;\\(St0_St1\\) -->\n<g id=\"edge24\" class=\"edge\">\n<title>\\(St6_St1\\)&#45;&gt;\\(St0_St1\\)</title>\n<path fill=\"none\" stroke=\"black\" d=\"M1725.11,-439.43C1706.05,-425.6 1682.39,-408.44 1662.23,-393.8\"/>\n<polygon fill=\"black\" stroke=\"black\" points=\"1664.26,-390.95 1654.11,-387.91 1660.15,-396.62 1664.26,-390.95\"/>\n<text text-anchor=\"middle\" x=\"1693.9\" y=\"-423.99\" font-family=\"Times,serif\" font-size=\"14.00\">b </text>\n</g>\n<!-- \\(St0_St8\\)&#45;&gt;\\(St0_St3\\) -->\n<g id=\"edge26\" class=\"edge\">\n<title>\\(St0_St8\\)&#45;&gt;\\(St0_St3\\)</title>\n<path fill=\"none\" stroke=\"black\" d=\"M470.83,-105.86C489.65,-95.32 512.53,-82.52 532.41,-71.39\"/>\n<polygon fill=\"black\" stroke=\"black\" points=\"534.29,-74.35 541.3,-66.41 530.87,-68.24 534.29,-74.35\"/>\n<text text-anchor=\"middle\" x=\"507.97\" y=\"-89.99\" font-family=\"Times,serif\" font-size=\"14.00\">a </text>\n</g>\n<!-- \\(St0_St8\\)&#45;&gt;\\(St6_St25\\) -->\n<g id=\"edge36\" class=\"edge\">\n<title>\\(St0_St8\\)&#45;&gt;\\(St6_St25\\)</title>\n<path fill=\"none\" stroke=\"black\" d=\"M475.94,-127.19C525.95,-127.19 608.73,-127.19 665.63,-127.19\"/>\n<polygon fill=\"black\" stroke=\"black\" points=\"665.94,-130.69 675.94,-127.19 665.94,-123.69 665.94,-130.69\"/>\n<text text-anchor=\"middle\" x=\"580.22\" y=\"-130.99\" font-family=\"Times,serif\" font-size=\"14.00\">b </text>\n</g>\n<!-- \\(St0_St25\\) -->\n<g id=\"node12\" class=\"node\">\n<title>\\(St0_St25\\)</title>\n<ellipse fill=\"none\" stroke=\"black\" cx=\"1325.68\" cy=\"-216.19\" rx=\"48.99\" ry=\"48.99\"/>\n<text text-anchor=\"middle\" x=\"1325.68\" y=\"-212.49\" font-family=\"Times,serif\" font-size=\"14.00\">(St0_St25)</text>\n</g>\n<!-- \\(St0_St25\\)&#45;&gt;\\(St6_St1\\) -->\n<g id=\"edge17\" class=\"edge\">\n<title>\\(St0_St25\\)&#45;&gt;\\(St6_St1\\)</title>\n<path fill=\"none\" stroke=\"black\" d=\"M1362.91,-184.45C1407.51,-149.46 1484.97,-102.09 1546.91,-134.19 1657.71,-191.61 1719.12,-335.3 1745.26,-413.14\"/>\n<polygon fill=\"black\" stroke=\"black\" points=\"1741.97,-414.34 1748.42,-422.75 1748.62,-412.16 1741.97,-414.34\"/>\n<text text-anchor=\"middle\" x=\"1541.41\" y=\"-137.99\" font-family=\"Times,serif\" font-size=\"14.00\">b </text>\n</g>\n<!-- \\(St0_St35\\) -->\n<g id=\"node15\" class=\"node\">\n<title>\\(St0_St35\\)</title>\n<ellipse fill=\"none\" stroke=\"black\" cx=\"1469.17\" cy=\"-247.19\" rx=\"48.99\" ry=\"48.99\"/>\n<text text-anchor=\"middle\" x=\"1469.17\" y=\"-243.49\" font-family=\"Times,serif\" font-size=\"14.00\">(St0_St35)</text>\n</g>\n<!-- \\(St0_St25\\)&#45;&gt;\\(St0_St35\\) -->\n<g id=\"edge7\" class=\"edge\">\n<title>\\(St0_St25\\)&#45;&gt;\\(St0_St35\\)</title>\n<path fill=\"none\" stroke=\"black\" d=\"M1373.4,-226.42C1385.59,-229.1 1398.87,-232 1411.52,-234.78\"/>\n<polygon fill=\"black\" stroke=\"black\" points=\"1410.98,-238.24 1421.5,-236.96 1412.48,-231.4 1410.98,-238.24\"/>\n<text text-anchor=\"middle\" x=\"1397.42\" y=\"-236.99\" font-family=\"Times,serif\" font-size=\"14.00\">a </text>\n</g>\n<!-- \\(St0_St12\\) -->\n<g id=\"node13\" class=\"node\">\n<title>\\(St0_St12\\)</title>\n<ellipse fill=\"none\" stroke=\"black\" cx=\"1325.68\" cy=\"-741.19\" rx=\"48.99\" ry=\"48.99\"/>\n<text text-anchor=\"middle\" x=\"1325.68\" y=\"-737.49\" font-family=\"Times,serif\" font-size=\"14.00\">(St0_St12)</text>\n</g>\n<!-- \\(St0_St12\\)&#45;&gt;\\(St0_St31\\) -->\n<g id=\"edge51\" class=\"edge\">\n<title>\\(St0_St12\\)&#45;&gt;\\(St0_St31\\)</title>\n<path fill=\"none\" stroke=\"black\" d=\"M1370.67,-721.6C1384.64,-715.38 1400.25,-708.43 1414.81,-701.94\"/>\n<polygon fill=\"black\" stroke=\"black\" points=\"1416.49,-705.03 1424.2,-697.76 1413.64,-698.63 1416.49,-705.03\"/>\n<text text-anchor=\"middle\" x=\"1397.42\" y=\"-714.99\" font-family=\"Times,serif\" font-size=\"14.00\">a </text>\n</g>\n<!-- \\(St0_St12\\)&#45;&gt;\\(St6_St1\\) -->\n<g id=\"edge22\" class=\"edge\">\n<title>\\(St0_St12\\)&#45;&gt;\\(St6_St1\\)</title>\n<path fill=\"none\" stroke=\"black\" d=\"M1374.09,-747.89C1447.81,-755.42 1589.78,-757.93 1670.4,-681.19 1716.16,-637.64 1739.61,-567.34 1750.96,-518.83\"/>\n<polygon fill=\"black\" stroke=\"black\" points=\"1754.43,-519.35 1753.21,-508.83 1747.6,-517.82 1754.43,-519.35\"/>\n<text text-anchor=\"middle\" x=\"1541.41\" y=\"-746.99\" font-family=\"Times,serif\" font-size=\"14.00\">b </text>\n</g>\n<!-- \\(St0_St1\\)&#45;&gt;\\(St6_St1\\) -->\n<g id=\"edge3\" class=\"edge\">\n<title>\\(St0_St1\\)&#45;&gt;\\(St6_St1\\)</title>\n<path fill=\"none\" stroke=\"black\" d=\"M1660.98,-372.66C1674.02,-377.09 1687.95,-383.14 1699.4,-391.19 1710.71,-399.13 1721.11,-409.68 1730,-420.33\"/>\n<polygon fill=\"black\" stroke=\"black\" points=\"1727.52,-422.82 1736.5,-428.44 1732.98,-418.45 1727.52,-422.82\"/>\n<text text-anchor=\"middle\" x=\"1693.9\" y=\"-394.99\" font-family=\"Times,serif\" font-size=\"14.00\">b </text>\n</g>\n<!-- \\(St0_St1\\)&#45;&gt;\\(St0_St1\\) -->\n<g id=\"edge8\" class=\"edge\">\n<title>\\(St0_St1\\)&#45;&gt;\\(St0_St1\\)</title>\n<path fill=\"none\" stroke=\"black\" d=\"M1603.51,-404.34C1604.26,-415.72 1608.98,-424.38 1617.66,-424.38 1623.49,-424.38 1627.54,-420.47 1629.79,-414.46\"/>\n<polygon fill=\"black\" stroke=\"black\" points=\"1633.28,-414.83 1631.8,-404.34 1626.42,-413.46 1633.28,-414.83\"/>\n<text text-anchor=\"middle\" x=\"1617.66\" y=\"-428.18\" font-family=\"Times,serif\" font-size=\"14.00\">a </text>\n</g>\n<!-- \\(St0_St35\\)&#45;&gt;\\(St0_St7\\) -->\n<g id=\"edge18\" class=\"edge\">\n<title>\\(St0_St35\\)&#45;&gt;\\(St0_St7\\)</title>\n<path fill=\"none\" stroke=\"black\" d=\"M1500.96,-209.82C1515.05,-192.63 1531.91,-171.94 1546.91,-153.19 1558.92,-138.18 1571.93,-121.64 1583.44,-106.93\"/>\n<polygon fill=\"black\" stroke=\"black\" points=\"1586.26,-109.01 1589.66,-98.97 1580.74,-104.7 1586.26,-109.01\"/>\n<text text-anchor=\"middle\" x=\"1541.41\" y=\"-169.99\" font-family=\"Times,serif\" font-size=\"14.00\">a </text>\n</g>\n<!-- \\(St0_St35\\)&#45;&gt;\\(St6_St1\\) -->\n<g id=\"edge43\" class=\"edge\">\n<title>\\(St0_St35\\)&#45;&gt;\\(St6_St1\\)</title>\n<path fill=\"none\" stroke=\"black\" d=\"M1478.68,-295.46C1489.77,-342.77 1514.11,-412.79 1564.91,-448.19 1606.4,-477.09 1665.48,-478.22 1707.85,-474.04\"/>\n<polygon fill=\"black\" stroke=\"black\" points=\"1708.42,-477.5 1717.97,-472.92 1707.64,-470.55 1708.42,-477.5\"/>\n<text text-anchor=\"middle\" x=\"1617.66\" y=\"-479.99\" font-family=\"Times,serif\" font-size=\"14.00\">b </text>\n</g>\n<!-- \\(St6_St27\\)&#45;&gt;\\(St0_St17\\) -->\n<g id=\"edge12\" class=\"edge\">\n<title>\\(St6_St27\\)&#45;&gt;\\(St0_St17\\)</title>\n<path fill=\"none\" stroke=\"black\" d=\"M457.08,-447.57C483.25,-497.42 524.75,-576.45 551.99,-628.32\"/>\n<polygon fill=\"black\" stroke=\"black\" points=\"548.98,-630.13 556.73,-637.36 555.18,-626.88 548.98,-630.13\"/>\n<text text-anchor=\"middle\" x=\"507.97\" y=\"-552.99\" font-family=\"Times,serif\" font-size=\"14.00\">b </text>\n</g>\n<!-- \\(St6_St36\\) -->\n<g id=\"node24\" class=\"node\">\n<title>\\(St6_St36\\)</title>\n<ellipse fill=\"none\" stroke=\"black\" cx=\"880.2\" cy=\"-401.19\" rx=\"48.97\" ry=\"48.97\"/>\n<ellipse fill=\"none\" stroke=\"black\" cx=\"880.2\" cy=\"-401.19\" rx=\"52.99\" ry=\"52.99\"/>\n<text text-anchor=\"middle\" x=\"880.2\" y=\"-397.49\" font-family=\"Times,serif\" font-size=\"14.00\">(St6_St36)</text>\n</g>\n<!-- \\(St6_St27\\)&#45;&gt;\\(St6_St36\\) -->\n<g id=\"edge40\" class=\"edge\">\n<title>\\(St6_St27\\)&#45;&gt;\\(St6_St36\\)</title>\n<path fill=\"none\" stroke=\"black\" d=\"M484.82,-401.19C567.57,-401.19 728.75,-401.19 817.28,-401.19\"/>\n<polygon fill=\"black\" stroke=\"black\" points=\"817.44,-404.69 827.44,-401.19 817.44,-397.69 817.44,-404.69\"/>\n<text text-anchor=\"middle\" x=\"652.47\" y=\"-404.99\" font-family=\"Times,serif\" font-size=\"14.00\">a </text>\n</g>\n<!-- \\(St6_St3\\) -->\n<g id=\"node17\" class=\"node\">\n<title>\\(St6_St3\\)</title>\n<ellipse fill=\"none\" stroke=\"black\" cx=\"1177.19\" cy=\"-216.19\" rx=\"44.38\" ry=\"44.38\"/>\n<ellipse fill=\"none\" stroke=\"black\" cx=\"1177.19\" cy=\"-216.19\" rx=\"48.39\" ry=\"48.39\"/>\n<text text-anchor=\"middle\" x=\"1177.19\" y=\"-212.49\" font-family=\"Times,serif\" font-size=\"14.00\">(St6_St3)</text>\n</g>\n<!-- \\(St6_St3\\)&#45;&gt;\\(St6_St1\\) -->\n<g id=\"edge46\" class=\"edge\">\n<title>\\(St6_St3\\)&#45;&gt;\\(St6_St1\\)</title>\n<path fill=\"none\" stroke=\"black\" d=\"M1217.9,-189.73C1320.61,-122.83 1592.46,43.92 1670.4,-11.19 1734.92,-56.8 1753.54,-300.25 1758.71,-410.66\"/>\n<polygon fill=\"black\" stroke=\"black\" points=\"1755.22,-411.09 1759.17,-420.92 1762.22,-410.78 1755.22,-411.09\"/>\n<text text-anchor=\"middle\" x=\"1469.17\" y=\"-73.99\" font-family=\"Times,serif\" font-size=\"14.00\">a </text>\n</g>\n<!-- \\(St6_St3\\)&#45;&gt;\\(St0_St25\\) -->\n<g id=\"edge33\" class=\"edge\">\n<title>\\(St6_St3\\)&#45;&gt;\\(St0_St25\\)</title>\n<path fill=\"none\" stroke=\"black\" d=\"M1225.75,-216.19C1238.8,-216.19 1253.09,-216.19 1266.65,-216.19\"/>\n<polygon fill=\"black\" stroke=\"black\" points=\"1266.85,-219.69 1276.85,-216.19 1266.85,-212.69 1266.85,-219.69\"/>\n<text text-anchor=\"middle\" x=\"1253.43\" y=\"-219.99\" font-family=\"Times,serif\" font-size=\"14.00\">b </text>\n</g>\n<!-- \\(St6_St31\\) -->\n<g id=\"node18\" class=\"node\">\n<title>\\(St6_St31\\)</title>\n<ellipse fill=\"none\" stroke=\"black\" cx=\"880.2\" cy=\"-563.19\" rx=\"48.97\" ry=\"48.97\"/>\n<ellipse fill=\"none\" stroke=\"black\" cx=\"880.2\" cy=\"-563.19\" rx=\"52.99\" ry=\"52.99\"/>\n<text text-anchor=\"middle\" x=\"880.2\" y=\"-559.49\" font-family=\"Times,serif\" font-size=\"14.00\">(St6_St31)</text>\n</g>\n<!-- \\(St6_St31\\)&#45;&gt;\\(St0_St21\\) -->\n<g id=\"edge13\" class=\"edge\">\n<title>\\(St6_St31\\)&#45;&gt;\\(St0_St21\\)</title>\n<path fill=\"none\" stroke=\"black\" d=\"M932.44,-571.58C944.56,-573.57 957.56,-575.7 969.95,-577.73\"/>\n<polygon fill=\"black\" stroke=\"black\" points=\"969.74,-581.24 980.17,-579.4 970.87,-574.33 969.74,-581.24\"/>\n<text text-anchor=\"middle\" x=\"956.45\" y=\"-579.99\" font-family=\"Times,serif\" font-size=\"14.00\">b </text>\n</g>\n<!-- \\(St6_St31\\)&#45;&gt;\\(St6_St1\\) -->\n<g id=\"edge21\" class=\"edge\">\n<title>\\(St6_St31\\)&#45;&gt;\\(St6_St1\\)</title>\n<path fill=\"none\" stroke=\"black\" d=\"M929.43,-543.54C945.27,-537.91 963.12,-532.43 979.95,-529.19 1281.64,-471.04 1365.62,-533.98 1670.4,-495.19 1683.46,-493.53 1686.79,-492.94 1699.4,-489.19 1703.17,-488.07 1707.04,-486.81 1710.9,-485.48\"/>\n<polygon fill=\"black\" stroke=\"black\" points=\"1712.22,-488.73 1720.45,-482.05 1709.86,-482.14 1712.22,-488.73\"/>\n<text text-anchor=\"middle\" x=\"1325.68\" y=\"-510.99\" font-family=\"Times,serif\" font-size=\"14.00\">a </text>\n</g>\n<!-- \\(St6_St16\\)&#45;&gt;\\(St6_St1\\) -->\n<g id=\"edge20\" class=\"edge\">\n<title>\\(St6_St16\\)&#45;&gt;\\(St6_St1\\)</title>\n<path fill=\"none\" stroke=\"black\" d=\"M1218.79,-778.06C1246.82,-797.43 1285.89,-818.19 1324.68,-818.19 1324.68,-818.19 1324.68,-818.19 1618.66,-818.19 1682.38,-818.19 1730.67,-617.71 1750.6,-518.92\"/>\n<polygon fill=\"black\" stroke=\"black\" points=\"1754.09,-519.32 1752.61,-508.83 1747.22,-517.95 1754.09,-519.32\"/>\n<text text-anchor=\"middle\" x=\"1469.17\" y=\"-821.99\" font-family=\"Times,serif\" font-size=\"14.00\">a </text>\n</g>\n<!-- \\(St6_St16\\)&#45;&gt;\\(St0_St12\\) -->\n<g id=\"edge34\" class=\"edge\">\n<title>\\(St6_St16\\)&#45;&gt;\\(St0_St12\\)</title>\n<path fill=\"none\" stroke=\"black\" d=\"M1230.24,-743.77C1241.95,-743.45 1254.44,-743.11 1266.38,-742.78\"/>\n<polygon fill=\"black\" stroke=\"black\" points=\"1266.8,-746.27 1276.7,-742.5 1266.61,-739.27 1266.8,-746.27\"/>\n<text text-anchor=\"middle\" x=\"1253.43\" y=\"-746.99\" font-family=\"Times,serif\" font-size=\"14.00\">b </text>\n</g>\n<!-- \\(St6_St21\\)&#45;&gt;\\(St0_St16\\) -->\n<g id=\"edge27\" class=\"edge\">\n<title>\\(St6_St21\\)&#45;&gt;\\(St0_St16\\)</title>\n<path fill=\"none\" stroke=\"black\" d=\"M1564.58,-618.49C1525.02,-618.2 1469.27,-618.28 1420.42,-620.19 1157.07,-630.44 1085.07,-680.8 827.46,-625.19 758.68,-610.34 727.15,-627.47 675.97,-579.19 620.41,-526.78 597.27,-438.98 587.74,-380.82\"/>\n<polygon fill=\"black\" stroke=\"black\" points=\"591.16,-380.02 586.17,-370.68 584.24,-381.1 591.16,-380.02\"/>\n<text text-anchor=\"middle\" x=\"1100.94\" y=\"-653.99\" font-family=\"Times,serif\" font-size=\"14.00\">b </text>\n</g>\n<!-- \\(St6_St21\\)&#45;&gt;\\(St6_St1\\) -->\n<g id=\"edge11\" class=\"edge\">\n<title>\\(St6_St21\\)&#45;&gt;\\(St6_St1\\)</title>\n<path fill=\"none\" stroke=\"black\" d=\"M1660.37,-588.11C1673.52,-577.41 1687.67,-564.9 1699.4,-552.19 1711.02,-539.6 1722.26,-524.72 1731.86,-510.85\"/>\n<polygon fill=\"black\" stroke=\"black\" points=\"1734.89,-512.62 1737.61,-502.38 1729.1,-508.68 1734.89,-512.62\"/>\n<text text-anchor=\"middle\" x=\"1693.9\" y=\"-566.99\" font-family=\"Times,serif\" font-size=\"14.00\">a </text>\n</g>\n<!-- \\(St6_St26\\)&#45;&gt;\\(St0_St16\\) -->\n<g id=\"edge10\" class=\"edge\">\n<title>\\(St6_St26\\)&#45;&gt;\\(St0_St16\\)</title>\n<path fill=\"none\" stroke=\"black\" d=\"M481.1,-282.67C495.32,-288.4 510.96,-294.7 525.49,-300.55\"/>\n<polygon fill=\"black\" stroke=\"black\" points=\"524.27,-303.83 534.86,-304.32 526.89,-297.34 524.27,-303.83\"/>\n<text text-anchor=\"middle\" x=\"507.97\" y=\"-298.99\" font-family=\"Times,serif\" font-size=\"14.00\">b </text>\n</g>\n<!-- \\(St6_St35\\) -->\n<g id=\"node26\" class=\"node\">\n<title>\\(St6_St35\\)</title>\n<ellipse fill=\"none\" stroke=\"black\" cx=\"880.2\" cy=\"-239.19\" rx=\"48.97\" ry=\"48.97\"/>\n<ellipse fill=\"none\" stroke=\"black\" cx=\"880.2\" cy=\"-239.19\" rx=\"52.99\" ry=\"52.99\"/>\n<text text-anchor=\"middle\" x=\"880.2\" y=\"-235.49\" font-family=\"Times,serif\" font-size=\"14.00\">(St6_St35)</text>\n</g>\n<!-- \\(St6_St26\\)&#45;&gt;\\(St6_St35\\) -->\n<g id=\"edge23\" class=\"edge\">\n<title>\\(St6_St26\\)&#45;&gt;\\(St6_St35\\)</title>\n<path fill=\"none\" stroke=\"black\" d=\"M484.82,-260.39C567.57,-255.94 728.75,-247.27 817.28,-242.52\"/>\n<polygon fill=\"black\" stroke=\"black\" points=\"817.65,-246 827.44,-241.97 817.27,-239.01 817.65,-246\"/>\n<text text-anchor=\"middle\" x=\"652.47\" y=\"-255.99\" font-family=\"Times,serif\" font-size=\"14.00\">a </text>\n</g>\n<!-- \\(St6_St25\\)&#45;&gt;\\(St0_St1\\) -->\n<g id=\"edge28\" class=\"edge\">\n<title>\\(St6_St25\\)&#45;&gt;\\(St0_St1\\)</title>\n<path fill=\"none\" stroke=\"black\" d=\"M781.6,-127.19C810.36,-127.19 846.76,-127.19 879.2,-127.19 879.2,-127.19 879.2,-127.19 1326.68,-127.19 1427.78,-127.19 1471.25,-117.12 1546.91,-184.19 1556.93,-193.06 1582,-261.38 1599.18,-310.73\"/>\n<polygon fill=\"black\" stroke=\"black\" points=\"1595.93,-312.03 1602.51,-320.33 1602.54,-309.73 1595.93,-312.03\"/>\n<text text-anchor=\"middle\" x=\"1177.19\" y=\"-130.99\" font-family=\"Times,serif\" font-size=\"14.00\">b </text>\n</g>\n<!-- \\(St6_St25\\)&#45;&gt;\\(St6_St35\\) -->\n<g id=\"edge49\" class=\"edge\">\n<title>\\(St6_St25\\)&#45;&gt;\\(St6_St35\\)</title>\n<path fill=\"none\" stroke=\"black\" d=\"M771.35,-158.39C789.34,-171.86 810.53,-187.74 829.35,-201.83\"/>\n<polygon fill=\"black\" stroke=\"black\" points=\"827.42,-204.77 837.53,-207.96 831.62,-199.17 827.42,-204.77\"/>\n<text text-anchor=\"middle\" x=\"804.46\" y=\"-190.99\" font-family=\"Times,serif\" font-size=\"14.00\">a </text>\n</g>\n<!-- \\(St6_St7\\) -->\n<g id=\"node23\" class=\"node\">\n<title>\\(St6_St7\\)</title>\n<ellipse fill=\"none\" stroke=\"black\" cx=\"1028.69\" cy=\"-396.19\" rx=\"44.38\" ry=\"44.38\"/>\n<ellipse fill=\"none\" stroke=\"black\" cx=\"1028.69\" cy=\"-396.19\" rx=\"48.39\" ry=\"48.39\"/>\n<text text-anchor=\"middle\" x=\"1028.69\" y=\"-392.49\" font-family=\"Times,serif\" font-size=\"14.00\">(St6_St7)</text>\n</g>\n<!-- \\(St6_St7\\)&#45;&gt;\\(St0_St1\\) -->\n<g id=\"edge4\" class=\"edge\">\n<title>\\(St6_St7\\)&#45;&gt;\\(St0_St1\\)</title>\n<path fill=\"none\" stroke=\"black\" d=\"M1076.86,-398.13C1105.56,-399.15 1142.98,-400.19 1176.19,-400.19 1176.19,-400.19 1176.19,-400.19 1470.17,-400.19 1503.07,-400.19 1538.84,-391.09 1566.8,-381.8\"/>\n<polygon fill=\"black\" stroke=\"black\" points=\"1568.02,-385.08 1576.34,-378.52 1565.75,-378.46 1568.02,-385.08\"/>\n<text text-anchor=\"middle\" x=\"1325.68\" y=\"-403.99\" font-family=\"Times,serif\" font-size=\"14.00\">b </text>\n</g>\n<!-- \\(St6_St7\\)&#45;&gt;\\(St6_St3\\) -->\n<g id=\"edge14\" class=\"edge\">\n<title>\\(St6_St7\\)&#45;&gt;\\(St6_St3\\)</title>\n<path fill=\"none\" stroke=\"black\" d=\"M1060.05,-358.89C1083.2,-330.44 1115.19,-291.13 1139.73,-260.98\"/>\n<polygon fill=\"black\" stroke=\"black\" points=\"1142.52,-263.09 1146.12,-253.13 1137.1,-258.67 1142.52,-263.09\"/>\n<text text-anchor=\"middle\" x=\"1100.94\" y=\"-315.99\" font-family=\"Times,serif\" font-size=\"14.00\">a </text>\n</g>\n<!-- \\(St6_St36\\)&#45;&gt;\\(St0_St21\\) -->\n<g id=\"edge45\" class=\"edge\">\n<title>\\(St6_St36\\)&#45;&gt;\\(St0_St21\\)</title>\n<path fill=\"none\" stroke=\"black\" d=\"M913.71,-442.47C936.77,-471.74 967.73,-511.05 991.56,-541.31\"/>\n<polygon fill=\"black\" stroke=\"black\" points=\"988.83,-543.5 997.77,-549.19 994.33,-539.17 988.83,-543.5\"/>\n<text text-anchor=\"middle\" x=\"956.45\" y=\"-503.99\" font-family=\"Times,serif\" font-size=\"14.00\">b </text>\n</g>\n<!-- \\(St6_St36\\)&#45;&gt;\\(St6_St7\\) -->\n<g id=\"edge38\" class=\"edge\">\n<title>\\(St6_St36\\)&#45;&gt;\\(St6_St7\\)</title>\n<path fill=\"none\" stroke=\"black\" d=\"M933.26,-399.41C945.21,-399 957.99,-398.57 970.15,-398.15\"/>\n<polygon fill=\"black\" stroke=\"black\" points=\"970.32,-401.65 980.2,-397.81 970.09,-394.65 970.32,-401.65\"/>\n<text text-anchor=\"middle\" x=\"956.45\" y=\"-402.99\" font-family=\"Times,serif\" font-size=\"14.00\">a </text>\n</g>\n<!-- \\(St6_St12\\)&#45;&gt;\\(St0_St1\\) -->\n<g id=\"edge15\" class=\"edge\">\n<title>\\(St6_St12\\)&#45;&gt;\\(St0_St1\\)</title>\n<path fill=\"none\" stroke=\"black\" d=\"M780.89,-508.44C795.88,-505.98 812.31,-503.38 827.46,-501.19 1133.56,-456.86 1216.67,-484.31 1517.91,-414.19 1536.54,-409.85 1555.49,-401.13 1571.74,-392.04\"/>\n<polygon fill=\"black\" stroke=\"black\" points=\"1573.57,-395.03 1580.46,-386.99 1570.06,-388.97 1573.57,-395.03\"/>\n<text text-anchor=\"middle\" x=\"1177.19\" y=\"-474.99\" font-family=\"Times,serif\" font-size=\"14.00\">b </text>\n</g>\n<!-- \\(St6_St12\\)&#45;&gt;\\(St6_St31\\) -->\n<g id=\"edge30\" class=\"edge\">\n<title>\\(St6_St12\\)&#45;&gt;\\(St6_St31\\)</title>\n<path fill=\"none\" stroke=\"black\" d=\"M779.49,-532.5C792.48,-536.5 806.6,-540.85 820.02,-544.98\"/>\n<polygon fill=\"black\" stroke=\"black\" points=\"819.05,-548.34 829.64,-547.94 821.11,-541.65 819.05,-548.34\"/>\n<text text-anchor=\"middle\" x=\"804.46\" y=\"-545.99\" font-family=\"Times,serif\" font-size=\"14.00\">a </text>\n</g>\n<!-- \\(St6_St35\\)&#45;&gt;\\(St0_St1\\) -->\n<g id=\"edge19\" class=\"edge\">\n<title>\\(St6_St35\\)&#45;&gt;\\(St0_St1\\)</title>\n<path fill=\"none\" stroke=\"black\" d=\"M932.68,-246.97C1044.62,-264.04 1318.49,-306.58 1546.91,-348.19 1552.6,-349.22 1558.53,-350.35 1564.43,-351.49\"/>\n<polygon fill=\"black\" stroke=\"black\" points=\"1563.8,-354.94 1574.29,-353.43 1565.15,-348.07 1563.8,-354.94\"/>\n<text text-anchor=\"middle\" x=\"1253.43\" y=\"-301.99\" font-family=\"Times,serif\" font-size=\"14.00\">b </text>\n</g>\n<!-- \\(St6_St35\\)&#45;&gt;\\(St6_St7\\) -->\n<g id=\"edge42\" class=\"edge\">\n<title>\\(St6_St35\\)&#45;&gt;\\(St6_St7\\)</title>\n<path fill=\"none\" stroke=\"black\" d=\"M917.04,-277.59C938.59,-300.69 966.05,-330.13 988.23,-353.89\"/>\n<polygon fill=\"black\" stroke=\"black\" points=\"985.85,-356.47 995.23,-361.39 990.96,-351.69 985.85,-356.47\"/>\n<text text-anchor=\"middle\" x=\"956.45\" y=\"-326.99\" font-family=\"Times,serif\" font-size=\"14.00\">a </text>\n</g>\n</g>\n</svg>\n",
            "text/plain": [
              "<graphviz.graphs.Digraph at 0x79acb56c2980>"
            ]
          },
          "metadata": {},
          "execution_count": 62
        }
      ]
    },
    {
      "cell_type": "code",
      "source": [
        "# Uncomment for final run\n",
        "dotObj_dfa(D_int).render('D_int')"
      ],
      "metadata": {
        "id": "75HcH9W5oIVX"
      },
      "execution_count": null,
      "outputs": []
    },
    {
      "cell_type": "code",
      "source": [
        "# The student minimizes D_int\n",
        "\n",
        "min_D_int = min_dfa(D_int)"
      ],
      "metadata": {
        "id": "r4aGNVBlEYUU"
      },
      "execution_count": 63,
      "outputs": []
    },
    {
      "cell_type": "code",
      "source": [
        "# The student draws min_D_int\n",
        "\n",
        "dotObj_dfa(min_D_int)"
      ],
      "metadata": {
        "id": "bogL-yhkEYJC",
        "colab": {
          "base_uri": "https://localhost:8080/",
          "height": 1000
        },
        "outputId": "f4762f70-4d3f-45e5-e885-314b74166489"
      },
      "execution_count": 64,
      "outputs": [
        {
          "output_type": "execute_result",
          "data": {
            "image/svg+xml": "<?xml version=\"1.0\" encoding=\"UTF-8\" standalone=\"no\"?>\n<!DOCTYPE svg PUBLIC \"-//W3C//DTD SVG 1.1//EN\"\n \"http://www.w3.org/Graphics/SVG/1.1/DTD/svg11.dtd\">\n<!-- Generated by graphviz version 2.43.0 (0)\n -->\n<!-- Title: %3 Pages: 1 -->\n<svg width=\"1815pt\" height=\"918pt\"\n viewBox=\"0.00 0.00 1814.80 918.00\" xmlns=\"http://www.w3.org/2000/svg\" xmlns:xlink=\"http://www.w3.org/1999/xlink\">\n<g id=\"graph0\" class=\"graph\" transform=\"scale(1 1) rotate(0) translate(4 914)\">\n<title>%3</title>\n<polygon fill=\"white\" stroke=\"transparent\" points=\"-4,4 -4,-914 1810.8,-914 1810.8,4 -4,4\"/>\n<!-- EMPTY -->\n<g id=\"node1\" class=\"node\">\n<title>EMPTY</title>\n</g>\n<!-- \\(St0_St38\\) -->\n<g id=\"node7\" class=\"node\">\n<title>\\(St0_St38\\)</title>\n<ellipse fill=\"none\" stroke=\"black\" cx=\"139.75\" cy=\"-439\" rx=\"48.99\" ry=\"48.99\"/>\n<text text-anchor=\"middle\" x=\"139.75\" y=\"-435.3\" font-family=\"Times,serif\" font-size=\"14.00\">(St0_St38)</text>\n</g>\n<!-- EMPTY&#45;&gt;\\(St0_St38\\) -->\n<g id=\"edge1\" class=\"edge\">\n<title>EMPTY&#45;&gt;\\(St0_St38\\)</title>\n<path fill=\"none\" stroke=\"black\" d=\"M54.25,-439C62.15,-439 71.15,-439 80.27,-439\"/>\n<polygon fill=\"black\" stroke=\"black\" points=\"80.56,-442.5 90.56,-439 80.56,-435.5 80.56,-442.5\"/>\n</g>\n<!-- \\(St0_St31\\) -->\n<g id=\"node2\" class=\"node\">\n<title>\\(St0_St31\\)</title>\n<ellipse fill=\"none\" stroke=\"black\" cx=\"1470.17\" cy=\"-696\" rx=\"48.99\" ry=\"48.99\"/>\n<text text-anchor=\"middle\" x=\"1470.17\" y=\"-692.3\" font-family=\"Times,serif\" font-size=\"14.00\">(St0_St31)</text>\n</g>\n<!-- \\(St0_St1\\) -->\n<g id=\"node13\" class=\"node\">\n<title>\\(St0_St1\\)</title>\n<ellipse fill=\"none\" stroke=\"black\" cx=\"1762.6\" cy=\"-473\" rx=\"44.39\" ry=\"44.39\"/>\n<text text-anchor=\"middle\" x=\"1762.6\" y=\"-469.3\" font-family=\"Times,serif\" font-size=\"14.00\">(St0_St1)</text>\n</g>\n<!-- \\(St0_St31\\)&#45;&gt;\\(St0_St1\\) -->\n<g id=\"edge16\" class=\"edge\">\n<title>\\(St0_St31\\)&#45;&gt;\\(St0_St1\\)</title>\n<path fill=\"none\" stroke=\"black\" d=\"M1515.92,-713.52C1566.22,-729.99 1647.73,-746.63 1700.4,-706 1728.56,-684.28 1746.31,-588.63 1755.06,-526.83\"/>\n<polygon fill=\"black\" stroke=\"black\" points=\"1758.54,-527.23 1756.44,-516.84 1751.6,-526.27 1758.54,-527.23\"/>\n<text text-anchor=\"middle\" x=\"1618.66\" y=\"-734.8\" font-family=\"Times,serif\" font-size=\"14.00\">a </text>\n</g>\n<!-- \\(St6_St21\\) -->\n<g id=\"node25\" class=\"node\">\n<title>\\(St6_St21\\)</title>\n<ellipse fill=\"none\" stroke=\"black\" cx=\"1618.66\" cy=\"-611\" rx=\"48.97\" ry=\"48.97\"/>\n<ellipse fill=\"none\" stroke=\"black\" cx=\"1618.66\" cy=\"-611\" rx=\"52.99\" ry=\"52.99\"/>\n<text text-anchor=\"middle\" x=\"1618.66\" y=\"-607.3\" font-family=\"Times,serif\" font-size=\"14.00\">(St6_St21)</text>\n</g>\n<!-- \\(St0_St31\\)&#45;&gt;\\(St6_St21\\) -->\n<g id=\"edge42\" class=\"edge\">\n<title>\\(St0_St31\\)&#45;&gt;\\(St6_St21\\)</title>\n<path fill=\"none\" stroke=\"black\" d=\"M1507.41,-664.39C1516.67,-657.15 1526.86,-649.87 1536.91,-644 1543.98,-639.87 1551.66,-636.02 1559.38,-632.51\"/>\n<polygon fill=\"black\" stroke=\"black\" points=\"1561.02,-635.61 1568.78,-628.39 1558.21,-629.2 1561.02,-635.61\"/>\n<text text-anchor=\"middle\" x=\"1542.41\" y=\"-647.8\" font-family=\"Times,serif\" font-size=\"14.00\">b </text>\n</g>\n<!-- \\(St0_St17\\) -->\n<g id=\"node3\" class=\"node\">\n<title>\\(St0_St17\\)</title>\n<ellipse fill=\"none\" stroke=\"black\" cx=\"580.22\" cy=\"-722\" rx=\"48.99\" ry=\"48.99\"/>\n<text text-anchor=\"middle\" x=\"580.22\" y=\"-718.3\" font-family=\"Times,serif\" font-size=\"14.00\">(St0_St17)</text>\n</g>\n<!-- \\(St0_St17\\)&#45;&gt;\\(St0_St31\\) -->\n<g id=\"edge46\" class=\"edge\">\n<title>\\(St0_St17\\)&#45;&gt;\\(St0_St31\\)</title>\n<path fill=\"none\" stroke=\"black\" d=\"M597.24,-767.91C618.41,-819.16 661,-895 727.71,-895 727.71,-895 727.71,-895 1254.43,-895 1325.82,-895 1356.88,-889.12 1403.42,-835 1426.06,-808.68 1406.62,-790.4 1421.42,-759 1424.33,-752.83 1427.91,-746.68 1431.79,-740.77\"/>\n<polygon fill=\"black\" stroke=\"black\" points=\"1434.83,-742.53 1437.65,-732.32 1429.08,-738.55 1434.83,-742.53\"/>\n<text text-anchor=\"middle\" x=\"1028.69\" y=\"-898.8\" font-family=\"Times,serif\" font-size=\"14.00\">a </text>\n</g>\n<!-- \\(St6_St12\\) -->\n<g id=\"node23\" class=\"node\">\n<title>\\(St6_St12\\)</title>\n<ellipse fill=\"none\" stroke=\"black\" cx=\"728.71\" cy=\"-722\" rx=\"48.97\" ry=\"48.97\"/>\n<ellipse fill=\"none\" stroke=\"black\" cx=\"728.71\" cy=\"-722\" rx=\"52.99\" ry=\"52.99\"/>\n<text text-anchor=\"middle\" x=\"728.71\" y=\"-718.3\" font-family=\"Times,serif\" font-size=\"14.00\">(St6_St12)</text>\n</g>\n<!-- \\(St0_St17\\)&#45;&gt;\\(St6_St12\\) -->\n<g id=\"edge31\" class=\"edge\">\n<title>\\(St0_St17\\)&#45;&gt;\\(St6_St12\\)</title>\n<path fill=\"none\" stroke=\"black\" d=\"M629.19,-722C640.86,-722 653.5,-722 665.72,-722\"/>\n<polygon fill=\"black\" stroke=\"black\" points=\"665.85,-725.5 675.85,-722 665.85,-718.5 665.85,-725.5\"/>\n<text text-anchor=\"middle\" x=\"652.47\" y=\"-725.8\" font-family=\"Times,serif\" font-size=\"14.00\">b </text>\n</g>\n<!-- \\(St0_St3\\) -->\n<g id=\"node4\" class=\"node\">\n<title>\\(St0_St3\\)</title>\n<ellipse fill=\"none\" stroke=\"black\" cx=\"580.22\" cy=\"-57\" rx=\"44.39\" ry=\"44.39\"/>\n<text text-anchor=\"middle\" x=\"580.22\" y=\"-53.3\" font-family=\"Times,serif\" font-size=\"14.00\">(St0_St3)</text>\n</g>\n<!-- \\(St0_St3\\)&#45;&gt;\\(St0_St1\\) -->\n<g id=\"edge45\" class=\"edge\">\n<title>\\(St0_St3\\)&#45;&gt;\\(St0_St1\\)</title>\n<path fill=\"none\" stroke=\"black\" d=\"M618.24,-33.82C646.97,-18.04 688.41,0 727.71,0 727.71,0 727.71,0 1619.66,0 1706.28,0 1744.59,-294.7 1756.89,-418.87\"/>\n<polygon fill=\"black\" stroke=\"black\" points=\"1753.42,-419.31 1757.87,-428.93 1760.38,-418.63 1753.42,-419.31\"/>\n<text text-anchor=\"middle\" x=\"1177.19\" y=\"-3.8\" font-family=\"Times,serif\" font-size=\"14.00\">a </text>\n</g>\n<!-- \\(St6_St25\\) -->\n<g id=\"node21\" class=\"node\">\n<title>\\(St6_St25\\)</title>\n<ellipse fill=\"none\" stroke=\"black\" cx=\"728.71\" cy=\"-81\" rx=\"48.97\" ry=\"48.97\"/>\n<ellipse fill=\"none\" stroke=\"black\" cx=\"728.71\" cy=\"-81\" rx=\"52.99\" ry=\"52.99\"/>\n<text text-anchor=\"middle\" x=\"728.71\" y=\"-77.3\" font-family=\"Times,serif\" font-size=\"14.00\">(St6_St25)</text>\n</g>\n<!-- \\(St0_St3\\)&#45;&gt;\\(St6_St25\\) -->\n<g id=\"edge2\" class=\"edge\">\n<title>\\(St0_St3\\)&#45;&gt;\\(St6_St25\\)</title>\n<path fill=\"none\" stroke=\"black\" d=\"M623.98,-64.01C637.24,-66.18 652.11,-68.61 666.36,-70.95\"/>\n<polygon fill=\"black\" stroke=\"black\" points=\"666.17,-74.46 676.6,-72.63 667.3,-67.56 666.17,-74.46\"/>\n<text text-anchor=\"middle\" x=\"652.47\" y=\"-72.8\" font-family=\"Times,serif\" font-size=\"14.00\">b </text>\n</g>\n<!-- \\(St0_St16\\) -->\n<g id=\"node5\" class=\"node\">\n<title>\\(St0_St16\\)</title>\n<ellipse fill=\"none\" stroke=\"black\" cx=\"580.22\" cy=\"-456\" rx=\"48.99\" ry=\"48.99\"/>\n<text text-anchor=\"middle\" x=\"580.22\" y=\"-452.3\" font-family=\"Times,serif\" font-size=\"14.00\">(St0_St16)</text>\n</g>\n<!-- \\(St0_St16\\)&#45;&gt;\\(St0_St1\\) -->\n<g id=\"edge35\" class=\"edge\">\n<title>\\(St0_St16\\)&#45;&gt;\\(St0_St1\\)</title>\n<path fill=\"none\" stroke=\"black\" d=\"M624.92,-436.47C693.12,-406.82 829.66,-350.75 950.95,-321 1107.42,-282.62 1538.5,-148.93 1671.4,-240 1729.68,-279.93 1750.31,-363.36 1757.61,-418.78\"/>\n<polygon fill=\"black\" stroke=\"black\" points=\"1754.15,-419.28 1758.83,-428.78 1761.1,-418.43 1754.15,-419.28\"/>\n<text text-anchor=\"middle\" x=\"1177.19\" y=\"-279.8\" font-family=\"Times,serif\" font-size=\"14.00\">a </text>\n</g>\n<!-- \\(St0_St16\\)&#45;&gt;\\(St6_St12\\) -->\n<g id=\"edge37\" class=\"edge\">\n<title>\\(St0_St16\\)&#45;&gt;\\(St6_St12\\)</title>\n<path fill=\"none\" stroke=\"black\" d=\"M596.16,-502.25C607.82,-535.54 625.59,-580.92 646.97,-618 658.25,-637.57 672.85,-657.53 686.53,-674.66\"/>\n<polygon fill=\"black\" stroke=\"black\" points=\"684.14,-677.27 693.16,-682.83 689.58,-672.86 684.14,-677.27\"/>\n<text text-anchor=\"middle\" x=\"652.47\" y=\"-636.8\" font-family=\"Times,serif\" font-size=\"14.00\">b </text>\n</g>\n<!-- \\(St0_St35\\) -->\n<g id=\"node6\" class=\"node\">\n<title>\\(St0_St35\\)</title>\n<ellipse fill=\"none\" stroke=\"black\" cx=\"1470.17\" cy=\"-331\" rx=\"48.99\" ry=\"48.99\"/>\n<text text-anchor=\"middle\" x=\"1470.17\" y=\"-327.3\" font-family=\"Times,serif\" font-size=\"14.00\">(St0_St35)</text>\n</g>\n<!-- \\(St0_St7\\) -->\n<g id=\"node8\" class=\"node\">\n<title>\\(St0_St7\\)</title>\n<ellipse fill=\"none\" stroke=\"black\" cx=\"1618.66\" cy=\"-293\" rx=\"44.39\" ry=\"44.39\"/>\n<text text-anchor=\"middle\" x=\"1618.66\" y=\"-289.3\" font-family=\"Times,serif\" font-size=\"14.00\">(St0_St7)</text>\n</g>\n<!-- \\(St0_St35\\)&#45;&gt;\\(St0_St7\\) -->\n<g id=\"edge18\" class=\"edge\">\n<title>\\(St0_St35\\)&#45;&gt;\\(St0_St7\\)</title>\n<path fill=\"none\" stroke=\"black\" d=\"M1517.52,-318.98C1532.78,-315.02 1549.86,-310.59 1565.52,-306.52\"/>\n<polygon fill=\"black\" stroke=\"black\" points=\"1566.78,-309.81 1575.58,-303.91 1565.02,-303.04 1566.78,-309.81\"/>\n<text text-anchor=\"middle\" x=\"1542.41\" y=\"-317.8\" font-family=\"Times,serif\" font-size=\"14.00\">a </text>\n</g>\n<!-- \\(St0_St35\\)&#45;&gt;\\(St0_St1\\) -->\n<g id=\"edge41\" class=\"edge\">\n<title>\\(St0_St35\\)&#45;&gt;\\(St0_St1\\)</title>\n<path fill=\"none\" stroke=\"black\" d=\"M1517.9,-341.27C1576.28,-354.81 1671.96,-379.54 1700.4,-402 1710.58,-410.04 1720.36,-419.95 1728.99,-429.79\"/>\n<polygon fill=\"black\" stroke=\"black\" points=\"1726.51,-432.28 1735.65,-437.64 1731.84,-427.75 1726.51,-432.28\"/>\n<text text-anchor=\"middle\" x=\"1618.66\" y=\"-389.8\" font-family=\"Times,serif\" font-size=\"14.00\">b </text>\n</g>\n<!-- \\(St0_St37\\) -->\n<g id=\"node9\" class=\"node\">\n<title>\\(St0_St37\\)</title>\n<ellipse fill=\"none\" stroke=\"black\" cx=\"283.24\" cy=\"-265\" rx=\"48.99\" ry=\"48.99\"/>\n<text text-anchor=\"middle\" x=\"283.24\" y=\"-261.3\" font-family=\"Times,serif\" font-size=\"14.00\">(St0_St37)</text>\n</g>\n<!-- \\(St0_St38\\)&#45;&gt;\\(St0_St37\\) -->\n<g id=\"edge28\" class=\"edge\">\n<title>\\(St0_St38\\)&#45;&gt;\\(St0_St37\\)</title>\n<path fill=\"none\" stroke=\"black\" d=\"M171.1,-401.67C192.85,-374.93 222.25,-338.77 245.35,-310.36\"/>\n<polygon fill=\"black\" stroke=\"black\" points=\"248.1,-312.53 251.69,-302.57 242.67,-308.12 248.1,-312.53\"/>\n<text text-anchor=\"middle\" x=\"211.49\" y=\"-361.8\" font-family=\"Times,serif\" font-size=\"14.00\">a </text>\n</g>\n<!-- \\(St6_St27\\) -->\n<g id=\"node15\" class=\"node\">\n<title>\\(St6_St27\\)</title>\n<ellipse fill=\"none\" stroke=\"black\" cx=\"431.73\" cy=\"-599\" rx=\"48.97\" ry=\"48.97\"/>\n<ellipse fill=\"none\" stroke=\"black\" cx=\"431.73\" cy=\"-599\" rx=\"52.99\" ry=\"52.99\"/>\n<text text-anchor=\"middle\" x=\"431.73\" y=\"-595.3\" font-family=\"Times,serif\" font-size=\"14.00\">(St6_St27)</text>\n</g>\n<!-- \\(St0_St38\\)&#45;&gt;\\(St6_St27\\) -->\n<g id=\"edge9\" class=\"edge\">\n<title>\\(St0_St38\\)&#45;&gt;\\(St6_St27\\)</title>\n<path fill=\"none\" stroke=\"black\" d=\"M182.91,-462.27C233.95,-490.43 320.01,-537.91 376.09,-568.85\"/>\n<polygon fill=\"black\" stroke=\"black\" points=\"374.72,-572.09 385.16,-573.86 378.1,-565.96 374.72,-572.09\"/>\n<text text-anchor=\"middle\" x=\"283.24\" y=\"-545.8\" font-family=\"Times,serif\" font-size=\"14.00\">b </text>\n</g>\n<!-- \\(St0_St7\\)&#45;&gt;\\(St0_St3\\) -->\n<g id=\"edge24\" class=\"edge\">\n<title>\\(St0_St7\\)&#45;&gt;\\(St0_St3\\)</title>\n<path fill=\"none\" stroke=\"black\" d=\"M1600.75,-252.42C1578.46,-206.2 1534.51,-137 1471.17,-137 955.45,-137 955.45,-137 955.45,-137 878.07,-137 858.82,-141.67 781.46,-143 734.58,-143.81 719.7,-159.89 675.97,-143 668.95,-140.29 642.87,-116.41 619.84,-94.5\"/>\n<polygon fill=\"black\" stroke=\"black\" points=\"622.15,-91.86 612.5,-87.48 617.31,-96.92 622.15,-91.86\"/>\n<text text-anchor=\"middle\" x=\"1100.94\" y=\"-140.8\" font-family=\"Times,serif\" font-size=\"14.00\">a </text>\n</g>\n<!-- \\(St0_St7\\)&#45;&gt;\\(St0_St1\\) -->\n<g id=\"edge48\" class=\"edge\">\n<title>\\(St0_St7\\)&#45;&gt;\\(St0_St1\\)</title>\n<path fill=\"none\" stroke=\"black\" d=\"M1658.74,-311.7C1673.2,-320.05 1688.86,-330.97 1700.4,-344 1720.16,-366.29 1734.85,-396.07 1744.88,-421.4\"/>\n<polygon fill=\"black\" stroke=\"black\" points=\"1741.66,-422.78 1748.5,-430.87 1748.2,-420.28 1741.66,-422.78\"/>\n<text text-anchor=\"middle\" x=\"1694.9\" y=\"-347.8\" font-family=\"Times,serif\" font-size=\"14.00\">b </text>\n</g>\n<!-- \\(St0_St8\\) -->\n<g id=\"node10\" class=\"node\">\n<title>\\(St0_St8\\)</title>\n<ellipse fill=\"none\" stroke=\"black\" cx=\"431.73\" cy=\"-137\" rx=\"44.39\" ry=\"44.39\"/>\n<text text-anchor=\"middle\" x=\"431.73\" y=\"-133.3\" font-family=\"Times,serif\" font-size=\"14.00\">(St0_St8)</text>\n</g>\n<!-- \\(St0_St37\\)&#45;&gt;\\(St0_St8\\) -->\n<g id=\"edge30\" class=\"edge\">\n<title>\\(St0_St37\\)&#45;&gt;\\(St0_St8\\)</title>\n<path fill=\"none\" stroke=\"black\" d=\"M320.45,-233.36C341.58,-214.9 368.29,-191.56 390.13,-172.48\"/>\n<polygon fill=\"black\" stroke=\"black\" points=\"392.71,-174.87 397.93,-165.66 388.1,-169.6 392.71,-174.87\"/>\n<text text-anchor=\"middle\" x=\"355.48\" y=\"-208.8\" font-family=\"Times,serif\" font-size=\"14.00\">a </text>\n</g>\n<!-- \\(St6_St26\\) -->\n<g id=\"node19\" class=\"node\">\n<title>\\(St6_St26\\)</title>\n<ellipse fill=\"none\" stroke=\"black\" cx=\"431.73\" cy=\"-265\" rx=\"48.97\" ry=\"48.97\"/>\n<ellipse fill=\"none\" stroke=\"black\" cx=\"431.73\" cy=\"-265\" rx=\"52.99\" ry=\"52.99\"/>\n<text text-anchor=\"middle\" x=\"431.73\" y=\"-261.3\" font-family=\"Times,serif\" font-size=\"14.00\">(St6_St26)</text>\n</g>\n<!-- \\(St0_St37\\)&#45;&gt;\\(St6_St26\\) -->\n<g id=\"edge39\" class=\"edge\">\n<title>\\(St0_St37\\)&#45;&gt;\\(St6_St26\\)</title>\n<path fill=\"none\" stroke=\"black\" d=\"M332.2,-265C343.87,-265 356.52,-265 368.73,-265\"/>\n<polygon fill=\"black\" stroke=\"black\" points=\"368.87,-268.5 378.87,-265 368.87,-261.5 368.87,-268.5\"/>\n<text text-anchor=\"middle\" x=\"355.48\" y=\"-268.8\" font-family=\"Times,serif\" font-size=\"14.00\">b </text>\n</g>\n<!-- \\(St0_St8\\)&#45;&gt;\\(St0_St3\\) -->\n<g id=\"edge25\" class=\"edge\">\n<title>\\(St0_St8\\)&#45;&gt;\\(St0_St3\\)</title>\n<path fill=\"none\" stroke=\"black\" d=\"M470.83,-116.19C489.58,-105.95 512.35,-93.52 532.17,-82.69\"/>\n<polygon fill=\"black\" stroke=\"black\" points=\"533.95,-85.71 541.05,-77.84 530.6,-79.57 533.95,-85.71\"/>\n<text text-anchor=\"middle\" x=\"507.97\" y=\"-100.8\" font-family=\"Times,serif\" font-size=\"14.00\">a </text>\n</g>\n<!-- \\(St0_St8\\)&#45;&gt;\\(St6_St25\\) -->\n<g id=\"edge34\" class=\"edge\">\n<title>\\(St0_St8\\)&#45;&gt;\\(St6_St25\\)</title>\n<path fill=\"none\" stroke=\"black\" d=\"M475.92,-132.93C515.9,-128.71 576.85,-121.17 628.97,-110 641.91,-107.22 655.64,-103.63 668.61,-99.91\"/>\n<polygon fill=\"black\" stroke=\"black\" points=\"669.74,-103.23 678.35,-97.06 667.77,-96.51 669.74,-103.23\"/>\n<text text-anchor=\"middle\" x=\"580.22\" y=\"-129.8\" font-family=\"Times,serif\" font-size=\"14.00\">b </text>\n</g>\n<!-- \\(St0_St25\\) -->\n<g id=\"node11\" class=\"node\">\n<title>\\(St0_St25\\)</title>\n<ellipse fill=\"none\" stroke=\"black\" cx=\"1325.68\" cy=\"-377\" rx=\"48.99\" ry=\"48.99\"/>\n<text text-anchor=\"middle\" x=\"1325.68\" y=\"-373.3\" font-family=\"Times,serif\" font-size=\"14.00\">(St0_St25)</text>\n</g>\n<!-- \\(St0_St25\\)&#45;&gt;\\(St0_St35\\) -->\n<g id=\"edge7\" class=\"edge\">\n<title>\\(St0_St25\\)&#45;&gt;\\(St0_St35\\)</title>\n<path fill=\"none\" stroke=\"black\" d=\"M1372.55,-362.19C1385.64,-357.97 1400.05,-353.31 1413.65,-348.92\"/>\n<polygon fill=\"black\" stroke=\"black\" points=\"1414.94,-352.18 1423.38,-345.78 1412.79,-345.52 1414.94,-352.18\"/>\n<text text-anchor=\"middle\" x=\"1397.92\" y=\"-359.8\" font-family=\"Times,serif\" font-size=\"14.00\">a </text>\n</g>\n<!-- \\(St0_St25\\)&#45;&gt;\\(St0_St1\\) -->\n<g id=\"edge17\" class=\"edge\">\n<title>\\(St0_St25\\)&#45;&gt;\\(St0_St1\\)</title>\n<path fill=\"none\" stroke=\"black\" d=\"M1374.21,-383.04C1460.78,-394.37 1640.74,-419.51 1700.4,-440 1705.27,-441.67 1710.22,-443.7 1715.08,-445.93\"/>\n<polygon fill=\"black\" stroke=\"black\" points=\"1713.76,-449.18 1724.28,-450.4 1716.82,-442.88 1713.76,-449.18\"/>\n<text text-anchor=\"middle\" x=\"1542.41\" y=\"-411.8\" font-family=\"Times,serif\" font-size=\"14.00\">b </text>\n</g>\n<!-- \\(St0_St12\\) -->\n<g id=\"node12\" class=\"node\">\n<title>\\(St0_St12\\)</title>\n<ellipse fill=\"none\" stroke=\"black\" cx=\"1325.68\" cy=\"-696\" rx=\"48.99\" ry=\"48.99\"/>\n<text text-anchor=\"middle\" x=\"1325.68\" y=\"-692.3\" font-family=\"Times,serif\" font-size=\"14.00\">(St0_St12)</text>\n</g>\n<!-- \\(St0_St12\\)&#45;&gt;\\(St0_St31\\) -->\n<g id=\"edge49\" class=\"edge\">\n<title>\\(St0_St12\\)&#45;&gt;\\(St0_St31\\)</title>\n<path fill=\"none\" stroke=\"black\" d=\"M1374.52,-696C1386.27,-696 1398.97,-696 1411.14,-696\"/>\n<polygon fill=\"black\" stroke=\"black\" points=\"1411.21,-699.5 1421.21,-696 1411.21,-692.5 1411.21,-699.5\"/>\n<text text-anchor=\"middle\" x=\"1397.92\" y=\"-699.8\" font-family=\"Times,serif\" font-size=\"14.00\">a </text>\n</g>\n<!-- \\(St0_St12\\)&#45;&gt;\\(St0_St1\\) -->\n<g id=\"edge22\" class=\"edge\">\n<title>\\(St0_St12\\)&#45;&gt;\\(St0_St1\\)</title>\n<path fill=\"none\" stroke=\"black\" d=\"M1364.5,-666.23C1381.01,-655.06 1401.19,-643.7 1421.42,-638 1463.13,-626.25 1479.55,-619.89 1518.91,-638 1530.08,-643.14 1527.17,-651.5 1536.91,-659 1548.26,-667.73 1551.96,-669.81 1565.91,-673 1611.62,-683.45 1632.02,-698.44 1671.4,-673 1720.99,-640.97 1743.59,-574.42 1753.71,-526.89\"/>\n<polygon fill=\"black\" stroke=\"black\" points=\"1757.15,-527.55 1755.69,-517.06 1750.29,-526.17 1757.15,-527.55\"/>\n<text text-anchor=\"middle\" x=\"1542.41\" y=\"-669.8\" font-family=\"Times,serif\" font-size=\"14.00\">b </text>\n</g>\n<!-- \\(St0_St1\\)&#45;&gt;\\(St0_St1\\) -->\n<g id=\"edge3\" class=\"edge\">\n<title>\\(St0_St1\\)&#45;&gt;\\(St0_St1\\)</title>\n<path fill=\"none\" stroke=\"black\" d=\"M1756.52,-516.88C1757,-527.4 1759.02,-535.2 1762.6,-535.2 1764.89,-535.2 1766.55,-532 1767.57,-526.93\"/>\n<polygon fill=\"black\" stroke=\"black\" points=\"1771.06,-527.2 1768.68,-516.88 1764.1,-526.43 1771.06,-527.2\"/>\n<text text-anchor=\"middle\" x=\"1762.6\" y=\"-539\" font-family=\"Times,serif\" font-size=\"14.00\">b </text>\n</g>\n<!-- \\(St0_St1\\)&#45;&gt;\\(St0_St1\\) -->\n<g id=\"edge8\" class=\"edge\">\n<title>\\(St0_St1\\)&#45;&gt;\\(St0_St1\\)</title>\n<path fill=\"none\" stroke=\"black\" d=\"M1750.47,-515.9C1749.15,-535.81 1753.19,-553.2 1762.6,-553.2 1770.32,-553.2 1774.43,-541.49 1774.92,-526.3\"/>\n<polygon fill=\"black\" stroke=\"black\" points=\"1778.42,-525.84 1774.73,-515.9 1771.42,-525.97 1778.42,-525.84\"/>\n<text text-anchor=\"middle\" x=\"1762.6\" y=\"-557\" font-family=\"Times,serif\" font-size=\"14.00\">a </text>\n</g>\n<!-- \\(St0_St21\\) -->\n<g id=\"node14\" class=\"node\">\n<title>\\(St0_St21\\)</title>\n<ellipse fill=\"none\" stroke=\"black\" cx=\"1028.69\" cy=\"-722\" rx=\"48.99\" ry=\"48.99\"/>\n<text text-anchor=\"middle\" x=\"1028.69\" y=\"-718.3\" font-family=\"Times,serif\" font-size=\"14.00\">(St0_St21)</text>\n</g>\n<!-- \\(St0_St21\\)&#45;&gt;\\(St0_St1\\) -->\n<g id=\"edge5\" class=\"edge\">\n<title>\\(St0_St21\\)&#45;&gt;\\(St0_St1\\)</title>\n<path fill=\"none\" stroke=\"black\" d=\"M1066.94,-752.93C1083.51,-764.87 1103.89,-777.27 1124.44,-784 1239.97,-821.85 1562.62,-849.27 1671.4,-795 1719.64,-770.94 1745.36,-612.35 1755.84,-527.06\"/>\n<polygon fill=\"black\" stroke=\"black\" points=\"1759.33,-527.39 1757.05,-517.04 1752.38,-526.55 1759.33,-527.39\"/>\n<text text-anchor=\"middle\" x=\"1397.92\" y=\"-827.8\" font-family=\"Times,serif\" font-size=\"14.00\">a </text>\n</g>\n<!-- \\(St6_St16\\) -->\n<g id=\"node18\" class=\"node\">\n<title>\\(St6_St16\\)</title>\n<ellipse fill=\"none\" stroke=\"black\" cx=\"1177.19\" cy=\"-722\" rx=\"48.97\" ry=\"48.97\"/>\n<ellipse fill=\"none\" stroke=\"black\" cx=\"1177.19\" cy=\"-722\" rx=\"52.99\" ry=\"52.99\"/>\n<text text-anchor=\"middle\" x=\"1177.19\" y=\"-718.3\" font-family=\"Times,serif\" font-size=\"14.00\">(St6_St16)</text>\n</g>\n<!-- \\(St0_St21\\)&#45;&gt;\\(St6_St16\\) -->\n<g id=\"edge6\" class=\"edge\">\n<title>\\(St0_St21\\)&#45;&gt;\\(St6_St16\\)</title>\n<path fill=\"none\" stroke=\"black\" d=\"M1077.66,-722C1089.33,-722 1101.97,-722 1114.19,-722\"/>\n<polygon fill=\"black\" stroke=\"black\" points=\"1114.32,-725.5 1124.32,-722 1114.32,-718.5 1114.32,-725.5\"/>\n<text text-anchor=\"middle\" x=\"1100.94\" y=\"-725.8\" font-family=\"Times,serif\" font-size=\"14.00\">b </text>\n</g>\n<!-- \\(St6_St27\\)&#45;&gt;\\(St0_St17\\) -->\n<g id=\"edge12\" class=\"edge\">\n<title>\\(St6_St27\\)&#45;&gt;\\(St0_St17\\)</title>\n<path fill=\"none\" stroke=\"black\" d=\"M472.76,-632.61C491.82,-648.61 514.69,-667.82 534.33,-684.31\"/>\n<polygon fill=\"black\" stroke=\"black\" points=\"532.34,-687.21 542.25,-690.96 536.85,-681.85 532.34,-687.21\"/>\n<text text-anchor=\"middle\" x=\"507.97\" y=\"-667.8\" font-family=\"Times,serif\" font-size=\"14.00\">b </text>\n</g>\n<!-- \\(St6_St36\\) -->\n<g id=\"node22\" class=\"node\">\n<title>\\(St6_St36\\)</title>\n<ellipse fill=\"none\" stroke=\"black\" cx=\"880.2\" cy=\"-599\" rx=\"48.97\" ry=\"48.97\"/>\n<ellipse fill=\"none\" stroke=\"black\" cx=\"880.2\" cy=\"-599\" rx=\"52.99\" ry=\"52.99\"/>\n<text text-anchor=\"middle\" x=\"880.2\" y=\"-595.3\" font-family=\"Times,serif\" font-size=\"14.00\">(St6_St36)</text>\n</g>\n<!-- \\(St6_St27\\)&#45;&gt;\\(St6_St36\\) -->\n<g id=\"edge38\" class=\"edge\">\n<title>\\(St6_St27\\)&#45;&gt;\\(St6_St36\\)</title>\n<path fill=\"none\" stroke=\"black\" d=\"M484.82,-599C567.57,-599 728.75,-599 817.28,-599\"/>\n<polygon fill=\"black\" stroke=\"black\" points=\"817.44,-602.5 827.44,-599 817.44,-595.5 817.44,-602.5\"/>\n<text text-anchor=\"middle\" x=\"652.47\" y=\"-602.8\" font-family=\"Times,serif\" font-size=\"14.00\">a </text>\n</g>\n<!-- \\(St6_St3\\) -->\n<g id=\"node16\" class=\"node\">\n<title>\\(St6_St3\\)</title>\n<ellipse fill=\"none\" stroke=\"black\" cx=\"1177.19\" cy=\"-421\" rx=\"44.38\" ry=\"44.38\"/>\n<ellipse fill=\"none\" stroke=\"black\" cx=\"1177.19\" cy=\"-421\" rx=\"48.39\" ry=\"48.39\"/>\n<text text-anchor=\"middle\" x=\"1177.19\" y=\"-417.3\" font-family=\"Times,serif\" font-size=\"14.00\">(St6_St3)</text>\n</g>\n<!-- \\(St6_St3\\)&#45;&gt;\\(St0_St25\\) -->\n<g id=\"edge32\" class=\"edge\">\n<title>\\(St6_St3\\)&#45;&gt;\\(St0_St25\\)</title>\n<path fill=\"none\" stroke=\"black\" d=\"M1223.73,-407.32C1238.13,-402.99 1254.21,-398.17 1269.22,-393.66\"/>\n<polygon fill=\"black\" stroke=\"black\" points=\"1270.33,-396.98 1278.9,-390.75 1268.32,-390.27 1270.33,-396.98\"/>\n<text text-anchor=\"middle\" x=\"1253.43\" y=\"-402.8\" font-family=\"Times,serif\" font-size=\"14.00\">b </text>\n</g>\n<!-- \\(St6_St3\\)&#45;&gt;\\(St0_St1\\) -->\n<g id=\"edge44\" class=\"edge\">\n<title>\\(St6_St3\\)&#45;&gt;\\(St0_St1\\)</title>\n<path fill=\"none\" stroke=\"black\" d=\"M1223.13,-436.53C1251.82,-445.09 1290,-454 1324.68,-454 1324.68,-454 1324.68,-454 1619.66,-454 1649.53,-454 1682.63,-458.19 1709.35,-462.63\"/>\n<polygon fill=\"black\" stroke=\"black\" points=\"1708.8,-466.09 1719.25,-464.33 1709.99,-459.19 1708.8,-466.09\"/>\n<text text-anchor=\"middle\" x=\"1470.17\" y=\"-457.8\" font-family=\"Times,serif\" font-size=\"14.00\">a </text>\n</g>\n<!-- \\(St6_St31\\) -->\n<g id=\"node17\" class=\"node\">\n<title>\\(St6_St31\\)</title>\n<ellipse fill=\"none\" stroke=\"black\" cx=\"880.2\" cy=\"-722\" rx=\"48.97\" ry=\"48.97\"/>\n<ellipse fill=\"none\" stroke=\"black\" cx=\"880.2\" cy=\"-722\" rx=\"52.99\" ry=\"52.99\"/>\n<text text-anchor=\"middle\" x=\"880.2\" y=\"-718.3\" font-family=\"Times,serif\" font-size=\"14.00\">(St6_St31)</text>\n</g>\n<!-- \\(St6_St31\\)&#45;&gt;\\(St0_St1\\) -->\n<g id=\"edge21\" class=\"edge\">\n<title>\\(St6_St31\\)&#45;&gt;\\(St0_St1\\)</title>\n<path fill=\"none\" stroke=\"black\" d=\"M916.32,-683.1C954.76,-641.36 1012.91,-581 1027.69,-581 1027.69,-581 1027.69,-581 1254.43,-581 1443.13,-581 1486.35,-537.89 1671.4,-501 1684.31,-498.43 1687.74,-498.57 1700.4,-495 1703.98,-493.99 1707.66,-492.88 1711.34,-491.7\"/>\n<polygon fill=\"black\" stroke=\"black\" points=\"1712.65,-494.96 1721.04,-488.48 1710.45,-488.31 1712.65,-494.96\"/>\n<text text-anchor=\"middle\" x=\"1325.68\" y=\"-583.8\" font-family=\"Times,serif\" font-size=\"14.00\">a </text>\n</g>\n<!-- \\(St6_St31\\)&#45;&gt;\\(St0_St21\\) -->\n<g id=\"edge13\" class=\"edge\">\n<title>\\(St6_St31\\)&#45;&gt;\\(St0_St21\\)</title>\n<path fill=\"none\" stroke=\"black\" d=\"M933.26,-722C944.97,-722 957.46,-722 969.4,-722\"/>\n<polygon fill=\"black\" stroke=\"black\" points=\"969.71,-725.5 979.71,-722 969.71,-718.5 969.71,-725.5\"/>\n<text text-anchor=\"middle\" x=\"956.45\" y=\"-725.8\" font-family=\"Times,serif\" font-size=\"14.00\">b </text>\n</g>\n<!-- \\(St6_St16\\)&#45;&gt;\\(St0_St12\\) -->\n<g id=\"edge33\" class=\"edge\">\n<title>\\(St6_St16\\)&#45;&gt;\\(St0_St12\\)</title>\n<path fill=\"none\" stroke=\"black\" d=\"M1229.42,-712.91C1241.79,-710.71 1255.08,-708.35 1267.7,-706.11\"/>\n<polygon fill=\"black\" stroke=\"black\" points=\"1268.4,-709.54 1277.64,-704.35 1267.18,-702.65 1268.4,-709.54\"/>\n<text text-anchor=\"middle\" x=\"1253.43\" y=\"-712.8\" font-family=\"Times,serif\" font-size=\"14.00\">b </text>\n</g>\n<!-- \\(St6_St16\\)&#45;&gt;\\(St0_St1\\) -->\n<g id=\"edge20\" class=\"edge\">\n<title>\\(St6_St16\\)&#45;&gt;\\(St0_St1\\)</title>\n<path fill=\"none\" stroke=\"black\" d=\"M1222.21,-749.94C1250.38,-765.19 1288.35,-781 1324.68,-781 1324.68,-781 1324.68,-781 1619.66,-781 1729.96,-781 1754.84,-616.07 1760.25,-527.59\"/>\n<polygon fill=\"black\" stroke=\"black\" points=\"1763.75,-527.63 1760.8,-517.46 1756.76,-527.25 1763.75,-527.63\"/>\n<text text-anchor=\"middle\" x=\"1470.17\" y=\"-784.8\" font-family=\"Times,serif\" font-size=\"14.00\">a </text>\n</g>\n<!-- \\(St6_St26\\)&#45;&gt;\\(St0_St16\\) -->\n<g id=\"edge10\" class=\"edge\">\n<title>\\(St6_St26\\)&#45;&gt;\\(St0_St16\\)</title>\n<path fill=\"none\" stroke=\"black\" d=\"M464.51,-306.44C487.77,-336.76 519.33,-377.91 543.46,-409.37\"/>\n<polygon fill=\"black\" stroke=\"black\" points=\"540.88,-411.76 549.74,-417.56 546.43,-407.5 540.88,-411.76\"/>\n<text text-anchor=\"middle\" x=\"507.97\" y=\"-370.8\" font-family=\"Times,serif\" font-size=\"14.00\">b </text>\n</g>\n<!-- \\(St6_St35\\) -->\n<g id=\"node24\" class=\"node\">\n<title>\\(St6_St35\\)</title>\n<ellipse fill=\"none\" stroke=\"black\" cx=\"880.2\" cy=\"-218\" rx=\"48.97\" ry=\"48.97\"/>\n<ellipse fill=\"none\" stroke=\"black\" cx=\"880.2\" cy=\"-218\" rx=\"52.99\" ry=\"52.99\"/>\n<text text-anchor=\"middle\" x=\"880.2\" y=\"-214.3\" font-family=\"Times,serif\" font-size=\"14.00\">(St6_St35)</text>\n</g>\n<!-- \\(St6_St26\\)&#45;&gt;\\(St6_St35\\) -->\n<g id=\"edge23\" class=\"edge\">\n<title>\\(St6_St26\\)&#45;&gt;\\(St6_St35\\)</title>\n<path fill=\"none\" stroke=\"black\" d=\"M484.38,-259.56C567.07,-250.86 728.85,-233.83 817.49,-224.5\"/>\n<polygon fill=\"black\" stroke=\"black\" points=\"818.09,-227.95 827.67,-223.42 817.36,-220.99 818.09,-227.95\"/>\n<text text-anchor=\"middle\" x=\"652.47\" y=\"-246.8\" font-family=\"Times,serif\" font-size=\"14.00\">a </text>\n</g>\n<!-- \\(St6_St7\\) -->\n<g id=\"node20\" class=\"node\">\n<title>\\(St6_St7\\)</title>\n<ellipse fill=\"none\" stroke=\"black\" cx=\"1028.69\" cy=\"-431\" rx=\"44.38\" ry=\"44.38\"/>\n<ellipse fill=\"none\" stroke=\"black\" cx=\"1028.69\" cy=\"-431\" rx=\"48.39\" ry=\"48.39\"/>\n<text text-anchor=\"middle\" x=\"1028.69\" y=\"-427.3\" font-family=\"Times,serif\" font-size=\"14.00\">(St6_St7)</text>\n</g>\n<!-- \\(St6_St7\\)&#45;&gt;\\(St0_St1\\) -->\n<g id=\"edge4\" class=\"edge\">\n<title>\\(St6_St7\\)&#45;&gt;\\(St0_St1\\)</title>\n<path fill=\"none\" stroke=\"black\" d=\"M1068.01,-458.99C1096.41,-476.98 1136.85,-497 1176.19,-497 1176.19,-497 1176.19,-497 1398.92,-497 1509.14,-497 1637.78,-485.83 1708.41,-478.73\"/>\n<polygon fill=\"black\" stroke=\"black\" points=\"1708.8,-482.21 1718.4,-477.71 1708.09,-475.24 1708.8,-482.21\"/>\n<text text-anchor=\"middle\" x=\"1397.92\" y=\"-500.8\" font-family=\"Times,serif\" font-size=\"14.00\">b </text>\n</g>\n<!-- \\(St6_St7\\)&#45;&gt;\\(St6_St3\\) -->\n<g id=\"edge14\" class=\"edge\">\n<title>\\(St6_St7\\)&#45;&gt;\\(St6_St3\\)</title>\n<path fill=\"none\" stroke=\"black\" d=\"M1076.85,-427.78C1090.11,-426.88 1104.69,-425.88 1118.49,-424.94\"/>\n<polygon fill=\"black\" stroke=\"black\" points=\"1119.13,-428.4 1128.87,-424.23 1118.65,-421.42 1119.13,-428.4\"/>\n<text text-anchor=\"middle\" x=\"1100.94\" y=\"-430.8\" font-family=\"Times,serif\" font-size=\"14.00\">a </text>\n</g>\n<!-- \\(St6_St25\\)&#45;&gt;\\(St0_St1\\) -->\n<g id=\"edge27\" class=\"edge\">\n<title>\\(St6_St25\\)&#45;&gt;\\(St0_St1\\)</title>\n<path fill=\"none\" stroke=\"black\" d=\"M781.59,-82.55C810.35,-83.28 846.75,-84 879.2,-84 879.2,-84 879.2,-84 1619.66,-84 1690.17,-84 1735.97,-312.42 1753.52,-419.19\"/>\n<polygon fill=\"black\" stroke=\"black\" points=\"1750.08,-419.82 1755.13,-429.13 1756.99,-418.7 1750.08,-419.82\"/>\n<text text-anchor=\"middle\" x=\"1253.43\" y=\"-87.8\" font-family=\"Times,serif\" font-size=\"14.00\">b </text>\n</g>\n<!-- \\(St6_St25\\)&#45;&gt;\\(St6_St35\\) -->\n<g id=\"edge47\" class=\"edge\">\n<title>\\(St6_St25\\)&#45;&gt;\\(St6_St35\\)</title>\n<path fill=\"none\" stroke=\"black\" d=\"M768.21,-116.28C788.09,-134.5 812.48,-156.85 833.33,-175.96\"/>\n<polygon fill=\"black\" stroke=\"black\" points=\"831.1,-178.66 840.84,-182.84 835.83,-173.5 831.1,-178.66\"/>\n<text text-anchor=\"middle\" x=\"804.46\" y=\"-157.8\" font-family=\"Times,serif\" font-size=\"14.00\">a </text>\n</g>\n<!-- \\(St6_St36\\)&#45;&gt;\\(St0_St21\\) -->\n<g id=\"edge43\" class=\"edge\">\n<title>\\(St6_St36\\)&#45;&gt;\\(St0_St21\\)</title>\n<path fill=\"none\" stroke=\"black\" d=\"M921.23,-632.61C940.29,-648.61 963.16,-667.82 982.81,-684.31\"/>\n<polygon fill=\"black\" stroke=\"black\" points=\"980.82,-687.21 990.73,-690.96 985.32,-681.85 980.82,-687.21\"/>\n<text text-anchor=\"middle\" x=\"956.45\" y=\"-667.8\" font-family=\"Times,serif\" font-size=\"14.00\">b </text>\n</g>\n<!-- \\(St6_St36\\)&#45;&gt;\\(St6_St7\\) -->\n<g id=\"edge36\" class=\"edge\">\n<title>\\(St6_St36\\)&#45;&gt;\\(St6_St7\\)</title>\n<path fill=\"none\" stroke=\"black\" d=\"M915.55,-559.61C937.79,-534.1 966.78,-500.86 989.71,-474.56\"/>\n<polygon fill=\"black\" stroke=\"black\" points=\"992.38,-476.83 996.31,-466.99 987.1,-472.23 992.38,-476.83\"/>\n<text text-anchor=\"middle\" x=\"956.45\" y=\"-518.8\" font-family=\"Times,serif\" font-size=\"14.00\">a </text>\n</g>\n<!-- \\(St6_St12\\)&#45;&gt;\\(St0_St1\\) -->\n<g id=\"edge15\" class=\"edge\">\n<title>\\(St6_St12\\)&#45;&gt;\\(St0_St1\\)</title>\n<path fill=\"none\" stroke=\"black\" d=\"M770.82,-754.01C787.51,-765.37 807.54,-777.05 827.46,-784 1004.69,-845.86 1507.89,-913.21 1671.4,-821 1722.57,-792.15 1747.26,-617.56 1756.74,-527.16\"/>\n<polygon fill=\"black\" stroke=\"black\" points=\"1760.24,-527.41 1757.77,-517.1 1753.27,-526.69 1760.24,-527.41\"/>\n<text text-anchor=\"middle\" x=\"1253.43\" y=\"-863.8\" font-family=\"Times,serif\" font-size=\"14.00\">b </text>\n</g>\n<!-- \\(St6_St12\\)&#45;&gt;\\(St6_St31\\) -->\n<g id=\"edge29\" class=\"edge\">\n<title>\\(St6_St12\\)&#45;&gt;\\(St6_St31\\)</title>\n<path fill=\"none\" stroke=\"black\" d=\"M781.58,-722C793.06,-722 805.33,-722 817.17,-722\"/>\n<polygon fill=\"black\" stroke=\"black\" points=\"817.43,-725.5 827.43,-722 817.43,-718.5 817.43,-725.5\"/>\n<text text-anchor=\"middle\" x=\"804.46\" y=\"-725.8\" font-family=\"Times,serif\" font-size=\"14.00\">a </text>\n</g>\n<!-- \\(St6_St35\\)&#45;&gt;\\(St0_St1\\) -->\n<g id=\"edge19\" class=\"edge\">\n<title>\\(St6_St35\\)&#45;&gt;\\(St0_St1\\)</title>\n<path fill=\"none\" stroke=\"black\" d=\"M930.01,-200.29C958.17,-191.61 994.49,-183 1027.69,-183 1027.69,-183 1027.69,-183 1619.66,-183 1657.1,-183 1674.78,-179.71 1700.4,-207 1728.75,-237.19 1746.92,-350.14 1755.59,-418.78\"/>\n<polygon fill=\"black\" stroke=\"black\" points=\"1752.15,-419.49 1756.85,-428.98 1759.1,-418.63 1752.15,-419.49\"/>\n<text text-anchor=\"middle\" x=\"1325.68\" y=\"-186.8\" font-family=\"Times,serif\" font-size=\"14.00\">b </text>\n</g>\n<!-- \\(St6_St35\\)&#45;&gt;\\(St6_St7\\) -->\n<g id=\"edge40\" class=\"edge\">\n<title>\\(St6_St35\\)&#45;&gt;\\(St6_St7\\)</title>\n<path fill=\"none\" stroke=\"black\" d=\"M910.85,-261.1C935.15,-296.44 969.52,-346.42 994.7,-383.02\"/>\n<polygon fill=\"black\" stroke=\"black\" points=\"992.01,-385.3 1000.56,-391.55 997.78,-381.33 992.01,-385.3\"/>\n<text text-anchor=\"middle\" x=\"956.45\" y=\"-334.8\" font-family=\"Times,serif\" font-size=\"14.00\">a </text>\n</g>\n<!-- \\(St6_St21\\)&#45;&gt;\\(St0_St16\\) -->\n<g id=\"edge26\" class=\"edge\">\n<title>\\(St6_St21\\)&#45;&gt;\\(St0_St16\\)</title>\n<path fill=\"none\" stroke=\"black\" d=\"M1566.48,-601.71C1517.31,-592.89 1440.88,-579.47 1374.42,-569 1099.5,-525.69 769.79,-481.05 638.87,-463.62\"/>\n<polygon fill=\"black\" stroke=\"black\" points=\"639.05,-460.11 628.68,-462.26 638.13,-467.05 639.05,-460.11\"/>\n<text text-anchor=\"middle\" x=\"1100.94\" y=\"-531.8\" font-family=\"Times,serif\" font-size=\"14.00\">b </text>\n</g>\n<!-- \\(St6_St21\\)&#45;&gt;\\(St0_St1\\) -->\n<g id=\"edge11\" class=\"edge\">\n<title>\\(St6_St21\\)&#45;&gt;\\(St0_St1\\)</title>\n<path fill=\"none\" stroke=\"black\" d=\"M1661.06,-578.87C1674.05,-568.21 1688.18,-555.99 1700.4,-544 1709.57,-535.01 1718.9,-524.81 1727.42,-515.01\"/>\n<polygon fill=\"black\" stroke=\"black\" points=\"1730.21,-517.13 1734.06,-507.26 1724.89,-512.58 1730.21,-517.13\"/>\n<text text-anchor=\"middle\" x=\"1694.9\" y=\"-556.8\" font-family=\"Times,serif\" font-size=\"14.00\">a </text>\n</g>\n</g>\n</svg>\n",
            "text/plain": [
              "<graphviz.graphs.Digraph at 0x79acb56c3850>"
            ]
          },
          "metadata": {},
          "execution_count": 64
        }
      ]
    },
    {
      "cell_type": "code",
      "source": [
        "# Uncomment for final run\n",
        "dotObj_dfa(min_D_int).render('min_D_int')"
      ],
      "metadata": {
        "id": "fz72m4qBo5q8"
      },
      "execution_count": null,
      "outputs": []
    },
    {
      "cell_type": "markdown",
      "source": [
        "### STEP-5: Find out the NUMBER OF pairs of state(s) merged"
      ],
      "metadata": {
        "id": "ShAccbJKgonr"
      }
    },
    {
      "cell_type": "code",
      "source": [
        "merged_states = len(D_int[\"Q\"]) - len(min_D_int[\"Q\"])\n",
        "\n",
        "merged_states"
      ],
      "metadata": {
        "id": "6h4T4rI4gn89",
        "colab": {
          "base_uri": "https://localhost:8080/"
        },
        "outputId": "3d5e347e-3b5f-4a88-afab-a96a7b207b16"
      },
      "execution_count": 65,
      "outputs": [
        {
          "output_type": "execute_result",
          "data": {
            "text/plain": [
              "1"
            ]
          },
          "metadata": {},
          "execution_count": 65
        }
      ]
    },
    {
      "cell_type": "code",
      "source": [
        "len(min_D_int[\"Q\"])"
      ],
      "metadata": {
        "id": "k3xUoJ4_Ehf_",
        "colab": {
          "base_uri": "https://localhost:8080/"
        },
        "outputId": "e2c61215-46a6-4351-8e02-87d17c2d3581"
      },
      "execution_count": 67,
      "outputs": [
        {
          "output_type": "execute_result",
          "data": {
            "text/plain": [
              "24"
            ]
          },
          "metadata": {},
          "execution_count": 67
        }
      ]
    },
    {
      "cell_type": "code",
      "source": [
        "len(D_int[\"Q\"])"
      ],
      "metadata": {
        "id": "3QlrOgufEmk7",
        "colab": {
          "base_uri": "https://localhost:8080/"
        },
        "outputId": "873d945d-2a08-4a8c-a918-c82dc939a176"
      },
      "execution_count": 68,
      "outputs": [
        {
          "output_type": "execute_result",
          "data": {
            "text/plain": [
              "25"
            ]
          },
          "metadata": {},
          "execution_count": 68
        }
      ]
    },
    {
      "cell_type": "code",
      "source": [
        "[ q for q in D_int[\"Q\"] if q not in min_D_int[\"Q\"] ]"
      ],
      "metadata": {
        "colab": {
          "base_uri": "https://localhost:8080/"
        },
        "id": "d8hF7pieXaBI",
        "outputId": "046933ab-0c67-46cb-8d41-e2c2d477ea95"
      },
      "execution_count": 66,
      "outputs": [
        {
          "output_type": "execute_result",
          "data": {
            "text/plain": [
              "[('St6', 'St1')]"
            ]
          },
          "metadata": {},
          "execution_count": 66
        }
      ]
    },
    {
      "cell_type": "markdown",
      "source": [
        "# STEP-5 answer below\n",
        "\n",
        "... THESE STATE-PAIRS GOT MERGED...\n",
        "\n",
        "... USE AS MANY...\n",
        "\n",
        "FIRST PAIR : St6, St1"
      ],
      "metadata": {
        "id": "0nqhS5iHlhSr"
      }
    },
    {
      "cell_type": "markdown",
      "source": [
        "# STEP-6 BELOW"
      ],
      "metadata": {
        "id": "6Lm_DsDclwH5"
      }
    },
    {
      "cell_type": "markdown",
      "source": [
        "# The student generates numeric order strings in range 128 following outline in Overview_of_CS3100 in module 00_..."
      ],
      "metadata": {
        "id": "M-lAhNvGgyn_"
      }
    },
    {
      "cell_type": "code",
      "source": [
        "TestStrings = [nthnumeric(i, ['a','b']) for i in range(128)]"
      ],
      "metadata": {
        "id": "D9CteyE3FIyJ"
      },
      "execution_count": 69,
      "outputs": []
    },
    {
      "cell_type": "markdown",
      "source": [
        "# The student finds out accept/reject"
      ],
      "metadata": {
        "id": "9yN-tySwg8Qh"
      }
    },
    {
      "cell_type": "code",
      "source": [
        "\n",
        "for test in TestStrings:\n",
        "    if accepts_dfa(D_int, test):\n",
        "        print(\"DFA D_int accepts \", test)\n",
        "    else:\n",
        "        print(\"DFA D_int rejects \", test)"
      ],
      "metadata": {
        "id": "RE8fuDIpFakF",
        "colab": {
          "base_uri": "https://localhost:8080/"
        },
        "outputId": "6776e143-610e-4049-f1d8-19d246667a5f"
      },
      "execution_count": 70,
      "outputs": [
        {
          "output_type": "stream",
          "name": "stdout",
          "text": [
            "DFA D_int rejects  \n",
            "DFA D_int rejects  a\n",
            "DFA D_int accepts  b\n",
            "DFA D_int rejects  aa\n",
            "DFA D_int accepts  ab\n",
            "DFA D_int accepts  ba\n",
            "DFA D_int rejects  bb\n",
            "DFA D_int rejects  aaa\n",
            "DFA D_int accepts  aab\n",
            "DFA D_int accepts  aba\n",
            "DFA D_int rejects  abb\n",
            "DFA D_int accepts  baa\n",
            "DFA D_int rejects  bab\n",
            "DFA D_int rejects  bba\n",
            "DFA D_int accepts  bbb\n",
            "DFA D_int rejects  aaaa\n",
            "DFA D_int accepts  aaab\n",
            "DFA D_int accepts  aaba\n",
            "DFA D_int rejects  aabb\n",
            "DFA D_int accepts  abaa\n",
            "DFA D_int rejects  abab\n",
            "DFA D_int rejects  abba\n",
            "DFA D_int accepts  abbb\n",
            "DFA D_int accepts  baaa\n",
            "DFA D_int rejects  baab\n",
            "DFA D_int rejects  baba\n",
            "DFA D_int accepts  babb\n",
            "DFA D_int rejects  bbaa\n",
            "DFA D_int accepts  bbab\n",
            "DFA D_int accepts  bbba\n",
            "DFA D_int rejects  bbbb\n",
            "DFA D_int rejects  aaaaa\n",
            "DFA D_int rejects  aaaab\n",
            "DFA D_int accepts  aaaba\n",
            "DFA D_int rejects  aaabb\n",
            "DFA D_int accepts  aabaa\n",
            "DFA D_int rejects  aabab\n",
            "DFA D_int rejects  aabba\n",
            "DFA D_int rejects  aabbb\n",
            "DFA D_int accepts  abaaa\n",
            "DFA D_int rejects  abaab\n",
            "DFA D_int rejects  ababa\n",
            "DFA D_int rejects  ababb\n",
            "DFA D_int rejects  abbaa\n",
            "DFA D_int rejects  abbab\n",
            "DFA D_int accepts  abbba\n",
            "DFA D_int rejects  abbbb\n",
            "DFA D_int rejects  baaaa\n",
            "DFA D_int rejects  baaab\n",
            "DFA D_int rejects  baaba\n",
            "DFA D_int rejects  baabb\n",
            "DFA D_int rejects  babaa\n",
            "DFA D_int rejects  babab\n",
            "DFA D_int rejects  babba\n",
            "DFA D_int rejects  babbb\n",
            "DFA D_int rejects  bbaaa\n",
            "DFA D_int rejects  bbaab\n",
            "DFA D_int rejects  bbaba\n",
            "DFA D_int rejects  bbabb\n",
            "DFA D_int rejects  bbbaa\n",
            "DFA D_int rejects  bbbab\n",
            "DFA D_int rejects  bbbba\n",
            "DFA D_int rejects  bbbbb\n",
            "DFA D_int rejects  aaaaaa\n",
            "DFA D_int rejects  aaaaab\n",
            "DFA D_int rejects  aaaaba\n",
            "DFA D_int rejects  aaaabb\n",
            "DFA D_int accepts  aaabaa\n",
            "DFA D_int rejects  aaabab\n",
            "DFA D_int rejects  aaabba\n",
            "DFA D_int rejects  aaabbb\n",
            "DFA D_int accepts  aabaaa\n",
            "DFA D_int rejects  aabaab\n",
            "DFA D_int rejects  aababa\n",
            "DFA D_int rejects  aababb\n",
            "DFA D_int rejects  aabbaa\n",
            "DFA D_int rejects  aabbab\n",
            "DFA D_int rejects  aabbba\n",
            "DFA D_int rejects  aabbbb\n",
            "DFA D_int rejects  abaaaa\n",
            "DFA D_int rejects  abaaab\n",
            "DFA D_int rejects  abaaba\n",
            "DFA D_int rejects  abaabb\n",
            "DFA D_int rejects  ababaa\n",
            "DFA D_int rejects  ababab\n",
            "DFA D_int rejects  ababba\n",
            "DFA D_int rejects  ababbb\n",
            "DFA D_int rejects  abbaaa\n",
            "DFA D_int rejects  abbaab\n",
            "DFA D_int rejects  abbaba\n",
            "DFA D_int rejects  abbabb\n",
            "DFA D_int rejects  abbbaa\n",
            "DFA D_int rejects  abbbab\n",
            "DFA D_int rejects  abbbba\n",
            "DFA D_int rejects  abbbbb\n",
            "DFA D_int rejects  baaaaa\n",
            "DFA D_int rejects  baaaab\n",
            "DFA D_int rejects  baaaba\n",
            "DFA D_int rejects  baaabb\n",
            "DFA D_int rejects  baabaa\n",
            "DFA D_int rejects  baabab\n",
            "DFA D_int rejects  baabba\n",
            "DFA D_int rejects  baabbb\n",
            "DFA D_int rejects  babaaa\n",
            "DFA D_int rejects  babaab\n",
            "DFA D_int rejects  bababa\n",
            "DFA D_int rejects  bababb\n",
            "DFA D_int rejects  babbaa\n",
            "DFA D_int rejects  babbab\n",
            "DFA D_int rejects  babbba\n",
            "DFA D_int rejects  babbbb\n",
            "DFA D_int rejects  bbaaaa\n",
            "DFA D_int rejects  bbaaab\n",
            "DFA D_int rejects  bbaaba\n",
            "DFA D_int rejects  bbaabb\n",
            "DFA D_int rejects  bbabaa\n",
            "DFA D_int rejects  bbabab\n",
            "DFA D_int rejects  bbabba\n",
            "DFA D_int accepts  bbabbb\n",
            "DFA D_int rejects  bbbaaa\n",
            "DFA D_int rejects  bbbaab\n",
            "DFA D_int rejects  bbbaba\n",
            "DFA D_int accepts  bbbabb\n",
            "DFA D_int rejects  bbbbaa\n",
            "DFA D_int rejects  bbbbab\n",
            "DFA D_int rejects  bbbbba\n",
            "DFA D_int rejects  bbbbbb\n",
            "DFA D_int rejects  aaaaaaa\n"
          ]
        }
      ]
    },
    {
      "cell_type": "markdown",
      "source": [
        "# The student explains below that this answer is correct - one sentence after \"why\". IN STEP-6\n",
        "\n",
        "DFA D_int accepts  bbabbb - There are no substrings of bbabbb of length 4 that contain an even number of b's; \"bbab\", \"babb\", and \"abbb\" all contain 3. There are also 5 b's in the string, which fulfills the odd-number requirement.\n",
        "\n",
        "DFA D_int rejects  bbbaaa - This contains \"bbaa\" which is invalid.\n",
        "\n",
        "DFA D_int rejects  bbbaab - This contains \"bbaa\" which is invalid, and it has 4 b's, which is even.\n",
        "\n",
        "DFA D_int rejects  bbbaba - This contains \"baba\" which is invalid, and an even number of b's overall.\n",
        "\n",
        "DFA D_int accepts  bbbabb - The substrings are \"bbba\", \"bbab\", and \"babb\", which are all valid. The string has 5 b's, which is odd.\n",
        "\n",
        "DFA D_int rejects  bbbbaa - This contains \"bbbb\" which is invalid. The string also has an even number of b's.\n"
      ],
      "metadata": {
        "id": "jBqEHFd1hJvi"
      }
    },
    {
      "cell_type": "markdown",
      "source": [
        "Note: The DFA D_int also rejects the string \"babbba\".  \n",
        "This is because while it does meet the first condition of having only odd-bs-in-substrings, there are 4 b's total which misses the odd b requirement."
      ],
      "metadata": {
        "id": "JD-lFO1ZbPw-"
      }
    },
    {
      "cell_type": "markdown",
      "metadata": {
        "id": "mfNMpgnKAfvj"
      },
      "source": [
        "**-------------------------------------------------------------------------------------**"
      ]
    }
  ],
  "metadata": {
    "kernelspec": {
      "display_name": "Python 3",
      "language": "python",
      "name": "python3"
    },
    "language_info": {
      "codemirror_mode": {
        "name": "ipython",
        "version": 3
      },
      "file_extension": ".py",
      "mimetype": "text/x-python",
      "name": "python",
      "nbconvert_exporter": "python",
      "pygments_lexer": "ipython3",
      "version": "3.8.5"
    },
    "toc": {
      "colors": {
        "hover_highlight": "#DAA520",
        "running_highlight": "#FF0000",
        "selected_highlight": "#FFD700"
      },
      "moveMenuLeft": true,
      "nav_menu": {
        "height": "318px",
        "width": "252px"
      },
      "navigate_menu": true,
      "number_sections": true,
      "sideBar": true,
      "threshold": 4,
      "toc_cell": false,
      "toc_section_display": "block",
      "toc_window_display": false,
      "widenNotebook": false
    },
    "colab": {
      "provenance": []
    }
  },
  "nbformat": 4,
  "nbformat_minor": 0
}